{
 "cells": [
  {
   "cell_type": "code",
   "execution_count": 18,
   "id": "9819133f",
   "metadata": {
    "ExecuteTime": {
     "end_time": "2021-09-26T09:11:16.686611Z",
     "start_time": "2021-09-26T09:11:16.679240Z"
    }
   },
   "outputs": [],
   "source": [
    "import pandas as pd\n",
    "import numpy as np\n",
    "import dill\n",
    "import torch.nn as nn\n",
    "import torch\n",
    "import seaborn as sns; sns.set()\n",
    "import matplotlib.pyplot as plt\n",
    "import os\n",
    "import Graphs\n",
    "import networkx as nx\n",
    "import torch.optim as optim\n",
    "import random\n",
    "import copy\n",
    "import sys\n",
    "from torch.nn import functional as F\n",
    "from collections import defaultdict\n",
    "from torch.utils.data import TensorDataset, DataLoader\n",
    "from torch.optim.optimizer import required\n",
    "from torchinfo import summary\n",
    "from sklearn.preprocessing import MinMaxScaler, StandardScaler\n",
    "from statsmodels.graphics.tsaplots import plot_acf\n",
    "sns.set_theme(style=\"whitegrid\")"
   ]
  },
  {
   "cell_type": "code",
   "execution_count": 19,
   "id": "6fe72d42",
   "metadata": {
    "ExecuteTime": {
     "end_time": "2021-09-26T09:11:17.272769Z",
     "start_time": "2021-09-26T09:11:17.267952Z"
    }
   },
   "outputs": [],
   "source": [
    "def seed_everything(seed=0):\n",
    "    random.seed(seed)\n",
    "    os.environ['PYTHONHASHSEED'] = str(seed)\n",
    "    np.random.seed(seed)\n",
    "    torch.manual_seed(seed)\n",
    "    torch.cuda.manual_seed(seed)\n",
    "    torch.backends.cudnn.deterministic = True"
   ]
  },
  {
   "cell_type": "code",
   "execution_count": 20,
   "id": "0ec6e263",
   "metadata": {
    "ExecuteTime": {
     "end_time": "2021-09-26T09:11:17.691537Z",
     "start_time": "2021-09-26T09:11:17.686636Z"
    }
   },
   "outputs": [],
   "source": [
    "seed_everything(seed=np.random.randint(0,1000,1)[0])"
   ]
  },
  {
   "cell_type": "code",
   "execution_count": 21,
   "id": "6e6c0c40",
   "metadata": {
    "ExecuteTime": {
     "end_time": "2021-09-26T09:11:18.154698Z",
     "start_time": "2021-09-26T09:11:18.149897Z"
    }
   },
   "outputs": [
    {
     "data": {
      "text/plain": [
       "array([220])"
      ]
     },
     "execution_count": 21,
     "metadata": {},
     "output_type": "execute_result"
    }
   ],
   "source": [
    "L = 360\n",
    "opt_index = np.random.randint(low=0,high=L, size=1)\n",
    "opt_index"
   ]
  },
  {
   "cell_type": "code",
   "execution_count": null,
   "id": "ab277aa3",
   "metadata": {},
   "outputs": [],
   "source": []
  }
 ],
 "metadata": {
  "kernelspec": {
   "display_name": "Python 3 (ipykernel)",
   "language": "python",
   "name": "python3"
  },
  "language_info": {
   "codemirror_mode": {
    "name": "ipython",
    "version": 3
   },
   "file_extension": ".py",
   "mimetype": "text/x-python",
   "name": "python",
   "nbconvert_exporter": "python",
   "pygments_lexer": "ipython3",
   "version": "3.8.10"
  },
  "toc": {
   "base_numbering": 1,
   "nav_menu": {},
   "number_sections": true,
   "sideBar": true,
   "skip_h1_title": false,
   "title_cell": "Table of Contents",
   "title_sidebar": "Contents",
   "toc_cell": false,
   "toc_position": {},
   "toc_section_display": true,
   "toc_window_display": false
  }
 },
 "nbformat": 4,
 "nbformat_minor": 5
}
