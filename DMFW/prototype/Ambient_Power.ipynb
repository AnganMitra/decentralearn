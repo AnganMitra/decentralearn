{
 "cells": [
  {
   "cell_type": "code",
   "execution_count": 779,
   "metadata": {
    "ExecuteTime": {
     "end_time": "2021-08-21T10:22:28.409504Z",
     "start_time": "2021-08-21T10:22:28.406521Z"
    }
   },
   "outputs": [],
   "source": [
    "import pandas as pd\n",
    "import numpy as np\n",
    "import dill\n",
    "import torch.nn as nn\n",
    "import torch\n",
    "import seaborn as sns; sns.set()\n",
    "import matplotlib.pyplot as plt\n",
    "import os\n",
    "import Graphs\n",
    "import networkx as nx\n",
    "import torch.optim as optim\n",
    "import random\n",
    "import copy\n",
    "from collections import defaultdict\n",
    "from torch.utils.data import TensorDataset, DataLoader\n",
    "from torch.optim.optimizer import required\n",
    "from torchinfo import summary\n",
    "from sklearn.preprocessing import MinMaxScaler, StandardScaler\n",
    "from statsmodels.graphics.tsaplots import plot_acf\n",
    "sns.set_theme(style=\"whitegrid\")"
   ]
  },
  {
   "cell_type": "code",
   "execution_count": 2,
   "metadata": {
    "ExecuteTime": {
     "end_time": "2021-08-20T07:47:48.449906Z",
     "start_time": "2021-08-20T07:47:48.445405Z"
    }
   },
   "outputs": [],
   "source": [
    "bkdatafolder = \"/Users/Slaton/Documents/DMFW/BangkokDataAnalysis/gitdecenlearn/BKDataCleaned/\"\n",
    "dataset_name = os.listdir(bkdatafolder)"
   ]
  },
  {
   "cell_type": "code",
   "execution_count": 665,
   "metadata": {
    "ExecuteTime": {
     "end_time": "2021-08-21T07:50:30.556728Z",
     "start_time": "2021-08-21T07:50:30.525573Z"
    },
    "code_folding": [
     0,
     9,
     15,
     23,
     76,
     82
    ]
   },
   "outputs": [],
   "source": [
    "def createDictFloor(floor_name):\n",
    "    getdict = {}\n",
    "    floors = [floor for floor in dataset_name if floor_name in floor]\n",
    "    for name in floors:\n",
    "        floorname = name.split(\".\")[0]\n",
    "        getdict[floorname] = pd.read_csv(bkdatafolder+name, index_col=0, parse_dates=[\"Date\"])\n",
    "        getdict[floorname] = getdict[floorname].sort_index()\n",
    "    return getdict\n",
    "\n",
    "def Missing_values(data):\n",
    "    total = data.isnull().sum().sort_values(ascending=False)\n",
    "    percent = (data.isnull().sum()/data.isnull().count()).sort_values(ascending=False)\n",
    "    missing_data = pd.concat([total,percent], axis=1, keys=['Total', 'Pourcentage'])\n",
    "    print (missing_data[(percent>0)],'\\n' )\n",
    "\n",
    "def seed_everything(seed=0):\n",
    "    random.seed(seed)\n",
    "    os.environ['PYTHONHASHSEED'] = str(seed)\n",
    "    np.random.seed(seed)\n",
    "    torch.manual_seed(seed)\n",
    "    torch.cuda.manual_seed(seed)\n",
    "    torch.backends.cudnn.deterministic = True\n",
    "    \n",
    "def createPlot(date1, date2, features, data):\n",
    "    for floor in data.keys():\n",
    "        data[floor].resample(\"5T\").mean()[features][date1:date2].plot(figsize=(20,7))\n",
    "        \n",
    "\n",
    "def createDTFeat(date1, date2, datadict, features, resample_method=\"sum\" ,scale=True):\n",
    "    resample_move = {}\n",
    "    index_nan = {}\n",
    "    index_small = {}\n",
    "    floors = list(datadict.keys())\n",
    "    dates = []\n",
    "    scalers = {}\n",
    "    for data in datadict.keys():\n",
    "        if resample_method == \"sum\":\n",
    "            resample_move[data] = floor_dict[data][date1:date2].resample(\n",
    "                \"5min\").sum()\n",
    "            \n",
    "        elif resample_method == \"max\":\n",
    "            resample_move[data] = floor_dict[data][date1:date2].resample(\n",
    "                \"5min\").max().bfill()\n",
    "        elif resample_method == \"mean\":\n",
    "            resample_move[data] = floor_dict[data][date1:date2].resample(\n",
    "                \"5min\").mean().bfill()\n",
    "            \n",
    "        cols = resample_move[data].columns\n",
    "        idx = resample_move[data].index\n",
    "\n",
    "        if scale:\n",
    "            scaler = MinMaxScaler(feature_range=(0.2,1))\n",
    "            #scaler = StandardScaler()\n",
    "            scaler.fit(resample_move[data])\n",
    "            resample_move[data] = pd.DataFrame(scaler.transform(\n",
    "                resample_move[data]),\n",
    "                                               columns=cols,\n",
    "                                               index=idx)\n",
    "            scalers[data] = scaler\n",
    "\n",
    "        resample_move[data][\"weekday\"] = resample_move[data].index.weekday\n",
    "        resample_move[data][\"date\"] = resample_move[data].index.date\n",
    "        resample_move[data][\"time\"] = resample_move[data].index.time\n",
    "        resample_move[data][\"hour\"] = resample_move[data].index.hour\n",
    "        resample_move[data][\"minute\"] = resample_move[data].index.minute\n",
    "        \n",
    "        if scale:\n",
    "            for columns in [\"weekday\",\"hour\",\"minute\"]:\n",
    "                maxi = resample_move[data][columns].max()\n",
    "                mini = resample_move[data][columns].min()\n",
    "                resample_move[data][columns] = (resample_move[data][columns] - mini)/(maxi-mini)\n",
    "\n",
    "        nan = np.where(pd.isnull(resample_move[data][features]))[0]\n",
    "        index_nan[data] = np.unique(resample_move[data].iloc[nan][\"time\"])\n",
    "\n",
    "    return resample_move, scalers, index_nan\n",
    "\n",
    "def getInfoTimeShape(datadict):\n",
    "    for floor in datadict.keys():\n",
    "        data = datadict[floor]\n",
    "        print(\"Floor : {} , shape :{} , TimeMin {} , TimeMax {}\".format(floor,data.shape, data.index.min(), data.index.max()))\n",
    "        Missing_values(data)\n",
    "        \n",
    "def cleanNan(data,idx_nan):\n",
    "    index=[]\n",
    "    for k,v in idx_nan.items():\n",
    "        for ele in v:\n",
    "            index.append(ele)\n",
    "    mynan = set(index)\n",
    "    newdata = data.copy()\n",
    "    remain_date = []\n",
    "    for floor in idx_nan.keys():\n",
    "        datafloor = data[floor]\n",
    "        todropnan = datafloor[datafloor[\"date\"].isin(list(mynan))].index\n",
    "        datafloor = datafloor.drop(todropnan)\n",
    "        newdata[floor] = datafloor\n",
    "        for date in datafloor[\"date\"]:\n",
    "            remain_date.append(str(date))\n",
    "    remain_date = sorted(set(remain_date))\n",
    "    return data, remain_date"
   ]
  },
  {
   "cell_type": "code",
   "execution_count": 666,
   "metadata": {
    "ExecuteTime": {
     "end_time": "2021-08-21T07:50:31.914959Z",
     "start_time": "2021-08-21T07:50:30.967284Z"
    }
   },
   "outputs": [
    {
     "name": "stdout",
     "output_type": "stream",
     "text": [
      "Floor7Z4 Start: 2019-03-06 14:46:00 End: 2019-12-31 23:59:00 Count:416243\n",
      "\n",
      "Floor7Z5 Start: 2019-03-06 14:55:00 End: 2019-12-31 23:59:00 Count:407698\n",
      "\n",
      "Floor7Z2 Start: 2019-03-06 14:48:00 End: 2019-12-31 23:59:00 Count:424701\n",
      "\n",
      "Floor7Z1 Start: 2019-03-06 14:50:00 End: 2019-12-31 23:59:00 Count:424099\n",
      "\n"
     ]
    }
   ],
   "source": [
    "date1 = \"2019-03-07\"\n",
    "date2 = \"2019-12-31\"\n",
    "floor = 7\n",
    "floor_dict = createDictFloor(f'Floor{floor}')\n",
    "for data in floor_dict.keys():\n",
    "    zone = floor_dict[data]\n",
    "    print(\"{} Start: {} End: {} Count:{}\".format(data,zone.index.min(),zone.index.max(), zone.shape[0]))\n",
    "    print(\"\")"
   ]
  },
  {
   "cell_type": "code",
   "execution_count": 667,
   "metadata": {
    "ExecuteTime": {
     "end_time": "2021-08-21T07:50:31.917912Z",
     "start_time": "2021-08-21T07:50:31.915926Z"
    }
   },
   "outputs": [
    {
     "data": {
      "text/plain": [
       "Index(['ACPower', 'lightPower', 'appPower', 'temperature', 'humidity', 'lux'], dtype='object')"
      ]
     },
     "execution_count": 667,
     "metadata": {},
     "output_type": "execute_result"
    }
   ],
   "source": [
    "floor_dict[\"Floor7Z1\"].columns"
   ]
  },
  {
   "cell_type": "code",
   "execution_count": 668,
   "metadata": {
    "ExecuteTime": {
     "end_time": "2021-08-21T07:50:32.669933Z",
     "start_time": "2021-08-21T07:50:31.918438Z"
    }
   },
   "outputs": [],
   "source": [
    "featureX = [\"temperature\"]\n",
    "featureY = \"ACPower\"\n",
    "resample_methodX = \"max\"\n",
    "resample_methodY = \"sum\"\n",
    "resampleX,scalersX, index_nanX = createDTFeat(date1, date2, floor_dict, featureX,resample_method=resample_methodX, scale=True)\n",
    "resampleY,scalersY, index_nanY = createDTFeat(date1, date2, floor_dict, featureY,resample_method=resample_methodY, scale=True)\n",
    "cleanedDataX, remain_date = cleanNan(resampleX, index_nanX)\n",
    "cleanedDataY, remain_date = cleanNan(resampleY, index_nanY)"
   ]
  },
  {
   "cell_type": "code",
   "execution_count": 669,
   "metadata": {
    "ExecuteTime": {
     "end_time": "2021-08-21T07:50:32.673574Z",
     "start_time": "2021-08-21T07:50:32.671272Z"
    }
   },
   "outputs": [
    {
     "data": {
      "text/plain": [
       "array([201.74,  18.  ,   9.58, 167.21, 425.81, 329.  ])"
      ]
     },
     "execution_count": 669,
     "metadata": {},
     "output_type": "execute_result"
    }
   ],
   "source": [
    "scalersY[\"Floor7Z1\"].data_max_"
   ]
  },
  {
   "cell_type": "markdown",
   "metadata": {},
   "source": [
    "# Create Slice"
   ]
  },
  {
   "cell_type": "code",
   "execution_count": 670,
   "metadata": {
    "ExecuteTime": {
     "end_time": "2021-08-21T07:50:32.680770Z",
     "start_time": "2021-08-21T07:50:32.674288Z"
    }
   },
   "outputs": [],
   "source": [
    "def rolling_window(series, window_size):\n",
    "    return np.array([series[i : (i + window_size)] for i in range(0, series.shape[0] - window_size + 1)])\n",
    "\n",
    "def to_timeseries_input(series, lookback, predictions):\n",
    "    inputs = rolling_window(series[:-predictions], lookback)\n",
    "    outputs = rolling_window(series[lookback:], predictions)\n",
    "    return inputs, outputs\n",
    "\n",
    "def createDataByDate(datadict, features, dates):\n",
    "    databyDate = defaultdict(lambda : defaultdict(dict))\n",
    "    for date in dates:\n",
    "        for floor in datadict.keys():\n",
    "            databyDate[date][floor] = np.asarray(datadict[floor][date][features])\n",
    "    return databyDate\n",
    "\n",
    "def splitDate(dates,cutoff):\n",
    "    train_date = [x for x in dates if x <= cutoff]\n",
    "    test_date = sorted(list(set(dates) - set(train_date)))\n",
    "    return train_date, test_date\n",
    "\n",
    "def getInfoDataByDate(data, dates):\n",
    "    for date in dates:\n",
    "        print(\"Date : {}\".format(date))\n",
    "        for floor in data[date]:\n",
    "            print(\"{} shape : {}\".format(floor,data[date][floor].shape))\n",
    "            \n",
    "def LoaderByZone(data,zone_name,dates, lookback, lookahead, batch_size, shuffle=False):\n",
    "    loaderZ = {}\n",
    "    for i,date in enumerate(dates):\n",
    "        haruharu = data[date][zone_name]\n",
    "        trainx, trainy = to_timeseries_input(haruharu, lookback, lookahead,)\n",
    "        xshape = torch.tensor(trainx, dtype=torch.float).unsqueeze(-1)\n",
    "        yshape = torch.tensor(trainy, dtype=torch.float)\n",
    "        tensorwrap = TensorDataset(xshape,yshape)\n",
    "        loaderxy = DataLoader(tensorwrap,batch_size = batch_size, shuffle=shuffle, drop_last=True)\n",
    "        loaderZ[date] = loaderxy\n",
    "    return loaderZ\n",
    "\n",
    "def LoaderByZoneXY(dataX, dataY, zone_name,dates, seq_len, batch_size, shuffle=False, noisy_y=False):\n",
    "    loaderZ = {}\n",
    "    for i,date in enumerate(dates):\n",
    "        trainx = rolling_window(dataX[date][zone_name], seq_len)\n",
    "        trainy = rolling_window(dataY[date][zone_name], seq_len)\n",
    "        if noisy_y:\n",
    "            trainy += np.random.normal(0,0.01, size=trainy.shape)\n",
    "        xshape = torch.tensor(trainx, dtype=torch.float)\n",
    "        yshape = torch.tensor(trainy, dtype=torch.float)\n",
    "        tensorwrap = TensorDataset(xshape,yshape)\n",
    "        loaderxy = DataLoader(tensorwrap,batch_size = batch_size, shuffle=shuffle, drop_last=True)\n",
    "        loaderZ[date] = loaderxy\n",
    "    return loaderZ"
   ]
  },
  {
   "cell_type": "code",
   "execution_count": 671,
   "metadata": {
    "ExecuteTime": {
     "end_time": "2021-08-21T07:50:32.757759Z",
     "start_time": "2021-08-21T07:50:32.681507Z"
    }
   },
   "outputs": [
    {
     "name": "stdout",
     "output_type": "stream",
     "text": [
      "Floor7Z4 Start: 2019-03-07 00:00:00 End: 2019-12-31 23:55:00 Count:86400\n",
      "Floor7Z4 Dates: 300\n",
      "Floor7Z5 Start: 2019-03-07 00:00:00 End: 2019-12-31 23:55:00 Count:86400\n",
      "Floor7Z5 Dates: 300\n",
      "Floor7Z2 Start: 2019-03-07 00:00:00 End: 2019-12-31 23:55:00 Count:86400\n",
      "Floor7Z2 Dates: 300\n",
      "Floor7Z1 Start: 2019-03-07 00:00:00 End: 2019-12-31 23:55:00 Count:86400\n",
      "Floor7Z1 Dates: 300\n"
     ]
    }
   ],
   "source": [
    "for data in cleanedDataX.keys():\n",
    "    zone = cleanedDataX[data]\n",
    "    print(\"{} Start: {} End: {} Count:{}\".format(data,zone.index.min(),zone.index.max(), zone.shape[0]))\n",
    "    print(\"{} Dates: {}\".format(data,len(np.unique(zone[\"date\"]))))"
   ]
  },
  {
   "cell_type": "code",
   "execution_count": 686,
   "metadata": {
    "ExecuteTime": {
     "end_time": "2021-08-21T07:52:20.282824Z",
     "start_time": "2021-08-21T07:52:19.602608Z"
    }
   },
   "outputs": [
    {
     "name": "stderr",
     "output_type": "stream",
     "text": [
      "/var/folders/wm/ymsmhgr90dd6gyprvtgvcr080000gn/T/ipykernel_4942/2762762773.py:13: FutureWarning: Indexing a DataFrame with a datetimelike index using a single string to slice the rows, like `frame[string]`, is deprecated and will be removed in a future version. Use `frame.loc[string]` instead.\n",
      "  databyDate[date][floor] = np.asarray(datadict[floor][date][features])\n"
     ]
    }
   ],
   "source": [
    "cutting_date = \"2019-05-08\"\n",
    "train_date, test_date = splitDate(remain_date, cutting_date)\n",
    "databyDateX = createDataByDate(cleanedDataX, featureX, remain_date)\n",
    "databyDateY = createDataByDate(cleanedDataY, featureY, remain_date)\n",
    "#getInfoDataByDate(databyDateX, train_date)"
   ]
  },
  {
   "cell_type": "code",
   "execution_count": 687,
   "metadata": {
    "ExecuteTime": {
     "end_time": "2021-08-21T07:52:20.285152Z",
     "start_time": "2021-08-21T07:52:20.283645Z"
    }
   },
   "outputs": [],
   "source": [
    "def getRatio(ratio, lookbackinit):\n",
    "    lookahead = int(ratio*lookbackinit)\n",
    "    return lookahead"
   ]
  },
  {
   "cell_type": "code",
   "execution_count": 1062,
   "metadata": {
    "ExecuteTime": {
     "end_time": "2021-08-22T07:47:04.128362Z",
     "start_time": "2021-08-22T07:47:03.797441Z"
    }
   },
   "outputs": [],
   "source": [
    "batch_size = 32\n",
    "seq_len = 37\n",
    "nb_zone = 5\n",
    "trainloader = []\n",
    "testloader = []\n",
    "for zone in range(1,nb_zone+1):\n",
    "    if zone != 3:\n",
    "        zoneID = f\"Floor{floor}Z{zone}\"\n",
    "        loaderZtrain = LoaderByZoneXY(databyDateX, databyDateY, zoneID, train_date,seq_len,batch_size, shuffle=True,noisy_y=False)\n",
    "        loaderZtest = LoaderByZoneXY(databyDateX, databyDateY, zoneID, test_date,seq_len,batch_size, shuffle=False)\n",
    "        trainloader.append(loaderZtrain)\n",
    "        testloader.append(loaderZtest)\n",
    "zone_no=len(trainloader)"
   ]
  },
  {
   "cell_type": "code",
   "execution_count": 1063,
   "metadata": {
    "ExecuteTime": {
     "end_time": "2021-08-22T07:47:04.552703Z",
     "start_time": "2021-08-22T07:47:04.549189Z"
    }
   },
   "outputs": [],
   "source": [
    "#trainloader = [loaderZ1train, loaderZ2train, loaderZ4train, loaderZ5train]"
   ]
  },
  {
   "cell_type": "code",
   "execution_count": 1064,
   "metadata": {
    "ExecuteTime": {
     "end_time": "2021-08-22T07:47:04.874873Z",
     "start_time": "2021-08-22T07:47:04.869274Z"
    }
   },
   "outputs": [
    {
     "data": {
      "text/plain": [
       "(torch.Size([32, 37, 1]), torch.Size([32, 37]))"
      ]
     },
     "execution_count": 1064,
     "metadata": {},
     "output_type": "execute_result"
    }
   ],
   "source": [
    "x,y = iter(loaderZtrain[\"2019-03-07\"]).next()\n",
    "x.shape, y.shape"
   ]
  },
  {
   "cell_type": "code",
   "execution_count": 1065,
   "metadata": {
    "ExecuteTime": {
     "end_time": "2021-08-22T07:47:05.141868Z",
     "start_time": "2021-08-22T07:47:05.137057Z"
    }
   },
   "outputs": [
    {
     "data": {
      "text/plain": [
       "441"
      ]
     },
     "execution_count": 1065,
     "metadata": {},
     "output_type": "execute_result"
    }
   ],
   "source": [
    "nb_iterations = len(train_date)*len(trainloader[0][\"2019-03-08\"])\n",
    "nb_iterations"
   ]
  },
  {
   "cell_type": "markdown",
   "metadata": {},
   "source": [
    "# Algorithm"
   ]
  },
  {
   "cell_type": "code",
   "execution_count": 1066,
   "metadata": {
    "ExecuteTime": {
     "end_time": "2021-08-22T07:47:06.026473Z",
     "start_time": "2021-08-22T07:47:06.007934Z"
    },
    "code_folding": [
     0,
     14
    ]
   },
   "outputs": [],
   "source": [
    "def proj_2shape(x,s=8):\n",
    "    shape = x.shape\n",
    "    if torch.linalg.norm(x,ord=1)==s and torch.all(x>0):\n",
    "        return x\n",
    "    u,_ = torch.sort(torch.abs(x),dim=0,descending=True)\n",
    "    cumsum = torch.cumsum(u, dim=0)\n",
    "    arange = torch.arange(1, shape[0]+1)\n",
    "    rep_arange = arange.unsqueeze(1).repeat(1,shape[1])\n",
    "    rho = torch.count_nonzero((u*rep_arange > (cumsum - s)), dim=0)\n",
    "    theta = (cumsum[rho-1, torch.arange(0,shape[1])] - s)/rho\n",
    "    proj = (torch.abs(x)-theta).clamp(min=0)\n",
    "    proj*= torch.sign(x)\n",
    "    return proj\n",
    "\n",
    "def proj_l1(x, s=8):\n",
    "    shape = x.shape\n",
    "    if len(shape) == 4:\n",
    "        proj = torch.zeros_like(x)\n",
    "        for first_dim in range(x.shape[0]):\n",
    "            for second_dim in range(x.shape[1]):\n",
    "                inner_tensor = x[first_dim][second_dim]\n",
    "                inner_proj = proj_2shape(inner_tensor,s=s)\n",
    "                proj[first_dim][second_dim] = inner_proj\n",
    "                \n",
    "    elif len(shape) == 3:\n",
    "        proj = torch.zeros_like(x)\n",
    "        for first_dim in range(x.shape[0]):\n",
    "            inner_tensor = x[first_dim]\n",
    "            inner_proj = proj_2shape(inner_tensor,s=s)\n",
    "            proj[first_dim] = inner_proj\n",
    "        \n",
    "    elif len(shape) == 2:\n",
    "        proj = proj_2shape(x,s=s)\n",
    "        \n",
    "    elif len(shape) == 1:\n",
    "        u,_ = torch.sort(torch.abs(x),descending=True)\n",
    "        cumsum = torch.cumsum(u,dim=0)\n",
    "        arange = torch.arange(1,shape[0]+1)\n",
    "        rho = torch.count_nonzero((u*arange > (cumsum - s)))\n",
    "        theta = (cumsum[rho-1] - s)/rho\n",
    "        proj = (torch.abs(x)-theta).clamp(min=0)\n",
    "        proj*= torch.sign(x)\n",
    "    return proj"
   ]
  },
  {
   "cell_type": "code",
   "execution_count": 1067,
   "metadata": {
    "ExecuteTime": {
     "end_time": "2021-08-22T07:47:06.437757Z",
     "start_time": "2021-08-22T07:47:06.420175Z"
    },
    "code_folding": []
   },
   "outputs": [],
   "source": [
    "def lmo(x,radius):\n",
    "    \"\"\"Returns v with norm(v, self.p) <= r minimizing v*x\"\"\"\n",
    "    shape = x.shape\n",
    "    if len(shape) == 4:\n",
    "        v = torch.zeros_like(x)\n",
    "        for first_dim in range(shape[0]):\n",
    "            for second_dim in range(shape[1]):\n",
    "                inner_x = x[first_dim][second_dim]\n",
    "                rows, cols = x[first_dim][second_dim].shape\n",
    "                v[first_dim][second_dim] = torch.zeros_like(inner_x)\n",
    "                maxIdx = torch.argmax(torch.abs(inner_x),0)\n",
    "                for col in range(cols):\n",
    "                    v[first_dim][second_dim][maxIdx[col],col] = -radius*torch.sign(inner_x[maxIdx[col],col])\n",
    "    elif len(shape) == 3:\n",
    "        v = torch.zeros_like(x)\n",
    "        for first_dim in range(shape[0]):\n",
    "            inner_x = x[first_dim]\n",
    "            rows, cols = x[first_dim].shape\n",
    "            v[first_dim] = torch.zeros_like(inner_x)\n",
    "            maxIdx = torch.argmax(torch.abs(inner_x),0)\n",
    "            for col in range(cols):\n",
    "                v[first_dim][maxIdx[col],col] = -radius*torch.sign(inner_x[maxIdx[col],col])\n",
    "                    \n",
    "    elif len(shape)==2:\n",
    "        rows, cols = x.shape\n",
    "        v = torch.zeros_like(x)\n",
    "        maxIdx = torch.argmax(torch.abs(x),0)\n",
    "        for col in range(cols):\n",
    "            v[maxIdx[col],col] = -radius*torch.sign(x[maxIdx[col],col])\n",
    "                \n",
    "    else : \n",
    "        v = torch.zeros_like(x)\n",
    "        maxIdx = torch.argmax(torch.abs(x))\n",
    "        v.view(-1)[maxIdx] = -radius * torch.sign(x.view(-1)[maxIdx])\n",
    "    return v\n",
    "\n",
    "def simpleLMO(x,radius,p=1):\n",
    "    tolerance = 1e-10\n",
    "    if p == 1:\n",
    "        v = torch.zeros_like(x)\n",
    "        maxIdx = torch.argmax(torch.abs(x))\n",
    "        v.view(-1)[maxIdx] = -radius * torch.sign(x.view(-1)[maxIdx])\n",
    "        return v\n",
    "    elif p == 2:\n",
    "        x_norm = float(torch.norm(x, p=2))\n",
    "        if x_norm > tolerance:\n",
    "            return -radius * x.div(x_norm)\n",
    "        else:\n",
    "            return torch.zeros_like(x)\n",
    "    elif p == float('inf'):\n",
    "        return torch.full_like(x, fill_value=radius).masked_fill_(x > 0, -radius)"
   ]
  },
  {
   "cell_type": "code",
   "execution_count": 1068,
   "metadata": {
    "ExecuteTime": {
     "end_time": "2021-08-22T07:47:06.662597Z",
     "start_time": "2021-08-22T07:47:06.635958Z"
    },
    "code_folding": []
   },
   "outputs": [],
   "source": [
    "class DMFW(optim.Optimizer):\n",
    "    def __init__(self, params, eta_coef=required, eta_exp=required, L=required, matrix_line=required, reg_coef=required,radius=required):\n",
    "        if eta_coef is not required and eta_coef <=0.:\n",
    "            raise ValueError(\"Invalid eta : {}\".format(eta_coef))\n",
    "        if eta_exp is not required and (eta_exp == 0.5):\n",
    "            raise ValueError(\"Invalid eta_exp : {}\".format(eta_exp))\n",
    "        defaults = dict(eta_coef=eta_coef, eta_exp=eta_exp,L=L, matrix_line=matrix_line,reg_coef = reg_coef,radius=radius)\n",
    "        super(DMFW,self).__init__(params,defaults)\n",
    "\n",
    "        for group in self.param_groups:\n",
    "            self.eta_coef = group[\"eta_coef\"]\n",
    "            self.eta_exp = group[\"eta_exp\"]\n",
    "            self.reg_coef = group[\"reg_coef\"]\n",
    "            self.A = group[\"matrix_line\"]\n",
    "            self.L = group[\"L\"]\n",
    "            self.radius = group[\"radius\"]\n",
    "        self.num_layers = len(self.param_groups[0]['params'])\n",
    "        self.dim = [k.shape for k in self.param_groups[0]['params']]\n",
    "        self.G = [[torch.rand(k) for k in self.dim] for l in range(self.L)]\n",
    "        \n",
    "    @torch.no_grad()\n",
    "    def initValue(self,closure):\n",
    "        self.w_dict = defaultdict(dict)\n",
    "        for group in self.param_groups:\n",
    "            if closure is not None:\n",
    "                with torch.enable_grad():\n",
    "                    closure()\n",
    "            for k,weight in enumerate(group[\"params\"]):\n",
    "                if weight.grad is None:\n",
    "                    raise ValueError(\"Gradient is None\")\n",
    "                self.w_dict[k][\"g\"] = weight.grad.detach().clone()\n",
    "                self.w_dict[k][\"w\"] = weight.detach().clone()\n",
    "                \n",
    "    def neighborsAverage(self, neighbors):\n",
    "        for group in self.param_groups:\n",
    "            for k,weight in enumerate(group[\"params\"]):\n",
    "                weighted_tmp = torch.zeros(self.dim[k])\n",
    "                weighted_grad_tmp = torch.zeros(self.dim[k])\n",
    "                for j in range(len(neighbors)):\n",
    "                    weighted_tmp += self.A[j]*neighbors[j].w_dict[k][\"w\"]\n",
    "                    weighted_grad_tmp += self.A[j]*neighbors[j].w_dict[k][\"g\"]\n",
    "                self.w_dict[k][\"y\"] = weighted_tmp\n",
    "                self.w_dict[k][\"ds\"] = weighted_grad_tmp\n",
    "                \n",
    "\n",
    "    def step(self, l, closure):\n",
    "        if l == 0:\n",
    "            self.init_gap = 0\n",
    "        eta = min(self.eta_coef/(l+1)**self.eta_exp, 1)\n",
    "        for group in self.param_groups:\n",
    "            if closure is not None:\n",
    "                with torch.enable_grad():\n",
    "                    closure()\n",
    "            self.gap = 0\n",
    "            for k,weight in enumerate(group[\"params\"]):\n",
    "                a = lmo(weight.grad.data,self.radius)\n",
    "                self.gap += torch.sum(torch.mul(weight.grad.data, weight.data - a))\n",
    "                v = proj_l1(self.G[l][k], s=self.radius)\n",
    "                #v = lmo(self.G[l][k] - 0.5 + torch.rand_like(self.G[l][k]), s= self.radius)\n",
    "                if weight.grad is None:\n",
    "                    raise ValueError(\"Grad is None\")\n",
    "                self.w_dict[k][\"grad_old\"] = weight.grad.detach().clone()\n",
    "                weight.data = self.w_dict[k]['y']*(1-eta) + eta*v\n",
    "                #print(\"weight {}\".format(torch.linalg.norm(weight.data,ord=1,dim=0)))\n",
    "                self.w_dict[k][\"w\"] = weight.detach().clone()\n",
    "                \n",
    "            self.init_gap += self.gap\n",
    "            self.init_gap /= (l+1)\n",
    "            \n",
    "            \n",
    "            with torch.enable_grad():\n",
    "                closure()\n",
    "            for k,weight in enumerate(group[\"params\"]):\n",
    "                self.G[l][k] -= 0.5*self.w_dict[k][\"ds\"]*self.reg_coef\n",
    "                #self.G[l][k] += self.w_dict[k][\"ds\"]*self.reg_coef\n",
    "                if weight.grad is None :\n",
    "                    raise ValueError(\"Grad is none\")\n",
    "                weight.grad.add_(-self.w_dict[k][\"grad_old\"])\n",
    "                self.w_dict[k][\"g\"] = weight.grad.detach().clone() + self.w_dict[k][\"ds\"]\n",
    "                "
   ]
  },
  {
   "cell_type": "code",
   "execution_count": 1069,
   "metadata": {
    "ExecuteTime": {
     "end_time": "2021-08-22T07:47:07.090596Z",
     "start_time": "2021-08-22T07:47:07.054646Z"
    },
    "code_folding": []
   },
   "outputs": [],
   "source": [
    "class Trainer:\n",
    "    def __init__(self, graph, loaders, model, model_param, loss,\n",
    "                 num_iterations):\n",
    "        self.graph = graph\n",
    "        self.num_nodes = graph.number_of_nodes()\n",
    "        self.model = model\n",
    "        self.param = model_param\n",
    "        self.A = torch.tensor(nx.adjacency_matrix(graph).toarray())\n",
    "        self.dataloader = loaders\n",
    "        self.num_iterations = num_iterations\n",
    "        self.loss = loss\n",
    "        self.obj_values = np.ndarray((self.num_iterations + 1, 4),\n",
    "                                     dtype='float')\n",
    "\n",
    "        self.optimizers = [0.] * self.num_nodes\n",
    "        self.models = [0.] * self.num_nodes\n",
    "        self.losses = [0.] * self.num_nodes\n",
    "        #self.gaps = [0.]*self.num_nodes\n",
    "\n",
    "    def reset(self):\n",
    "        self.optimizers = [0.] * self.num_nodes\n",
    "        self.models = [0.] * self.num_nodes\n",
    "        self.losses = [0.] * self.num_nodes\n",
    "        self.gaps = [0.] * self.num_nodes\n",
    "        self.best_models = [0.]*self.num_nodes\n",
    "\n",
    "        self.obj_values = np.ndarray((self.num_iterations + 1, 4),\n",
    "                                     dtype='float')\n",
    "        \n",
    "    def __nodeInit(self, data, label):\n",
    "        nodewrap = TensorDataset(data, label)\n",
    "        nodes = DataLoader(nodewrap, batch_size=data.size(0), shuffle=False)\n",
    "        return nodes\n",
    "\n",
    "    def weight_reset(self, layer):\n",
    "        if isinstance(layer, nn.BatchNorm1d) or isinstance(layer, nn.Linear) or isinstance(layer,nn.Conv1d):\n",
    "            layer.reset_parameters()\n",
    "            \n",
    "    def initModelWeight(self, model):\n",
    "        for name,param in model.named_parameters():\n",
    "            if 'bias' in name:\n",
    "                nn.init.constant_(param,0.)\n",
    "            elif 'weight' in name:\n",
    "                if not 'batch' in name:\n",
    "                    nn.init.xavier_normal_(param)\n",
    "                else:\n",
    "                    nn.init.uniform_(param)\n",
    "\n",
    "    def saveCheckPts(self, t, path):\n",
    "        check_pts = {}\n",
    "        for i in range(self.num_nodes):\n",
    "            ckp_i = {\n",
    "                \"t\": t,\n",
    "                \"weight\": [param for param in self.models[i].parameters()],\n",
    "                \"optimizer_weight\": self.optimizers[i].w_dict,\n",
    "                \"oracles\": self.optimizers[i].G,\n",
    "                \"loss\": self.losses[i]\n",
    "            }  #,\n",
    "            #\"avg_loss\": self.avg_loss[i]}\n",
    "            check_pts[i] = ckp_i\n",
    "        torch.save(check_pts, path + \"checkpts_models\" + \"_\" + str(t) + \".tar\")\n",
    "    \n",
    "        \n",
    "    def plotPrediction(self, true, pred,date,path_to_save):\n",
    "        fig = plt.figure(figsize=(5,3))\n",
    "        plt.suptitle(\"{}\".format(date))\n",
    "        plt.plot(true)\n",
    "        plt.plot(pred)\n",
    "        #plt.show()\n",
    "        fig.savefig(os.path.join(path_to_save,date))\n",
    "        plt.close()\n",
    "\n",
    "        \n",
    "\n",
    "    def train(self, optimizer, L, eta_coef, eta_exp, reg_coef, radius, path_figure_date):\n",
    "        seed_everything()\n",
    "        self.reset()\n",
    "        \n",
    "        z1, z2, z4, z5 = self.dataloader\n",
    "\n",
    "        for i in range(self.num_nodes):\n",
    "            self.models[i] = self.model(*self.param)\n",
    "            self.optimizers[i] = optimizer(self.models[i].parameters(),\n",
    "                                           eta_coef=eta_coef,\n",
    "                                           eta_exp=eta_exp,\n",
    "                                           L=L,\n",
    "                                           matrix_line=self.A[i],\n",
    "                                           reg_coef=reg_coef,\n",
    "                                           radius=radius)\n",
    "            self.best_models[i] = copy.deepcopy(self.models[i])\n",
    "\n",
    "        self.final_gap = [0.] * self.num_nodes\n",
    "        \n",
    "        t = 0\n",
    "        \n",
    "        for date in z1.keys():\n",
    "            '''\n",
    "            for i,loader in enumerate(self.dataloader):\n",
    "                truez, predz = ModelPrediction(self.models[i], date, loader,seq_len)\n",
    "                path = path_figure_date+\"/Model_\"+str(i)+\"/\"\n",
    "                if not os.path.exists(path):\n",
    "                    os.makedirs(path)\n",
    "                self.plotPrediction(truez, predz,date,path_to_save=path)'''\n",
    "            \n",
    "            for (couple1, couple2, couple4,couple5) in zip(z1[date],z2[date], z4[date], z5[date]):\n",
    "                \n",
    "                datazones=[]\n",
    "                for i,couple in enumerate([couple1, couple2, couple4, couple5]):\n",
    "                    datazones.append(self.__nodeInit(*couple))\n",
    "                \n",
    "                opt_index = np.random.randint(low=0,high=L, size=1)\n",
    "\n",
    "                for i in range(self.num_nodes):\n",
    "                    self.initModelWeight(self.models[i])\n",
    "                    self.models[i].train()\n",
    "                    def closure():\n",
    "                        self.optimizers[i].zero_grad(set_to_none=True)\n",
    "                        x, y = iter(datazones[i]).next()\n",
    "                        output = self.models[i](x)\n",
    "                        loss = self.loss(output,y)\n",
    "                        loss.backward()\n",
    "\n",
    "                    self.optimizers[i].initValue(closure)\n",
    "                \n",
    "                for l in range(L):\n",
    "                    #print(\"--------------------------\")\n",
    "                    if l==opt_index:\n",
    "                        for i in range(self.num_nodes):\n",
    "                            self.best_models[i] = copy.deepcopy(self.models[i])\n",
    "                    \n",
    "                    for i in range(self.num_nodes):\n",
    "                        self.optimizers[i].neighborsAverage(self.optimizers)\n",
    "                    for i in range(self.num_nodes):\n",
    "                        \n",
    "                        def closure():\n",
    "                            self.optimizers[i].zero_grad(set_to_none=True)\n",
    "                            x, y = iter(datazones[i]).next()\n",
    "                            #print(x.max(), x.min())\n",
    "                            output = self.models[i](x)\n",
    "                            loss = self.loss(output, y)\n",
    "                            loss.backward()\n",
    "                            \n",
    "                        self.optimizers[i].step(l, closure)\n",
    "\n",
    "                self.gaps_off = [0.] * self.num_nodes\n",
    "                for i in range(self.num_nodes):\n",
    "                    with torch.no_grad():\n",
    "                        self.best_models[i].eval()\n",
    "                        x, y = iter(datazones[i]).next()\n",
    "                        outputs = self.best_models[i](x)\n",
    "                        curr_loss = self.loss(outputs, y)\n",
    "                    self.final_gap[i] += self.optimizers[i].init_gap\n",
    "                    self.final_gap[i] /= (t + 1)\n",
    "                    self.gaps_off[i] = self.optimizers[i].init_gap\n",
    "                    self.losses[i] = curr_loss.detach().numpy()\n",
    "\n",
    "                loss = np.mean(self.losses)\n",
    "                gap = np.max(self.final_gap)  #.detach().numpy(\n",
    "                local_gap = np.max(self.gaps_off)\n",
    "                if t % 1 == 0:\n",
    "                    print(\"t_{} : loss : {:.5f} gap : {} local_gap {}\".format(\n",
    "                        t, loss, gap, local_gap))\n",
    "                    \n",
    "                self.obj_values[t, :] = [t, loss, gap, local_gap]\n",
    "                    \n",
    "                t+=1\n",
    "        try:\n",
    "            self.results = pd.DataFrame(self.obj_values, columns=[\"Iteration\",\"Loss\",\"Gap\",\"Local_gap\"])\n",
    "        except:\n",
    "            print(\"Can't save logs as csv, skipping\")\n",
    "            pass\n",
    "        \n",
    "        return self.obj_values"
   ]
  },
  {
   "cell_type": "code",
   "execution_count": 1070,
   "metadata": {
    "ExecuteTime": {
     "end_time": "2021-08-22T07:47:07.504090Z",
     "start_time": "2021-08-22T07:47:07.487305Z"
    },
    "code_folding": [
     0,
     16,
     32
    ]
   },
   "outputs": [],
   "source": [
    "class Encoder(nn.Module):\n",
    "    def __init__(self, input_dim, hid_dim, n_layers=1):\n",
    "        super(Encoder,self).__init__()\n",
    "        self.input_dim = input_dim\n",
    "        self.hid_dim = hid_dim\n",
    "        self.n_layers = n_layers\n",
    "        self.lstm = nn.LSTM(input_dim, hid_dim, n_layers, batch_first=False, bias=False)\n",
    "        \n",
    "    def forward(self, seq):\n",
    "        outputs, self.hidden = self.lstm(seq.view(seq.shape[1],seq.shape[0],self.input_dim))\n",
    "        return outputs, self.hidden\n",
    "    \n",
    "    def init_hidden(self, batch_size):\n",
    "        return (torch.zeros(self.n_layers, batch_size, self.hid_dim),\n",
    "                torch.zeros(self.n_layers, batch_size, self.hid_dim))\n",
    "    \n",
    "class Decoder(nn.Module):\n",
    "    def __init__(self, input_dim, hid_dim, output_dim, n_layers=1):\n",
    "        super(Decoder,self).__init__()\n",
    "        self.input_dim = input_dim\n",
    "        self.output_dim = output_dim\n",
    "        self.hid_dim = hid_dim\n",
    "        self.n_layers = n_layers\n",
    "        \n",
    "        self.lstm = nn.LSTM(input_dim, hid_dim, n_layers, batch_first = False, bias=False)\n",
    "        self.fc = nn.Linear(hid_dim, output_dim)\n",
    "        \n",
    "    def forward(self, x, encoder_hidden):\n",
    "        lstm_out, self.hidden = self.lstm(x.unsqueeze(0), encoder_hidden)\n",
    "        output = self.fc(lstm_out.squeeze(0))\n",
    "        return output, self.hidden\n",
    "    \n",
    "class Seq2Seq(nn.Module):\n",
    "    def __init__(self, input_dim, hid_dim, output_dim, ts_out, forcing = 1):\n",
    "        super(Seq2Seq,self).__init__()\n",
    "        self.output_dim = output_dim\n",
    "        self.ts_out = ts_out\n",
    "        self.encoder = Encoder(input_dim, hid_dim)\n",
    "        self.decoder = Decoder(input_dim,hid_dim,output_dim)\n",
    "        self.forcing = forcing\n",
    "\n",
    "        \n",
    "    def forward(self, source, y=None):\n",
    "        batch_size = source.shape[0]\n",
    "        target_len = self.ts_out\n",
    "        outputs = torch.zeros(target_len, batch_size,self.output_dim)\n",
    "        encoder_hidden = self.encoder.init_hidden(batch_size)\n",
    "        encoder_output, encoder_hidden = self.encoder(source)\n",
    "        \n",
    "        decoder_input = source[:,-1,:]\n",
    "        decoder_hidden = encoder_hidden\n",
    "        \n",
    "        for t in range(target_len):\n",
    "            decoder_output, decoder_hidden = self.decoder(decoder_input, decoder_hidden)\n",
    "            outputs[t] = decoder_output\n",
    "            if (y is not None) and (t>1) and (torch.rand(1) < self.forcing):\n",
    "                decoder_input = y[:,t].unsqueeze(1)\n",
    "            else :\n",
    "                decoder_input = decoder_output\n",
    "        #print(outputs.shape)\n",
    "        return outputs.squeeze().permute(1,0)"
   ]
  },
  {
   "cell_type": "code",
   "execution_count": 1071,
   "metadata": {
    "ExecuteTime": {
     "end_time": "2021-08-22T07:47:07.880349Z",
     "start_time": "2021-08-22T07:47:07.870282Z"
    },
    "code_folding": [
     0
    ]
   },
   "outputs": [],
   "source": [
    "class LSTM(nn.Module):\n",
    "    def __init__(self, input_size, output_size, time_step_in, time_step_out):\n",
    "        super(LSTM, self).__init__()\n",
    "        self.input_size = input_size\n",
    "        self.output_size = output_size\n",
    "        self.time_step_in = time_step_in\n",
    "        self.time_step_out = time_step_out\n",
    "        self.num_layers = 1\n",
    "        \n",
    "        self.encoder = nn.LSTM(self.input_size, self.output_size,\n",
    "                               num_layers=self.num_layers, batch_first=True, bias=True)\n",
    "        \n",
    "        self.batch = nn.BatchNorm1d(self.output_size)\n",
    "        self.linear2 = nn.Linear(self.num_layers*self.output_size, self.time_step_out)\n",
    "        \n",
    "    def forward(self,x):\n",
    "        out_en, (h_en,_) = self.encoder(x)\n",
    "        h_en = h_en.view(-1, self.num_layers*self.output_size)\n",
    "        h_en = self.batch(h_en)\n",
    "        out = nn.LeakyReLU()(h_en)\n",
    "        #out = torch.sigmoid(self.linear(out))\n",
    "        out = self.linear2(out)\n",
    "        return out"
   ]
  },
  {
   "cell_type": "code",
   "execution_count": 1072,
   "metadata": {
    "ExecuteTime": {
     "end_time": "2021-08-22T07:47:08.182838Z",
     "start_time": "2021-08-22T07:47:08.173001Z"
    },
    "code_folding": []
   },
   "outputs": [],
   "source": [
    "class CNN1D(nn.Module):\n",
    "    def __init__(self,output_chan, output_dim,input_dim,kernel_size):\n",
    "        super(CNN1D, self).__init__()\n",
    "        \n",
    "        self.output_chan = output_chan\n",
    "        self.output_dim = output_dim\n",
    "        self.input_dim = input_dim\n",
    "        \n",
    "        self.conv1d = nn.Conv1d(in_channels=1, out_channels=output_chan, kernel_size=kernel_size, stride=1, \n",
    "                                padding=int(np.floor(kernel_size/2)))\n",
    "        \n",
    "        self.maxpool = nn.MaxPool1d(2)\n",
    "        self.batchnorm = nn.BatchNorm1d(output_chan)\n",
    "        self.fc1 = nn.Linear(output_chan*int((input_dim/2)), output_dim, bias=True)\n",
    "        \n",
    "    def forward(self, x):\n",
    "        #inputs = x.unsqueeze(1).squeeze(-1)\n",
    "        inputs = x.permute(0,2,1)\n",
    "        #print(inputs.shape)\n",
    "        out = self.conv1d(inputs)\n",
    "        out = self.batchnorm(out)\n",
    "        #print(out.shape)\n",
    "        out = self.maxpool(out)\n",
    "        #print(out.shape)\n",
    "        out = nn.LeakyReLU()(out)\n",
    "        \n",
    "        out = out.view(-1, out.shape[1]*out.shape[2])\n",
    "        \n",
    "        out = self.fc1(out)\n",
    "        return out"
   ]
  },
  {
   "cell_type": "code",
   "execution_count": 1073,
   "metadata": {
    "ExecuteTime": {
     "end_time": "2021-08-22T07:47:08.835562Z",
     "start_time": "2021-08-22T07:47:08.828170Z"
    },
    "code_folding": [
     0
    ]
   },
   "outputs": [],
   "source": [
    "class Linear(nn.Module):\n",
    "    def __init__(self, nb_units, input_dim, output_dim):\n",
    "        super(Linear, self).__init__()\n",
    "        \n",
    "        self.nb_units = nb_units\n",
    "        self.input_dim = input_dim\n",
    "        self.output_dim = output_dim\n",
    "        self.nb_units2 = 16\n",
    "    \n",
    "        self.fc1 = nn.Linear(input_dim, nb_units)\n",
    "        #self.fc2 = nn.Linear(nb_units, self.nb_units2)\n",
    "        self.fc3 = nn.Linear(nb_units, output_dim)\n",
    "        \n",
    "        self.batch1 = nn.BatchNorm1d(nb_units)\n",
    "        #self.batch2 = nn.BatchNorm1d(self.nb_units2)\n",
    "        self.drop = nn.Dropout(0.5)\n",
    "        \n",
    "    def forward(self, x):\n",
    "        inputs = x.squeeze(-1)\n",
    "        out = self.fc1(inputs)\n",
    "        out = self.batch1(out)\n",
    "        out = nn.ReLU()(out)\n",
    "        \n",
    "        out = self.fc3(out)\n",
    "        return out"
   ]
  },
  {
   "cell_type": "code",
   "execution_count": 1074,
   "metadata": {
    "ExecuteTime": {
     "end_time": "2021-08-22T07:47:09.261940Z",
     "start_time": "2021-08-22T07:47:09.256924Z"
    }
   },
   "outputs": [],
   "source": [
    "complet_graph, complet = Graphs.completegraph(4)\n",
    "cycle_graph, cycle = Graphs.cycle_graph(4)\n",
    "grid_graph, grid = Graphs.gridgraph(2,2)\n",
    "grid_graph_line, line = Graphs.gridgraph(4,1)"
   ]
  },
  {
   "cell_type": "code",
   "execution_count": 1075,
   "metadata": {
    "ExecuteTime": {
     "end_time": "2021-08-22T07:47:09.766688Z",
     "start_time": "2021-08-22T07:47:09.760970Z"
    }
   },
   "outputs": [],
   "source": [
    "loss_fn = nn.SmoothL1Loss()\n",
    "#loss_fn = nn.MSELoss()\n",
    "num_iters_base = nb_iterations\n",
    "eta_coef_DMFW = 1\n",
    "eta_exp_DMFW = 0.85\n",
    "rho_coef_DMFW = 4e-0\n",
    "rho_exp_DMFW = 1/2\n",
    "reg_coef_DMFW = 10\n",
    "L_DMFW = nb_iterations #or nb_iteration to get a better result"
   ]
  },
  {
   "cell_type": "code",
   "execution_count": 1076,
   "metadata": {
    "ExecuteTime": {
     "end_time": "2021-08-22T07:47:10.839075Z",
     "start_time": "2021-08-22T07:47:10.832782Z"
    }
   },
   "outputs": [],
   "source": [
    "trainXMFW = Trainer(cycle_graph,trainloader,CNN1D, (8,seq_len, seq_len, 5), loss_fn,num_iters_base)"
   ]
  },
  {
   "cell_type": "code",
   "execution_count": 1115,
   "metadata": {
    "ExecuteTime": {
     "end_time": "2021-08-22T09:03:25.549448Z",
     "start_time": "2021-08-22T09:03:25.545108Z"
    }
   },
   "outputs": [],
   "source": [
    "path_log = \"/Users/Slaton/Documents/DMFW/BangkokDataAnalysis/gitdecenlearn/Analysis/temp-to-ac/cycle/baseline/\"\n",
    "if not os.path.exists(path_log):\n",
    "    os.makedirs(path_log)"
   ]
  },
  {
   "cell_type": "code",
   "execution_count": 1078,
   "metadata": {
    "ExecuteTime": {
     "end_time": "2021-08-22T08:39:53.674845Z",
     "start_time": "2021-08-22T07:47:14.452972Z"
    },
    "scrolled": true
   },
   "outputs": [
    {
     "name": "stdout",
     "output_type": "stream",
     "text": [
      "t_0 : loss : 0.20485 gap : 0.00321556837297976 local_gap 0.00321556837297976\n",
      "t_1 : loss : 0.07704 gap : 0.00177444564178586 local_gap 0.0005287626408971846\n",
      "t_2 : loss : 0.03165 gap : 0.0010963130043819547 local_gap 0.0017206687480211258\n",
      "t_3 : loss : 0.04013 gap : 0.0004029901756439358 local_gap 0.0005156476981937885\n",
      "t_4 : loss : 0.03406 gap : 0.00036137824645265937 local_gap 0.0014039011439308524\n",
      "t_5 : loss : 0.03141 gap : 0.000250656419666484 local_gap 0.0011425603879615664\n",
      "t_6 : loss : 0.02853 gap : 0.00012123353371862322 local_gap 0.0005979783018119633\n",
      "t_7 : loss : 0.02654 gap : 0.00014346471289172769 local_gap 0.0010264841839671135\n",
      "t_8 : loss : 0.02991 gap : 0.00013937441690359265 local_gap 0.0011109050828963518\n",
      "t_9 : loss : 0.03423 gap : 5.2750758186448365e-05 local_gap 0.00038813313585706055\n",
      "t_10 : loss : 0.03122 gap : 0.00014109426410868764 local_gap 0.0014992861542850733\n",
      "t_11 : loss : 0.03449 gap : 3.485389242996462e-05 local_gap 0.00037207870627753437\n",
      "t_12 : loss : 0.02891 gap : 0.00013658529496751726 local_gap 0.0017550349002704024\n",
      "t_13 : loss : 0.02192 gap : 2.8513068173197098e-05 local_gap 0.0002625976630952209\n",
      "t_14 : loss : 0.03184 gap : 0.00010290704813087359 local_gap 0.001515092677436769\n",
      "t_15 : loss : 0.01263 gap : 1.631887244002428e-05 local_gap 0.00016000858158804476\n",
      "t_16 : loss : 0.00650 gap : 7.427348919009091e-06 local_gap 0.0001112929530791007\n",
      "t_17 : loss : 0.00135 gap : 4.996032203052891e-06 local_gap 8.310545672429726e-05\n",
      "t_18 : loss : 0.00021 gap : 4.168516170466319e-06 local_gap 7.472857396351174e-05\n",
      "t_19 : loss : 0.00138 gap : 2.1717896743211895e-06 local_gap 3.974108039983548e-05\n",
      "t_20 : loss : 0.00016 gap : 1.9258739030192373e-06 local_gap 3.840154386125505e-05\n",
      "t_21 : loss : 0.00008 gap : 1.4168243751555565e-06 local_gap 2.955133641080465e-05\n",
      "t_22 : loss : 0.00016 gap : 1.4349263892654562e-06 local_gap 3.164479858241975e-05\n",
      "t_23 : loss : 0.00009 gap : 1.2406583209667588e-06 local_gap 2.8559292331920005e-05\n",
      "t_24 : loss : 0.00007 gap : 9.940226846083533e-07 local_gap 2.3755150323268026e-05\n",
      "t_25 : loss : 0.00043 gap : 1.0510709671507357e-06 local_gap 2.6333822461310774e-05\n",
      "t_26 : loss : 0.00006 gap : 6.946181656530825e-07 local_gap 1.807735679903999e-05\n",
      "t_27 : loss : 0.00044 gap : 6.83416885749466e-07 local_gap 1.8669226847123355e-05\n",
      "t_28 : loss : 0.06906 gap : 1.7023221516865306e-05 local_gap 0.00049331143964082\n",
      "t_29 : loss : 0.03312 gap : 4.109656947548501e-05 local_gap 0.001221595797687769\n",
      "t_30 : loss : 0.02253 gap : 2.058002610283438e-05 local_gap 0.0005968842306174338\n",
      "t_31 : loss : 0.02545 gap : 9.844288797467016e-06 local_gap 0.00029443722451105714\n",
      "t_32 : loss : 0.02442 gap : 1.3619241144624539e-05 local_gap 0.0004395906871650368\n",
      "t_33 : loss : 0.02817 gap : 3.453432509559207e-05 local_gap 0.001160547835752368\n",
      "t_34 : loss : 0.02286 gap : 8.041471119213384e-06 local_gap 0.00024691715952940285\n",
      "t_35 : loss : 0.02324 gap : 2.033532473433297e-05 local_gap 0.0007240302511490881\n",
      "t_36 : loss : 0.02161 gap : 1.535479532321915e-05 local_gap 0.000547792122233659\n",
      "t_37 : loss : 0.02769 gap : 2.1451865904964507e-05 local_gap 0.0007998161017894745\n",
      "t_38 : loss : 0.02301 gap : 2.16196094697807e-05 local_gap 0.0008217128925025463\n",
      "t_39 : loss : 0.02455 gap : 8.985573913378175e-06 local_gap 0.00033780335797928274\n",
      "t_40 : loss : 0.02112 gap : 1.8443954104441218e-05 local_gap 0.000747216516174376\n",
      "t_41 : loss : 0.02227 gap : 9.985248652810697e-06 local_gap 0.00040093649295158684\n",
      "t_42 : loss : 0.01845 gap : 2.3671758754062466e-05 local_gap 0.0010079003404825926\n",
      "t_43 : loss : 0.02376 gap : 6.885260063427268e-06 local_gap 0.0002792796876747161\n",
      "t_44 : loss : 0.02257 gap : 1.769016671460122e-05 local_gap 0.0007891722489148378\n",
      "t_45 : loss : 0.01885 gap : 8.21249977889238e-06 local_gap 0.0003600848140195012\n",
      "t_46 : loss : 0.02270 gap : 8.167832675098907e-06 local_gap 0.00037666509160771966\n",
      "t_47 : loss : 0.02117 gap : 7.896457645983901e-06 local_gap 0.00037086213706061244\n",
      "t_48 : loss : 0.01884 gap : 6.777552243875107e-06 local_gap 0.00032740490860305727\n",
      "t_49 : loss : 0.02066 gap : 1.6896030501811765e-05 local_gap 0.00083802395965904\n",
      "t_50 : loss : 0.01740 gap : 1.0379010745964479e-05 local_gap 0.0005124334711581469\n",
      "t_51 : loss : 0.01866 gap : 8.787364095041994e-06 local_gap 0.00045539147686213255\n",
      "t_52 : loss : 0.01879 gap : 7.344600817305036e-06 local_gap 0.00038053118623793125\n",
      "t_53 : loss : 0.01814 gap : 9.976614819606766e-06 local_gap 0.0005373156163841486\n",
      "t_54 : loss : 0.01788 gap : 1.3518856576411054e-05 local_gap 0.000739924784284085\n",
      "t_55 : loss : 0.02192 gap : 9.696054803498555e-06 local_gap 0.0005294602015055716\n",
      "t_56 : loss : 0.01828 gap : 1.591442196513526e-05 local_gap 0.0008974259835667908\n",
      "t_57 : loss : 0.01780 gap : 9.724490155349486e-06 local_gap 0.0005481059779413044\n",
      "t_58 : loss : 0.01680 gap : 1.1081957381975371e-05 local_gap 0.0006441110162995756\n",
      "t_59 : loss : 0.01935 gap : 9.182553185382858e-06 local_gap 0.0005398712237365544\n",
      "t_60 : loss : 0.02006 gap : 8.812102350930218e-06 local_gap 0.0005283557111397386\n",
      "t_61 : loss : 0.01572 gap : 9.821871572057717e-06 local_gap 0.0006001439178362489\n",
      "t_62 : loss : 0.01514 gap : 6.240805305424146e-06 local_gap 0.0003833488735835999\n",
      "t_63 : loss : 0.01193 gap : 1.0512508197280113e-05 local_gap 0.0006665597320534289\n",
      "t_64 : loss : 0.00056 gap : 1.2576837207234348e-06 local_gap 7.12369364919141e-05\n",
      "t_65 : loss : 0.00042 gap : 7.198510729722329e-07 local_gap 4.633143907994963e-05\n",
      "t_66 : loss : 0.00034 gap : 6.433792805182748e-07 local_gap 4.238656038069166e-05\n",
      "t_67 : loss : 0.00025 gap : 5.028982741350774e-07 local_gap 3.3584841730771586e-05\n",
      "t_68 : loss : 0.00039 gap : 5.017338366997137e-07 local_gap 3.411673606024124e-05\n",
      "t_69 : loss : 0.00049 gap : 4.7108238732107566e-07 local_gap 3.2474032195750624e-05\n",
      "t_70 : loss : 0.00214 gap : 3.478613280094578e-06 local_gap 0.00024673136067576706\n",
      "t_71 : loss : 0.00116 gap : 1.1302048505967832e-06 local_gap 7.789613300701603e-05\n",
      "t_72 : loss : 0.00137 gap : 4.925271355205041e-07 local_gap 3.488472430035472e-05\n",
      "t_73 : loss : 0.00041 gap : 5.910968070566014e-07 local_gap 4.3384839955251664e-05\n",
      "t_74 : loss : 0.00017 gap : 3.483414161564724e-07 local_gap 2.5738472686498426e-05\n",
      "t_75 : loss : 0.00025 gap : 3.8181781292223604e-07 local_gap 2.881094769691117e-05\n",
      "t_76 : loss : 0.00013 gap : 6.65019740608841e-07 local_gap 5.091854472993873e-05\n",
      "t_77 : loss : 0.06887 gap : 6.854927505628439e-06 local_gap 0.0005343407392501831\n",
      "t_78 : loss : 0.01914 gap : 1.106341187551152e-05 local_gap 0.0008704776410013437\n",
      "t_79 : loss : 0.01943 gap : 5.573613634624053e-06 local_gap 0.00043482569162733853\n",
      "t_80 : loss : 0.01752 gap : 7.672502761124633e-06 local_gap 0.0006158991018310189\n",
      "t_81 : loss : 0.02113 gap : 9.226316251442768e-06 local_gap 0.000748885388020426\n",
      "t_82 : loss : 0.02005 gap : 7.758741048746742e-06 local_gap 0.000634749187156558\n",
      "t_83 : loss : 0.01787 gap : 6.087894689699169e-06 local_gap 0.0005036244401708245\n",
      "t_84 : loss : 0.02118 gap : 6.243839379749261e-06 local_gap 0.0005246384534984827\n",
      "t_85 : loss : 0.01742 gap : 9.451480764255393e-06 local_gap 0.000806583499070257\n",
      "t_86 : loss : 0.01736 gap : 8.525179509888403e-06 local_gap 0.0007322391611523926\n",
      "t_87 : loss : 0.01927 gap : 1.0725954780355096e-05 local_gap 0.0009353588684462011\n",
      "t_88 : loss : 0.02094 gap : 7.573054972453974e-06 local_gap 0.0006632759468629956\n",
      "t_89 : loss : 0.01746 gap : 7.090005055943038e-06 local_gap 0.0006305273855105042\n",
      "t_90 : loss : 0.01899 gap : 6.009383014315972e-06 local_gap 0.00053976388880983\n",
      "t_91 : loss : 0.01993 gap : 8.13210408523446e-06 local_gap 0.0007421442423947155\n",
      "t_92 : loss : 0.01872 gap : 2.720401653277804e-06 local_gap 0.00024486525217071176\n",
      "t_93 : loss : 0.01927 gap : 9.789854630071204e-06 local_gap 0.0009175259037874639\n",
      "t_94 : loss : 0.02083 gap : 4.740782515000319e-06 local_gap 0.0004405844956636429\n",
      "t_95 : loss : 0.01970 gap : 3.602239303290844e-06 local_gap 0.00034107419196516275\n",
      "t_96 : loss : 0.02356 gap : 8.411554517806508e-06 local_gap 0.0008123185252770782\n",
      "t_97 : loss : 0.02003 gap : 9.080116797122173e-06 local_gap 0.000881439947988838\n",
      "t_98 : loss : 0.02073 gap : 5.365493962017354e-06 local_gap 0.0005221038009040058\n",
      "t_99 : loss : 0.01994 gap : 8.801892363408115e-06 local_gap 0.0008748237742111087\n"
     ]
    },
    {
     "name": "stdout",
     "output_type": "stream",
     "text": [
      "t_100 : loss : 0.01411 gap : 4.235760570736602e-06 local_gap 0.00041900991345755756\n",
      "t_101 : loss : 0.01501 gap : 8.036447979975492e-06 local_gap 0.0008154818788170815\n",
      "t_102 : loss : 0.01611 gap : 6.9548050305456854e-06 local_gap 0.0007083084783516824\n",
      "t_103 : loss : 0.02001 gap : 3.90084869650309e-06 local_gap 0.0003987334785051644\n",
      "t_104 : loss : 0.02040 gap : 5.956063432677183e-06 local_gap 0.0006214858149178326\n",
      "t_105 : loss : 0.01824 gap : 9.422810762771405e-06 local_gap 0.000992861925624311\n",
      "t_106 : loss : 0.01778 gap : 7.115162588888779e-06 local_gap 0.0007518995553255081\n",
      "t_107 : loss : 0.01807 gap : 6.621108695981093e-06 local_gap 0.0007079645292833447\n",
      "t_108 : loss : 0.01433 gap : 5.3464773372979835e-06 local_gap 0.0005761448992416263\n",
      "t_109 : loss : 0.02016 gap : 3.530212325131288e-06 local_gap 0.00038297686842270195\n",
      "t_110 : loss : 0.01802 gap : 7.823063242540229e-06 local_gap 0.0008648298098705709\n",
      "t_111 : loss : 0.01699 gap : 3.963810740970075e-06 local_gap 0.0004361237515695393\n",
      "t_112 : loss : 0.04615 gap : 1.359374073217623e-05 local_gap 0.0015352499904111028\n",
      "t_113 : loss : 0.00758 gap : 1.6483993476867909e-06 local_gap 0.00017432378081139177\n",
      "t_114 : loss : 0.00315 gap : 1.0556912002357421e-06 local_gap 0.00011975608504144475\n",
      "t_115 : loss : 0.00121 gap : 9.695389735497884e-07 local_gap 0.00011154422827530652\n",
      "t_116 : loss : 0.00391 gap : 9.852424227574375e-07 local_gap 0.00011431996244937181\n",
      "t_117 : loss : 0.00057 gap : 1.0177861895499518e-06 local_gap 0.00011911352339666337\n",
      "t_118 : loss : 0.00098 gap : 1.0267187917634146e-06 local_gap 0.0001211617563967593\n",
      "t_119 : loss : 0.00022 gap : 7.752215083201008e-07 local_gap 9.199986379826441e-05\n",
      "t_120 : loss : 0.00074 gap : 6.446082920774643e-07 local_gap 7.722237933194265e-05\n",
      "t_121 : loss : 0.00044 gap : 5.922922241552442e-07 local_gap 7.161504618125036e-05\n",
      "t_122 : loss : 0.00051 gap : 3.9265330542548327e-07 local_gap 4.7759578592376783e-05\n",
      "t_123 : loss : 0.00040 gap : 3.0324420663419005e-07 local_gap 3.720962558872998e-05\n",
      "t_124 : loss : 0.00083 gap : 3.014560547853762e-07 local_gap 3.747640221263282e-05\n",
      "t_125 : loss : 0.00078 gap : 2.1068821354219835e-07 local_gap 2.634834345371928e-05\n",
      "t_126 : loss : 0.08112 gap : 4.3287018343107775e-06 local_gap 0.0005495688528753817\n",
      "t_127 : loss : 0.02219 gap : 1.4929812550690258e-06 local_gap 0.00018677290063351393\n",
      "t_128 : loss : 0.02388 gap : 5.513802989298711e-06 local_gap 0.0007103249663487077\n",
      "t_129 : loss : 0.02195 gap : 6.100414793763775e-06 local_gap 0.0007875401643104851\n",
      "t_130 : loss : 0.14202 gap : 1.979645276151132e-06 local_gap 0.00025323309819214046\n",
      "t_131 : loss : 0.01718 gap : 1.7491769312982797e-06 local_gap 0.00022891171101946384\n",
      "t_132 : loss : 0.02152 gap : 2.90544016934291e-06 local_gap 0.0003846743784379214\n",
      "t_133 : loss : 0.01835 gap : 4.6180061872291844e-06 local_gap 0.0006159073673188686\n",
      "t_134 : loss : 0.01488 gap : 5.71311466046609e-06 local_gap 0.0007666524616070092\n",
      "t_135 : loss : 0.01497 gap : 6.347413091134513e-06 local_gap 0.0008575350511819124\n",
      "t_136 : loss : 0.01809 gap : 2.1131595531187486e-06 local_gap 0.00028315544477663934\n",
      "t_137 : loss : 0.01597 gap : 5.191757281863829e-06 local_gap 0.000714349327608943\n",
      "t_138 : loss : 0.01678 gap : 4.870025350101059e-06 local_gap 0.0006717417272739112\n",
      "t_139 : loss : 0.01942 gap : 5.971545760985464e-06 local_gap 0.0008311463752761483\n",
      "t_140 : loss : 0.01842 gap : 9.187623618345242e-06 local_gap 0.001289483392611146\n",
      "t_141 : loss : 0.01415 gap : 4.663850177166751e-06 local_gap 0.0006530791288241744\n",
      "t_142 : loss : 0.01873 gap : 3.062577889068052e-06 local_gap 0.00043328478932380676\n",
      "t_143 : loss : 0.01474 gap : 5.962378054391593e-06 local_gap 0.0008555198437534273\n",
      "t_144 : loss : 0.01584 gap : 5.118798526382307e-06 local_gap 0.0007362634059973061\n",
      "t_145 : loss : 0.01575 gap : 3.7236936805129517e-06 local_gap 0.0005385404801927507\n",
      "t_146 : loss : 0.01629 gap : 5.804432930744952e-06 local_gap 0.000849527888931334\n",
      "t_147 : loss : 0.01431 gap : 4.358265869086608e-06 local_gap 0.0006392189534381032\n",
      "t_148 : loss : 0.01704 gap : 4.0638824430061504e-06 local_gap 0.000601160223595798\n",
      "t_149 : loss : 0.01514 gap : 6.4134978856600355e-06 local_gap 0.0009579607867635787\n",
      "t_150 : loss : 0.01533 gap : 5.364918251871131e-06 local_gap 0.0008036891813389957\n",
      "t_151 : loss : 0.01627 gap : 3.1476738513447344e-06 local_gap 0.0004730815126094967\n",
      "t_152 : loss : 0.01810 gap : 5.855927156517282e-06 local_gap 0.0008928091847337782\n",
      "t_153 : loss : 0.01693 gap : 6.537295575981261e-06 local_gap 0.0010008875979110599\n",
      "t_154 : loss : 0.02424 gap : 5.916594545851694e-06 local_gap 0.0009105348726734519\n",
      "t_155 : loss : 0.02580 gap : 5.02280454384163e-06 local_gap 0.0007776409038342535\n",
      "t_156 : loss : 0.01870 gap : 5.6756462072371505e-06 local_gap 0.0008860536618158221\n",
      "t_157 : loss : 0.01757 gap : 5.871001121704467e-06 local_gap 0.0009219425264745951\n",
      "t_158 : loss : 0.01829 gap : 4.272208570910152e-06 local_gap 0.0006734101916663349\n",
      "t_159 : loss : 0.02143 gap : 6.518182090076152e-06 local_gap 0.001038636895827949\n",
      "t_160 : loss : 0.04314 gap : 3.6461167383095017e-06 local_gap 0.0005805065738968551\n",
      "t_161 : loss : 0.04267 gap : 8.708780114830006e-06 local_gap 0.0014099740656092763\n",
      "t_162 : loss : 0.00424 gap : 9.627528925193474e-07 local_gap 0.00014851168089080602\n",
      "t_163 : loss : 0.00504 gap : 5.452491222968092e-07 local_gap 8.845810225466266e-05\n",
      "t_164 : loss : 0.00102 gap : 5.329597456693591e-07 local_gap 8.742437057662755e-05\n",
      "t_165 : loss : 0.00143 gap : 4.953705570187594e-07 local_gap 8.16985557321459e-05\n",
      "t_166 : loss : 0.00076 gap : 4.900276167063566e-07 local_gap 8.147769403876737e-05\n",
      "t_167 : loss : 0.00051 gap : 6.903787834744435e-07 local_gap 0.0001155351783381775\n",
      "t_168 : loss : 0.00139 gap : 4.270518729754258e-07 local_gap 7.157766231102869e-05\n",
      "t_169 : loss : 0.00073 gap : 5.117444743518718e-07 local_gap 8.656950376462191e-05\n",
      "t_170 : loss : 0.00191 gap : 3.82121044140149e-07 local_gap 6.483095057774335e-05\n",
      "t_171 : loss : 0.00048 gap : 3.000920116846828e-07 local_gap 5.1233702833997086e-05\n",
      "t_172 : loss : 0.00082 gap : 2.3889444378255575e-07 local_gap 4.10286447731778e-05\n",
      "t_173 : loss : 0.00088 gap : 2.789993231999688e-07 local_gap 4.830698890145868e-05\n",
      "t_174 : loss : 0.00050 gap : 2.0784928267403302e-07 local_gap 3.6094625102123246e-05\n",
      "t_175 : loss : 0.07038 gap : 2.889632924052421e-06 local_gap 0.0005084141157567501\n",
      "t_176 : loss : 0.03709 gap : 9.810004257815308e-07 local_gap 0.0001709622738417238\n",
      "t_177 : loss : 0.02450 gap : 2.2385092961485498e-06 local_gap 0.0003977905726060271\n",
      "t_178 : loss : 0.18021 gap : 3.518341827657423e-06 local_gap 0.0006291458266787231\n",
      "t_179 : loss : 0.02887 gap : 1.7436628922951058e-06 local_gap 0.0003113019629381597\n",
      "t_180 : loss : 0.02653 gap : 3.411627631066949e-06 local_gap 0.0006157609168440104\n",
      "t_181 : loss : 0.02334 gap : 1.022841502162919e-06 local_gap 0.00018274552712682635\n",
      "t_182 : loss : 0.02515 gap : 7.175082373578334e-06 local_gap 0.0013120172079652548\n",
      "t_183 : loss : 0.01308 gap : 2.765696535789175e-06 local_gap 0.000501713075209409\n",
      "t_184 : loss : 0.01310 gap : 1.8224623090645764e-06 local_gap 0.00033438982791267335\n",
      "t_185 : loss : 0.02002 gap : 1.965785941138165e-06 local_gap 0.0003638137422967702\n",
      "t_186 : loss : 0.02667 gap : 4.140859800827457e-06 local_gap 0.0007723750313743949\n",
      "t_187 : loss : 0.01310 gap : 2.1961088805255713e-06 local_gap 0.00040872758836485445\n",
      "t_188 : loss : 0.01386 gap : 4.109436304133851e-06 local_gap 0.0007744873291812837\n",
      "t_189 : loss : 0.01979 gap : 1.4732711406395538e-06 local_gap 0.0002758120826911181\n",
      "t_190 : loss : 0.02551 gap : 6.0302650126686785e-06 local_gap 0.0011503073619678617\n",
      "t_191 : loss : 0.02630 gap : 4.59030752608669e-06 local_gap 0.0008753087604418397\n",
      "t_192 : loss : 0.02146 gap : 3.3519363569212146e-06 local_gap 0.0006423334125429392\n",
      "t_193 : loss : 0.02773 gap : 6.076464615034638e-06 local_gap 0.0011754821753129363\n",
      "t_194 : loss : 0.02708 gap : 4.777336016559275e-06 local_gap 0.0009255040204152465\n",
      "t_195 : loss : 0.02380 gap : 3.1919312277750578e-06 local_gap 0.000620841165073216\n",
      "t_196 : loss : 0.02070 gap : 3.5313776152179344e-06 local_gap 0.0006924894405528903\n",
      "t_197 : loss : 0.01695 gap : 5.600870281341486e-06 local_gap 0.0011054410133510828\n",
      "t_198 : loss : 0.01740 gap : 5.353978849598207e-06 local_gap 0.0010598408989608288\n"
     ]
    },
    {
     "name": "stdout",
     "output_type": "stream",
     "text": [
      "t_199 : loss : 0.01881 gap : 3.790553364524385e-06 local_gap 0.0007527566631324589\n",
      "t_200 : loss : 0.01750 gap : 4.219051788822981e-06 local_gap 0.0008442388498224318\n",
      "t_201 : loss : 0.01926 gap : 4.86601402371889e-06 local_gap 0.0009787158342078328\n",
      "t_202 : loss : 0.01739 gap : 4.891257503913948e-06 local_gap 0.0009880592115223408\n",
      "t_203 : loss : 0.01676 gap : 2.2175304366101045e-06 local_gap 0.00044748495565727353\n",
      "t_204 : loss : 0.03269 gap : 2.1366302007663762e-06 local_gap 0.0004357916477601975\n",
      "t_205 : loss : 0.01618 gap : 3.620771167334169e-06 local_gap 0.000743742217309773\n",
      "t_206 : loss : 0.01522 gap : 3.4172635423601605e-06 local_gap 0.0007049394189380109\n",
      "t_207 : loss : 0.01413 gap : 3.233835514038219e-06 local_gap 0.0006701225647702813\n",
      "t_208 : loss : 0.01575 gap : 2.328551090613473e-06 local_gap 0.0004834333376493305\n",
      "t_209 : loss : 0.01503 gap : 3.9695328268862795e-06 local_gap 0.0008312733843922615\n",
      "t_210 : loss : 0.05369 gap : 8.206971870095003e-06 local_gap 0.0017277016304433346\n",
      "t_211 : loss : 0.00515 gap : 9.381071208736103e-07 local_gap 0.00019120164506603032\n",
      "t_212 : loss : 0.00575 gap : 5.47857553101494e-07 local_gap 0.00011578460544114932\n",
      "t_213 : loss : 0.00305 gap : 3.4967121109730215e-07 local_gap 7.458492473233491e-05\n",
      "t_214 : loss : 0.00130 gap : 3.2453064591209113e-07 local_gap 6.961239705560729e-05\n",
      "t_215 : loss : 0.00102 gap : 2.74917056231061e-07 local_gap 5.915060319239274e-05\n",
      "t_216 : loss : 0.00104 gap : 2.823618103775516e-07 local_gap 6.100811151554808e-05\n",
      "t_217 : loss : 0.00083 gap : 2.434670705042663e-07 local_gap 5.279346078168601e-05\n",
      "t_218 : loss : 0.00082 gap : 2.4339726678590523e-07 local_gap 5.3084360843058676e-05\n",
      "t_219 : loss : 0.00114 gap : 2.5245680035368423e-07 local_gap 5.5386270105373114e-05\n",
      "t_220 : loss : 0.00062 gap : 2.4672874587849947e-07 local_gap 5.432281977846287e-05\n",
      "t_221 : loss : 0.00101 gap : 3.211865760022192e-07 local_gap 7.11490647518076e-05\n",
      "t_222 : loss : 0.00266 gap : 2.6927531848741637e-07 local_gap 5.9810481616295874e-05\n",
      "t_223 : loss : 0.00040 gap : 1.8893331343861064e-07 local_gap 4.213349529891275e-05\n",
      "t_224 : loss : 0.00051 gap : 1.9307157117509632e-07 local_gap 4.325217014411464e-05\n",
      "t_225 : loss : 0.00032 gap : 1.4583315532945562e-07 local_gap 3.276522329542786e-05\n",
      "t_226 : loss : 0.00064 gap : 1.0871127642531064e-07 local_gap 2.459196184645407e-05\n",
      "t_227 : loss : 0.00075 gap : 1.1827326318325504e-07 local_gap 2.6866266125580296e-05\n",
      "t_228 : loss : 0.00056 gap : 1.6154426418779622e-07 local_gap 3.687944990815595e-05\n",
      "t_229 : loss : 0.00083 gap : 1.1486639550639666e-07 local_gap 2.6267560315318406e-05\n",
      "t_230 : loss : 0.00042 gap : 1.3454308600557852e-07 local_gap 3.0971546948421746e-05\n",
      "t_231 : loss : 0.09160 gap : 2.5354315766890068e-06 local_gap 0.0005880938842892647\n",
      "t_232 : loss : 0.04567 gap : 1.0893131729972083e-06 local_gap 0.0002512745268177241\n",
      "t_233 : loss : 0.03344 gap : 1.5628118035238003e-06 local_gap 0.000365303159924224\n",
      "t_234 : loss : 0.03279 gap : 3.823824499704642e-06 local_gap 0.0008970359340310097\n",
      "t_235 : loss : 0.02435 gap : 2.195336264776415e-06 local_gap 0.0005142755107954144\n",
      "t_236 : loss : 0.02872 gap : 4.336318397690775e-06 local_gap 0.0010255121160298586\n",
      "t_237 : loss : 0.02410 gap : 1.6756008562879288e-06 local_gap 0.00039445667061954737\n",
      "t_238 : loss : 0.03168 gap : 1.1067860441471566e-06 local_gap 0.00026284626801498234\n",
      "t_239 : loss : 0.02737 gap : 3.057149342566845e-06 local_gap 0.0007332900422625244\n",
      "t_240 : loss : 0.02235 gap : 2.372732751609874e-06 local_gap 0.0005701243062503636\n",
      "t_241 : loss : 0.02678 gap : 2.0992852114432026e-06 local_gap 0.0005077263340353966\n",
      "t_242 : loss : 0.03275 gap : 1.2935740869579604e-06 local_gap 0.0003124581999145448\n",
      "t_243 : loss : 0.01913 gap : 1.8421104641674901e-06 local_gap 0.0004481813812162727\n",
      "t_244 : loss : 0.02338 gap : 1.5430786106662708e-06 local_gap 0.0003762121486943215\n",
      "t_245 : loss : 0.01859 gap : 2.0504917301877867e-06 local_gap 0.0005028778687119484\n",
      "t_246 : loss : 0.02394 gap : 2.017733322645654e-06 local_gap 0.0004963296232745051\n",
      "t_247 : loss : 0.02304 gap : 2.375695203227224e-06 local_gap 0.0005871547036804259\n",
      "t_248 : loss : 0.02284 gap : 4.002517471235478e-06 local_gap 0.0009942511096596718\n",
      "t_249 : loss : 0.02107 gap : 2.329270728296251e-06 local_gap 0.0005783151718787849\n",
      "t_250 : loss : 0.01809 gap : 2.3954933112690924e-06 local_gap 0.0005989395431242883\n",
      "t_251 : loss : 0.01894 gap : 2.051557430604589e-06 local_gap 0.0005145969917066395\n",
      "t_252 : loss : 0.04915 gap : 6.2911553868616465e-06 local_gap 0.0015913129318505526\n",
      "t_253 : loss : 0.03813 gap : 2.008568344535888e-06 local_gap 0.0005038852104917169\n",
      "t_254 : loss : 0.01683 gap : 8.85769452452223e-07 local_gap 0.0002238626329926774\n",
      "t_255 : loss : 0.00330 gap : 6.082638606130786e-07 local_gap 0.00015482977323699743\n",
      "t_256 : loss : 0.00082 gap : 3.9987295963328506e-07 local_gap 0.00010215908696409315\n",
      "t_257 : loss : 0.00150 gap : 3.359286324666755e-07 local_gap 8.627975330455229e-05\n",
      "t_258 : loss : 0.00088 gap : 3.944341528949735e-07 local_gap 0.00010183584527112544\n",
      "t_259 : loss : 0.00028 gap : 3.1738801453684573e-07 local_gap 8.230523962993175e-05\n",
      "t_260 : loss : 0.00055 gap : 3.891291555646603e-07 local_gap 0.00010124532855115831\n",
      "t_261 : loss : 0.00109 gap : 4.6905677208997076e-07 local_gap 0.0001225037412950769\n",
      "t_262 : loss : 0.00047 gap : 5.102510272081417e-07 local_gap 0.00013372696412261575\n",
      "t_263 : loss : 0.00039 gap : 4.810194695892278e-07 local_gap 0.00012647888797800988\n",
      "t_264 : loss : 0.00094 gap : 4.029959939089167e-07 local_gap 0.00010631291661411524\n",
      "t_265 : loss : 0.00040 gap : 3.5812919918498665e-07 local_gap 9.485937334829941e-05\n",
      "t_266 : loss : 0.00060 gap : 3.135657493658073e-07 local_gap 8.336392784258351e-05\n",
      "t_267 : loss : 0.00032 gap : 2.8338089919088816e-07 local_gap 7.563251710962504e-05\n",
      "t_268 : loss : 0.00024 gap : 2.2732017157522932e-07 local_gap 6.0951766499783844e-05\n",
      "t_269 : loss : 0.00026 gap : 1.768955542047479e-07 local_gap 4.759605144499801e-05\n",
      "t_270 : loss : 0.00046 gap : 1.6452395357191563e-07 local_gap 4.442314457264729e-05\n",
      "t_271 : loss : 0.00034 gap : 1.5596668845319073e-07 local_gap 4.228428588248789e-05\n",
      "t_272 : loss : 0.00115 gap : 1.200793491307195e-07 local_gap 3.262569589423947e-05\n",
      "t_273 : loss : 0.00032 gap : 9.309179915817367e-08 local_gap 2.5427149012102745e-05\n",
      "t_274 : loss : 0.00160 gap : 1.3429270495635137e-07 local_gap 3.684522016556002e-05\n",
      "t_275 : loss : 0.00020 gap : 1.0408049888610549e-07 local_gap 2.8637512514251284e-05\n",
      "t_276 : loss : 0.00017 gap : 9.989931726295254e-08 local_gap 2.758561458904296e-05\n",
      "t_277 : loss : 0.00026 gap : 9.6288424344948e-08 local_gap 2.6676305424189195e-05\n",
      "t_278 : loss : 0.00023 gap : 1.0436214381570608e-07 local_gap 2.902074993471615e-05\n",
      "t_279 : loss : 0.00041 gap : 1.1474274685951968e-07 local_gap 3.203989763278514e-05\n",
      "t_280 : loss : 0.00019 gap : 1.1244608089100439e-07 local_gap 3.149684198433533e-05\n",
      "t_281 : loss : 0.00021 gap : 1.399650955136167e-07 local_gap 3.935771019314416e-05\n",
      "t_282 : loss : 0.00035 gap : 1.1671156840975527e-07 local_gap 3.288940933998674e-05\n",
      "t_283 : loss : 0.00038 gap : 1.2401670801409637e-07 local_gap 3.5104036214761436e-05\n",
      "t_284 : loss : 0.00017 gap : 1.1223273332916506e-07 local_gap 3.1862313335295767e-05\n",
      "t_285 : loss : 0.00030 gap : 1.2599510057498264e-07 local_gap 3.592236680560745e-05\n",
      "t_286 : loss : 0.00019 gap : 1.257832309420337e-07 local_gap 3.59737932740245e-05\n",
      "t_287 : loss : 0.09807 gap : 1.9231765691074543e-06 local_gap 0.0005537490942515433\n",
      "t_288 : loss : 0.04015 gap : 9.741005442265305e-07 local_gap 0.00027974159456789494\n",
      "t_289 : loss : 0.05295 gap : 8.970875455815985e-07 local_gap 0.0002597926650196314\n",
      "t_290 : loss : 0.01852 gap : 4.4875690718981787e-07 local_gap 0.0001303652097703889\n",
      "t_291 : loss : 0.02278 gap : 7.835142810108664e-07 local_gap 0.00022844238264951855\n",
      "t_292 : loss : 0.01840 gap : 9.62662397796521e-07 local_gap 0.00028156896587461233\n",
      "t_293 : loss : 0.04418 gap : 1.161865952781227e-06 local_gap 0.00034062593476846814\n",
      "t_294 : loss : 0.01864 gap : 2.0104623672523303e-06 local_gap 0.00059192453045398\n",
      "t_295 : loss : 0.01737 gap : 1.2128365369790117e-06 local_gap 0.00035802240017801523\n",
      "t_296 : loss : 0.02669 gap : 5.232250828157703e-07 local_gap 0.0001549706794321537\n"
     ]
    },
    {
     "name": "stdout",
     "output_type": "stream",
     "text": [
      "t_297 : loss : 0.01830 gap : 8.066450050137064e-07 local_gap 0.00023987410531844944\n",
      "t_298 : loss : 0.01851 gap : 1.6374393680962385e-06 local_gap 0.0004887877148576081\n",
      "t_299 : loss : 0.01492 gap : 8.493501582051977e-07 local_gap 0.0002531676145736128\n",
      "t_300 : loss : 0.01530 gap : 1.4109203902989975e-06 local_gap 0.00042441050754860044\n",
      "t_301 : loss : 0.01893 gap : 6.270121275520069e-07 local_gap 0.00018794674542732537\n",
      "t_302 : loss : 0.01817 gap : 1.8447508409735747e-06 local_gap 0.0005584887112490833\n",
      "t_303 : loss : 0.01790 gap : 1.1610884484980488e-06 local_gap 0.0003522090264596045\n",
      "t_304 : loss : 0.01728 gap : 1.3880824099032907e-06 local_gap 0.00042261480120941997\n",
      "t_305 : loss : 0.01958 gap : 5.367811013456958e-07 local_gap 0.00016394941485486925\n",
      "t_306 : loss : 0.01713 gap : 2.531133304728428e-06 local_gap 0.0007766362396068871\n",
      "t_307 : loss : 0.01476 gap : 1.508720629317395e-06 local_gap 0.0004621548287104815\n",
      "t_308 : loss : 0.03088 gap : 4.3903596633754205e-06 local_gap 0.0013551124138757586\n",
      "t_309 : loss : 0.01711 gap : 2.6997938675776822e-06 local_gap 0.000832545745652169\n",
      "t_310 : loss : 0.00825 gap : 2.303407882209285e-06 local_gap 0.0007136600906960666\n",
      "t_311 : loss : 0.01833 gap : 1.9467936454020673e-06 local_gap 0.0006050962256267667\n",
      "t_312 : loss : 0.01118 gap : 1.787938344932627e-06 local_gap 0.0005576778785325587\n",
      "t_313 : loss : 0.00605 gap : 1.9242754660808714e-06 local_gap 0.0006024345057085156\n",
      "t_314 : loss : 0.00681 gap : 1.7011064983307733e-06 local_gap 0.0005339242634363472\n",
      "t_315 : loss : 0.00229 gap : 1.64744733410771e-06 local_gap 0.0005192094249650836\n",
      "t_316 : loss : 0.00379 gap : 1.1677312841129606e-06 local_gap 0.00036874221405014396\n",
      "t_317 : loss : 0.00210 gap : 9.144663408733322e-07 local_gap 0.00028963256045244634\n",
      "t_318 : loss : 0.00243 gap : 8.368973567485227e-07 local_gap 0.00026608744519762695\n",
      "t_319 : loss : 0.00153 gap : 7.215778623503866e-07 local_gap 0.0002300680207554251\n",
      "t_320 : loss : 0.00045 gap : 4.3877142275050574e-07 local_gap 0.0001402342168148607\n",
      "t_321 : loss : 0.00120 gap : 4.277649452433252e-07 local_gap 0.00013730154023505747\n",
      "t_322 : loss : 0.06797 gap : 1.3814163821734837e-06 local_gap 0.0004457827308215201\n",
      "t_323 : loss : 0.05769 gap : 1.1577018312891596e-06 local_gap 0.00037371396319940686\n",
      "t_324 : loss : 0.05228 gap : 7.050932140373334e-07 local_gap 0.0002279975888086483\n",
      "t_325 : loss : 0.02628 gap : 6.365918352457811e-07 local_gap 0.00020688762015197426\n",
      "t_326 : loss : 0.02505 gap : 1.601399503670109e-06 local_gap 0.0005233293632045388\n",
      "t_327 : loss : 0.02845 gap : 1.1545283769009984e-06 local_gap 0.000378253374947235\n",
      "t_328 : loss : 0.03393 gap : 8.25041126972792e-07 local_gap 0.00027028401382267475\n",
      "t_329 : loss : 0.01405 gap : 1.635012949918746e-06 local_gap 0.0005387292476370931\n",
      "t_330 : loss : 0.02369 gap : 2.1469038529176032e-06 local_gap 0.000708990206476301\n",
      "t_331 : loss : 0.01575 gap : 1.6930817992033553e-06 local_gap 0.0005599562427960336\n",
      "t_332 : loss : 0.01646 gap : 2.443983021294116e-06 local_gap 0.0008121532737277448\n",
      "t_333 : loss : 0.01199 gap : 1.008480694508762e-06 local_gap 0.0003343885764479637\n",
      "t_334 : loss : 0.01204 gap : 1.0720843874878483e-06 local_gap 0.00035813977592624724\n",
      "t_335 : loss : 0.01405 gap : 1.7745663853929727e-06 local_gap 0.000595182238612324\n",
      "t_336 : loss : 0.02020 gap : 1.7064902522179182e-06 local_gap 0.0005733126308768988\n",
      "t_337 : loss : 0.16828 gap : 1.9892081581929233e-06 local_gap 0.0006706458516418934\n",
      "t_338 : loss : 0.01684 gap : 1.242211737917387e-06 local_gap 0.00041912056622095406\n",
      "t_339 : loss : 0.01571 gap : 2.177394890168216e-06 local_gap 0.0007390720420517027\n",
      "t_340 : loss : 0.01618 gap : 1.5661706811442855e-06 local_gap 0.0005318868206813931\n",
      "t_341 : loss : 0.01982 gap : 1.1826344916698872e-06 local_gap 0.00040289483149535954\n",
      "t_342 : loss : 0.01628 gap : 1.7281347481912235e-06 local_gap 0.0005915675428695977\n",
      "t_343 : loss : 0.01515 gap : 1.9299552604934433e-06 local_gap 0.0006621764623560011\n",
      "t_344 : loss : 0.01411 gap : 1.9193712432752363e-06 local_gap 0.0006602531066164374\n",
      "t_345 : loss : 0.01271 gap : 7.876392373873387e-07 local_gap 0.00027227625832892954\n",
      "t_346 : loss : 0.01389 gap : 1.9601950498326914e-06 local_gap 0.0006795088411308825\n",
      "t_347 : loss : 0.01910 gap : 1.388794089507428e-06 local_gap 0.00048134016105905175\n",
      "t_348 : loss : 0.01605 gap : 8.64061121319537e-07 local_gap 0.0003001685254275799\n",
      "t_349 : loss : 0.01808 gap : 1.7127737237387919e-06 local_gap 0.000598606769926846\n",
      "t_350 : loss : 0.01788 gap : 6.997667014729814e-07 local_gap 0.00024390533508267254\n",
      "t_351 : loss : 0.01876 gap : 1.1006347904185532e-06 local_gap 0.0003867236664518714\n",
      "t_352 : loss : 0.01692 gap : 8.703271419108205e-07 local_gap 0.00030612482805736363\n",
      "t_353 : loss : 0.01648 gap : 1.1165603837071103e-06 local_gap 0.0003950175305362791\n",
      "t_354 : loss : 0.01897 gap : 2.114474000336486e-06 local_gap 0.0007495316094718874\n",
      "t_355 : loss : 0.01647 gap : 1.7274716128667933e-06 local_gap 0.0006128654349595308\n",
      "t_356 : loss : 0.01793 gap : 8.610193162894575e-07 local_gap 0.00030565643100999296\n",
      "t_357 : loss : 0.04184 gap : 4.013845682493411e-06 local_gap 0.0014366962714120746\n",
      "t_358 : loss : 0.01913 gap : 2.331375071662478e-06 local_gap 0.0008330257842317224\n",
      "t_359 : loss : 0.00605 gap : 1.7644795207161224e-06 local_gap 0.000632881245110184\n",
      "t_360 : loss : 0.01986 gap : 1.47006687711837e-06 local_gap 0.0005290223634801805\n",
      "t_361 : loss : 0.00707 gap : 1.288989324166323e-06 local_gap 0.00046517778537236154\n",
      "t_362 : loss : 0.00441 gap : 1.099623318623344e-06 local_gap 0.00039787430432625115\n",
      "t_363 : loss : 0.00416 gap : 1.097976337405271e-06 local_gap 0.0003985851362813264\n",
      "t_364 : loss : 0.00091 gap : 8.37945151488384e-07 local_gap 0.0003048361395485699\n",
      "t_365 : loss : 0.00075 gap : 8.38339644815278e-07 local_gap 0.0003059943555854261\n",
      "t_366 : loss : 0.00478 gap : 7.973660558491247e-07 local_gap 0.00029185396851971745\n",
      "t_367 : loss : 0.00053 gap : 7.537008173130744e-07 local_gap 0.0002765645331237465\n",
      "t_368 : loss : 0.00104 gap : 7.082351771714457e-07 local_gap 0.0002605850750114769\n",
      "t_369 : loss : 0.00173 gap : 6.333115720735805e-07 local_gap 0.00023364317894447595\n",
      "t_370 : loss : 0.00449 gap : 5.431890031104558e-07 local_gap 0.0002009216696023941\n",
      "t_371 : loss : 0.05156 gap : 9.64981609286042e-07 local_gap 0.0003584802325349301\n",
      "t_372 : loss : 0.06301 gap : 7.443584877364628e-07 local_gap 0.0002767693076748401\n",
      "t_373 : loss : 0.04268 gap : 7.360536073974799e-07 local_gap 0.00027459501870907843\n",
      "t_374 : loss : 0.02671 gap : 8.407896530115977e-07 local_gap 0.0003149071417283267\n",
      "t_375 : loss : 0.03626 gap : 7.803898256497632e-07 local_gap 0.000292585784336552\n",
      "t_376 : loss : 0.02753 gap : 6.297398158494616e-07 local_gap 0.00023663151660002768\n",
      "t_377 : loss : 0.01979 gap : 4.695162374446227e-07 local_gap 0.0001768474030541256\n",
      "t_378 : loss : 0.02010 gap : 1.6467503201056388e-06 local_gap 0.0006239284994080663\n",
      "t_379 : loss : 0.01357 gap : 2.839256296738313e-07 local_gap 0.00010751002992037684\n",
      "t_380 : loss : 0.01695 gap : 5.705490480067965e-07 local_gap 0.00021720548102166504\n",
      "t_381 : loss : 0.01534 gap : 1.5595998092976515e-06 local_gap 0.0005951965576969087\n",
      "t_382 : loss : 0.01569 gap : 1.1462752809165977e-06 local_gap 0.0004374638374429196\n",
      "t_383 : loss : 0.02055 gap : 8.288713502224709e-07 local_gap 0.0003171403077431023\n",
      "t_384 : loss : 0.01518 gap : 5.598331540568324e-07 local_gap 0.00021532892424147576\n",
      "t_385 : loss : 0.01375 gap : 8.703507319296477e-07 local_gap 0.00033539553987793624\n",
      "t_386 : loss : 0.01668 gap : 1.2096805903638597e-06 local_gap 0.0004672760551329702\n",
      "t_387 : loss : 0.01462 gap : 3.2305405284205335e-07 local_gap 0.0001249809138244018\n",
      "t_388 : loss : 0.01436 gap : 6.460600161517505e-07 local_gap 0.00025109786656685174\n",
      "t_389 : loss : 0.01726 gap : 4.324382132381288e-07 local_gap 0.00016837961447890848\n",
      "t_390 : loss : 0.01305 gap : 1.1119367400169722e-06 local_gap 0.00043436739360913634\n",
      "t_391 : loss : 0.06565 gap : 1.2234263522259425e-06 local_gap 0.0004784711927641183\n",
      "t_392 : loss : 0.01685 gap : 1.5399334643007023e-06 local_gap 0.0006039704312570393\n",
      "t_393 : loss : 0.01839 gap : 1.754511913532042e-06 local_gap 0.000689737731590867\n",
      "t_394 : loss : 0.01649 gap : 1.370050995319616e-06 local_gap 0.0005394156323745847\n",
      "t_395 : loss : 0.01829 gap : 1.0174886710956343e-06 local_gap 0.0004015554441139102\n"
     ]
    },
    {
     "name": "stdout",
     "output_type": "stream",
     "text": [
      "t_396 : loss : 0.01867 gap : 1.2696726798822056e-06 local_gap 0.0005030425963923335\n",
      "t_397 : loss : 0.01619 gap : 4.4625693362831953e-07 local_gap 0.00017634058895055205\n",
      "t_398 : loss : 0.01668 gap : 1.596428660377569e-06 local_gap 0.0006365287699736655\n",
      "t_399 : loss : 0.01487 gap : 1.7224156181327999e-06 local_gap 0.0006873698439449072\n",
      "t_400 : loss : 0.01933 gap : 5.252560413282481e-07 local_gap 0.00021026763715781271\n",
      "t_401 : loss : 0.01618 gap : 9.15391410671873e-07 local_gap 0.00036773362080566585\n",
      "t_402 : loss : 0.01868 gap : 6.6477878135629e-07 local_gap 0.000266990449745208\n",
      "t_403 : loss : 0.01791 gap : 6.969489163566323e-07 local_gap 0.0002809025754686445\n",
      "t_404 : loss : 0.02220 gap : 2.0853635760431644e-06 local_gap 0.0008438753429800272\n",
      "t_405 : loss : 0.01711 gap : 1.3680607935384614e-06 local_gap 0.0005533473449759185\n",
      "t_406 : loss : 0.02238 gap : 3.0539642921212362e-06 local_gap 0.001241810037754476\n",
      "t_407 : loss : 0.02276 gap : 2.8127140012657037e-06 local_gap 0.0011445333948358893\n",
      "t_408 : loss : 0.01884 gap : 2.888279141188832e-06 local_gap 0.0011784934904426336\n",
      "t_409 : loss : 0.01838 gap : 2.4632383883727016e-06 local_gap 0.0010070394491776824\n",
      "t_410 : loss : 0.01677 gap : 2.2817312128609046e-06 local_gap 0.0009353282512165606\n",
      "t_411 : loss : 0.01418 gap : 2.1947917048237287e-06 local_gap 0.0009019724675454199\n",
      "t_412 : loss : 0.01968 gap : 2.007529474212788e-06 local_gap 0.000826914852950722\n",
      "t_413 : loss : 0.01191 gap : 1.7092879716074094e-06 local_gap 0.0007056376780383289\n",
      "t_414 : loss : 0.01165 gap : 1.5582132846247987e-06 local_gap 0.0006449622451327741\n",
      "t_415 : loss : 0.08001 gap : 1.561833869345719e-06 local_gap 0.0006481723394244909\n",
      "t_416 : loss : 0.01068 gap : 1.588359054949251e-06 local_gap 0.0006607839022763073\n",
      "t_417 : loss : 0.00777 gap : 1.446108399250079e-06 local_gap 0.0006028849165886641\n",
      "t_418 : loss : 0.01092 gap : 1.290825025535014e-06 local_gap 0.0005394095787778497\n",
      "t_419 : loss : 0.01087 gap : 1.2589774769367068e-06 local_gap 0.0005274797440506518\n",
      "t_420 : loss : 0.01449 gap : 2.2642468593403464e-06 local_gap 0.0009530304232612252\n",
      "t_421 : loss : 0.05022 gap : 1.924652224261081e-06 local_gap 0.0008099389960989356\n",
      "t_422 : loss : 0.01193 gap : 1.6387207324441988e-06 local_gap 0.0006912542157806456\n",
      "t_423 : loss : 0.00598 gap : 1.4548522813129239e-06 local_gap 0.0006152186542749405\n",
      "t_424 : loss : 0.01007 gap : 1.440544565411983e-06 local_gap 0.0006107765948399901\n",
      "t_425 : loss : 0.00197 gap : 1.0787103974507772e-06 local_gap 0.00045809007133357227\n",
      "t_426 : loss : 0.01014 gap : 1.0543127473283675e-06 local_gap 0.00044911282020621\n",
      "t_427 : loss : 0.06555 gap : 8.114254228530626e-07 local_gap 0.0003462357562966645\n",
      "t_428 : loss : 0.02020 gap : 5.478138973558089e-07 local_gap 0.00023433114984072745\n",
      "t_429 : loss : 0.03227 gap : 5.532049840439868e-07 local_gap 0.00023733034322503954\n",
      "t_430 : loss : 0.01883 gap : 7.443105687343632e-07 local_gap 0.00032045936677604914\n",
      "t_431 : loss : 0.02562 gap : 7.460560027539032e-07 local_gap 0.0003218860365450382\n",
      "t_432 : loss : 0.01481 gap : 5.512087568604329e-07 local_gap 0.00023818589397706091\n",
      "t_433 : loss : 0.02015 gap : 4.705432559148903e-07 local_gap 0.00020389060955494642\n",
      "t_434 : loss : 0.01251 gap : 6.664181455562357e-07 local_gap 0.00028959146584384143\n",
      "t_435 : loss : 0.01391 gap : 5.704731051991985e-07 local_gap 0.00024823754210956395\n",
      "t_436 : loss : 0.01680 gap : 6.37113771517761e-07 local_gap 0.0002780553186312318\n",
      "t_437 : loss : 0.01206 gap : 7.713612717452634e-07 local_gap 0.0003376101958565414\n",
      "t_438 : loss : 0.01484 gap : 7.207551107057952e-07 local_gap 0.0003156401216983795\n",
      "t_439 : loss : 0.01380 gap : 7.12504686362081e-07 local_gap 0.00031334575032815337\n",
      "t_440 : loss : 0.01352 gap : 9.237251106242184e-07 local_gap 0.00040676078060641885\n"
     ]
    }
   ],
   "source": [
    "values_dmfw = trainXMFW.train(DMFW, L_DMFW, eta_coef_DMFW, eta_exp_DMFW, reg_coef_DMFW,1,\n",
    "                            path_figure_date=path_log)"
   ]
  },
  {
   "cell_type": "code",
   "execution_count": 1108,
   "metadata": {
    "ExecuteTime": {
     "end_time": "2021-08-22T09:02:48.464592Z",
     "start_time": "2021-08-22T09:02:48.458937Z"
    }
   },
   "outputs": [],
   "source": [
    "def save_log_csv(log_file, path_to_save,floor_idx,graph):\n",
    "    logs = pd.DataFrame(log_file, columns=[\"Iteration\", \"Loss\", \"Gap\", \"Local Gaps\"])\n",
    "    pd.DataFrame.to_csv(logs, os.path.join(path_to_save,f'Floor_{floor_idx}_'+\"_\"+f'{graph}'+\".csv\"))\n",
    "def save_state_dict(model, model_idx, path_to_save,floor_idx,graph):\n",
    "    torch.save(model.state_dict(), os.path.join(path_to_save,f'Floor{floor_idx}_model{model_idx}_{graph}_statedict.pt'))"
   ]
  },
  {
   "cell_type": "code",
   "execution_count": 187,
   "metadata": {
    "ExecuteTime": {
     "end_time": "2021-08-19T15:11:22.592317Z",
     "start_time": "2021-08-19T15:11:22.589153Z"
    }
   },
   "outputs": [],
   "source": [
    "#path_log = \"/Users/Slaton/Documents/DMFW/BangkokDataAnalysis/OnlineModel/CNN1D/ACtoPower6/cycle\""
   ]
  },
  {
   "cell_type": "code",
   "execution_count": 1116,
   "metadata": {
    "ExecuteTime": {
     "end_time": "2021-08-22T09:03:33.726926Z",
     "start_time": "2021-08-22T09:03:33.711909Z"
    }
   },
   "outputs": [],
   "source": [
    "save_log_csv(values_dmfw, path_log, floor, \"cycle\")\n",
    "for i in range(4):\n",
    "    save_state_dict(trainXMFW.best_models[i],i, path_log, floor,\"cycle\")"
   ]
  },
  {
   "cell_type": "code",
   "execution_count": 1038,
   "metadata": {
    "ExecuteTime": {
     "end_time": "2021-08-22T01:08:43.706578Z",
     "start_time": "2021-08-22T01:08:43.500590Z"
    }
   },
   "outputs": [
    {
     "data": {
      "text/plain": [
       "Text(0, 0.5, 'Gap')"
      ]
     },
     "execution_count": 1038,
     "metadata": {},
     "output_type": "execute_result"
    },
    {
     "data": {
      "image/png": "[encoded data removed]",
      "text/plain": [
       "<Figure size 720x360 with 1 Axes>"
      ]
     },
     "metadata": {},
     "output_type": "display_data"
    }
   ],
   "source": [
    "plt.figure(figsize=(10,5))\n",
    "plt.suptitle(\"{}\".format(cycle))\n",
    "plt.plot(values_dmfw[:,0][:-1],values_dmfw[:,2][:-1], label='DMFW', marker='^', markersize=4,\n",
    "         markevery=[i for i in range(len(values_dmfw[:,0][1:])) if i%10==0])\n",
    "plt.axhline(y=0, color='grey', linestyle='--')\n",
    "plt.legend(loc='upper right')\n",
    "#plt.ylim((1e-4, 1e0))\n",
    "plt.yscale(\"log\")\n",
    "plt.xlabel(\"Iterations\",fontsize=15)\n",
    "plt.ylabel(\"Gap\",fontsize=15)"
   ]
  },
  {
   "cell_type": "code",
   "execution_count": 1079,
   "metadata": {
    "ExecuteTime": {
     "end_time": "2021-08-22T08:53:29.403573Z",
     "start_time": "2021-08-22T08:53:29.399071Z"
    }
   },
   "outputs": [
    {
     "data": {
      "text/plain": [
       "0.018391465904431886"
      ]
     },
     "execution_count": 1079,
     "metadata": {},
     "output_type": "execute_result"
    }
   ],
   "source": [
    "np.mean(values_dmfw[:,1][:-1])"
   ]
  },
  {
   "cell_type": "code",
   "execution_count": 1080,
   "metadata": {
    "ExecuteTime": {
     "end_time": "2021-08-22T08:53:33.458017Z",
     "start_time": "2021-08-22T08:53:33.454463Z"
    }
   },
   "outputs": [],
   "source": [
    "onlineloss = np.cumsum(values_dmfw[:,1][:-1])\n",
    "arangement = np.arange(1,len(onlineloss)+1)\n",
    "onlineloss = onlineloss/arangement"
   ]
  },
  {
   "cell_type": "code",
   "execution_count": 1081,
   "metadata": {
    "ExecuteTime": {
     "end_time": "2021-08-22T08:53:37.544688Z",
     "start_time": "2021-08-22T08:53:37.347480Z"
    }
   },
   "outputs": [
    {
     "data": {
      "text/plain": [
       "Text(0, 0.5, 'Loss')"
      ]
     },
     "execution_count": 1081,
     "metadata": {},
     "output_type": "execute_result"
    },
    {
     "data": {
      "image/png": "[encoded data removed]",
      "text/plain": [
       "<Figure size 720x360 with 1 Axes>"
      ]
     },
     "metadata": {},
     "output_type": "display_data"
    }
   ],
   "source": [
    "\n",
    "plt.figure(figsize=(10,5))\n",
    "#plt.suptitle(\"{}\".format(cycle))\n",
    "plt.plot(values_dmfw[:,0][:-1],values_dmfw[:,1][:-1], label='Step Loss', marker='^', markersize=4,\n",
    "         markevery=[i for i in range(len(values_dmfw[:,0][1:])) if i%10==0])\n",
    "plt.plot(values_dmfw[:,0][:-1],onlineloss, label='Online Loss', marker='^', markersize=4,\n",
    "         markevery=[i for i in range(len(values_dmfw[:,0][1:])) if i%10==0])\n",
    "plt.axhline(y=0, color='grey', linestyle='--')\n",
    "plt.legend(loc='upper right')\n",
    "plt.yscale(\"log\")\n",
    "plt.xlabel(\"Iterations\",fontsize=15)\n",
    "plt.ylabel(\"Loss\",fontsize=15)"
   ]
  },
  {
   "cell_type": "markdown",
   "metadata": {},
   "source": [
    "# Prediction"
   ]
  },
  {
   "cell_type": "code",
   "execution_count": 951,
   "metadata": {
    "ExecuteTime": {
     "end_time": "2021-08-21T20:06:24.092735Z",
     "start_time": "2021-08-21T20:06:24.089073Z"
    }
   },
   "outputs": [],
   "source": [
    "def ModelPrediction(model_to_test, date ,loader, lookahead):\n",
    "    prediction = []\n",
    "    true = []\n",
    "    for val, valpred in loader[date]:\n",
    "        #minx, miny, maxx, maxy= val.min(), valpred.min(), val.max(), valpred.max()\n",
    "\n",
    "        #val_ = (val - minx)/(maxx - minx)\n",
    "        #valpred_ = (valpred - miny)/(maxy - miny)\n",
    "        #print(val_pred_)\n",
    "        model_to_test.eval()\n",
    "        pred = model_to_test(val)\n",
    "        #print(pred.shape)\n",
    "        prediction.append(pred.detach().numpy())#*(maxx - minx)+minx).numpy())\n",
    "        true.append(valpred.detach().numpy())#*(maxy - miny)+miny).numpy())\n",
    "    pred_array = np.asarray(prediction)\n",
    "    true_array = np.asarray(true)\n",
    "    #print(pred_array.shape)\n",
    "    pred_shape = pred_array.shape\n",
    "    #print(pred_shape)\n",
    "    flattenTrue = true_array.reshape(pred_shape[0]*pred_shape[1], lookahead)[::lookahead].flatten()\n",
    "    flattenPred = pred_array.reshape(pred_shape[0]*pred_shape[1], lookahead)[::lookahead].flatten()\n",
    "    return flattenTrue, flattenPred"
   ]
  },
  {
   "cell_type": "code",
   "execution_count": 952,
   "metadata": {
    "ExecuteTime": {
     "end_time": "2021-08-21T20:06:24.356847Z",
     "start_time": "2021-08-21T20:06:24.355125Z"
    }
   },
   "outputs": [],
   "source": [
    "#torch.save(trainXMFW.models[3].state_dict(),\"./OnlineModel/CNN1D/FINAL43_BestFinal/model3.pt\")"
   ]
  },
  {
   "cell_type": "code",
   "execution_count": 1102,
   "metadata": {
    "ExecuteTime": {
     "end_time": "2021-08-22T08:58:09.379275Z",
     "start_time": "2021-08-22T08:58:09.368929Z"
    }
   },
   "outputs": [],
   "source": [
    "model_trained = trainXMFW.best_models[0]\n",
    "true, pred = ModelPrediction(model_trained,\"2019-05-12\", testloader[0], lookahead=seq_len)"
   ]
  },
  {
   "cell_type": "code",
   "execution_count": 1103,
   "metadata": {
    "ExecuteTime": {
     "end_time": "2021-08-22T08:58:10.145622Z",
     "start_time": "2021-08-22T08:58:10.051016Z"
    }
   },
   "outputs": [
    {
     "data": {
      "text/plain": [
       "[<matplotlib.lines.Line2D at 0x2a7fe8370>]"
      ]
     },
     "execution_count": 1103,
     "metadata": {},
     "output_type": "execute_result"
    },
    {
     "data": {
      "image/png": "[encoded data removed]",
      "text/plain": [
       "<Figure size 432x288 with 1 Axes>"
      ]
     },
     "metadata": {},
     "output_type": "display_data"
    }
   ],
   "source": [
    "plt.plot(true) \n",
    "plt.plot(pred)"
   ]
  },
  {
   "cell_type": "code",
   "execution_count": 1086,
   "metadata": {
    "ExecuteTime": {
     "end_time": "2021-08-22T08:54:02.302246Z",
     "start_time": "2021-08-22T08:54:02.293684Z"
    }
   },
   "outputs": [],
   "source": [
    "def PredictionMultipleDate(model, dates, date_begin, date_end, loader, lookahead, scalers, zone_name, ft_idx):\n",
    "    predictTrue = []\n",
    "    predictPred = []\n",
    "    valuePD = pd.DataFrame()\n",
    "    idx_begin = dates.index(date_begin)\n",
    "    idx_end = dates.index(date_end)\n",
    "    for date in dates[idx_begin:idx_end]:\n",
    "        true, pred = ModelPrediction(model, date, loader, lookahead=lookahead)\n",
    "        maxi = scalers[zone_name].data_max_[ft_idx]\n",
    "        mini = scalers[zone_name].data_min_[ft_idx]\n",
    "        #mean_ = scalers[zone_name].mean_[ft_idx]\n",
    "        #var_ = scalers[zone_name].var_[ft_idx]\n",
    "        #data_range = scalers[zone_name].data_range_[ft_idx]\n",
    "        data_range = 0.8\n",
    "        #true = true.reshape(-1,1)*var_ + mean_\n",
    "        #pred = pred.reshape(-1,1)*var_ + mean_\n",
    "        true = ((true.reshape(-1,1) - 0.2)*(maxi-mini))/data_range + mini\n",
    "        pred = ((pred.reshape(-1,1) - 0.2)*(maxi-mini))/data_range + mini\n",
    "        array = np.concatenate([true, pred],axis=1)\n",
    "        result = pd.DataFrame({\"Truth\": true.squeeze(),\n",
    "                              \"Prediction\" : pred.squeeze()})\n",
    "                              #\"Date\": pd.date_range(start=date,periods=true.shape[0], freq=\"5min\")})\n",
    "        valuePD = pd.concat((valuePD, result)).reset_index(drop=True)\n",
    "    return valuePD"
   ]
  },
  {
   "cell_type": "code",
   "execution_count": 1087,
   "metadata": {
    "ExecuteTime": {
     "end_time": "2021-08-22T08:54:02.520274Z",
     "start_time": "2021-08-22T08:54:02.515839Z"
    }
   },
   "outputs": [
    {
     "data": {
      "text/plain": [
       "Index(['ACPower', 'lightPower', 'appPower', 'temperature', 'humidity', 'lux'], dtype='object')"
      ]
     },
     "execution_count": 1087,
     "metadata": {},
     "output_type": "execute_result"
    }
   ],
   "source": [
    "floor_dict[\"Floor7Z1\"].columns"
   ]
  },
  {
   "cell_type": "code",
   "execution_count": 1126,
   "metadata": {
    "ExecuteTime": {
     "end_time": "2021-08-22T09:04:31.150143Z",
     "start_time": "2021-08-22T09:04:31.056041Z"
    }
   },
   "outputs": [],
   "source": [
    "ft_idx = 0\n",
    "indexroom = 3\n",
    "mymodel = trainXMFW.best_models[indexroom]\n",
    "real_index_zone = [1,2,4,5]\n",
    "#testloader = [loaderZ1test, loaderZ2test, loaderZ4test, loaderZ5test]\n",
    "may = [date for date in test_date if '2019-05' in date]\n",
    "myfloor = [\"Floor7Z1\",\"Floor7Z2\",\"Floor7Z4\",\"Floor7Z5\"]\n",
    "resultpd = PredictionMultipleDate(mymodel,test_date,may[0], may[-1],testloader[indexroom], seq_len, scalersY,\n",
    "                                 myfloor[indexroom], ft_idx)"
   ]
  },
  {
   "cell_type": "code",
   "execution_count": 1127,
   "metadata": {
    "ExecuteTime": {
     "end_time": "2021-08-22T09:04:31.947597Z",
     "start_time": "2021-08-22T09:04:31.510841Z"
    }
   },
   "outputs": [
    {
     "data": {
      "image/png": "[encoded data removed]",
      "text/plain": [
       "<Figure size 1080x360 with 1 Axes>"
      ]
     },
     "metadata": {},
     "output_type": "display_data"
    }
   ],
   "source": [
    "#sns.set_theme(style=\"whitegrid\")\n",
    "plt.figure(figsize=(15,5))\n",
    "plt.title(f'Floor {floor} - Zone {real_index_zone[indexroom]}')\n",
    "plt.plot(resultpd[\"Truth\"],label=\"Truth\")\n",
    "plt.plot(resultpd[\"Prediction\"],label=\"Prediction\",ls='-')\n",
    "plt.xticks(ticks=np.arange(resultpd.shape[0],step=100))\n",
    "plt.legend()\n",
    "plt.xlabel(\"Timestep\")\n",
    "plt.ylabel(f'{featureY}')\n",
    "plt.show()"
   ]
  },
  {
   "cell_type": "code",
   "execution_count": 1128,
   "metadata": {
    "ExecuteTime": {
     "end_time": "2021-08-22T09:04:34.189641Z",
     "start_time": "2021-08-22T09:04:34.165124Z"
    }
   },
   "outputs": [],
   "source": [
    "pd.DataFrame.to_csv(resultpd,path_log+f'/prediction-zone{real_index_zone[indexroom]}.csv')"
   ]
  },
  {
   "cell_type": "code",
   "execution_count": 1093,
   "metadata": {
    "ExecuteTime": {
     "end_time": "2021-08-22T08:55:25.997429Z",
     "start_time": "2021-08-22T08:55:25.994241Z"
    }
   },
   "outputs": [],
   "source": [
    "pred_ac = resultpd[\"Prediction\"].values"
   ]
  },
  {
   "cell_type": "code",
   "execution_count": 1096,
   "metadata": {
    "ExecuteTime": {
     "end_time": "2021-08-22T08:56:08.000300Z",
     "start_time": "2021-08-22T08:56:07.894240Z"
    }
   },
   "outputs": [
    {
     "data": {
      "text/plain": [
       "(array([3684.,    4.,   36.,   15.,    9.,   18.,    6.,   14.,  604.,\n",
       "        1308.]),\n",
       " array([  0.      ,  19.428001,  38.856003,  58.284004,  77.712006,\n",
       "         97.14001 , 116.56801 , 135.996   , 155.42401 , 174.85202 ,\n",
       "        194.28001 ], dtype=float32),\n",
       " <BarContainer object of 10 artists>)"
      ]
     },
     "execution_count": 1096,
     "metadata": {},
     "output_type": "execute_result"
    },
    {
     "data": {
      "image/png": "[encoded data removed]",
      "text/plain": [
       "<Figure size 432x288 with 1 Axes>"
      ]
     },
     "metadata": {},
     "output_type": "display_data"
    }
   ],
   "source": [
    "plt.hist(resultpd[\"Truth\"].values)"
   ]
  },
  {
   "cell_type": "code",
   "execution_count": 1094,
   "metadata": {
    "ExecuteTime": {
     "end_time": "2021-08-22T08:55:34.053690Z",
     "start_time": "2021-08-22T08:55:33.954888Z"
    }
   },
   "outputs": [
    {
     "data": {
      "text/plain": [
       "(array([2542.,  554.,  262.,  290.,  347.,  386.,  452.,  333.,  344.,\n",
       "         188.]),\n",
       " array([ -7.6794095,  20.249243 ,  48.177895 ,  76.10655  , 104.0352   ,\n",
       "        131.96385  , 159.8925   , 187.82115  , 215.74982  , 243.67847  ,\n",
       "        271.60712  ], dtype=float32),\n",
       " <BarContainer object of 10 artists>)"
      ]
     },
     "execution_count": 1094,
     "metadata": {},
     "output_type": "execute_result"
    },
    {
     "data": {
      "image/png": "[encoded data removed]",
      "text/plain": [
       "<Figure size 432x288 with 1 Axes>"
      ]
     },
     "metadata": {},
     "output_type": "display_data"
    }
   ],
   "source": [
    "plt.hist(pred_ac)"
   ]
  },
  {
   "cell_type": "raw",
   "metadata": {
    "ExecuteTime": {
     "end_time": "2021-07-24T09:40:30.932087Z",
     "start_time": "2021-07-24T09:40:30.927551Z"
    }
   },
   "source": [
    "floor_dict[\"Floor7Z1\"].columns"
   ]
  }
 ],
 "metadata": {
  "kernelspec": {
   "display_name": "Python 3 (ipykernel)",
   "language": "python",
   "name": "python3"
  },
  "language_info": {
   "codemirror_mode": {
    "name": "ipython",
    "version": 3
   },
   "file_extension": ".py",
   "mimetype": "text/x-python",
   "name": "python",
   "nbconvert_exporter": "python",
   "pygments_lexer": "ipython3",
   "version": "3.8.10"
  },
  "toc": {
   "base_numbering": 1,
   "nav_menu": {},
   "number_sections": true,
   "sideBar": true,
   "skip_h1_title": false,
   "title_cell": "Table of Contents",
   "title_sidebar": "Contents",
   "toc_cell": false,
   "toc_position": {},
   "toc_section_display": true,
   "toc_window_display": false
  }
 },
 "nbformat": 4,
 "nbformat_minor": 4
}
