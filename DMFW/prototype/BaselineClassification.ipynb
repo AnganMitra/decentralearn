{
 "cells": [
  {
   "cell_type": "code",
   "execution_count": 22,
   "id": "6d7a0250",
   "metadata": {
    "ExecuteTime": {
     "end_time": "2021-08-26T15:30:14.707030Z",
     "start_time": "2021-08-26T15:30:14.703971Z"
    }
   },
   "outputs": [],
   "source": [
    "import pandas as pd\n",
    "import numpy as np\n",
    "import dill\n",
    "import torch.nn as nn\n",
    "import torch\n",
    "import seaborn as sns; sns.set()\n",
    "import matplotlib.pyplot as plt\n",
    "import os\n",
    "import random\n",
    "import copy\n",
    "from imblearn.over_sampling import SMOTE, ADASYN\n",
    "from sklearn.metrics import confusion_matrix\n",
    "from collections import defaultdict, Counter\n",
    "from torch.utils.data import TensorDataset, DataLoader\n",
    "from torch.optim.optimizer import required\n",
    "from torch import optim\n",
    "from torchinfo import summary\n",
    "from sklearn.preprocessing import MinMaxScaler, StandardScaler\n",
    "from statsmodels.graphics.tsaplots import plot_acf\n",
    "from sklearn.utils import class_weight\n",
    "sns.set_theme(style=\"whitegrid\")"
   ]
  },
  {
   "cell_type": "code",
   "execution_count": 2,
   "id": "dc04de21",
   "metadata": {
    "ExecuteTime": {
     "end_time": "2021-08-26T15:27:05.057829Z",
     "start_time": "2021-08-26T15:27:05.056377Z"
    }
   },
   "outputs": [],
   "source": [
    "bkdatafolder = \"/Users/Slaton/Documents/DMFW/BangkokDataAnalysis/gitdecenlearn/BKDataCleaned/\""
   ]
  },
  {
   "cell_type": "code",
   "execution_count": 3,
   "id": "53eeda11",
   "metadata": {
    "ExecuteTime": {
     "end_time": "2021-08-26T15:27:12.494437Z",
     "start_time": "2021-08-26T15:27:12.484700Z"
    }
   },
   "outputs": [],
   "source": [
    "def createDictFloor(floor_idx,path):\n",
    "    floorname = f'Floor{floor_idx}'\n",
    "    fulldata = os.listdir(path)\n",
    "    getdict = {}\n",
    "    floors = [floor for floor in fulldata if floorname in floor]\n",
    "    for name in floors:\n",
    "        floor_zone = name.split(\".\")[0]\n",
    "        getdict[floor_zone] = pd.read_csv(path+name, index_col=0, parse_dates=[\"Date\"])\n",
    "        getdict[floor_zone] = getdict[floor_zone].sort_index()\n",
    "    return getdict\n",
    "\n",
    "def Missing_values(data):\n",
    "    total = data.isnull().sum().sort_values(ascending=False)\n",
    "    percent = (data.isnull().sum()/data.isnull().count()).sort_values(ascending=False)\n",
    "    missing_data = pd.concat([total,percent], axis=1, keys=['Total', 'Pourcentage'])\n",
    "    print (missing_data[(percent>0)],'\\n' )\n",
    "\n",
    "def seed_everything(seed=0):\n",
    "    random.seed(seed)\n",
    "    os.environ['PYTHONHASHSEED'] = str(seed)\n",
    "    np.random.seed(seed)\n",
    "    torch.manual_seed(seed)\n",
    "    torch.cuda.manual_seed(seed)\n",
    "    torch.backends.cudnn.deterministic = True\n",
    "    \n",
    "def createDTFeat(date1, date2, datadict, featureX, featureY, resample_method_X=\"mean\", resample_method_Y = \"sum\" ,scale=True):\n",
    "    resample_move = {}\n",
    "    index_nan = {}\n",
    "    index_small = {}\n",
    "    floors = list(datadict.keys())\n",
    "    dates = []\n",
    "    scalers = {}\n",
    "    for floorname in datadict.keys():\n",
    "        dataX = datadict[floorname][date1:date2][featureX].copy()\n",
    "        dataY = datadict[floorname][date1:date2][featureY].copy()\n",
    "        \n",
    "        if resample_method_X == \"sum\":\n",
    "            dataX = dataX.resample(\"5T\").sum()\n",
    "            \n",
    "        elif resample_method_X == \"mean\":\n",
    "            dataX = dataX.resample(\"5T\").mean().bfill()\n",
    "        else:\n",
    "            pass\n",
    "        \n",
    "        if resample_method_Y ==\"sum\":\n",
    "            dataY = dataY.resample(\"5T\").sum()\n",
    "        elif resample_method_Y == \"mean\":\n",
    "            dataY = dataY.resample(\"5T\").mean().bfill()\n",
    "        else:\n",
    "            pass\n",
    "        \n",
    "        resample_move[floorname] = pd.concat([dataX, dataY],axis=1)\n",
    "        resample_move[floorname][\"date\"] = resample_move[floorname].index.date\n",
    "        resample_move[floorname][\"date\"] = resample_move[floorname][\"date\"].apply(lambda x: x.strftime(\"%Y-%m-%d\"))\n",
    "    for date in resample_move[floors[0]][\"date\"]:\n",
    "        dates.append(str(date))\n",
    "    dates = sorted(set(dates))\n",
    "            \n",
    "    return resample_move, dates\n",
    "            \n",
    "        #mysample[data] = resample_move[data].copy()\n",
    "           \n",
    "def data_scaling(datadict, feature):\n",
    "    scalers = {}\n",
    "    scaled_data_dict = datadict.copy()\n",
    "    for floorname in datadict.keys():\n",
    "        cols = datadict[floorname][feature].columns\n",
    "        idx = datadict[floorname][feature].index\n",
    "        scaler = MinMaxScaler(feature_range=(0,1))\n",
    "        scaler.fit(datadict[floorname][feature])\n",
    "        scaled_data_dict[floorname][feature] = pd.DataFrame(scaler.transform(\n",
    "                                                datadict[floorname][feature]),columns=cols,index=idx)\n",
    "        scalers[data] = scaler\n",
    "\n",
    "    return scaled_data_dict\n",
    "\n",
    "def getInfoTimeShape(datadict):\n",
    "    for floor in datadict.keys():\n",
    "        data = datadict[floor]\n",
    "        print(\"Floor : {} , shape :{} , TimeMin {} , TimeMax {}\".format(floor,data.shape, data.index.min(), data.index.max()))\n",
    "        Missing_values(data)\n",
    "        \n",
    "def cleanNan(data,idx_nan):\n",
    "    index=[]\n",
    "    for k,v in idx_nan.items():\n",
    "        for ele in v:\n",
    "            index.append(ele)\n",
    "    mynan = set(index)\n",
    "    newdata = data.copy()\n",
    "    remain_date = []\n",
    "    for floor in idx_nan.keys():\n",
    "        datafloor = data[floor]\n",
    "        todropnan = datafloor[datafloor[\"date\"].isin(list(mynan))].index\n",
    "        datafloor = datafloor.drop(todropnan)\n",
    "        newdata[floor] = datafloor\n",
    "        for date in datafloor[\"date\"]:\n",
    "            remain_date.append(str(date))\n",
    "    remain_date = sorted(set(remain_date))\n",
    "    return data, remain_date"
   ]
  },
  {
   "cell_type": "code",
   "execution_count": 4,
   "id": "487043b8",
   "metadata": {
    "ExecuteTime": {
     "end_time": "2021-08-26T15:27:21.200437Z",
     "start_time": "2021-08-26T15:27:21.196734Z"
    }
   },
   "outputs": [],
   "source": [
    "def create_power_class(data_dict, conditions, feature):\n",
    "    keys = sorted(list(data_dict.keys()))\n",
    "    classes = list(conditions[keys[0]].keys())\n",
    "    new_datadict = data_dict.copy()\n",
    "    for floor_name in keys:\n",
    "        data_dict[floor_name][\"ACPowerClass\"] = pd.Series(dtype='object')\n",
    "        for p_class in classes:\n",
    "            idx_classes = data_dict[floor_name].loc[(data_dict[floor_name][feature] >= conditions[floor_name][p_class][0]) &\n",
    "                                         (data_dict[floor_name][feature] <= conditions[floor_name][p_class][1])]\n",
    "            new_datadict[floor_name][\"ACPowerClass\"].loc[idx_classes.index] = new_datadict[floor_name][\"ACPowerClass\"].loc[idx_classes.index].apply(lambda x: p_class)\n",
    "    return new_datadict"
   ]
  },
  {
   "cell_type": "code",
   "execution_count": 5,
   "id": "737e9d33",
   "metadata": {
    "ExecuteTime": {
     "end_time": "2021-08-26T15:27:30.275733Z",
     "start_time": "2021-08-26T15:27:29.237253Z"
    }
   },
   "outputs": [
    {
     "name": "stdout",
     "output_type": "stream",
     "text": [
      "Floor7Z4 Start: 2019-03-06 14:46:00 End: 2019-12-31 23:59:00 Count:416243\n",
      "\n",
      "Floor7Z5 Start: 2019-03-06 14:55:00 End: 2019-12-31 23:59:00 Count:407698\n",
      "\n",
      "Floor7Z2 Start: 2019-03-06 14:48:00 End: 2019-12-31 23:59:00 Count:424701\n",
      "\n",
      "Floor7Z1 Start: 2019-03-06 14:50:00 End: 2019-12-31 23:59:00 Count:424099\n",
      "\n"
     ]
    }
   ],
   "source": [
    "date1 = \"2019-03-07\"\n",
    "date2 = \"2019-12-31\"\n",
    "floor = 7\n",
    "floor_dict = createDictFloor(floor, bkdatafolder)\n",
    "for data in floor_dict.keys():\n",
    "    zone = floor_dict[data]\n",
    "    print(\"{} Start: {} End: {} Count:{}\".format(data,zone.index.min(),zone.index.max(), zone.shape[0]))\n",
    "    print(\"\")"
   ]
  },
  {
   "cell_type": "code",
   "execution_count": 6,
   "id": "3ba18d81",
   "metadata": {
    "ExecuteTime": {
     "end_time": "2021-08-26T15:27:49.878837Z",
     "start_time": "2021-08-26T15:27:49.876100Z"
    }
   },
   "outputs": [],
   "source": [
    "set_point = {\"Floor7Z1\":{\"Low Power\":[0,30],\n",
    "                        \"High Power\":[30,100]},\n",
    "            \"Floor7Z2\":{\"Low Power\":[0,25],\n",
    "                       \"High Power\":[25,100]},\n",
    "            \"Floor7Z4\":{\"Low Power\":[0,25],\n",
    "                       \"High Power\":[25,100]},\n",
    "            \"Floor7Z5\":{\"Low Power\":[0,15],\n",
    "                       \"High Power\":[15,100]}}"
   ]
  },
  {
   "cell_type": "code",
   "execution_count": 15,
   "id": "17dcd68f",
   "metadata": {
    "ExecuteTime": {
     "end_time": "2021-08-26T15:29:03.086390Z",
     "start_time": "2021-08-26T15:29:03.079396Z"
    }
   },
   "outputs": [],
   "source": [
    "def rolling_window(series, window_size, stride=1):\n",
    "    return np.array([series[i : (i + window_size)] for i in range(0, series.shape[0] - window_size + 1, stride)])\n",
    "\n",
    "def to_timeseries_input(series, lookback, predictions):\n",
    "    inputs = rolling_window(series[:-predictions], lookback)\n",
    "    outputs = rolling_window(series[lookback:], predictions)\n",
    "    return inputs, outputs\n",
    "\n",
    "def createDataByDate(datadict, features, dates):\n",
    "    databyDate = defaultdict(lambda : defaultdict(dict))\n",
    "    for date in dates:\n",
    "        for floor in datadict.keys():\n",
    "            databyDate[date][floor] = np.asarray(datadict[floor][date][features])\n",
    "    return databyDate\n",
    "\n",
    "def splitDate(dates,cutoff):\n",
    "    train_date = [x for x in dates if x <= cutoff]\n",
    "    test_date = sorted(list(set(dates) - set(train_date)))\n",
    "    return train_date, test_date\n",
    "\n",
    "def LoaderByZoneXY(dataX, dataY, zone_name,dates, seq_len, batch_size, shuffle=False):\n",
    "    loaderZ = {}\n",
    "    encode = {\"Low Power\": 0, \"High Power\": 1}\n",
    "    #mid, high, low = 0., 0., 0.\n",
    "    for i,date in enumerate(dates):\n",
    "        trainx = rolling_window(dataX[date][zone_name], seq_len)\n",
    "        trainy = rolling_window(dataY[date][zone_name], seq_len)\n",
    "        #print(len(trainy))\n",
    "        to_class_y = torch.zeros((trainy.shape[0])) #[0.]*trainy.shape[0]\n",
    "        mid, high, low = 0., 0., 0.\n",
    "        for idx_y in range(trainy.shape[0]):\n",
    "            selected = select_impact_powerclass(trainy[idx_y])\n",
    "            if selected == \"High Power\":\n",
    "                high += 1\n",
    "            #elif selected == \"Mid Power\":\n",
    "            #    mid += 1\n",
    "            elif selected == \"Low Power\":\n",
    "                low += 1\n",
    "            to_class_y[idx_y] = encode[selected]\n",
    "            #print(f'Chosen class {selected} Encode {to_class_y[idx_y]}')\n",
    "        #print(f'Low count {low} High count {high}')\n",
    "        xshape = torch.tensor(trainx, dtype=torch.float)\n",
    "        yshape = torch.tensor(to_class_y, dtype=torch.long)\n",
    "        #print(xshape.shape, yshape.shape)\n",
    "        tensorwrap = TensorDataset(xshape,yshape)\n",
    "        loaderxy = DataLoader(tensorwrap,batch_size = batch_size, shuffle=shuffle, drop_last=False)\n",
    "        loaderZ[date] = loaderxy\n",
    "    return loaderZ\n",
    "\n",
    "def select_impact_powerclass(y):\n",
    "    rev_dict = defaultdict(list)\n",
    "    ct = Counter(y)\n",
    "    for k,v in ct.items():\n",
    "        rev_dict[v].append(k)\n",
    "    list_class = list(rev_dict.keys())\n",
    "    if len(list_class) == 1:\n",
    "        key = list_class[0]\n",
    "        return rev_dict[key][0] \n",
    "    else:\n",
    "        key = max(list_class)\n",
    "        if len(rev_dict[key]) == 1:\n",
    "            return rev_dict[key][0]\n",
    "        elif len(rev_dict[key]) > 1:\n",
    "            #if \"Mid Power\" in rev_dict[key]:\n",
    "            #    return \"Mid Power\"\n",
    "            if \"High Power\" in rev_dict[key]:\n",
    "                return \"High Power\"\n",
    "            else:\n",
    "                return \"Low Power\""
   ]
  },
  {
   "cell_type": "code",
   "execution_count": 16,
   "id": "76776066",
   "metadata": {
    "ExecuteTime": {
     "end_time": "2021-08-26T15:29:05.777609Z",
     "start_time": "2021-08-26T15:29:04.386177Z"
    }
   },
   "outputs": [
    {
     "name": "stderr",
     "output_type": "stream",
     "text": [
      "/Users/Slaton/miniforge3/envs/tf_macos/lib/python3.8/site-packages/pandas/core/indexing.py:1732: SettingWithCopyWarning: \n",
      "A value is trying to be set on a copy of a slice from a DataFrame\n",
      "\n",
      "See the caveats in the documentation: https://pandas.pydata.org/pandas-docs/stable/user_guide/indexing.html#returning-a-view-versus-a-copy\n",
      "  self._setitem_single_block(indexer, value, name)\n"
     ]
    }
   ],
   "source": [
    "featureX = [\"temperature\"]\n",
    "featureY = \"ACPower\"\n",
    "resample_methodX = \"mean\"\n",
    "resample_methodY = \"mean\"\n",
    "resample_data, remain_date = createDTFeat(date1, date2, floor_dict, featureX, featureY,resample_method_X=resample_methodX, resample_method_Y=resample_methodY)\n",
    "resample_data_classes = create_power_class(resample_data, set_point, \"ACPower\")\n",
    "scaled_data = data_scaling(resample_data_classes, featureX)"
   ]
  },
  {
   "cell_type": "code",
   "execution_count": 17,
   "id": "64e99389",
   "metadata": {
    "ExecuteTime": {
     "end_time": "2021-08-26T15:29:06.481266Z",
     "start_time": "2021-08-26T15:29:05.778506Z"
    }
   },
   "outputs": [
    {
     "name": "stderr",
     "output_type": "stream",
     "text": [
      "/var/folders/wm/ymsmhgr90dd6gyprvtgvcr080000gn/T/ipykernel_9547/2444705561.py:13: FutureWarning: Indexing a DataFrame with a datetimelike index using a single string to slice the rows, like `frame[string]`, is deprecated and will be removed in a future version. Use `frame.loc[string]` instead.\n",
      "  databyDate[date][floor] = np.asarray(datadict[floor][date][features])\n"
     ]
    }
   ],
   "source": [
    "cutting_date = \"2019-05-08\"\n",
    "train_date, test_date = splitDate(remain_date, cutting_date)\n",
    "databyDateX = createDataByDate(scaled_data, featureX, remain_date)\n",
    "databyDateY = createDataByDate(scaled_data, \"ACPowerClass\", remain_date)"
   ]
  },
  {
   "cell_type": "code",
   "execution_count": 26,
   "id": "4b713d2f",
   "metadata": {
    "ExecuteTime": {
     "end_time": "2021-08-26T15:32:09.992191Z",
     "start_time": "2021-08-26T15:32:08.554998Z"
    }
   },
   "outputs": [
    {
     "name": "stdout",
     "output_type": "stream",
     "text": [
      "-----Floor7Z1-----\n"
     ]
    },
    {
     "name": "stderr",
     "output_type": "stream",
     "text": [
      "/var/folders/wm/ymsmhgr90dd6gyprvtgvcr080000gn/T/ipykernel_9547/2444705561.py:43: UserWarning: To copy construct from a tensor, it is recommended to use sourceTensor.clone().detach() or sourceTensor.clone().detach().requires_grad_(True), rather than torch.tensor(sourceTensor).\n",
      "  yshape = torch.tensor(to_class_y, dtype=torch.long)\n"
     ]
    },
    {
     "name": "stdout",
     "output_type": "stream",
     "text": [
      "-----Floor7Z2-----\n",
      "-----Floor7Z4-----\n",
      "-----Floor7Z5-----\n"
     ]
    }
   ],
   "source": [
    "batch_size = 32\n",
    "seq_len = 13\n",
    "nb_zone = 5\n",
    "trainloader = []\n",
    "testloader = []\n",
    "for zone in range(1,nb_zone+1):\n",
    "    if zone != 3:\n",
    "        zoneID = f\"Floor{floor}Z{zone}\"\n",
    "        print(f'-----{zoneID}-----')\n",
    "        loaderZtrain = LoaderByZoneXY(databyDateX, databyDateY, zoneID, train_date,seq_len,batch_size, shuffle=True)\n",
    "        loaderZtest = LoaderByZoneXY(databyDateX, databyDateY, zoneID, test_date,seq_len,batch_size, shuffle=False)\n",
    "        trainloader.append(loaderZtrain)\n",
    "        testloader.append(loaderZtest)\n",
    "zone_no=len(trainloader)"
   ]
  },
  {
   "cell_type": "code",
   "execution_count": 27,
   "id": "f0ed772a",
   "metadata": {
    "ExecuteTime": {
     "end_time": "2021-08-26T15:32:09.995365Z",
     "start_time": "2021-08-26T15:32:09.993201Z"
    }
   },
   "outputs": [
    {
     "data": {
      "text/plain": [
       "567"
      ]
     },
     "execution_count": 27,
     "metadata": {},
     "output_type": "execute_result"
    }
   ],
   "source": [
    "nb_iterations = len(train_date)*len(trainloader[0][\"2019-03-08\"])\n",
    "nb_iterations"
   ]
  },
  {
   "cell_type": "markdown",
   "id": "f23eff55",
   "metadata": {},
   "source": [
    "# Algorithm "
   ]
  },
  {
   "cell_type": "code",
   "execution_count": 45,
   "id": "9b805cb9",
   "metadata": {
    "ExecuteTime": {
     "end_time": "2021-08-26T15:35:36.601347Z",
     "start_time": "2021-08-26T15:35:36.599767Z"
    }
   },
   "outputs": [],
   "source": [
    "import sys\n",
    "sys.path.append('../src/')"
   ]
  },
  {
   "cell_type": "code",
   "execution_count": 46,
   "id": "5e3406eb",
   "metadata": {
    "ExecuteTime": {
     "end_time": "2021-08-26T15:35:54.302035Z",
     "start_time": "2021-08-26T15:35:54.209652Z"
    }
   },
   "outputs": [],
   "source": [
    "from sklearn.metrics import f1_score, precision_score, recall_score, classification_report\n",
    "from algoaux import *\n",
    "from optimizerDMFW import *\n",
    "#from trainer import *\n",
    "from graphs import *"
   ]
  },
  {
   "cell_type": "code",
   "execution_count": 109,
   "id": "6f622505",
   "metadata": {
    "ExecuteTime": {
     "end_time": "2021-08-26T16:21:08.448265Z",
     "start_time": "2021-08-26T16:21:08.446795Z"
    }
   },
   "outputs": [],
   "source": [
    "import warnings\n",
    "warnings.filterwarnings('ignore')  # \"error\", \"ignore\", \"always\", \"default\", \"module\" or \"once\""
   ]
  },
  {
   "cell_type": "code",
   "execution_count": 47,
   "id": "3f5771e6",
   "metadata": {
    "ExecuteTime": {
     "end_time": "2021-08-26T15:35:58.426193Z",
     "start_time": "2021-08-26T15:35:58.424263Z"
    },
    "code_folding": [
     7
    ]
   },
   "outputs": [],
   "source": [
    "def gap_fn(grad, weight, radius):\n",
    "    fw_gap = 0\n",
    "    for grad_avg, weight in zip(grad, weight):\n",
    "        v = lmo(grad_avg, radius)\n",
    "        fw_gap += torch.sum(torch.mul(grad_avg, weight - v))\n",
    "    return fw_gap"
   ]
  },
  {
   "cell_type": "code",
   "execution_count": 48,
   "id": "d8ac0f42",
   "metadata": {
    "ExecuteTime": {
     "end_time": "2021-08-26T15:35:59.366525Z",
     "start_time": "2021-08-26T15:35:59.361393Z"
    }
   },
   "outputs": [],
   "source": [
    "class OFW(optim.Optimizer):\n",
    "    def __init__(self, params, eta_coef, eta_exp,radius):\n",
    "        defaults = dict(eta_coef=eta_coef, eta_exp = eta_exp)\n",
    "        super(OFW,self).__init__(params, defaults)\n",
    "        \n",
    "        self.num_layers = len(self.param_groups[0]['params'])\n",
    "        self.dim = [k.shape for k in self.param_groups[0]['params']]\n",
    "        self.radius = radius\n",
    "        self.average_grad = {}\n",
    "        for group in self.param_groups:\n",
    "            self.eta_coef = group['eta_coef']\n",
    "            self.eta_exp = group['eta_exp']\n",
    "            for k,weight in enumerate(group[\"params\"]):\n",
    "                self.average_grad[k] = torch.zeros_like(weight)\n",
    "        self.cpt = 0\n",
    "            \n",
    "            \n",
    "    #@torch.no_grad()\n",
    "    def grad_sum(self):\n",
    "        for group in self.param_groups:\n",
    "            for k,weight in enumerate(group[\"params\"]):\n",
    "                if weight.grad is None:\n",
    "                    raise ValueError(\"Gradient is None\")\n",
    "                self.average_grad[k] += weight.grad.data\n",
    "\n",
    "        self.cpt += 1\n",
    "        \n",
    "    def reset(self):\n",
    "        self.average_grad = {}\n",
    "        for group in self.param_groups:\n",
    "            for k,weight in enumerate(group[\"params\"]):\n",
    "                self.average_grad[k] = torch.zeros_like(weight)\n",
    "        self.cpt = 0\n",
    "    \n",
    "    def step(self,t):\n",
    "        eta = min(self.eta_coef/(t+1)**(self.eta_exp),1)\n",
    "        self.gap_val = 0.\n",
    "        for group in self.param_groups:\n",
    "            #print(group[\"params\"][0])\n",
    "            for k,weight in enumerate(group[\"params\"]):\n",
    "                avg = self.average_grad[k]/self.cpt\n",
    "                v = lmo(avg,self.radius)\n",
    "                self.gap_val += torch.sum(torch.mul(avg, weight.data - v))\n",
    "                weight.data = (1-eta)*weight.data + eta*v "
   ]
  },
  {
   "cell_type": "code",
   "execution_count": 50,
   "id": "84e01feb",
   "metadata": {
    "ExecuteTime": {
     "end_time": "2021-08-26T15:36:06.815670Z",
     "start_time": "2021-08-26T15:36:06.813647Z"
    }
   },
   "outputs": [],
   "source": [
    "def seed_everything(seed=0):\n",
    "    random.seed(seed)\n",
    "    os.environ['PYTHONHASHSEED'] = str(seed)\n",
    "    np.random.seed(seed)\n",
    "    torch.manual_seed(seed)\n",
    "    torch.cuda.manual_seed(seed)\n",
    "    torch.backends.cudnn.deterministic = True"
   ]
  },
  {
   "cell_type": "code",
   "execution_count": 139,
   "id": "b1e07d6d",
   "metadata": {
    "ExecuteTime": {
     "end_time": "2021-08-26T16:30:07.750855Z",
     "start_time": "2021-08-26T16:30:07.742356Z"
    }
   },
   "outputs": [],
   "source": [
    "class Trainer:\n",
    "    def __init__(self, loaders, model, model_param, loss,\n",
    "                 num_iterations):\n",
    "        #self.graph = graph\n",
    "        #self.num_nodes = graph.number_of_nodes()\n",
    "        self.model = model\n",
    "        self.param = model_param\n",
    "        #self.A = torch.tensor(nx.adjacency_matrix(graph).toarray())\n",
    "        self.dataloader = loaders\n",
    "        self.num_iterations = num_iterations\n",
    "        self.loss = loss\n",
    "        self.obj_values = np.ndarray((self.num_iterations + 1, 7),\n",
    "                                     dtype='float')\n",
    "\n",
    "        #self.optimizers = [0.] * self.num_nodes\n",
    "        #self.models = [0.] * self.num_nodes\n",
    "        #self.losses = [0.] * self.num_nodes\n",
    "        #self.gaps = [0.]*self.num_nodes\n",
    "\n",
    "    def reset(self):\n",
    "        #self.optimizers = [0.] * self.num_nodes\n",
    "        #self.models = [0.] * self.num_nodes\n",
    "        #self.losses = [0.] * self.num_nodes\n",
    "        #self.gaps = [0.] * self.num_nodes\n",
    "\n",
    "        self.obj_values = np.ndarray((self.num_iterations + 1, 7),\n",
    "                                     dtype='float')\n",
    "        \n",
    "    def __nodeInit(self, data, label):\n",
    "        nodewrap = TensorDataset(data, label)\n",
    "        nodes = DataLoader(nodewrap, batch_size=data.size(0), shuffle=False)\n",
    "        return nodes\n",
    "            \n",
    "    def initModelWeight(self, model):\n",
    "        for name,param in model.named_parameters():\n",
    "            if 'bias' in name:\n",
    "                nn.init.constant_(param,0.)\n",
    "            elif 'weight' in name:\n",
    "                if not 'batch' in name:\n",
    "                    nn.init.xavier_normal_(param)\n",
    "                else:\n",
    "                    nn.init.uniform_(param)\n",
    "                    \n",
    "    def convert_loader_to_batch(self,dataloader, dates, permute=False):\n",
    "        mydict = {}\n",
    "        t = 0\n",
    "        if permute:\n",
    "            np.random.shuffle(dates)\n",
    "        for date in dates:\n",
    "            for couple in dataloader[date]:\n",
    "                mydict[t] = couple\n",
    "                t+=1\n",
    "        return mydict\n",
    "    \n",
    "    def train_ofw(self,optimizer, eta_coef, eta_exp,radius, zone_idx,loader,dates):\n",
    "        seed_everything()\n",
    "        self.reset()\n",
    "        \n",
    "        zone = loader[zone_idx]\n",
    "        \n",
    "        self.model_ofw = self.model(*self.param)\n",
    "        self.optim_ofw = optimizer(self.model_ofw.parameters(), eta_coef, eta_exp, radius)\n",
    "        \n",
    "        self.initModelWeight(self.model_ofw)\n",
    "        \n",
    "        loader_by_iter = self.convert_loader_to_batch(zone, dates)\n",
    "        #t = 0\n",
    "        #for date in dates:\n",
    "        i = 0\n",
    "        mydate = dates[i]\n",
    "        for t in range(self.num_iterations):\n",
    "            acc, f1, prec, rec, _ , _, _  = ModelPrediction(self.model_ofw,mydate,zone)\n",
    "            if t%9==0 and (i < len(dates)-1):\n",
    "                print(t)\n",
    "                i+=1\n",
    "                mydate = dates[i] \n",
    "            self.model_ofw.train()\n",
    "            for ts in range(t+1):\n",
    "                data_prev,label_prev = loader_by_iter[ts]\n",
    "                self.optim_ofw.zero_grad(set_to_none=True)\n",
    "                with torch.enable_grad():\n",
    "                    output_tmp = self.model_ofw(data_prev)\n",
    "                    loss_tmp = self.loss(output_tmp, label_prev)\n",
    "                    loss_tmp.backward()\n",
    "                    \n",
    "                self.optim_ofw.grad_sum()\n",
    "                    \n",
    "            self.optim_ofw.step(t)\n",
    "            gap = self.optim_ofw.gap_val\n",
    "            self.optim_ofw.reset()\n",
    "\n",
    "            print(\"t : {} Loss : {} Gap {:.4f}, Acc {:.4f} F1 {:.4f} Precision : {:.4f} Recall {:.4f}\".format(t, loss_tmp.detach().numpy(),gap,acc,f1,prec,rec))\n",
    "\n",
    "            self.obj_values[t, :] = [t, loss_tmp.detach().numpy(), gap, acc, f1, prec, rec]\n",
    "\n",
    "        return self.obj_values"
   ]
  },
  {
   "cell_type": "code",
   "execution_count": 140,
   "id": "706fd947",
   "metadata": {
    "ExecuteTime": {
     "end_time": "2021-08-26T16:30:08.322543Z",
     "start_time": "2021-08-26T16:30:08.319101Z"
    },
    "code_folding": [
     0
    ]
   },
   "outputs": [],
   "source": [
    "class CNN1D(nn.Module):\n",
    "    def __init__(self,output_chan, output_dim,input_dim,kernel_size):\n",
    "        super(CNN1D, self).__init__()\n",
    "        \n",
    "        self.output_chan = output_chan\n",
    "        self.output_dim = output_dim\n",
    "        self.input_dim = input_dim\n",
    "        \n",
    "        self.conv1d = nn.Conv1d(in_channels=1, out_channels=output_chan, kernel_size=kernel_size, stride=1, \n",
    "                                padding=int(np.floor(kernel_size/2)))\n",
    "        \n",
    "        \n",
    "        self.maxpool = nn.MaxPool1d(3)\n",
    "        self.batchnorm = nn.BatchNorm1d(output_chan)\n",
    "        self.fc1 = nn.Linear(output_chan*int((input_dim/3)), output_dim, bias=True)\n",
    "        \n",
    "    def forward(self, x):\n",
    "        inputs = x.unsqueeze(1).squeeze(-1)\n",
    "        out = self.conv1d(inputs)\n",
    "        out = self.batchnorm(out)\n",
    "        out = self.maxpool(out)\n",
    "        out = nn.LeakyReLU()(out)\n",
    "        \n",
    "        out = out.view(-1, out.shape[1]*out.shape[2])\n",
    "        \n",
    "        out = self.fc1(out)\n",
    "        return out"
   ]
  },
  {
   "cell_type": "code",
   "execution_count": 141,
   "id": "9898e7ef",
   "metadata": {
    "ExecuteTime": {
     "end_time": "2021-08-26T16:30:08.697257Z",
     "start_time": "2021-08-26T16:30:08.693760Z"
    }
   },
   "outputs": [],
   "source": [
    "i = 0\n",
    "for u,v in trainloader[0][\"2019-03-07\"]:\n",
    "    i+=1"
   ]
  },
  {
   "cell_type": "code",
   "execution_count": 142,
   "id": "8c068357",
   "metadata": {
    "ExecuteTime": {
     "end_time": "2021-08-26T16:30:09.152568Z",
     "start_time": "2021-08-26T16:30:09.150169Z"
    }
   },
   "outputs": [
    {
     "data": {
      "text/plain": [
       "9"
      ]
     },
     "execution_count": 142,
     "metadata": {},
     "output_type": "execute_result"
    }
   ],
   "source": [
    "i"
   ]
  },
  {
   "cell_type": "code",
   "execution_count": 143,
   "id": "e6415251",
   "metadata": {
    "ExecuteTime": {
     "end_time": "2021-08-26T16:30:09.535967Z",
     "start_time": "2021-08-26T16:30:09.533827Z"
    }
   },
   "outputs": [],
   "source": [
    "num_iter_base = nb_iterations\n",
    "radius = 1\n",
    "eta_coef_OFW = 1\n",
    "eta_exp_OFW = 0.5\n",
    "loss_fn = nn.CrossEntropyLoss()"
   ]
  },
  {
   "cell_type": "code",
   "execution_count": 187,
   "id": "7b450f88",
   "metadata": {
    "ExecuteTime": {
     "end_time": "2021-08-26T17:08:27.234475Z",
     "start_time": "2021-08-26T17:08:27.232811Z"
    }
   },
   "outputs": [],
   "source": [
    "zone_no = 3\n",
    "trainer = Trainer(trainloader, CNN1D, (8,3,seq_len,3), loss_fn,num_iterations=num_iter_base)"
   ]
  },
  {
   "cell_type": "code",
   "execution_count": 188,
   "id": "ab7e3720",
   "metadata": {
    "ExecuteTime": {
     "end_time": "2021-08-26T17:09:49.798406Z",
     "start_time": "2021-08-26T17:08:27.557882Z"
    },
    "scrolled": true
   },
   "outputs": [
    {
     "name": "stdout",
     "output_type": "stream",
     "text": [
      "0\n",
      "t : 0 Loss : 1.4188919067382812 Gap 12.9546, Acc 0.0072 F1 0.0144 Precision : 0.9457 Recall 0.0072\n",
      "t : 1 Loss : 0.7014713287353516 Gap 0.5808, Acc 1.0000 F1 1.0000 Precision : 1.0000 Recall 1.0000\n",
      "t : 2 Loss : 0.14598433673381805 Gap 0.0717, Acc 1.0000 F1 1.0000 Precision : 1.0000 Recall 1.0000\n",
      "t : 3 Loss : 0.17234782874584198 Gap 0.0527, Acc 1.0000 F1 1.0000 Precision : 1.0000 Recall 1.0000\n",
      "t : 4 Loss : 0.11894246935844421 Gap 1.0114, Acc 1.0000 F1 1.0000 Precision : 1.0000 Recall 1.0000\n",
      "t : 5 Loss : 0.8961440324783325 Gap 1.7725, Acc 0.0000 F1 0.0000 Precision : 0.0000 Recall 0.0000\n",
      "t : 6 Loss : 0.35966649651527405 Gap 0.5521, Acc 1.0000 F1 1.0000 Precision : 1.0000 Recall 1.0000\n",
      "t : 7 Loss : 0.382622629404068 Gap 1.3001, Acc 1.0000 F1 1.0000 Precision : 1.0000 Recall 1.0000\n",
      "t : 8 Loss : 0.16107586026191711 Gap 0.4894, Acc 1.0000 F1 1.0000 Precision : 1.0000 Recall 1.0000\n",
      "9\n",
      "t : 9 Loss : 0.15241923928260803 Gap 0.3271, Acc 1.0000 F1 1.0000 Precision : 1.0000 Recall 1.0000\n",
      "t : 10 Loss : 0.055933449417352676 Gap 0.1435, Acc 1.0000 F1 1.0000 Precision : 1.0000 Recall 1.0000\n",
      "t : 11 Loss : 0.12055127322673798 Gap 0.2223, Acc 1.0000 F1 1.0000 Precision : 1.0000 Recall 1.0000\n",
      "t : 12 Loss : 0.05865154415369034 Gap 0.1359, Acc 1.0000 F1 1.0000 Precision : 1.0000 Recall 1.0000\n",
      "t : 13 Loss : 0.02950894832611084 Gap 0.3132, Acc 1.0000 F1 1.0000 Precision : 1.0000 Recall 1.0000\n",
      "t : 14 Loss : 0.4803462326526642 Gap 1.0087, Acc 1.0000 F1 1.0000 Precision : 1.0000 Recall 1.0000\n",
      "t : 15 Loss : 0.20515455305576324 Gap 0.8116, Acc 1.0000 F1 1.0000 Precision : 1.0000 Recall 1.0000\n",
      "t : 16 Loss : 0.14727915823459625 Gap 0.5443, Acc 1.0000 F1 1.0000 Precision : 1.0000 Recall 1.0000\n",
      "t : 17 Loss : 0.07892926037311554 Gap 0.1700, Acc 1.0000 F1 1.0000 Precision : 1.0000 Recall 1.0000\n",
      "18\n",
      "t : 18 Loss : 0.039921604096889496 Gap 0.1460, Acc 1.0000 F1 1.0000 Precision : 1.0000 Recall 1.0000\n",
      "t : 19 Loss : 0.04129407927393913 Gap 0.0941, Acc 1.0000 F1 1.0000 Precision : 1.0000 Recall 1.0000\n",
      "t : 20 Loss : 0.0283750519156456 Gap 0.0206, Acc 1.0000 F1 1.0000 Precision : 1.0000 Recall 1.0000\n",
      "t : 21 Loss : 0.034995291382074356 Gap 0.1014, Acc 1.0000 F1 1.0000 Precision : 1.0000 Recall 1.0000\n",
      "t : 22 Loss : 0.02269134484231472 Gap 0.1159, Acc 1.0000 F1 1.0000 Precision : 1.0000 Recall 1.0000\n",
      "t : 23 Loss : 0.038502153009176254 Gap 0.1358, Acc 1.0000 F1 1.0000 Precision : 1.0000 Recall 1.0000\n",
      "t : 24 Loss : 0.03391767293214798 Gap 0.1636, Acc 1.0000 F1 1.0000 Precision : 1.0000 Recall 1.0000\n",
      "t : 25 Loss : 0.024443738162517548 Gap 0.0188, Acc 1.0000 F1 1.0000 Precision : 1.0000 Recall 1.0000\n",
      "t : 26 Loss : 0.024488920345902443 Gap 0.0756, Acc 1.0000 F1 1.0000 Precision : 1.0000 Recall 1.0000\n",
      "27\n",
      "t : 27 Loss : 0.03639984130859375 Gap 0.0521, Acc 1.0000 F1 1.0000 Precision : 1.0000 Recall 1.0000\n",
      "t : 28 Loss : 0.02521647699177265 Gap 0.0404, Acc 0.9565 F1 0.9353 Precision : 0.9149 Recall 0.9565\n",
      "t : 29 Loss : 0.012199796736240387 Gap 0.3536, Acc 0.9565 F1 0.9353 Precision : 0.9149 Recall 0.9565\n",
      "t : 30 Loss : 0.07131696492433548 Gap 0.1610, Acc 0.9565 F1 0.9353 Precision : 0.9149 Recall 0.9565\n",
      "t : 31 Loss : 0.03974555805325508 Gap 0.1350, Acc 0.9565 F1 0.9353 Precision : 0.9149 Recall 0.9565\n",
      "t : 32 Loss : 0.08944610506296158 Gap 0.4710, Acc 0.9565 F1 0.9353 Precision : 0.9149 Recall 0.9565\n",
      "t : 33 Loss : 0.026391809806227684 Gap 0.1645, Acc 0.9565 F1 0.9353 Precision : 0.9149 Recall 0.9565\n",
      "t : 34 Loss : 0.028805863112211227 Gap 0.0739, Acc 0.9565 F1 0.9353 Precision : 0.9149 Recall 0.9565\n",
      "t : 35 Loss : 0.020977681502699852 Gap 0.0374, Acc 0.9565 F1 0.9353 Precision : 0.9149 Recall 0.9565\n",
      "36\n",
      "t : 36 Loss : 0.12239780277013779 Gap 0.0286, Acc 0.9565 F1 0.9353 Precision : 0.9149 Recall 0.9565\n",
      "t : 37 Loss : 0.2780314087867737 Gap 0.3972, Acc 1.0000 F1 1.0000 Precision : 1.0000 Recall 1.0000\n",
      "t : 38 Loss : 0.2996755838394165 Gap 0.3587, Acc 1.0000 F1 1.0000 Precision : 1.0000 Recall 1.0000\n",
      "t : 39 Loss : 0.5747799873352051 Gap 0.7726, Acc 1.0000 F1 1.0000 Precision : 1.0000 Recall 1.0000\n",
      "t : 40 Loss : 0.10067816823720932 Gap 0.2624, Acc 1.0000 F1 1.0000 Precision : 1.0000 Recall 1.0000\n",
      "t : 41 Loss : 0.1493379920721054 Gap 0.0941, Acc 1.0000 F1 1.0000 Precision : 1.0000 Recall 1.0000\n",
      "t : 42 Loss : 0.12579873204231262 Gap 0.0661, Acc 1.0000 F1 1.0000 Precision : 1.0000 Recall 1.0000\n",
      "t : 43 Loss : 0.01924891769886017 Gap 0.3815, Acc 1.0000 F1 1.0000 Precision : 1.0000 Recall 1.0000\n",
      "t : 44 Loss : 0.171836256980896 Gap 0.5479, Acc 1.0000 F1 1.0000 Precision : 1.0000 Recall 1.0000\n",
      "45\n",
      "t : 45 Loss : 0.09168926626443863 Gap 0.4730, Acc 1.0000 F1 1.0000 Precision : 1.0000 Recall 1.0000\n",
      "t : 46 Loss : 0.12794840335845947 Gap 0.6216, Acc 0.9420 F1 0.9139 Precision : 0.8874 Recall 0.9420\n",
      "t : 47 Loss : 0.062041379511356354 Gap 0.2148, Acc 0.9420 F1 0.9139 Precision : 0.8874 Recall 0.9420\n",
      "t : 48 Loss : 0.07821193337440491 Gap 0.2947, Acc 0.9420 F1 0.9139 Precision : 0.8874 Recall 0.9420\n",
      "t : 49 Loss : 0.04426204785704613 Gap 0.1224, Acc 0.9420 F1 0.9139 Precision : 0.8874 Recall 0.9420\n",
      "t : 50 Loss : 0.04069003090262413 Gap 0.0533, Acc 0.9420 F1 0.9139 Precision : 0.8874 Recall 0.9420\n",
      "t : 51 Loss : 0.0373707041144371 Gap 0.0395, Acc 0.9420 F1 0.9139 Precision : 0.8874 Recall 0.9420\n",
      "t : 52 Loss : 0.03846236318349838 Gap 0.0442, Acc 0.9420 F1 0.9139 Precision : 0.8874 Recall 0.9420\n",
      "t : 53 Loss : 0.026881635189056396 Gap 0.0552, Acc 0.9420 F1 0.9139 Precision : 0.8874 Recall 0.9420\n",
      "54\n",
      "t : 54 Loss : 0.3208414316177368 Gap 0.0293, Acc 0.9420 F1 0.9139 Precision : 0.8874 Recall 0.9420\n",
      "t : 55 Loss : 0.025648079812526703 Gap 0.0316, Acc 0.9638 F1 0.9460 Precision : 0.9288 Recall 0.9638\n",
      "t : 56 Loss : 0.3729577660560608 Gap 0.3727, Acc 0.9638 F1 0.9460 Precision : 0.9288 Recall 0.9638\n",
      "t : 57 Loss : 0.4734242260456085 Gap 0.1410, Acc 0.9638 F1 0.9460 Precision : 0.9288 Recall 0.9638\n",
      "t : 58 Loss : 0.17420752346515656 Gap 0.2625, Acc 0.9638 F1 0.9460 Precision : 0.9288 Recall 0.9638\n",
      "t : 59 Loss : 0.3215537369251251 Gap 0.0947, Acc 0.9638 F1 0.9460 Precision : 0.9288 Recall 0.9638\n",
      "t : 60 Loss : 0.1700853705406189 Gap 0.2168, Acc 0.9638 F1 0.9460 Precision : 0.9288 Recall 0.9638\n",
      "t : 61 Loss : 0.14591887593269348 Gap 0.1349, Acc 0.9638 F1 0.9460 Precision : 0.9288 Recall 0.9638\n",
      "t : 62 Loss : 0.040835000574588776 Gap 0.0642, Acc 0.9638 F1 0.9460 Precision : 0.9288 Recall 0.9638\n",
      "63\n",
      "t : 63 Loss : 0.2967648506164551 Gap 0.4312, Acc 0.9638 F1 0.9460 Precision : 0.9288 Recall 0.9638\n",
      "t : 64 Loss : 0.26450255513191223 Gap 0.3840, Acc 1.0000 F1 1.0000 Precision : 1.0000 Recall 1.0000\n",
      "t : 65 Loss : 0.18053680658340454 Gap 0.5501, Acc 1.0000 F1 1.0000 Precision : 1.0000 Recall 1.0000\n",
      "t : 66 Loss : 0.16376139223575592 Gap 0.4245, Acc 1.0000 F1 1.0000 Precision : 1.0000 Recall 1.0000\n",
      "t : 67 Loss : 0.14611773192882538 Gap 0.1450, Acc 1.0000 F1 1.0000 Precision : 1.0000 Recall 1.0000\n",
      "t : 68 Loss : 0.3020027279853821 Gap 0.2466, Acc 1.0000 F1 1.0000 Precision : 1.0000 Recall 1.0000\n",
      "t : 69 Loss : 0.056705355644226074 Gap 0.1321, Acc 1.0000 F1 1.0000 Precision : 1.0000 Recall 1.0000\n",
      "t : 70 Loss : 0.1754206269979477 Gap 0.1923, Acc 1.0000 F1 1.0000 Precision : 1.0000 Recall 1.0000\n",
      "t : 71 Loss : 0.05222764611244202 Gap 0.1243, Acc 1.0000 F1 1.0000 Precision : 1.0000 Recall 1.0000\n",
      "72\n",
      "t : 72 Loss : 0.041702039539813995 Gap 0.1582, Acc 1.0000 F1 1.0000 Precision : 1.0000 Recall 1.0000\n",
      "t : 73 Loss : 0.04613984748721123 Gap 0.1186, Acc 1.0000 F1 1.0000 Precision : 1.0000 Recall 1.0000\n",
      "t : 74 Loss : 0.041188471019268036 Gap 0.0785, Acc 1.0000 F1 1.0000 Precision : 1.0000 Recall 1.0000\n",
      "t : 75 Loss : 0.022553250193595886 Gap 0.3010, Acc 1.0000 F1 1.0000 Precision : 1.0000 Recall 1.0000\n",
      "t : 76 Loss : 0.06569802761077881 Gap 0.1660, Acc 1.0000 F1 1.0000 Precision : 1.0000 Recall 1.0000\n",
      "t : 77 Loss : 0.04016747698187828 Gap 0.2256, Acc 1.0000 F1 1.0000 Precision : 1.0000 Recall 1.0000\n",
      "t : 78 Loss : 0.05561727657914162 Gap 0.1537, Acc 1.0000 F1 1.0000 Precision : 1.0000 Recall 1.0000\n",
      "t : 79 Loss : 0.03371042385697365 Gap 0.1585, Acc 1.0000 F1 1.0000 Precision : 1.0000 Recall 1.0000\n",
      "t : 80 Loss : 0.044990114867687225 Gap 0.0988, Acc 1.0000 F1 1.0000 Precision : 1.0000 Recall 1.0000\n",
      "81\n",
      "t : 81 Loss : 0.02769172191619873 Gap 0.1223, Acc 1.0000 F1 1.0000 Precision : 1.0000 Recall 1.0000\n",
      "t : 82 Loss : 0.0401294119656086 Gap 0.0861, Acc 1.0000 F1 1.0000 Precision : 1.0000 Recall 1.0000\n",
      "t : 83 Loss : 0.02610309235751629 Gap 0.1057, Acc 1.0000 F1 1.0000 Precision : 1.0000 Recall 1.0000\n"
     ]
    },
    {
     "name": "stdout",
     "output_type": "stream",
     "text": [
      "t : 84 Loss : 0.04008166491985321 Gap 0.0232, Acc 1.0000 F1 1.0000 Precision : 1.0000 Recall 1.0000\n",
      "t : 85 Loss : 0.031869497150182724 Gap 0.0516, Acc 1.0000 F1 1.0000 Precision : 1.0000 Recall 1.0000\n",
      "t : 86 Loss : 0.024086566641926765 Gap 0.0272, Acc 1.0000 F1 1.0000 Precision : 1.0000 Recall 1.0000\n",
      "t : 87 Loss : 0.020655522122979164 Gap 0.0354, Acc 1.0000 F1 1.0000 Precision : 1.0000 Recall 1.0000\n",
      "t : 88 Loss : 0.020280342549085617 Gap 0.0821, Acc 1.0000 F1 1.0000 Precision : 1.0000 Recall 1.0000\n",
      "t : 89 Loss : 0.027663815766572952 Gap 0.0325, Acc 1.0000 F1 1.0000 Precision : 1.0000 Recall 1.0000\n",
      "90\n",
      "t : 90 Loss : 0.023074589669704437 Gap 0.0392, Acc 1.0000 F1 1.0000 Precision : 1.0000 Recall 1.0000\n",
      "t : 91 Loss : 0.0238177590072155 Gap 0.0438, Acc 0.9783 F1 0.9675 Precision : 0.9570 Recall 0.9783\n",
      "t : 92 Loss : 0.02044229954481125 Gap 0.0192, Acc 0.9783 F1 0.9675 Precision : 0.9570 Recall 0.9783\n",
      "t : 93 Loss : 0.017744099721312523 Gap 0.0225, Acc 0.9783 F1 0.9675 Precision : 0.9570 Recall 0.9783\n",
      "t : 94 Loss : 0.01670844852924347 Gap 0.0471, Acc 0.9783 F1 0.9675 Precision : 0.9570 Recall 0.9783\n",
      "t : 95 Loss : 0.01443164050579071 Gap 0.5984, Acc 0.9783 F1 0.9675 Precision : 0.9570 Recall 0.9783\n",
      "t : 96 Loss : 0.06923160701990128 Gap 0.2263, Acc 0.9783 F1 0.9675 Precision : 0.9570 Recall 0.9783\n",
      "t : 97 Loss : 0.06444104760885239 Gap 0.2916, Acc 0.9783 F1 0.9675 Precision : 0.9570 Recall 0.9783\n",
      "t : 98 Loss : 0.04943961650133133 Gap 0.1261, Acc 0.9783 F1 0.9675 Precision : 0.9570 Recall 0.9783\n",
      "99\n",
      "t : 99 Loss : 0.18073201179504395 Gap 0.5260, Acc 0.9783 F1 0.9675 Precision : 0.9570 Recall 0.9783\n",
      "t : 100 Loss : 0.14094148576259613 Gap 0.0755, Acc 0.9601 F1 0.9406 Precision : 0.9219 Recall 0.9601\n",
      "t : 101 Loss : 0.038757745176553726 Gap 0.3907, Acc 0.9601 F1 0.9406 Precision : 0.9219 Recall 0.9601\n",
      "t : 102 Loss : 0.24428924918174744 Gap 0.0597, Acc 0.9601 F1 0.9406 Precision : 0.9219 Recall 0.9601\n",
      "t : 103 Loss : 0.1766524761915207 Gap 0.3204, Acc 0.9601 F1 0.9406 Precision : 0.9219 Recall 0.9601\n",
      "t : 104 Loss : 0.031935613602399826 Gap 0.1597, Acc 0.9601 F1 0.9406 Precision : 0.9219 Recall 0.9601\n",
      "t : 105 Loss : 0.03792852908372879 Gap 0.0633, Acc 0.9601 F1 0.9406 Precision : 0.9219 Recall 0.9601\n",
      "t : 106 Loss : 0.13589520752429962 Gap 0.0341, Acc 0.9601 F1 0.9406 Precision : 0.9219 Recall 0.9601\n",
      "t : 107 Loss : 0.019783692434430122 Gap 0.1690, Acc 0.9601 F1 0.9406 Precision : 0.9219 Recall 0.9601\n",
      "108\n",
      "t : 108 Loss : 0.06258835643529892 Gap 0.2235, Acc 0.9601 F1 0.9406 Precision : 0.9219 Recall 0.9601\n",
      "t : 109 Loss : 0.1373813897371292 Gap 0.2153, Acc 0.9275 F1 0.8927 Precision : 0.8603 Recall 0.9275\n",
      "t : 110 Loss : 0.05258096754550934 Gap 0.1511, Acc 0.9275 F1 0.8927 Precision : 0.8603 Recall 0.9275\n",
      "t : 111 Loss : 0.1475035399198532 Gap 0.2857, Acc 0.9275 F1 0.8927 Precision : 0.8603 Recall 0.9275\n",
      "t : 112 Loss : 0.46911224722862244 Gap 0.1200, Acc 0.9275 F1 0.8927 Precision : 0.8603 Recall 0.9275\n",
      "t : 113 Loss : 0.36828142404556274 Gap 0.0483, Acc 0.9275 F1 0.8927 Precision : 0.8603 Recall 0.9275\n",
      "t : 114 Loss : 0.020911704748868942 Gap 0.1568, Acc 0.9275 F1 0.8927 Precision : 0.8603 Recall 0.9275\n",
      "t : 115 Loss : 0.16640590131282806 Gap 0.1211, Acc 0.9275 F1 0.8927 Precision : 0.8603 Recall 0.9275\n",
      "t : 116 Loss : 0.2122942954301834 Gap 0.1856, Acc 0.9275 F1 0.8927 Precision : 0.8603 Recall 0.9275\n",
      "117\n",
      "t : 117 Loss : 0.4439549744129181 Gap 0.0531, Acc 0.9275 F1 0.8927 Precision : 0.8603 Recall 0.9275\n",
      "t : 118 Loss : 0.1455209106206894 Gap 0.2499, Acc 0.9348 F1 0.9033 Precision : 0.8738 Recall 0.9348\n",
      "t : 119 Loss : 0.2632509469985962 Gap 0.0698, Acc 0.9348 F1 0.9033 Precision : 0.8738 Recall 0.9348\n",
      "t : 120 Loss : 0.5467895269393921 Gap 0.5483, Acc 0.9348 F1 0.9033 Precision : 0.8738 Recall 0.9348\n",
      "t : 121 Loss : 0.1708451509475708 Gap 0.2845, Acc 0.9348 F1 0.9033 Precision : 0.8738 Recall 0.9348\n",
      "t : 122 Loss : 0.45838236808776855 Gap 0.6779, Acc 0.9348 F1 0.9033 Precision : 0.8738 Recall 0.9348\n",
      "t : 123 Loss : 0.2130909115076065 Gap 0.3898, Acc 0.9348 F1 0.9033 Precision : 0.8738 Recall 0.9348\n",
      "t : 124 Loss : 0.14459246397018433 Gap 0.1595, Acc 0.9348 F1 0.9033 Precision : 0.8738 Recall 0.9348\n",
      "t : 125 Loss : 0.23565621674060822 Gap 0.2813, Acc 0.9348 F1 0.9033 Precision : 0.8738 Recall 0.9348\n",
      "126\n",
      "t : 126 Loss : 0.22134554386138916 Gap 0.1236, Acc 0.9348 F1 0.9033 Precision : 0.8738 Recall 0.9348\n",
      "t : 127 Loss : 0.17209504544734955 Gap 0.2397, Acc 0.9819 F1 0.9729 Precision : 0.9641 Recall 0.9819\n",
      "t : 128 Loss : 0.22888152301311493 Gap 0.1164, Acc 0.9819 F1 0.9729 Precision : 0.9641 Recall 0.9819\n",
      "t : 129 Loss : 0.762973964214325 Gap 0.2043, Acc 0.9819 F1 0.9729 Precision : 0.9641 Recall 0.9819\n",
      "t : 130 Loss : 0.14175835251808167 Gap 0.1086, Acc 0.9819 F1 0.9729 Precision : 0.9641 Recall 0.9819\n",
      "t : 131 Loss : 0.1653556227684021 Gap 0.1710, Acc 0.9819 F1 0.9729 Precision : 0.9641 Recall 0.9819\n",
      "t : 132 Loss : 0.04008098691701889 Gap 0.1325, Acc 0.9819 F1 0.9729 Precision : 0.9641 Recall 0.9819\n",
      "t : 133 Loss : 0.4423799216747284 Gap 0.0691, Acc 0.9819 F1 0.9729 Precision : 0.9641 Recall 0.9819\n",
      "t : 134 Loss : 0.23110270500183105 Gap 0.3693, Acc 0.9819 F1 0.9729 Precision : 0.9641 Recall 0.9819\n",
      "135\n",
      "t : 135 Loss : 0.10063939541578293 Gap 0.2911, Acc 0.9819 F1 0.9729 Precision : 0.9641 Recall 0.9819\n",
      "t : 136 Loss : 0.16375362873077393 Gap 0.4466, Acc 1.0000 F1 1.0000 Precision : 1.0000 Recall 1.0000\n",
      "t : 137 Loss : 0.15957194566726685 Gap 0.2621, Acc 1.0000 F1 1.0000 Precision : 1.0000 Recall 1.0000\n",
      "t : 138 Loss : 0.05425601080060005 Gap 0.3103, Acc 1.0000 F1 1.0000 Precision : 1.0000 Recall 1.0000\n",
      "t : 139 Loss : 0.06388873606920242 Gap 0.1583, Acc 1.0000 F1 1.0000 Precision : 1.0000 Recall 1.0000\n",
      "t : 140 Loss : 0.03778478130698204 Gap 0.5198, Acc 1.0000 F1 1.0000 Precision : 1.0000 Recall 1.0000\n",
      "t : 141 Loss : 0.24008332192897797 Gap 0.1830, Acc 1.0000 F1 1.0000 Precision : 1.0000 Recall 1.0000\n",
      "t : 142 Loss : 0.17133185267448425 Gap 0.3941, Acc 1.0000 F1 1.0000 Precision : 1.0000 Recall 1.0000\n",
      "t : 143 Loss : 0.06138495355844498 Gap 0.1544, Acc 1.0000 F1 1.0000 Precision : 1.0000 Recall 1.0000\n",
      "144\n",
      "t : 144 Loss : 0.03643450513482094 Gap 0.0732, Acc 1.0000 F1 1.0000 Precision : 1.0000 Recall 1.0000\n",
      "t : 145 Loss : 0.04103849083185196 Gap 0.1151, Acc 1.0000 F1 1.0000 Precision : 1.0000 Recall 1.0000\n",
      "t : 146 Loss : 0.03378300741314888 Gap 0.0611, Acc 1.0000 F1 1.0000 Precision : 1.0000 Recall 1.0000\n",
      "t : 147 Loss : 0.022991998121142387 Gap 0.3165, Acc 1.0000 F1 1.0000 Precision : 1.0000 Recall 1.0000\n",
      "t : 148 Loss : 0.05372380092740059 Gap 0.1431, Acc 1.0000 F1 1.0000 Precision : 1.0000 Recall 1.0000\n",
      "t : 149 Loss : 0.03601601719856262 Gap 0.2630, Acc 1.0000 F1 1.0000 Precision : 1.0000 Recall 1.0000\n",
      "t : 150 Loss : 0.0363365113735199 Gap 0.1280, Acc 1.0000 F1 1.0000 Precision : 1.0000 Recall 1.0000\n",
      "t : 151 Loss : 0.021543627604842186 Gap 0.4851, Acc 1.0000 F1 1.0000 Precision : 1.0000 Recall 1.0000\n",
      "t : 152 Loss : 0.05409415811300278 Gap 0.1955, Acc 1.0000 F1 1.0000 Precision : 1.0000 Recall 1.0000\n",
      "153\n",
      "t : 153 Loss : 0.031403034925460815 Gap 0.3591, Acc 1.0000 F1 1.0000 Precision : 1.0000 Recall 1.0000\n",
      "t : 154 Loss : 0.04792160540819168 Gap 0.1520, Acc 0.8732 F1 0.8141 Precision : 0.7625 Recall 0.8732\n",
      "t : 155 Loss : 0.029046425595879555 Gap 0.3041, Acc 0.8732 F1 0.8141 Precision : 0.7625 Recall 0.8732\n",
      "t : 156 Loss : 0.0471787229180336 Gap 0.1351, Acc 0.8732 F1 0.8141 Precision : 0.7625 Recall 0.8732\n",
      "t : 157 Loss : 0.028787871822714806 Gap 0.2415, Acc 0.8732 F1 0.8141 Precision : 0.7625 Recall 0.8732\n",
      "t : 158 Loss : 0.04643890634179115 Gap 0.1207, Acc 0.8732 F1 0.8141 Precision : 0.7625 Recall 0.8732\n",
      "t : 159 Loss : 0.02887422777712345 Gap 0.1893, Acc 0.8732 F1 0.8141 Precision : 0.7625 Recall 0.8732\n",
      "t : 160 Loss : 0.04569391906261444 Gap 0.0934, Acc 0.8732 F1 0.8141 Precision : 0.7625 Recall 0.8732\n",
      "t : 161 Loss : 0.036969371140003204 Gap 0.0596, Acc 0.8732 F1 0.8141 Precision : 0.7625 Recall 0.8732\n",
      "162\n",
      "t : 162 Loss : 0.7705882787704468 Gap 0.4790, Acc 0.8732 F1 0.8141 Precision : 0.7625 Recall 0.8732\n",
      "t : 163 Loss : 0.640922486782074 Gap 0.0597, Acc 0.9819 F1 0.9729 Precision : 0.9641 Recall 0.9819\n",
      "t : 164 Loss : 0.4333193302154541 Gap 0.0709, Acc 0.9819 F1 0.9729 Precision : 0.9641 Recall 0.9819\n"
     ]
    },
    {
     "name": "stdout",
     "output_type": "stream",
     "text": [
      "t : 165 Loss : 0.6224063634872437 Gap 0.0342, Acc 0.9819 F1 0.9729 Precision : 0.9641 Recall 0.9819\n",
      "t : 166 Loss : 0.5199002623558044 Gap 0.0425, Acc 0.9819 F1 0.9729 Precision : 0.9641 Recall 0.9819\n",
      "t : 167 Loss : 0.02004420943558216 Gap 0.5902, Acc 0.9819 F1 0.9729 Precision : 0.9641 Recall 0.9819\n",
      "t : 168 Loss : 0.22591184079647064 Gap 0.2602, Acc 0.9819 F1 0.9729 Precision : 0.9641 Recall 0.9819\n",
      "t : 169 Loss : 0.35329368710517883 Gap 0.4979, Acc 0.9819 F1 0.9729 Precision : 0.9641 Recall 0.9819\n",
      "t : 170 Loss : 0.43488606810569763 Gap 0.2364, Acc 0.9819 F1 0.9729 Precision : 0.9641 Recall 0.9819\n",
      "171\n",
      "t : 171 Loss : 0.04263041168451309 Gap 0.4925, Acc 0.9819 F1 0.9729 Precision : 0.9641 Recall 0.9819\n",
      "t : 172 Loss : 0.061323415488004684 Gap 0.1001, Acc 0.9529 F1 0.9299 Precision : 0.9080 Recall 0.9529\n",
      "t : 173 Loss : 0.16237464547157288 Gap 0.7994, Acc 0.9529 F1 0.9299 Precision : 0.9080 Recall 0.9529\n",
      "t : 174 Loss : 0.0757366493344307 Gap 0.1285, Acc 0.9529 F1 0.9299 Precision : 0.9080 Recall 0.9529\n",
      "t : 175 Loss : 0.21957826614379883 Gap 0.1879, Acc 0.9529 F1 0.9299 Precision : 0.9080 Recall 0.9529\n",
      "t : 176 Loss : 0.2127401977777481 Gap 0.8211, Acc 0.9529 F1 0.9299 Precision : 0.9080 Recall 0.9529\n",
      "t : 177 Loss : 0.13473579287528992 Gap 0.1139, Acc 0.9529 F1 0.9299 Precision : 0.9080 Recall 0.9529\n",
      "t : 178 Loss : 0.06167604774236679 Gap 0.8740, Acc 0.9529 F1 0.9299 Precision : 0.9080 Recall 0.9529\n",
      "t : 179 Loss : 0.03986264765262604 Gap 0.4315, Acc 0.9529 F1 0.9299 Precision : 0.9080 Recall 0.9529\n",
      "180\n",
      "t : 180 Loss : 0.14654648303985596 Gap 0.1047, Acc 0.9529 F1 0.9299 Precision : 0.9080 Recall 0.9529\n",
      "t : 181 Loss : 0.13154354691505432 Gap 0.0658, Acc 0.9819 F1 0.9729 Precision : 0.9641 Recall 0.9819\n",
      "t : 182 Loss : 0.2525515556335449 Gap 0.6418, Acc 0.9819 F1 0.9729 Precision : 0.9641 Recall 0.9819\n",
      "t : 183 Loss : 0.22105398774147034 Gap 0.0661, Acc 0.9819 F1 0.9729 Precision : 0.9641 Recall 0.9819\n",
      "t : 184 Loss : 0.15088090300559998 Gap 1.1590, Acc 0.9819 F1 0.9729 Precision : 0.9641 Recall 0.9819\n",
      "t : 185 Loss : 0.1366567462682724 Gap 0.0841, Acc 0.9819 F1 0.9729 Precision : 0.9641 Recall 0.9819\n",
      "t : 186 Loss : 0.26551106572151184 Gap 0.9259, Acc 0.9819 F1 0.9729 Precision : 0.9641 Recall 0.9819\n",
      "t : 187 Loss : 0.32088765501976013 Gap 0.0750, Acc 0.9819 F1 0.9729 Precision : 0.9641 Recall 0.9819\n",
      "t : 188 Loss : 0.040953200310468674 Gap 0.0772, Acc 0.9819 F1 0.9729 Precision : 0.9641 Recall 0.9819\n",
      "189\n",
      "t : 189 Loss : 0.13321004807949066 Gap 0.0601, Acc 0.9819 F1 0.9729 Precision : 0.9641 Recall 0.9819\n",
      "t : 190 Loss : 0.020605619996786118 Gap 0.6145, Acc 0.9565 F1 0.9353 Precision : 0.9149 Recall 0.9565\n",
      "t : 191 Loss : 0.23503939807415009 Gap 0.3512, Acc 0.9565 F1 0.9353 Precision : 0.9149 Recall 0.9565\n",
      "t : 192 Loss : 0.265333890914917 Gap 0.5174, Acc 0.9565 F1 0.9353 Precision : 0.9149 Recall 0.9565\n",
      "t : 193 Loss : 0.07564879953861237 Gap 0.3666, Acc 0.9565 F1 0.9353 Precision : 0.9149 Recall 0.9565\n",
      "t : 194 Loss : 0.045208387076854706 Gap 0.4608, Acc 0.9565 F1 0.9353 Precision : 0.9149 Recall 0.9565\n",
      "t : 195 Loss : 0.06911097466945648 Gap 0.2852, Acc 0.9565 F1 0.9353 Precision : 0.9149 Recall 0.9565\n",
      "t : 196 Loss : 0.036768555641174316 Gap 0.6560, Acc 0.9565 F1 0.9353 Precision : 0.9149 Recall 0.9565\n",
      "t : 197 Loss : 0.07918183505535126 Gap 0.3215, Acc 0.9565 F1 0.9353 Precision : 0.9149 Recall 0.9565\n",
      "198\n",
      "t : 198 Loss : 0.04799681529402733 Gap 0.5209, Acc 0.9565 F1 0.9353 Precision : 0.9149 Recall 0.9565\n",
      "t : 199 Loss : 0.26220008730888367 Gap 0.2570, Acc 1.0000 F1 1.0000 Precision : 1.0000 Recall 1.0000\n",
      "t : 200 Loss : 0.045298464596271515 Gap 0.4354, Acc 1.0000 F1 1.0000 Precision : 1.0000 Recall 1.0000\n",
      "t : 201 Loss : 0.16028207540512085 Gap 0.2113, Acc 1.0000 F1 1.0000 Precision : 1.0000 Recall 1.0000\n",
      "t : 202 Loss : 0.2823496162891388 Gap 0.3607, Acc 1.0000 F1 1.0000 Precision : 1.0000 Recall 1.0000\n",
      "t : 203 Loss : 0.22774414718151093 Gap 0.1745, Acc 1.0000 F1 1.0000 Precision : 1.0000 Recall 1.0000\n",
      "t : 204 Loss : 0.045978203415870667 Gap 0.2955, Acc 1.0000 F1 1.0000 Precision : 1.0000 Recall 1.0000\n",
      "t : 205 Loss : 0.4086325466632843 Gap 0.1430, Acc 1.0000 F1 1.0000 Precision : 1.0000 Recall 1.0000\n",
      "t : 206 Loss : 0.1984744518995285 Gap 0.1475, Acc 1.0000 F1 1.0000 Precision : 1.0000 Recall 1.0000\n",
      "207\n",
      "t : 207 Loss : 0.04060722514986992 Gap 0.0659, Acc 1.0000 F1 1.0000 Precision : 1.0000 Recall 1.0000\n",
      "t : 208 Loss : 0.03373057022690773 Gap 0.0486, Acc 1.0000 F1 1.0000 Precision : 1.0000 Recall 1.0000\n",
      "t : 209 Loss : 0.029955672100186348 Gap 0.0683, Acc 1.0000 F1 1.0000 Precision : 1.0000 Recall 1.0000\n",
      "t : 210 Loss : 0.02057972550392151 Gap 0.6440, Acc 1.0000 F1 1.0000 Precision : 1.0000 Recall 1.0000\n",
      "t : 211 Loss : 0.06730752438306808 Gap 0.3695, Acc 1.0000 F1 1.0000 Precision : 1.0000 Recall 1.0000\n",
      "t : 212 Loss : 0.04848563298583031 Gap 0.4975, Acc 1.0000 F1 1.0000 Precision : 1.0000 Recall 1.0000\n",
      "t : 213 Loss : 0.053239114582538605 Gap 0.2263, Acc 1.0000 F1 1.0000 Precision : 1.0000 Recall 1.0000\n",
      "t : 214 Loss : 0.04002353549003601 Gap 0.5371, Acc 1.0000 F1 1.0000 Precision : 1.0000 Recall 1.0000\n",
      "t : 215 Loss : 0.04414849728345871 Gap 0.1232, Acc 1.0000 F1 1.0000 Precision : 1.0000 Recall 1.0000\n",
      "216\n",
      "t : 216 Loss : 0.034361712634563446 Gap 0.5277, Acc 1.0000 F1 1.0000 Precision : 1.0000 Recall 1.0000\n",
      "t : 217 Loss : 0.0441766157746315 Gap 0.1027, Acc 0.7826 F1 0.6872 Precision : 0.6125 Recall 0.7826\n",
      "t : 218 Loss : 0.028096197172999382 Gap 0.7974, Acc 0.7826 F1 0.6872 Precision : 0.6125 Recall 0.7826\n",
      "t : 219 Loss : 0.05441046878695488 Gap 0.1150, Acc 0.7826 F1 0.6872 Precision : 0.6125 Recall 0.7826\n",
      "t : 220 Loss : 0.03519346937537193 Gap 0.6346, Acc 0.7826 F1 0.6872 Precision : 0.6125 Recall 0.7826\n",
      "t : 221 Loss : 0.05139686167240143 Gap 0.0960, Acc 0.7826 F1 0.6872 Precision : 0.6125 Recall 0.7826\n",
      "t : 222 Loss : 0.03388604521751404 Gap 0.5148, Acc 0.7826 F1 0.6872 Precision : 0.6125 Recall 0.7826\n",
      "t : 223 Loss : 0.049577102065086365 Gap 0.0893, Acc 0.7826 F1 0.6872 Precision : 0.6125 Recall 0.7826\n",
      "t : 224 Loss : 0.039535097777843475 Gap 0.1016, Acc 0.7826 F1 0.6872 Precision : 0.6125 Recall 0.7826\n",
      "225\n",
      "t : 225 Loss : 0.5272155404090881 Gap 0.0815, Acc 0.7826 F1 0.6872 Precision : 0.6125 Recall 0.7826\n",
      "t : 226 Loss : 0.4942324757575989 Gap 0.5883, Acc 0.9239 F1 0.8874 Precision : 0.8536 Recall 0.9239\n",
      "t : 227 Loss : 0.5803881883621216 Gap 0.0972, Acc 0.9239 F1 0.8874 Precision : 0.8536 Recall 0.9239\n",
      "t : 228 Loss : 1.0255496501922607 Gap 0.4892, Acc 0.9239 F1 0.8874 Precision : 0.8536 Recall 0.9239\n",
      "t : 229 Loss : 0.6342803835868835 Gap 0.3577, Acc 0.9239 F1 0.8874 Precision : 0.8536 Recall 0.9239\n",
      "t : 230 Loss : 0.803159773349762 Gap 0.1503, Acc 0.9239 F1 0.8874 Precision : 0.8536 Recall 0.9239\n",
      "t : 231 Loss : 1.175789475440979 Gap 0.7785, Acc 0.9239 F1 0.8874 Precision : 0.8536 Recall 0.9239\n",
      "t : 232 Loss : 0.2866978347301483 Gap 0.5119, Acc 0.9239 F1 0.8874 Precision : 0.8536 Recall 0.9239\n",
      "t : 233 Loss : 1.2661844491958618 Gap 0.7275, Acc 0.9239 F1 0.8874 Precision : 0.8536 Recall 0.9239\n",
      "234\n",
      "t : 234 Loss : 0.18222157657146454 Gap 0.3333, Acc 0.9239 F1 0.8874 Precision : 0.8536 Recall 0.9239\n",
      "t : 235 Loss : 0.15786395967006683 Gap 0.6946, Acc 0.9457 F1 0.9192 Precision : 0.8943 Recall 0.9457\n",
      "t : 236 Loss : 0.16216443479061127 Gap 0.2668, Acc 0.9457 F1 0.9192 Precision : 0.8943 Recall 0.9457\n",
      "t : 237 Loss : 0.39507538080215454 Gap 0.9573, Acc 0.9457 F1 0.9192 Precision : 0.8943 Recall 0.9457\n",
      "t : 238 Loss : 0.49999234080314636 Gap 0.3181, Acc 0.9457 F1 0.9192 Precision : 0.8943 Recall 0.9457\n",
      "t : 239 Loss : 0.2162826806306839 Gap 0.1626, Acc 0.9457 F1 0.9192 Precision : 0.8943 Recall 0.9457\n",
      "t : 240 Loss : 0.3994789123535156 Gap 0.4611, Acc 0.9457 F1 0.9192 Precision : 0.8943 Recall 0.9457\n",
      "t : 241 Loss : 0.31072378158569336 Gap 0.2775, Acc 0.9457 F1 0.9192 Precision : 0.8943 Recall 0.9457\n",
      "t : 242 Loss : 0.05296682193875313 Gap 0.3708, Acc 0.9457 F1 0.9192 Precision : 0.8943 Recall 0.9457\n",
      "243\n",
      "t : 243 Loss : 0.3795746862888336 Gap 0.2349, Acc 0.9457 F1 0.9192 Precision : 0.8943 Recall 0.9457\n",
      "t : 244 Loss : 0.16887706518173218 Gap 0.3306, Acc 1.0000 F1 1.0000 Precision : 1.0000 Recall 1.0000\n",
      "t : 245 Loss : 0.37580060958862305 Gap 0.2339, Acc 1.0000 F1 1.0000 Precision : 1.0000 Recall 1.0000\n",
      "t : 246 Loss : 0.05688320845365524 Gap 0.2856, Acc 1.0000 F1 1.0000 Precision : 1.0000 Recall 1.0000\n"
     ]
    },
    {
     "name": "stdout",
     "output_type": "stream",
     "text": [
      "t : 247 Loss : 0.06869054585695267 Gap 0.2049, Acc 1.0000 F1 1.0000 Precision : 1.0000 Recall 1.0000\n",
      "t : 248 Loss : 0.2747739553451538 Gap 0.2611, Acc 1.0000 F1 1.0000 Precision : 1.0000 Recall 1.0000\n",
      "t : 249 Loss : 0.149185910820961 Gap 0.2621, Acc 1.0000 F1 1.0000 Precision : 1.0000 Recall 1.0000\n",
      "t : 250 Loss : 0.29893943667411804 Gap 0.1154, Acc 1.0000 F1 1.0000 Precision : 1.0000 Recall 1.0000\n",
      "t : 251 Loss : 0.0333864763379097 Gap 0.5206, Acc 1.0000 F1 1.0000 Precision : 1.0000 Recall 1.0000\n",
      "252\n",
      "t : 252 Loss : 0.09609460085630417 Gap 0.3345, Acc 1.0000 F1 1.0000 Precision : 1.0000 Recall 1.0000\n",
      "t : 253 Loss : 0.06269394606351852 Gap 0.5113, Acc 0.8913 F1 0.8401 Precision : 0.7944 Recall 0.8913\n",
      "t : 254 Loss : 0.07739637047052383 Gap 0.2921, Acc 0.8913 F1 0.8401 Precision : 0.7944 Recall 0.8913\n",
      "t : 255 Loss : 0.041296254843473434 Gap 0.7212, Acc 0.8913 F1 0.8401 Precision : 0.7944 Recall 0.8913\n",
      "t : 256 Loss : 0.09756486117839813 Gap 0.3606, Acc 0.8913 F1 0.8401 Precision : 0.7944 Recall 0.8913\n",
      "t : 257 Loss : 0.05918757617473602 Gap 0.6147, Acc 0.8913 F1 0.8401 Precision : 0.7944 Recall 0.8913\n",
      "t : 258 Loss : 0.09180445224046707 Gap 0.4014, Acc 0.8913 F1 0.8401 Precision : 0.7944 Recall 0.8913\n",
      "t : 259 Loss : 0.042812447994947433 Gap 0.7943, Acc 0.8913 F1 0.8401 Precision : 0.7944 Recall 0.8913\n",
      "t : 260 Loss : 0.10077674686908722 Gap 0.4511, Acc 0.8913 F1 0.8401 Precision : 0.7944 Recall 0.8913\n",
      "261\n",
      "t : 261 Loss : 0.5934896469116211 Gap 0.6542, Acc 0.8913 F1 0.8401 Precision : 0.7944 Recall 0.8913\n",
      "t : 262 Loss : 0.49744459986686707 Gap 0.4300, Acc 1.0000 F1 1.0000 Precision : 1.0000 Recall 1.0000\n",
      "t : 263 Loss : 0.4842897951602936 Gap 0.5478, Acc 1.0000 F1 1.0000 Precision : 1.0000 Recall 1.0000\n",
      "t : 264 Loss : 0.35611772537231445 Gap 0.3489, Acc 1.0000 F1 1.0000 Precision : 1.0000 Recall 1.0000\n",
      "t : 265 Loss : 0.28073570132255554 Gap 0.4644, Acc 1.0000 F1 1.0000 Precision : 1.0000 Recall 1.0000\n",
      "t : 266 Loss : 0.08039434999227524 Gap 0.2858, Acc 1.0000 F1 1.0000 Precision : 1.0000 Recall 1.0000\n",
      "t : 267 Loss : 0.49849411845207214 Gap 0.4061, Acc 1.0000 F1 1.0000 Precision : 1.0000 Recall 1.0000\n",
      "t : 268 Loss : 0.23834513127803802 Gap 0.3433, Acc 1.0000 F1 1.0000 Precision : 1.0000 Recall 1.0000\n",
      "t : 269 Loss : 0.4349616467952728 Gap 0.1803, Acc 1.0000 F1 1.0000 Precision : 1.0000 Recall 1.0000\n",
      "270\n",
      "t : 270 Loss : 0.03214932978153229 Gap 0.6699, Acc 1.0000 F1 1.0000 Precision : 1.0000 Recall 1.0000\n",
      "t : 271 Loss : 0.06903254240751266 Gap 0.3328, Acc 1.0000 F1 1.0000 Precision : 1.0000 Recall 1.0000\n",
      "t : 272 Loss : 0.03330448269844055 Gap 0.8207, Acc 1.0000 F1 1.0000 Precision : 1.0000 Recall 1.0000\n",
      "t : 273 Loss : 0.0882200375199318 Gap 0.5880, Acc 1.0000 F1 1.0000 Precision : 1.0000 Recall 1.0000\n",
      "t : 274 Loss : 0.0475565604865551 Gap 0.7505, Acc 1.0000 F1 1.0000 Precision : 1.0000 Recall 1.0000\n",
      "t : 275 Loss : 0.0757303386926651 Gap 0.4501, Acc 1.0000 F1 1.0000 Precision : 1.0000 Recall 1.0000\n",
      "t : 276 Loss : 0.043921809643507004 Gap 0.6929, Acc 1.0000 F1 1.0000 Precision : 1.0000 Recall 1.0000\n",
      "t : 277 Loss : 0.07160937041044235 Gap 0.3730, Acc 1.0000 F1 1.0000 Precision : 1.0000 Recall 1.0000\n",
      "t : 278 Loss : 0.03227730467915535 Gap 0.8793, Acc 1.0000 F1 1.0000 Precision : 1.0000 Recall 1.0000\n",
      "279\n",
      "t : 279 Loss : 0.07830143719911575 Gap 0.4531, Acc 1.0000 F1 1.0000 Precision : 1.0000 Recall 1.0000\n",
      "t : 280 Loss : 0.04086446762084961 Gap 0.7328, Acc 1.0000 F1 1.0000 Precision : 1.0000 Recall 1.0000\n",
      "t : 281 Loss : 0.06733836978673935 Gap 0.5337, Acc 1.0000 F1 1.0000 Precision : 1.0000 Recall 1.0000\n",
      "t : 282 Loss : 0.05031277984380722 Gap 0.1644, Acc 1.0000 F1 1.0000 Precision : 1.0000 Recall 1.0000\n",
      "t : 283 Loss : 0.03216882422566414 Gap 0.5552, Acc 1.0000 F1 1.0000 Precision : 1.0000 Recall 1.0000\n",
      "t : 284 Loss : 0.04796489700675011 Gap 0.2954, Acc 1.0000 F1 1.0000 Precision : 1.0000 Recall 1.0000\n",
      "t : 285 Loss : 0.027604546397924423 Gap 0.8535, Acc 1.0000 F1 1.0000 Precision : 1.0000 Recall 1.0000\n",
      "t : 286 Loss : 0.07420165836811066 Gap 0.7616, Acc 1.0000 F1 1.0000 Precision : 1.0000 Recall 1.0000\n",
      "t : 287 Loss : 0.050331778824329376 Gap 0.7771, Acc 1.0000 F1 1.0000 Precision : 1.0000 Recall 1.0000\n",
      "288\n",
      "t : 288 Loss : 0.06225353106856346 Gap 0.5477, Acc 1.0000 F1 1.0000 Precision : 1.0000 Recall 1.0000\n",
      "t : 289 Loss : 0.042853377759456635 Gap 0.8932, Acc 0.7101 F1 0.5898 Precision : 0.5043 Recall 0.7101\n",
      "t : 290 Loss : 0.05956437066197395 Gap 0.4448, Acc 0.7101 F1 0.5898 Precision : 0.5043 Recall 0.7101\n",
      "t : 291 Loss : 0.04183758795261383 Gap 0.8205, Acc 0.7101 F1 0.5898 Precision : 0.5043 Recall 0.7101\n",
      "t : 292 Loss : 0.05911668762564659 Gap 0.3632, Acc 0.7101 F1 0.5898 Precision : 0.5043 Recall 0.7101\n",
      "t : 293 Loss : 0.041045401245355606 Gap 0.6926, Acc 0.7101 F1 0.5898 Precision : 0.5043 Recall 0.7101\n",
      "t : 294 Loss : 0.056261248886585236 Gap 0.3200, Acc 0.7101 F1 0.5898 Precision : 0.5043 Recall 0.7101\n",
      "t : 295 Loss : 0.030215930193662643 Gap 0.8901, Acc 0.7101 F1 0.5898 Precision : 0.5043 Recall 0.7101\n",
      "t : 296 Loss : 0.07209872454404831 Gap 0.3879, Acc 0.7101 F1 0.5898 Precision : 0.5043 Recall 0.7101\n",
      "297\n",
      "t : 297 Loss : 0.9038642048835754 Gap 0.7278, Acc 0.7101 F1 0.5898 Precision : 0.5043 Recall 0.7101\n",
      "t : 298 Loss : 0.6283252835273743 Gap 0.3583, Acc 0.7391 F1 0.6283 Precision : 0.5463 Recall 0.7391\n",
      "t : 299 Loss : 0.8435587286949158 Gap 0.1471, Acc 0.7391 F1 0.6283 Precision : 0.5463 Recall 0.7391\n",
      "t : 300 Loss : 1.0654146671295166 Gap 0.6712, Acc 0.7391 F1 0.6283 Precision : 0.5463 Recall 0.7391\n",
      "t : 301 Loss : 0.696531355381012 Gap 0.3455, Acc 0.7391 F1 0.6283 Precision : 0.5463 Recall 0.7391\n",
      "t : 302 Loss : 1.0350359678268433 Gap 0.9428, Acc 0.7391 F1 0.6283 Precision : 0.5463 Recall 0.7391\n",
      "t : 303 Loss : 0.7458778619766235 Gap 0.5763, Acc 0.7391 F1 0.6283 Precision : 0.5463 Recall 0.7391\n",
      "t : 304 Loss : 1.0786194801330566 Gap 0.9070, Acc 0.7391 F1 0.6283 Precision : 0.5463 Recall 0.7391\n",
      "t : 305 Loss : 0.17471656203269958 Gap 0.4616, Acc 0.7391 F1 0.6283 Precision : 0.5463 Recall 0.7391\n",
      "306\n",
      "t : 306 Loss : 1.0217326879501343 Gap 0.9490, Acc 0.7391 F1 0.6283 Precision : 0.5463 Recall 0.7391\n",
      "t : 307 Loss : 0.33246922492980957 Gap 0.4876, Acc 0.8406 F1 0.7678 Precision : 0.7066 Recall 0.8406\n",
      "t : 308 Loss : 0.7560442090034485 Gap 1.1809, Acc 0.8406 F1 0.7678 Precision : 0.7066 Recall 0.8406\n",
      "t : 309 Loss : 0.5581988096237183 Gap 0.7702, Acc 0.8406 F1 0.7678 Precision : 0.7066 Recall 0.8406\n",
      "t : 310 Loss : 0.7243291139602661 Gap 1.0629, Acc 0.8406 F1 0.7678 Precision : 0.7066 Recall 0.8406\n",
      "t : 311 Loss : 0.6085959076881409 Gap 0.6599, Acc 0.8406 F1 0.7678 Precision : 0.7066 Recall 0.8406\n",
      "t : 312 Loss : 1.0039197206497192 Gap 0.9172, Acc 0.8406 F1 0.7678 Precision : 0.7066 Recall 0.8406\n",
      "t : 313 Loss : 0.7723098993301392 Gap 0.6229, Acc 0.8406 F1 0.7678 Precision : 0.7066 Recall 0.8406\n",
      "t : 314 Loss : 0.8629568219184875 Gap 1.0692, Acc 0.8406 F1 0.7678 Precision : 0.7066 Recall 0.8406\n",
      "315\n",
      "t : 315 Loss : 0.46695980429649353 Gap 0.6766, Acc 0.8406 F1 0.7678 Precision : 0.7066 Recall 0.8406\n",
      "t : 316 Loss : 0.4052591919898987 Gap 0.2785, Acc 1.0000 F1 1.0000 Precision : 1.0000 Recall 1.0000\n",
      "t : 317 Loss : 0.4875692129135132 Gap 0.5423, Acc 1.0000 F1 1.0000 Precision : 1.0000 Recall 1.0000\n",
      "t : 318 Loss : 0.15560738742351532 Gap 0.4482, Acc 1.0000 F1 1.0000 Precision : 1.0000 Recall 1.0000\n",
      "t : 319 Loss : 0.8373486995697021 Gap 0.4563, Acc 1.0000 F1 1.0000 Precision : 1.0000 Recall 1.0000\n",
      "t : 320 Loss : 0.6926392912864685 Gap 0.5281, Acc 1.0000 F1 1.0000 Precision : 1.0000 Recall 1.0000\n",
      "t : 321 Loss : 0.3697536289691925 Gap 0.3927, Acc 1.0000 F1 1.0000 Precision : 1.0000 Recall 1.0000\n",
      "t : 322 Loss : 0.3897663354873657 Gap 0.4087, Acc 1.0000 F1 1.0000 Precision : 1.0000 Recall 1.0000\n",
      "t : 323 Loss : 0.5579466819763184 Gap 0.3272, Acc 1.0000 F1 1.0000 Precision : 1.0000 Recall 1.0000\n",
      "324\n",
      "t : 324 Loss : 0.04452511668205261 Gap 0.6125, Acc 1.0000 F1 1.0000 Precision : 1.0000 Recall 1.0000\n",
      "t : 325 Loss : 0.07978281378746033 Gap 0.5554, Acc 1.0000 F1 1.0000 Precision : 1.0000 Recall 1.0000\n",
      "t : 326 Loss : 0.045158177614212036 Gap 0.7129, Acc 1.0000 F1 1.0000 Precision : 1.0000 Recall 1.0000\n",
      "t : 327 Loss : 0.07890954613685608 Gap 0.7391, Acc 1.0000 F1 1.0000 Precision : 1.0000 Recall 1.0000\n",
      "t : 328 Loss : 0.04003416374325752 Gap 0.8085, Acc 1.0000 F1 1.0000 Precision : 1.0000 Recall 1.0000\n"
     ]
    },
    {
     "name": "stdout",
     "output_type": "stream",
     "text": [
      "t : 329 Loss : 0.09112599492073059 Gap 1.0831, Acc 1.0000 F1 1.0000 Precision : 1.0000 Recall 1.0000\n",
      "t : 330 Loss : 0.041625332087278366 Gap 0.8997, Acc 1.0000 F1 1.0000 Precision : 1.0000 Recall 1.0000\n",
      "t : 331 Loss : 0.09264075011014938 Gap 1.3219, Acc 1.0000 F1 1.0000 Precision : 1.0000 Recall 1.0000\n",
      "t : 332 Loss : 0.03698644042015076 Gap 0.9607, Acc 1.0000 F1 1.0000 Precision : 1.0000 Recall 1.0000\n",
      "333\n",
      "t : 333 Loss : 0.0879962295293808 Gap 1.5952, Acc 1.0000 F1 1.0000 Precision : 1.0000 Recall 1.0000\n",
      "t : 334 Loss : 0.042110782116651535 Gap 0.8961, Acc 1.0000 F1 1.0000 Precision : 1.0000 Recall 1.0000\n",
      "t : 335 Loss : 0.09814928472042084 Gap 1.5599, Acc 1.0000 F1 1.0000 Precision : 1.0000 Recall 1.0000\n",
      "t : 336 Loss : 0.04726884886622429 Gap 0.8153, Acc 1.0000 F1 1.0000 Precision : 1.0000 Recall 1.0000\n",
      "t : 337 Loss : 0.10827828198671341 Gap 1.5479, Acc 1.0000 F1 1.0000 Precision : 1.0000 Recall 1.0000\n",
      "t : 338 Loss : 0.03909686580300331 Gap 0.8691, Acc 1.0000 F1 1.0000 Precision : 1.0000 Recall 1.0000\n",
      "t : 339 Loss : 0.10798222571611404 Gap 1.7734, Acc 1.0000 F1 1.0000 Precision : 1.0000 Recall 1.0000\n",
      "t : 340 Loss : 0.04440315440297127 Gap 0.7830, Acc 1.0000 F1 1.0000 Precision : 1.0000 Recall 1.0000\n",
      "t : 341 Loss : 0.12037545442581177 Gap 1.7299, Acc 1.0000 F1 1.0000 Precision : 1.0000 Recall 1.0000\n",
      "342\n",
      "t : 342 Loss : 0.04985019564628601 Gap 0.7524, Acc 1.0000 F1 1.0000 Precision : 1.0000 Recall 1.0000\n",
      "t : 343 Loss : 0.04989642649888992 Gap 0.2912, Acc 1.0000 F1 1.0000 Precision : 1.0000 Recall 1.0000\n",
      "t : 344 Loss : 0.07111507654190063 Gap 0.7653, Acc 1.0000 F1 1.0000 Precision : 1.0000 Recall 1.0000\n",
      "t : 345 Loss : 0.032759200781583786 Gap 0.7663, Acc 1.0000 F1 1.0000 Precision : 1.0000 Recall 1.0000\n",
      "t : 346 Loss : 0.10224997997283936 Gap 1.3210, Acc 1.0000 F1 1.0000 Precision : 1.0000 Recall 1.0000\n",
      "t : 347 Loss : 0.04566745087504387 Gap 0.7409, Acc 1.0000 F1 1.0000 Precision : 1.0000 Recall 1.0000\n",
      "t : 348 Loss : 0.09611338376998901 Gap 1.4490, Acc 1.0000 F1 1.0000 Precision : 1.0000 Recall 1.0000\n",
      "t : 349 Loss : 0.04989640787243843 Gap 0.8268, Acc 1.0000 F1 1.0000 Precision : 1.0000 Recall 1.0000\n",
      "t : 350 Loss : 0.09690029919147491 Gap 1.3201, Acc 1.0000 F1 1.0000 Precision : 1.0000 Recall 1.0000\n",
      "351\n",
      "t : 351 Loss : 0.049818456172943115 Gap 0.9088, Acc 1.0000 F1 1.0000 Precision : 1.0000 Recall 1.0000\n",
      "t : 352 Loss : 0.09913568198680878 Gap 1.2421, Acc 1.0000 F1 1.0000 Precision : 1.0000 Recall 1.0000\n",
      "t : 353 Loss : 0.05240324139595032 Gap 0.8900, Acc 1.0000 F1 1.0000 Precision : 1.0000 Recall 1.0000\n",
      "t : 354 Loss : 0.09776324033737183 Gap 1.1059, Acc 1.0000 F1 1.0000 Precision : 1.0000 Recall 1.0000\n",
      "t : 355 Loss : 0.03950510546565056 Gap 1.0033, Acc 1.0000 F1 1.0000 Precision : 1.0000 Recall 1.0000\n",
      "t : 356 Loss : 0.10113736242055893 Gap 1.3998, Acc 1.0000 F1 1.0000 Precision : 1.0000 Recall 1.0000\n",
      "t : 357 Loss : 0.04644829407334328 Gap 0.9175, Acc 1.0000 F1 1.0000 Precision : 1.0000 Recall 1.0000\n",
      "t : 358 Loss : 0.11248922348022461 Gap 1.3837, Acc 1.0000 F1 1.0000 Precision : 1.0000 Recall 1.0000\n",
      "t : 359 Loss : 0.05178416520357132 Gap 0.8195, Acc 1.0000 F1 1.0000 Precision : 1.0000 Recall 1.0000\n",
      "360\n",
      "t : 360 Loss : 0.10492978245019913 Gap 1.1296, Acc 1.0000 F1 1.0000 Precision : 1.0000 Recall 1.0000\n",
      "t : 361 Loss : 0.050829317420721054 Gap 0.7008, Acc 0.6812 F1 0.5520 Precision : 0.4640 Recall 0.6812\n",
      "t : 362 Loss : 0.09842485934495926 Gap 0.9450, Acc 0.6812 F1 0.5520 Precision : 0.4640 Recall 0.6812\n",
      "t : 363 Loss : 0.05582364276051521 Gap 0.2709, Acc 0.6812 F1 0.5520 Precision : 0.4640 Recall 0.6812\n",
      "t : 364 Loss : 0.030626703053712845 Gap 0.9547, Acc 0.6812 F1 0.5520 Precision : 0.4640 Recall 0.6812\n",
      "t : 365 Loss : 0.08710823953151703 Gap 0.9147, Acc 0.6812 F1 0.5520 Precision : 0.4640 Recall 0.6812\n",
      "t : 366 Loss : 0.04310969263315201 Gap 0.8783, Acc 0.6812 F1 0.5520 Precision : 0.4640 Recall 0.6812\n",
      "t : 367 Loss : 0.07905792444944382 Gap 1.0258, Acc 0.6812 F1 0.5520 Precision : 0.4640 Recall 0.6812\n",
      "t : 368 Loss : 0.045594681054353714 Gap 0.9784, Acc 0.6812 F1 0.5520 Precision : 0.4640 Recall 0.6812\n",
      "369\n",
      "t : 369 Loss : 0.5322295427322388 Gap 0.9740, Acc 0.6812 F1 0.5520 Precision : 0.4640 Recall 0.6812\n",
      "t : 370 Loss : 0.8723164796829224 Gap 1.0526, Acc 0.6884 F1 0.5614 Precision : 0.4739 Recall 0.6884\n",
      "t : 371 Loss : 0.5710198283195496 Gap 0.9696, Acc 0.6884 F1 0.5614 Precision : 0.4739 Recall 0.6884\n",
      "t : 372 Loss : 1.2855329513549805 Gap 1.2498, Acc 0.6884 F1 0.5614 Precision : 0.4739 Recall 0.6884\n",
      "t : 373 Loss : 0.44103488326072693 Gap 1.2375, Acc 0.6884 F1 0.5614 Precision : 0.4739 Recall 0.6884\n",
      "t : 374 Loss : 1.0484563112258911 Gap 1.1661, Acc 0.6884 F1 0.5614 Precision : 0.4739 Recall 0.6884\n",
      "t : 375 Loss : 0.8973500728607178 Gap 1.2166, Acc 0.6884 F1 0.5614 Precision : 0.4739 Recall 0.6884\n",
      "t : 376 Loss : 1.0994904041290283 Gap 1.2393, Acc 0.6884 F1 0.5614 Precision : 0.4739 Recall 0.6884\n",
      "t : 377 Loss : 0.5345585942268372 Gap 1.4954, Acc 0.6884 F1 0.5614 Precision : 0.4739 Recall 0.6884\n",
      "378\n",
      "t : 378 Loss : 0.9863784909248352 Gap 1.1224, Acc 0.6884 F1 0.5614 Precision : 0.4739 Recall 0.6884\n",
      "t : 379 Loss : 0.24116508662700653 Gap 1.4613, Acc 0.7717 F1 0.6723 Precision : 0.5956 Recall 0.7717\n",
      "t : 380 Loss : 0.7784842252731323 Gap 0.9860, Acc 0.7717 F1 0.6723 Precision : 0.5956 Recall 0.7717\n",
      "t : 381 Loss : 0.5899306535720825 Gap 1.4050, Acc 0.7717 F1 0.6723 Precision : 0.5956 Recall 0.7717\n",
      "t : 382 Loss : 1.1618772745132446 Gap 1.0447, Acc 0.7717 F1 0.6723 Precision : 0.5956 Recall 0.7717\n",
      "t : 383 Loss : 0.5341135859489441 Gap 1.7798, Acc 0.7717 F1 0.6723 Precision : 0.5956 Recall 0.7717\n",
      "t : 384 Loss : 0.9620529413223267 Gap 0.5884, Acc 0.7717 F1 0.6723 Precision : 0.5956 Recall 0.7717\n",
      "t : 385 Loss : 1.2807848453521729 Gap 0.5271, Acc 0.7717 F1 0.6723 Precision : 0.5956 Recall 0.7717\n",
      "t : 386 Loss : 1.175686240196228 Gap 0.4285, Acc 0.7717 F1 0.6723 Precision : 0.5956 Recall 0.7717\n",
      "387\n",
      "t : 387 Loss : 0.38434740900993347 Gap 0.5430, Acc 0.7717 F1 0.6723 Precision : 0.5956 Recall 0.7717\n",
      "t : 388 Loss : 1.0821110010147095 Gap 0.6382, Acc 1.0000 F1 1.0000 Precision : 1.0000 Recall 1.0000\n",
      "t : 389 Loss : 0.5743868947029114 Gap 0.8006, Acc 1.0000 F1 1.0000 Precision : 1.0000 Recall 1.0000\n",
      "t : 390 Loss : 1.0183119773864746 Gap 0.7122, Acc 1.0000 F1 1.0000 Precision : 1.0000 Recall 1.0000\n",
      "t : 391 Loss : 0.43385735154151917 Gap 1.1154, Acc 1.0000 F1 1.0000 Precision : 1.0000 Recall 1.0000\n",
      "t : 392 Loss : 0.49237489700317383 Gap 0.7944, Acc 1.0000 F1 1.0000 Precision : 1.0000 Recall 1.0000\n",
      "t : 393 Loss : 0.3859364688396454 Gap 1.4067, Acc 1.0000 F1 1.0000 Precision : 1.0000 Recall 1.0000\n",
      "t : 394 Loss : 0.5057756304740906 Gap 0.8924, Acc 1.0000 F1 1.0000 Precision : 1.0000 Recall 1.0000\n",
      "t : 395 Loss : 0.46322885155677795 Gap 1.8172, Acc 1.0000 F1 1.0000 Precision : 1.0000 Recall 1.0000\n",
      "396\n",
      "t : 396 Loss : 0.04689604416489601 Gap 0.9880, Acc 1.0000 F1 1.0000 Precision : 1.0000 Recall 1.0000\n",
      "t : 397 Loss : 0.10982578992843628 Gap 2.0436, Acc 1.0000 F1 1.0000 Precision : 1.0000 Recall 1.0000\n",
      "t : 398 Loss : 0.04121058061718941 Gap 1.0392, Acc 1.0000 F1 1.0000 Precision : 1.0000 Recall 1.0000\n",
      "t : 399 Loss : 0.11597469449043274 Gap 2.3983, Acc 1.0000 F1 1.0000 Precision : 1.0000 Recall 1.0000\n",
      "t : 400 Loss : 0.03827884793281555 Gap 1.1170, Acc 1.0000 F1 1.0000 Precision : 1.0000 Recall 1.0000\n",
      "t : 401 Loss : 0.13460910320281982 Gap 2.8451, Acc 1.0000 F1 1.0000 Precision : 1.0000 Recall 1.0000\n",
      "t : 402 Loss : 0.041258811950683594 Gap 1.2371, Acc 1.0000 F1 1.0000 Precision : 1.0000 Recall 1.0000\n",
      "t : 403 Loss : 0.14061035215854645 Gap 3.0355, Acc 1.0000 F1 1.0000 Precision : 1.0000 Recall 1.0000\n",
      "t : 404 Loss : 0.0364161841571331 Gap 1.2782, Acc 1.0000 F1 1.0000 Precision : 1.0000 Recall 1.0000\n",
      "405\n",
      "t : 405 Loss : 0.13592462241649628 Gap 3.2307, Acc 1.0000 F1 1.0000 Precision : 1.0000 Recall 1.0000\n",
      "t : 406 Loss : 0.031529732048511505 Gap 1.3142, Acc 0.7029 F1 0.5803 Precision : 0.4941 Recall 0.7029\n",
      "t : 407 Loss : 0.1418054699897766 Gap 3.4584, Acc 0.7029 F1 0.5803 Precision : 0.4941 Recall 0.7029\n",
      "t : 408 Loss : 0.027903998270630836 Gap 1.3889, Acc 0.7029 F1 0.5803 Precision : 0.4941 Recall 0.7029\n",
      "t : 409 Loss : 0.05115805193781853 Gap 0.1692, Acc 0.7029 F1 0.5803 Precision : 0.4941 Recall 0.7029\n"
     ]
    },
    {
     "name": "stdout",
     "output_type": "stream",
     "text": [
      "t : 410 Loss : 0.09408088028430939 Gap 1.6692, Acc 0.7029 F1 0.5803 Precision : 0.4941 Recall 0.7029\n",
      "t : 411 Loss : 0.03450032323598862 Gap 0.9603, Acc 0.7029 F1 0.5803 Precision : 0.4941 Recall 0.7029\n",
      "t : 412 Loss : 0.13225948810577393 Gap 2.2240, Acc 0.7029 F1 0.5803 Precision : 0.4941 Recall 0.7029\n",
      "t : 413 Loss : 0.047791704535484314 Gap 0.8343, Acc 0.7029 F1 0.5803 Precision : 0.4941 Recall 0.7029\n",
      "414\n",
      "t : 414 Loss : 0.6657084822654724 Gap 2.3373, Acc 0.7029 F1 0.5803 Precision : 0.4941 Recall 0.7029\n",
      "t : 415 Loss : 0.29321804642677307 Gap 0.9996, Acc 0.8551 F1 0.7883 Precision : 0.7311 Recall 0.8551\n",
      "t : 416 Loss : 0.5449584722518921 Gap 2.7163, Acc 0.8551 F1 0.7883 Precision : 0.7311 Recall 0.8551\n",
      "t : 417 Loss : 0.7847410440444946 Gap 1.1398, Acc 0.8551 F1 0.7883 Precision : 0.7311 Recall 0.8551\n",
      "t : 418 Loss : 0.5773175954818726 Gap 3.0236, Acc 0.8551 F1 0.7883 Precision : 0.7311 Recall 0.8551\n",
      "t : 419 Loss : 1.0232946872711182 Gap 1.2722, Acc 0.8551 F1 0.7883 Precision : 0.7311 Recall 0.8551\n",
      "t : 420 Loss : 0.4203195869922638 Gap 3.3660, Acc 0.8551 F1 0.7883 Precision : 0.7311 Recall 0.8551\n",
      "t : 421 Loss : 0.7079289555549622 Gap 1.4195, Acc 0.8551 F1 0.7883 Precision : 0.7311 Recall 0.8551\n",
      "t : 422 Loss : 0.8573827743530273 Gap 3.8539, Acc 0.8551 F1 0.7883 Precision : 0.7311 Recall 0.8551\n",
      "423\n",
      "t : 423 Loss : 0.4730585813522339 Gap 1.6119, Acc 0.8551 F1 0.7883 Precision : 0.7311 Recall 0.8551\n",
      "t : 424 Loss : 0.4012967348098755 Gap 4.0829, Acc 0.8587 F1 0.7934 Precision : 0.7374 Recall 0.8587\n",
      "t : 425 Loss : 0.7917278409004211 Gap 1.6818, Acc 0.8587 F1 0.7934 Precision : 0.7374 Recall 0.8587\n",
      "t : 426 Loss : 0.41279277205467224 Gap 4.5294, Acc 0.8587 F1 0.7934 Precision : 0.7374 Recall 0.8587\n",
      "t : 427 Loss : 0.5612167716026306 Gap 1.8172, Acc 0.8587 F1 0.7934 Precision : 0.7374 Recall 0.8587\n",
      "t : 428 Loss : 0.41231870651245117 Gap 4.7829, Acc 0.8587 F1 0.7934 Precision : 0.7374 Recall 0.8587\n",
      "t : 429 Loss : 0.4968642294406891 Gap 1.8675, Acc 0.8587 F1 0.7934 Precision : 0.7374 Recall 0.8587\n",
      "t : 430 Loss : 0.35881856083869934 Gap 5.0838, Acc 0.8587 F1 0.7934 Precision : 0.7374 Recall 0.8587\n",
      "t : 431 Loss : 0.35557714104652405 Gap 2.0437, Acc 0.8587 F1 0.7934 Precision : 0.7374 Recall 0.8587\n",
      "432\n",
      "t : 432 Loss : 0.3206314444541931 Gap 0.0784, Acc 0.8587 F1 0.7934 Precision : 0.7374 Recall 0.8587\n",
      "t : 433 Loss : 0.5968843698501587 Gap 4.1699, Acc 0.8261 F1 0.7474 Precision : 0.6824 Recall 0.8261\n",
      "t : 434 Loss : 0.6899523138999939 Gap 1.3521, Acc 0.8261 F1 0.7474 Precision : 0.6824 Recall 0.8261\n",
      "t : 435 Loss : 0.3193843364715576 Gap 0.2662, Acc 0.8261 F1 0.7474 Precision : 0.6824 Recall 0.8261\n",
      "t : 436 Loss : 0.40346992015838623 Gap 2.6821, Acc 0.8261 F1 0.7474 Precision : 0.6824 Recall 0.8261\n",
      "t : 437 Loss : 0.3705803155899048 Gap 0.3851, Acc 0.8261 F1 0.7474 Precision : 0.6824 Recall 0.8261\n",
      "t : 438 Loss : 0.2988716959953308 Gap 2.8422, Acc 0.8261 F1 0.7474 Precision : 0.6824 Recall 0.8261\n",
      "t : 439 Loss : 0.3499605059623718 Gap 0.4948, Acc 0.8261 F1 0.7474 Precision : 0.6824 Recall 0.8261\n",
      "t : 440 Loss : 0.47887811064720154 Gap 3.1827, Acc 0.8261 F1 0.7474 Precision : 0.6824 Recall 0.8261\n",
      "441\n",
      "t : 441 Loss : 0.4785483181476593 Gap 0.5837, Acc 0.8261 F1 0.7474 Precision : 0.6824 Recall 0.8261\n",
      "t : 442 Loss : 0.3388555943965912 Gap 3.3385, Acc 0.7899 F1 0.6971 Precision : 0.6239 Recall 0.7899\n",
      "t : 443 Loss : 0.4493817985057831 Gap 0.7029, Acc 0.7899 F1 0.6971 Precision : 0.6239 Recall 0.7899\n",
      "t : 444 Loss : 0.558237612247467 Gap 3.4996, Acc 0.7899 F1 0.6971 Precision : 0.6239 Recall 0.7899\n",
      "t : 445 Loss : 0.7091187834739685 Gap 0.8429, Acc 0.7899 F1 0.6971 Precision : 0.6239 Recall 0.7899\n",
      "t : 446 Loss : 0.3524869680404663 Gap 3.9087, Acc 0.7899 F1 0.6971 Precision : 0.6239 Recall 0.7899\n",
      "t : 447 Loss : 0.45617756247520447 Gap 1.0112, Acc 0.7899 F1 0.6971 Precision : 0.6239 Recall 0.7899\n",
      "t : 448 Loss : 0.48896050453186035 Gap 3.9283, Acc 0.7899 F1 0.6971 Precision : 0.6239 Recall 0.7899\n",
      "t : 449 Loss : 0.5754924416542053 Gap 1.1154, Acc 0.7899 F1 0.6971 Precision : 0.6239 Recall 0.7899\n",
      "450\n",
      "t : 450 Loss : 0.6221380233764648 Gap 4.4185, Acc 0.7899 F1 0.6971 Precision : 0.6239 Recall 0.7899\n",
      "t : 451 Loss : 0.3803656995296478 Gap 1.3135, Acc 1.0000 F1 1.0000 Precision : 1.0000 Recall 1.0000\n",
      "t : 452 Loss : 0.45715975761413574 Gap 4.5081, Acc 1.0000 F1 1.0000 Precision : 1.0000 Recall 1.0000\n",
      "t : 453 Loss : 0.5498006939888 Gap 1.4077, Acc 1.0000 F1 1.0000 Precision : 1.0000 Recall 1.0000\n",
      "t : 454 Loss : 0.6247963905334473 Gap 4.6614, Acc 1.0000 F1 1.0000 Precision : 1.0000 Recall 1.0000\n",
      "t : 455 Loss : 0.709338366985321 Gap 1.4875, Acc 1.0000 F1 1.0000 Precision : 1.0000 Recall 1.0000\n",
      "t : 456 Loss : 0.3697863221168518 Gap 5.2717, Acc 1.0000 F1 1.0000 Precision : 1.0000 Recall 1.0000\n",
      "t : 457 Loss : 0.6956462860107422 Gap 1.7442, Acc 1.0000 F1 1.0000 Precision : 1.0000 Recall 1.0000\n",
      "t : 458 Loss : 0.6006890535354614 Gap 0.1919, Acc 1.0000 F1 1.0000 Precision : 1.0000 Recall 1.0000\n",
      "459\n",
      "t : 459 Loss : 0.055382195860147476 Gap 0.9579, Acc 1.0000 F1 1.0000 Precision : 1.0000 Recall 1.0000\n",
      "t : 460 Loss : 0.0551878996193409 Gap 0.1417, Acc 1.0000 F1 1.0000 Precision : 1.0000 Recall 1.0000\n",
      "t : 461 Loss : 0.04693284630775452 Gap 0.2255, Acc 1.0000 F1 1.0000 Precision : 1.0000 Recall 1.0000\n",
      "t : 462 Loss : 0.05244655907154083 Gap 1.1535, Acc 1.0000 F1 1.0000 Precision : 1.0000 Recall 1.0000\n",
      "t : 463 Loss : 0.03865339607000351 Gap 0.2265, Acc 1.0000 F1 1.0000 Precision : 1.0000 Recall 1.0000\n",
      "t : 464 Loss : 0.044379930943250656 Gap 1.0872, Acc 1.0000 F1 1.0000 Precision : 1.0000 Recall 1.0000\n",
      "t : 465 Loss : 0.03301059454679489 Gap 0.2511, Acc 1.0000 F1 1.0000 Precision : 1.0000 Recall 1.0000\n",
      "t : 466 Loss : 0.05085382238030434 Gap 1.3504, Acc 1.0000 F1 1.0000 Precision : 1.0000 Recall 1.0000\n",
      "t : 467 Loss : 0.0357758030295372 Gap 0.3647, Acc 1.0000 F1 1.0000 Precision : 1.0000 Recall 1.0000\n",
      "468\n",
      "t : 468 Loss : 0.0444265715777874 Gap 1.3979, Acc 1.0000 F1 1.0000 Precision : 1.0000 Recall 1.0000\n",
      "t : 469 Loss : 0.030863773077726364 Gap 0.4085, Acc 0.7029 F1 0.5803 Precision : 0.4941 Recall 0.7029\n",
      "t : 470 Loss : 0.05014749988913536 Gap 1.8511, Acc 0.7029 F1 0.5803 Precision : 0.4941 Recall 0.7029\n",
      "t : 471 Loss : 0.03423048555850983 Gap 0.5419, Acc 0.7029 F1 0.5803 Precision : 0.4941 Recall 0.7029\n",
      "t : 472 Loss : 0.04587201029062271 Gap 2.0154, Acc 0.7029 F1 0.5803 Precision : 0.4941 Recall 0.7029\n",
      "t : 473 Loss : 0.03064502216875553 Gap 0.5833, Acc 0.7029 F1 0.5803 Precision : 0.4941 Recall 0.7029\n",
      "t : 474 Loss : 0.050844062119722366 Gap 2.5254, Acc 0.7029 F1 0.5803 Precision : 0.4941 Recall 0.7029\n",
      "t : 475 Loss : 0.03259371966123581 Gap 0.6964, Acc 0.7029 F1 0.5803 Precision : 0.4941 Recall 0.7029\n",
      "t : 476 Loss : 0.0473792739212513 Gap 2.7272, Acc 0.7029 F1 0.5803 Precision : 0.4941 Recall 0.7029\n",
      "477\n",
      "t : 477 Loss : 0.6697067618370056 Gap 0.7441, Acc 0.7029 F1 0.5803 Precision : 0.4941 Recall 0.7029\n",
      "t : 478 Loss : 0.6236801743507385 Gap 3.1146, Acc 0.7319 F1 0.6186 Precision : 0.5357 Recall 0.7319\n",
      "t : 479 Loss : 0.8214519619941711 Gap 0.8575, Acc 0.7319 F1 0.6186 Precision : 0.5357 Recall 0.7319\n",
      "t : 480 Loss : 0.618394136428833 Gap 2.9916, Acc 0.7319 F1 0.6186 Precision : 0.5357 Recall 0.7319\n",
      "t : 481 Loss : 0.617026150226593 Gap 0.9134, Acc 0.7319 F1 0.6186 Precision : 0.5357 Recall 0.7319\n",
      "t : 482 Loss : 0.9282463192939758 Gap 0.4677, Acc 0.7319 F1 0.6186 Precision : 0.5357 Recall 0.7319\n",
      "t : 483 Loss : 0.5350476503372192 Gap 0.7850, Acc 0.7319 F1 0.6186 Precision : 0.5357 Recall 0.7319\n",
      "t : 484 Loss : 0.7603822350502014 Gap 0.1581, Acc 0.7319 F1 0.6186 Precision : 0.5357 Recall 0.7319\n",
      "t : 485 Loss : 0.5591491460800171 Gap 1.3108, Acc 0.7319 F1 0.6186 Precision : 0.5357 Recall 0.7319\n",
      "486\n",
      "t : 486 Loss : 0.6683153510093689 Gap 0.2049, Acc 0.7319 F1 0.6186 Precision : 0.5357 Recall 0.7319\n",
      "t : 487 Loss : 0.7165351510047913 Gap 1.2387, Acc 0.7065 F1 0.5850 Precision : 0.4992 Recall 0.7065\n",
      "t : 488 Loss : 0.5347567796707153 Gap 0.2364, Acc 0.7065 F1 0.5850 Precision : 0.4992 Recall 0.7065\n",
      "t : 489 Loss : 0.6771417260169983 Gap 1.5387, Acc 0.7065 F1 0.5850 Precision : 0.4992 Recall 0.7065\n",
      "t : 490 Loss : 0.4517483115196228 Gap 0.3432, Acc 0.7065 F1 0.5850 Precision : 0.4992 Recall 0.7065\n",
      "t : 491 Loss : 0.6800234317779541 Gap 1.5868, Acc 0.7065 F1 0.5850 Precision : 0.4992 Recall 0.7065\n"
     ]
    },
    {
     "name": "stdout",
     "output_type": "stream",
     "text": [
      "t : 492 Loss : 0.7268161177635193 Gap 0.4018, Acc 0.7065 F1 0.5850 Precision : 0.4992 Recall 0.7065\n",
      "t : 493 Loss : 0.441381573677063 Gap 2.0509, Acc 0.7065 F1 0.5850 Precision : 0.4992 Recall 0.7065\n",
      "t : 494 Loss : 0.48426398634910583 Gap 0.5255, Acc 0.7065 F1 0.5850 Precision : 0.4992 Recall 0.7065\n",
      "495\n",
      "t : 495 Loss : 0.4969758689403534 Gap 2.3518, Acc 0.7065 F1 0.5850 Precision : 0.4992 Recall 0.7065\n",
      "t : 496 Loss : 0.8296778798103333 Gap 0.6148, Acc 0.8406 F1 0.7678 Precision : 0.7066 Recall 0.8406\n",
      "t : 497 Loss : 0.5923759937286377 Gap 2.9816, Acc 0.8406 F1 0.7678 Precision : 0.7066 Recall 0.8406\n",
      "t : 498 Loss : 0.9663578271865845 Gap 0.7621, Acc 0.8406 F1 0.7678 Precision : 0.7066 Recall 0.8406\n",
      "t : 499 Loss : 0.6366334557533264 Gap 3.0343, Acc 0.8406 F1 0.7678 Precision : 0.7066 Recall 0.8406\n",
      "t : 500 Loss : 0.7053384780883789 Gap 0.8174, Acc 0.8406 F1 0.7678 Precision : 0.7066 Recall 0.8406\n",
      "t : 501 Loss : 0.4766389727592468 Gap 3.5720, Acc 0.8406 F1 0.7678 Precision : 0.7066 Recall 0.8406\n",
      "t : 502 Loss : 0.49301958084106445 Gap 0.9788, Acc 0.8406 F1 0.7678 Precision : 0.7066 Recall 0.8406\n",
      "t : 503 Loss : 0.3885978162288666 Gap 3.4072, Acc 0.8406 F1 0.7678 Precision : 0.7066 Recall 0.8406\n",
      "504\n",
      "t : 504 Loss : 0.5936210751533508 Gap 1.0340, Acc 0.8406 F1 0.7678 Precision : 0.7066 Recall 0.8406\n",
      "t : 505 Loss : 0.4597797095775604 Gap 3.8785, Acc 0.8007 F1 0.7121 Precision : 0.6412 Recall 0.8007\n",
      "t : 506 Loss : 0.38561245799064636 Gap 1.1975, Acc 0.8007 F1 0.7121 Precision : 0.6412 Recall 0.8007\n",
      "t : 507 Loss : 0.5728216171264648 Gap 3.6601, Acc 0.8007 F1 0.7121 Precision : 0.6412 Recall 0.8007\n",
      "t : 508 Loss : 0.1776006668806076 Gap 1.2674, Acc 0.8007 F1 0.7121 Precision : 0.6412 Recall 0.8007\n",
      "t : 509 Loss : 0.47371557354927063 Gap 0.4074, Acc 0.8007 F1 0.7121 Precision : 0.6412 Recall 0.8007\n",
      "t : 510 Loss : 0.42568162083625793 Gap 0.9684, Acc 0.8007 F1 0.7121 Precision : 0.6412 Recall 0.8007\n",
      "t : 511 Loss : 0.41636303067207336 Gap 0.2036, Acc 0.8007 F1 0.7121 Precision : 0.6412 Recall 0.8007\n",
      "t : 512 Loss : 0.39836642146110535 Gap 1.6560, Acc 0.8007 F1 0.7121 Precision : 0.6412 Recall 0.8007\n",
      "513\n",
      "t : 513 Loss : 0.6267488598823547 Gap 0.2569, Acc 0.8007 F1 0.7121 Precision : 0.6412 Recall 0.8007\n",
      "t : 514 Loss : 0.4468596279621124 Gap 1.5766, Acc 1.0000 F1 1.0000 Precision : 1.0000 Recall 1.0000\n",
      "t : 515 Loss : 0.4232513904571533 Gap 0.2810, Acc 1.0000 F1 1.0000 Precision : 1.0000 Recall 1.0000\n",
      "t : 516 Loss : 0.4084881544113159 Gap 1.7160, Acc 1.0000 F1 1.0000 Precision : 1.0000 Recall 1.0000\n",
      "t : 517 Loss : 0.6174501776695251 Gap 0.3672, Acc 1.0000 F1 1.0000 Precision : 1.0000 Recall 1.0000\n",
      "t : 518 Loss : 0.5028241276741028 Gap 2.1527, Acc 1.0000 F1 1.0000 Precision : 1.0000 Recall 1.0000\n",
      "t : 519 Loss : 0.20714038610458374 Gap 0.4883, Acc 1.0000 F1 1.0000 Precision : 1.0000 Recall 1.0000\n",
      "t : 520 Loss : 0.2896402180194855 Gap 2.4236, Acc 1.0000 F1 1.0000 Precision : 1.0000 Recall 1.0000\n",
      "t : 521 Loss : 0.9785897135734558 Gap 0.5792, Acc 1.0000 F1 1.0000 Precision : 1.0000 Recall 1.0000\n",
      "522\n",
      "t : 522 Loss : 0.07238951325416565 Gap 3.0336, Acc 1.0000 F1 1.0000 Precision : 1.0000 Recall 1.0000\n",
      "t : 523 Loss : 0.040273990482091904 Gap 0.7191, Acc 1.0000 F1 1.0000 Precision : 1.0000 Recall 1.0000\n",
      "t : 524 Loss : 0.06710583716630936 Gap 3.1271, Acc 1.0000 F1 1.0000 Precision : 1.0000 Recall 1.0000\n",
      "t : 525 Loss : 0.034991439431905746 Gap 0.7777, Acc 1.0000 F1 1.0000 Precision : 1.0000 Recall 1.0000\n",
      "t : 526 Loss : 0.07446282356977463 Gap 3.6910, Acc 1.0000 F1 1.0000 Precision : 1.0000 Recall 1.0000\n",
      "t : 527 Loss : 0.038779858499765396 Gap 0.9308, Acc 1.0000 F1 1.0000 Precision : 1.0000 Recall 1.0000\n",
      "t : 528 Loss : 0.07016211003065109 Gap 3.5688, Acc 1.0000 F1 1.0000 Precision : 1.0000 Recall 1.0000\n",
      "t : 529 Loss : 0.03396940603852272 Gap 0.9818, Acc 1.0000 F1 1.0000 Precision : 1.0000 Recall 1.0000\n",
      "t : 530 Loss : 0.08115102350711823 Gap 4.0236, Acc 1.0000 F1 1.0000 Precision : 1.0000 Recall 1.0000\n",
      "531\n",
      "t : 531 Loss : 0.03726252540946007 Gap 1.1462, Acc 1.0000 F1 1.0000 Precision : 1.0000 Recall 1.0000\n",
      "t : 532 Loss : 0.07696555554866791 Gap 3.8429, Acc 1.0000 F1 1.0000 Precision : 1.0000 Recall 1.0000\n",
      "t : 533 Loss : 0.03334648162126541 Gap 1.1854, Acc 1.0000 F1 1.0000 Precision : 1.0000 Recall 1.0000\n",
      "t : 534 Loss : 0.08635582029819489 Gap 4.0793, Acc 1.0000 F1 1.0000 Precision : 1.0000 Recall 1.0000\n",
      "t : 535 Loss : 0.035494256764650345 Gap 1.3248, Acc 1.0000 F1 1.0000 Precision : 1.0000 Recall 1.0000\n",
      "t : 536 Loss : 0.03975391015410423 Gap 0.4805, Acc 1.0000 F1 1.0000 Precision : 1.0000 Recall 1.0000\n",
      "t : 537 Loss : 0.06991328299045563 Gap 0.9717, Acc 1.0000 F1 1.0000 Precision : 1.0000 Recall 1.0000\n",
      "t : 538 Loss : 0.07083625346422195 Gap 0.2498, Acc 1.0000 F1 1.0000 Precision : 1.0000 Recall 1.0000\n",
      "t : 539 Loss : 0.08537160605192184 Gap 1.6615, Acc 1.0000 F1 1.0000 Precision : 1.0000 Recall 1.0000\n",
      "540\n",
      "t : 540 Loss : 0.05549154803156853 Gap 0.2888, Acc 1.0000 F1 1.0000 Precision : 1.0000 Recall 1.0000\n",
      "t : 541 Loss : 0.07189179211854935 Gap 1.5802, Acc 0.6812 F1 0.5520 Precision : 0.4640 Recall 0.6812\n",
      "t : 542 Loss : 0.04614786058664322 Gap 0.3027, Acc 0.6812 F1 0.5520 Precision : 0.4640 Recall 0.6812\n",
      "t : 543 Loss : 0.06474559009075165 Gap 1.5937, Acc 0.6812 F1 0.5520 Precision : 0.4640 Recall 0.6812\n",
      "t : 544 Loss : 0.04059072583913803 Gap 0.3495, Acc 0.6812 F1 0.5520 Precision : 0.4640 Recall 0.6812\n",
      "t : 545 Loss : 0.07146675139665604 Gap 1.9976, Acc 0.6812 F1 0.5520 Precision : 0.4640 Recall 0.6812\n",
      "t : 546 Loss : 0.043241214007139206 Gap 0.4614, Acc 0.6812 F1 0.5520 Precision : 0.4640 Recall 0.6812\n",
      "t : 547 Loss : 0.06541721522808075 Gap 2.0823, Acc 0.6812 F1 0.5520 Precision : 0.4640 Recall 0.6812\n",
      "t : 548 Loss : 0.037812285125255585 Gap 0.5144, Acc 0.6812 F1 0.5520 Precision : 0.4640 Recall 0.6812\n",
      "549\n",
      "t : 549 Loss : 0.44303083419799805 Gap 2.6501, Acc 0.6812 F1 0.5520 Precision : 0.4640 Recall 0.6812\n",
      "t : 550 Loss : 0.7043673992156982 Gap 0.6492, Acc 0.6920 F1 0.5661 Precision : 0.4789 Recall 0.6920\n",
      "t : 551 Loss : 0.3955119848251343 Gap 2.7753, Acc 0.6920 F1 0.5661 Precision : 0.4789 Recall 0.6920\n",
      "t : 552 Loss : 0.7412380576133728 Gap 0.7150, Acc 0.6920 F1 0.5661 Precision : 0.4789 Recall 0.6920\n",
      "t : 553 Loss : 0.9035458564758301 Gap 3.3396, Acc 0.6920 F1 0.5661 Precision : 0.4789 Recall 0.6920\n",
      "t : 554 Loss : 0.841023325920105 Gap 0.8507, Acc 0.6920 F1 0.5661 Precision : 0.4789 Recall 0.6920\n",
      "t : 555 Loss : 0.8042216897010803 Gap 3.2909, Acc 0.6920 F1 0.5661 Precision : 0.4789 Recall 0.6920\n",
      "t : 556 Loss : 0.7373927235603333 Gap 0.9132, Acc 0.6920 F1 0.5661 Precision : 0.4789 Recall 0.6920\n",
      "t : 557 Loss : 0.825383186340332 Gap 3.7423, Acc 0.6920 F1 0.5661 Precision : 0.4789 Recall 0.6920\n",
      "t : 558 Loss : 0.8402023911476135 Gap 1.0538, Acc 0.6920 F1 0.5661 Precision : 0.4789 Recall 0.6920\n",
      "t : 559 Loss : 0.5788266062736511 Gap 3.9780, Acc 0.6920 F1 0.5661 Precision : 0.4789 Recall 0.6920\n",
      "t : 560 Loss : 0.69770348072052 Gap 1.1690, Acc 0.6920 F1 0.5661 Precision : 0.4789 Recall 0.6920\n",
      "t : 561 Loss : 0.831982433795929 Gap 3.7843, Acc 0.6920 F1 0.5661 Precision : 0.4789 Recall 0.6920\n",
      "t : 562 Loss : 0.7791686654090881 Gap 1.2319, Acc 0.6920 F1 0.5661 Precision : 0.4789 Recall 0.6920\n",
      "t : 563 Loss : 0.6129892468452454 Gap 0.3652, Acc 0.6920 F1 0.5661 Precision : 0.4789 Recall 0.6920\n",
      "t : 564 Loss : 0.628067672252655 Gap 0.9084, Acc 0.6920 F1 0.5661 Precision : 0.4789 Recall 0.6920\n",
      "t : 565 Loss : 0.39172306656837463 Gap 0.1760, Acc 0.6920 F1 0.5661 Precision : 0.4789 Recall 0.6920\n",
      "t : 566 Loss : 0.3066587448120117 Gap 0.4080, Acc 0.6920 F1 0.5661 Precision : 0.4789 Recall 0.6920\n"
     ]
    }
   ],
   "source": [
    "obj_val_ofw = trainer.train_ofw(OFW, eta_coef_OFW, eta_exp_OFW, radius,zone_no,trainloader,train_date)"
   ]
  },
  {
   "cell_type": "code",
   "execution_count": 189,
   "id": "d038168c",
   "metadata": {
    "ExecuteTime": {
     "end_time": "2021-08-26T17:10:18.483836Z",
     "start_time": "2021-08-26T17:10:18.481513Z"
    }
   },
   "outputs": [],
   "source": [
    "path_log = f\"/Users/Slaton/Documents/DMFW/BangkokDataAnalysis/gitdecenlearn/Analysis/Ofw/temp-ac-classification/zone{zone_no}/\"\n",
    "if not os.path.exists(path_log):\n",
    "    os.makedirs(path_log)"
   ]
  },
  {
   "cell_type": "code",
   "execution_count": 190,
   "id": "8cf22627",
   "metadata": {
    "ExecuteTime": {
     "end_time": "2021-08-26T17:10:18.990755Z",
     "start_time": "2021-08-26T17:10:18.987951Z"
    }
   },
   "outputs": [],
   "source": [
    "def save_log_csv(log_file, path_to_save,floor_idx):\n",
    "    logs = pd.DataFrame(log_file, columns=[\"Iteration\", \"Loss\", \"Gap\", \"Accuracy\",\"F1\",\"Precision\",\"Recall\"])\n",
    "    pd.DataFrame.to_csv(logs, os.path.join(path_to_save,f'Floor_{floor_idx}_'+\"_\"+\".csv\"))\n",
    "def save_state_dict(model, model_idx, path_to_save,floor_idx):\n",
    "    torch.save(model.state_dict(), os.path.join(path_to_save,f'Floor{floor_idx}_model{model_idx}_statedict.pt'))"
   ]
  },
  {
   "cell_type": "code",
   "execution_count": 191,
   "id": "0f198af7",
   "metadata": {
    "ExecuteTime": {
     "end_time": "2021-08-26T17:10:19.337930Z",
     "start_time": "2021-08-26T17:10:19.331788Z"
    }
   },
   "outputs": [],
   "source": [
    "save_log_csv(obj_val_ofw, path_log, floor)\n",
    "save_state_dict(trainer.model_ofw, zone_no, path_log, floor)"
   ]
  },
  {
   "cell_type": "code",
   "execution_count": 192,
   "id": "221ccd04",
   "metadata": {
    "ExecuteTime": {
     "end_time": "2021-08-26T17:10:19.714108Z",
     "start_time": "2021-08-26T17:10:19.712096Z"
    }
   },
   "outputs": [],
   "source": [
    "def average_loss(array):\n",
    "    nb_iter = len(array)\n",
    "    onlineloss = np.cumsum(array)\n",
    "    arangement = np.arange(1,nb_iter+1)\n",
    "    onlineloss = onlineloss/arangement\n",
    "    return onlineloss"
   ]
  },
  {
   "cell_type": "code",
   "execution_count": 193,
   "id": "12a5be92",
   "metadata": {
    "ExecuteTime": {
     "end_time": "2021-08-26T17:10:20.248286Z",
     "start_time": "2021-08-26T17:10:20.170217Z"
    }
   },
   "outputs": [
    {
     "data": {
      "text/plain": [
       "Text(0, 0.5, 'Accuracy/F1')"
      ]
     },
     "execution_count": 193,
     "metadata": {},
     "output_type": "execute_result"
    },
    {
     "data": {
      "image/png": "[encoded data removed]",
      "text/plain": [
       "<Figure size 720x360 with 1 Axes>"
      ]
     },
     "metadata": {},
     "output_type": "display_data"
    }
   ],
   "source": [
    "plt.figure(figsize=(10,5))\n",
    "#plt.plot(values_dmfw[:,0][:-1],average_loss(values_dmfw[:,3][:-1]), label='Online Accuracy', marker='^', markersize=4,\n",
    "#         markevery=[i for i in range(len(values_dmfw[:,0][1:])) if i%10==0])\n",
    "plt.plot(obj_val_ofw[:,0][:-1],average_loss(obj_val_ofw[:,4][:-1]), label='Online F1-Score', marker='^', markersize=4,\n",
    "         markevery=[i for i in range(len(obj_val_ofw[:,0][1:])) if i%10==0])\n",
    "plt.plot(obj_val_ofw[:,0][:-1],average_loss(obj_val_ofw[:,5][:-1]), label='Online Precision', marker='^', markersize=4,\n",
    "         markevery=[i for i in range(len(obj_val_ofw[:,0][1:])) if i%10==0])\n",
    "plt.plot(obj_val_ofw[:,0][:-1],average_loss(obj_val_ofw[:,6][:-1]), label='Online Recall', marker='^', markersize=4,\n",
    "         markevery=[i for i in range(len(obj_val_ofw[:,0][1:])) if i%10==0])\n",
    "plt.legend(loc='lower right')\n",
    "#plt.yscale(\"log\")\n",
    "plt.xlabel(\"Iterations\",fontsize=15)\n",
    "plt.ylabel(\"Accuracy/F1\",fontsize=15)"
   ]
  },
  {
   "cell_type": "code",
   "execution_count": 194,
   "id": "13158c65",
   "metadata": {
    "ExecuteTime": {
     "end_time": "2021-08-26T17:10:25.146538Z",
     "start_time": "2021-08-26T17:10:24.990537Z"
    }
   },
   "outputs": [
    {
     "data": {
      "text/plain": [
       "Text(0, 0.5, 'Loss')"
      ]
     },
     "execution_count": 194,
     "metadata": {},
     "output_type": "execute_result"
    },
    {
     "data": {
      "image/png": "[encoded data removed]",
      "text/plain": [
       "<Figure size 720x360 with 1 Axes>"
      ]
     },
     "metadata": {},
     "output_type": "display_data"
    }
   ],
   "source": [
    "plt.figure(figsize=(10,5))\n",
    "plt.plot(obj_val_ofw[:,0][:-1],obj_val_ofw[:,1][:-1], label='Step Loss', marker='^', markersize=4,\n",
    "         markevery=[i for i in range(len(obj_val_ofw[:,0][1:])) if i%10==0])\n",
    "plt.plot(obj_val_ofw[:,0][:-1],average_loss(obj_val_ofw[:,1][:-1]), label='Online Loss', marker='^', markersize=4,\n",
    "         markevery=[i for i in range(len(obj_val_ofw[:,0][1:])) if i%10==0])\n",
    "plt.axhline(y=0, color='grey', linestyle='--')\n",
    "plt.legend(loc='upper right')\n",
    "plt.yscale(\"log\")\n",
    "plt.xlabel(\"Iterations\",fontsize=15)\n",
    "plt.ylabel(\"Loss\",fontsize=15)"
   ]
  },
  {
   "cell_type": "code",
   "execution_count": 195,
   "id": "4b0d3551",
   "metadata": {
    "ExecuteTime": {
     "end_time": "2021-08-26T17:10:32.160535Z",
     "start_time": "2021-08-26T17:10:32.155988Z"
    }
   },
   "outputs": [],
   "source": [
    "def ModelPrediction(model_to_test, date ,loader):\n",
    "    correct = 0\n",
    "    total = 0\n",
    "    f1 = 0\n",
    "    true_array = []\n",
    "    pred_array = []\n",
    "    model_to_test.eval()\n",
    "    with torch.no_grad():\n",
    "        for series, label in loader[date]:\n",
    "            outputs = model_to_test(series)\n",
    "            _, predicted = torch.max(outputs,1)\n",
    "            total += label.size(0)\n",
    "            correct += (predicted == label).sum().item()\n",
    "            true_array.append(label.detach().numpy())\n",
    "            pred_array.append(predicted.detach().numpy())\n",
    "        truth_roll = np.hstack(true_array).flatten()\n",
    "        pred_roll = np.hstack(pred_array)\n",
    "        f1 = f1_score(truth_roll, pred_roll, average='weighted')\n",
    "        precision = precision_score(truth_roll, pred_roll, average='weighted')\n",
    "        recall = recall_score(truth_roll, pred_roll, average='weighted')\n",
    "        conf_mat = confusion_matrix(truth_roll, pred_roll)\n",
    "        accuracy = correct/total\n",
    "        #print(classification_report(truth_roll, pred_roll))\n",
    "    return accuracy, f1 , precision, recall, conf_mat, truth_roll, pred_roll\n",
    "def get_real_dataset(dates, model_idx):\n",
    "    real_index = [1,2,4,5]\n",
    "    databydatereal = createDataByDate(resample_data_classes, \"ACPower\", dates)\n",
    "    acpower = []\n",
    "    for date in dates:\n",
    "        trainy = rolling_window(databydatereal[date][f'Floor7Z{real_index[model_idx]}'], seq_len)\n",
    "        #print(trainy.shape)\n",
    "        acpower.append(trainy)\n",
    "    acpower = np.asarray(acpower)\n",
    "    #print(acpower.shape)\n",
    "    shape = acpower.shape\n",
    "    flatten = acpower.reshape(shape[0]*shape[1],seq_len)[::seq_len].flatten()\n",
    "    return flatten[:-6]"
   ]
  },
  {
   "cell_type": "code",
   "execution_count": 196,
   "id": "0a2356be",
   "metadata": {
    "ExecuteTime": {
     "end_time": "2021-08-26T17:10:33.749110Z",
     "start_time": "2021-08-26T17:10:33.542374Z"
    }
   },
   "outputs": [],
   "source": [
    "test_acc = []\n",
    "test_f1 = []\n",
    "test_prec = []\n",
    "test_rec = []\n",
    "prediction = []\n",
    "truth = []\n",
    "model_idx = zone_no\n",
    "real_index_zone = [1,2,4,5]\n",
    "date_to_test = test_date[:50]\n",
    "for i,date in enumerate(date_to_test):\n",
    "    #print(f'-----{test_date[i]}-----')\n",
    "    date_acc, date_f1, date_prec, date_rec, conf_mat, true, pred = ModelPrediction(trainer.model_ofw, test_date[i], testloader[model_idx])\n",
    "    conf_mat = pd.DataFrame(conf_mat)\n",
    "    test_acc.append(date_acc)\n",
    "    test_f1.append(date_f1)\n",
    "    test_prec.append(date_prec)\n",
    "    test_rec.append(date_rec)\n",
    "    #print(len(true))\n",
    "    truth.append(true)\n",
    "    prediction.append(pred)"
   ]
  },
  {
   "cell_type": "code",
   "execution_count": 197,
   "id": "102f53b6",
   "metadata": {
    "ExecuteTime": {
     "end_time": "2021-08-26T17:10:35.518802Z",
     "start_time": "2021-08-26T17:10:34.787741Z"
    }
   },
   "outputs": [],
   "source": [
    "scorepd = pd.DataFrame({\"Test Acc\": test_acc, \n",
    "                        \"Test F1\": test_f1, \n",
    "                        \"Test Precision\":test_prec, \n",
    "                        \"Test Recall\":test_rec})\n",
    "\n",
    "real_val = resample_data[f'Floor7Z{real_index_zone[model_idx]}'].loc[resample_data[f'Floor7Z{real_index_zone[model_idx]}'].apply(lambda x: x.date in date_to_test, axis=1)]\n",
    "resultpd = pd.DataFrame({\"Prediction\": np.asarray(prediction).flatten(),\n",
    "                         \"Truth\": np.asarray(truth).flatten(),\n",
    "                        \"RealValue\":get_real_dataset(date_to_test,model_idx)})\n",
    "\n"
   ]
  },
  {
   "cell_type": "code",
   "execution_count": 198,
   "id": "f62ab382",
   "metadata": {
    "ExecuteTime": {
     "end_time": "2021-08-26T17:10:36.278756Z",
     "start_time": "2021-08-26T17:10:36.260686Z"
    }
   },
   "outputs": [],
   "source": [
    "pd.DataFrame.to_csv(scorepd,path_log+f'/score-zone{real_index_zone[model_idx]}.csv')\n",
    "pd.DataFrame.to_csv(resultpd,path_log+f'/prediction-zone{real_index_zone[model_idx]}.csv')"
   ]
  },
  {
   "cell_type": "code",
   "execution_count": 199,
   "id": "0747de85",
   "metadata": {
    "ExecuteTime": {
     "end_time": "2021-08-26T17:10:36.856075Z",
     "start_time": "2021-08-26T17:10:36.852857Z"
    }
   },
   "outputs": [],
   "source": [
    "pd.DataFrame.to_csv(pd.DataFrame(set_point), path_log+f'/setpointpower.csv')"
   ]
  },
  {
   "cell_type": "code",
   "execution_count": 200,
   "id": "e7ded6d6",
   "metadata": {
    "ExecuteTime": {
     "end_time": "2021-08-26T17:10:38.977866Z",
     "start_time": "2021-08-26T17:10:38.900714Z"
    }
   },
   "outputs": [
    {
     "data": {
      "text/plain": [
       "<matplotlib.legend.Legend at 0x165551d60>"
      ]
     },
     "execution_count": 200,
     "metadata": {},
     "output_type": "execute_result"
    },
    {
     "data": {
      "image/png": "[encoded data removed]",
      "text/plain": [
       "<Figure size 720x360 with 1 Axes>"
      ]
     },
     "metadata": {},
     "output_type": "display_data"
    }
   ],
   "source": [
    "plt.figure(figsize=(10,5))\n",
    "plt.plot(test_prec, label='Precision')\n",
    "plt.plot(test_rec, label='Recall')\n",
    "plt.plot(test_f1, label='F1-Score')\n",
    "plt.legend()"
   ]
  },
  {
   "cell_type": "code",
   "execution_count": null,
   "id": "85dd8944",
   "metadata": {},
   "outputs": [],
   "source": []
  }
 ],
 "metadata": {
  "kernelspec": {
   "display_name": "Python 3 (ipykernel)",
   "language": "python",
   "name": "python3"
  },
  "language_info": {
   "codemirror_mode": {
    "name": "ipython",
    "version": 3
   },
   "file_extension": ".py",
   "mimetype": "text/x-python",
   "name": "python",
   "nbconvert_exporter": "python",
   "pygments_lexer": "ipython3",
   "version": "3.8.10"
  },
  "toc": {
   "base_numbering": 1,
   "nav_menu": {},
   "number_sections": true,
   "sideBar": true,
   "skip_h1_title": false,
   "title_cell": "Table of Contents",
   "title_sidebar": "Contents",
   "toc_cell": false,
   "toc_position": {},
   "toc_section_display": true,
   "toc_window_display": false
  }
 },
 "nbformat": 4,
 "nbformat_minor": 5
}
