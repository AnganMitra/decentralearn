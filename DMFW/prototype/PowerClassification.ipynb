{
 "cells": [
  {
   "cell_type": "code",
   "execution_count": 403,
   "id": "6dcc893d",
   "metadata": {
    "ExecuteTime": {
     "end_time": "2021-08-24T14:54:38.310274Z",
     "start_time": "2021-08-24T14:54:38.302966Z"
    }
   },
   "outputs": [],
   "source": [
    "import pandas as pd\n",
    "import numpy as np\n",
    "import dill\n",
    "import torch.nn as nn\n",
    "import torch\n",
    "import seaborn as sns; sns.set()\n",
    "import matplotlib.pyplot as plt\n",
    "import os\n",
    "import random\n",
    "import copy\n",
    "from imblearn.over_sampling import SMOTE, ADASYN\n",
    "from sklearn.metrics import confusion_matrix\n",
    "from collections import defaultdict, Counter\n",
    "from torch.utils.data import TensorDataset, DataLoader\n",
    "from torch.optim.optimizer import required\n",
    "from torchinfo import summary\n",
    "from sklearn.preprocessing import MinMaxScaler, StandardScaler\n",
    "from statsmodels.graphics.tsaplots import plot_acf\n",
    "from sklearn.utils import class_weight\n",
    "sns.set_theme(style=\"whitegrid\")"
   ]
  },
  {
   "cell_type": "code",
   "execution_count": 404,
   "id": "3bddb1bd",
   "metadata": {
    "ExecuteTime": {
     "end_time": "2021-08-24T14:54:38.712167Z",
     "start_time": "2021-08-24T14:54:38.709835Z"
    }
   },
   "outputs": [],
   "source": [
    "bkdatafolder = \"/Users/Slaton/Documents/DMFW/BangkokDataAnalysis/gitdecenlearn/BKDataCleaned/\""
   ]
  },
  {
   "cell_type": "code",
   "execution_count": 430,
   "id": "cdeabcc0",
   "metadata": {
    "ExecuteTime": {
     "end_time": "2021-08-24T15:08:24.584819Z",
     "start_time": "2021-08-24T15:08:24.574769Z"
    },
    "code_folding": [
     71
    ]
   },
   "outputs": [],
   "source": [
    "def createDictFloor(floor_idx,path):\n",
    "    floorname = f'Floor{floor_idx}'\n",
    "    fulldata = os.listdir(path)\n",
    "    getdict = {}\n",
    "    floors = [floor for floor in fulldata if floorname in floor]\n",
    "    for name in floors:\n",
    "        floor_zone = name.split(\".\")[0]\n",
    "        getdict[floor_zone] = pd.read_csv(path+name, index_col=0, parse_dates=[\"Date\"])\n",
    "        getdict[floor_zone] = getdict[floor_zone].sort_index()\n",
    "    return getdict\n",
    "\n",
    "def Missing_values(data):\n",
    "    total = data.isnull().sum().sort_values(ascending=False)\n",
    "    percent = (data.isnull().sum()/data.isnull().count()).sort_values(ascending=False)\n",
    "    missing_data = pd.concat([total,percent], axis=1, keys=['Total', 'Pourcentage'])\n",
    "    print (missing_data[(percent>0)],'\\n' )\n",
    "\n",
    "def seed_everything(seed=0):\n",
    "    random.seed(seed)\n",
    "    os.environ['PYTHONHASHSEED'] = str(seed)\n",
    "    np.random.seed(seed)\n",
    "    torch.manual_seed(seed)\n",
    "    torch.cuda.manual_seed(seed)\n",
    "    torch.backends.cudnn.deterministic = True\n",
    "    \n",
    "def createDTFeat(date1, date2, datadict, featureX, featureY, resample_method_X=\"mean\", resample_method_Y = \"sum\" ,scale=True):\n",
    "    resample_move = {}\n",
    "    index_nan = {}\n",
    "    index_small = {}\n",
    "    floors = list(datadict.keys())\n",
    "    dates = []\n",
    "    scalers = {}\n",
    "    for floorname in datadict.keys():\n",
    "        dataX = datadict[floorname][date1:date2][featureX].copy()\n",
    "        dataY = datadict[floorname][date1:date2][featureY].copy()\n",
    "        \n",
    "        if resample_method_X == \"sum\":\n",
    "            dataX = dataX.resample(\"5T\").sum()\n",
    "            \n",
    "        elif resample_method_X == \"mean\":\n",
    "            dataX = dataX.resample(\"5T\").mean().bfill()\n",
    "        else:\n",
    "            pass\n",
    "        \n",
    "        if resample_method_Y ==\"sum\":\n",
    "            dataY = dataY.resample(\"5T\").sum()\n",
    "        elif resample_method_Y == \"mean\":\n",
    "            dataY = dataY.resample(\"5T\").mean().bfill()\n",
    "        else:\n",
    "            pass\n",
    "        \n",
    "        resample_move[floorname] = pd.concat([dataX, dataY],axis=1)\n",
    "        resample_move[floorname][\"date\"] = resample_move[floorname].index.date\n",
    "        resample_move[floorname][\"date\"] = resample_move[floorname][\"date\"].apply(lambda x: x.strftime(\"%Y-%m-%d\"))\n",
    "    for date in resample_move[floors[0]][\"date\"]:\n",
    "        dates.append(str(date))\n",
    "    dates = sorted(set(dates))\n",
    "            \n",
    "    return resample_move, dates\n",
    "            \n",
    "        #mysample[data] = resample_move[data].copy()\n",
    "           \n",
    "def data_scaling(datadict, feature):\n",
    "    scalers = {}\n",
    "    scaled_data_dict = datadict.copy()\n",
    "    for floorname in datadict.keys():\n",
    "        cols = datadict[floorname][feature].columns\n",
    "        idx = datadict[floorname][feature].index\n",
    "        scaler = MinMaxScaler(feature_range=(0,1))\n",
    "        scaler.fit(datadict[floorname][feature])\n",
    "        scaled_data_dict[floorname][feature] = pd.DataFrame(scaler.transform(\n",
    "                                                datadict[floorname][feature]),columns=cols,index=idx)\n",
    "        scalers[data] = scaler\n",
    "\n",
    "    return scaled_data_dict\n",
    "\n",
    "def getInfoTimeShape(datadict):\n",
    "    for floor in datadict.keys():\n",
    "        data = datadict[floor]\n",
    "        print(\"Floor : {} , shape :{} , TimeMin {} , TimeMax {}\".format(floor,data.shape, data.index.min(), data.index.max()))\n",
    "        Missing_values(data)\n",
    "        \n",
    "def cleanNan(data,idx_nan):\n",
    "    index=[]\n",
    "    for k,v in idx_nan.items():\n",
    "        for ele in v:\n",
    "            index.append(ele)\n",
    "    mynan = set(index)\n",
    "    newdata = data.copy()\n",
    "    remain_date = []\n",
    "    for floor in idx_nan.keys():\n",
    "        datafloor = data[floor]\n",
    "        todropnan = datafloor[datafloor[\"date\"].isin(list(mynan))].index\n",
    "        datafloor = datafloor.drop(todropnan)\n",
    "        newdata[floor] = datafloor\n",
    "        for date in datafloor[\"date\"]:\n",
    "            remain_date.append(str(date))\n",
    "    remain_date = sorted(set(remain_date))\n",
    "    return data, remain_date"
   ]
  },
  {
   "cell_type": "code",
   "execution_count": 431,
   "id": "a2b159b6",
   "metadata": {
    "ExecuteTime": {
     "end_time": "2021-08-24T15:08:25.398802Z",
     "start_time": "2021-08-24T15:08:25.396040Z"
    }
   },
   "outputs": [],
   "source": [
    "def create_power_class(data_dict, conditions, feature):\n",
    "    keys = sorted(list(data_dict.keys()))\n",
    "    classes = list(conditions[keys[0]].keys())\n",
    "    new_datadict = data_dict.copy()\n",
    "    for floor_name in keys:\n",
    "        data_dict[floor_name][\"ACPowerClass\"] = pd.Series(dtype='object')\n",
    "        for p_class in classes:\n",
    "            idx_classes = data_dict[floor_name].loc[(data_dict[floor_name][feature] >= conditions[floor_name][p_class][0]) &\n",
    "                                         (data_dict[floor_name][feature] <= conditions[floor_name][p_class][1])]\n",
    "            new_datadict[floor_name][\"ACPowerClass\"].loc[idx_classes.index] = new_datadict[floor_name][\"ACPowerClass\"].loc[idx_classes.index].apply(lambda x: p_class)\n",
    "    return new_datadict"
   ]
  },
  {
   "cell_type": "code",
   "execution_count": 432,
   "id": "b3adaad2",
   "metadata": {
    "ExecuteTime": {
     "end_time": "2021-08-24T15:08:26.736265Z",
     "start_time": "2021-08-24T15:08:25.710514Z"
    }
   },
   "outputs": [
    {
     "name": "stdout",
     "output_type": "stream",
     "text": [
      "Floor7Z4 Start: 2019-03-06 14:46:00 End: 2019-12-31 23:59:00 Count:416243\n",
      "\n",
      "Floor7Z5 Start: 2019-03-06 14:55:00 End: 2019-12-31 23:59:00 Count:407698\n",
      "\n",
      "Floor7Z2 Start: 2019-03-06 14:48:00 End: 2019-12-31 23:59:00 Count:424701\n",
      "\n",
      "Floor7Z1 Start: 2019-03-06 14:50:00 End: 2019-12-31 23:59:00 Count:424099\n",
      "\n"
     ]
    }
   ],
   "source": [
    "date1 = \"2019-03-07\"\n",
    "date2 = \"2019-12-31\"\n",
    "floor = 7\n",
    "floor_dict = createDictFloor(floor, bkdatafolder)\n",
    "for data in floor_dict.keys():\n",
    "    zone = floor_dict[data]\n",
    "    print(\"{} Start: {} End: {} Count:{}\".format(data,zone.index.min(),zone.index.max(), zone.shape[0]))\n",
    "    print(\"\")"
   ]
  },
  {
   "cell_type": "code",
   "execution_count": 424,
   "id": "a78af393",
   "metadata": {
    "ExecuteTime": {
     "end_time": "2021-08-24T15:07:10.781153Z",
     "start_time": "2021-08-24T15:07:10.502747Z"
    },
    "scrolled": true
   },
   "outputs": [
    {
     "name": "stdout",
     "output_type": "stream",
     "text": [
      "Floor7Z1\n",
      "Floor7Z2\n",
      "Floor7Z4\n",
      "Floor7Z5\n"
     ]
    },
    {
     "data": {
      "image/png": "[encoded data removed]",
      "text/plain": [
       "<Figure size 432x288 with 1 Axes>"
      ]
     },
     "metadata": {},
     "output_type": "display_data"
    },
    {
     "data": {
      "image/png": "[encoded data removed]",
      "text/plain": [
       "<Figure size 432x288 with 1 Axes>"
      ]
     },
     "metadata": {},
     "output_type": "display_data"
    },
    {
     "data": {
      "image/png": "[encoded data removed]",
      "text/plain": [
       "<Figure size 432x288 with 1 Axes>"
      ]
     },
     "metadata": {},
     "output_type": "display_data"
    },
    {
     "data": {
      "image/png": "[encoded data removed]",
      "text/plain": [
       "<Figure size 432x288 with 1 Axes>"
      ]
     },
     "metadata": {},
     "output_type": "display_data"
    }
   ],
   "source": [
    "for floor in sorted(resample_data.keys()):\n",
    "    plt.figure()\n",
    "    print(floor)\n",
    "    plt.hist(resample_data[floor][\"ACPower\"])"
   ]
  },
  {
   "cell_type": "code",
   "execution_count": 425,
   "id": "028154d2",
   "metadata": {
    "ExecuteTime": {
     "end_time": "2021-08-24T15:07:40.792033Z",
     "start_time": "2021-08-24T15:07:40.789906Z"
    }
   },
   "outputs": [],
   "source": [
    "set_point = {\"Floor7Z1\":{\"Low Power\":[0,30],\n",
    "                        \"High Power\":[30,100]},\n",
    "            \"Floor7Z2\":{\"Low Power\":[0,25],\n",
    "                       \"High Power\":[25,100]},\n",
    "            \"Floor7Z4\":{\"Low Power\":[0,25],\n",
    "                       \"High Power\":[25,100]},\n",
    "            \"Floor7Z5\":{\"Low Power\":[0,15],\n",
    "                       \"High Power\":[15,100]}}"
   ]
  },
  {
   "cell_type": "code",
   "execution_count": 426,
   "id": "e97200c1",
   "metadata": {
    "ExecuteTime": {
     "end_time": "2021-08-24T15:07:41.337127Z",
     "start_time": "2021-08-24T15:07:41.329778Z"
    },
    "code_folding": []
   },
   "outputs": [],
   "source": [
    "def rolling_window(series, window_size, stride=1):\n",
    "    return np.array([series[i : (i + window_size)] for i in range(0, series.shape[0] - window_size + 1, stride)])\n",
    "\n",
    "def to_timeseries_input(series, lookback, predictions):\n",
    "    inputs = rolling_window(series[:-predictions], lookback)\n",
    "    outputs = rolling_window(series[lookback:], predictions)\n",
    "    return inputs, outputs\n",
    "\n",
    "def createDataByDate(datadict, features, dates):\n",
    "    databyDate = defaultdict(lambda : defaultdict(dict))\n",
    "    for date in dates:\n",
    "        for floor in datadict.keys():\n",
    "            databyDate[date][floor] = np.asarray(datadict[floor][date][features])\n",
    "    return databyDate\n",
    "\n",
    "def splitDate(dates,cutoff):\n",
    "    train_date = [x for x in dates if x <= cutoff]\n",
    "    test_date = sorted(list(set(dates) - set(train_date)))\n",
    "    return train_date, test_date\n",
    "\n",
    "def LoaderByZoneXY(dataX, dataY, zone_name,dates, seq_len, batch_size, shuffle=False):\n",
    "    loaderZ = {}\n",
    "    encode = {\"Low Power\": 0, \"High Power\": 1}\n",
    "    #mid, high, low = 0., 0., 0.\n",
    "    for i,date in enumerate(dates):\n",
    "        trainx = rolling_window(dataX[date][zone_name], seq_len)\n",
    "        trainy = rolling_window(dataY[date][zone_name], seq_len)\n",
    "        to_class_y = torch.zeros((trainy.shape[0])) #[0.]*trainy.shape[0]\n",
    "        mid, high, low = 0., 0., 0.\n",
    "        for idx_y in range(trainy.shape[0]):\n",
    "            selected = select_impact_powerclass(trainy[idx_y])\n",
    "            if selected == \"High Power\":\n",
    "                high += 1\n",
    "            #elif selected == \"Mid Power\":\n",
    "            #    mid += 1\n",
    "            elif selected == \"Low Power\":\n",
    "                low += 1\n",
    "            to_class_y[idx_y] = encode[selected]\n",
    "            #print(f'Chosen class {selected} Encode {to_class_y[idx_y]}')\n",
    "        print(f'Low count {low} High count {high}')\n",
    "        xshape = torch.tensor(trainx, dtype=torch.float)\n",
    "        yshape = torch.tensor(to_class_y, dtype=torch.long)\n",
    "        #print(xshape.shape, yshape.shape)\n",
    "        tensorwrap = TensorDataset(xshape,yshape)\n",
    "        loaderxy = DataLoader(tensorwrap,batch_size = batch_size, shuffle=shuffle, drop_last=True)\n",
    "        loaderZ[date] = loaderxy\n",
    "    return loaderZ\n",
    "\n",
    "def select_impact_powerclass(y):\n",
    "    rev_dict = defaultdict(list)\n",
    "    ct = Counter(y)\n",
    "    for k,v in ct.items():\n",
    "        rev_dict[v].append(k)\n",
    "    list_class = list(rev_dict.keys())\n",
    "    if len(list_class) == 1:\n",
    "        key = list_class[0]\n",
    "        return rev_dict[key][0] \n",
    "    else:\n",
    "        key = max(list_class)\n",
    "        if len(rev_dict[key]) == 1:\n",
    "            return rev_dict[key][0]\n",
    "        elif len(rev_dict[key]) > 1:\n",
    "            #if \"Mid Power\" in rev_dict[key]:\n",
    "            #    return \"Mid Power\"\n",
    "            if \"High Power\" in rev_dict[key]:\n",
    "                return \"High Power\"\n",
    "            else:\n",
    "                return \"Low Power\""
   ]
  },
  {
   "cell_type": "code",
   "execution_count": 435,
   "id": "37f27051",
   "metadata": {
    "ExecuteTime": {
     "end_time": "2021-08-24T15:26:03.254427Z",
     "start_time": "2021-08-24T15:26:01.787237Z"
    }
   },
   "outputs": [
    {
     "name": "stderr",
     "output_type": "stream",
     "text": [
      "/Users/Slaton/miniforge3/envs/tf_macos/lib/python3.8/site-packages/pandas/core/indexing.py:1732: SettingWithCopyWarning: \n",
      "A value is trying to be set on a copy of a slice from a DataFrame\n",
      "\n",
      "See the caveats in the documentation: https://pandas.pydata.org/pandas-docs/stable/user_guide/indexing.html#returning-a-view-versus-a-copy\n",
      "  self._setitem_single_block(indexer, value, name)\n"
     ]
    }
   ],
   "source": [
    "featureX = [\"temperature\"]\n",
    "featureY = \"ACPower\"\n",
    "resample_methodX = \"mean\"\n",
    "resample_methodY = \"mean\"\n",
    "resample_data, remain_date = createDTFeat(date1, date2, floor_dict, featureX, featureY,resample_method_X=resample_methodX, resample_method_Y=resample_methodY)\n",
    "resample_data_classes = create_power_class(resample_data, set_point, \"ACPower\")\n",
    "scaled_data = data_scaling(resample_data_classes, featureX)"
   ]
  },
  {
   "cell_type": "code",
   "execution_count": 436,
   "id": "6d6051e6",
   "metadata": {
    "ExecuteTime": {
     "end_time": "2021-08-24T15:26:04.423259Z",
     "start_time": "2021-08-24T15:26:04.418041Z"
    }
   },
   "outputs": [
    {
     "data": {
      "text/html": [
       "<div>\n",
       "<style scoped>\n",
       "    .dataframe tbody tr th:only-of-type {\n",
       "        vertical-align: middle;\n",
       "    }\n",
       "\n",
       "    .dataframe tbody tr th {\n",
       "        vertical-align: top;\n",
       "    }\n",
       "\n",
       "    .dataframe thead th {\n",
       "        text-align: right;\n",
       "    }\n",
       "</style>\n",
       "<table border=\"1\" class=\"dataframe\">\n",
       "  <thead>\n",
       "    <tr style=\"text-align: right;\">\n",
       "      <th></th>\n",
       "      <th>temperature</th>\n",
       "      <th>ACPower</th>\n",
       "      <th>date</th>\n",
       "      <th>ACPowerClass</th>\n",
       "    </tr>\n",
       "    <tr>\n",
       "      <th>Date</th>\n",
       "      <th></th>\n",
       "      <th></th>\n",
       "      <th></th>\n",
       "      <th></th>\n",
       "    </tr>\n",
       "  </thead>\n",
       "  <tbody>\n",
       "    <tr>\n",
       "      <th>2019-03-07 00:00:00</th>\n",
       "      <td>0.549332</td>\n",
       "      <td>0.02</td>\n",
       "      <td>2019-03-07</td>\n",
       "      <td>Low Power</td>\n",
       "    </tr>\n",
       "    <tr>\n",
       "      <th>2019-03-07 00:05:00</th>\n",
       "      <td>0.549220</td>\n",
       "      <td>0.02</td>\n",
       "      <td>2019-03-07</td>\n",
       "      <td>Low Power</td>\n",
       "    </tr>\n",
       "    <tr>\n",
       "      <th>2019-03-07 00:10:00</th>\n",
       "      <td>0.548886</td>\n",
       "      <td>0.02</td>\n",
       "      <td>2019-03-07</td>\n",
       "      <td>Low Power</td>\n",
       "    </tr>\n",
       "    <tr>\n",
       "      <th>2019-03-07 00:15:00</th>\n",
       "      <td>0.549777</td>\n",
       "      <td>0.02</td>\n",
       "      <td>2019-03-07</td>\n",
       "      <td>Low Power</td>\n",
       "    </tr>\n",
       "    <tr>\n",
       "      <th>2019-03-07 00:20:00</th>\n",
       "      <td>0.550557</td>\n",
       "      <td>0.02</td>\n",
       "      <td>2019-03-07</td>\n",
       "      <td>Low Power</td>\n",
       "    </tr>\n",
       "    <tr>\n",
       "      <th>...</th>\n",
       "      <td>...</td>\n",
       "      <td>...</td>\n",
       "      <td>...</td>\n",
       "      <td>...</td>\n",
       "    </tr>\n",
       "    <tr>\n",
       "      <th>2019-12-31 23:35:00</th>\n",
       "      <td>0.682071</td>\n",
       "      <td>0.01</td>\n",
       "      <td>2019-12-31</td>\n",
       "      <td>Low Power</td>\n",
       "    </tr>\n",
       "    <tr>\n",
       "      <th>2019-12-31 23:40:00</th>\n",
       "      <td>0.682071</td>\n",
       "      <td>0.01</td>\n",
       "      <td>2019-12-31</td>\n",
       "      <td>Low Power</td>\n",
       "    </tr>\n",
       "    <tr>\n",
       "      <th>2019-12-31 23:45:00</th>\n",
       "      <td>0.681960</td>\n",
       "      <td>0.01</td>\n",
       "      <td>2019-12-31</td>\n",
       "      <td>Low Power</td>\n",
       "    </tr>\n",
       "    <tr>\n",
       "      <th>2019-12-31 23:50:00</th>\n",
       "      <td>0.680735</td>\n",
       "      <td>0.01</td>\n",
       "      <td>2019-12-31</td>\n",
       "      <td>Low Power</td>\n",
       "    </tr>\n",
       "    <tr>\n",
       "      <th>2019-12-31 23:55:00</th>\n",
       "      <td>0.680624</td>\n",
       "      <td>0.01</td>\n",
       "      <td>2019-12-31</td>\n",
       "      <td>Low Power</td>\n",
       "    </tr>\n",
       "  </tbody>\n",
       "</table>\n",
       "<p>86400 rows × 4 columns</p>\n",
       "</div>"
      ],
      "text/plain": [
       "                     temperature  ACPower        date ACPowerClass\n",
       "Date                                                              \n",
       "2019-03-07 00:00:00     0.549332     0.02  2019-03-07    Low Power\n",
       "2019-03-07 00:05:00     0.549220     0.02  2019-03-07    Low Power\n",
       "2019-03-07 00:10:00     0.548886     0.02  2019-03-07    Low Power\n",
       "2019-03-07 00:15:00     0.549777     0.02  2019-03-07    Low Power\n",
       "2019-03-07 00:20:00     0.550557     0.02  2019-03-07    Low Power\n",
       "...                          ...      ...         ...          ...\n",
       "2019-12-31 23:35:00     0.682071     0.01  2019-12-31    Low Power\n",
       "2019-12-31 23:40:00     0.682071     0.01  2019-12-31    Low Power\n",
       "2019-12-31 23:45:00     0.681960     0.01  2019-12-31    Low Power\n",
       "2019-12-31 23:50:00     0.680735     0.01  2019-12-31    Low Power\n",
       "2019-12-31 23:55:00     0.680624     0.01  2019-12-31    Low Power\n",
       "\n",
       "[86400 rows x 4 columns]"
      ]
     },
     "execution_count": 436,
     "metadata": {},
     "output_type": "execute_result"
    }
   ],
   "source": [
    "resample_data[\"Floor7Z1\"]"
   ]
  },
  {
   "cell_type": "code",
   "execution_count": 437,
   "id": "ea8c3e9d",
   "metadata": {
    "ExecuteTime": {
     "end_time": "2021-08-24T15:26:12.823633Z",
     "start_time": "2021-08-24T15:26:12.815513Z"
    }
   },
   "outputs": [
    {
     "data": {
      "text/plain": [
       "Counter({'Low Power': 68334, 'High Power': 18066})"
      ]
     },
     "execution_count": 437,
     "metadata": {},
     "output_type": "execute_result"
    }
   ],
   "source": [
    "Counter(resample_data_classes['Floor7Z2'][\"ACPowerClass\"])"
   ]
  },
  {
   "cell_type": "code",
   "execution_count": 438,
   "id": "2b974fdd",
   "metadata": {
    "ExecuteTime": {
     "end_time": "2021-08-24T15:26:27.440635Z",
     "start_time": "2021-08-24T15:26:26.731890Z"
    }
   },
   "outputs": [
    {
     "name": "stderr",
     "output_type": "stream",
     "text": [
      "/var/folders/wm/ymsmhgr90dd6gyprvtgvcr080000gn/T/ipykernel_3088/903661539.py:13: FutureWarning: Indexing a DataFrame with a datetimelike index using a single string to slice the rows, like `frame[string]`, is deprecated and will be removed in a future version. Use `frame.loc[string]` instead.\n",
      "  databyDate[date][floor] = np.asarray(datadict[floor][date][features])\n"
     ]
    }
   ],
   "source": [
    "cutting_date = \"2019-05-08\"\n",
    "train_date, test_date = splitDate(remain_date, cutting_date)\n",
    "databyDateX = createDataByDate(scaled_data, featureX, remain_date)\n",
    "databyDateY = createDataByDate(scaled_data, \"ACPowerClass\", remain_date)"
   ]
  },
  {
   "cell_type": "code",
   "execution_count": 445,
   "id": "9ed3031e",
   "metadata": {
    "ExecuteTime": {
     "end_time": "2021-08-24T15:31:29.659733Z",
     "start_time": "2021-08-24T15:31:29.656907Z"
    }
   },
   "outputs": [],
   "source": [
    "def smote_by_floor(datadict, dates,smote=True):\n",
    "    floors = list(datadict.keys())\n",
    "    datasynth = {}\n",
    "    smotedata = {}\n",
    "    for floor in floors:\n",
    "        select_date = datadict[floor].loc[datadict[floor].apply(lambda x: x.date in dates, axis=1)]\n",
    "        #print(f\"-----{floor}-----\")\n",
    "        #print(f'Original Data {Counter(select_date[\"ACPowerClass\"])}')\n",
    "        ada = ADASYN(sampling_strategy='not majority', n_neighbors=7)\n",
    "        datax = select_date[[\"temperature\", \"ACPower\"]]\n",
    "        datay = select_date[\"ACPowerClass\"]\n",
    "        if smote:\n",
    "            ada = ADASYN(sampling_strategy='not majority', n_neighbors=7)\n",
    "            resample = ada.fit_resample(datax, datay)\n",
    "            smotedata[floor] = pd.concat(resample, axis=1)\n",
    "            #print(f'Smote Data {Counter(smotedata[floor][\"ACPowerClass\"])}')\n",
    "        smotedata[floor] = class_weight.compute_class_weight('balanced', [\"Low Power\",\"High Power\"], np.array(datay))\n",
    "    return smotedata"
   ]
  },
  {
   "cell_type": "code",
   "execution_count": 178,
   "id": "e1d50c67",
   "metadata": {
    "ExecuteTime": {
     "end_time": "2021-08-24T07:23:14.217582Z",
     "start_time": "2021-08-24T07:23:11.839559Z"
    },
    "scrolled": true
   },
   "outputs": [
    {
     "name": "stderr",
     "output_type": "stream",
     "text": [
      "/Users/Slaton/miniforge3/envs/tf_macos/lib/python3.8/site-packages/sklearn/utils/validation.py:70: FutureWarning: Pass classes=['Low Power', 'Mid Power', 'High Power'], y=['Low Power' 'Low Power' 'Low Power' ... 'Low Power' 'Low Power'\n",
      " 'Low Power'] as keyword args. From version 1.0 (renaming of 0.25) passing these as positional arguments will result in an error\n",
      "  warnings.warn(f\"Pass {args_msg} as keyword args. From version \"\n",
      "/Users/Slaton/miniforge3/envs/tf_macos/lib/python3.8/site-packages/sklearn/utils/validation.py:70: FutureWarning: Pass classes=['Low Power', 'Mid Power', 'High Power'], y=['Low Power' 'Low Power' 'Low Power' ... 'Low Power' 'Low Power'\n",
      " 'Low Power'] as keyword args. From version 1.0 (renaming of 0.25) passing these as positional arguments will result in an error\n",
      "  warnings.warn(f\"Pass {args_msg} as keyword args. From version \"\n",
      "/Users/Slaton/miniforge3/envs/tf_macos/lib/python3.8/site-packages/sklearn/utils/validation.py:70: FutureWarning: Pass classes=['Low Power', 'Mid Power', 'High Power'], y=['Low Power' 'Low Power' 'Low Power' ... 'Low Power' 'Low Power'\n",
      " 'Low Power'] as keyword args. From version 1.0 (renaming of 0.25) passing these as positional arguments will result in an error\n",
      "  warnings.warn(f\"Pass {args_msg} as keyword args. From version \"\n",
      "/Users/Slaton/miniforge3/envs/tf_macos/lib/python3.8/site-packages/sklearn/utils/validation.py:70: FutureWarning: Pass classes=['Low Power', 'Mid Power', 'High Power'], y=['Low Power' 'Low Power' 'Low Power' ... 'Low Power' 'Low Power'\n",
      " 'Low Power'] as keyword args. From version 1.0 (renaming of 0.25) passing these as positional arguments will result in an error\n",
      "  warnings.warn(f\"Pass {args_msg} as keyword args. From version \"\n"
     ]
    }
   ],
   "source": [
    "weights = smote_by_floor(scaled_data, train_date, smote=False)"
   ]
  },
  {
   "cell_type": "code",
   "execution_count": 182,
   "id": "a6fc9fef",
   "metadata": {
    "ExecuteTime": {
     "end_time": "2021-08-24T07:40:36.669444Z",
     "start_time": "2021-08-24T07:40:36.664035Z"
    }
   },
   "outputs": [
    {
     "data": {
      "text/plain": [
       "tensor([ 0.4558, 28.3944,  1.2976], dtype=torch.float64)"
      ]
     },
     "execution_count": 182,
     "metadata": {},
     "output_type": "execute_result"
    }
   ],
   "source": [
    "torch.tensor(weights['Floor7Z1'])"
   ]
  },
  {
   "cell_type": "code",
   "execution_count": 440,
   "id": "caf8ab27",
   "metadata": {
    "ExecuteTime": {
     "end_time": "2021-08-24T15:26:33.733994Z",
     "start_time": "2021-08-24T15:26:32.008840Z"
    },
    "scrolled": true
   },
   "outputs": [
    {
     "name": "stdout",
     "output_type": "stream",
     "text": [
      "-----Floor7Z1-----\n",
      " Mid count 0.0 Low count 186.0 High count 90.0\n",
      " Mid count 0.0 Low count 188.0 High count 88.0\n",
      " Mid count 0.0 Low count 276.0 High count 0.0\n",
      " Mid count 0.0 Low count 276.0 High count 0.0\n",
      " Mid count 0.0 Low count 184.0 High count 92.0\n",
      " Mid count 0.0 Low count 184.0 High count 92.0\n",
      " Mid count 0.0 Low count 184.0 High count 92.0\n",
      " Mid count 0.0 Low count 184.0 High count 92.0\n",
      " Mid count 0.0 Low count 184.0 High count 92.0\n",
      " Mid count 0.0 Low count 276.0 High count 0.0\n",
      " Mid count 0.0 Low count 276.0 High count 0.0\n",
      " Mid count 0.0 Low count 184.0 High count 92.0\n",
      " Mid count 0.0 Low count 184.0 High count 92.0\n",
      " Mid count 0.0 Low count 184.0 High count 92.0\n",
      " Mid count 0.0 Low count 184.0 High count 92.0\n",
      " Mid count 0.0 Low count 184.0 High count 92.0\n",
      " Mid count 0.0 Low count 276.0 High count 0.0\n",
      " Mid count 0.0 Low count 276.0 High count 0.0\n",
      " Mid count 0.0 Low count 184.0 High count 92.0\n",
      " Mid count 0.0 Low count 184.0 High count 92.0\n",
      " Mid count 0.0 Low count 185.0 High count 91.0\n",
      " Mid count 0.0 Low count 184.0 High count 92.0\n",
      " Mid count 0.0 Low count 158.0 High count 118.0\n",
      " Mid count 0.0 Low count 276.0 High count 0.0\n",
      " Mid count 0.0 Low count 276.0 High count 0.0\n",
      " Mid count 0.0 Low count 149.0 High count 127.0\n",
      " Mid count 0.0 Low count 185.0 High count 91.0\n",
      " Mid count 0.0 Low count 147.0 High count 129.0\n",
      " Mid count 0.0 Low count 154.0 High count 122.0\n",
      " Mid count 0.0 Low count 141.0 High count 135.0\n",
      " Mid count 0.0 Low count 276.0 High count 0.0\n",
      " Mid count 0.0 Low count 276.0 High count 0.0\n",
      " Mid count 0.0 Low count 276.0 High count 0.0\n",
      " Mid count 0.0 Low count 149.0 High count 127.0\n",
      " Mid count 0.0 Low count 144.0 High count 132.0\n",
      " Mid count 0.0 Low count 146.0 High count 130.0\n",
      " Mid count 0.0 Low count 276.0 High count 0.0\n",
      " Mid count 0.0 Low count 276.0 High count 0.0\n",
      " Mid count 0.0 Low count 276.0 High count 0.0\n",
      " Mid count 0.0 Low count 276.0 High count 0.0\n",
      " Mid count 0.0 Low count 276.0 High count 0.0\n",
      " Mid count 0.0 Low count 147.0 High count 129.0\n",
      " Mid count 0.0 Low count 147.0 High count 129.0\n",
      " Mid count 0.0 Low count 140.0 High count 136.0\n",
      " Mid count 0.0 Low count 208.0 High count 68.0\n",
      " Mid count 0.0 Low count 276.0 High count 0.0\n",
      " Mid count 0.0 Low count 133.0 High count 143.0\n",
      " Mid count 0.0 Low count 145.0 High count 131.0\n",
      " Mid count 0.0 Low count 151.0 High count 125.0\n",
      " Mid count 0.0 Low count 134.0 High count 142.0\n",
      " Mid count 0.0 Low count 149.0 High count 127.0\n",
      " Mid count 0.0 Low count 276.0 High count 0.0\n",
      " Mid count 0.0 Low count 276.0 High count 0.0\n",
      " Mid count 0.0 Low count 150.0 High count 126.0\n",
      " Mid count 0.0 Low count 152.0 High count 124.0\n",
      " Mid count 0.0 Low count 152.0 High count 124.0\n",
      " Mid count 0.0 Low count 136.0 High count 140.0\n",
      " Mid count 0.0 Low count 147.0 High count 129.0\n",
      " Mid count 0.0 Low count 159.0 High count 117.0\n",
      " Mid count 0.0 Low count 204.0 High count 72.0\n",
      " Mid count 0.0 Low count 276.0 High count 0.0\n",
      " Mid count 0.0 Low count 151.0 High count 125.0\n",
      " Mid count 0.0 Low count 164.0 High count 112.0\n",
      " Mid count 0.0 Low count 251.0 High count 25.0\n",
      " Mid count 0.0 Low count 144.0 High count 132.0\n",
      " Mid count 0.0 Low count 276.0 High count 0.0\n",
      " Mid count 0.0 Low count 276.0 High count 0.0\n",
      " Mid count 0.0 Low count 147.0 High count 129.0\n",
      " Mid count 0.0 Low count 136.0 High count 140.0\n",
      " Mid count 0.0 Low count 124.0 High count 152.0\n",
      " Mid count 0.0 Low count 145.0 High count 131.0\n",
      " Mid count 0.0 Low count 142.0 High count 134.0\n",
      " Mid count 0.0 Low count 201.0 High count 75.0\n",
      " Mid count 0.0 Low count 276.0 High count 0.0\n",
      " Mid count 0.0 Low count 276.0 High count 0.0\n",
      " Mid count 0.0 Low count 105.0 High count 171.0\n",
      " Mid count 0.0 Low count 86.0 High count 190.0\n",
      " Mid count 0.0 Low count 153.0 High count 123.0\n",
      " Mid count 0.0 Low count 149.0 High count 127.0\n",
      " Mid count 0.0 Low count 276.0 High count 0.0\n",
      " Mid count 0.0 Low count 276.0 High count 0.0\n",
      " Mid count 0.0 Low count 152.0 High count 124.0\n",
      " Mid count 0.0 Low count 152.0 High count 124.0\n",
      " Mid count 0.0 Low count 167.0 High count 109.0\n",
      " Mid count 0.0 Low count 168.0 High count 108.0\n",
      " Mid count 0.0 Low count 132.0 High count 144.0\n",
      " Mid count 0.0 Low count 179.0 High count 97.0\n",
      " Mid count 0.0 Low count 276.0 High count 0.0\n",
      " Mid count 0.0 Low count 276.0 High count 0.0\n",
      " Mid count 0.0 Low count 184.0 High count 92.0\n",
      " Mid count 0.0 Low count 184.0 High count 92.0\n",
      " Mid count 0.0 Low count 184.0 High count 92.0\n",
      " Mid count 0.0 Low count 185.0 High count 91.0\n",
      " Mid count 0.0 Low count 276.0 High count 0.0\n",
      " Mid count 0.0 Low count 276.0 High count 0.0\n",
      " Mid count 0.0 Low count 185.0 High count 91.0\n",
      " Mid count 0.0 Low count 185.0 High count 91.0\n",
      " Mid count 0.0 Low count 185.0 High count 91.0\n",
      " Mid count 0.0 Low count 184.0 High count 92.0\n",
      " Mid count 0.0 Low count 184.0 High count 92.0\n",
      " Mid count 0.0 Low count 276.0 High count 0.0\n",
      " Mid count 0.0 Low count 276.0 High count 0.0\n",
      " Mid count 0.0 Low count 185.0 High count 91.0\n",
      " Mid count 0.0 Low count 184.0 High count 92.0\n",
      " Mid count 0.0 Low count 170.0 High count 106.0\n",
      " Mid count 0.0 Low count 185.0 High count 91.0\n",
      " Mid count 0.0 Low count 184.0 High count 92.0\n",
      " Mid count 0.0 Low count 276.0 High count 0.0\n",
      " Mid count 0.0 Low count 276.0 High count 0.0\n",
      " Mid count 0.0 Low count 185.0 High count 91.0\n",
      " Mid count 0.0 Low count 185.0 High count 91.0\n",
      " Mid count 0.0 Low count 185.0 High count 91.0\n",
      " Mid count 0.0 Low count 184.0 High count 92.0\n",
      " Mid count 0.0 Low count 184.0 High count 92.0\n",
      " Mid count 0.0 Low count 192.0 High count 84.0\n",
      " Mid count 0.0 Low count 276.0 High count 0.0\n",
      " Mid count 0.0 Low count 184.0 High count 92.0\n",
      " Mid count 0.0 Low count 184.0 High count 92.0\n",
      " Mid count 0.0 Low count 189.0 High count 87.0\n",
      " Mid count 0.0 Low count 184.0 High count 92.0\n",
      " Mid count 0.0 Low count 237.0 High count 39.0\n",
      " Mid count 0.0 Low count 166.0 High count 110.0\n",
      " Mid count 0.0 Low count 276.0 High count 0.0\n",
      " Mid count 0.0 Low count 184.0 High count 92.0\n",
      " Mid count 0.0 Low count 184.0 High count 92.0\n",
      " Mid count 0.0 Low count 184.0 High count 92.0\n",
      " Mid count 0.0 Low count 184.0 High count 92.0\n",
      " Mid count 0.0 Low count 184.0 High count 92.0\n",
      " Mid count 0.0 Low count 169.0 High count 107.0\n",
      " Mid count 0.0 Low count 276.0 High count 0.0\n",
      " Mid count 0.0 Low count 184.0 High count 92.0\n",
      " Mid count 0.0 Low count 276.0 High count 0.0\n",
      " Mid count 0.0 Low count 276.0 High count 0.0\n",
      " Mid count 0.0 Low count 185.0 High count 91.0\n",
      " Mid count 0.0 Low count 185.0 High count 91.0\n",
      " Mid count 0.0 Low count 203.0 High count 73.0\n"
     ]
    },
    {
     "name": "stderr",
     "output_type": "stream",
     "text": [
      "/var/folders/wm/ymsmhgr90dd6gyprvtgvcr080000gn/T/ipykernel_3088/903661539.py:42: UserWarning: To copy construct from a tensor, it is recommended to use sourceTensor.clone().detach() or sourceTensor.clone().detach().requires_grad_(True), rather than torch.tensor(sourceTensor).\n",
      "  yshape = torch.tensor(to_class_y, dtype=torch.long)\n"
     ]
    },
    {
     "name": "stdout",
     "output_type": "stream",
     "text": [
      " Mid count 0.0 Low count 276.0 High count 0.0\n",
      " Mid count 0.0 Low count 184.0 High count 92.0\n",
      " Mid count 0.0 Low count 184.0 High count 92.0\n",
      " Mid count 0.0 Low count 184.0 High count 92.0\n",
      " Mid count 0.0 Low count 184.0 High count 92.0\n",
      " Mid count 0.0 Low count 184.0 High count 92.0\n",
      " Mid count 0.0 Low count 165.0 High count 111.0\n",
      " Mid count 0.0 Low count 276.0 High count 0.0\n",
      " Mid count 0.0 Low count 276.0 High count 0.0\n",
      " Mid count 0.0 Low count 184.0 High count 92.0\n",
      " Mid count 0.0 Low count 184.0 High count 92.0\n",
      " Mid count 0.0 Low count 276.0 High count 0.0\n",
      " Mid count 0.0 Low count 276.0 High count 0.0\n",
      " Mid count 0.0 Low count 276.0 High count 0.0\n",
      " Mid count 0.0 Low count 276.0 High count 0.0\n",
      " Mid count 0.0 Low count 276.0 High count 0.0\n",
      " Mid count 0.0 Low count 195.0 High count 81.0\n",
      " Mid count 0.0 Low count 184.0 High count 92.0\n",
      " Mid count 0.0 Low count 184.0 High count 92.0\n",
      " Mid count 0.0 Low count 184.0 High count 92.0\n",
      " Mid count 0.0 Low count 184.0 High count 92.0\n",
      " Mid count 0.0 Low count 276.0 High count 0.0\n",
      " Mid count 0.0 Low count 276.0 High count 0.0\n",
      " Mid count 0.0 Low count 185.0 High count 91.0\n",
      " Mid count 0.0 Low count 184.0 High count 92.0\n",
      " Mid count 0.0 Low count 184.0 High count 92.0\n",
      " Mid count 0.0 Low count 184.0 High count 92.0\n",
      " Mid count 0.0 Low count 276.0 High count 0.0\n",
      " Mid count 0.0 Low count 190.0 High count 86.0\n",
      " Mid count 0.0 Low count 184.0 High count 92.0\n",
      " Mid count 0.0 Low count 177.0 High count 99.0\n",
      " Mid count 0.0 Low count 184.0 High count 92.0\n",
      " Mid count 0.0 Low count 184.0 High count 92.0\n",
      " Mid count 0.0 Low count 184.0 High count 92.0\n",
      " Mid count 0.0 Low count 276.0 High count 0.0\n",
      " Mid count 0.0 Low count 276.0 High count 0.0\n",
      " Mid count 0.0 Low count 184.0 High count 92.0\n",
      " Mid count 0.0 Low count 184.0 High count 92.0\n",
      " Mid count 0.0 Low count 185.0 High count 91.0\n",
      " Mid count 0.0 Low count 184.0 High count 92.0\n",
      " Mid count 0.0 Low count 184.0 High count 92.0\n",
      " Mid count 0.0 Low count 187.0 High count 89.0\n",
      " Mid count 0.0 Low count 259.0 High count 17.0\n",
      " Mid count 0.0 Low count 181.0 High count 95.0\n",
      " Mid count 0.0 Low count 184.0 High count 92.0\n",
      " Mid count 0.0 Low count 187.0 High count 89.0\n",
      " Mid count 0.0 Low count 188.0 High count 88.0\n",
      " Mid count 0.0 Low count 186.0 High count 90.0\n",
      " Mid count 0.0 Low count 184.0 High count 92.0\n",
      " Mid count 0.0 Low count 276.0 High count 0.0\n",
      " Mid count 0.0 Low count 184.0 High count 92.0\n",
      " Mid count 0.0 Low count 184.0 High count 92.0\n",
      " Mid count 0.0 Low count 184.0 High count 92.0\n",
      " Mid count 0.0 Low count 184.0 High count 92.0\n",
      " Mid count 0.0 Low count 180.0 High count 96.0\n",
      " Mid count 0.0 Low count 276.0 High count 0.0\n",
      " Mid count 0.0 Low count 276.0 High count 0.0\n",
      " Mid count 0.0 Low count 170.0 High count 106.0\n",
      " Mid count 0.0 Low count 185.0 High count 91.0\n",
      " Mid count 0.0 Low count 184.0 High count 92.0\n",
      " Mid count 0.0 Low count 186.0 High count 90.0\n",
      " Mid count 0.0 Low count 186.0 High count 90.0\n",
      " Mid count 0.0 Low count 228.0 High count 48.0\n",
      " Mid count 0.0 Low count 276.0 High count 0.0\n",
      " Mid count 0.0 Low count 192.0 High count 84.0\n",
      " Mid count 0.0 Low count 187.0 High count 89.0\n",
      " Mid count 0.0 Low count 196.0 High count 80.0\n",
      " Mid count 0.0 Low count 186.0 High count 90.0\n",
      " Mid count 0.0 Low count 195.0 High count 81.0\n",
      " Mid count 0.0 Low count 276.0 High count 0.0\n",
      " Mid count 0.0 Low count 276.0 High count 0.0\n",
      " Mid count 0.0 Low count 185.0 High count 91.0\n",
      " Mid count 0.0 Low count 188.0 High count 88.0\n",
      " Mid count 0.0 Low count 186.0 High count 90.0\n",
      " Mid count 0.0 Low count 185.0 High count 91.0\n",
      " Mid count 0.0 Low count 186.0 High count 90.0\n",
      " Mid count 0.0 Low count 225.0 High count 51.0\n",
      " Mid count 0.0 Low count 276.0 High count 0.0\n",
      " Mid count 0.0 Low count 189.0 High count 87.0\n",
      " Mid count 0.0 Low count 187.0 High count 89.0\n",
      " Mid count 0.0 Low count 193.0 High count 83.0\n",
      " Mid count 0.0 Low count 199.0 High count 77.0\n",
      " Mid count 0.0 Low count 192.0 High count 84.0\n",
      " Mid count 0.0 Low count 276.0 High count 0.0\n",
      " Mid count 0.0 Low count 276.0 High count 0.0\n",
      " Mid count 0.0 Low count 276.0 High count 0.0\n",
      " Mid count 0.0 Low count 186.0 High count 90.0\n",
      " Mid count 0.0 Low count 186.0 High count 90.0\n",
      " Mid count 0.0 Low count 186.0 High count 90.0\n",
      " Mid count 0.0 Low count 186.0 High count 90.0\n",
      " Mid count 0.0 Low count 276.0 High count 0.0\n",
      " Mid count 0.0 Low count 276.0 High count 0.0\n",
      " Mid count 0.0 Low count 186.0 High count 90.0\n",
      " Mid count 0.0 Low count 185.0 High count 91.0\n",
      " Mid count 0.0 Low count 276.0 High count 0.0\n",
      " Mid count 0.0 Low count 185.0 High count 91.0\n",
      " Mid count 0.0 Low count 185.0 High count 91.0\n",
      " Mid count 0.0 Low count 276.0 High count 0.0\n",
      " Mid count 0.0 Low count 276.0 High count 0.0\n",
      " Mid count 0.0 Low count 185.0 High count 91.0\n",
      " Mid count 0.0 Low count 185.0 High count 91.0\n",
      " Mid count 0.0 Low count 186.0 High count 90.0\n",
      " Mid count 0.0 Low count 200.0 High count 76.0\n",
      " Mid count 0.0 Low count 257.0 High count 19.0\n",
      " Mid count 0.0 Low count 276.0 High count 0.0\n",
      " Mid count 0.0 Low count 276.0 High count 0.0\n",
      " Mid count 0.0 Low count 199.0 High count 77.0\n",
      " Mid count 0.0 Low count 229.0 High count 47.0\n",
      " Mid count 0.0 Low count 209.0 High count 67.0\n",
      " Mid count 0.0 Low count 186.0 High count 90.0\n",
      " Mid count 0.0 Low count 196.0 High count 80.0\n",
      " Mid count 0.0 Low count 203.0 High count 73.0\n",
      " Mid count 0.0 Low count 276.0 High count 0.0\n",
      " Mid count 0.0 Low count 201.0 High count 75.0\n",
      " Mid count 0.0 Low count 184.0 High count 92.0\n",
      " Mid count 0.0 Low count 193.0 High count 83.0\n",
      " Mid count 0.0 Low count 205.0 High count 71.0\n",
      " Mid count 0.0 Low count 204.0 High count 72.0\n",
      " Mid count 0.0 Low count 276.0 High count 0.0\n",
      " Mid count 0.0 Low count 276.0 High count 0.0\n",
      " Mid count 0.0 Low count 184.0 High count 92.0\n",
      " Mid count 0.0 Low count 184.0 High count 92.0\n",
      " Mid count 0.0 Low count 200.0 High count 76.0\n",
      " Mid count 0.0 Low count 198.0 High count 78.0\n",
      " Mid count 0.0 Low count 218.0 High count 58.0\n",
      " Mid count 0.0 Low count 203.0 High count 73.0\n",
      " Mid count 0.0 Low count 276.0 High count 0.0\n",
      " Mid count 0.0 Low count 184.0 High count 92.0\n",
      " Mid count 0.0 Low count 187.0 High count 89.0\n",
      " Mid count 0.0 Low count 184.0 High count 92.0\n",
      " Mid count 0.0 Low count 184.0 High count 92.0\n",
      " Mid count 0.0 Low count 184.0 High count 92.0\n",
      " Mid count 0.0 Low count 276.0 High count 0.0\n",
      " Mid count 0.0 Low count 276.0 High count 0.0\n",
      " Mid count 0.0 Low count 184.0 High count 92.0\n",
      " Mid count 0.0 Low count 237.0 High count 39.0\n",
      " Mid count 0.0 Low count 276.0 High count 0.0\n",
      " Mid count 0.0 Low count 276.0 High count 0.0\n",
      " Mid count 0.0 Low count 276.0 High count 0.0\n",
      " Mid count 0.0 Low count 276.0 High count 0.0\n",
      " Mid count 0.0 Low count 276.0 High count 0.0\n",
      " Mid count 0.0 Low count 276.0 High count 0.0\n",
      " Mid count 0.0 Low count 276.0 High count 0.0\n",
      " Mid count 0.0 Low count 272.0 High count 4.0\n",
      " Mid count 0.0 Low count 272.0 High count 4.0\n",
      " Mid count 0.0 Low count 260.0 High count 16.0\n",
      " Mid count 0.0 Low count 276.0 High count 0.0\n",
      " Mid count 0.0 Low count 276.0 High count 0.0\n",
      " Mid count 0.0 Low count 184.0 High count 92.0\n",
      " Mid count 0.0 Low count 186.0 High count 90.0\n",
      " Mid count 0.0 Low count 186.0 High count 90.0\n",
      " Mid count 0.0 Low count 184.0 High count 92.0\n",
      " Mid count 0.0 Low count 184.0 High count 92.0\n",
      " Mid count 0.0 Low count 276.0 High count 0.0\n",
      " Mid count 0.0 Low count 276.0 High count 0.0\n",
      " Mid count 0.0 Low count 184.0 High count 92.0\n",
      " Mid count 0.0 Low count 184.0 High count 92.0\n",
      " Mid count 0.0 Low count 188.0 High count 88.0\n",
      " Mid count 0.0 Low count 197.0 High count 79.0\n",
      " Mid count 0.0 Low count 184.0 High count 92.0\n",
      " Mid count 0.0 Low count 276.0 High count 0.0\n",
      " Mid count 0.0 Low count 276.0 High count 0.0\n",
      " Mid count 0.0 Low count 276.0 High count 0.0\n",
      " Mid count 0.0 Low count 276.0 High count 0.0\n",
      "-----Floor7Z2-----\n",
      " Mid count 0.0 Low count 182.0 High count 94.0\n",
      " Mid count 0.0 Low count 182.0 High count 94.0\n",
      " Mid count 0.0 Low count 276.0 High count 0.0\n",
      " Mid count 0.0 Low count 276.0 High count 0.0\n",
      " Mid count 0.0 Low count 189.0 High count 87.0\n",
      " Mid count 0.0 Low count 205.0 High count 71.0\n",
      " Mid count 0.0 Low count 276.0 High count 0.0\n",
      " Mid count 0.0 Low count 276.0 High count 0.0\n",
      " Mid count 0.0 Low count 276.0 High count 0.0\n",
      " Mid count 0.0 Low count 276.0 High count 0.0\n",
      " Mid count 0.0 Low count 276.0 High count 0.0\n",
      " Mid count 0.0 Low count 201.0 High count 75.0\n",
      " Mid count 0.0 Low count 182.0 High count 94.0\n",
      " Mid count 0.0 Low count 182.0 High count 94.0\n",
      " Mid count 0.0 Low count 182.0 High count 94.0\n",
      " Mid count 0.0 Low count 182.0 High count 94.0\n",
      " Mid count 0.0 Low count 276.0 High count 0.0\n",
      " Mid count 0.0 Low count 276.0 High count 0.0\n",
      " Mid count 0.0 Low count 182.0 High count 94.0\n",
      " Mid count 0.0 Low count 182.0 High count 94.0\n",
      " Mid count 0.0 Low count 183.0 High count 93.0\n",
      " Mid count 0.0 Low count 182.0 High count 94.0\n",
      " Mid count 0.0 Low count 180.0 High count 96.0\n",
      " Mid count 0.0 Low count 276.0 High count 0.0\n",
      " Mid count 0.0 Low count 276.0 High count 0.0\n",
      " Mid count 0.0 Low count 147.0 High count 129.0\n",
      " Mid count 0.0 Low count 183.0 High count 93.0\n",
      " Mid count 0.0 Low count 146.0 High count 130.0\n",
      " Mid count 0.0 Low count 182.0 High count 94.0\n",
      " Mid count 0.0 Low count 182.0 High count 94.0\n",
      " Mid count 0.0 Low count 276.0 High count 0.0\n",
      " Mid count 0.0 Low count 276.0 High count 0.0\n",
      " Mid count 0.0 Low count 276.0 High count 0.0\n",
      " Mid count 0.0 Low count 148.0 High count 128.0\n",
      " Mid count 0.0 Low count 143.0 High count 133.0\n",
      " Mid count 0.0 Low count 146.0 High count 130.0\n",
      " Mid count 0.0 Low count 276.0 High count 0.0\n",
      " Mid count 0.0 Low count 276.0 High count 0.0\n",
      " Mid count 0.0 Low count 276.0 High count 0.0\n",
      " Mid count 0.0 Low count 276.0 High count 0.0\n",
      " Mid count 0.0 Low count 276.0 High count 0.0\n",
      " Mid count 0.0 Low count 145.0 High count 131.0\n",
      " Mid count 0.0 Low count 182.0 High count 94.0\n",
      " Mid count 0.0 Low count 182.0 High count 94.0\n",
      " Mid count 0.0 Low count 276.0 High count 0.0\n",
      " Mid count 0.0 Low count 276.0 High count 0.0\n",
      " Mid count 0.0 Low count 132.0 High count 144.0\n",
      " Mid count 0.0 Low count 182.0 High count 94.0\n",
      " Mid count 0.0 Low count 155.0 High count 121.0\n",
      " Mid count 0.0 Low count 185.0 High count 91.0\n",
      " Mid count 0.0 Low count 150.0 High count 126.0\n",
      " Mid count 0.0 Low count 276.0 High count 0.0\n",
      " Mid count 0.0 Low count 276.0 High count 0.0\n",
      " Mid count 0.0 Low count 152.0 High count 124.0\n",
      " Mid count 0.0 Low count 143.0 High count 133.0\n",
      " Mid count 0.0 Low count 150.0 High count 126.0\n",
      " Mid count 0.0 Low count 147.0 High count 129.0\n",
      " Mid count 0.0 Low count 149.0 High count 127.0\n",
      " Mid count 0.0 Low count 158.0 High count 118.0\n",
      " Mid count 0.0 Low count 203.0 High count 73.0\n",
      " Mid count 0.0 Low count 276.0 High count 0.0\n",
      " Mid count 0.0 Low count 149.0 High count 127.0\n",
      " Mid count 0.0 Low count 162.0 High count 114.0\n",
      " Mid count 0.0 Low count 250.0 High count 26.0\n",
      " Mid count 0.0 Low count 182.0 High count 94.0\n",
      " Mid count 0.0 Low count 276.0 High count 0.0\n",
      " Mid count 0.0 Low count 276.0 High count 0.0\n",
      " Mid count 0.0 Low count 182.0 High count 94.0\n",
      " Mid count 0.0 Low count 178.0 High count 98.0\n",
      " Mid count 0.0 Low count 202.0 High count 74.0\n",
      " Mid count 0.0 Low count 211.0 High count 65.0\n",
      " Mid count 0.0 Low count 187.0 High count 89.0\n",
      " Mid count 0.0 Low count 276.0 High count 0.0\n",
      " Mid count 0.0 Low count 276.0 High count 0.0\n",
      " Mid count 0.0 Low count 276.0 High count 0.0\n",
      " Mid count 0.0 Low count 103.0 High count 173.0\n",
      " Mid count 0.0 Low count 133.0 High count 143.0\n",
      " Mid count 0.0 Low count 166.0 High count 110.0\n",
      " Mid count 0.0 Low count 155.0 High count 121.0\n",
      " Mid count 0.0 Low count 276.0 High count 0.0\n",
      " Mid count 0.0 Low count 276.0 High count 0.0\n",
      " Mid count 0.0 Low count 151.0 High count 125.0\n",
      " Mid count 0.0 Low count 150.0 High count 126.0\n",
      " Mid count 0.0 Low count 163.0 High count 113.0\n",
      " Mid count 0.0 Low count 217.0 High count 59.0\n",
      " Mid count 0.0 Low count 162.0 High count 114.0\n",
      " Mid count 0.0 Low count 177.0 High count 99.0\n",
      " Mid count 0.0 Low count 276.0 High count 0.0\n",
      " Mid count 0.0 Low count 276.0 High count 0.0\n",
      " Mid count 0.0 Low count 182.0 High count 94.0\n",
      " Mid count 0.0 Low count 182.0 High count 94.0\n",
      " Mid count 0.0 Low count 182.0 High count 94.0\n",
      " Mid count 0.0 Low count 218.0 High count 58.0\n",
      " Mid count 0.0 Low count 276.0 High count 0.0\n",
      " Mid count 0.0 Low count 276.0 High count 0.0\n",
      " Mid count 0.0 Low count 182.0 High count 94.0\n",
      " Mid count 0.0 Low count 188.0 High count 88.0\n",
      " Mid count 0.0 Low count 182.0 High count 94.0\n",
      " Mid count 0.0 Low count 182.0 High count 94.0\n",
      " Mid count 0.0 Low count 182.0 High count 94.0\n",
      " Mid count 0.0 Low count 276.0 High count 0.0\n",
      " Mid count 0.0 Low count 276.0 High count 0.0\n",
      " Mid count 0.0 Low count 182.0 High count 94.0\n",
      " Mid count 0.0 Low count 182.0 High count 94.0\n",
      " Mid count 0.0 Low count 167.0 High count 109.0\n",
      " Mid count 0.0 Low count 182.0 High count 94.0\n",
      " Mid count 0.0 Low count 182.0 High count 94.0\n",
      " Mid count 0.0 Low count 276.0 High count 0.0\n",
      " Mid count 0.0 Low count 276.0 High count 0.0\n",
      " Mid count 0.0 Low count 182.0 High count 94.0\n",
      " Mid count 0.0 Low count 182.0 High count 94.0\n",
      " Mid count 0.0 Low count 182.0 High count 94.0\n",
      " Mid count 0.0 Low count 195.0 High count 81.0\n",
      " Mid count 0.0 Low count 186.0 High count 90.0\n",
      " Mid count 0.0 Low count 190.0 High count 86.0\n",
      " Mid count 0.0 Low count 276.0 High count 0.0\n",
      " Mid count 0.0 Low count 203.0 High count 73.0\n",
      " Mid count 0.0 Low count 183.0 High count 93.0\n",
      " Mid count 0.0 Low count 249.0 High count 27.0\n",
      " Mid count 0.0 Low count 276.0 High count 0.0\n",
      " Mid count 0.0 Low count 276.0 High count 0.0\n",
      " Mid count 0.0 Low count 276.0 High count 0.0\n",
      " Mid count 0.0 Low count 276.0 High count 0.0\n",
      " Mid count 0.0 Low count 184.0 High count 92.0\n",
      " Mid count 0.0 Low count 182.0 High count 94.0\n",
      " Mid count 0.0 Low count 182.0 High count 94.0\n"
     ]
    },
    {
     "name": "stdout",
     "output_type": "stream",
     "text": [
      " Mid count 0.0 Low count 182.0 High count 94.0\n",
      " Mid count 0.0 Low count 181.0 High count 95.0\n",
      " Mid count 0.0 Low count 168.0 High count 108.0\n",
      " Mid count 0.0 Low count 276.0 High count 0.0\n",
      " Mid count 0.0 Low count 182.0 High count 94.0\n",
      " Mid count 0.0 Low count 276.0 High count 0.0\n",
      " Mid count 0.0 Low count 276.0 High count 0.0\n",
      " Mid count 0.0 Low count 183.0 High count 93.0\n",
      " Mid count 0.0 Low count 182.0 High count 94.0\n",
      " Mid count 0.0 Low count 201.0 High count 75.0\n",
      " Mid count 0.0 Low count 276.0 High count 0.0\n",
      " Mid count 0.0 Low count 182.0 High count 94.0\n",
      " Mid count 0.0 Low count 182.0 High count 94.0\n",
      " Mid count 0.0 Low count 185.0 High count 91.0\n",
      " Mid count 0.0 Low count 183.0 High count 93.0\n",
      " Mid count 0.0 Low count 184.0 High count 92.0\n",
      " Mid count 0.0 Low count 229.0 High count 47.0\n",
      " Mid count 0.0 Low count 276.0 High count 0.0\n",
      " Mid count 0.0 Low count 276.0 High count 0.0\n",
      " Mid count 0.0 Low count 182.0 High count 94.0\n",
      " Mid count 0.0 Low count 182.0 High count 94.0\n",
      " Mid count 0.0 Low count 182.0 High count 94.0\n",
      " Mid count 0.0 Low count 216.0 High count 60.0\n",
      " Mid count 0.0 Low count 191.0 High count 85.0\n",
      " Mid count 0.0 Low count 276.0 High count 0.0\n",
      " Mid count 0.0 Low count 191.0 High count 85.0\n",
      " Mid count 0.0 Low count 203.0 High count 73.0\n",
      " Mid count 0.0 Low count 199.0 High count 77.0\n",
      " Mid count 0.0 Low count 192.0 High count 84.0\n",
      " Mid count 0.0 Low count 190.0 High count 86.0\n",
      " Mid count 0.0 Low count 217.0 High count 59.0\n",
      " Mid count 0.0 Low count 276.0 High count 0.0\n",
      " Mid count 0.0 Low count 276.0 High count 0.0\n",
      " Mid count 0.0 Low count 182.0 High count 94.0\n",
      " Mid count 0.0 Low count 182.0 High count 94.0\n",
      " Mid count 0.0 Low count 179.0 High count 97.0\n",
      " Mid count 0.0 Low count 182.0 High count 94.0\n",
      " Mid count 0.0 Low count 276.0 High count 0.0\n",
      " Mid count 0.0 Low count 187.0 High count 89.0\n",
      " Mid count 0.0 Low count 185.0 High count 91.0\n",
      " Mid count 0.0 Low count 187.0 High count 89.0\n",
      " Mid count 0.0 Low count 182.0 High count 94.0\n",
      " Mid count 0.0 Low count 182.0 High count 94.0\n",
      " Mid count 0.0 Low count 189.0 High count 87.0\n",
      " Mid count 0.0 Low count 276.0 High count 0.0\n",
      " Mid count 0.0 Low count 276.0 High count 0.0\n",
      " Mid count 0.0 Low count 183.0 High count 93.0\n",
      " Mid count 0.0 Low count 196.0 High count 80.0\n",
      " Mid count 0.0 Low count 182.0 High count 94.0\n",
      " Mid count 0.0 Low count 219.0 High count 57.0\n",
      " Mid count 0.0 Low count 253.0 High count 23.0\n",
      " Mid count 0.0 Low count 276.0 High count 0.0\n",
      " Mid count 0.0 Low count 269.0 High count 7.0\n",
      " Mid count 0.0 Low count 222.0 High count 54.0\n",
      " Mid count 0.0 Low count 239.0 High count 37.0\n",
      " Mid count 0.0 Low count 276.0 High count 0.0\n",
      " Mid count 0.0 Low count 221.0 High count 55.0\n",
      " Mid count 0.0 Low count 233.0 High count 43.0\n",
      " Mid count 0.0 Low count 233.0 High count 43.0\n",
      " Mid count 0.0 Low count 276.0 High count 0.0\n",
      " Mid count 0.0 Low count 200.0 High count 76.0\n",
      " Mid count 0.0 Low count 182.0 High count 94.0\n",
      " Mid count 0.0 Low count 182.0 High count 94.0\n",
      " Mid count 0.0 Low count 182.0 High count 94.0\n",
      " Mid count 0.0 Low count 182.0 High count 94.0\n",
      " Mid count 0.0 Low count 276.0 High count 0.0\n",
      " Mid count 0.0 Low count 276.0 High count 0.0\n",
      " Mid count 0.0 Low count 189.0 High count 87.0\n",
      " Mid count 0.0 Low count 182.0 High count 94.0\n",
      " Mid count 0.0 Low count 182.0 High count 94.0\n",
      " Mid count 0.0 Low count 185.0 High count 91.0\n",
      " Mid count 0.0 Low count 239.0 High count 37.0\n",
      " Mid count 0.0 Low count 276.0 High count 0.0\n",
      " Mid count 0.0 Low count 276.0 High count 0.0\n",
      " Mid count 0.0 Low count 276.0 High count 0.0\n",
      " Mid count 0.0 Low count 248.0 High count 28.0\n",
      " Mid count 0.0 Low count 182.0 High count 94.0\n",
      " Mid count 0.0 Low count 182.0 High count 94.0\n",
      " Mid count 0.0 Low count 182.0 High count 94.0\n",
      " Mid count 0.0 Low count 276.0 High count 0.0\n",
      " Mid count 0.0 Low count 276.0 High count 0.0\n",
      " Mid count 0.0 Low count 182.0 High count 94.0\n",
      " Mid count 0.0 Low count 182.0 High count 94.0\n",
      " Mid count 0.0 Low count 182.0 High count 94.0\n",
      " Mid count 0.0 Low count 182.0 High count 94.0\n",
      " Mid count 0.0 Low count 184.0 High count 92.0\n",
      " Mid count 0.0 Low count 253.0 High count 23.0\n",
      " Mid count 0.0 Low count 276.0 High count 0.0\n",
      " Mid count 0.0 Low count 183.0 High count 93.0\n",
      " Mid count 0.0 Low count 183.0 High count 93.0\n",
      " Mid count 0.0 Low count 185.0 High count 91.0\n",
      " Mid count 0.0 Low count 184.0 High count 92.0\n",
      " Mid count 0.0 Low count 183.0 High count 93.0\n",
      " Mid count 0.0 Low count 276.0 High count 0.0\n",
      " Mid count 0.0 Low count 276.0 High count 0.0\n",
      " Mid count 0.0 Low count 276.0 High count 0.0\n",
      " Mid count 0.0 Low count 182.0 High count 94.0\n",
      " Mid count 0.0 Low count 182.0 High count 94.0\n",
      " Mid count 0.0 Low count 182.0 High count 94.0\n",
      " Mid count 0.0 Low count 182.0 High count 94.0\n",
      " Mid count 0.0 Low count 276.0 High count 0.0\n",
      " Mid count 0.0 Low count 276.0 High count 0.0\n",
      " Mid count 0.0 Low count 182.0 High count 94.0\n",
      " Mid count 0.0 Low count 182.0 High count 94.0\n",
      " Mid count 0.0 Low count 276.0 High count 0.0\n",
      " Mid count 0.0 Low count 182.0 High count 94.0\n",
      " Mid count 0.0 Low count 181.0 High count 95.0\n",
      " Mid count 0.0 Low count 276.0 High count 0.0\n",
      " Mid count 0.0 Low count 276.0 High count 0.0\n",
      " Mid count 0.0 Low count 182.0 High count 94.0\n",
      " Mid count 0.0 Low count 183.0 High count 93.0\n",
      " Mid count 0.0 Low count 183.0 High count 93.0\n",
      " Mid count 0.0 Low count 184.0 High count 92.0\n",
      " Mid count 0.0 Low count 263.0 High count 13.0\n",
      " Mid count 0.0 Low count 276.0 High count 0.0\n",
      " Mid count 0.0 Low count 276.0 High count 0.0\n",
      " Mid count 0.0 Low count 189.0 High count 87.0\n",
      " Mid count 0.0 Low count 185.0 High count 91.0\n",
      " Mid count 0.0 Low count 186.0 High count 90.0\n",
      " Mid count 0.0 Low count 183.0 High count 93.0\n",
      " Mid count 0.0 Low count 183.0 High count 93.0\n",
      " Mid count 0.0 Low count 276.0 High count 0.0\n",
      " Mid count 0.0 Low count 276.0 High count 0.0\n",
      " Mid count 0.0 Low count 183.0 High count 93.0\n",
      " Mid count 0.0 Low count 183.0 High count 93.0\n",
      " Mid count 0.0 Low count 181.0 High count 95.0\n",
      " Mid count 0.0 Low count 192.0 High count 84.0\n",
      " Mid count 0.0 Low count 187.0 High count 89.0\n",
      " Mid count 0.0 Low count 276.0 High count 0.0\n",
      " Mid count 0.0 Low count 276.0 High count 0.0\n",
      " Mid count 0.0 Low count 174.0 High count 102.0\n",
      " Mid count 0.0 Low count 183.0 High count 93.0\n",
      " Mid count 0.0 Low count 183.0 High count 93.0\n",
      " Mid count 0.0 Low count 183.0 High count 93.0\n",
      " Mid count 0.0 Low count 191.0 High count 85.0\n",
      " Mid count 0.0 Low count 201.0 High count 75.0\n",
      " Mid count 0.0 Low count 276.0 High count 0.0\n",
      " Mid count 0.0 Low count 183.0 High count 93.0\n",
      " Mid count 0.0 Low count 183.0 High count 93.0\n",
      " Mid count 0.0 Low count 183.0 High count 93.0\n",
      " Mid count 0.0 Low count 183.0 High count 93.0\n",
      " Mid count 0.0 Low count 183.0 High count 93.0\n",
      " Mid count 0.0 Low count 276.0 High count 0.0\n",
      " Mid count 0.0 Low count 276.0 High count 0.0\n",
      " Mid count 0.0 Low count 183.0 High count 93.0\n",
      " Mid count 0.0 Low count 227.0 High count 49.0\n",
      " Mid count 0.0 Low count 276.0 High count 0.0\n",
      " Mid count 0.0 Low count 276.0 High count 0.0\n",
      " Mid count 0.0 Low count 276.0 High count 0.0\n",
      " Mid count 0.0 Low count 276.0 High count 0.0\n",
      " Mid count 0.0 Low count 276.0 High count 0.0\n",
      " Mid count 0.0 Low count 276.0 High count 0.0\n",
      " Mid count 0.0 Low count 276.0 High count 0.0\n",
      " Mid count 0.0 Low count 276.0 High count 0.0\n",
      " Mid count 0.0 Low count 273.0 High count 3.0\n",
      " Mid count 0.0 Low count 262.0 High count 14.0\n",
      " Mid count 0.0 Low count 276.0 High count 0.0\n",
      " Mid count 0.0 Low count 276.0 High count 0.0\n",
      " Mid count 0.0 Low count 183.0 High count 93.0\n",
      " Mid count 0.0 Low count 182.0 High count 94.0\n",
      " Mid count 0.0 Low count 196.0 High count 80.0\n",
      " Mid count 0.0 Low count 182.0 High count 94.0\n",
      " Mid count 0.0 Low count 182.0 High count 94.0\n",
      " Mid count 0.0 Low count 276.0 High count 0.0\n",
      " Mid count 0.0 Low count 276.0 High count 0.0\n",
      " Mid count 0.0 Low count 182.0 High count 94.0\n",
      " Mid count 0.0 Low count 182.0 High count 94.0\n",
      " Mid count 0.0 Low count 182.0 High count 94.0\n",
      " Mid count 0.0 Low count 182.0 High count 94.0\n",
      " Mid count 0.0 Low count 182.0 High count 94.0\n",
      " Mid count 0.0 Low count 276.0 High count 0.0\n",
      " Mid count 0.0 Low count 276.0 High count 0.0\n",
      " Mid count 0.0 Low count 276.0 High count 0.0\n",
      " Mid count 0.0 Low count 276.0 High count 0.0\n",
      "-----Floor7Z4-----\n",
      " Mid count 0.0 Low count 182.0 High count 94.0\n",
      " Mid count 0.0 Low count 182.0 High count 94.0\n",
      " Mid count 0.0 Low count 276.0 High count 0.0\n",
      " Mid count 0.0 Low count 276.0 High count 0.0\n",
      " Mid count 0.0 Low count 182.0 High count 94.0\n",
      " Mid count 0.0 Low count 182.0 High count 94.0\n",
      " Mid count 0.0 Low count 182.0 High count 94.0\n",
      " Mid count 0.0 Low count 182.0 High count 94.0\n",
      " Mid count 0.0 Low count 182.0 High count 94.0\n",
      " Mid count 0.0 Low count 276.0 High count 0.0\n",
      " Mid count 0.0 Low count 276.0 High count 0.0\n",
      " Mid count 0.0 Low count 182.0 High count 94.0\n",
      " Mid count 0.0 Low count 182.0 High count 94.0\n",
      " Mid count 0.0 Low count 182.0 High count 94.0\n",
      " Mid count 0.0 Low count 182.0 High count 94.0\n",
      " Mid count 0.0 Low count 182.0 High count 94.0\n",
      " Mid count 0.0 Low count 276.0 High count 0.0\n",
      " Mid count 0.0 Low count 276.0 High count 0.0\n",
      " Mid count 0.0 Low count 182.0 High count 94.0\n",
      " Mid count 0.0 Low count 182.0 High count 94.0\n",
      " Mid count 0.0 Low count 183.0 High count 93.0\n",
      " Mid count 0.0 Low count 182.0 High count 94.0\n",
      " Mid count 0.0 Low count 182.0 High count 94.0\n",
      " Mid count 0.0 Low count 276.0 High count 0.0\n",
      " Mid count 0.0 Low count 276.0 High count 0.0\n",
      " Mid count 0.0 Low count 182.0 High count 94.0\n",
      " Mid count 0.0 Low count 182.0 High count 94.0\n",
      " Mid count 0.0 Low count 182.0 High count 94.0\n",
      " Mid count 0.0 Low count 182.0 High count 94.0\n",
      " Mid count 0.0 Low count 182.0 High count 94.0\n",
      " Mid count 0.0 Low count 276.0 High count 0.0\n",
      " Mid count 0.0 Low count 276.0 High count 0.0\n",
      " Mid count 0.0 Low count 276.0 High count 0.0\n",
      " Mid count 0.0 Low count 183.0 High count 93.0\n",
      " Mid count 0.0 Low count 182.0 High count 94.0\n",
      " Mid count 0.0 Low count 183.0 High count 93.0\n",
      " Mid count 0.0 Low count 276.0 High count 0.0\n",
      " Mid count 0.0 Low count 276.0 High count 0.0\n",
      " Mid count 0.0 Low count 276.0 High count 0.0\n",
      " Mid count 0.0 Low count 276.0 High count 0.0\n",
      " Mid count 0.0 Low count 276.0 High count 0.0\n",
      " Mid count 0.0 Low count 184.0 High count 92.0\n",
      " Mid count 0.0 Low count 183.0 High count 93.0\n",
      " Mid count 0.0 Low count 188.0 High count 88.0\n",
      " Mid count 0.0 Low count 276.0 High count 0.0\n",
      " Mid count 0.0 Low count 276.0 High count 0.0\n",
      " Mid count 0.0 Low count 184.0 High count 92.0\n",
      " Mid count 0.0 Low count 184.0 High count 92.0\n",
      " Mid count 0.0 Low count 184.0 High count 92.0\n",
      " Mid count 0.0 Low count 184.0 High count 92.0\n",
      " Mid count 0.0 Low count 184.0 High count 92.0\n",
      " Mid count 0.0 Low count 276.0 High count 0.0\n",
      " Mid count 0.0 Low count 276.0 High count 0.0\n",
      " Mid count 0.0 Low count 184.0 High count 92.0\n",
      " Mid count 0.0 Low count 184.0 High count 92.0\n",
      " Mid count 0.0 Low count 184.0 High count 92.0\n",
      " Mid count 0.0 Low count 183.0 High count 93.0\n",
      " Mid count 0.0 Low count 184.0 High count 92.0\n",
      " Mid count 0.0 Low count 276.0 High count 0.0\n",
      " Mid count 0.0 Low count 276.0 High count 0.0\n",
      " Mid count 0.0 Low count 276.0 High count 0.0\n",
      " Mid count 0.0 Low count 184.0 High count 92.0\n",
      " Mid count 0.0 Low count 184.0 High count 92.0\n",
      " Mid count 0.0 Low count 251.0 High count 25.0\n",
      " Mid count 0.0 Low count 184.0 High count 92.0\n",
      " Mid count 0.0 Low count 276.0 High count 0.0\n",
      " Mid count 0.0 Low count 276.0 High count 0.0\n",
      " Mid count 0.0 Low count 184.0 High count 92.0\n",
      " Mid count 0.0 Low count 230.0 High count 46.0\n",
      " Mid count 0.0 Low count 218.0 High count 58.0\n",
      " Mid count 0.0 Low count 215.0 High count 61.0\n",
      " Mid count 0.0 Low count 187.0 High count 89.0\n",
      " Mid count 0.0 Low count 276.0 High count 0.0\n",
      " Mid count 0.0 Low count 276.0 High count 0.0\n",
      " Mid count 0.0 Low count 276.0 High count 0.0\n",
      " Mid count 0.0 Low count 184.0 High count 92.0\n",
      " Mid count 0.0 Low count 184.0 High count 92.0\n",
      " Mid count 0.0 Low count 193.0 High count 83.0\n",
      " Mid count 0.0 Low count 189.0 High count 87.0\n",
      " Mid count 0.0 Low count 276.0 High count 0.0\n",
      " Mid count 0.0 Low count 276.0 High count 0.0\n",
      " Mid count 0.0 Low count 184.0 High count 92.0\n",
      " Mid count 0.0 Low count 184.0 High count 92.0\n",
      " Mid count 0.0 Low count 184.0 High count 92.0\n",
      " Mid count 0.0 Low count 220.0 High count 56.0\n",
      " Mid count 0.0 Low count 196.0 High count 80.0\n",
      " Mid count 0.0 Low count 276.0 High count 0.0\n",
      " Mid count 0.0 Low count 276.0 High count 0.0\n",
      " Mid count 0.0 Low count 276.0 High count 0.0\n",
      " Mid count 0.0 Low count 184.0 High count 92.0\n",
      " Mid count 0.0 Low count 158.0 High count 118.0\n",
      " Mid count 0.0 Low count 191.0 High count 85.0\n",
      " Mid count 0.0 Low count 216.0 High count 60.0\n",
      " Mid count 0.0 Low count 276.0 High count 0.0\n",
      " Mid count 0.0 Low count 276.0 High count 0.0\n",
      " Mid count 0.0 Low count 184.0 High count 92.0\n",
      " Mid count 0.0 Low count 197.0 High count 79.0\n",
      " Mid count 0.0 Low count 184.0 High count 92.0\n",
      " Mid count 0.0 Low count 184.0 High count 92.0\n",
      " Mid count 0.0 Low count 184.0 High count 92.0\n",
      " Mid count 0.0 Low count 276.0 High count 0.0\n",
      " Mid count 0.0 Low count 276.0 High count 0.0\n",
      " Mid count 0.0 Low count 184.0 High count 92.0\n",
      " Mid count 0.0 Low count 184.0 High count 92.0\n",
      " Mid count 0.0 Low count 184.0 High count 92.0\n",
      " Mid count 0.0 Low count 184.0 High count 92.0\n",
      " Mid count 0.0 Low count 184.0 High count 92.0\n",
      " Mid count 0.0 Low count 276.0 High count 0.0\n",
      " Mid count 0.0 Low count 276.0 High count 0.0\n",
      " Mid count 0.0 Low count 184.0 High count 92.0\n",
      " Mid count 0.0 Low count 184.0 High count 92.0\n",
      " Mid count 0.0 Low count 184.0 High count 92.0\n",
      " Mid count 0.0 Low count 199.0 High count 77.0\n",
      " Mid count 0.0 Low count 193.0 High count 83.0\n",
      " Mid count 0.0 Low count 230.0 High count 46.0\n",
      " Mid count 0.0 Low count 276.0 High count 0.0\n",
      " Mid count 0.0 Low count 208.0 High count 68.0\n"
     ]
    },
    {
     "name": "stdout",
     "output_type": "stream",
     "text": [
      " Mid count 0.0 Low count 196.0 High count 80.0\n",
      " Mid count 0.0 Low count 265.0 High count 11.0\n",
      " Mid count 0.0 Low count 274.0 High count 2.0\n",
      " Mid count 0.0 Low count 276.0 High count 0.0\n",
      " Mid count 0.0 Low count 276.0 High count 0.0\n",
      " Mid count 0.0 Low count 276.0 High count 0.0\n",
      " Mid count 0.0 Low count 184.0 High count 92.0\n",
      " Mid count 0.0 Low count 186.0 High count 90.0\n",
      " Mid count 0.0 Low count 185.0 High count 91.0\n",
      " Mid count 0.0 Low count 184.0 High count 92.0\n",
      " Mid count 0.0 Low count 184.0 High count 92.0\n",
      " Mid count 0.0 Low count 276.0 High count 0.0\n",
      " Mid count 0.0 Low count 276.0 High count 0.0\n",
      " Mid count 0.0 Low count 184.0 High count 92.0\n",
      " Mid count 0.0 Low count 276.0 High count 0.0\n",
      " Mid count 0.0 Low count 276.0 High count 0.0\n",
      " Mid count 0.0 Low count 184.0 High count 92.0\n",
      " Mid count 0.0 Low count 183.0 High count 93.0\n",
      " Mid count 0.0 Low count 203.0 High count 73.0\n",
      " Mid count 0.0 Low count 276.0 High count 0.0\n",
      " Mid count 0.0 Low count 184.0 High count 92.0\n",
      " Mid count 0.0 Low count 182.0 High count 94.0\n",
      " Mid count 0.0 Low count 187.0 High count 89.0\n",
      " Mid count 0.0 Low count 191.0 High count 85.0\n",
      " Mid count 0.0 Low count 232.0 High count 44.0\n",
      " Mid count 0.0 Low count 232.0 High count 44.0\n",
      " Mid count 0.0 Low count 276.0 High count 0.0\n",
      " Mid count 0.0 Low count 276.0 High count 0.0\n",
      " Mid count 0.0 Low count 184.0 High count 92.0\n",
      " Mid count 0.0 Low count 184.0 High count 92.0\n",
      " Mid count 0.0 Low count 199.0 High count 77.0\n",
      " Mid count 0.0 Low count 247.0 High count 29.0\n",
      " Mid count 0.0 Low count 260.0 High count 16.0\n",
      " Mid count 0.0 Low count 276.0 High count 0.0\n",
      " Mid count 0.0 Low count 246.0 High count 30.0\n",
      " Mid count 0.0 Low count 256.0 High count 20.0\n",
      " Mid count 0.0 Low count 254.0 High count 22.0\n",
      " Mid count 0.0 Low count 244.0 High count 32.0\n",
      " Mid count 0.0 Low count 242.0 High count 34.0\n",
      " Mid count 0.0 Low count 276.0 High count 0.0\n",
      " Mid count 0.0 Low count 276.0 High count 0.0\n",
      " Mid count 0.0 Low count 276.0 High count 0.0\n",
      " Mid count 0.0 Low count 184.0 High count 92.0\n",
      " Mid count 0.0 Low count 190.0 High count 86.0\n",
      " Mid count 0.0 Low count 186.0 High count 90.0\n",
      " Mid count 0.0 Low count 184.0 High count 92.0\n",
      " Mid count 0.0 Low count 276.0 High count 0.0\n",
      " Mid count 0.0 Low count 242.0 High count 34.0\n",
      " Mid count 0.0 Low count 184.0 High count 92.0\n",
      " Mid count 0.0 Low count 193.0 High count 83.0\n",
      " Mid count 0.0 Low count 210.0 High count 66.0\n",
      " Mid count 0.0 Low count 184.0 High count 92.0\n",
      " Mid count 0.0 Low count 234.0 High count 42.0\n",
      " Mid count 0.0 Low count 211.0 High count 65.0\n",
      " Mid count 0.0 Low count 276.0 High count 0.0\n",
      " Mid count 0.0 Low count 210.0 High count 66.0\n",
      " Mid count 0.0 Low count 241.0 High count 35.0\n",
      " Mid count 0.0 Low count 203.0 High count 73.0\n",
      " Mid count 0.0 Low count 251.0 High count 25.0\n",
      " Mid count 0.0 Low count 256.0 High count 20.0\n",
      " Mid count 0.0 Low count 276.0 High count 0.0\n",
      " Mid count 0.0 Low count 276.0 High count 0.0\n",
      " Mid count 0.0 Low count 249.0 High count 27.0\n",
      " Mid count 0.0 Low count 266.0 High count 10.0\n",
      " Mid count 0.0 Low count 276.0 High count 0.0\n",
      " Mid count 0.0 Low count 253.0 High count 23.0\n",
      " Mid count 0.0 Low count 264.0 High count 12.0\n",
      " Mid count 0.0 Low count 276.0 High count 0.0\n",
      " Mid count 0.0 Low count 276.0 High count 0.0\n",
      " Mid count 0.0 Low count 184.0 High count 92.0\n",
      " Mid count 0.0 Low count 185.0 High count 91.0\n",
      " Mid count 0.0 Low count 219.0 High count 57.0\n",
      " Mid count 0.0 Low count 215.0 High count 61.0\n",
      " Mid count 0.0 Low count 213.0 High count 63.0\n",
      " Mid count 0.0 Low count 276.0 High count 0.0\n",
      " Mid count 0.0 Low count 276.0 High count 0.0\n",
      " Mid count 0.0 Low count 203.0 High count 73.0\n",
      " Mid count 0.0 Low count 191.0 High count 85.0\n",
      " Mid count 0.0 Low count 194.0 High count 82.0\n",
      " Mid count 0.0 Low count 225.0 High count 51.0\n",
      " Mid count 0.0 Low count 263.0 High count 13.0\n",
      " Mid count 0.0 Low count 276.0 High count 0.0\n",
      " Mid count 0.0 Low count 276.0 High count 0.0\n",
      " Mid count 0.0 Low count 274.0 High count 2.0\n",
      " Mid count 0.0 Low count 263.0 High count 13.0\n",
      " Mid count 0.0 Low count 203.0 High count 73.0\n",
      " Mid count 0.0 Low count 185.0 High count 91.0\n",
      " Mid count 0.0 Low count 185.0 High count 91.0\n",
      " Mid count 0.0 Low count 276.0 High count 0.0\n",
      " Mid count 0.0 Low count 276.0 High count 0.0\n",
      " Mid count 0.0 Low count 184.0 High count 92.0\n",
      " Mid count 0.0 Low count 184.0 High count 92.0\n",
      " Mid count 0.0 Low count 184.0 High count 92.0\n",
      " Mid count 0.0 Low count 186.0 High count 90.0\n",
      " Mid count 0.0 Low count 184.0 High count 92.0\n",
      " Mid count 0.0 Low count 276.0 High count 0.0\n",
      " Mid count 0.0 Low count 276.0 High count 0.0\n",
      " Mid count 0.0 Low count 184.0 High count 92.0\n",
      " Mid count 0.0 Low count 184.0 High count 92.0\n",
      " Mid count 0.0 Low count 198.0 High count 78.0\n",
      " Mid count 0.0 Low count 203.0 High count 73.0\n",
      " Mid count 0.0 Low count 184.0 High count 92.0\n",
      " Mid count 0.0 Low count 276.0 High count 0.0\n",
      " Mid count 0.0 Low count 276.0 High count 0.0\n",
      " Mid count 0.0 Low count 276.0 High count 0.0\n",
      " Mid count 0.0 Low count 184.0 High count 92.0\n",
      " Mid count 0.0 Low count 184.0 High count 92.0\n",
      " Mid count 0.0 Low count 184.0 High count 92.0\n",
      " Mid count 0.0 Low count 105.0 High count 171.0\n",
      " Mid count 0.0 Low count 0.0 High count 276.0\n",
      " Mid count 0.0 Low count 0.0 High count 276.0\n",
      " Mid count 0.0 Low count 0.0 High count 276.0\n",
      " Mid count 0.0 Low count 0.0 High count 276.0\n",
      " Mid count 0.0 Low count 0.0 High count 276.0\n",
      " Mid count 0.0 Low count 0.0 High count 276.0\n",
      " Mid count 0.0 Low count 87.0 High count 189.0\n",
      " Mid count 0.0 Low count 276.0 High count 0.0\n",
      " Mid count 0.0 Low count 276.0 High count 0.0\n",
      " Mid count 0.0 Low count 184.0 High count 92.0\n",
      " Mid count 0.0 Low count 184.0 High count 92.0\n",
      " Mid count 0.0 Low count 184.0 High count 92.0\n",
      " Mid count 0.0 Low count 193.0 High count 83.0\n",
      " Mid count 0.0 Low count 248.0 High count 28.0\n",
      " Mid count 0.0 Low count 276.0 High count 0.0\n",
      " Mid count 0.0 Low count 276.0 High count 0.0\n",
      " Mid count 0.0 Low count 213.0 High count 63.0\n",
      " Mid count 0.0 Low count 232.0 High count 44.0\n",
      " Mid count 0.0 Low count 200.0 High count 76.0\n",
      " Mid count 0.0 Low count 185.0 High count 91.0\n",
      " Mid count 0.0 Low count 199.0 High count 77.0\n",
      " Mid count 0.0 Low count 276.0 High count 0.0\n",
      " Mid count 0.0 Low count 276.0 High count 0.0\n",
      " Mid count 0.0 Low count 185.0 High count 91.0\n",
      " Mid count 0.0 Low count 188.0 High count 88.0\n",
      " Mid count 0.0 Low count 202.0 High count 74.0\n",
      " Mid count 0.0 Low count 188.0 High count 88.0\n",
      " Mid count 0.0 Low count 211.0 High count 65.0\n",
      " Mid count 0.0 Low count 276.0 High count 0.0\n",
      " Mid count 0.0 Low count 276.0 High count 0.0\n",
      " Mid count 0.0 Low count 183.0 High count 93.0\n",
      " Mid count 0.0 Low count 183.0 High count 93.0\n",
      " Mid count 0.0 Low count 204.0 High count 72.0\n",
      " Mid count 0.0 Low count 212.0 High count 64.0\n",
      " Mid count 0.0 Low count 237.0 High count 39.0\n",
      " Mid count 0.0 Low count 276.0 High count 0.0\n",
      " Mid count 0.0 Low count 276.0 High count 0.0\n",
      " Mid count 0.0 Low count 182.0 High count 94.0\n",
      " Mid count 0.0 Low count 183.0 High count 93.0\n",
      " Mid count 0.0 Low count 182.0 High count 94.0\n",
      " Mid count 0.0 Low count 182.0 High count 94.0\n",
      " Mid count 0.0 Low count 182.0 High count 94.0\n",
      " Mid count 0.0 Low count 276.0 High count 0.0\n",
      " Mid count 0.0 Low count 276.0 High count 0.0\n",
      " Mid count 0.0 Low count 182.0 High count 94.0\n",
      " Mid count 0.0 Low count 221.0 High count 55.0\n",
      " Mid count 0.0 Low count 276.0 High count 0.0\n",
      " Mid count 0.0 Low count 276.0 High count 0.0\n",
      " Mid count 0.0 Low count 265.0 High count 11.0\n",
      " Mid count 0.0 Low count 276.0 High count 0.0\n",
      " Mid count 0.0 Low count 276.0 High count 0.0\n",
      " Mid count 0.0 Low count 276.0 High count 0.0\n",
      " Mid count 0.0 Low count 276.0 High count 0.0\n",
      " Mid count 0.0 Low count 276.0 High count 0.0\n",
      " Mid count 0.0 Low count 268.0 High count 8.0\n",
      " Mid count 0.0 Low count 272.0 High count 4.0\n",
      " Mid count 0.0 Low count 276.0 High count 0.0\n",
      " Mid count 0.0 Low count 276.0 High count 0.0\n",
      " Mid count 0.0 Low count 182.0 High count 94.0\n",
      " Mid count 0.0 Low count 182.0 High count 94.0\n",
      " Mid count 0.0 Low count 182.0 High count 94.0\n",
      " Mid count 0.0 Low count 182.0 High count 94.0\n",
      " Mid count 0.0 Low count 182.0 High count 94.0\n",
      " Mid count 0.0 Low count 276.0 High count 0.0\n",
      " Mid count 0.0 Low count 276.0 High count 0.0\n",
      " Mid count 0.0 Low count 182.0 High count 94.0\n",
      " Mid count 0.0 Low count 182.0 High count 94.0\n",
      " Mid count 0.0 Low count 192.0 High count 84.0\n",
      " Mid count 0.0 Low count 210.0 High count 66.0\n",
      " Mid count 0.0 Low count 182.0 High count 94.0\n",
      " Mid count 0.0 Low count 276.0 High count 0.0\n",
      " Mid count 0.0 Low count 276.0 High count 0.0\n",
      " Mid count 0.0 Low count 276.0 High count 0.0\n",
      " Mid count 0.0 Low count 276.0 High count 0.0\n",
      "-----Floor7Z5-----\n",
      " Mid count 0.0 Low count 261.0 High count 15.0\n",
      " Mid count 0.0 Low count 276.0 High count 0.0\n",
      " Mid count 0.0 Low count 276.0 High count 0.0\n",
      " Mid count 0.0 Low count 276.0 High count 0.0\n",
      " Mid count 0.0 Low count 264.0 High count 12.0\n",
      " Mid count 0.0 Low count 276.0 High count 0.0\n",
      " Mid count 0.0 Low count 260.0 High count 16.0\n",
      " Mid count 0.0 Low count 266.0 High count 10.0\n",
      " Mid count 0.0 Low count 276.0 High count 0.0\n",
      " Mid count 0.0 Low count 276.0 High count 0.0\n",
      " Mid count 0.0 Low count 276.0 High count 0.0\n",
      " Mid count 0.0 Low count 270.0 High count 6.0\n",
      " Mid count 0.0 Low count 265.0 High count 11.0\n",
      " Mid count 0.0 Low count 256.0 High count 20.0\n",
      " Mid count 0.0 Low count 258.0 High count 18.0\n",
      " Mid count 0.0 Low count 271.0 High count 5.0\n",
      " Mid count 0.0 Low count 276.0 High count 0.0\n",
      " Mid count 0.0 Low count 276.0 High count 0.0\n",
      " Mid count 0.0 Low count 241.0 High count 35.0\n",
      " Mid count 0.0 Low count 271.0 High count 5.0\n",
      " Mid count 0.0 Low count 263.0 High count 13.0\n",
      " Mid count 0.0 Low count 271.0 High count 5.0\n",
      " Mid count 0.0 Low count 268.0 High count 8.0\n",
      " Mid count 0.0 Low count 276.0 High count 0.0\n",
      " Mid count 0.0 Low count 276.0 High count 0.0\n",
      " Mid count 0.0 Low count 216.0 High count 60.0\n",
      " Mid count 0.0 Low count 255.0 High count 21.0\n",
      " Mid count 0.0 Low count 261.0 High count 15.0\n",
      " Mid count 0.0 Low count 276.0 High count 0.0\n",
      " Mid count 0.0 Low count 246.0 High count 30.0\n",
      " Mid count 0.0 Low count 276.0 High count 0.0\n",
      " Mid count 0.0 Low count 276.0 High count 0.0\n",
      " Mid count 0.0 Low count 276.0 High count 0.0\n",
      " Mid count 0.0 Low count 196.0 High count 80.0\n",
      " Mid count 0.0 Low count 204.0 High count 72.0\n",
      " Mid count 0.0 Low count 232.0 High count 44.0\n",
      " Mid count 0.0 Low count 276.0 High count 0.0\n",
      " Mid count 0.0 Low count 276.0 High count 0.0\n",
      " Mid count 0.0 Low count 276.0 High count 0.0\n",
      " Mid count 0.0 Low count 276.0 High count 0.0\n",
      " Mid count 0.0 Low count 276.0 High count 0.0\n",
      " Mid count 0.0 Low count 188.0 High count 88.0\n",
      " Mid count 0.0 Low count 194.0 High count 82.0\n",
      " Mid count 0.0 Low count 213.0 High count 63.0\n",
      " Mid count 0.0 Low count 276.0 High count 0.0\n",
      " Mid count 0.0 Low count 276.0 High count 0.0\n",
      " Mid count 0.0 Low count 194.0 High count 82.0\n",
      " Mid count 0.0 Low count 236.0 High count 40.0\n",
      " Mid count 0.0 Low count 237.0 High count 39.0\n",
      " Mid count 0.0 Low count 228.0 High count 48.0\n",
      " Mid count 0.0 Low count 218.0 High count 58.0\n",
      " Mid count 0.0 Low count 276.0 High count 0.0\n",
      " Mid count 0.0 Low count 276.0 High count 0.0\n",
      " Mid count 0.0 Low count 194.0 High count 82.0\n",
      " Mid count 0.0 Low count 202.0 High count 74.0\n",
      " Mid count 0.0 Low count 195.0 High count 81.0\n",
      " Mid count 0.0 Low count 232.0 High count 44.0\n",
      " Mid count 0.0 Low count 221.0 High count 55.0\n",
      " Mid count 0.0 Low count 276.0 High count 0.0\n",
      " Mid count 0.0 Low count 276.0 High count 0.0\n",
      " Mid count 0.0 Low count 276.0 High count 0.0\n",
      " Mid count 0.0 Low count 188.0 High count 88.0\n",
      " Mid count 0.0 Low count 191.0 High count 85.0\n",
      " Mid count 0.0 Low count 254.0 High count 22.0\n",
      " Mid count 0.0 Low count 201.0 High count 75.0\n",
      " Mid count 0.0 Low count 276.0 High count 0.0\n",
      " Mid count 0.0 Low count 276.0 High count 0.0\n",
      " Mid count 0.0 Low count 243.0 High count 33.0\n",
      " Mid count 0.0 Low count 276.0 High count 0.0\n",
      " Mid count 0.0 Low count 276.0 High count 0.0\n",
      " Mid count 0.0 Low count 276.0 High count 0.0\n",
      " Mid count 0.0 Low count 276.0 High count 0.0\n",
      " Mid count 0.0 Low count 276.0 High count 0.0\n",
      " Mid count 0.0 Low count 276.0 High count 0.0\n",
      " Mid count 0.0 Low count 276.0 High count 0.0\n",
      " Mid count 0.0 Low count 276.0 High count 0.0\n",
      " Mid count 0.0 Low count 276.0 High count 0.0\n",
      " Mid count 0.0 Low count 276.0 High count 0.0\n",
      " Mid count 0.0 Low count 276.0 High count 0.0\n",
      " Mid count 0.0 Low count 276.0 High count 0.0\n",
      " Mid count 0.0 Low count 276.0 High count 0.0\n",
      " Mid count 0.0 Low count 249.0 High count 27.0\n",
      " Mid count 0.0 Low count 262.0 High count 14.0\n",
      " Mid count 0.0 Low count 276.0 High count 0.0\n",
      " Mid count 0.0 Low count 276.0 High count 0.0\n",
      " Mid count 0.0 Low count 276.0 High count 0.0\n",
      " Mid count 0.0 Low count 276.0 High count 0.0\n",
      " Mid count 0.0 Low count 276.0 High count 0.0\n",
      " Mid count 0.0 Low count 276.0 High count 0.0\n",
      " Mid count 0.0 Low count 188.0 High count 88.0\n",
      " Mid count 0.0 Low count 217.0 High count 59.0\n",
      " Mid count 0.0 Low count 265.0 High count 11.0\n",
      " Mid count 0.0 Low count 276.0 High count 0.0\n",
      " Mid count 0.0 Low count 276.0 High count 0.0\n",
      " Mid count 0.0 Low count 276.0 High count 0.0\n",
      " Mid count 0.0 Low count 231.0 High count 45.0\n",
      " Mid count 0.0 Low count 258.0 High count 18.0\n",
      " Mid count 0.0 Low count 276.0 High count 0.0\n",
      " Mid count 0.0 Low count 263.0 High count 13.0\n",
      " Mid count 0.0 Low count 239.0 High count 37.0\n",
      " Mid count 0.0 Low count 276.0 High count 0.0\n",
      " Mid count 0.0 Low count 276.0 High count 0.0\n",
      " Mid count 0.0 Low count 240.0 High count 36.0\n",
      " Mid count 0.0 Low count 257.0 High count 19.0\n",
      " Mid count 0.0 Low count 273.0 High count 3.0\n",
      " Mid count 0.0 Low count 276.0 High count 0.0\n",
      " Mid count 0.0 Low count 238.0 High count 38.0\n"
     ]
    },
    {
     "name": "stdout",
     "output_type": "stream",
     "text": [
      " Mid count 0.0 Low count 224.0 High count 52.0\n",
      " Mid count 0.0 Low count 276.0 High count 0.0\n",
      " Mid count 0.0 Low count 214.0 High count 62.0\n",
      " Mid count 0.0 Low count 268.0 High count 8.0\n",
      " Mid count 0.0 Low count 254.0 High count 22.0\n",
      " Mid count 0.0 Low count 249.0 High count 27.0\n",
      " Mid count 0.0 Low count 265.0 High count 11.0\n",
      " Mid count 0.0 Low count 276.0 High count 0.0\n",
      " Mid count 0.0 Low count 276.0 High count 0.0\n",
      " Mid count 0.0 Low count 276.0 High count 0.0\n",
      " Mid count 0.0 Low count 276.0 High count 0.0\n",
      " Mid count 0.0 Low count 276.0 High count 0.0\n",
      " Mid count 0.0 Low count 276.0 High count 0.0\n",
      " Mid count 0.0 Low count 276.0 High count 0.0\n",
      " Mid count 0.0 Low count 276.0 High count 0.0\n",
      " Mid count 0.0 Low count 276.0 High count 0.0\n",
      " Mid count 0.0 Low count 276.0 High count 0.0\n",
      " Mid count 0.0 Low count 258.0 High count 18.0\n",
      " Mid count 0.0 Low count 276.0 High count 0.0\n",
      " Mid count 0.0 Low count 270.0 High count 6.0\n",
      " Mid count 0.0 Low count 242.0 High count 34.0\n",
      " Mid count 0.0 Low count 276.0 High count 0.0\n",
      " Mid count 0.0 Low count 276.0 High count 0.0\n",
      " Mid count 0.0 Low count 216.0 High count 60.0\n",
      " Mid count 0.0 Low count 276.0 High count 0.0\n",
      " Mid count 0.0 Low count 276.0 High count 0.0\n",
      " Mid count 0.0 Low count 194.0 High count 82.0\n",
      " Mid count 0.0 Low count 230.0 High count 46.0\n",
      " Mid count 0.0 Low count 276.0 High count 0.0\n",
      " Mid count 0.0 Low count 276.0 High count 0.0\n",
      " Mid count 0.0 Low count 204.0 High count 72.0\n",
      " Mid count 0.0 Low count 213.0 High count 63.0\n",
      " Mid count 0.0 Low count 253.0 High count 23.0\n",
      " Mid count 0.0 Low count 276.0 High count 0.0\n",
      " Mid count 0.0 Low count 276.0 High count 0.0\n",
      " Mid count 0.0 Low count 276.0 High count 0.0\n",
      " Mid count 0.0 Low count 276.0 High count 0.0\n",
      " Mid count 0.0 Low count 276.0 High count 0.0\n",
      " Mid count 0.0 Low count 202.0 High count 74.0\n",
      " Mid count 0.0 Low count 189.0 High count 87.0\n",
      " Mid count 0.0 Low count 250.0 High count 26.0\n",
      " Mid count 0.0 Low count 237.0 High count 39.0\n",
      " Mid count 0.0 Low count 276.0 High count 0.0\n",
      " Mid count 0.0 Low count 276.0 High count 0.0\n",
      " Mid count 0.0 Low count 267.0 High count 9.0\n",
      " Mid count 0.0 Low count 276.0 High count 0.0\n",
      " Mid count 0.0 Low count 247.0 High count 29.0\n",
      " Mid count 0.0 Low count 249.0 High count 27.0\n",
      " Mid count 0.0 Low count 264.0 High count 12.0\n",
      " Mid count 0.0 Low count 276.0 High count 0.0\n",
      " Mid count 0.0 Low count 276.0 High count 0.0\n",
      " Mid count 0.0 Low count 276.0 High count 0.0\n",
      " Mid count 0.0 Low count 238.0 High count 38.0\n",
      " Mid count 0.0 Low count 251.0 High count 25.0\n",
      " Mid count 0.0 Low count 214.0 High count 62.0\n",
      " Mid count 0.0 Low count 236.0 High count 40.0\n",
      " Mid count 0.0 Low count 276.0 High count 0.0\n",
      " Mid count 0.0 Low count 276.0 High count 0.0\n",
      " Mid count 0.0 Low count 212.0 High count 64.0\n",
      " Mid count 0.0 Low count 244.0 High count 32.0\n",
      " Mid count 0.0 Low count 265.0 High count 11.0\n",
      " Mid count 0.0 Low count 267.0 High count 9.0\n",
      " Mid count 0.0 Low count 276.0 High count 0.0\n",
      " Mid count 0.0 Low count 276.0 High count 0.0\n",
      " Mid count 0.0 Low count 276.0 High count 0.0\n",
      " Mid count 0.0 Low count 246.0 High count 30.0\n",
      " Mid count 0.0 Low count 273.0 High count 3.0\n",
      " Mid count 0.0 Low count 269.0 High count 7.0\n",
      " Mid count 0.0 Low count 260.0 High count 16.0\n",
      " Mid count 0.0 Low count 276.0 High count 0.0\n",
      " Mid count 0.0 Low count 276.0 High count 0.0\n",
      " Mid count 0.0 Low count 276.0 High count 0.0\n",
      " Mid count 0.0 Low count 243.0 High count 33.0\n",
      " Mid count 0.0 Low count 276.0 High count 0.0\n",
      " Mid count 0.0 Low count 276.0 High count 0.0\n",
      " Mid count 0.0 Low count 276.0 High count 0.0\n",
      " Mid count 0.0 Low count 276.0 High count 0.0\n",
      " Mid count 0.0 Low count 276.0 High count 0.0\n",
      " Mid count 0.0 Low count 276.0 High count 0.0\n",
      " Mid count 0.0 Low count 276.0 High count 0.0\n",
      " Mid count 0.0 Low count 276.0 High count 0.0\n",
      " Mid count 0.0 Low count 267.0 High count 9.0\n",
      " Mid count 0.0 Low count 260.0 High count 16.0\n",
      " Mid count 0.0 Low count 227.0 High count 49.0\n",
      " Mid count 0.0 Low count 276.0 High count 0.0\n",
      " Mid count 0.0 Low count 276.0 High count 0.0\n",
      " Mid count 0.0 Low count 260.0 High count 16.0\n",
      " Mid count 0.0 Low count 260.0 High count 16.0\n",
      " Mid count 0.0 Low count 276.0 High count 0.0\n",
      " Mid count 0.0 Low count 276.0 High count 0.0\n",
      " Mid count 0.0 Low count 276.0 High count 0.0\n",
      " Mid count 0.0 Low count 276.0 High count 0.0\n",
      " Mid count 0.0 Low count 276.0 High count 0.0\n",
      " Mid count 0.0 Low count 276.0 High count 0.0\n",
      " Mid count 0.0 Low count 276.0 High count 0.0\n",
      " Mid count 0.0 Low count 276.0 High count 0.0\n",
      " Mid count 0.0 Low count 276.0 High count 0.0\n",
      " Mid count 0.0 Low count 264.0 High count 12.0\n",
      " Mid count 0.0 Low count 276.0 High count 0.0\n",
      " Mid count 0.0 Low count 276.0 High count 0.0\n",
      " Mid count 0.0 Low count 238.0 High count 38.0\n",
      " Mid count 0.0 Low count 264.0 High count 12.0\n",
      " Mid count 0.0 Low count 251.0 High count 25.0\n",
      " Mid count 0.0 Low count 260.0 High count 16.0\n",
      " Mid count 0.0 Low count 262.0 High count 14.0\n",
      " Mid count 0.0 Low count 276.0 High count 0.0\n",
      " Mid count 0.0 Low count 276.0 High count 0.0\n",
      " Mid count 0.0 Low count 276.0 High count 0.0\n",
      " Mid count 0.0 Low count 276.0 High count 0.0\n",
      " Mid count 0.0 Low count 276.0 High count 0.0\n",
      " Mid count 0.0 Low count 276.0 High count 0.0\n",
      " Mid count 0.0 Low count 276.0 High count 0.0\n",
      " Mid count 0.0 Low count 276.0 High count 0.0\n",
      " Mid count 0.0 Low count 276.0 High count 0.0\n",
      " Mid count 0.0 Low count 276.0 High count 0.0\n",
      " Mid count 0.0 Low count 226.0 High count 50.0\n",
      " Mid count 0.0 Low count 253.0 High count 23.0\n",
      " Mid count 0.0 Low count 276.0 High count 0.0\n",
      " Mid count 0.0 Low count 257.0 High count 19.0\n",
      " Mid count 0.0 Low count 276.0 High count 0.0\n",
      " Mid count 0.0 Low count 276.0 High count 0.0\n",
      " Mid count 0.0 Low count 220.0 High count 56.0\n",
      " Mid count 0.0 Low count 248.0 High count 28.0\n",
      " Mid count 0.0 Low count 276.0 High count 0.0\n",
      " Mid count 0.0 Low count 205.0 High count 71.0\n",
      " Mid count 0.0 Low count 225.0 High count 51.0\n",
      " Mid count 0.0 Low count 276.0 High count 0.0\n",
      " Mid count 0.0 Low count 276.0 High count 0.0\n",
      " Mid count 0.0 Low count 213.0 High count 63.0\n",
      " Mid count 0.0 Low count 258.0 High count 18.0\n",
      " Mid count 0.0 Low count 276.0 High count 0.0\n",
      " Mid count 0.0 Low count 276.0 High count 0.0\n",
      " Mid count 0.0 Low count 276.0 High count 0.0\n",
      " Mid count 0.0 Low count 244.0 High count 32.0\n",
      " Mid count 0.0 Low count 276.0 High count 0.0\n",
      " Mid count 0.0 Low count 276.0 High count 0.0\n",
      " Mid count 0.0 Low count 276.0 High count 0.0\n",
      " Mid count 0.0 Low count 276.0 High count 0.0\n",
      " Mid count 0.0 Low count 276.0 High count 0.0\n",
      " Mid count 0.0 Low count 276.0 High count 0.0\n",
      " Mid count 0.0 Low count 276.0 High count 0.0\n",
      " Mid count 0.0 Low count 276.0 High count 0.0\n",
      " Mid count 0.0 Low count 276.0 High count 0.0\n",
      " Mid count 0.0 Low count 276.0 High count 0.0\n",
      " Mid count 0.0 Low count 276.0 High count 0.0\n",
      " Mid count 0.0 Low count 276.0 High count 0.0\n",
      " Mid count 0.0 Low count 276.0 High count 0.0\n",
      " Mid count 0.0 Low count 276.0 High count 0.0\n",
      " Mid count 0.0 Low count 276.0 High count 0.0\n",
      " Mid count 0.0 Low count 234.0 High count 42.0\n",
      " Mid count 0.0 Low count 276.0 High count 0.0\n",
      " Mid count 0.0 Low count 276.0 High count 0.0\n",
      " Mid count 0.0 Low count 276.0 High count 0.0\n",
      " Mid count 0.0 Low count 276.0 High count 0.0\n",
      " Mid count 0.0 Low count 276.0 High count 0.0\n",
      " Mid count 0.0 Low count 276.0 High count 0.0\n",
      " Mid count 0.0 Low count 248.0 High count 28.0\n",
      " Mid count 0.0 Low count 276.0 High count 0.0\n",
      " Mid count 0.0 Low count 268.0 High count 8.0\n",
      " Mid count 0.0 Low count 276.0 High count 0.0\n",
      " Mid count 0.0 Low count 276.0 High count 0.0\n",
      " Mid count 0.0 Low count 276.0 High count 0.0\n",
      " Mid count 0.0 Low count 276.0 High count 0.0\n",
      " Mid count 0.0 Low count 239.0 High count 37.0\n",
      " Mid count 0.0 Low count 276.0 High count 0.0\n",
      " Mid count 0.0 Low count 276.0 High count 0.0\n",
      " Mid count 0.0 Low count 276.0 High count 0.0\n",
      " Mid count 0.0 Low count 276.0 High count 0.0\n",
      " Mid count 0.0 Low count 276.0 High count 0.0\n",
      " Mid count 0.0 Low count 276.0 High count 0.0\n",
      " Mid count 0.0 Low count 276.0 High count 0.0\n",
      " Mid count 0.0 Low count 276.0 High count 0.0\n",
      " Mid count 0.0 Low count 276.0 High count 0.0\n",
      " Mid count 0.0 Low count 276.0 High count 0.0\n",
      " Mid count 0.0 Low count 276.0 High count 0.0\n",
      " Mid count 0.0 Low count 276.0 High count 0.0\n",
      " Mid count 0.0 Low count 276.0 High count 0.0\n",
      " Mid count 0.0 Low count 271.0 High count 5.0\n",
      " Mid count 0.0 Low count 276.0 High count 0.0\n",
      " Mid count 0.0 Low count 276.0 High count 0.0\n",
      " Mid count 0.0 Low count 266.0 High count 10.0\n",
      " Mid count 0.0 Low count 276.0 High count 0.0\n",
      " Mid count 0.0 Low count 276.0 High count 0.0\n",
      " Mid count 0.0 Low count 276.0 High count 0.0\n",
      " Mid count 0.0 Low count 255.0 High count 21.0\n",
      " Mid count 0.0 Low count 276.0 High count 0.0\n",
      " Mid count 0.0 Low count 276.0 High count 0.0\n",
      " Mid count 0.0 Low count 276.0 High count 0.0\n",
      " Mid count 0.0 Low count 276.0 High count 0.0\n",
      " Mid count 0.0 Low count 276.0 High count 0.0\n",
      " Mid count 0.0 Low count 276.0 High count 0.0\n",
      " Mid count 0.0 Low count 276.0 High count 0.0\n",
      " Mid count 0.0 Low count 276.0 High count 0.0\n"
     ]
    }
   ],
   "source": [
    "batch_size = 32\n",
    "seq_len = 13\n",
    "nb_zone = 5\n",
    "trainloader = []\n",
    "testloader = []\n",
    "for zone in range(1,nb_zone+1):\n",
    "    if zone != 3:\n",
    "        zoneID = f\"Floor{floor}Z{zone}\"\n",
    "        print(f'-----{zoneID}-----')\n",
    "        loaderZtrain = LoaderByZoneXY(databyDateX, databyDateY, zoneID, train_date,seq_len,batch_size, shuffle=True)\n",
    "        loaderZtest = LoaderByZoneXY(databyDateX, databyDateY, zoneID, test_date,seq_len,batch_size, shuffle=False)\n",
    "        trainloader.append(loaderZtrain)\n",
    "        testloader.append(loaderZtest)\n",
    "zone_no=len(trainloader)"
   ]
  },
  {
   "cell_type": "code",
   "execution_count": 441,
   "id": "98e21478",
   "metadata": {
    "ExecuteTime": {
     "end_time": "2021-08-24T15:27:26.408652Z",
     "start_time": "2021-08-24T15:27:26.405932Z"
    }
   },
   "outputs": [
    {
     "data": {
      "text/plain": [
       "504"
      ]
     },
     "execution_count": 441,
     "metadata": {},
     "output_type": "execute_result"
    }
   ],
   "source": [
    "nb_iterations = len(train_date)*len(trainloader[0][\"2019-03-08\"])\n",
    "nb_iterations"
   ]
  },
  {
   "cell_type": "markdown",
   "id": "9086d033",
   "metadata": {},
   "source": [
    "# Algorithm "
   ]
  },
  {
   "cell_type": "code",
   "execution_count": 442,
   "id": "ff1d2cda",
   "metadata": {
    "ExecuteTime": {
     "end_time": "2021-08-24T15:27:28.024380Z",
     "start_time": "2021-08-24T15:27:28.022735Z"
    }
   },
   "outputs": [],
   "source": [
    "import sys\n",
    "sys.path.append('../src/')"
   ]
  },
  {
   "cell_type": "code",
   "execution_count": 443,
   "id": "614ac2a2",
   "metadata": {
    "ExecuteTime": {
     "end_time": "2021-08-24T15:27:28.395729Z",
     "start_time": "2021-08-24T15:27:28.393952Z"
    }
   },
   "outputs": [],
   "source": [
    "from sklearn.metrics import f1_score, precision_score, recall_score, classification_report"
   ]
  },
  {
   "cell_type": "code",
   "execution_count": 444,
   "id": "bbcfcde7",
   "metadata": {
    "ExecuteTime": {
     "end_time": "2021-08-24T15:27:28.706713Z",
     "start_time": "2021-08-24T15:27:28.704880Z"
    }
   },
   "outputs": [],
   "source": [
    "from algoaux import *\n",
    "from optimizerDMFW import *\n",
    "#from trainer import *\n",
    "from graphs import *"
   ]
  },
  {
   "cell_type": "code",
   "execution_count": 176,
   "id": "7f58f5fc",
   "metadata": {
    "ExecuteTime": {
     "end_time": "2021-08-24T07:18:24.988751Z",
     "start_time": "2021-08-24T07:18:24.980148Z"
    },
    "code_folding": [
     0
    ]
   },
   "outputs": [],
   "source": [
    "class CNN1D(nn.Module):\n",
    "    def __init__(self,nb_chan_out, nb_classes, input_len,kernel_size):\n",
    "        super(CNN1D, self).__init__()\n",
    "        \n",
    "        #self.output_chan = \n",
    "        #self.output_len = output_l\n",
    "        self.input_len = input_len\n",
    "        \n",
    "        self.conv1d = nn.Conv1d(in_channels=1, out_channels=nb_chan_out, kernel_size=kernel_size, stride=1, \n",
    "                                padding=int(np.floor(kernel_size/2)))\n",
    "        \n",
    "        \n",
    "        self.maxpool = nn.MaxPool1d(3)\n",
    "        self.batchnorm = nn.BatchNorm1d(nb_chan_out)\n",
    "        self.fc1 = nn.Linear(nb_chan_out*int((input_len/3)),nb_classes, bias=True)\n",
    "        #self.fc2 = nn.Linear(16, nb_classes, bias=True)\n",
    "        \n",
    "    def forward(self, x):\n",
    "        inputs = x.permute(0,2,1)\n",
    "        #print(inputs.shape)\n",
    "        out = self.conv1d(inputs)\n",
    "        out = self.batchnorm(out)\n",
    "        #print(out.shape)\n",
    "        out = self.maxpool(out)\n",
    "        #print(out.shape)\n",
    "        out = nn.LeakyReLU()(out)\n",
    "        \n",
    "        out = out.view(-1, out.shape[1]*out.shape[2])\n",
    "        \n",
    "        out = self.fc1(out)\n",
    "        #out = nn.LeakyReLU()(out)\n",
    "        #out = self.fc2(out)\n",
    "        return out"
   ]
  },
  {
   "cell_type": "code",
   "execution_count": 207,
   "id": "ab0982cb",
   "metadata": {
    "ExecuteTime": {
     "end_time": "2021-08-24T07:49:04.921085Z",
     "start_time": "2021-08-24T07:49:04.879109Z"
    },
    "code_folding": [
     0
    ]
   },
   "outputs": [],
   "source": [
    "class Trainer:\n",
    "    def __init__(self, graph, loaders, model, model_param, loss,\n",
    "                 num_iterations):\n",
    "        self.graph = graph\n",
    "        self.num_nodes = graph.number_of_nodes()\n",
    "        self.model = model\n",
    "        self.param = model_param\n",
    "        self.A = torch.tensor(nx.adjacency_matrix(graph).toarray())\n",
    "        self.dataloader = loaders\n",
    "        self.num_iterations = num_iterations\n",
    "        self.loss = loss\n",
    "        self.obj_values = np.ndarray((self.num_iterations + 1, 4),\n",
    "                                     dtype='float')\n",
    "\n",
    "        self.optimizers = [0.] * self.num_nodes\n",
    "        self.models = [0.] * self.num_nodes\n",
    "        self.losses = [0.] * self.num_nodes\n",
    "        self.class_weights = weights\n",
    "        #self.gaps = [0.]*self.num_nodes\n",
    "\n",
    "    def reset(self):\n",
    "        self.optimizers = [0.] * self.num_nodes\n",
    "        self.models = [0.] * self.num_nodes\n",
    "        self.losses = [0.] * self.num_nodes\n",
    "        self.gaps = [0.] * self.num_nodes\n",
    "        self.best_models = [0.]*self.num_nodes\n",
    "        self.acc = [0.]*self.num_nodes\n",
    "        self.f1 = [0.]*self.num_nodes\n",
    "        self.loss_function = [self.loss(weight = torch.tensor(weights[\"Floor7Z1\"], dtype=torch.float)),\n",
    "                             self.loss(weight = torch.tensor(weights[\"Floor7Z2\"], dtype=torch.float)),\n",
    "                             self.loss(weight = torch.tensor(weights[\"Floor7Z4\"], dtype=torch.float)),\n",
    "                             self.loss(weight = torch.tensor(weights['Floor7Z5'], dtype=torch.float))]\n",
    "\n",
    "        self.obj_values = np.ndarray((self.num_iterations + 1, 7),\n",
    "                                     dtype='float')\n",
    "        \n",
    "    def __nodeInit(self, data, label):\n",
    "        nodewrap = TensorDataset(data, label)\n",
    "        nodes = DataLoader(nodewrap, batch_size=data.size(0), shuffle=False)\n",
    "        return nodes\n",
    "\n",
    "    def weight_reset(self, layer):\n",
    "        if isinstance(layer, nn.BatchNorm1d) or isinstance(layer, nn.Linear) or isinstance(layer,nn.Conv1d):\n",
    "            layer.reset_parameters()\n",
    "            \n",
    "    def initModelWeight(self, model):\n",
    "        for name,param in model.named_parameters():\n",
    "            if 'bias' in name:\n",
    "                nn.init.constant_(param,0.)\n",
    "            elif 'weight' in name:\n",
    "                if not 'batch' in name:\n",
    "                    nn.init.xavier_normal_(param)\n",
    "                else:\n",
    "                    nn.init.uniform_(param)\n",
    "\n",
    "    def saveCheckPts(self, t, path):\n",
    "        check_pts = {}\n",
    "        for i in range(self.num_nodes):\n",
    "            ckp_i = {\n",
    "                \"t\": t,\n",
    "                \"weight\": [param for param in self.models[i].parameters()],\n",
    "                \"optimizer_weight\": self.optimizers[i].w_dict,\n",
    "                \"oracles\": self.optimizers[i].G,\n",
    "                \"loss\": self.losses[i]\n",
    "            }  #,\n",
    "            #\"avg_loss\": self.avg_loss[i]}\n",
    "            check_pts[i] = ckp_i\n",
    "        torch.save(check_pts, path + \"checkpts_models\" + \"_\" + str(t) + \".tar\")\n",
    "        \n",
    "    def plotPrediction(self, true, pred,date,path_to_save):\n",
    "        fig = plt.figure(figsize=(5,3))\n",
    "        plt.suptitle(\"{}\".format(date))\n",
    "        plt.plot(true)\n",
    "        plt.plot(pred)\n",
    "        #plt.show()\n",
    "        fig.savefig(os.path.join(path_to_save,date))\n",
    "        plt.close()\n",
    "\n",
    "    def train(self, optimizer, L, eta_coef, eta_exp, reg_coef, radius, path_figure_date):\n",
    "        seed_everything()\n",
    "        self.reset()\n",
    "\n",
    "        days= list(self.dataloader[0].keys())\n",
    "\n",
    "        for i in range(self.num_nodes):\n",
    "            self.models[i] = self.model(*self.param)\n",
    "            self.optimizers[i] = optimizer(self.models[i].parameters(),\n",
    "                                           eta_coef=eta_coef,\n",
    "                                           eta_exp=eta_exp,\n",
    "                                           L=L,\n",
    "                                           matrix_line=self.A[i],\n",
    "                                           reg_coef=reg_coef,\n",
    "                                           radius=radius)\n",
    "            self.best_models[i] = copy.deepcopy(self.models[i])\n",
    "\n",
    "        self.final_gap = [0.] * self.num_nodes\n",
    "        \n",
    "        t = 0\n",
    "        \n",
    "        for date in days:\n",
    "            acc_node = [0.]*self.num_nodes\n",
    "            f1_node = [0.]*self.num_nodes\n",
    "            prec_node = [0.]*self.num_nodes\n",
    "            rec_node = [0.]*self.num_nodes\n",
    "            for i,loader in enumerate(self.dataloader):\n",
    "                acc_node[i], f1_node[i], prec_node[i], rec_node[i]  = ModelPrediction(self.best_models[i], date, loader)\n",
    "                #if len(truez)==0 or len(predz)==0 : continue\n",
    "            acc = np.mean(acc_node)\n",
    "            f1  = np.mean(f1_node)\n",
    "            prec = np.mean(prec_node)\n",
    "            rec = np.mean(rec_node)\n",
    "\n",
    "\n",
    "            z1, z2, z4, z5  = self.dataloader\n",
    "\n",
    "            for (couple1, couple2, couple4, couple5) in zip(z1[date],z2[date], z4[date], z5[date]):\n",
    "                datazones = [self.__nodeInit(*couple1), \n",
    "                             self.__nodeInit(*couple2),\n",
    "                             self.__nodeInit(*couple4),\n",
    "                             self.__nodeInit(*couple5)]\n",
    "\n",
    "                for i in range(self.num_nodes):\n",
    "                    self.initModelWeight(self.models[i])\n",
    "                    self.models[i].train()\n",
    "\n",
    "\n",
    "                    def closure():\n",
    "                        self.optimizers[i].zero_grad(set_to_none=True)\n",
    "                        x, y = iter(datazones[i]).next()\n",
    "                        output = self.models[i](x)\n",
    "                        loss = self.loss_function[i](output,y)\n",
    "                        loss.backward()\n",
    "\n",
    "                    self.optimizers[i].initValue(closure)\n",
    "                # import pdb; pdb.set_trace()\n",
    "\n",
    "                opt_index = np.random.randint(low=0,high=L, size=1)\n",
    "\n",
    "\n",
    "                for l in range(L):\n",
    "                    #print(\"--------------------------\")\n",
    "\n",
    "                    if l==opt_index:\n",
    "                        for i in range(self.num_nodes):\n",
    "                            self.best_models[i] = copy.deepcopy(self.models[i])\n",
    "\n",
    "\n",
    "                    for i in range(self.num_nodes):\n",
    "                        self.optimizers[i].neighborsAverage(self.optimizers)\n",
    "                        \n",
    "                    for i in range(self.num_nodes):\n",
    "                        \n",
    "                        def closure():\n",
    "                            self.optimizers[i].zero_grad(set_to_none=True)\n",
    "                            x, y = iter(datazones[i]).next()\n",
    "                            output = self.models[i](x)\n",
    "                            loss = self.loss_function[i](output, y)\n",
    "                            loss.backward()\n",
    "                            \n",
    "                        self.optimizers[i].step(l, closure)\n",
    "\n",
    "                self.gaps_off = [0.] * self.num_nodes\n",
    "                for i in range(self.num_nodes):\n",
    "                    total = 0.\n",
    "                    correct = 0.\n",
    "                    with torch.no_grad():\n",
    "                        self.models[i].eval()\n",
    "                        x, y = iter(datazones[i]).next()\n",
    "                        outputs = self.best_models[i](x)\n",
    "                        curr_loss = self.loss_function[i](outputs, y)\n",
    "                        \n",
    "                        _, predicted = torch.max(outputs,1)\n",
    "                        total += y.size(0)\n",
    "                        correct += (predicted == y).sum().item()\n",
    "                        \n",
    "                        true, pred = y.detach().numpy(), predicted.detach().numpy()\n",
    "                    #self.acc[i] = correct/total\n",
    "                    #self.f1[i] = f1_score(true, pred, average='weighted')\n",
    "                    self.final_gap[i] += self.optimizers[i].init_gap\n",
    "                    self.final_gap[i] /= (t + 1)\n",
    "                    self.gaps_off[i] = self.optimizers[i].init_gap\n",
    "                    self.losses[i] = curr_loss.detach().numpy()\n",
    "\n",
    "                loss = np.mean(self.losses)\n",
    "                #acc = np.mean(self.acc)\n",
    "                #f1 = np.mean(self.f1)\n",
    "                gap = np.max(self.final_gap)  #.detach().numpy(\n",
    "                local_gap = np.max(self.gaps_off)\n",
    "                if t % 1 == 0:\n",
    "                    print(\"t_{} : loss : {:.5f} gap : {:.5f} acc {:.5f} f1 {:.5f} precision {:.5f} recall {:.5f}\".format(\n",
    "                        t, loss, gap, acc, f1, prec, rec))\n",
    "                    #print(f't : {t} acc : {acc} f1 : {f1} prec : {prec} recall : {recall}')\n",
    "                try:\n",
    "                    self.obj_values[t, :] = [t, loss, gap, acc, f1, prec, rec]\n",
    "                except:\n",
    "                    print (\"problem in Training Process... Skipping for debug...\")\n",
    "                    # import pdb; pdb.set_trace()\n",
    "                    \n",
    "                t+=1\n",
    "        return self.obj_values"
   ]
  },
  {
   "cell_type": "code",
   "execution_count": 208,
   "id": "af2f65d0",
   "metadata": {
    "ExecuteTime": {
     "end_time": "2021-08-24T07:49:05.540058Z",
     "start_time": "2021-08-24T07:49:05.536425Z"
    }
   },
   "outputs": [],
   "source": [
    "loss_fn = nn.CrossEntropyLoss\n",
    "num_iters_base = nb_iterations\n",
    "eta_coef_DMFW = 1\n",
    "eta_exp_DMFW = 0.75\n",
    "rho_coef_DMFW = 4e-0\n",
    "rho_exp_DMFW = 1/2\n",
    "reg_coef_DMFW = 10\n",
    "L_DMFW = nb_iterations"
   ]
  },
  {
   "cell_type": "code",
   "execution_count": 209,
   "id": "5a632aa8",
   "metadata": {
    "ExecuteTime": {
     "end_time": "2021-08-24T07:49:06.139390Z",
     "start_time": "2021-08-24T07:49:06.134235Z"
    }
   },
   "outputs": [],
   "source": [
    "complet ,_ = completegraph(4)\n",
    "cycle, _ = cycle_graph(4)\n",
    "grid, _ = gridgraph(2,2)\n",
    "line, _ = gridgraph(4,1)"
   ]
  },
  {
   "cell_type": "code",
   "execution_count": 210,
   "id": "b1f136d3",
   "metadata": {
    "ExecuteTime": {
     "end_time": "2021-08-24T07:49:06.836300Z",
     "start_time": "2021-08-24T07:49:06.832285Z"
    }
   },
   "outputs": [],
   "source": [
    "trainXMFW = Trainer(cycle,trainloader,CNN1D, (8,3,seq_len,3), loss_fn,num_iters_base)"
   ]
  },
  {
   "cell_type": "code",
   "execution_count": 211,
   "id": "2879830f",
   "metadata": {
    "ExecuteTime": {
     "end_time": "2021-08-24T08:35:25.796395Z",
     "start_time": "2021-08-24T07:49:07.285426Z"
    },
    "scrolled": true
   },
   "outputs": [
    {
     "name": "stderr",
     "output_type": "stream",
     "text": [
      "/Users/Slaton/miniforge3/envs/tf_macos/lib/python3.8/site-packages/sklearn/metrics/_classification.py:1248: UndefinedMetricWarning: Precision is ill-defined and being set to 0.0 in labels with no predicted samples. Use `zero_division` parameter to control this behavior.\n",
      "  _warn_prf(average, modifier, msg_start, len(result))\n",
      "/Users/Slaton/miniforge3/envs/tf_macos/lib/python3.8/site-packages/sklearn/metrics/_classification.py:1248: UndefinedMetricWarning: Recall is ill-defined and being set to 0.0 in labels with no true samples. Use `zero_division` parameter to control this behavior.\n",
      "  _warn_prf(average, modifier, msg_start, len(result))\n",
      "/Users/Slaton/miniforge3/envs/tf_macos/lib/python3.8/site-packages/sklearn/metrics/_classification.py:1248: UndefinedMetricWarning: Precision is ill-defined and being set to 0.0 in labels with no predicted samples. Use `zero_division` parameter to control this behavior.\n",
      "  _warn_prf(average, modifier, msg_start, len(result))\n",
      "/Users/Slaton/miniforge3/envs/tf_macos/lib/python3.8/site-packages/sklearn/metrics/_classification.py:1248: UndefinedMetricWarning: Precision is ill-defined and being set to 0.0 in labels with no predicted samples. Use `zero_division` parameter to control this behavior.\n",
      "  _warn_prf(average, modifier, msg_start, len(result))\n",
      "/Users/Slaton/miniforge3/envs/tf_macos/lib/python3.8/site-packages/sklearn/metrics/_classification.py:1248: UndefinedMetricWarning: Recall is ill-defined and being set to 0.0 in labels with no true samples. Use `zero_division` parameter to control this behavior.\n",
      "  _warn_prf(average, modifier, msg_start, len(result))\n",
      "/Users/Slaton/miniforge3/envs/tf_macos/lib/python3.8/site-packages/sklearn/metrics/_classification.py:1248: UndefinedMetricWarning: Precision is ill-defined and being set to 0.0 in labels with no predicted samples. Use `zero_division` parameter to control this behavior.\n",
      "  _warn_prf(average, modifier, msg_start, len(result))\n"
     ]
    },
    {
     "name": "stdout",
     "output_type": "stream",
     "text": [
      "t_0 : loss : 1.09685 gap : 0.00559 acc 0.13867 f1 0.10740 precision 0.19897 recall 0.13867\n",
      "t_1 : loss : 0.72449 gap : 0.00347 acc 0.13867 f1 0.10740 precision 0.19897 recall 0.13867\n",
      "t_2 : loss : 0.72471 gap : 0.00150 acc 0.13867 f1 0.10740 precision 0.19897 recall 0.13867\n",
      "t_3 : loss : 0.76719 gap : 0.00124 acc 0.13867 f1 0.10740 precision 0.19897 recall 0.13867\n",
      "t_4 : loss : 0.90252 gap : 0.00128 acc 0.13867 f1 0.10740 precision 0.19897 recall 0.13867\n",
      "t_5 : loss : 0.80180 gap : 0.00206 acc 0.13867 f1 0.10740 precision 0.19897 recall 0.13867\n",
      "t_6 : loss : 0.83625 gap : 0.00093 acc 0.13867 f1 0.10740 precision 0.19897 recall 0.13867\n",
      "t_7 : loss : 0.86619 gap : 0.00105 acc 0.13867 f1 0.10740 precision 0.19897 recall 0.13867\n"
     ]
    },
    {
     "name": "stderr",
     "output_type": "stream",
     "text": [
      "/Users/Slaton/miniforge3/envs/tf_macos/lib/python3.8/site-packages/sklearn/metrics/_classification.py:1248: UndefinedMetricWarning: Precision is ill-defined and being set to 0.0 in labels with no predicted samples. Use `zero_division` parameter to control this behavior.\n",
      "  _warn_prf(average, modifier, msg_start, len(result))\n",
      "/Users/Slaton/miniforge3/envs/tf_macos/lib/python3.8/site-packages/sklearn/metrics/_classification.py:1248: UndefinedMetricWarning: Recall is ill-defined and being set to 0.0 in labels with no true samples. Use `zero_division` parameter to control this behavior.\n",
      "  _warn_prf(average, modifier, msg_start, len(result))\n"
     ]
    },
    {
     "name": "stdout",
     "output_type": "stream",
     "text": [
      "t_8 : loss : 0.75840 gap : 0.00100 acc 0.85254 f1 0.84817 precision 0.84597 recall 0.85254\n",
      "t_9 : loss : 1.07739 gap : 0.00050 acc 0.85254 f1 0.84817 precision 0.84597 recall 0.85254\n",
      "t_10 : loss : 0.91413 gap : 0.00060 acc 0.85254 f1 0.84817 precision 0.84597 recall 0.85254\n",
      "t_11 : loss : 0.83838 gap : 0.00040 acc 0.85254 f1 0.84817 precision 0.84597 recall 0.85254\n",
      "t_12 : loss : 0.69033 gap : 0.00021 acc 0.85254 f1 0.84817 precision 0.84597 recall 0.85254\n",
      "t_13 : loss : 0.79174 gap : 0.00025 acc 0.85254 f1 0.84817 precision 0.84597 recall 0.85254\n",
      "t_14 : loss : 0.73467 gap : 0.00022 acc 0.85254 f1 0.84817 precision 0.84597 recall 0.85254\n",
      "t_15 : loss : 0.64205 gap : 0.00019 acc 0.85254 f1 0.84817 precision 0.84597 recall 0.85254\n",
      "t_16 : loss : 0.44993 gap : 0.00024 acc 1.00000 f1 1.00000 precision 1.00000 recall 1.00000\n",
      "t_17 : loss : 0.23521 gap : 0.00008 acc 1.00000 f1 1.00000 precision 1.00000 recall 1.00000\n",
      "t_18 : loss : 0.22084 gap : 0.00003 acc 1.00000 f1 1.00000 precision 1.00000 recall 1.00000\n",
      "t_19 : loss : 0.08195 gap : 0.00002 acc 1.00000 f1 1.00000 precision 1.00000 recall 1.00000\n",
      "t_20 : loss : 0.06006 gap : 0.00002 acc 1.00000 f1 1.00000 precision 1.00000 recall 1.00000\n",
      "t_21 : loss : 0.05510 gap : 0.00002 acc 1.00000 f1 1.00000 precision 1.00000 recall 1.00000\n",
      "t_22 : loss : 0.05778 gap : 0.00002 acc 1.00000 f1 1.00000 precision 1.00000 recall 1.00000\n",
      "t_23 : loss : 0.06506 gap : 0.00002 acc 1.00000 f1 1.00000 precision 1.00000 recall 1.00000\n",
      "t_24 : loss : 0.02767 gap : 0.00001 acc 1.00000 f1 1.00000 precision 1.00000 recall 1.00000\n",
      "t_25 : loss : 0.02332 gap : 0.00001 acc 1.00000 f1 1.00000 precision 1.00000 recall 1.00000\n",
      "t_26 : loss : 0.02655 gap : 0.00001 acc 1.00000 f1 1.00000 precision 1.00000 recall 1.00000\n",
      "t_27 : loss : 0.02476 gap : 0.00001 acc 1.00000 f1 1.00000 precision 1.00000 recall 1.00000\n",
      "t_28 : loss : 0.01452 gap : 0.00001 acc 1.00000 f1 1.00000 precision 1.00000 recall 1.00000\n",
      "t_29 : loss : 0.02457 gap : 0.00001 acc 1.00000 f1 1.00000 precision 1.00000 recall 1.00000\n",
      "t_30 : loss : 0.01117 gap : 0.00000 acc 1.00000 f1 1.00000 precision 1.00000 recall 1.00000\n",
      "t_31 : loss : 0.01492 gap : 0.00000 acc 1.00000 f1 1.00000 precision 1.00000 recall 1.00000\n"
     ]
    },
    {
     "name": "stderr",
     "output_type": "stream",
     "text": [
      "/Users/Slaton/miniforge3/envs/tf_macos/lib/python3.8/site-packages/sklearn/metrics/_classification.py:1248: UndefinedMetricWarning: Precision is ill-defined and being set to 0.0 in labels with no predicted samples. Use `zero_division` parameter to control this behavior.\n",
      "  _warn_prf(average, modifier, msg_start, len(result))\n",
      "/Users/Slaton/miniforge3/envs/tf_macos/lib/python3.8/site-packages/sklearn/metrics/_classification.py:1248: UndefinedMetricWarning: Precision is ill-defined and being set to 0.0 in labels with no predicted samples. Use `zero_division` parameter to control this behavior.\n",
      "  _warn_prf(average, modifier, msg_start, len(result))\n",
      "/Users/Slaton/miniforge3/envs/tf_macos/lib/python3.8/site-packages/sklearn/metrics/_classification.py:1248: UndefinedMetricWarning: Precision is ill-defined and being set to 0.0 in labels with no predicted samples. Use `zero_division` parameter to control this behavior.\n",
      "  _warn_prf(average, modifier, msg_start, len(result))\n",
      "/Users/Slaton/miniforge3/envs/tf_macos/lib/python3.8/site-packages/sklearn/metrics/_classification.py:1248: UndefinedMetricWarning: Precision is ill-defined and being set to 0.0 in labels with no predicted samples. Use `zero_division` parameter to control this behavior.\n",
      "  _warn_prf(average, modifier, msg_start, len(result))\n"
     ]
    },
    {
     "name": "stdout",
     "output_type": "stream",
     "text": [
      "t_32 : loss : 1.90146 gap : 0.00268 acc 0.65625 f1 0.52009 precision 0.43076 recall 0.65625\n",
      "t_33 : loss : 0.94736 gap : 0.00025 acc 0.65625 f1 0.52009 precision 0.43076 recall 0.65625\n",
      "t_34 : loss : 0.76757 gap : 0.00009 acc 0.65625 f1 0.52009 precision 0.43076 recall 0.65625\n",
      "t_35 : loss : 0.72839 gap : 0.00010 acc 0.65625 f1 0.52009 precision 0.43076 recall 0.65625\n",
      "t_36 : loss : 0.71984 gap : 0.00007 acc 0.65625 f1 0.52009 precision 0.43076 recall 0.65625\n",
      "t_37 : loss : 0.70570 gap : 0.00015 acc 0.65625 f1 0.52009 precision 0.43076 recall 0.65625\n",
      "t_38 : loss : 0.66298 gap : 0.00006 acc 0.65625 f1 0.52009 precision 0.43076 recall 0.65625\n",
      "t_39 : loss : 0.63808 gap : 0.00011 acc 0.65625 f1 0.52009 precision 0.43076 recall 0.65625\n"
     ]
    },
    {
     "name": "stderr",
     "output_type": "stream",
     "text": [
      "/Users/Slaton/miniforge3/envs/tf_macos/lib/python3.8/site-packages/sklearn/metrics/_classification.py:1248: UndefinedMetricWarning: Precision is ill-defined and being set to 0.0 in labels with no predicted samples. Use `zero_division` parameter to control this behavior.\n",
      "  _warn_prf(average, modifier, msg_start, len(result))\n",
      "/Users/Slaton/miniforge3/envs/tf_macos/lib/python3.8/site-packages/sklearn/metrics/_classification.py:1248: UndefinedMetricWarning: Precision is ill-defined and being set to 0.0 in labels with no predicted samples. Use `zero_division` parameter to control this behavior.\n",
      "  _warn_prf(average, modifier, msg_start, len(result))\n"
     ]
    },
    {
     "name": "stdout",
     "output_type": "stream",
     "text": [
      "t_40 : loss : 0.66865 gap : 0.00006 acc 0.87012 f1 0.85099 precision 0.84262 recall 0.87012\n",
      "t_41 : loss : 0.72083 gap : 0.00007 acc 0.87012 f1 0.85099 precision 0.84262 recall 0.87012\n",
      "t_42 : loss : 0.81659 gap : 0.00012 acc 0.87012 f1 0.85099 precision 0.84262 recall 0.87012\n",
      "t_43 : loss : 0.74079 gap : 0.00007 acc 0.87012 f1 0.85099 precision 0.84262 recall 0.87012\n",
      "t_44 : loss : 0.70316 gap : 0.00002 acc 0.87012 f1 0.85099 precision 0.84262 recall 0.87012\n",
      "t_45 : loss : 0.67924 gap : 0.00003 acc 0.87012 f1 0.85099 precision 0.84262 recall 0.87012\n",
      "t_46 : loss : 0.62270 gap : 0.00005 acc 0.87012 f1 0.85099 precision 0.84262 recall 0.87012\n",
      "t_47 : loss : 0.74004 gap : 0.00006 acc 0.87012 f1 0.85099 precision 0.84262 recall 0.87012\n"
     ]
    },
    {
     "name": "stderr",
     "output_type": "stream",
     "text": [
      "/Users/Slaton/miniforge3/envs/tf_macos/lib/python3.8/site-packages/sklearn/metrics/_classification.py:1248: UndefinedMetricWarning: Precision is ill-defined and being set to 0.0 in labels with no predicted samples. Use `zero_division` parameter to control this behavior.\n",
      "  _warn_prf(average, modifier, msg_start, len(result))\n",
      "/Users/Slaton/miniforge3/envs/tf_macos/lib/python3.8/site-packages/sklearn/metrics/_classification.py:1248: UndefinedMetricWarning: Recall is ill-defined and being set to 0.0 in labels with no true samples. Use `zero_division` parameter to control this behavior.\n",
      "  _warn_prf(average, modifier, msg_start, len(result))\n",
      "/Users/Slaton/miniforge3/envs/tf_macos/lib/python3.8/site-packages/sklearn/metrics/_classification.py:1248: UndefinedMetricWarning: Precision is ill-defined and being set to 0.0 in labels with no predicted samples. Use `zero_division` parameter to control this behavior.\n",
      "  _warn_prf(average, modifier, msg_start, len(result))\n"
     ]
    },
    {
     "name": "stdout",
     "output_type": "stream",
     "text": [
      "t_48 : loss : 0.82296 gap : 0.00018 acc 0.81348 f1 0.78069 precision 0.76019 recall 0.81348\n",
      "t_49 : loss : 0.77996 gap : 0.00013 acc 0.81348 f1 0.78069 precision 0.76019 recall 0.81348\n",
      "t_50 : loss : 0.74817 gap : 0.00005 acc 0.81348 f1 0.78069 precision 0.76019 recall 0.81348\n",
      "t_51 : loss : 0.78591 gap : 0.00008 acc 0.81348 f1 0.78069 precision 0.76019 recall 0.81348\n",
      "t_52 : loss : 0.78212 gap : 0.00005 acc 0.81348 f1 0.78069 precision 0.76019 recall 0.81348\n",
      "t_53 : loss : 0.74220 gap : 0.00009 acc 0.81348 f1 0.78069 precision 0.76019 recall 0.81348\n",
      "t_54 : loss : 0.69980 gap : 0.00008 acc 0.81348 f1 0.78069 precision 0.76019 recall 0.81348\n",
      "t_55 : loss : 0.72779 gap : 0.00007 acc 0.81348 f1 0.78069 precision 0.76019 recall 0.81348\n"
     ]
    },
    {
     "name": "stderr",
     "output_type": "stream",
     "text": [
      "/Users/Slaton/miniforge3/envs/tf_macos/lib/python3.8/site-packages/sklearn/metrics/_classification.py:1248: UndefinedMetricWarning: Recall is ill-defined and being set to 0.0 in labels with no true samples. Use `zero_division` parameter to control this behavior.\n",
      "  _warn_prf(average, modifier, msg_start, len(result))\n",
      "/Users/Slaton/miniforge3/envs/tf_macos/lib/python3.8/site-packages/sklearn/metrics/_classification.py:1248: UndefinedMetricWarning: Recall is ill-defined and being set to 0.0 in labels with no true samples. Use `zero_division` parameter to control this behavior.\n",
      "  _warn_prf(average, modifier, msg_start, len(result))\n"
     ]
    },
    {
     "name": "stdout",
     "output_type": "stream",
     "text": [
      "t_56 : loss : 0.71445 gap : 0.00007 acc 0.78613 f1 0.80012 precision 0.94081 recall 0.78613\n",
      "t_57 : loss : 0.73414 gap : 0.00005 acc 0.78613 f1 0.80012 precision 0.94081 recall 0.78613\n",
      "t_58 : loss : 0.78171 gap : 0.00006 acc 0.78613 f1 0.80012 precision 0.94081 recall 0.78613\n",
      "t_59 : loss : 0.77280 gap : 0.00004 acc 0.78613 f1 0.80012 precision 0.94081 recall 0.78613\n",
      "t_60 : loss : 0.71968 gap : 0.00005 acc 0.78613 f1 0.80012 precision 0.94081 recall 0.78613\n",
      "t_61 : loss : 0.75159 gap : 0.00004 acc 0.78613 f1 0.80012 precision 0.94081 recall 0.78613\n",
      "t_62 : loss : 0.72129 gap : 0.00005 acc 0.78613 f1 0.80012 precision 0.94081 recall 0.78613\n",
      "t_63 : loss : 0.76073 gap : 0.00006 acc 0.78613 f1 0.80012 precision 0.94081 recall 0.78613\n"
     ]
    },
    {
     "name": "stderr",
     "output_type": "stream",
     "text": [
      "/Users/Slaton/miniforge3/envs/tf_macos/lib/python3.8/site-packages/sklearn/metrics/_classification.py:1248: UndefinedMetricWarning: Precision is ill-defined and being set to 0.0 in labels with no predicted samples. Use `zero_division` parameter to control this behavior.\n",
      "  _warn_prf(average, modifier, msg_start, len(result))\n",
      "/Users/Slaton/miniforge3/envs/tf_macos/lib/python3.8/site-packages/sklearn/metrics/_classification.py:1248: UndefinedMetricWarning: Recall is ill-defined and being set to 0.0 in labels with no true samples. Use `zero_division` parameter to control this behavior.\n",
      "  _warn_prf(average, modifier, msg_start, len(result))\n",
      "/Users/Slaton/miniforge3/envs/tf_macos/lib/python3.8/site-packages/sklearn/metrics/_classification.py:1248: UndefinedMetricWarning: Precision is ill-defined and being set to 0.0 in labels with no predicted samples. Use `zero_division` parameter to control this behavior.\n",
      "  _warn_prf(average, modifier, msg_start, len(result))\n",
      "/Users/Slaton/miniforge3/envs/tf_macos/lib/python3.8/site-packages/sklearn/metrics/_classification.py:1248: UndefinedMetricWarning: Recall is ill-defined and being set to 0.0 in labels with no true samples. Use `zero_division` parameter to control this behavior.\n",
      "  _warn_prf(average, modifier, msg_start, len(result))\n"
     ]
    },
    {
     "name": "stdout",
     "output_type": "stream",
     "text": [
      "t_64 : loss : 0.77105 gap : 0.00010 acc 0.78027 f1 0.78329 precision 0.78716 recall 0.78027\n",
      "t_65 : loss : 0.70323 gap : 0.00006 acc 0.78027 f1 0.78329 precision 0.78716 recall 0.78027\n",
      "t_66 : loss : 0.85222 gap : 0.00009 acc 0.78027 f1 0.78329 precision 0.78716 recall 0.78027\n",
      "t_67 : loss : 0.76768 gap : 0.00004 acc 0.78027 f1 0.78329 precision 0.78716 recall 0.78027\n",
      "t_68 : loss : 0.73833 gap : 0.00009 acc 0.78027 f1 0.78329 precision 0.78716 recall 0.78027\n",
      "t_69 : loss : 0.75770 gap : 0.00007 acc 0.78027 f1 0.78329 precision 0.78716 recall 0.78027\n",
      "t_70 : loss : 0.72488 gap : 0.00005 acc 0.78027 f1 0.78329 precision 0.78716 recall 0.78027\n",
      "t_71 : loss : 0.67865 gap : 0.00005 acc 0.78027 f1 0.78329 precision 0.78716 recall 0.78027\n",
      "t_72 : loss : 0.40236 gap : 0.00015 acc 1.00000 f1 1.00000 precision 1.00000 recall 1.00000\n",
      "t_73 : loss : 0.08943 gap : 0.00001 acc 1.00000 f1 1.00000 precision 1.00000 recall 1.00000\n",
      "t_74 : loss : 0.12768 gap : 0.00000 acc 1.00000 f1 1.00000 precision 1.00000 recall 1.00000\n",
      "t_75 : loss : 0.09442 gap : 0.00000 acc 1.00000 f1 1.00000 precision 1.00000 recall 1.00000\n",
      "t_76 : loss : 0.04906 gap : 0.00000 acc 1.00000 f1 1.00000 precision 1.00000 recall 1.00000\n",
      "t_77 : loss : 0.03726 gap : 0.00000 acc 1.00000 f1 1.00000 precision 1.00000 recall 1.00000\n",
      "t_78 : loss : 0.04523 gap : 0.00000 acc 1.00000 f1 1.00000 precision 1.00000 recall 1.00000\n",
      "t_79 : loss : 0.03559 gap : 0.00000 acc 1.00000 f1 1.00000 precision 1.00000 recall 1.00000\n",
      "t_80 : loss : 0.18779 gap : 0.00002 acc 1.00000 f1 1.00000 precision 1.00000 recall 1.00000\n",
      "t_81 : loss : 0.16781 gap : 0.00002 acc 1.00000 f1 1.00000 precision 1.00000 recall 1.00000\n",
      "t_82 : loss : 0.11125 gap : 0.00001 acc 1.00000 f1 1.00000 precision 1.00000 recall 1.00000\n",
      "t_83 : loss : 0.06109 gap : 0.00001 acc 1.00000 f1 1.00000 precision 1.00000 recall 1.00000\n",
      "t_84 : loss : 0.08006 gap : 0.00001 acc 1.00000 f1 1.00000 precision 1.00000 recall 1.00000\n",
      "t_85 : loss : 0.05712 gap : 0.00001 acc 1.00000 f1 1.00000 precision 1.00000 recall 1.00000\n",
      "t_86 : loss : 0.07163 gap : 0.00001 acc 1.00000 f1 1.00000 precision 1.00000 recall 1.00000\n",
      "t_87 : loss : 0.05826 gap : 0.00001 acc 1.00000 f1 1.00000 precision 1.00000 recall 1.00000\n"
     ]
    },
    {
     "name": "stderr",
     "output_type": "stream",
     "text": [
      "/Users/Slaton/miniforge3/envs/tf_macos/lib/python3.8/site-packages/sklearn/metrics/_classification.py:1248: UndefinedMetricWarning: Precision is ill-defined and being set to 0.0 in labels with no predicted samples. Use `zero_division` parameter to control this behavior.\n",
      "  _warn_prf(average, modifier, msg_start, len(result))\n",
      "/Users/Slaton/miniforge3/envs/tf_macos/lib/python3.8/site-packages/sklearn/metrics/_classification.py:1248: UndefinedMetricWarning: Precision is ill-defined and being set to 0.0 in labels with no predicted samples. Use `zero_division` parameter to control this behavior.\n",
      "  _warn_prf(average, modifier, msg_start, len(result))\n",
      "/Users/Slaton/miniforge3/envs/tf_macos/lib/python3.8/site-packages/sklearn/metrics/_classification.py:1248: UndefinedMetricWarning: Precision is ill-defined and being set to 0.0 in labels with no predicted samples. Use `zero_division` parameter to control this behavior.\n",
      "  _warn_prf(average, modifier, msg_start, len(result))\n"
     ]
    },
    {
     "name": "stdout",
     "output_type": "stream",
     "text": [
      "t_88 : loss : 1.43980 gap : 0.00036 acc 0.66504 f1 0.55025 precision 0.53286 recall 0.66504\n",
      "t_89 : loss : 1.66345 gap : 0.00038 acc 0.66504 f1 0.55025 precision 0.53286 recall 0.66504\n",
      "t_90 : loss : 0.86646 gap : 0.00018 acc 0.66504 f1 0.55025 precision 0.53286 recall 0.66504\n",
      "t_91 : loss : 1.28121 gap : 0.00026 acc 0.66504 f1 0.55025 precision 0.53286 recall 0.66504\n",
      "t_92 : loss : 0.83173 gap : 0.00011 acc 0.66504 f1 0.55025 precision 0.53286 recall 0.66504\n",
      "t_93 : loss : 0.85868 gap : 0.00005 acc 0.66504 f1 0.55025 precision 0.53286 recall 0.66504\n",
      "t_94 : loss : 0.79336 gap : 0.00002 acc 0.66504 f1 0.55025 precision 0.53286 recall 0.66504\n",
      "t_95 : loss : 0.71592 gap : 0.00002 acc 0.66504 f1 0.55025 precision 0.53286 recall 0.66504\n"
     ]
    },
    {
     "name": "stderr",
     "output_type": "stream",
     "text": [
      "/Users/Slaton/miniforge3/envs/tf_macos/lib/python3.8/site-packages/sklearn/metrics/_classification.py:1248: UndefinedMetricWarning: Recall is ill-defined and being set to 0.0 in labels with no true samples. Use `zero_division` parameter to control this behavior.\n",
      "  _warn_prf(average, modifier, msg_start, len(result))\n",
      "/Users/Slaton/miniforge3/envs/tf_macos/lib/python3.8/site-packages/sklearn/metrics/_classification.py:1248: UndefinedMetricWarning: Recall is ill-defined and being set to 0.0 in labels with no true samples. Use `zero_division` parameter to control this behavior.\n",
      "  _warn_prf(average, modifier, msg_start, len(result))\n",
      "/Users/Slaton/miniforge3/envs/tf_macos/lib/python3.8/site-packages/sklearn/metrics/_classification.py:1248: UndefinedMetricWarning: Recall is ill-defined and being set to 0.0 in labels with no true samples. Use `zero_division` parameter to control this behavior.\n",
      "  _warn_prf(average, modifier, msg_start, len(result))\n"
     ]
    },
    {
     "name": "stdout",
     "output_type": "stream",
     "text": [
      "t_96 : loss : 0.71242 gap : 0.00003 acc 0.76953 f1 0.80929 precision 0.94652 recall 0.76953\n",
      "t_97 : loss : 0.67509 gap : 0.00002 acc 0.76953 f1 0.80929 precision 0.94652 recall 0.76953\n",
      "t_98 : loss : 0.70048 gap : 0.00002 acc 0.76953 f1 0.80929 precision 0.94652 recall 0.76953\n",
      "t_99 : loss : 0.71916 gap : 0.00002 acc 0.76953 f1 0.80929 precision 0.94652 recall 0.76953\n",
      "t_100 : loss : 0.63959 gap : 0.00002 acc 0.76953 f1 0.80929 precision 0.94652 recall 0.76953\n",
      "t_101 : loss : 0.59758 gap : 0.00002 acc 0.76953 f1 0.80929 precision 0.94652 recall 0.76953\n",
      "t_102 : loss : 0.61496 gap : 0.00004 acc 0.76953 f1 0.80929 precision 0.94652 recall 0.76953\n",
      "t_103 : loss : 0.61710 gap : 0.00004 acc 0.76953 f1 0.80929 precision 0.94652 recall 0.76953\n"
     ]
    },
    {
     "name": "stderr",
     "output_type": "stream",
     "text": [
      "/Users/Slaton/miniforge3/envs/tf_macos/lib/python3.8/site-packages/sklearn/metrics/_classification.py:1248: UndefinedMetricWarning: Precision is ill-defined and being set to 0.0 in labels with no predicted samples. Use `zero_division` parameter to control this behavior.\n",
      "  _warn_prf(average, modifier, msg_start, len(result))\n"
     ]
    },
    {
     "name": "stdout",
     "output_type": "stream",
     "text": [
      "t_104 : loss : 0.62514 gap : 0.00003 acc 0.92578 f1 0.91272 precision 0.90814 recall 0.92578\n",
      "t_105 : loss : 0.53936 gap : 0.00002 acc 0.92578 f1 0.91272 precision 0.90814 recall 0.92578\n",
      "t_106 : loss : 0.55185 gap : 0.00003 acc 0.92578 f1 0.91272 precision 0.90814 recall 0.92578\n",
      "t_107 : loss : 0.51810 gap : 0.00004 acc 0.92578 f1 0.91272 precision 0.90814 recall 0.92578\n",
      "t_108 : loss : 0.60282 gap : 0.00005 acc 0.92578 f1 0.91272 precision 0.90814 recall 0.92578\n",
      "t_109 : loss : 0.61483 gap : 0.00008 acc 0.92578 f1 0.91272 precision 0.90814 recall 0.92578\n",
      "t_110 : loss : 0.60651 gap : 0.00006 acc 0.92578 f1 0.91272 precision 0.90814 recall 0.92578\n",
      "t_111 : loss : 0.60776 gap : 0.00003 acc 0.92578 f1 0.91272 precision 0.90814 recall 0.92578\n"
     ]
    },
    {
     "name": "stderr",
     "output_type": "stream",
     "text": [
      "/Users/Slaton/miniforge3/envs/tf_macos/lib/python3.8/site-packages/sklearn/metrics/_classification.py:1248: UndefinedMetricWarning: Precision is ill-defined and being set to 0.0 in labels with no predicted samples. Use `zero_division` parameter to control this behavior.\n",
      "  _warn_prf(average, modifier, msg_start, len(result))\n"
     ]
    },
    {
     "name": "stdout",
     "output_type": "stream",
     "text": [
      "t_112 : loss : 0.56824 gap : 0.00005 acc 0.91992 f1 0.90417 precision 0.89842 recall 0.91992\n",
      "t_113 : loss : 0.64883 gap : 0.00007 acc 0.91992 f1 0.90417 precision 0.89842 recall 0.91992\n",
      "t_114 : loss : 0.57480 gap : 0.00007 acc 0.91992 f1 0.90417 precision 0.89842 recall 0.91992\n",
      "t_115 : loss : 0.60415 gap : 0.00006 acc 0.91992 f1 0.90417 precision 0.89842 recall 0.91992\n",
      "t_116 : loss : 0.58703 gap : 0.00006 acc 0.91992 f1 0.90417 precision 0.89842 recall 0.91992\n",
      "t_117 : loss : 0.65803 gap : 0.00008 acc 0.91992 f1 0.90417 precision 0.89842 recall 0.91992\n",
      "t_118 : loss : 0.59890 gap : 0.00005 acc 0.91992 f1 0.90417 precision 0.89842 recall 0.91992\n",
      "t_119 : loss : 0.54520 gap : 0.00004 acc 0.91992 f1 0.90417 precision 0.89842 recall 0.91992\n"
     ]
    },
    {
     "name": "stderr",
     "output_type": "stream",
     "text": [
      "/Users/Slaton/miniforge3/envs/tf_macos/lib/python3.8/site-packages/sklearn/metrics/_classification.py:1248: UndefinedMetricWarning: Precision is ill-defined and being set to 0.0 in labels with no predicted samples. Use `zero_division` parameter to control this behavior.\n",
      "  _warn_prf(average, modifier, msg_start, len(result))\n"
     ]
    },
    {
     "name": "stdout",
     "output_type": "stream",
     "text": [
      "t_120 : loss : 0.63231 gap : 0.00007 acc 0.91406 f1 0.90113 precision 0.89706 recall 0.91406\n",
      "t_121 : loss : 0.62383 gap : 0.00007 acc 0.91406 f1 0.90113 precision 0.89706 recall 0.91406\n",
      "t_122 : loss : 0.73075 gap : 0.00009 acc 0.91406 f1 0.90113 precision 0.89706 recall 0.91406\n",
      "t_123 : loss : 0.54017 gap : 0.00006 acc 0.91406 f1 0.90113 precision 0.89706 recall 0.91406\n",
      "t_124 : loss : 0.65176 gap : 0.00007 acc 0.91406 f1 0.90113 precision 0.89706 recall 0.91406\n",
      "t_125 : loss : 0.51490 gap : 0.00005 acc 0.91406 f1 0.90113 precision 0.89706 recall 0.91406\n",
      "t_126 : loss : 0.62551 gap : 0.00008 acc 0.91406 f1 0.90113 precision 0.89706 recall 0.91406\n",
      "t_127 : loss : 0.58947 gap : 0.00006 acc 0.91406 f1 0.90113 precision 0.89706 recall 0.91406\n",
      "t_128 : loss : 0.45641 gap : 0.00004 acc 1.00000 f1 1.00000 precision 1.00000 recall 1.00000\n",
      "t_129 : loss : 0.12389 gap : 0.00002 acc 1.00000 f1 1.00000 precision 1.00000 recall 1.00000\n",
      "t_130 : loss : 0.14326 gap : 0.00002 acc 1.00000 f1 1.00000 precision 1.00000 recall 1.00000\n",
      "t_131 : loss : 0.06112 gap : 0.00001 acc 1.00000 f1 1.00000 precision 1.00000 recall 1.00000\n",
      "t_132 : loss : 0.17476 gap : 0.00001 acc 1.00000 f1 1.00000 precision 1.00000 recall 1.00000\n",
      "t_133 : loss : 0.15130 gap : 0.00000 acc 1.00000 f1 1.00000 precision 1.00000 recall 1.00000\n",
      "t_134 : loss : 0.08111 gap : 0.00000 acc 1.00000 f1 1.00000 precision 1.00000 recall 1.00000\n",
      "t_135 : loss : 0.07751 gap : 0.00000 acc 1.00000 f1 1.00000 precision 1.00000 recall 1.00000\n",
      "t_136 : loss : 0.06950 gap : 0.00000 acc 1.00000 f1 1.00000 precision 1.00000 recall 1.00000\n",
      "t_137 : loss : 0.04649 gap : 0.00000 acc 1.00000 f1 1.00000 precision 1.00000 recall 1.00000\n",
      "t_138 : loss : 0.07195 gap : 0.00000 acc 1.00000 f1 1.00000 precision 1.00000 recall 1.00000\n",
      "t_139 : loss : 0.06996 gap : 0.00000 acc 1.00000 f1 1.00000 precision 1.00000 recall 1.00000\n",
      "t_140 : loss : 0.02834 gap : 0.00000 acc 1.00000 f1 1.00000 precision 1.00000 recall 1.00000\n",
      "t_141 : loss : 0.04914 gap : 0.00000 acc 1.00000 f1 1.00000 precision 1.00000 recall 1.00000\n",
      "t_142 : loss : 0.04495 gap : 0.00000 acc 1.00000 f1 1.00000 precision 1.00000 recall 1.00000\n",
      "t_143 : loss : 0.06370 gap : 0.00000 acc 1.00000 f1 1.00000 precision 1.00000 recall 1.00000\n"
     ]
    },
    {
     "name": "stderr",
     "output_type": "stream",
     "text": [
      "/Users/Slaton/miniforge3/envs/tf_macos/lib/python3.8/site-packages/sklearn/metrics/_classification.py:1248: UndefinedMetricWarning: Precision is ill-defined and being set to 0.0 in labels with no predicted samples. Use `zero_division` parameter to control this behavior.\n",
      "  _warn_prf(average, modifier, msg_start, len(result))\n"
     ]
    },
    {
     "name": "stdout",
     "output_type": "stream",
     "text": [
      "t_144 : loss : 1.49736 gap : 0.00016 acc 0.85742 f1 0.84847 precision 0.85141 recall 0.85742\n",
      "t_145 : loss : 0.84182 gap : 0.00005 acc 0.85742 f1 0.84847 precision 0.85141 recall 0.85742\n",
      "t_146 : loss : 0.81885 gap : 0.00008 acc 0.85742 f1 0.84847 precision 0.85141 recall 0.85742\n",
      "t_147 : loss : 0.65779 gap : 0.00004 acc 0.85742 f1 0.84847 precision 0.85141 recall 0.85742\n",
      "t_148 : loss : 1.25859 gap : 0.00005 acc 0.85742 f1 0.84847 precision 0.85141 recall 0.85742\n",
      "t_149 : loss : 0.77535 gap : 0.00003 acc 0.85742 f1 0.84847 precision 0.85141 recall 0.85742\n",
      "t_150 : loss : 0.53183 gap : 0.00002 acc 0.85742 f1 0.84847 precision 0.85141 recall 0.85742\n",
      "t_151 : loss : 0.50006 gap : 0.00002 acc 0.85742 f1 0.84847 precision 0.85141 recall 0.85742\n"
     ]
    },
    {
     "name": "stderr",
     "output_type": "stream",
     "text": [
      "/Users/Slaton/miniforge3/envs/tf_macos/lib/python3.8/site-packages/sklearn/metrics/_classification.py:1248: UndefinedMetricWarning: Precision is ill-defined and being set to 0.0 in labels with no predicted samples. Use `zero_division` parameter to control this behavior.\n",
      "  _warn_prf(average, modifier, msg_start, len(result))\n"
     ]
    },
    {
     "name": "stdout",
     "output_type": "stream",
     "text": [
      "t_152 : loss : 0.67564 gap : 0.00004 acc 0.87988 f1 0.87523 precision 0.87684 recall 0.87988\n",
      "t_153 : loss : 0.69617 gap : 0.00004 acc 0.87988 f1 0.87523 precision 0.87684 recall 0.87988\n",
      "t_154 : loss : 0.61871 gap : 0.00004 acc 0.87988 f1 0.87523 precision 0.87684 recall 0.87988\n",
      "t_155 : loss : 0.65363 gap : 0.00003 acc 0.87988 f1 0.87523 precision 0.87684 recall 0.87988\n",
      "t_156 : loss : 0.64301 gap : 0.00004 acc 0.87988 f1 0.87523 precision 0.87684 recall 0.87988\n",
      "t_157 : loss : 0.63446 gap : 0.00003 acc 0.87988 f1 0.87523 precision 0.87684 recall 0.87988\n",
      "t_158 : loss : 0.66244 gap : 0.00004 acc 0.87988 f1 0.87523 precision 0.87684 recall 0.87988\n",
      "t_159 : loss : 0.61642 gap : 0.00004 acc 0.87988 f1 0.87523 precision 0.87684 recall 0.87988\n"
     ]
    },
    {
     "name": "stderr",
     "output_type": "stream",
     "text": [
      "/Users/Slaton/miniforge3/envs/tf_macos/lib/python3.8/site-packages/sklearn/metrics/_classification.py:1248: UndefinedMetricWarning: Precision is ill-defined and being set to 0.0 in labels with no predicted samples. Use `zero_division` parameter to control this behavior.\n",
      "  _warn_prf(average, modifier, msg_start, len(result))\n"
     ]
    },
    {
     "name": "stdout",
     "output_type": "stream",
     "text": [
      "t_160 : loss : 0.63492 gap : 0.00003 acc 0.89844 f1 0.88917 precision 0.88945 recall 0.89844\n",
      "t_161 : loss : 0.60031 gap : 0.00003 acc 0.89844 f1 0.88917 precision 0.88945 recall 0.89844\n",
      "t_162 : loss : 0.55481 gap : 0.00002 acc 0.89844 f1 0.88917 precision 0.88945 recall 0.89844\n",
      "t_163 : loss : 0.65056 gap : 0.00003 acc 0.89844 f1 0.88917 precision 0.88945 recall 0.89844\n",
      "t_164 : loss : 0.49438 gap : 0.00001 acc 0.89844 f1 0.88917 precision 0.88945 recall 0.89844\n",
      "t_165 : loss : 0.64849 gap : 0.00004 acc 0.89844 f1 0.88917 precision 0.88945 recall 0.89844\n",
      "t_166 : loss : 0.54715 gap : 0.00002 acc 0.89844 f1 0.88917 precision 0.88945 recall 0.89844\n",
      "t_167 : loss : 0.57003 gap : 0.00003 acc 0.89844 f1 0.88917 precision 0.88945 recall 0.89844\n"
     ]
    },
    {
     "name": "stderr",
     "output_type": "stream",
     "text": [
      "/Users/Slaton/miniforge3/envs/tf_macos/lib/python3.8/site-packages/sklearn/metrics/_classification.py:1248: UndefinedMetricWarning: Precision is ill-defined and being set to 0.0 in labels with no predicted samples. Use `zero_division` parameter to control this behavior.\n",
      "  _warn_prf(average, modifier, msg_start, len(result))\n"
     ]
    },
    {
     "name": "stdout",
     "output_type": "stream",
     "text": [
      "t_168 : loss : 0.57637 gap : 0.00004 acc 0.89258 f1 0.88650 precision 0.88869 recall 0.89258\n",
      "t_169 : loss : 0.58262 gap : 0.00004 acc 0.89258 f1 0.88650 precision 0.88869 recall 0.89258\n",
      "t_170 : loss : 0.59701 gap : 0.00002 acc 0.89258 f1 0.88650 precision 0.88869 recall 0.89258\n",
      "t_171 : loss : 0.60722 gap : 0.00003 acc 0.89258 f1 0.88650 precision 0.88869 recall 0.89258\n",
      "t_172 : loss : 0.53248 gap : 0.00002 acc 0.89258 f1 0.88650 precision 0.88869 recall 0.89258\n",
      "t_173 : loss : 0.57823 gap : 0.00003 acc 0.89258 f1 0.88650 precision 0.88869 recall 0.89258\n",
      "t_174 : loss : 0.57537 gap : 0.00002 acc 0.89258 f1 0.88650 precision 0.88869 recall 0.89258\n",
      "t_175 : loss : 0.63683 gap : 0.00002 acc 0.89258 f1 0.88650 precision 0.88869 recall 0.89258\n"
     ]
    },
    {
     "name": "stderr",
     "output_type": "stream",
     "text": [
      "/Users/Slaton/miniforge3/envs/tf_macos/lib/python3.8/site-packages/sklearn/metrics/_classification.py:1248: UndefinedMetricWarning: Precision is ill-defined and being set to 0.0 in labels with no predicted samples. Use `zero_division` parameter to control this behavior.\n",
      "  _warn_prf(average, modifier, msg_start, len(result))\n"
     ]
    },
    {
     "name": "stdout",
     "output_type": "stream",
     "text": [
      "t_176 : loss : 0.51342 gap : 0.00001 acc 0.87793 f1 0.87072 precision 0.87422 recall 0.87793\n",
      "t_177 : loss : 0.60155 gap : 0.00004 acc 0.87793 f1 0.87072 precision 0.87422 recall 0.87793\n",
      "t_178 : loss : 0.59084 gap : 0.00003 acc 0.87793 f1 0.87072 precision 0.87422 recall 0.87793\n",
      "t_179 : loss : 0.63496 gap : 0.00003 acc 0.87793 f1 0.87072 precision 0.87422 recall 0.87793\n",
      "t_180 : loss : 0.63726 gap : 0.00003 acc 0.87793 f1 0.87072 precision 0.87422 recall 0.87793\n",
      "t_181 : loss : 0.59910 gap : 0.00005 acc 0.87793 f1 0.87072 precision 0.87422 recall 0.87793\n",
      "t_182 : loss : 0.64441 gap : 0.00005 acc 0.87793 f1 0.87072 precision 0.87422 recall 0.87793\n",
      "t_183 : loss : 0.55675 gap : 0.00003 acc 0.87793 f1 0.87072 precision 0.87422 recall 0.87793\n",
      "t_184 : loss : 0.73160 gap : 0.00003 acc 1.00000 f1 1.00000 precision 1.00000 recall 1.00000\n",
      "t_185 : loss : 0.24132 gap : 0.00002 acc 1.00000 f1 1.00000 precision 1.00000 recall 1.00000\n",
      "t_186 : loss : 0.29366 gap : 0.00001 acc 1.00000 f1 1.00000 precision 1.00000 recall 1.00000\n",
      "t_187 : loss : 0.21963 gap : 0.00001 acc 1.00000 f1 1.00000 precision 1.00000 recall 1.00000\n",
      "t_188 : loss : 0.14560 gap : 0.00002 acc 1.00000 f1 1.00000 precision 1.00000 recall 1.00000\n",
      "t_189 : loss : 0.11245 gap : 0.00001 acc 1.00000 f1 1.00000 precision 1.00000 recall 1.00000\n",
      "t_190 : loss : 0.11133 gap : 0.00001 acc 1.00000 f1 1.00000 precision 1.00000 recall 1.00000\n",
      "t_191 : loss : 0.14834 gap : 0.00001 acc 1.00000 f1 1.00000 precision 1.00000 recall 1.00000\n",
      "t_192 : loss : 0.06335 gap : 0.00001 acc 1.00000 f1 1.00000 precision 1.00000 recall 1.00000\n",
      "t_193 : loss : 0.11211 gap : 0.00001 acc 1.00000 f1 1.00000 precision 1.00000 recall 1.00000\n",
      "t_194 : loss : 0.09795 gap : 0.00000 acc 1.00000 f1 1.00000 precision 1.00000 recall 1.00000\n",
      "t_195 : loss : 0.05569 gap : 0.00000 acc 1.00000 f1 1.00000 precision 1.00000 recall 1.00000\n",
      "t_196 : loss : 0.03691 gap : 0.00000 acc 1.00000 f1 1.00000 precision 1.00000 recall 1.00000\n",
      "t_197 : loss : 0.03463 gap : 0.00000 acc 1.00000 f1 1.00000 precision 1.00000 recall 1.00000\n",
      "t_198 : loss : 0.08628 gap : 0.00000 acc 1.00000 f1 1.00000 precision 1.00000 recall 1.00000\n",
      "t_199 : loss : 0.02480 gap : 0.00000 acc 1.00000 f1 1.00000 precision 1.00000 recall 1.00000\n"
     ]
    },
    {
     "name": "stderr",
     "output_type": "stream",
     "text": [
      "/Users/Slaton/miniforge3/envs/tf_macos/lib/python3.8/site-packages/sklearn/metrics/_classification.py:1248: UndefinedMetricWarning: Precision is ill-defined and being set to 0.0 in labels with no predicted samples. Use `zero_division` parameter to control this behavior.\n",
      "  _warn_prf(average, modifier, msg_start, len(result))\n"
     ]
    },
    {
     "name": "stdout",
     "output_type": "stream",
     "text": [
      "t_200 : loss : 1.27244 gap : 0.00006 acc 0.91016 f1 0.90416 precision 0.90291 recall 0.91016\n",
      "t_201 : loss : 1.02686 gap : 0.00006 acc 0.91016 f1 0.90416 precision 0.90291 recall 0.91016\n",
      "t_202 : loss : 0.71628 gap : 0.00005 acc 0.91016 f1 0.90416 precision 0.90291 recall 0.91016\n",
      "t_203 : loss : 0.73762 gap : 0.00004 acc 0.91016 f1 0.90416 precision 0.90291 recall 0.91016\n",
      "t_204 : loss : 0.46630 gap : 0.00002 acc 0.91016 f1 0.90416 precision 0.90291 recall 0.91016\n",
      "t_205 : loss : 0.75681 gap : 0.00003 acc 0.91016 f1 0.90416 precision 0.90291 recall 0.91016\n",
      "t_206 : loss : 0.37166 gap : 0.00002 acc 0.91016 f1 0.90416 precision 0.90291 recall 0.91016\n",
      "t_207 : loss : 0.49804 gap : 0.00003 acc 0.91016 f1 0.90416 precision 0.90291 recall 0.91016\n"
     ]
    },
    {
     "name": "stderr",
     "output_type": "stream",
     "text": [
      "/Users/Slaton/miniforge3/envs/tf_macos/lib/python3.8/site-packages/sklearn/metrics/_classification.py:1248: UndefinedMetricWarning: Precision is ill-defined and being set to 0.0 in labels with no predicted samples. Use `zero_division` parameter to control this behavior.\n",
      "  _warn_prf(average, modifier, msg_start, len(result))\n"
     ]
    },
    {
     "name": "stdout",
     "output_type": "stream",
     "text": [
      "t_208 : loss : 0.44808 gap : 0.00001 acc 0.91797 f1 0.90485 precision 0.90153 recall 0.91797\n",
      "t_209 : loss : 0.55343 gap : 0.00003 acc 0.91797 f1 0.90485 precision 0.90153 recall 0.91797\n",
      "t_210 : loss : 0.58151 gap : 0.00003 acc 0.91797 f1 0.90485 precision 0.90153 recall 0.91797\n",
      "t_211 : loss : 0.64391 gap : 0.00004 acc 0.91797 f1 0.90485 precision 0.90153 recall 0.91797\n",
      "t_212 : loss : 0.59604 gap : 0.00003 acc 0.91797 f1 0.90485 precision 0.90153 recall 0.91797\n",
      "t_213 : loss : 0.46064 gap : 0.00001 acc 0.91797 f1 0.90485 precision 0.90153 recall 0.91797\n",
      "t_214 : loss : 0.57044 gap : 0.00004 acc 0.91797 f1 0.90485 precision 0.90153 recall 0.91797\n",
      "t_215 : loss : 0.64527 gap : 0.00003 acc 0.91797 f1 0.90485 precision 0.90153 recall 0.91797\n"
     ]
    },
    {
     "name": "stderr",
     "output_type": "stream",
     "text": [
      "/Users/Slaton/miniforge3/envs/tf_macos/lib/python3.8/site-packages/sklearn/metrics/_classification.py:1248: UndefinedMetricWarning: Precision is ill-defined and being set to 0.0 in labels with no predicted samples. Use `zero_division` parameter to control this behavior.\n",
      "  _warn_prf(average, modifier, msg_start, len(result))\n"
     ]
    },
    {
     "name": "stdout",
     "output_type": "stream",
     "text": [
      "t_216 : loss : 0.79231 gap : 0.00005 acc 0.85449 f1 0.84855 precision 0.85671 recall 0.85449\n",
      "t_217 : loss : 0.62237 gap : 0.00003 acc 0.85449 f1 0.84855 precision 0.85671 recall 0.85449\n",
      "t_218 : loss : 0.57357 gap : 0.00002 acc 0.85449 f1 0.84855 precision 0.85671 recall 0.85449\n",
      "t_219 : loss : 0.61352 gap : 0.00002 acc 0.85449 f1 0.84855 precision 0.85671 recall 0.85449\n",
      "t_220 : loss : 0.51235 gap : 0.00002 acc 0.85449 f1 0.84855 precision 0.85671 recall 0.85449\n",
      "t_221 : loss : 0.68920 gap : 0.00004 acc 0.85449 f1 0.84855 precision 0.85671 recall 0.85449\n",
      "t_222 : loss : 0.59111 gap : 0.00002 acc 0.85449 f1 0.84855 precision 0.85671 recall 0.85449\n",
      "t_223 : loss : 0.60781 gap : 0.00003 acc 0.85449 f1 0.84855 precision 0.85671 recall 0.85449\n"
     ]
    },
    {
     "name": "stderr",
     "output_type": "stream",
     "text": [
      "/Users/Slaton/miniforge3/envs/tf_macos/lib/python3.8/site-packages/sklearn/metrics/_classification.py:1248: UndefinedMetricWarning: Precision is ill-defined and being set to 0.0 in labels with no predicted samples. Use `zero_division` parameter to control this behavior.\n",
      "  _warn_prf(average, modifier, msg_start, len(result))\n",
      "/Users/Slaton/miniforge3/envs/tf_macos/lib/python3.8/site-packages/sklearn/metrics/_classification.py:1248: UndefinedMetricWarning: Recall is ill-defined and being set to 0.0 in labels with no true samples. Use `zero_division` parameter to control this behavior.\n",
      "  _warn_prf(average, modifier, msg_start, len(result))\n"
     ]
    },
    {
     "name": "stdout",
     "output_type": "stream",
     "text": [
      "t_224 : loss : 0.67586 gap : 0.00005 acc 0.87109 f1 0.87263 precision 0.87518 recall 0.87109\n",
      "t_225 : loss : 0.71394 gap : 0.00004 acc 0.87109 f1 0.87263 precision 0.87518 recall 0.87109\n",
      "t_226 : loss : 0.65064 gap : 0.00004 acc 0.87109 f1 0.87263 precision 0.87518 recall 0.87109\n",
      "t_227 : loss : 0.58738 gap : 0.00004 acc 0.87109 f1 0.87263 precision 0.87518 recall 0.87109\n",
      "t_228 : loss : 0.62834 gap : 0.00003 acc 0.87109 f1 0.87263 precision 0.87518 recall 0.87109\n",
      "t_229 : loss : 0.62075 gap : 0.00003 acc 0.87109 f1 0.87263 precision 0.87518 recall 0.87109\n",
      "t_230 : loss : 0.61697 gap : 0.00003 acc 0.87109 f1 0.87263 precision 0.87518 recall 0.87109\n",
      "t_231 : loss : 0.62703 gap : 0.00005 acc 0.87109 f1 0.87263 precision 0.87518 recall 0.87109\n"
     ]
    },
    {
     "name": "stderr",
     "output_type": "stream",
     "text": [
      "/Users/Slaton/miniforge3/envs/tf_macos/lib/python3.8/site-packages/sklearn/metrics/_classification.py:1248: UndefinedMetricWarning: Precision is ill-defined and being set to 0.0 in labels with no predicted samples. Use `zero_division` parameter to control this behavior.\n",
      "  _warn_prf(average, modifier, msg_start, len(result))\n"
     ]
    },
    {
     "name": "stdout",
     "output_type": "stream",
     "text": [
      "t_232 : loss : 0.53890 gap : 0.00002 acc 0.94531 f1 0.93638 precision 0.93044 recall 0.94531\n",
      "t_233 : loss : 0.35472 gap : 0.00001 acc 0.94531 f1 0.93638 precision 0.93044 recall 0.94531\n",
      "t_234 : loss : 0.34397 gap : 0.00001 acc 0.94531 f1 0.93638 precision 0.93044 recall 0.94531\n",
      "t_235 : loss : 0.46355 gap : 0.00001 acc 0.94531 f1 0.93638 precision 0.93044 recall 0.94531\n",
      "t_236 : loss : 0.42809 gap : 0.00001 acc 0.94531 f1 0.93638 precision 0.93044 recall 0.94531\n",
      "t_237 : loss : 0.49722 gap : 0.00002 acc 0.94531 f1 0.93638 precision 0.93044 recall 0.94531\n",
      "t_238 : loss : 0.44546 gap : 0.00002 acc 0.94531 f1 0.93638 precision 0.93044 recall 0.94531\n",
      "t_239 : loss : 0.46336 gap : 0.00001 acc 0.94531 f1 0.93638 precision 0.93044 recall 0.94531\n",
      "t_240 : loss : 0.99544 gap : 0.00006 acc 1.00000 f1 1.00000 precision 1.00000 recall 1.00000\n",
      "t_241 : loss : 0.39859 gap : 0.00002 acc 1.00000 f1 1.00000 precision 1.00000 recall 1.00000\n",
      "t_242 : loss : 0.21988 gap : 0.00001 acc 1.00000 f1 1.00000 precision 1.00000 recall 1.00000\n",
      "t_243 : loss : 0.18524 gap : 0.00002 acc 1.00000 f1 1.00000 precision 1.00000 recall 1.00000\n",
      "t_244 : loss : 0.18077 gap : 0.00001 acc 1.00000 f1 1.00000 precision 1.00000 recall 1.00000\n",
      "t_245 : loss : 0.26856 gap : 0.00001 acc 1.00000 f1 1.00000 precision 1.00000 recall 1.00000\n",
      "t_246 : loss : 0.10556 gap : 0.00001 acc 1.00000 f1 1.00000 precision 1.00000 recall 1.00000\n",
      "t_247 : loss : 0.07191 gap : 0.00001 acc 1.00000 f1 1.00000 precision 1.00000 recall 1.00000\n",
      "t_248 : loss : 0.13491 gap : 0.00001 acc 1.00000 f1 1.00000 precision 1.00000 recall 1.00000\n",
      "t_249 : loss : 0.06745 gap : 0.00001 acc 1.00000 f1 1.00000 precision 1.00000 recall 1.00000\n",
      "t_250 : loss : 0.11177 gap : 0.00000 acc 1.00000 f1 1.00000 precision 1.00000 recall 1.00000\n",
      "t_251 : loss : 0.03521 gap : 0.00000 acc 1.00000 f1 1.00000 precision 1.00000 recall 1.00000\n",
      "t_252 : loss : 0.14368 gap : 0.00000 acc 1.00000 f1 1.00000 precision 1.00000 recall 1.00000\n",
      "t_253 : loss : 0.05049 gap : 0.00000 acc 1.00000 f1 1.00000 precision 1.00000 recall 1.00000\n",
      "t_254 : loss : 0.04408 gap : 0.00000 acc 1.00000 f1 1.00000 precision 1.00000 recall 1.00000\n",
      "t_255 : loss : 0.05611 gap : 0.00000 acc 1.00000 f1 1.00000 precision 1.00000 recall 1.00000\n",
      "t_256 : loss : 0.04801 gap : 0.00000 acc 1.00000 f1 1.00000 precision 1.00000 recall 1.00000\n",
      "t_257 : loss : 0.06397 gap : 0.00000 acc 1.00000 f1 1.00000 precision 1.00000 recall 1.00000\n",
      "t_258 : loss : 0.02478 gap : 0.00000 acc 1.00000 f1 1.00000 precision 1.00000 recall 1.00000\n",
      "t_259 : loss : 0.06416 gap : 0.00000 acc 1.00000 f1 1.00000 precision 1.00000 recall 1.00000\n",
      "t_260 : loss : 0.04822 gap : 0.00000 acc 1.00000 f1 1.00000 precision 1.00000 recall 1.00000\n",
      "t_261 : loss : 0.03374 gap : 0.00000 acc 1.00000 f1 1.00000 precision 1.00000 recall 1.00000\n",
      "t_262 : loss : 0.02383 gap : 0.00000 acc 1.00000 f1 1.00000 precision 1.00000 recall 1.00000\n",
      "t_263 : loss : 0.03626 gap : 0.00000 acc 1.00000 f1 1.00000 precision 1.00000 recall 1.00000\n",
      "t_264 : loss : 1.28522 gap : 0.00007 acc 0.85938 f1 0.85400 precision 0.87957 recall 0.85938\n",
      "t_265 : loss : 0.81299 gap : 0.00004 acc 0.85938 f1 0.85400 precision 0.87957 recall 0.85938\n",
      "t_266 : loss : 0.60286 gap : 0.00003 acc 0.85938 f1 0.85400 precision 0.87957 recall 0.85938\n",
      "t_267 : loss : 0.99117 gap : 0.00003 acc 0.85938 f1 0.85400 precision 0.87957 recall 0.85938\n",
      "t_268 : loss : 0.49551 gap : 0.00002 acc 0.85938 f1 0.85400 precision 0.87957 recall 0.85938\n",
      "t_269 : loss : 0.28489 gap : 0.00002 acc 0.85938 f1 0.85400 precision 0.87957 recall 0.85938\n",
      "t_270 : loss : 0.37069 gap : 0.00002 acc 0.85938 f1 0.85400 precision 0.87957 recall 0.85938\n",
      "t_271 : loss : 0.51291 gap : 0.00003 acc 0.85938 f1 0.85400 precision 0.87957 recall 0.85938\n"
     ]
    },
    {
     "name": "stderr",
     "output_type": "stream",
     "text": [
      "/Users/Slaton/miniforge3/envs/tf_macos/lib/python3.8/site-packages/sklearn/metrics/_classification.py:1248: UndefinedMetricWarning: Precision is ill-defined and being set to 0.0 in labels with no predicted samples. Use `zero_division` parameter to control this behavior.\n",
      "  _warn_prf(average, modifier, msg_start, len(result))\n"
     ]
    },
    {
     "name": "stdout",
     "output_type": "stream",
     "text": [
      "t_272 : loss : 0.39030 gap : 0.00002 acc 0.91309 f1 0.91050 precision 0.91421 recall 0.91309\n",
      "t_273 : loss : 0.30287 gap : 0.00001 acc 0.91309 f1 0.91050 precision 0.91421 recall 0.91309\n",
      "t_274 : loss : 0.33886 gap : 0.00002 acc 0.91309 f1 0.91050 precision 0.91421 recall 0.91309\n",
      "t_275 : loss : 0.42588 gap : 0.00001 acc 0.91309 f1 0.91050 precision 0.91421 recall 0.91309\n",
      "t_276 : loss : 0.25652 gap : 0.00002 acc 0.91309 f1 0.91050 precision 0.91421 recall 0.91309\n",
      "t_277 : loss : 0.35858 gap : 0.00001 acc 0.91309 f1 0.91050 precision 0.91421 recall 0.91309\n",
      "t_278 : loss : 0.57221 gap : 0.00002 acc 0.91309 f1 0.91050 precision 0.91421 recall 0.91309\n",
      "t_279 : loss : 0.49382 gap : 0.00002 acc 0.91309 f1 0.91050 precision 0.91421 recall 0.91309\n"
     ]
    },
    {
     "name": "stderr",
     "output_type": "stream",
     "text": [
      "/Users/Slaton/miniforge3/envs/tf_macos/lib/python3.8/site-packages/sklearn/metrics/_classification.py:1248: UndefinedMetricWarning: Precision is ill-defined and being set to 0.0 in labels with no predicted samples. Use `zero_division` parameter to control this behavior.\n",
      "  _warn_prf(average, modifier, msg_start, len(result))\n"
     ]
    },
    {
     "name": "stdout",
     "output_type": "stream",
     "text": [
      "t_280 : loss : 0.54308 gap : 0.00003 acc 0.92578 f1 0.91529 precision 0.91101 recall 0.92578\n",
      "t_281 : loss : 0.34987 gap : 0.00001 acc 0.92578 f1 0.91529 precision 0.91101 recall 0.92578\n",
      "t_282 : loss : 0.40534 gap : 0.00002 acc 0.92578 f1 0.91529 precision 0.91101 recall 0.92578\n",
      "t_283 : loss : 0.44521 gap : 0.00002 acc 0.92578 f1 0.91529 precision 0.91101 recall 0.92578\n",
      "t_284 : loss : 0.47716 gap : 0.00004 acc 0.92578 f1 0.91529 precision 0.91101 recall 0.92578\n",
      "t_285 : loss : 0.45133 gap : 0.00004 acc 0.92578 f1 0.91529 precision 0.91101 recall 0.92578\n",
      "t_286 : loss : 0.65351 gap : 0.00006 acc 0.92578 f1 0.91529 precision 0.91101 recall 0.92578\n",
      "t_287 : loss : 0.62982 gap : 0.00004 acc 0.92578 f1 0.91529 precision 0.91101 recall 0.92578\n",
      "t_288 : loss : 0.93421 gap : 0.00004 acc 1.00000 f1 1.00000 precision 1.00000 recall 1.00000\n",
      "t_289 : loss : 0.19047 gap : 0.00001 acc 1.00000 f1 1.00000 precision 1.00000 recall 1.00000\n",
      "t_290 : loss : 0.21992 gap : 0.00001 acc 1.00000 f1 1.00000 precision 1.00000 recall 1.00000\n",
      "t_291 : loss : 0.15739 gap : 0.00001 acc 1.00000 f1 1.00000 precision 1.00000 recall 1.00000\n",
      "t_292 : loss : 0.18637 gap : 0.00001 acc 1.00000 f1 1.00000 precision 1.00000 recall 1.00000\n",
      "t_293 : loss : 0.16449 gap : 0.00001 acc 1.00000 f1 1.00000 precision 1.00000 recall 1.00000\n",
      "t_294 : loss : 0.17020 gap : 0.00001 acc 1.00000 f1 1.00000 precision 1.00000 recall 1.00000\n",
      "t_295 : loss : 0.10377 gap : 0.00001 acc 1.00000 f1 1.00000 precision 1.00000 recall 1.00000\n",
      "t_296 : loss : 0.09538 gap : 0.00000 acc 1.00000 f1 1.00000 precision 1.00000 recall 1.00000\n",
      "t_297 : loss : 0.10918 gap : 0.00000 acc 1.00000 f1 1.00000 precision 1.00000 recall 1.00000\n",
      "t_298 : loss : 0.03686 gap : 0.00000 acc 1.00000 f1 1.00000 precision 1.00000 recall 1.00000\n",
      "t_299 : loss : 0.10785 gap : 0.00000 acc 1.00000 f1 1.00000 precision 1.00000 recall 1.00000\n",
      "t_300 : loss : 0.09024 gap : 0.00000 acc 1.00000 f1 1.00000 precision 1.00000 recall 1.00000\n",
      "t_301 : loss : 0.04306 gap : 0.00000 acc 1.00000 f1 1.00000 precision 1.00000 recall 1.00000\n",
      "t_302 : loss : 0.04542 gap : 0.00000 acc 1.00000 f1 1.00000 precision 1.00000 recall 1.00000\n",
      "t_303 : loss : 0.04385 gap : 0.00000 acc 1.00000 f1 1.00000 precision 1.00000 recall 1.00000\n",
      "t_304 : loss : 0.03948 gap : 0.00000 acc 1.00000 f1 1.00000 precision 1.00000 recall 1.00000\n",
      "t_305 : loss : 0.04139 gap : 0.00000 acc 1.00000 f1 1.00000 precision 1.00000 recall 1.00000\n",
      "t_306 : loss : 0.03592 gap : 0.00000 acc 1.00000 f1 1.00000 precision 1.00000 recall 1.00000\n",
      "t_307 : loss : 0.05404 gap : 0.00000 acc 1.00000 f1 1.00000 precision 1.00000 recall 1.00000\n",
      "t_308 : loss : 0.06445 gap : 0.00000 acc 1.00000 f1 1.00000 precision 1.00000 recall 1.00000\n",
      "t_309 : loss : 0.02679 gap : 0.00000 acc 1.00000 f1 1.00000 precision 1.00000 recall 1.00000\n",
      "t_310 : loss : 0.05286 gap : 0.00000 acc 1.00000 f1 1.00000 precision 1.00000 recall 1.00000\n",
      "t_311 : loss : 0.03267 gap : 0.00000 acc 1.00000 f1 1.00000 precision 1.00000 recall 1.00000\n",
      "t_312 : loss : 0.04047 gap : 0.00000 acc 1.00000 f1 1.00000 precision 1.00000 recall 1.00000\n",
      "t_313 : loss : 0.02128 gap : 0.00000 acc 1.00000 f1 1.00000 precision 1.00000 recall 1.00000\n",
      "t_314 : loss : 0.03016 gap : 0.00000 acc 1.00000 f1 1.00000 precision 1.00000 recall 1.00000\n",
      "t_315 : loss : 0.03863 gap : 0.00000 acc 1.00000 f1 1.00000 precision 1.00000 recall 1.00000\n",
      "t_316 : loss : 0.03914 gap : 0.00000 acc 1.00000 f1 1.00000 precision 1.00000 recall 1.00000\n",
      "t_317 : loss : 0.03065 gap : 0.00000 acc 1.00000 f1 1.00000 precision 1.00000 recall 1.00000\n",
      "t_318 : loss : 0.02761 gap : 0.00000 acc 1.00000 f1 1.00000 precision 1.00000 recall 1.00000\n",
      "t_319 : loss : 0.03495 gap : 0.00000 acc 1.00000 f1 1.00000 precision 1.00000 recall 1.00000\n",
      "t_320 : loss : 0.03171 gap : 0.00000 acc 1.00000 f1 1.00000 precision 1.00000 recall 1.00000\n",
      "t_321 : loss : 0.02144 gap : 0.00000 acc 1.00000 f1 1.00000 precision 1.00000 recall 1.00000\n",
      "t_322 : loss : 0.02544 gap : 0.00000 acc 1.00000 f1 1.00000 precision 1.00000 recall 1.00000\n",
      "t_323 : loss : 0.02081 gap : 0.00000 acc 1.00000 f1 1.00000 precision 1.00000 recall 1.00000\n",
      "t_324 : loss : 0.03710 gap : 0.00000 acc 1.00000 f1 1.00000 precision 1.00000 recall 1.00000\n",
      "t_325 : loss : 0.03158 gap : 0.00000 acc 1.00000 f1 1.00000 precision 1.00000 recall 1.00000\n",
      "t_326 : loss : 0.03429 gap : 0.00000 acc 1.00000 f1 1.00000 precision 1.00000 recall 1.00000\n",
      "t_327 : loss : 0.02448 gap : 0.00000 acc 1.00000 f1 1.00000 precision 1.00000 recall 1.00000\n",
      "t_328 : loss : 1.03517 gap : 0.00005 acc 0.87988 f1 0.88106 precision 0.88831 recall 0.87988\n",
      "t_329 : loss : 0.93176 gap : 0.00006 acc 0.87988 f1 0.88106 precision 0.88831 recall 0.87988\n",
      "t_330 : loss : 0.90931 gap : 0.00005 acc 0.87988 f1 0.88106 precision 0.88831 recall 0.87988\n",
      "t_331 : loss : 0.92620 gap : 0.00004 acc 0.87988 f1 0.88106 precision 0.88831 recall 0.87988\n",
      "t_332 : loss : 0.88375 gap : 0.00004 acc 0.87988 f1 0.88106 precision 0.88831 recall 0.87988\n",
      "t_333 : loss : 0.44464 gap : 0.00003 acc 0.87988 f1 0.88106 precision 0.88831 recall 0.87988\n",
      "t_334 : loss : 0.61238 gap : 0.00002 acc 0.87988 f1 0.88106 precision 0.88831 recall 0.87988\n",
      "t_335 : loss : 0.25814 gap : 0.00001 acc 0.87988 f1 0.88106 precision 0.88831 recall 0.87988\n",
      "t_336 : loss : 0.42843 gap : 0.00001 acc 0.91992 f1 0.92097 precision 0.93248 recall 0.91992\n",
      "t_337 : loss : 0.22560 gap : 0.00002 acc 0.91992 f1 0.92097 precision 0.93248 recall 0.91992\n",
      "t_338 : loss : 0.22457 gap : 0.00001 acc 0.91992 f1 0.92097 precision 0.93248 recall 0.91992\n",
      "t_339 : loss : 0.26508 gap : 0.00000 acc 0.91992 f1 0.92097 precision 0.93248 recall 0.91992\n",
      "t_340 : loss : 0.31828 gap : 0.00000 acc 0.91992 f1 0.92097 precision 0.93248 recall 0.91992\n",
      "t_341 : loss : 0.22959 gap : 0.00000 acc 0.91992 f1 0.92097 precision 0.93248 recall 0.91992\n",
      "t_342 : loss : 0.22841 gap : 0.00001 acc 0.91992 f1 0.92097 precision 0.93248 recall 0.91992\n",
      "t_343 : loss : 0.22292 gap : 0.00001 acc 0.91992 f1 0.92097 precision 0.93248 recall 0.91992\n"
     ]
    },
    {
     "name": "stderr",
     "output_type": "stream",
     "text": [
      "/Users/Slaton/miniforge3/envs/tf_macos/lib/python3.8/site-packages/sklearn/metrics/_classification.py:1248: UndefinedMetricWarning: Precision is ill-defined and being set to 0.0 in labels with no predicted samples. Use `zero_division` parameter to control this behavior.\n",
      "  _warn_prf(average, modifier, msg_start, len(result))\n"
     ]
    },
    {
     "name": "stdout",
     "output_type": "stream",
     "text": [
      "t_344 : loss : 0.42684 gap : 0.00002 acc 0.78027 f1 0.77818 precision 0.85009 recall 0.78027\n",
      "t_345 : loss : 0.31580 gap : 0.00001 acc 0.78027 f1 0.77818 precision 0.85009 recall 0.78027\n",
      "t_346 : loss : 0.55932 gap : 0.00002 acc 0.78027 f1 0.77818 precision 0.85009 recall 0.78027\n",
      "t_347 : loss : 0.33489 gap : 0.00001 acc 0.78027 f1 0.77818 precision 0.85009 recall 0.78027\n",
      "t_348 : loss : 0.39831 gap : 0.00001 acc 0.78027 f1 0.77818 precision 0.85009 recall 0.78027\n",
      "t_349 : loss : 0.38019 gap : 0.00001 acc 0.78027 f1 0.77818 precision 0.85009 recall 0.78027\n",
      "t_350 : loss : 0.48415 gap : 0.00001 acc 0.78027 f1 0.77818 precision 0.85009 recall 0.78027\n",
      "t_351 : loss : 0.26798 gap : 0.00001 acc 0.78027 f1 0.77818 precision 0.85009 recall 0.78027\n",
      "t_352 : loss : 0.82023 gap : 0.00004 acc 0.99121 f1 0.99114 precision 0.99116 recall 0.99121\n",
      "t_353 : loss : 0.15916 gap : 0.00000 acc 0.99121 f1 0.99114 precision 0.99116 recall 0.99121\n",
      "t_354 : loss : 0.17800 gap : 0.00000 acc 0.99121 f1 0.99114 precision 0.99116 recall 0.99121\n",
      "t_355 : loss : 0.13970 gap : 0.00001 acc 0.99121 f1 0.99114 precision 0.99116 recall 0.99121\n",
      "t_356 : loss : 0.16355 gap : 0.00001 acc 0.99121 f1 0.99114 precision 0.99116 recall 0.99121\n",
      "t_357 : loss : 0.19490 gap : 0.00001 acc 0.99121 f1 0.99114 precision 0.99116 recall 0.99121\n",
      "t_358 : loss : 0.11386 gap : 0.00001 acc 0.99121 f1 0.99114 precision 0.99116 recall 0.99121\n",
      "t_359 : loss : 0.23644 gap : 0.00002 acc 0.99121 f1 0.99114 precision 0.99116 recall 0.99121\n",
      "t_360 : loss : 0.06509 gap : 0.00000 acc 1.00000 f1 1.00000 precision 1.00000 recall 1.00000\n",
      "t_361 : loss : 0.05365 gap : 0.00000 acc 1.00000 f1 1.00000 precision 1.00000 recall 1.00000\n",
      "t_362 : loss : 0.16767 gap : 0.00000 acc 1.00000 f1 1.00000 precision 1.00000 recall 1.00000\n",
      "t_363 : loss : 0.06188 gap : 0.00000 acc 1.00000 f1 1.00000 precision 1.00000 recall 1.00000\n",
      "t_364 : loss : 0.03680 gap : 0.00000 acc 1.00000 f1 1.00000 precision 1.00000 recall 1.00000\n",
      "t_365 : loss : 0.02422 gap : 0.00000 acc 1.00000 f1 1.00000 precision 1.00000 recall 1.00000\n",
      "t_366 : loss : 0.03691 gap : 0.00000 acc 1.00000 f1 1.00000 precision 1.00000 recall 1.00000\n",
      "t_367 : loss : 0.01828 gap : 0.00000 acc 1.00000 f1 1.00000 precision 1.00000 recall 1.00000\n",
      "t_368 : loss : 0.62459 gap : 0.00004 acc 0.90820 f1 0.90900 precision 0.91329 recall 0.90820\n",
      "t_369 : loss : 0.79108 gap : 0.00003 acc 0.90820 f1 0.90900 precision 0.91329 recall 0.90820\n",
      "t_370 : loss : 0.41511 gap : 0.00003 acc 0.90820 f1 0.90900 precision 0.91329 recall 0.90820\n",
      "t_371 : loss : 0.27539 gap : 0.00001 acc 0.90820 f1 0.90900 precision 0.91329 recall 0.90820\n",
      "t_372 : loss : 0.22178 gap : 0.00000 acc 0.90820 f1 0.90900 precision 0.91329 recall 0.90820\n",
      "t_373 : loss : 0.25674 gap : 0.00000 acc 0.90820 f1 0.90900 precision 0.91329 recall 0.90820\n",
      "t_374 : loss : 0.21396 gap : 0.00001 acc 0.90820 f1 0.90900 precision 0.91329 recall 0.90820\n",
      "t_375 : loss : 0.92326 gap : 0.00001 acc 0.90820 f1 0.90900 precision 0.91329 recall 0.90820\n"
     ]
    },
    {
     "name": "stderr",
     "output_type": "stream",
     "text": [
      "/Users/Slaton/miniforge3/envs/tf_macos/lib/python3.8/site-packages/sklearn/metrics/_classification.py:1248: UndefinedMetricWarning: Precision is ill-defined and being set to 0.0 in labels with no predicted samples. Use `zero_division` parameter to control this behavior.\n",
      "  _warn_prf(average, modifier, msg_start, len(result))\n",
      "/Users/Slaton/miniforge3/envs/tf_macos/lib/python3.8/site-packages/sklearn/metrics/_classification.py:1248: UndefinedMetricWarning: Precision is ill-defined and being set to 0.0 in labels with no predicted samples. Use `zero_division` parameter to control this behavior.\n",
      "  _warn_prf(average, modifier, msg_start, len(result))\n",
      "/Users/Slaton/miniforge3/envs/tf_macos/lib/python3.8/site-packages/sklearn/metrics/_classification.py:1248: UndefinedMetricWarning: Precision is ill-defined and being set to 0.0 in labels with no predicted samples. Use `zero_division` parameter to control this behavior.\n",
      "  _warn_prf(average, modifier, msg_start, len(result))\n",
      "/Users/Slaton/miniforge3/envs/tf_macos/lib/python3.8/site-packages/sklearn/metrics/_classification.py:1248: UndefinedMetricWarning: Precision is ill-defined and being set to 0.0 in labels with no predicted samples. Use `zero_division` parameter to control this behavior.\n",
      "  _warn_prf(average, modifier, msg_start, len(result))\n"
     ]
    },
    {
     "name": "stdout",
     "output_type": "stream",
     "text": [
      "t_376 : loss : 0.41532 gap : 0.00003 acc 0.34961 f1 0.18885 precision 0.13158 recall 0.34961\n",
      "t_377 : loss : 0.68135 gap : 0.00006 acc 0.34961 f1 0.18885 precision 0.13158 recall 0.34961\n",
      "t_378 : loss : 0.43909 gap : 0.00002 acc 0.34961 f1 0.18885 precision 0.13158 recall 0.34961\n",
      "t_379 : loss : 0.44230 gap : 0.00002 acc 0.34961 f1 0.18885 precision 0.13158 recall 0.34961\n",
      "t_380 : loss : 0.35777 gap : 0.00002 acc 0.34961 f1 0.18885 precision 0.13158 recall 0.34961\n",
      "t_381 : loss : 0.41964 gap : 0.00002 acc 0.34961 f1 0.18885 precision 0.13158 recall 0.34961\n",
      "t_382 : loss : 0.63904 gap : 0.00004 acc 0.34961 f1 0.18885 precision 0.13158 recall 0.34961\n",
      "t_383 : loss : 0.26260 gap : 0.00001 acc 0.34961 f1 0.18885 precision 0.13158 recall 0.34961\n"
     ]
    },
    {
     "name": "stderr",
     "output_type": "stream",
     "text": [
      "/Users/Slaton/miniforge3/envs/tf_macos/lib/python3.8/site-packages/sklearn/metrics/_classification.py:1248: UndefinedMetricWarning: Precision is ill-defined and being set to 0.0 in labels with no predicted samples. Use `zero_division` parameter to control this behavior.\n",
      "  _warn_prf(average, modifier, msg_start, len(result))\n"
     ]
    },
    {
     "name": "stdout",
     "output_type": "stream",
     "text": [
      "t_384 : loss : 0.35096 gap : 0.00001 acc 0.90332 f1 0.89714 precision 0.90405 recall 0.90332\n",
      "t_385 : loss : 0.69155 gap : 0.00004 acc 0.90332 f1 0.89714 precision 0.90405 recall 0.90332\n",
      "t_386 : loss : 0.47357 gap : 0.00002 acc 0.90332 f1 0.89714 precision 0.90405 recall 0.90332\n",
      "t_387 : loss : 0.37488 gap : 0.00001 acc 0.90332 f1 0.89714 precision 0.90405 recall 0.90332\n",
      "t_388 : loss : 0.40672 gap : 0.00001 acc 0.90332 f1 0.89714 precision 0.90405 recall 0.90332\n",
      "t_389 : loss : 0.34960 gap : 0.00001 acc 0.90332 f1 0.89714 precision 0.90405 recall 0.90332\n",
      "t_390 : loss : 0.46056 gap : 0.00001 acc 0.90332 f1 0.89714 precision 0.90405 recall 0.90332\n",
      "t_391 : loss : 0.55485 gap : 0.00003 acc 0.90332 f1 0.89714 precision 0.90405 recall 0.90332\n"
     ]
    },
    {
     "name": "stderr",
     "output_type": "stream",
     "text": [
      "/Users/Slaton/miniforge3/envs/tf_macos/lib/python3.8/site-packages/sklearn/metrics/_classification.py:1248: UndefinedMetricWarning: Precision is ill-defined and being set to 0.0 in labels with no predicted samples. Use `zero_division` parameter to control this behavior.\n",
      "  _warn_prf(average, modifier, msg_start, len(result))\n"
     ]
    },
    {
     "name": "stdout",
     "output_type": "stream",
     "text": [
      "t_392 : loss : 0.38083 gap : 0.00001 acc 0.91504 f1 0.90663 precision 0.90521 recall 0.91504\n",
      "t_393 : loss : 0.40353 gap : 0.00001 acc 0.91504 f1 0.90663 precision 0.90521 recall 0.91504\n",
      "t_394 : loss : 0.47310 gap : 0.00002 acc 0.91504 f1 0.90663 precision 0.90521 recall 0.91504\n",
      "t_395 : loss : 0.33748 gap : 0.00001 acc 0.91504 f1 0.90663 precision 0.90521 recall 0.91504\n",
      "t_396 : loss : 0.62772 gap : 0.00002 acc 0.91504 f1 0.90663 precision 0.90521 recall 0.91504\n",
      "t_397 : loss : 0.35658 gap : 0.00001 acc 0.91504 f1 0.90663 precision 0.90521 recall 0.91504\n",
      "t_398 : loss : 0.40514 gap : 0.00001 acc 0.91504 f1 0.90663 precision 0.90521 recall 0.91504\n",
      "t_399 : loss : 0.38221 gap : 0.00001 acc 0.91504 f1 0.90663 precision 0.90521 recall 0.91504\n"
     ]
    },
    {
     "name": "stderr",
     "output_type": "stream",
     "text": [
      "/Users/Slaton/miniforge3/envs/tf_macos/lib/python3.8/site-packages/sklearn/metrics/_classification.py:1248: UndefinedMetricWarning: Precision is ill-defined and being set to 0.0 in labels with no predicted samples. Use `zero_division` parameter to control this behavior.\n",
      "  _warn_prf(average, modifier, msg_start, len(result))\n"
     ]
    },
    {
     "name": "stdout",
     "output_type": "stream",
     "text": [
      "t_400 : loss : 0.43974 gap : 0.00002 acc 0.89062 f1 0.88631 precision 0.89870 recall 0.89062\n",
      "t_401 : loss : 0.22484 gap : 0.00000 acc 0.89062 f1 0.88631 precision 0.89870 recall 0.89062\n",
      "t_402 : loss : 0.59456 gap : 0.00003 acc 0.89062 f1 0.88631 precision 0.89870 recall 0.89062\n",
      "t_403 : loss : 0.41330 gap : 0.00001 acc 0.89062 f1 0.88631 precision 0.89870 recall 0.89062\n",
      "t_404 : loss : 0.31371 gap : 0.00000 acc 0.89062 f1 0.88631 precision 0.89870 recall 0.89062\n",
      "t_405 : loss : 0.26266 gap : 0.00000 acc 0.89062 f1 0.88631 precision 0.89870 recall 0.89062\n",
      "t_406 : loss : 0.33206 gap : 0.00001 acc 0.89062 f1 0.88631 precision 0.89870 recall 0.89062\n",
      "t_407 : loss : 0.28627 gap : 0.00001 acc 0.89062 f1 0.88631 precision 0.89870 recall 0.89062\n",
      "t_408 : loss : 0.62453 gap : 0.00002 acc 1.00000 f1 1.00000 precision 1.00000 recall 1.00000\n",
      "t_409 : loss : 0.88937 gap : 0.00001 acc 1.00000 f1 1.00000 precision 1.00000 recall 1.00000\n",
      "t_410 : loss : 0.16197 gap : 0.00000 acc 1.00000 f1 1.00000 precision 1.00000 recall 1.00000\n",
      "t_411 : loss : 0.08786 gap : 0.00000 acc 1.00000 f1 1.00000 precision 1.00000 recall 1.00000\n",
      "t_412 : loss : 0.08866 gap : 0.00000 acc 1.00000 f1 1.00000 precision 1.00000 recall 1.00000\n",
      "t_413 : loss : 0.09482 gap : 0.00000 acc 1.00000 f1 1.00000 precision 1.00000 recall 1.00000\n",
      "t_414 : loss : 0.07002 gap : 0.00000 acc 1.00000 f1 1.00000 precision 1.00000 recall 1.00000\n",
      "t_415 : loss : 0.06654 gap : 0.00000 acc 1.00000 f1 1.00000 precision 1.00000 recall 1.00000\n",
      "t_416 : loss : 0.06537 gap : 0.00000 acc 1.00000 f1 1.00000 precision 1.00000 recall 1.00000\n",
      "t_417 : loss : 0.08754 gap : 0.00000 acc 1.00000 f1 1.00000 precision 1.00000 recall 1.00000\n",
      "t_418 : loss : 0.02138 gap : 0.00000 acc 1.00000 f1 1.00000 precision 1.00000 recall 1.00000\n",
      "t_419 : loss : 0.01250 gap : 0.00000 acc 1.00000 f1 1.00000 precision 1.00000 recall 1.00000\n",
      "t_420 : loss : 0.02069 gap : 0.00000 acc 1.00000 f1 1.00000 precision 1.00000 recall 1.00000\n",
      "t_421 : loss : 0.20904 gap : 0.00000 acc 1.00000 f1 1.00000 precision 1.00000 recall 1.00000\n",
      "t_422 : loss : 0.01891 gap : 0.00000 acc 1.00000 f1 1.00000 precision 1.00000 recall 1.00000\n",
      "t_423 : loss : 0.01492 gap : 0.00000 acc 1.00000 f1 1.00000 precision 1.00000 recall 1.00000\n",
      "t_424 : loss : 1.00976 gap : 0.00007 acc 0.91016 f1 0.90977 precision 0.91111 recall 0.91016\n",
      "t_425 : loss : 0.51138 gap : 0.00002 acc 0.91016 f1 0.90977 precision 0.91111 recall 0.91016\n",
      "t_426 : loss : 0.43045 gap : 0.00003 acc 0.91016 f1 0.90977 precision 0.91111 recall 0.91016\n",
      "t_427 : loss : 0.45883 gap : 0.00002 acc 0.91016 f1 0.90977 precision 0.91111 recall 0.91016\n",
      "t_428 : loss : 0.20472 gap : 0.00000 acc 0.91016 f1 0.90977 precision 0.91111 recall 0.91016\n",
      "t_429 : loss : 0.23484 gap : 0.00000 acc 0.91016 f1 0.90977 precision 0.91111 recall 0.91016\n",
      "t_430 : loss : 0.25820 gap : 0.00001 acc 0.91016 f1 0.90977 precision 0.91111 recall 0.91016\n",
      "t_431 : loss : 0.21799 gap : 0.00001 acc 0.91016 f1 0.90977 precision 0.91111 recall 0.91016\n",
      "t_432 : loss : 0.26007 gap : 0.00001 acc 0.81543 f1 0.81081 precision 0.87467 recall 0.81543\n",
      "t_433 : loss : 0.18021 gap : 0.00000 acc 0.81543 f1 0.81081 precision 0.87467 recall 0.81543\n",
      "t_434 : loss : 0.19619 gap : 0.00001 acc 0.81543 f1 0.81081 precision 0.87467 recall 0.81543\n",
      "t_435 : loss : 0.22881 gap : 0.00000 acc 0.81543 f1 0.81081 precision 0.87467 recall 0.81543\n",
      "t_436 : loss : 0.17065 gap : 0.00000 acc 0.81543 f1 0.81081 precision 0.87467 recall 0.81543\n",
      "t_437 : loss : 0.23190 gap : 0.00001 acc 0.81543 f1 0.81081 precision 0.87467 recall 0.81543\n",
      "t_438 : loss : 0.50850 gap : 0.00000 acc 0.81543 f1 0.81081 precision 0.87467 recall 0.81543\n",
      "t_439 : loss : 0.19231 gap : 0.00000 acc 0.81543 f1 0.81081 precision 0.87467 recall 0.81543\n"
     ]
    },
    {
     "name": "stderr",
     "output_type": "stream",
     "text": [
      "/Users/Slaton/miniforge3/envs/tf_macos/lib/python3.8/site-packages/sklearn/metrics/_classification.py:1248: UndefinedMetricWarning: Precision is ill-defined and being set to 0.0 in labels with no predicted samples. Use `zero_division` parameter to control this behavior.\n",
      "  _warn_prf(average, modifier, msg_start, len(result))\n"
     ]
    },
    {
     "name": "stdout",
     "output_type": "stream",
     "text": [
      "t_440 : loss : 0.35541 gap : 0.00001 acc 0.90137 f1 0.90221 precision 0.91728 recall 0.90137\n",
      "t_441 : loss : 0.23512 gap : 0.00000 acc 0.90137 f1 0.90221 precision 0.91728 recall 0.90137\n",
      "t_442 : loss : 0.20249 gap : 0.00001 acc 0.90137 f1 0.90221 precision 0.91728 recall 0.90137\n",
      "t_443 : loss : 0.20996 gap : 0.00001 acc 0.90137 f1 0.90221 precision 0.91728 recall 0.90137\n",
      "t_444 : loss : 0.15882 gap : 0.00000 acc 0.90137 f1 0.90221 precision 0.91728 recall 0.90137\n",
      "t_445 : loss : 0.18292 gap : 0.00000 acc 0.90137 f1 0.90221 precision 0.91728 recall 0.90137\n",
      "t_446 : loss : 0.16680 gap : 0.00000 acc 0.90137 f1 0.90221 precision 0.91728 recall 0.90137\n",
      "t_447 : loss : 0.18475 gap : 0.00000 acc 0.90137 f1 0.90221 precision 0.91728 recall 0.90137\n"
     ]
    },
    {
     "name": "stderr",
     "output_type": "stream",
     "text": [
      "/Users/Slaton/miniforge3/envs/tf_macos/lib/python3.8/site-packages/sklearn/metrics/_classification.py:1248: UndefinedMetricWarning: Precision is ill-defined and being set to 0.0 in labels with no predicted samples. Use `zero_division` parameter to control this behavior.\n",
      "  _warn_prf(average, modifier, msg_start, len(result))\n"
     ]
    },
    {
     "name": "stdout",
     "output_type": "stream",
     "text": [
      "t_448 : loss : 0.17729 gap : 0.00000 acc 0.86914 f1 0.86500 precision 0.88108 recall 0.86914\n",
      "t_449 : loss : 0.57537 gap : 0.00003 acc 0.86914 f1 0.86500 precision 0.88108 recall 0.86914\n",
      "t_450 : loss : 0.51929 gap : 0.00002 acc 0.86914 f1 0.86500 precision 0.88108 recall 0.86914\n",
      "t_451 : loss : 0.38986 gap : 0.00001 acc 0.86914 f1 0.86500 precision 0.88108 recall 0.86914\n",
      "t_452 : loss : 0.26763 gap : 0.00001 acc 0.86914 f1 0.86500 precision 0.88108 recall 0.86914\n",
      "t_453 : loss : 0.21773 gap : 0.00001 acc 0.86914 f1 0.86500 precision 0.88108 recall 0.86914\n",
      "t_454 : loss : 0.51768 gap : 0.00002 acc 0.86914 f1 0.86500 precision 0.88108 recall 0.86914\n",
      "t_455 : loss : 0.25141 gap : 0.00001 acc 0.86914 f1 0.86500 precision 0.88108 recall 0.86914\n"
     ]
    },
    {
     "name": "stderr",
     "output_type": "stream",
     "text": [
      "/Users/Slaton/miniforge3/envs/tf_macos/lib/python3.8/site-packages/sklearn/metrics/_classification.py:1248: UndefinedMetricWarning: Precision is ill-defined and being set to 0.0 in labels with no predicted samples. Use `zero_division` parameter to control this behavior.\n",
      "  _warn_prf(average, modifier, msg_start, len(result))\n"
     ]
    },
    {
     "name": "stdout",
     "output_type": "stream",
     "text": [
      "t_456 : loss : 0.31112 gap : 0.00001 acc 0.91211 f1 0.90648 precision 0.90761 recall 0.91211\n",
      "t_457 : loss : 0.31878 gap : 0.00000 acc 0.91211 f1 0.90648 precision 0.90761 recall 0.91211\n",
      "t_458 : loss : 0.45347 gap : 0.00002 acc 0.91211 f1 0.90648 precision 0.90761 recall 0.91211\n",
      "t_459 : loss : 0.39367 gap : 0.00001 acc 0.91211 f1 0.90648 precision 0.90761 recall 0.91211\n",
      "t_460 : loss : 0.38095 gap : 0.00001 acc 0.91211 f1 0.90648 precision 0.90761 recall 0.91211\n",
      "t_461 : loss : 0.35750 gap : 0.00001 acc 0.91211 f1 0.90648 precision 0.90761 recall 0.91211\n",
      "t_462 : loss : 0.39861 gap : 0.00001 acc 0.91211 f1 0.90648 precision 0.90761 recall 0.91211\n",
      "t_463 : loss : 0.47806 gap : 0.00001 acc 0.91211 f1 0.90648 precision 0.90761 recall 0.91211\n",
      "t_464 : loss : 0.28861 gap : 0.00001 acc 0.98340 f1 0.98342 precision 0.98357 recall 0.98340\n",
      "t_465 : loss : 0.48159 gap : 0.00001 acc 0.98340 f1 0.98342 precision 0.98357 recall 0.98340\n",
      "t_466 : loss : 0.20956 gap : 0.00001 acc 0.98340 f1 0.98342 precision 0.98357 recall 0.98340\n",
      "t_467 : loss : 0.17371 gap : 0.00001 acc 0.98340 f1 0.98342 precision 0.98357 recall 0.98340\n",
      "t_468 : loss : 0.21478 gap : 0.00001 acc 0.98340 f1 0.98342 precision 0.98357 recall 0.98340\n",
      "t_469 : loss : 0.20245 gap : 0.00001 acc 0.98340 f1 0.98342 precision 0.98357 recall 0.98340\n",
      "t_470 : loss : 0.16510 gap : 0.00001 acc 0.98340 f1 0.98342 precision 0.98357 recall 0.98340\n",
      "t_471 : loss : 0.13988 gap : 0.00001 acc 0.98340 f1 0.98342 precision 0.98357 recall 0.98340\n",
      "t_472 : loss : 0.70038 gap : 0.00000 acc 0.98535 f1 0.98520 precision 0.98547 recall 0.98535\n",
      "t_473 : loss : 0.10542 gap : 0.00000 acc 0.98535 f1 0.98520 precision 0.98547 recall 0.98535\n",
      "t_474 : loss : 0.14588 gap : 0.00000 acc 0.98535 f1 0.98520 precision 0.98547 recall 0.98535\n",
      "t_475 : loss : 0.12129 gap : 0.00000 acc 0.98535 f1 0.98520 precision 0.98547 recall 0.98535\n",
      "t_476 : loss : 0.15049 gap : 0.00001 acc 0.98535 f1 0.98520 precision 0.98547 recall 0.98535\n",
      "t_477 : loss : 0.14337 gap : 0.00000 acc 0.98535 f1 0.98520 precision 0.98547 recall 0.98535\n",
      "t_478 : loss : 0.11443 gap : 0.00000 acc 0.98535 f1 0.98520 precision 0.98547 recall 0.98535\n",
      "t_479 : loss : 0.09662 gap : 0.00000 acc 0.98535 f1 0.98520 precision 0.98547 recall 0.98535\n",
      "t_480 : loss : 0.08650 gap : 0.00001 acc 1.00000 f1 1.00000 precision 1.00000 recall 1.00000\n",
      "t_481 : loss : 0.06295 gap : 0.00000 acc 1.00000 f1 1.00000 precision 1.00000 recall 1.00000\n",
      "t_482 : loss : 0.07433 gap : 0.00000 acc 1.00000 f1 1.00000 precision 1.00000 recall 1.00000\n",
      "t_483 : loss : 0.05105 gap : 0.00000 acc 1.00000 f1 1.00000 precision 1.00000 recall 1.00000\n",
      "t_484 : loss : 0.04129 gap : 0.00000 acc 1.00000 f1 1.00000 precision 1.00000 recall 1.00000\n",
      "t_485 : loss : 0.04107 gap : 0.00000 acc 1.00000 f1 1.00000 precision 1.00000 recall 1.00000\n",
      "t_486 : loss : 0.03755 gap : 0.00000 acc 1.00000 f1 1.00000 precision 1.00000 recall 1.00000\n",
      "t_487 : loss : 0.04259 gap : 0.00000 acc 1.00000 f1 1.00000 precision 1.00000 recall 1.00000\n",
      "t_488 : loss : 0.74651 gap : 0.00004 acc 0.91016 f1 0.91135 precision 0.92270 recall 0.91016\n",
      "t_489 : loss : 0.31484 gap : 0.00000 acc 0.91016 f1 0.91135 precision 0.92270 recall 0.91016\n",
      "t_490 : loss : 0.18804 gap : 0.00000 acc 0.91016 f1 0.91135 precision 0.92270 recall 0.91016\n",
      "t_491 : loss : 0.21204 gap : 0.00000 acc 0.91016 f1 0.91135 precision 0.92270 recall 0.91016\n",
      "t_492 : loss : 0.18839 gap : 0.00000 acc 0.91016 f1 0.91135 precision 0.92270 recall 0.91016\n",
      "t_493 : loss : 0.23683 gap : 0.00001 acc 0.91016 f1 0.91135 precision 0.92270 recall 0.91016\n",
      "t_494 : loss : 0.17422 gap : 0.00000 acc 0.91016 f1 0.91135 precision 0.92270 recall 0.91016\n",
      "t_495 : loss : 0.18236 gap : 0.00000 acc 0.91016 f1 0.91135 precision 0.92270 recall 0.91016\n",
      "t_496 : loss : 0.20606 gap : 0.00000 acc 0.85840 f1 0.86019 precision 0.89917 recall 0.85840\n",
      "t_497 : loss : 0.15307 gap : 0.00000 acc 0.85840 f1 0.86019 precision 0.89917 recall 0.85840\n",
      "t_498 : loss : 0.13784 gap : 0.00000 acc 0.85840 f1 0.86019 precision 0.89917 recall 0.85840\n",
      "t_499 : loss : 0.16501 gap : 0.00001 acc 0.85840 f1 0.86019 precision 0.89917 recall 0.85840\n",
      "t_500 : loss : 0.23401 gap : 0.00000 acc 0.85840 f1 0.86019 precision 0.89917 recall 0.85840\n",
      "t_501 : loss : 0.17419 gap : 0.00000 acc 0.85840 f1 0.86019 precision 0.89917 recall 0.85840\n",
      "t_502 : loss : 0.22643 gap : 0.00000 acc 0.85840 f1 0.86019 precision 0.89917 recall 0.85840\n",
      "t_503 : loss : 0.23184 gap : 0.00000 acc 0.85840 f1 0.86019 precision 0.89917 recall 0.85840\n"
     ]
    }
   ],
   "source": [
    "values_dmfw = trainXMFW.train(DMFW, L_DMFW, eta_coef_DMFW, eta_exp_DMFW, reg_coef_DMFW,1,\n",
    "                            path_figure_date=None)"
   ]
  },
  {
   "cell_type": "code",
   "execution_count": 212,
   "id": "a68313d5",
   "metadata": {
    "ExecuteTime": {
     "end_time": "2021-08-24T08:35:29.230785Z",
     "start_time": "2021-08-24T08:35:29.223050Z"
    }
   },
   "outputs": [
    {
     "data": {
      "text/plain": [
       "0.4032919930445681"
      ]
     },
     "execution_count": 212,
     "metadata": {},
     "output_type": "execute_result"
    }
   ],
   "source": [
    "np.mean(values_dmfw[:,1][:-1])"
   ]
  },
  {
   "cell_type": "code",
   "execution_count": 213,
   "id": "b4df1940",
   "metadata": {
    "ExecuteTime": {
     "end_time": "2021-08-24T08:35:32.638864Z",
     "start_time": "2021-08-24T08:35:32.634140Z"
    }
   },
   "outputs": [],
   "source": [
    "def average_loss(array):\n",
    "    nb_iter = len(array)\n",
    "    onlineloss = np.cumsum(array)\n",
    "    arangement = np.arange(1,nb_iter+1)\n",
    "    onlineloss = onlineloss/arangement\n",
    "    return onlineloss"
   ]
  },
  {
   "cell_type": "code",
   "execution_count": 259,
   "id": "45c19038",
   "metadata": {
    "ExecuteTime": {
     "end_time": "2021-08-24T09:50:51.181755Z",
     "start_time": "2021-08-24T09:50:51.068769Z"
    }
   },
   "outputs": [
    {
     "data": {
      "text/plain": [
       "Text(0, 0.5, 'Accuracy/F1')"
      ]
     },
     "execution_count": 259,
     "metadata": {},
     "output_type": "execute_result"
    },
    {
     "data": {
      "image/png": "[encoded data removed]",
      "text/plain": [
       "<Figure size 720x360 with 1 Axes>"
      ]
     },
     "metadata": {},
     "output_type": "display_data"
    }
   ],
   "source": [
    "plt.figure(figsize=(10,5))\n",
    "#plt.plot(values_dmfw[:,0][:-1],average_loss(values_dmfw[:,3][:-1]), label='Online Accuracy', marker='^', markersize=4,\n",
    "#         markevery=[i for i in range(len(values_dmfw[:,0][1:])) if i%10==0])\n",
    "plt.plot(values_dmfw[:,0][:-1],average_loss(values_dmfw[:,4][:-1]), label='Online F1-Score', marker='^', markersize=4,\n",
    "         markevery=[i for i in range(len(values_dmfw[:,0][1:])) if i%10==0])\n",
    "plt.plot(values_dmfw[:,0][:-1],average_loss(values_dmfw[:,5][:-1]), label='Online Precision', marker='^', markersize=4,\n",
    "         markevery=[i for i in range(len(values_dmfw[:,0][1:])) if i%10==0])\n",
    "plt.plot(values_dmfw[:,0][:-1],average_loss(values_dmfw[:,6][:-1]), label='Online Recall', marker='^', markersize=4,\n",
    "         markevery=[i for i in range(len(values_dmfw[:,0][1:])) if i%10==0])\n",
    "plt.legend(loc='lower right')\n",
    "#plt.yscale(\"log\")\n",
    "plt.xlabel(\"Iterations\",fontsize=15)\n",
    "plt.ylabel(\"Accuracy/F1\",fontsize=15)"
   ]
  },
  {
   "cell_type": "code",
   "execution_count": 217,
   "id": "1ead75e3",
   "metadata": {
    "ExecuteTime": {
     "end_time": "2021-08-24T08:36:23.351748Z",
     "start_time": "2021-08-24T08:36:23.100590Z"
    }
   },
   "outputs": [
    {
     "data": {
      "text/plain": [
       "Text(0, 0.5, 'Loss')"
      ]
     },
     "execution_count": 217,
     "metadata": {},
     "output_type": "execute_result"
    },
    {
     "data": {
      "image/png": "[encoded data removed]",
      "text/plain": [
       "<Figure size 720x360 with 1 Axes>"
      ]
     },
     "metadata": {},
     "output_type": "display_data"
    }
   ],
   "source": [
    "plt.figure(figsize=(10,5))\n",
    "plt.plot(values_dmfw[:,0][:-1],values_dmfw[:,1][:-1], label='Step Loss', marker='^', markersize=4,\n",
    "         markevery=[i for i in range(len(values_dmfw[:,0][1:])) if i%10==0])\n",
    "plt.plot(values_dmfw[:,0][:-1],average_loss(values_dmfw[:,1][:-1]), label='Online Loss', marker='^', markersize=4,\n",
    "         markevery=[i for i in range(len(values_dmfw[:,0][1:])) if i%10==0])\n",
    "plt.axhline(y=0, color='grey', linestyle='--')\n",
    "plt.legend(loc='upper right')\n",
    "plt.yscale(\"log\")\n",
    "plt.xlabel(\"Iterations\",fontsize=15)\n",
    "plt.ylabel(\"Loss\",fontsize=15)"
   ]
  },
  {
   "cell_type": "code",
   "execution_count": 218,
   "id": "a9a31168",
   "metadata": {
    "ExecuteTime": {
     "end_time": "2021-08-24T08:36:27.237411Z",
     "start_time": "2021-08-24T08:36:27.230920Z"
    }
   },
   "outputs": [],
   "source": [
    "def prediction(model, loader):\n",
    "    correct = 0\n",
    "    total = 0\n",
    "    with torch.no_grad():\n",
    "        for data in loader:\n",
    "            images, labels = data\n",
    "            outputs = model(images)\n",
    "            _, predicted = torch.max(outputs, 1)\n",
    "            total += labels.size(0)\n",
    "            correct += (predicted == labels).sum().item()\n",
    "        print(\"Accuracy : {} {}\".format(100 * correct/total, \"%\"))"
   ]
  },
  {
   "cell_type": "code",
   "execution_count": 358,
   "id": "88b5a941",
   "metadata": {
    "ExecuteTime": {
     "end_time": "2021-08-24T12:53:40.588865Z",
     "start_time": "2021-08-24T12:53:40.578985Z"
    }
   },
   "outputs": [],
   "source": [
    "def ModelPrediction(model_to_test, date ,loader):\n",
    "    correct = 0\n",
    "    total = 0\n",
    "    f1 = 0\n",
    "    true_array = []\n",
    "    pred_array = []\n",
    "    model_to_test.eval()\n",
    "    with torch.no_grad():\n",
    "        for series, label in loader[date]:\n",
    "            outputs = model_to_test(series)\n",
    "            _, predicted = torch.max(outputs,1)\n",
    "            '''\n",
    "            print(\"------------------------\")\n",
    "            print(f'Label {label}')\n",
    "            print(f'Prediction {predicted}')\n",
    "            print(f'Correct Prediction {(predicted == label).sum().item()}')\n",
    "            print(\"-------------------------\")'''\n",
    "            total += label.size(0)\n",
    "            correct += (predicted == label).sum().item()\n",
    "            true_array.append(label.detach().numpy())\n",
    "            pred_array.append(predicted.detach().numpy())\n",
    "            \n",
    "        truth_roll = np.asarray(true_array).flatten()\n",
    "        pred_roll = np.asarray(pred_array).flatten()\n",
    "        \n",
    "        #series_truth_roll = []\n",
    "        #series_pred_roll = []\n",
    "        #for t,p in zip(truth_roll, pred_roll):\n",
    "        #    series_truth_roll.append([t]*seq_len)\n",
    "        #    series_pred_roll.append([p]*seq_len)\n",
    "        #series_truth_roll = np.asarray(series_truth_roll).flatten()\n",
    "        #series_pred_roll = np.asarray(series_pred_roll).flatten()\n",
    "        \n",
    "        #truth_reconstruct = np.asarray(true_array)[::seq_len].flatten()\n",
    "        #pred_reconstruct = np.asarray(pred_array)[::seq_len].flatten()\n",
    "        \n",
    "        f1 = f1_score(truth_roll, pred_roll, average='weighted')\n",
    "        precision = precision_score(truth_roll, pred_roll, average='weighted')\n",
    "        recall = recall_score(truth_roll, pred_roll, average='weighted')\n",
    "        conf_mat = confusion_matrix(truth_roll, pred_roll)\n",
    "        #print(true_array.shape)\n",
    "        accuracy = correct/total\n",
    "        print(classification_report(truth_roll, pred_roll))\n",
    "    return accuracy, f1 , precision, recall, conf_mat, truth_roll, pred_roll"
   ]
  },
  {
   "cell_type": "code",
   "execution_count": 359,
   "id": "5ca89b59",
   "metadata": {
    "ExecuteTime": {
     "end_time": "2021-08-24T12:53:41.018774Z",
     "start_time": "2021-08-24T12:53:40.995281Z"
    }
   },
   "outputs": [
    {
     "name": "stdout",
     "output_type": "stream",
     "text": [
      "              precision    recall  f1-score   support\n",
      "\n",
      "           0       1.00      1.00      1.00       256\n",
      "\n",
      "    accuracy                           1.00       256\n",
      "   macro avg       1.00      1.00      1.00       256\n",
      "weighted avg       1.00      1.00      1.00       256\n",
      "\n"
     ]
    }
   ],
   "source": [
    "date_acc, date_f1, date_prec, date_rec, conf_mat, true, pred = ModelPrediction(trainXMFW.best_models[model_idx], test_date[i], testloader[model_idx])"
   ]
  },
  {
   "cell_type": "code",
   "execution_count": 360,
   "id": "76eefc59",
   "metadata": {
    "ExecuteTime": {
     "end_time": "2021-08-24T12:53:42.512182Z",
     "start_time": "2021-08-24T12:53:42.508320Z"
    }
   },
   "outputs": [
    {
     "data": {
      "text/plain": [
       "237"
      ]
     },
     "execution_count": 360,
     "metadata": {},
     "output_type": "execute_result"
    }
   ],
   "source": [
    "len(test_date)"
   ]
  },
  {
   "cell_type": "code",
   "execution_count": 395,
   "id": "90f1de8b",
   "metadata": {
    "ExecuteTime": {
     "end_time": "2021-08-24T12:57:06.266242Z",
     "start_time": "2021-08-24T12:57:06.122534Z"
    },
    "scrolled": true
   },
   "outputs": [
    {
     "name": "stdout",
     "output_type": "stream",
     "text": [
      "-----2019-05-09-----\n",
      "              precision    recall  f1-score   support\n",
      "\n",
      "           0       1.00      0.97      0.98       229\n",
      "           2       0.81      0.96      0.88        27\n",
      "\n",
      "    accuracy                           0.97       256\n",
      "   macro avg       0.90      0.97      0.93       256\n",
      "weighted avg       0.98      0.97      0.97       256\n",
      "\n",
      "-----2019-05-10-----\n",
      "              precision    recall  f1-score   support\n",
      "\n",
      "           0       0.96      0.96      0.96       160\n",
      "           2       0.93      0.93      0.93        96\n",
      "\n",
      "    accuracy                           0.95       256\n",
      "   macro avg       0.94      0.94      0.94       256\n",
      "weighted avg       0.95      0.95      0.95       256\n",
      "\n",
      "-----2019-05-11-----\n",
      "              precision    recall  f1-score   support\n",
      "\n",
      "           0       1.00      1.00      1.00       256\n",
      "\n",
      "    accuracy                           1.00       256\n",
      "   macro avg       1.00      1.00      1.00       256\n",
      "weighted avg       1.00      1.00      1.00       256\n",
      "\n",
      "-----2019-05-12-----\n",
      "              precision    recall  f1-score   support\n",
      "\n",
      "           0       1.00      1.00      1.00       256\n",
      "\n",
      "    accuracy                           1.00       256\n",
      "   macro avg       1.00      1.00      1.00       256\n",
      "weighted avg       1.00      1.00      1.00       256\n",
      "\n",
      "-----2019-05-13-----\n",
      "              precision    recall  f1-score   support\n",
      "\n",
      "           0       0.96      0.96      0.96       160\n",
      "           2       0.93      0.94      0.93        96\n",
      "\n",
      "    accuracy                           0.95       256\n",
      "   macro avg       0.95      0.95      0.95       256\n",
      "weighted avg       0.95      0.95      0.95       256\n",
      "\n",
      "-----2019-05-14-----\n",
      "              precision    recall  f1-score   support\n",
      "\n",
      "           0       0.97      0.60      0.74       163\n",
      "           1       0.00      0.00      0.00         8\n",
      "           2       0.53      0.96      0.68        85\n",
      "\n",
      "    accuracy                           0.70       256\n",
      "   macro avg       0.50      0.52      0.47       256\n",
      "weighted avg       0.79      0.70      0.70       256\n",
      "\n",
      "-----2019-05-15-----\n",
      "              precision    recall  f1-score   support\n",
      "\n",
      "           0       1.00      0.59      0.74       162\n",
      "           1       0.00      0.00      0.00        22\n",
      "           2       0.45      1.00      0.62        72\n",
      "\n",
      "    accuracy                           0.66       256\n",
      "   macro avg       0.48      0.53      0.45       256\n",
      "weighted avg       0.76      0.66      0.65       256\n",
      "\n",
      "-----2019-05-16-----\n",
      "              precision    recall  f1-score   support\n",
      "\n",
      "           0       1.00      0.70      0.82       163\n",
      "           1       0.00      0.00      0.00         5\n",
      "           2       0.62      1.00      0.77        88\n",
      "\n",
      "    accuracy                           0.79       256\n",
      "   macro avg       0.54      0.57      0.53       256\n",
      "weighted avg       0.85      0.79      0.79       256\n",
      "\n",
      "-----2019-05-17-----\n",
      "              precision    recall  f1-score   support\n",
      "\n",
      "           0       1.00      0.92      0.96       165\n",
      "           2       0.87      1.00      0.93        91\n",
      "\n",
      "    accuracy                           0.95       256\n",
      "   macro avg       0.93      0.96      0.94       256\n",
      "weighted avg       0.95      0.95      0.95       256\n",
      "\n",
      "-----2019-05-18-----\n",
      "              precision    recall  f1-score   support\n",
      "\n",
      "           0       1.00      1.00      1.00       256\n",
      "\n",
      "    accuracy                           1.00       256\n",
      "   macro avg       1.00      1.00      1.00       256\n",
      "weighted avg       1.00      1.00      1.00       256\n",
      "\n",
      "-----2019-05-19-----\n",
      "              precision    recall  f1-score   support\n",
      "\n",
      "           0       1.00      1.00      1.00       256\n",
      "\n",
      "    accuracy                           1.00       256\n",
      "   macro avg       1.00      1.00      1.00       256\n",
      "weighted avg       1.00      1.00      1.00       256\n",
      "\n",
      "-----2019-05-20-----\n",
      "              precision    recall  f1-score   support\n",
      "\n",
      "           0       1.00      1.00      1.00       256\n",
      "\n",
      "    accuracy                           1.00       256\n",
      "   macro avg       1.00      1.00      1.00       256\n",
      "weighted avg       1.00      1.00      1.00       256\n",
      "\n",
      "-----2019-05-21-----\n",
      "              precision    recall  f1-score   support\n",
      "\n",
      "           0       0.91      1.00      0.95       160\n",
      "           2       1.00      0.83      0.91        96\n",
      "\n",
      "    accuracy                           0.94       256\n",
      "   macro avg       0.95      0.92      0.93       256\n",
      "weighted avg       0.94      0.94      0.94       256\n",
      "\n",
      "-----2019-05-22-----\n",
      "              precision    recall  f1-score   support\n",
      "\n",
      "           0       0.98      0.94      0.96       160\n",
      "           2       0.90      0.97      0.93        96\n",
      "\n",
      "    accuracy                           0.95       256\n",
      "   macro avg       0.94      0.95      0.95       256\n",
      "weighted avg       0.95      0.95      0.95       256\n",
      "\n",
      "-----2019-05-23-----\n",
      "              precision    recall  f1-score   support\n",
      "\n",
      "           0       0.98      0.62      0.76       163\n",
      "           1       0.00      0.00      0.00         5\n",
      "           2       0.56      0.98      0.71        88\n",
      "\n",
      "    accuracy                           0.73       256\n",
      "   macro avg       0.51      0.53      0.49       256\n",
      "weighted avg       0.82      0.73      0.73       256\n",
      "\n",
      "-----2019-05-24-----\n",
      "              precision    recall  f1-score   support\n",
      "\n",
      "           0       1.00      0.70      0.82       162\n",
      "           1       0.00      0.00      0.00         3\n",
      "           2       0.64      1.00      0.78        91\n",
      "\n",
      "    accuracy                           0.80       256\n",
      "   macro avg       0.55      0.57      0.53       256\n",
      "weighted avg       0.86      0.80      0.80       256\n",
      "\n",
      "-----2019-05-25-----\n",
      "              precision    recall  f1-score   support\n",
      "\n",
      "           0       1.00      1.00      1.00       256\n",
      "\n",
      "    accuracy                           1.00       256\n",
      "   macro avg       1.00      1.00      1.00       256\n",
      "weighted avg       1.00      1.00      1.00       256\n",
      "\n",
      "-----2019-05-26-----\n",
      "              precision    recall  f1-score   support\n",
      "\n",
      "           0       1.00      1.00      1.00       256\n",
      "\n",
      "    accuracy                           1.00       256\n",
      "   macro avg       1.00      1.00      1.00       256\n",
      "weighted avg       1.00      1.00      1.00       256\n",
      "\n",
      "-----2019-05-27-----\n",
      "              precision    recall  f1-score   support\n",
      "\n",
      "           0       0.94      0.98      0.96       160\n",
      "           2       0.97      0.90      0.93        96\n",
      "\n",
      "    accuracy                           0.95       256\n",
      "   macro avg       0.95      0.94      0.94       256\n",
      "weighted avg       0.95      0.95      0.95       256\n",
      "\n",
      "-----2019-05-28-----\n",
      "              precision    recall  f1-score   support\n",
      "\n",
      "           0       0.96      0.93      0.94       160\n",
      "           2       0.88      0.94      0.91        96\n",
      "\n",
      "    accuracy                           0.93       256\n",
      "   macro avg       0.92      0.93      0.93       256\n",
      "weighted avg       0.93      0.93      0.93       256\n",
      "\n"
     ]
    },
    {
     "name": "stderr",
     "output_type": "stream",
     "text": [
      "/Users/Slaton/miniforge3/envs/tf_macos/lib/python3.8/site-packages/sklearn/metrics/_classification.py:1248: UndefinedMetricWarning: Precision is ill-defined and being set to 0.0 in labels with no predicted samples. Use `zero_division` parameter to control this behavior.\n",
      "  _warn_prf(average, modifier, msg_start, len(result))\n",
      "/Users/Slaton/miniforge3/envs/tf_macos/lib/python3.8/site-packages/sklearn/metrics/_classification.py:1248: UndefinedMetricWarning: Precision and F-score are ill-defined and being set to 0.0 in labels with no predicted samples. Use `zero_division` parameter to control this behavior.\n",
      "  _warn_prf(average, modifier, msg_start, len(result))\n",
      "/Users/Slaton/miniforge3/envs/tf_macos/lib/python3.8/site-packages/sklearn/metrics/_classification.py:1248: UndefinedMetricWarning: Precision and F-score are ill-defined and being set to 0.0 in labels with no predicted samples. Use `zero_division` parameter to control this behavior.\n",
      "  _warn_prf(average, modifier, msg_start, len(result))\n",
      "/Users/Slaton/miniforge3/envs/tf_macos/lib/python3.8/site-packages/sklearn/metrics/_classification.py:1248: UndefinedMetricWarning: Precision and F-score are ill-defined and being set to 0.0 in labels with no predicted samples. Use `zero_division` parameter to control this behavior.\n",
      "  _warn_prf(average, modifier, msg_start, len(result))\n",
      "/Users/Slaton/miniforge3/envs/tf_macos/lib/python3.8/site-packages/sklearn/metrics/_classification.py:1248: UndefinedMetricWarning: Precision is ill-defined and being set to 0.0 in labels with no predicted samples. Use `zero_division` parameter to control this behavior.\n",
      "  _warn_prf(average, modifier, msg_start, len(result))\n",
      "/Users/Slaton/miniforge3/envs/tf_macos/lib/python3.8/site-packages/sklearn/metrics/_classification.py:1248: UndefinedMetricWarning: Precision and F-score are ill-defined and being set to 0.0 in labels with no predicted samples. Use `zero_division` parameter to control this behavior.\n",
      "  _warn_prf(average, modifier, msg_start, len(result))\n",
      "/Users/Slaton/miniforge3/envs/tf_macos/lib/python3.8/site-packages/sklearn/metrics/_classification.py:1248: UndefinedMetricWarning: Precision and F-score are ill-defined and being set to 0.0 in labels with no predicted samples. Use `zero_division` parameter to control this behavior.\n",
      "  _warn_prf(average, modifier, msg_start, len(result))\n",
      "/Users/Slaton/miniforge3/envs/tf_macos/lib/python3.8/site-packages/sklearn/metrics/_classification.py:1248: UndefinedMetricWarning: Precision and F-score are ill-defined and being set to 0.0 in labels with no predicted samples. Use `zero_division` parameter to control this behavior.\n",
      "  _warn_prf(average, modifier, msg_start, len(result))\n",
      "/Users/Slaton/miniforge3/envs/tf_macos/lib/python3.8/site-packages/sklearn/metrics/_classification.py:1248: UndefinedMetricWarning: Precision is ill-defined and being set to 0.0 in labels with no predicted samples. Use `zero_division` parameter to control this behavior.\n",
      "  _warn_prf(average, modifier, msg_start, len(result))\n",
      "/Users/Slaton/miniforge3/envs/tf_macos/lib/python3.8/site-packages/sklearn/metrics/_classification.py:1248: UndefinedMetricWarning: Precision and F-score are ill-defined and being set to 0.0 in labels with no predicted samples. Use `zero_division` parameter to control this behavior.\n",
      "  _warn_prf(average, modifier, msg_start, len(result))\n",
      "/Users/Slaton/miniforge3/envs/tf_macos/lib/python3.8/site-packages/sklearn/metrics/_classification.py:1248: UndefinedMetricWarning: Precision and F-score are ill-defined and being set to 0.0 in labels with no predicted samples. Use `zero_division` parameter to control this behavior.\n",
      "  _warn_prf(average, modifier, msg_start, len(result))\n",
      "/Users/Slaton/miniforge3/envs/tf_macos/lib/python3.8/site-packages/sklearn/metrics/_classification.py:1248: UndefinedMetricWarning: Precision and F-score are ill-defined and being set to 0.0 in labels with no predicted samples. Use `zero_division` parameter to control this behavior.\n",
      "  _warn_prf(average, modifier, msg_start, len(result))\n",
      "/Users/Slaton/miniforge3/envs/tf_macos/lib/python3.8/site-packages/sklearn/metrics/_classification.py:1248: UndefinedMetricWarning: Precision is ill-defined and being set to 0.0 in labels with no predicted samples. Use `zero_division` parameter to control this behavior.\n",
      "  _warn_prf(average, modifier, msg_start, len(result))\n",
      "/Users/Slaton/miniforge3/envs/tf_macos/lib/python3.8/site-packages/sklearn/metrics/_classification.py:1248: UndefinedMetricWarning: Precision and F-score are ill-defined and being set to 0.0 in labels with no predicted samples. Use `zero_division` parameter to control this behavior.\n",
      "  _warn_prf(average, modifier, msg_start, len(result))\n",
      "/Users/Slaton/miniforge3/envs/tf_macos/lib/python3.8/site-packages/sklearn/metrics/_classification.py:1248: UndefinedMetricWarning: Precision and F-score are ill-defined and being set to 0.0 in labels with no predicted samples. Use `zero_division` parameter to control this behavior.\n",
      "  _warn_prf(average, modifier, msg_start, len(result))\n",
      "/Users/Slaton/miniforge3/envs/tf_macos/lib/python3.8/site-packages/sklearn/metrics/_classification.py:1248: UndefinedMetricWarning: Precision and F-score are ill-defined and being set to 0.0 in labels with no predicted samples. Use `zero_division` parameter to control this behavior.\n",
      "  _warn_prf(average, modifier, msg_start, len(result))\n",
      "/Users/Slaton/miniforge3/envs/tf_macos/lib/python3.8/site-packages/sklearn/metrics/_classification.py:1248: UndefinedMetricWarning: Precision is ill-defined and being set to 0.0 in labels with no predicted samples. Use `zero_division` parameter to control this behavior.\n",
      "  _warn_prf(average, modifier, msg_start, len(result))\n",
      "/Users/Slaton/miniforge3/envs/tf_macos/lib/python3.8/site-packages/sklearn/metrics/_classification.py:1248: UndefinedMetricWarning: Precision and F-score are ill-defined and being set to 0.0 in labels with no predicted samples. Use `zero_division` parameter to control this behavior.\n",
      "  _warn_prf(average, modifier, msg_start, len(result))\n",
      "/Users/Slaton/miniforge3/envs/tf_macos/lib/python3.8/site-packages/sklearn/metrics/_classification.py:1248: UndefinedMetricWarning: Precision and F-score are ill-defined and being set to 0.0 in labels with no predicted samples. Use `zero_division` parameter to control this behavior.\n",
      "  _warn_prf(average, modifier, msg_start, len(result))\n",
      "/Users/Slaton/miniforge3/envs/tf_macos/lib/python3.8/site-packages/sklearn/metrics/_classification.py:1248: UndefinedMetricWarning: Precision and F-score are ill-defined and being set to 0.0 in labels with no predicted samples. Use `zero_division` parameter to control this behavior.\n",
      "  _warn_prf(average, modifier, msg_start, len(result))\n"
     ]
    }
   ],
   "source": [
    "test_acc = []\n",
    "test_f1 = []\n",
    "test_prec = []\n",
    "test_rec = []\n",
    "prediction = []\n",
    "truth = []\n",
    "model_idx = 2\n",
    "for i in range(20):\n",
    "    print(f'-----{test_date[i]}-----')\n",
    "    date_acc, date_f1, date_prec, date_rec, conf_mat, true, pred = ModelPrediction(trainXMFW.best_models[model_idx], test_date[i], testloader[model_idx])\n",
    "    conf_mat = pd.DataFrame(conf_mat)\n",
    "    #plt.figure()\n",
    "    #sns.heatmap(conf_mat, annot=True)\n",
    "    #plt.figure()\n",
    "    #sns.heatmap(conf_mat, annot_kws={\"size\": 15})\n",
    "    test_acc.append(date_acc)\n",
    "    test_f1.append(date_f1)\n",
    "    test_prec.append(date_prec)\n",
    "    test_rec.append(date_rec)\n",
    "    truth.append(true)\n",
    "    prediction.append(pred)"
   ]
  },
  {
   "cell_type": "code",
   "execution_count": 387,
   "id": "089b6662",
   "metadata": {
    "ExecuteTime": {
     "end_time": "2021-08-24T12:56:18.049970Z",
     "start_time": "2021-08-24T12:56:17.946633Z"
    }
   },
   "outputs": [
    {
     "data": {
      "text/plain": [
       "<matplotlib.legend.Legend at 0x2a07c0d00>"
      ]
     },
     "execution_count": 387,
     "metadata": {},
     "output_type": "execute_result"
    },
    {
     "data": {
      "image/png": "[encoded data removed]",
      "text/plain": [
       "<Figure size 720x360 with 1 Axes>"
      ]
     },
     "metadata": {},
     "output_type": "display_data"
    }
   ],
   "source": [
    "plt.figure(figsize=(10,5))\n",
    "plt.plot(test_prec, label='Precision')\n",
    "plt.plot(test_rec, label='Recall')\n",
    "plt.plot(test_f1, label='F1-Score')\n",
    "plt.legend()"
   ]
  },
  {
   "cell_type": "code",
   "execution_count": 396,
   "id": "c472cf06",
   "metadata": {
    "ExecuteTime": {
     "end_time": "2021-08-24T12:57:11.756242Z",
     "start_time": "2021-08-24T12:57:11.753673Z"
    }
   },
   "outputs": [],
   "source": [
    "hehe = test_date[:20]"
   ]
  },
  {
   "cell_type": "code",
   "execution_count": 397,
   "id": "5a0fe4fc",
   "metadata": {
    "ExecuteTime": {
     "end_time": "2021-08-24T12:57:12.724094Z",
     "start_time": "2021-08-24T12:57:12.081917Z"
    }
   },
   "outputs": [],
   "source": [
    "real = resample_data_classes['Floor7Z1'].loc[resample_data_classes['Floor7Z1'].apply(lambda x: x.date in hehe, axis=1)]"
   ]
  },
  {
   "cell_type": "code",
   "execution_count": 398,
   "id": "76a13cbd",
   "metadata": {
    "ExecuteTime": {
     "end_time": "2021-08-24T12:57:12.727874Z",
     "start_time": "2021-08-24T12:57:12.725064Z"
    }
   },
   "outputs": [
    {
     "data": {
      "text/plain": [
       "Date\n",
       "2019-05-09 00:00:00    0.05\n",
       "2019-05-09 00:05:00    0.05\n",
       "2019-05-09 00:10:00    0.05\n",
       "2019-05-09 00:15:00    0.05\n",
       "2019-05-09 00:20:00    0.05\n",
       "                       ... \n",
       "2019-05-28 23:35:00    0.10\n",
       "2019-05-28 23:40:00    0.10\n",
       "2019-05-28 23:45:00    0.10\n",
       "2019-05-28 23:50:00    0.10\n",
       "2019-05-28 23:55:00    0.10\n",
       "Freq: 5T, Name: ACPower, Length: 5760, dtype: float64"
      ]
     },
     "execution_count": 398,
     "metadata": {},
     "output_type": "execute_result"
    }
   ],
   "source": [
    "real['ACPower']"
   ]
  },
  {
   "cell_type": "code",
   "execution_count": 399,
   "id": "9dca071f",
   "metadata": {
    "ExecuteTime": {
     "end_time": "2021-08-24T12:57:13.452279Z",
     "start_time": "2021-08-24T12:57:13.299301Z"
    }
   },
   "outputs": [
    {
     "data": {
      "text/plain": [
       "<AxesSubplot:xlabel='Date'>"
      ]
     },
     "execution_count": 399,
     "metadata": {},
     "output_type": "execute_result"
    },
    {
     "data": {
      "image/png": "[encoded data removed]",
      "text/plain": [
       "<Figure size 432x288 with 1 Axes>"
      ]
     },
     "metadata": {},
     "output_type": "display_data"
    }
   ],
   "source": [
    "real['ACPower'].plot()"
   ]
  },
  {
   "cell_type": "code",
   "execution_count": 400,
   "id": "caf77089",
   "metadata": {
    "ExecuteTime": {
     "end_time": "2021-08-24T12:57:16.458462Z",
     "start_time": "2021-08-24T12:57:16.454659Z"
    }
   },
   "outputs": [],
   "source": [
    "truetrue = np.asarray(truth).flatten()\n",
    "predpred = np.asarray(prediction).flatten()"
   ]
  },
  {
   "cell_type": "code",
   "execution_count": 401,
   "id": "dede5467",
   "metadata": {
    "ExecuteTime": {
     "end_time": "2021-08-24T12:57:17.185660Z",
     "start_time": "2021-08-24T12:57:17.091908Z"
    }
   },
   "outputs": [
    {
     "data": {
      "text/plain": [
       "[<matplotlib.lines.Line2D at 0x296b36940>]"
      ]
     },
     "execution_count": 401,
     "metadata": {},
     "output_type": "execute_result"
    },
    {
     "data": {
      "image/png": "[encoded data removed]",
      "text/plain": [
       "<Figure size 432x288 with 1 Axes>"
      ]
     },
     "metadata": {},
     "output_type": "display_data"
    }
   ],
   "source": [
    "plt.plot(np.asarray(truth).flatten())"
   ]
  },
  {
   "cell_type": "code",
   "execution_count": 402,
   "id": "b54f79a7",
   "metadata": {
    "ExecuteTime": {
     "end_time": "2021-08-24T12:57:26.368972Z",
     "start_time": "2021-08-24T12:57:26.276062Z"
    }
   },
   "outputs": [
    {
     "data": {
      "text/plain": [
       "[<matplotlib.lines.Line2D at 0x15594b160>]"
      ]
     },
     "execution_count": 402,
     "metadata": {},
     "output_type": "execute_result"
    },
    {
     "data": {
      "image/png": "[encoded data removed]",
      "text/plain": [
       "<Figure size 432x288 with 1 Axes>"
      ]
     },
     "metadata": {},
     "output_type": "display_data"
    }
   ],
   "source": [
    "plt.plot(np.asarray(prediction).flatten())"
   ]
  },
  {
   "cell_type": "markdown",
   "id": "88aa4d75",
   "metadata": {},
   "source": [
    "8pm to 8am check data and validation\n",
    "lunch time check"
   ]
  }
 ],
 "metadata": {
  "kernelspec": {
   "display_name": "Python 3 (ipykernel)",
   "language": "python",
   "name": "python3"
  },
  "language_info": {
   "codemirror_mode": {
    "name": "ipython",
    "version": 3
   },
   "file_extension": ".py",
   "mimetype": "text/x-python",
   "name": "python",
   "nbconvert_exporter": "python",
   "pygments_lexer": "ipython3",
   "version": "3.8.10"
  },
  "toc": {
   "base_numbering": 1,
   "nav_menu": {},
   "number_sections": true,
   "sideBar": true,
   "skip_h1_title": false,
   "title_cell": "Table of Contents",
   "title_sidebar": "Contents",
   "toc_cell": false,
   "toc_position": {},
   "toc_section_display": true,
   "toc_window_display": false
  }
 },
 "nbformat": 4,
 "nbformat_minor": 5
}
