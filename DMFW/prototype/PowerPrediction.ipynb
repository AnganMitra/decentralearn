{
 "cells": [
  {
   "cell_type": "code",
   "execution_count": 1,
   "id": "f0ec7f8d",
   "metadata": {
    "ExecuteTime": {
     "end_time": "2021-09-16T14:57:51.648214Z",
     "start_time": "2021-09-16T14:57:50.565149Z"
    }
   },
   "outputs": [],
   "source": [
    "import pandas as pd\n",
    "import numpy as np\n",
    "import dill\n",
    "import torch.nn as nn\n",
    "import torch\n",
    "import seaborn as sns; sns.set()\n",
    "import matplotlib.pyplot as plt\n",
    "import os\n",
    "import Graphs\n",
    "import networkx as nx\n",
    "import torch.optim as optim\n",
    "import random\n",
    "import copy\n",
    "import sys\n",
    "import traceback\n",
    "from torch.nn import functional as F\n",
    "from collections import defaultdict\n",
    "from torch.utils.data import TensorDataset, DataLoader\n",
    "from torch.optim.optimizer import required\n",
    "from torchinfo import summary\n",
    "from sklearn.preprocessing import MinMaxScaler, StandardScaler\n",
    "from statsmodels.graphics.tsaplots import plot_acf\n",
    "from collections import Counter\n",
    "from sklearn.metrics import f1_score, precision_score, recall_score, classification_report, confusion_matrix\n",
    "sns.set_theme(style=\"whitegrid\")"
   ]
  },
  {
   "cell_type": "code",
   "execution_count": 2,
   "id": "32f47e39",
   "metadata": {
    "ExecuteTime": {
     "end_time": "2021-09-16T14:57:51.650716Z",
     "start_time": "2021-09-16T14:57:51.649186Z"
    }
   },
   "outputs": [],
   "source": [
    "bkdatafolder = \"/Users/Slaton/Documents/DMFW/BangkokDataAnalysis/gitdecenlearn/BKDataCleaned/\""
   ]
  },
  {
   "cell_type": "code",
   "execution_count": 3,
   "id": "c972b644",
   "metadata": {
    "ExecuteTime": {
     "end_time": "2021-09-16T14:57:51.661407Z",
     "start_time": "2021-09-16T14:57:51.651369Z"
    }
   },
   "outputs": [],
   "source": [
    "def createDictFloor(floor_idx,path):\n",
    "    floorname = [f'Floor{idx}' for idx in floor_idx]\n",
    "    fulldata = os.listdir(path)\n",
    "    getdict = {}\n",
    "    floors = [floor for name in floorname for floor in fulldata if name in floor]\n",
    "    for name in floors:\n",
    "        floor_zone = name.split(\".\")[0]\n",
    "        getdict[floor_zone] = pd.read_csv(path+name, index_col=0, parse_dates=[\"Date\"])\n",
    "        getdict[floor_zone] = getdict[floor_zone].sort_index()\n",
    "    return getdict\n",
    "\n",
    "def Missing_values(data):\n",
    "    total = data.isnull().sum().sort_values(ascending=False)\n",
    "    percent = (data.isnull().sum()/data.isnull().count()).sort_values(ascending=False)\n",
    "    missing_data = pd.concat([total,percent], axis=1, keys=['Total', 'Pourcentage'])\n",
    "    print (missing_data[(percent>0)],'\\n' )\n",
    "\n",
    "def seed_everything(seed=0):\n",
    "    random.seed(seed)\n",
    "    os.environ['PYTHONHASHSEED'] = str(seed)\n",
    "    np.random.seed(seed)\n",
    "    torch.manual_seed(seed)\n",
    "    torch.cuda.manual_seed(seed)\n",
    "    torch.backends.cudnn.deterministic = True\n",
    "        \n",
    "def createDTFeat(date1, date2, datadict,featureX, featureY,resample_method_X=\"mean\",resample_method_Y = \"sum\"):\n",
    "    resample_move = {}\n",
    "    floors = list(datadict.keys())\n",
    "    dates = []\n",
    "    for floorname in datadict.keys():\n",
    "        dataX = datadict[floorname][date1:date2][featureX].copy()\n",
    "        dataY = datadict[floorname][date1:date2][featureY].copy()\n",
    "        \n",
    "        if resample_method_X == \"sum\":\n",
    "            dataX = dataX.resample(\"5T\").sum()\n",
    "        elif resample_method_X == \"mean\":\n",
    "            dataX = dataX.resample(\"5T\").mean().bfill()\n",
    "        elif resample_method_X == \"max\":\n",
    "            dataX = dataX.resample(\"5T\").max().bfill()\n",
    "        else:\n",
    "            pass\n",
    "        \n",
    "        if resample_method_Y ==\"sum\":\n",
    "            dataY = dataY.resample(\"5T\").sum()\n",
    "        elif resample_method_Y == \"mean\":\n",
    "            dataY = dataY.resample(\"5T\").mean().bfill()\n",
    "        elif resample_method_Y == \"max\":\n",
    "            dataY = dataY.resample(\"5T\").max().bfill()\n",
    "        else:\n",
    "            pass\n",
    "        \n",
    "        resample_move[floorname] = pd.concat([dataX,dataY],axis=1)\n",
    "        resample_move[floorname][\"date\"] = resample_move[floorname].index.date\n",
    "        resample_move[floorname][\"weekday\"] = resample_move[floorname].index.weekday\n",
    "        resample_move[floorname][\"date\"] = resample_move[floorname][\"date\"].apply(lambda x: x.strftime(\"%Y-%m-%d\"))\n",
    "        resample_move[floorname][\"time\"] = resample_move[floorname].index.time\n",
    "        resample_move[floorname][\"time\"] = resample_move[floorname][\"time\"].apply(lambda x: x.strftime(\"%H:%M:%S\"))\n",
    "        \n",
    "    for date in resample_move[floors[0]][\"date\"]:\n",
    "        dates.append(str(date))\n",
    "    dates = sorted(set(dates))\n",
    "    \n",
    "    return resample_move, dates\n",
    "\n",
    "def data_scaling(datadict, feature):\n",
    "    scalers = {}\n",
    "    scaled_data_dict = copy.deepcopy(datadict)\n",
    "    for floorname in datadict.keys():\n",
    "        cols = datadict[floorname][feature].columns\n",
    "        idx = datadict[floorname][feature].index\n",
    "        scaler = MinMaxScaler(feature_range=(0,1))\n",
    "        scaler.fit(scaled_data_dict[floorname][feature])\n",
    "        scaled_data_dict[floorname][feature] = scaler.transform(scaled_data_dict[floorname][feature])\n",
    "        scalers[floorname] = scaler\n",
    "    return scaled_data_dict, scalers\n",
    "\n",
    "def get_info_timeshape(datadict):\n",
    "    for floor in datadict.keys():\n",
    "        data = datadict[floor]\n",
    "        print(\"Floor : {} , shape :{} , TimeMin {} , TimeMax {}\".format(floor,data.shape, data.index.min(), data.index.max()))\n",
    "        Missing_values(data)\n",
    "        \n",
    "def cleanNan(data,idx_nan):\n",
    "    index=[]\n",
    "    for k,v in idx_nan.items():\n",
    "        for ele in v:\n",
    "            index.append(ele)\n",
    "    mynan = set(index)\n",
    "    newdata = data.copy()\n",
    "    remain_date = []\n",
    "    for floor in idx_nan.keys():\n",
    "        datafloor = data[floor]\n",
    "        todropnan = datafloor[datafloor[\"date\"].isin(list(mynan))].index\n",
    "        datafloor = datafloor.drop(todropnan)\n",
    "        newdata[floor] = datafloor\n",
    "        for date in datafloor[\"date\"]:\n",
    "            remain_date.append(str(date))\n",
    "    remain_date = sorted(set(remain_date))\n",
    "    return data, remain_date"
   ]
  },
  {
   "cell_type": "code",
   "execution_count": 106,
   "id": "c1809652",
   "metadata": {
    "ExecuteTime": {
     "end_time": "2021-09-16T16:19:06.929159Z",
     "start_time": "2021-09-16T16:19:06.898768Z"
    }
   },
   "outputs": [],
   "source": [
    "def get_info_zone(datadict):\n",
    "    for data in datadict.keys():\n",
    "        zone = datadict[data]\n",
    "        print(\"{} Start: {} End: {} Count:{}\".format(data,zone.index.min(),zone.index.max(), zone.shape[0]))\n",
    "        print(\"\")\n",
    "        \n",
    "def distribution(datadict, feature):\n",
    "    zone_list = sorted(list(datadict.keys()))\n",
    "    concat_feature = pd.DataFrame()\n",
    "    for zone in zone_list:\n",
    "        concat_feature = pd.concat([concat_feature, datadict[zone][feature].rename(f\"{zone}\")],axis=1)\n",
    "    return concat_feature\n",
    "\n",
    "def delete_zone(datadict,zone_to_delete):\n",
    "    for zone in zone_to_delete:\n",
    "        if zone in datadict.keys():\n",
    "            del datadict[zone]\n",
    "    return datadict\n",
    "\n",
    "def plot_data(datadict, cutting_date, feature, feature2=None):\n",
    "    zone_list = sorted(list(datadict.keys()))\n",
    "    for zone in zone_list:\n",
    "        \n",
    "        plt.figure(figsize=(20,3))\n",
    "        plt.plot(datadict[zone].loc[datadict[zone].date <= cutting_date][feature].values,label=zone)\n",
    "        if feature2 is not None:\n",
    "            plt.plot(datadict[zone].loc[datadict[zone].date <= cutting_date][feature2].values,label=zone)\n",
    "        plt.legend()\n",
    "        plt.show()\n",
    "        \n",
    "def remove_weekend(datadict):\n",
    "    dates = []\n",
    "    mydict = {}\n",
    "    for floor_zone in datadict.keys():\n",
    "        mask_sat = datadict[floor_zone].weekday == 5\n",
    "        mask_sun = datadict[floor_zone].weekday == 6\n",
    "        index_rmv = datadict[floor_zone].loc[mask_sat | mask_sun].index\n",
    "        mydict[floor_zone] = datadict[floor_zone].drop(index_rmv,axis=0)\n",
    "    for date in mydict[floor_zone][\"date\"]:\n",
    "        dates.append(str(date))\n",
    "    dates = sorted(set(dates))\n",
    "    return mydict,dates\n",
    "\n",
    "def remove_holidays(datadict, holidays_list):\n",
    "    dates = []\n",
    "    mydict = copy.deepcopy(datadict)\n",
    "    for floor in mydict.keys():\n",
    "        for date in holidays_list:\n",
    "            mask_date = mydict[floor].date==date\n",
    "            index_rmv = mydict[floor].loc[mask_date].index\n",
    "            mydict[floor] = mydict[floor].drop(index_rmv,axis=0)\n",
    "            \n",
    "    for date in mydict[floor][\"date\"]:\n",
    "        dates.append(str(date))\n",
    "    dates = sorted(set(dates))\n",
    "    return mydict,dates\n",
    "\n",
    "def working_hour(datadict,morning,evening):\n",
    "    mydict = copy.deepcopy(datadict)\n",
    "    for floor in mydict.keys():\n",
    "        mask_morning = datadict[floor].time >= morning\n",
    "        mask_evening = datadict[floor].time <= evening\n",
    "        mydict[floor] = datadict[floor].loc[mask_morning & mask_evening]\n",
    "        #roll = mydict[floor][\"temperature\"].rolling(window=7).mean()\n",
    "        #mydict[floor][\"Roll\"] = roll\n",
    "        mydict[floor][\"tempdiff\"] = mydict[floor][\"temperature\"].diff()\n",
    "        mydict[floor][\"tempdiff\"].fillna(0, inplace=True)\n",
    "        mydict[floor][\"convolve\"] = np.convolve(mydict[floor][\"tempdiff\"],np.ones(5),\"same\")#np.ones_like(mydict[floor][\"tempdiff\"]),\"same\")\n",
    "        mydict[floor][\"Label\"] = pd.qcut(mydict[floor][\"convolve\"],[0,0.25,0.75,1], [2,1,0])\n",
    "        #mydict[floor][\"tempdiff\"]\n",
    "    return mydict\n",
    "\n",
    "def create_power_class(datadict, conditions, feature):\n",
    "    keys = sorted(list(datadict.keys()))\n",
    "    classes = list(conditions[keys[0]].keys())\n",
    "    new_datadict = copy.deepcopy(datadict)\n",
    "    encode = encode = {\"Low Power\": 0, \"Mid Power\": 1, \"High Power\": 2}\n",
    "    for floor_name in keys:\n",
    "        new_datadict[floor_name][\"Label\"] = pd.Series(dtype=int)\n",
    "        #empty_series = pd.Series(dtype='object')\n",
    "        for p_class in classes:\n",
    "            #print(p_class)\n",
    "            mask_p1 = datadict[floor_name][feature] >= conditions[floor_name][p_class][0]\n",
    "            mask_p2 = datadict[floor_name][feature] < conditions[floor_name][p_class][1]\n",
    "            idx_classes = datadict[floor_name].loc[mask_p1 & mask_p2]\n",
    "            #print(idx_classes.index)\n",
    "            #print(new_datadict[floor_name].loc[idx_classes.index][\"Label\"])\n",
    "            assign = new_datadict[floor_name].loc[idx_classes.index][\"Label\"].apply(lambda x: encode[p_class])\n",
    "            new_datadict[floor_name][\"Label\"].loc[idx_classes.index] = assign\n",
    "            #print(hehe)#new_datadict[floor_name].loc[idx_classes.index][\"Label\"].apply(lambda x: p_class)\n",
    "            new_datadict[floor_name][\"Spike\"] = new_datadict[floor_name][feature].diff()\n",
    "            new_datadict[floor_name][\"SpikeTemp\"] = new_datadict[floor_name][\"temperature\"].diff()\n",
    "            roll = new_datadict[floor_name][\"Spike\"].rolling(window=3).mean()\n",
    "            new_datadict[floor_name][\"Roll\"] = (roll - np.min(roll))/(np.max(roll)-np.min(roll)+1)\n",
    "            new_datadict[floor_name][\"Spike\"].fillna(0, inplace=True)\n",
    "            new_datadict[floor_name][\"SpikeTemp\"].fillna(0, inplace=True)\n",
    "    return new_datadict"
   ]
  },
  {
   "cell_type": "code",
   "execution_count": 107,
   "id": "a7175e57",
   "metadata": {
    "ExecuteTime": {
     "end_time": "2021-09-16T16:19:08.792877Z",
     "start_time": "2021-09-16T16:19:08.777003Z"
    },
    "code_folding": [
     2
    ]
   },
   "outputs": [],
   "source": [
    "holidays = [\"2019-04-08\",\"2019-04-12\",\"2019-04-13\",\"2019-04-14\",\"2019-04-15\",\"2019-04-16\",\n",
    "           \"2019-05-01\"]\n",
    "set_point = {\"Floor4Z1\":{\"Low Power\":[0,15],\"Mid Power\":[15,25],\"High Power\":[25,60]},\n",
    "             \"Floor4Z2\":{\"Low Power\":[0,10],\"Mid Power\":[10,20],\"High Power\":[20,60]},\n",
    "            \"Floor4Z4\":{\"Low Power\":[0,15],\"Mid Power\":[15,25],\"High Power\":[25,60]},\n",
    "            \"Floor4Z5\":{\"Low Power\":[0,5],\"Mid Power\":[5,15],\"High Power\":[15,60]},\n",
    "             \"Floor5Z1\":{\"Low Power\":[0,15],\"Mid Power\":[15,25],\"High Power\":[25,60]},\n",
    "            \"Floor5Z2\":{\"Low Power\":[0,10],\"Mid Power\":[10,20],\"High Power\":[20,60]},\n",
    "             \"Floor5Z4\":{\"Low Power\":[0,15],\"Mid Power\":[15,25],\"High Power\":[25,60]},\n",
    "             \"Floor5Z5\":{\"Low Power\":[0,5],\"Mid Power\":[5,15],\"High Power\":[15,50]},\n",
    "            \"Floor6Z1\":{\"Low Power\":[0,5],\"Mid Power\":[5,15],\"High Power\":[15,60]},\n",
    "            \"Floor6Z2\":{\"Low Power\":[0,10],\"Mid Power\":[10,20],\"High Power\":[20,60]},\n",
    "            \"Floor6Z4\":{\"Low Power\":[0,15],\"Mid Power\":[15,25],\"High Power\":[25,60]},\n",
    "            \"Floor6Z5\":{\"Low Power\":[0,5],\"Mid Power\":[5,15],\"High Power\":[15,60]},\n",
    "            \"Floor7Z1\":{\"Low Power\":[0,10],\"Mid Power\":[10,20],\"High Power\":[20,60]},\n",
    "             \"Floor7Z2\":{\"Low Power\":[0,10],\"Mid Power\":[10,20],\"High Power\":[20,60]},\n",
    "            \"Floor7Z4\":{\"Low Power\":[0,10],\"Mid Power\":[10,20],\"High Power\":[20,60]},\n",
    "             \"Floor7Z5\":{\"Low Power\":[0,5],\"Mid Power\":[5,15],\"High Power\":[15,60]}}"
   ]
  },
  {
   "cell_type": "markdown",
   "id": "af2f155a",
   "metadata": {},
   "source": [
    "# Data"
   ]
  },
  {
   "cell_type": "code",
   "execution_count": 314,
   "id": "94c04fe5",
   "metadata": {
    "ExecuteTime": {
     "end_time": "2021-09-16T18:18:17.197619Z",
     "start_time": "2021-09-16T18:18:15.027185Z"
    }
   },
   "outputs": [
    {
     "name": "stderr",
     "output_type": "stream",
     "text": [
      "/Users/Slaton/miniforge3/envs/tf_macos/lib/python3.8/site-packages/pandas/core/frame.py:3607: SettingWithCopyWarning: \n",
      "A value is trying to be set on a copy of a slice from a DataFrame.\n",
      "Try using .loc[row_indexer,col_indexer] = value instead\n",
      "\n",
      "See the caveats in the documentation: https://pandas.pydata.org/pandas-docs/stable/user_guide/indexing.html#returning-a-view-versus-a-copy\n",
      "  self._set_item(key, value)\n",
      "/Users/Slaton/miniforge3/envs/tf_macos/lib/python3.8/site-packages/pandas/core/generic.py:6383: SettingWithCopyWarning: \n",
      "A value is trying to be set on a copy of a slice from a DataFrame\n",
      "\n",
      "See the caveats in the documentation: https://pandas.pydata.org/pandas-docs/stable/user_guide/indexing.html#returning-a-view-versus-a-copy\n",
      "  return self._update_inplace(result)\n"
     ]
    }
   ],
   "source": [
    "seed_everything(seed=20)\n",
    "date1 = \"2019-03-07\"\n",
    "date2 = \"2019-09-29\"\n",
    "cutting_date = \"2019-04-20\"\n",
    "floors = [7]\n",
    "floor_dict = createDictFloor(floors, bkdatafolder)\n",
    "featureX = [\"temperature\"]\n",
    "featureY = [\"ACPower\"]\n",
    "resample_method = \"mean\"\n",
    "resample_methodY = \"max\"\n",
    "resample,remain_date = createDTFeat(date1, date2, floor_dict, featureX, featureY,resample_method_X=resample_method,resample_method_Y=resample_methodY)\n",
    "resample_wo_holidays, remain_date = remove_holidays(resample, holidays)\n",
    "resample_wo_wk, remain_date = remove_weekend(resample_wo_holidays)\n",
    "resample_wkh = working_hour(resample, \"07:00:00\",\"18:30:00\")\n",
    "#resample_with_classes = create_power_class(resample_wkh,set_point,*featureY)\n",
    "scaled_data, scalers = data_scaling(resample_wkh, [*featureX, *featureY])\n",
    "#scaled_data, scalers = data_scaling(resample, [*featureX, *featureY])"
   ]
  },
  {
   "cell_type": "code",
   "execution_count": 315,
   "id": "d6896501",
   "metadata": {
    "ExecuteTime": {
     "end_time": "2021-09-16T18:18:20.114241Z",
     "start_time": "2021-09-16T18:18:20.109514Z"
    }
   },
   "outputs": [
    {
     "name": "stdout",
     "output_type": "stream",
     "text": [
      "Floor7Z4 Start: 2019-03-07 07:00:00 End: 2019-09-29 18:30:00 Count:28773\n",
      "\n",
      "Floor7Z5 Start: 2019-03-07 07:00:00 End: 2019-09-29 18:30:00 Count:28773\n",
      "\n",
      "Floor7Z1 Start: 2019-03-07 07:00:00 End: 2019-09-29 18:30:00 Count:28773\n",
      "\n"
     ]
    }
   ],
   "source": [
    "new_scaled = delete_zone(scaled_data, [\"Floor7Z2\"])#[\"Floor4Z2\",\"Floor5Z4\",\"Floor5Z5\"])\n",
    "get_info_zone(new_scaled)"
   ]
  },
  {
   "cell_type": "code",
   "execution_count": 384,
   "id": "05b5b9a9",
   "metadata": {
    "ExecuteTime": {
     "end_time": "2021-09-16T18:44:01.455522Z",
     "start_time": "2021-09-16T18:44:01.446536Z"
    }
   },
   "outputs": [
    {
     "name": "stdout",
     "output_type": "stream",
     "text": [
      "1    14380\n",
      "2     7201\n",
      "0     7192\n",
      "Name: Label, dtype: int64\n",
      "1    14393\n",
      "2     7201\n",
      "0     7179\n",
      "Name: Label, dtype: int64\n",
      "1    14382\n",
      "2     7201\n",
      "0     7190\n",
      "Name: Label, dtype: int64\n",
      "1    14396\n",
      "2     7198\n",
      "0     7179\n",
      "Name: Label, dtype: int64\n"
     ]
    }
   ],
   "source": [
    "for floor in resample_wkh.keys():\n",
    "    print(resample_wkh[floor][\"Label\"].value_counts())"
   ]
  },
  {
   "cell_type": "markdown",
   "id": "1cfa1f5b",
   "metadata": {},
   "source": [
    "# Loaders"
   ]
  },
  {
   "cell_type": "code",
   "execution_count": 316,
   "id": "72201fbf",
   "metadata": {
    "ExecuteTime": {
     "end_time": "2021-09-16T18:18:22.805988Z",
     "start_time": "2021-09-16T18:18:22.780099Z"
    }
   },
   "outputs": [],
   "source": [
    "def rolling_window(series, window_size):\n",
    "    return np.array([series[i : (i + window_size)] for i in range(0, series.shape[0] - window_size + 1)])\n",
    "\n",
    "def to_timeseries_input(series, lookback, predictions):\n",
    "    inputs = rolling_window(series[:-predictions], lookback)\n",
    "    outputs = rolling_window(series[lookback:], predictions)\n",
    "    return inputs, outputs\n",
    "\n",
    "def createDataByDate(datadict, features, dates):\n",
    "    databyDate = defaultdict(lambda : defaultdict(dict))\n",
    "    for date in dates:\n",
    "        for floor in datadict.keys():\n",
    "            arraydata = datadict[floor].loc[date][features]\n",
    "            databyDate[date][floor] = np.asarray(arraydata)#np.asarray(datadict[floor].loc[date][features])\n",
    "    return databyDate\n",
    "\n",
    "def splitDate(dates,cutoff):\n",
    "    train_date = [x for x in dates if x <= cutoff]\n",
    "    test_date = sorted(list(set(dates) - set(train_date)))\n",
    "    return train_date, test_date\n",
    "\n",
    "def getInfoDataByDate(data, dates):\n",
    "    for date in dates:\n",
    "        print(\"Date : {}\".format(date))\n",
    "        for floor in data[date]:\n",
    "            print(\"{} shape : {}\".format(floor,data[date][floor].shape))\n",
    "            \n",
    "def LoaderByZone(data,zone_name,dates, lookback, lookahead, batch_size, shuffle=False, noise=False):\n",
    "    loaderZ = {}\n",
    "    for i,date in enumerate(dates):\n",
    "        haruharu = data[date][zone_name]\n",
    "        trainx, trainy = to_timeseries_input(haruharu, lookback, lookahead)\n",
    "        xshape = torch.tensor(trainx, dtype=torch.float)\n",
    "        yshape = torch.tensor(trainy, dtype=torch.float).squeeze(-1)\n",
    "        tensorwrap = TensorDataset(xshape,yshape)\n",
    "        loaderxy = DataLoader(tensorwrap,batch_size = batch_size, shuffle=shuffle, drop_last=True)\n",
    "        loaderZ[date] = loaderxy\n",
    "    return loaderZ\n",
    "\n",
    "def LoaderByZoneXY(dataX, dataY, zone_name,dates, lookback, lookahead, batch_size, shuffle=False):\n",
    "    loaderZ = {}\n",
    "    for i,date in enumerate(dates):\n",
    "        dataX_series = dataX[date][zone_name]\n",
    "        dataY_series = dataY[date][zone_name]\n",
    "        trainx,_ = to_timeseries_input(dataX_series, lookback, lookahead)\n",
    "        _, trainy = to_timeseries_input(dataY_series,lookback, lookahead)\n",
    "        xshape = torch.tensor(trainx, dtype=torch.float)\n",
    "        yshape = torch.tensor(trainy, dtype=torch.long).squeeze(-1).squeeze(-1)\n",
    "        #print(xshape.shape, yshape.shape)\n",
    "        tensorwrap = TensorDataset(xshape,yshape)\n",
    "        loaderxy = DataLoader(tensorwrap,batch_size = batch_size, shuffle=shuffle, drop_last=True)\n",
    "        loaderZ[date] = loaderxy\n",
    "    return loaderZ\n",
    "\n",
    "def get_loader(floor_list,datadatesX, datadatesY, train_date, test_date, lookback, lookahead, batch_size):\n",
    "    trainloader, testloader = [], []\n",
    "    nb_zone = 5#*len(floor_list)\n",
    "    zones = [i for i in range(1,nb_zone+1) if i!=3]\n",
    "    zones_id = list(datadatesX[train_date[0]].keys())\n",
    "    for zone in zones_id:#range(1,nb_zone+1):\n",
    "            print(f'-----{zone}-----')\n",
    "            loaderZtrain = LoaderByZoneXY(datadatesX, datadatesY,zone,train_date,lookback,lookahead,batch_size, shuffle=True)\n",
    "            loaderZtest = LoaderByZoneXY(datadatesX, datadatesY,zone,test_date,lookback, lookahead,batch_size, shuffle=False)\n",
    "            trainloader.append(loaderZtrain)\n",
    "            testloader.append(loaderZtest)\n",
    "    return trainloader, testloader, zones_id"
   ]
  },
  {
   "cell_type": "code",
   "execution_count": 322,
   "id": "f6e79c42",
   "metadata": {
    "ExecuteTime": {
     "end_time": "2021-09-16T18:18:39.664487Z",
     "start_time": "2021-09-16T18:18:39.299964Z"
    }
   },
   "outputs": [],
   "source": [
    "train_date, test_date = splitDate(remain_date, cutting_date)\n",
    "databyDateX = createDataByDate(new_scaled, featureX,remain_date)\n",
    "databyDateY = createDataByDate(new_scaled, [\"Label\"],remain_date)"
   ]
  },
  {
   "cell_type": "code",
   "execution_count": 323,
   "id": "bd441367",
   "metadata": {
    "ExecuteTime": {
     "end_time": "2021-09-16T18:18:46.524690Z",
     "start_time": "2021-09-16T18:18:46.432267Z"
    }
   },
   "outputs": [
    {
     "data": {
      "text/plain": [
       "[<matplotlib.lines.Line2D at 0x16b5090a0>]"
      ]
     },
     "execution_count": 323,
     "metadata": {},
     "output_type": "execute_result"
    },
    {
     "data": {
      "image/png": "[encoded data removed]",
      "text/plain": [
       "<Figure size 432x288 with 1 Axes>"
      ]
     },
     "metadata": {},
     "output_type": "display_data"
    }
   ],
   "source": [
    "plt.plot(databyDateX[\"2019-03-07\"][\"Floor7Z1\"].reshape(-1))"
   ]
  },
  {
   "cell_type": "code",
   "execution_count": 325,
   "id": "ef919171",
   "metadata": {
    "ExecuteTime": {
     "end_time": "2021-09-16T18:18:56.016224Z",
     "start_time": "2021-09-16T18:18:55.919732Z"
    }
   },
   "outputs": [
    {
     "data": {
      "text/plain": [
       "[<matplotlib.lines.Line2D at 0x282db6160>]"
      ]
     },
     "execution_count": 325,
     "metadata": {},
     "output_type": "execute_result"
    },
    {
     "data": {
      "image/png": "[encoded data removed]",
      "text/plain": [
       "<Figure size 432x288 with 1 Axes>"
      ]
     },
     "metadata": {},
     "output_type": "display_data"
    }
   ],
   "source": [
    "plt.plot(databyDateY[\"2019-03-07\"][\"Floor7Z1\"].reshape(-1))"
   ]
  },
  {
   "cell_type": "code",
   "execution_count": 385,
   "id": "4a8a03ed",
   "metadata": {
    "ExecuteTime": {
     "end_time": "2021-09-16T18:45:48.841118Z",
     "start_time": "2021-09-16T18:45:48.838383Z"
    }
   },
   "outputs": [],
   "source": [
    "lookback = 5\n",
    "lookahead = 1\n",
    "batch_size = 32"
   ]
  },
  {
   "cell_type": "code",
   "execution_count": 386,
   "id": "23118ab7",
   "metadata": {
    "ExecuteTime": {
     "end_time": "2021-09-16T18:45:49.300886Z",
     "start_time": "2021-09-16T18:45:49.161649Z"
    }
   },
   "outputs": [
    {
     "name": "stdout",
     "output_type": "stream",
     "text": [
      "-----Floor7Z4-----\n",
      "-----Floor7Z5-----\n",
      "-----Floor7Z1-----\n"
     ]
    }
   ],
   "source": [
    "trainloader, testloader, zone_id = get_loader(floors, databyDateX, databyDateY, train_date, test_date, lookback, lookahead, batch_size)"
   ]
  },
  {
   "cell_type": "code",
   "execution_count": 387,
   "id": "44d4b61b",
   "metadata": {
    "ExecuteTime": {
     "end_time": "2021-09-16T18:45:49.784029Z",
     "start_time": "2021-09-16T18:45:49.778596Z"
    }
   },
   "outputs": [
    {
     "data": {
      "text/plain": [
       "(torch.Size([32, 5, 1]), torch.Size([32]))"
      ]
     },
     "execution_count": 387,
     "metadata": {},
     "output_type": "execute_result"
    }
   ],
   "source": [
    "x,y = iter(testloader[0][\"2019-06-20\"]).next()\n",
    "x.shape, y.shape"
   ]
  },
  {
   "cell_type": "code",
   "execution_count": 388,
   "id": "1f4a6f24",
   "metadata": {
    "ExecuteTime": {
     "end_time": "2021-09-16T18:45:50.222207Z",
     "start_time": "2021-09-16T18:45:50.217682Z"
    }
   },
   "outputs": [
    {
     "data": {
      "text/plain": [
       "112"
      ]
     },
     "execution_count": 388,
     "metadata": {},
     "output_type": "execute_result"
    }
   ],
   "source": [
    "nb_iterations = len(train_date)*len(trainloader[0][\"2019-03-08\"])\n",
    "nb_iterations"
   ]
  },
  {
   "cell_type": "markdown",
   "id": "86edc1d5",
   "metadata": {},
   "source": [
    "# Algorithm"
   ]
  },
  {
   "cell_type": "code",
   "execution_count": 389,
   "id": "6d13d859",
   "metadata": {
    "ExecuteTime": {
     "end_time": "2021-09-16T18:45:52.890363Z",
     "start_time": "2021-09-16T18:45:52.861532Z"
    },
    "code_folding": [
     0,
     35,
     49
    ]
   },
   "outputs": [],
   "source": [
    "def lmo(x,radius):\n",
    "    \"\"\"Returns v with norm(v, self.p) <= r minimizing v*x\"\"\"\n",
    "    shape = x.shape\n",
    "    if len(shape) == 4:\n",
    "        v = torch.zeros_like(x)\n",
    "        for first_dim in range(shape[0]):\n",
    "            for second_dim in range(shape[1]):\n",
    "                inner_x = x[first_dim][second_dim]\n",
    "                rows, cols = x[first_dim][second_dim].shape\n",
    "                v[first_dim][second_dim] = torch.zeros_like(inner_x)\n",
    "                maxIdx = torch.argmax(torch.abs(inner_x),0)\n",
    "                for col in range(cols):\n",
    "                    v[first_dim][second_dim][maxIdx[col],col] = -radius*torch.sign(inner_x[maxIdx[col],col])\n",
    "    elif len(shape) == 3:\n",
    "        v = torch.zeros_like(x)\n",
    "        for first_dim in range(shape[0]):\n",
    "            inner_x = x[first_dim]\n",
    "            rows, cols = x[first_dim].shape\n",
    "            v[first_dim] = torch.zeros_like(inner_x)\n",
    "            maxIdx = torch.argmax(torch.abs(inner_x),0)\n",
    "            for col in range(cols):\n",
    "                v[first_dim][maxIdx[col],col] = -radius*torch.sign(inner_x[maxIdx[col],col])\n",
    "                    \n",
    "    elif len(shape)==2:\n",
    "        rows, cols = x.shape\n",
    "        v = torch.zeros_like(x)\n",
    "        maxIdx = torch.argmax(torch.abs(x),0)\n",
    "        for col in range(cols):\n",
    "            v[maxIdx[col],col] = -radius*torch.sign(x[maxIdx[col],col])\n",
    "                \n",
    "    else : \n",
    "        v = torch.zeros_like(x)\n",
    "        maxIdx = torch.argmax(torch.abs(x))\n",
    "        v.view(-1)[maxIdx] = -radius * torch.sign(x.view(-1)[maxIdx])\n",
    "    return v\n",
    "def proj_2shape(x,s=8):\n",
    "    shape = x.shape\n",
    "    if torch.linalg.norm(x,ord=1)==s and torch.all(x>0):\n",
    "        return x\n",
    "    u,_ = torch.sort(torch.abs(x),dim=0,descending=True)\n",
    "    cumsum = torch.cumsum(u, dim=0)\n",
    "    arange = torch.arange(1, shape[0]+1)\n",
    "    rep_arange = arange.unsqueeze(1).repeat(1,shape[1])\n",
    "    rho = torch.count_nonzero((u*rep_arange > (cumsum - s)), dim=0)\n",
    "    theta = (cumsum[rho-1, torch.arange(0,shape[1])] - s)/rho\n",
    "    proj = (torch.abs(x)-theta).clamp(min=0)\n",
    "    proj*= torch.sign(x)\n",
    "    return proj\n",
    "\n",
    "def proj_l1(x, s=8):\n",
    "    shape = x.shape\n",
    "    if len(shape) == 4:\n",
    "        proj = torch.zeros_like(x)\n",
    "        for first_dim in range(x.shape[0]):\n",
    "            for second_dim in range(x.shape[1]):\n",
    "                inner_tensor = x[first_dim][second_dim]\n",
    "                inner_proj = proj_2shape(inner_tensor,s=s)\n",
    "                proj[first_dim][second_dim] = inner_proj\n",
    "                \n",
    "    elif len(shape) == 3:\n",
    "        proj = torch.zeros_like(x)\n",
    "        for first_dim in range(x.shape[0]):\n",
    "            inner_tensor = x[first_dim]\n",
    "            inner_proj = proj_2shape(inner_tensor,s=s)\n",
    "            proj[first_dim] = inner_proj\n",
    "        \n",
    "    elif len(shape) == 2:\n",
    "        proj = proj_2shape(x,s=s)\n",
    "        \n",
    "    elif len(shape) == 1:\n",
    "        u,_ = torch.sort(torch.abs(x),descending=True)\n",
    "        cumsum = torch.cumsum(u,dim=0)\n",
    "        arange = torch.arange(1,shape[0]+1)\n",
    "        rho = torch.count_nonzero((u*arange > (cumsum - s)))\n",
    "        theta = (cumsum[rho-1] - s)/rho\n",
    "        proj = (torch.abs(x)-theta).clamp(min=0)\n",
    "        proj*= torch.sign(x)\n",
    "    return proj"
   ]
  },
  {
   "cell_type": "code",
   "execution_count": 390,
   "id": "807e9795",
   "metadata": {
    "ExecuteTime": {
     "end_time": "2021-09-16T18:45:53.193011Z",
     "start_time": "2021-09-16T18:45:53.166927Z"
    },
    "code_folding": []
   },
   "outputs": [],
   "source": [
    "class DMFW(optim.Optimizer):\n",
    "    def __init__(self, params, eta_coef=required, eta_exp=required, L=required, matrix_line=required, reg_coef=required,radius=required):\n",
    "        if eta_coef is not required and eta_coef <=0.:\n",
    "            raise ValueError(\"Invalid eta : {}\".format(eta_coef))\n",
    "        if eta_exp is not required and (eta_exp == 0.5):\n",
    "            raise ValueError(\"Invalid eta_exp : {}\".format(eta_exp))\n",
    "        defaults = dict(eta_coef=eta_coef, eta_exp=eta_exp,L=L, matrix_line=matrix_line,reg_coef = reg_coef,radius=radius)\n",
    "        super(DMFW,self).__init__(params,defaults)\n",
    "\n",
    "        for group in self.param_groups:\n",
    "            self.eta_coef = group[\"eta_coef\"]\n",
    "            self.eta_exp = group[\"eta_exp\"]\n",
    "            self.reg_coef = group[\"reg_coef\"]\n",
    "            self.A = group[\"matrix_line\"]\n",
    "            self.L = group[\"L\"]\n",
    "            self.radius = group[\"radius\"]\n",
    "        self.num_layers = len(self.param_groups[0]['params'])\n",
    "        self.dim = [k.shape for k in self.param_groups[0]['params']]\n",
    "        self.G = [[torch.rand(k) for k in self.dim] for l in range(self.L)]\n",
    "        \n",
    "    @torch.no_grad()\n",
    "    def initValue(self,closure):\n",
    "        self.w_dict = defaultdict(dict)\n",
    "        for group in self.param_groups:\n",
    "            if closure is not None:\n",
    "                with torch.enable_grad():\n",
    "                    closure()\n",
    "            for k,weight in enumerate(group[\"params\"]):\n",
    "                #print(k, weight.shape)\n",
    "                if weight.grad is None:\n",
    "                    raise ValueError(\"Gradient is None\")\n",
    "                self.w_dict[k][\"g\"] = weight.grad.detach().clone()\n",
    "                self.w_dict[k][\"w\"] = weight.detach().clone()\n",
    "                \n",
    "    def neighborsAverage(self, neighbors):\n",
    "        for group in self.param_groups:\n",
    "            for k,weight in enumerate(group[\"params\"]):\n",
    "                weighted_tmp = torch.zeros(self.dim[k])\n",
    "                weighted_grad_tmp = torch.zeros(self.dim[k])\n",
    "                for j in range(len(neighbors)):\n",
    "                    weighted_tmp += self.A[j]*neighbors[j].w_dict[k][\"w\"]\n",
    "                    weighted_grad_tmp += self.A[j]*neighbors[j].w_dict[k][\"g\"]\n",
    "                self.w_dict[k][\"y\"] = weighted_tmp\n",
    "                self.w_dict[k][\"ds\"] = weighted_grad_tmp\n",
    "\n",
    "\n",
    "    def step(self, l, closure):\n",
    "        eta = min(self.eta_coef/(l+1)**self.eta_exp, 1)\n",
    "        for group in self.param_groups:\n",
    "            if closure is not None:\n",
    "                with torch.enable_grad():\n",
    "                    closure()\n",
    "            self.gap = 0\n",
    "            for k,weight in enumerate(group[\"params\"]):\n",
    "                v = proj_l1(self.G[l][k], self.radius)\n",
    "                #v = lmo(self.G[l][k] - 0.5 + torch.rand_like(self.G[l][k]), radius= self.radius)\n",
    "                #print(v)\n",
    "                if weight.grad is None:\n",
    "                    raise ValueError(\"Grad is None\")\n",
    "                self.w_dict[k][\"grad_old\"] = weight.grad.detach().clone()\n",
    "                \n",
    "                weight.data = self.w_dict[k]['y']*(1-eta) + eta*v\n",
    "                #print(\"weight {}\".format(torch.linalg.norm(weight.data,ord=1,dim=0)))\n",
    "                self.w_dict[k][\"w\"] = weight.detach().clone()\n",
    "            \n",
    "            with torch.enable_grad():\n",
    "                closure()\n",
    "            for k,weight in enumerate(group[\"params\"]):\n",
    "                self.G[l][k] -= self.w_dict[k][\"ds\"]*self.reg_coef\n",
    "                #self.G[l][k] -= self.w_dict[k][\"ds\"]*self.reg_coef\n",
    "                #self.G[l][k] += self.w_dict[k][\"ds\"]*self.reg_coef\n",
    "                if weight.grad is None :\n",
    "                    raise ValueError(\"Grad is none\")\n",
    "                weight.grad.add_(-self.w_dict[k][\"grad_old\"])\n",
    "                self.w_dict[k][\"g\"] = weight.grad.detach().clone() + self.w_dict[k][\"ds\"]"
   ]
  },
  {
   "cell_type": "code",
   "execution_count": 391,
   "id": "be3cd17d",
   "metadata": {
    "ExecuteTime": {
     "end_time": "2021-09-16T18:45:53.722516Z",
     "start_time": "2021-09-16T18:45:53.685506Z"
    },
    "code_folding": [
     56,
     70
    ]
   },
   "outputs": [],
   "source": [
    "class Trainer:\n",
    "    def __init__(self, graph, loaders, model, model_param, loss,\n",
    "                 num_iterations):\n",
    "        self.graph = graph\n",
    "        self.num_nodes = graph.number_of_nodes()\n",
    "        self.model = model\n",
    "        self.param = model_param\n",
    "        self.A = torch.tensor(nx.adjacency_matrix(graph).toarray())\n",
    "        self.dataloader = loaders\n",
    "        self.num_iterations = num_iterations\n",
    "        self.loss = loss\n",
    "        self.obj_values = np.ndarray((self.num_iterations + 1, 4),\n",
    "                                     dtype='float')\n",
    "\n",
    "        self.optimizers = [0.] * self.num_nodes\n",
    "        self.models = [0.] * self.num_nodes\n",
    "        self.losses = [0.] * self.num_nodes\n",
    "\n",
    "    def reset(self):\n",
    "        self.optimizers = [0.] * self.num_nodes\n",
    "        self.models = [0.] * self.num_nodes\n",
    "        self.losses = [0.] * self.num_nodes\n",
    "        self.gaps = [0.] * self.num_nodes\n",
    "        self.best_models = [0.]*self.num_nodes\n",
    "\n",
    "        #self.obj_values = np.ndarray((self.num_iterations +1, 8),\n",
    "        #                             dtype='float')\n",
    "        \n",
    "        self.obj_values = np.ndarray((self.num_iterations +1, 4),\n",
    "                                     dtype='float')\n",
    "        \n",
    "    def __nodeInit(self, data, label):\n",
    "        nodewrap = TensorDataset(data, label)\n",
    "        nodes = DataLoader(nodewrap, batch_size=data.size(0), shuffle=False)\n",
    "        return nodes\n",
    "    \n",
    "    def initModelWeight(self, model):\n",
    "        for m in model.modules():\n",
    "            if isinstance(m, nn.LSTM):\n",
    "                for param in m.parameters():\n",
    "                    if len(param.shape) >= 2:\n",
    "                        nn.init.xavier_normal_(param.data)\n",
    "                    else:\n",
    "                        nn.init.constant_(param.data,0)\n",
    "            elif isinstance(m,nn.Conv1d):\n",
    "                nn.init.xavier_normal_(m.weight.data)\n",
    "                nn.init.constant_(m.bias.data,0)\n",
    "            elif isinstance(m,nn.BatchNorm1d):\n",
    "                nn.init.uniform_(m.weight.data)\n",
    "                nn.init.constant_(m.bias.data,0)\n",
    "            elif isinstance(m, nn.Linear):\n",
    "                nn.init.xavier_normal_(m.weight.data)\n",
    "                nn.init.uniform_(m.bias.data)\n",
    "                #nn.init.constant_(m.bias.data,0)\n",
    "\n",
    "\n",
    "    def saveCheckPts(self, t, path):\n",
    "        check_pts = {}\n",
    "        for i in range(self.num_nodes):\n",
    "            ckp_i = {\n",
    "                \"t\": t,\n",
    "                \"weight\": [param for param in self.models[i].parameters()],\n",
    "                \"optimizer_weight\": self.optimizers[i].w_dict,\n",
    "                \"oracles\": self.optimizers[i].G,\n",
    "                \"loss\": self.losses[i]\n",
    "            }  #,\n",
    "            #\"avg_loss\": self.avg_loss[i]}\n",
    "            check_pts[i] = ckp_i\n",
    "        torch.save(check_pts, path + \"checkpts_models\" + \"_\" + str(t) + \".tar\")\n",
    "        \n",
    "    def plotPrediction(self, true, pred,date,path_to_save):\n",
    "        fig = plt.figure(figsize=(5,3))\n",
    "        plt.suptitle(\"{}\".format(date))\n",
    "        plt.plot(true)\n",
    "        plt.plot(pred)\n",
    "        #plt.show()\n",
    "        fig.savefig(os.path.join(path_to_save,date))\n",
    "        plt.close()\n",
    "        \n",
    "    def compute_gap(self,model, datax, datay):\n",
    "        output = model(datax)\n",
    "        loss = self.loss(output, datay)\n",
    "        loss.backward()\n",
    "        \n",
    "\n",
    "    def train(self, optimizer, L, eta_coef, eta_exp, reg_coef, radius, path_figure_date, print_freq, dates):\n",
    "        seed_everything(seed=20)\n",
    "        self.reset()\n",
    "\n",
    "        for i in range(self.num_nodes):\n",
    "            self.models[i] = self.model(*self.param)\n",
    "            self.optimizers[i] = optimizer(self.models[i].parameters(),\n",
    "                                           eta_coef=eta_coef,\n",
    "                                           eta_exp=eta_exp,\n",
    "                                           L=L,\n",
    "                                           matrix_line=self.A[i],\n",
    "                                           reg_coef=reg_coef,\n",
    "                                           radius=radius)\n",
    "            self.best_models[i] = copy.deepcopy(self.models[i])\n",
    "\n",
    "        self.final_gap = np.zeros(self.num_nodes) #[0.] * self.num_nodes\n",
    "        \n",
    "        t = 0\n",
    "        self.prediction_dict = {}\n",
    "        for date in dates:\n",
    "            acc,f1,prec,rec = 0, 0, 0, 0\n",
    "            try:\n",
    "                '''\n",
    "                #acc_node = [0.]*self.num_nodes\n",
    "                f1_node = [0.]*self.num_nodes\n",
    "                prec_node = [0.]*self.num_nodes\n",
    "                rec_node = [0.]*self.num_nodes\n",
    "                for i,loader in enumerate(self.dataloader):\n",
    "                    acc_node[i], f1_node[i], prec_node[i], rec_node[i], _ , _, _  = ModelPredictionClass(self.best_models[i], date, loader)\n",
    "                    #if len(truez)==0 or len(predz)==0 : continue\n",
    "                acc = np.mean(acc_node)\n",
    "                f1  = np.mean(f1_node)\n",
    "                prec = np.mean(prec_node)\n",
    "                rec = np.mean(rec_node)'''\n",
    "                for i in range(self.num_nodes):\n",
    "                    truez, predz = ModelPrediction(self.best_models[i], date, self.dataloader[i],lookahead)\n",
    "                    path = path_figure_date+\"/Model_\"+str(i)+\"/\"\n",
    "                    if not os.path.exists(path):\n",
    "                        os.makedirs(path)\n",
    "                    self.plotPrediction(truez, predz,date,path_to_save=path)\n",
    "            \n",
    "            \n",
    "            except Exception:\n",
    "                #traceback.print_exc()\n",
    "                if print_freq == 1:\n",
    "                    print(f\"----{date}----\")\n",
    "                pass\n",
    "            loaderz = []\n",
    "            for i in range(self.num_nodes):\n",
    "                loaderz.append(self.dataloader[i][date])\n",
    "            \n",
    "            for couples in zip(*loaderz):\n",
    "                #print(couples[0][1].shape, couples[1][0].shape)\n",
    "                all_data_x = torch.cat([couples[i][0] for i in range(len(couples))],dim=0)\n",
    "                all_data_y = torch.cat([couples[i][1] for i in range(len(couples))],dim=0)\n",
    "                datazones = [self.__nodeInit(*couples[i]) for i in range(len(couples))] \n",
    "                \n",
    "                #print(all_data_x.shape, all_data_y.shape)\n",
    "                \n",
    "\n",
    "                for i in range(self.num_nodes):\n",
    "                    self.initModelWeight(self.models[i])\n",
    "                    self.models[i].train()\n",
    "\n",
    "                    def closure():\n",
    "                        self.optimizers[i].zero_grad(set_to_none=True)\n",
    "                        x, y = iter(datazones[i]).next()\n",
    "                        output = self.models[i](x)\n",
    "                        loss = self.loss(output,y)\n",
    "                        loss.backward()\n",
    "\n",
    "                    self.optimizers[i].initValue(closure)\n",
    "                \n",
    "                opt_index = np.random.randint(low=0,high=L, size=1)\n",
    "                \n",
    "                for l in range(L):\n",
    "                    #print(\"--------------------------\")\n",
    "                    \n",
    "                    if l==opt_index:\n",
    "                        for i in range(self.num_nodes):\n",
    "                            self.best_models[i] = copy.deepcopy(self.models[i])\n",
    "\n",
    "                    #neighbors communication\n",
    "                    for i in range(self.num_nodes):\n",
    "                        self.optimizers[i].neighborsAverage(self.optimizers)\n",
    "                        \n",
    "                    #update\n",
    "                    for i in range(self.num_nodes):\n",
    "                        \n",
    "                        def closure():\n",
    "                            self.optimizers[i].zero_grad(set_to_none=True)\n",
    "                            x, y = iter(datazones[i]).next()\n",
    "                            output = self.models[i](x)\n",
    "                            loss = self.loss(output, y)\n",
    "                            loss.backward()\n",
    "                            \n",
    "                        self.optimizers[i].step(l, closure)\n",
    "\n",
    "                self.gaps_off = [0.] * self.num_nodes\n",
    "                for i in range(self.num_nodes):\n",
    "                    with torch.enable_grad():\n",
    "                        #self.best_models[i].eval()\n",
    "                        #x, y = iter(datazones[i]).next()\n",
    "                        self.best_models[i].zero_grad(set_to_none=True)\n",
    "                        outputs= self.best_models[i](all_data_x)\n",
    "                        #_, predicted = torch.max(outputs.data, 1)\n",
    "                        #print(\"------------\")\n",
    "                        #print(f\"Prediction Model {i} {Counter(predicted.numpy())}\")\n",
    "                        #print(f\"Truth Model {i} {Counter(all_data_y.numpy())}\")\n",
    "                        #print(\"------------\")\n",
    "                        curr_loss = self.loss(outputs,all_data_y)\n",
    "                        curr_loss.backward()\n",
    "                        for param in self.best_models[i].parameters():\n",
    "                            if param.grad is None:\n",
    "                                raise ValueError(\"Grad is None\")\n",
    "                            a = lmo(param.grad.data,radius=radius)\n",
    "                            self.gaps_off[i] += torch.sum(torch.mul(param.grad.data, param.data - a))\n",
    "                \n",
    "                    #self.final_gap[i] += self.optimizers[i].init_gap\n",
    "                    #self.final_gap[i] /= (t + 1)\n",
    "                    #self.gaps_off[i] = self.optimizers[i].init_gap\n",
    "                    self.final_gap[i] += self.gaps_off[i]\n",
    "                    self.losses[i] = curr_loss.detach().numpy()\n",
    "                #print(self.final_gap)\n",
    "                loss = np.max(self.losses)\n",
    "                gap = np.max(self.final_gap/(t+1))  #.detach().numpy(\n",
    "                local_gap = np.max(self.gaps_off)\n",
    "                '''\n",
    "                if t % print_freq == 0:\n",
    "                    print(\"t_{} : loss : {:.5f} gap : {:.5f} local-gap : {:.5f} acc {:.5f} f1 {:.5f} precision {:.5f} recall {:.5f}\".format(\n",
    "                        t, loss, gap,local_gap,acc, f1, prec, rec))\n",
    "                    \n",
    "                self.obj_values[t, :] = [t, loss, gap,local_gap ,acc, f1, prec, rec]'''\n",
    "                if t % print_freq == 0:\n",
    "                    print(\"t_{} : loss : {:.5f} Gap : {:.5f} Local-Gap : {:.5f}\".format(\n",
    "                        t, loss, gap, local_gap))\n",
    "                    \n",
    "                self.obj_values[t, :] = [t, loss, gap, local_gap]\n",
    "                    \n",
    "                t+=1\n",
    "\n",
    "        return self.obj_values"
   ]
  },
  {
   "cell_type": "code",
   "execution_count": 392,
   "id": "7b865c61",
   "metadata": {
    "ExecuteTime": {
     "end_time": "2021-09-16T18:45:54.172131Z",
     "start_time": "2021-09-16T18:45:54.152632Z"
    },
    "code_folding": [
     0
    ]
   },
   "outputs": [],
   "source": [
    "class LSTM(nn.Module):\n",
    "    def __init__(self, input_size, hidden_size1, hidden_size2, time_step_in, time_step_out):\n",
    "        super(LSTM, self).__init__()\n",
    "        self.input_size = input_size\n",
    "        self.hidden_size1 = hidden_size1\n",
    "        self.hidden_size2 = hidden_size2\n",
    "        self.time_step_in = time_step_in\n",
    "        self.time_step_out = time_step_out\n",
    "        self.num_layers = 1\n",
    "        \n",
    "        self.encoder = nn.LSTM(self.input_size, self.hidden_size1,\n",
    "                               num_layers=self.num_layers, batch_first=True, bias=True)\n",
    "        self.encoder2 = nn.LSTM(self.hidden_size1, self.hidden_size2, num_layers=1, batch_first=True, bias=True)\n",
    "        \n",
    "        self.batch = nn.BatchNorm1d(self.hidden_size2)\n",
    "    \n",
    "        self.linear2 = nn.Linear(self.hidden_size2, 3,bias=True)\n",
    "        \n",
    "    def forward(self,x):\n",
    "        out_en, (h_en) = self.encoder(x)\n",
    "        out_en, (h_en) = self.encoder2(out_en)\n",
    "        out_en = out_en[:,-1,:]\n",
    "        out_en = self.batch(out_en)\n",
    "        out = nn.LeakyReLU()(out_en)\n",
    "        out = self.linear2(out)\n",
    "        return out\n",
    "    \n",
    "class CNN1D(nn.Module):\n",
    "    def __init__(self,nb_chan_out, nb_classes, input_len,kernel_size):\n",
    "        super(CNN1D, self).__init__()\n",
    "        self.input_len = input_len\n",
    "        \n",
    "        self.conv1d = nn.Conv1d(in_channels=1, out_channels=nb_chan_out, kernel_size=kernel_size, stride=1, \n",
    "                                padding=int(np.floor(kernel_size/2)))\n",
    "        self.conv1d2 = nn.Conv1d(in_channels=nb_chan_out, out_channels=nb_chan_out, kernel_size=3, stride=1, \n",
    "                                padding=int(np.floor(3/2)))\n",
    "        \n",
    "        \n",
    "        self.maxpool = nn.MaxPool1d(3)\n",
    "        self.batchnorm = nn.BatchNorm1d(nb_chan_out)\n",
    "        self.fc1 = nn.Linear(nb_chan_out*int((input_len/3)),nb_classes, True)\n",
    "        \n",
    "    def forward(self, x):\n",
    "        inputs = x.permute(0,2,1)\n",
    "        out = self.conv1d(inputs)\n",
    "        out = self.conv1d2(out)\n",
    "        out = self.batchnorm(out)\n",
    "        out = self.maxpool(out)\n",
    "        out = nn.ReLU()(out)\n",
    "        \n",
    "        out = out.view(-1, out.shape[1]*out.shape[2])\n",
    "        \n",
    "        out = self.fc1(out)\n",
    "        return out"
   ]
  },
  {
   "cell_type": "code",
   "execution_count": 393,
   "id": "16497698",
   "metadata": {
    "ExecuteTime": {
     "end_time": "2021-09-16T18:45:54.577497Z",
     "start_time": "2021-09-16T18:45:54.566247Z"
    }
   },
   "outputs": [
    {
     "data": {
      "text/plain": [
       "==========================================================================================\n",
       "Layer (type:depth-idx)                   Output Shape              Param #\n",
       "==========================================================================================\n",
       "CNN1D                                    --                        --\n",
       "├─Conv1d: 1-1                            [32, 8, 5]                48\n",
       "├─Conv1d: 1-2                            [32, 8, 5]                200\n",
       "├─BatchNorm1d: 1-3                       [32, 8, 5]                16\n",
       "├─MaxPool1d: 1-4                         [32, 8, 1]                --\n",
       "├─Linear: 1-5                            [32, 3]                   27\n",
       "==========================================================================================\n",
       "Total params: 291\n",
       "Trainable params: 291\n",
       "Non-trainable params: 0\n",
       "Total mult-adds (M): 0.04\n",
       "==========================================================================================\n",
       "Input size (MB): 0.00\n",
       "Forward/backward pass size (MB): 0.03\n",
       "Params size (MB): 0.00\n",
       "Estimated Total Size (MB): 0.03\n",
       "=========================================================================================="
      ]
     },
     "execution_count": 393,
     "metadata": {},
     "output_type": "execute_result"
    }
   ],
   "source": [
    "lstm = LSTM(1,64,64, lookback, lookahead)\n",
    "cnn = CNN1D(8,3,lookback,5)\n",
    "x, y = iter(trainloader[0][\"2019-03-08\"]).next()\n",
    "summary(cnn, x.shape)"
   ]
  },
  {
   "cell_type": "code",
   "execution_count": 394,
   "id": "ab33e6ab",
   "metadata": {
    "ExecuteTime": {
     "end_time": "2021-09-16T18:45:55.072296Z",
     "start_time": "2021-09-16T18:45:55.066498Z"
    }
   },
   "outputs": [],
   "source": [
    "complete_graph, complete = Graphs.completegraph(len(trainloader))\n",
    "cycle_graph, cycle = Graphs.cycle_graph(len(trainloader))\n",
    "grid_graph, grid = Graphs.gridgraph(int(len(trainloader)/2),2)\n",
    "line_graph, line = Graphs.gridgraph(len(trainloader),1)\n",
    "grid11,_ = Graphs.gridgraph(1,1)"
   ]
  },
  {
   "cell_type": "code",
   "execution_count": 395,
   "id": "2c6951f1",
   "metadata": {
    "ExecuteTime": {
     "end_time": "2021-09-16T18:45:56.472718Z",
     "start_time": "2021-09-16T18:45:56.469028Z"
    }
   },
   "outputs": [],
   "source": [
    "#loss_fn = nn.SmoothL1Loss()\n",
    "loss_fn = nn.CrossEntropyLoss()\n",
    "#loss_fn = nn.MSELoss()\n",
    "num_iters_base = nb_iterations\n",
    "eta_coef_DMFW = 1\n",
    "eta_exp_DMFW = 0.99\n",
    "rho_coef_DMFW = 4e-0\n",
    "rho_exp_DMFW = 1/2\n",
    "reg_coef_DMFW = 2\n",
    "L_DMFW = nb_iterations #or nb_iteration to get a better resu"
   ]
  },
  {
   "cell_type": "code",
   "execution_count": 209,
   "id": "47287090",
   "metadata": {
    "ExecuteTime": {
     "end_time": "2021-09-16T16:33:35.689657Z",
     "start_time": "2021-09-16T16:33:35.684911Z"
    }
   },
   "outputs": [],
   "source": [
    "def save_log_csv(log_file, path_to_save):\n",
    "    #logs = pd.DataFrame(log_file, columns=[\"Iteration\", \"Loss\", \"Gap\", \"Local Gap\",\"Acc\",\"F1\",'Prec','Rec'])\n",
    "    logs = pd.DataFrame(log_file, columns=[\"Iteration\", \"Loss\", \"Gap\", \"Local Gap\"])\n",
    "    pd.DataFrame.to_csv(logs, os.path.join(path_to_save,f'Floor_log.csv'))\n",
    "def save_state_dict(model, model_idx, path_to_save):\n",
    "    torch.save(model.state_dict(), os.path.join(path_to_save,f'model{model_idx}_statedict.pt'))"
   ]
  },
  {
   "cell_type": "code",
   "execution_count": 162,
   "id": "98f0cc90",
   "metadata": {
    "ExecuteTime": {
     "end_time": "2021-09-16T13:39:45.247129Z",
     "start_time": "2021-09-16T13:39:45.239810Z"
    },
    "code_folding": [
     0
    ]
   },
   "outputs": [],
   "source": [
    "def grid_search(alpha_list, graph_type):\n",
    "    for alpha in alpha_list:\n",
    "        trainXMFW = Trainer(complete_graph,trainloader,CNN1D,(8,3,lookback,alpha), loss_fn ,num_iters_base)\n",
    "        values_dmfw = trainXMFW.train(DMFW, L_DMFW, eta_coef_DMFW, eta_exp_DMFW, reg_coef=reg_coef_DMFW,radius=1,\n",
    "                            path_figure_date=None,print_freq=1, dates=train_date)#\"./OnlineModel/LSTM/complete1/\")\n",
    "        path_log = f\"/Users/Slaton/Documents/DMFW/BangkokDataAnalysis/gitdecenlearn/Analysis/tempAC-class-version4/DMFW/complete/floor4/alpha095-cut20april-nb_chan{alpha}\"\n",
    "        if not os.path.exists(path_log):\n",
    "            os.makedirs(path_log)\n",
    "            \n",
    "        save_log_csv(values_dmfw, path_log)\n",
    "        for i in range(len(trainXMFW.best_models)):\n",
    "            save_state_dict(trainXMFW.best_models[i],i, path_log)\n",
    "        \n",
    "        print(np.mean(values_dmfw[:,1][:-1]))\n",
    "        '''\n",
    "        indexroom = 0\n",
    "        mymodel = trainXMFW.best_models[indexroom]\n",
    "        #real_index_zone = [1,2,4,5]\n",
    "        #testloader = [loaderZ1test]#, loaderZ2test, loaderZ4test, loaderZ5test]\n",
    "        may = [date for date in test_date if '2019-04' in date or '2019-05' in date]\n",
    "        myfloor = zone_id\n",
    "        resultpd = PredictionMultipleDate(mymodel,test_date,may[0], may[-1],testloader[indexroom], lookahead, scalers,\n",
    "                                         myfloor[indexroom])\n",
    "        pd.DataFrame.to_csv(resultpd,path_log+f'/prediction-{myfloor[indexroom]}.csv')'''\n",
    "        \n",
    "        print(f\"------Done for Hidden {alpha}-------\")"
   ]
  },
  {
   "cell_type": "code",
   "execution_count": 115,
   "id": "f98198b4",
   "metadata": {
    "ExecuteTime": {
     "end_time": "2021-09-15T12:38:18.404808Z",
     "start_time": "2021-09-15T12:38:18.402236Z"
    },
    "code_folding": [],
    "scrolled": true
   },
   "outputs": [],
   "source": [
    "#grid_search(alphas, grid11)"
   ]
  },
  {
   "cell_type": "code",
   "execution_count": 49,
   "id": "5d36a0bc",
   "metadata": {
    "ExecuteTime": {
     "end_time": "2021-09-15T17:36:19.714616Z",
     "start_time": "2021-09-15T17:36:19.710120Z"
    }
   },
   "outputs": [],
   "source": [
    "path_log = \"/Users/Slaton/Documents/DMFW/BangkokDataAnalysis/gitdecenlearn/Analysis/tempAC-class-version4/DMFW/cycle/floor4/alpha095-cut20april-spike\"\n",
    "if not os.path.exists(path_log):\n",
    "    os.makedirs(path_log)"
   ]
  },
  {
   "cell_type": "code",
   "execution_count": 396,
   "id": "4d9cd6c2",
   "metadata": {
    "ExecuteTime": {
     "end_time": "2021-09-16T18:45:58.216027Z",
     "start_time": "2021-09-16T18:45:58.211814Z"
    }
   },
   "outputs": [],
   "source": [
    "trainXMFW = Trainer(cycle_graph,trainloader,CNN1D,(8,3,lookback,5), loss_fn ,num_iters_base)"
   ]
  },
  {
   "cell_type": "code",
   "execution_count": 397,
   "id": "5ca9c59a",
   "metadata": {
    "ExecuteTime": {
     "end_time": "2021-09-16T18:47:54.477013Z",
     "start_time": "2021-09-16T18:45:58.919618Z"
    },
    "scrolled": true
   },
   "outputs": [
    {
     "name": "stdout",
     "output_type": "stream",
     "text": [
      "----2019-03-07----\n",
      "t_0 : loss : 1.09966 Gap : 0.30562 Local-Gap : 0.30562\n",
      "t_1 : loss : 1.08291 Gap : 0.36928 Local-Gap : 0.43346\n",
      "t_2 : loss : 1.09555 Gap : 0.33284 Local-Gap : 0.26212\n",
      "t_3 : loss : 1.07883 Gap : 0.28573 Local-Gap : 0.14441\n",
      "----2019-03-08----\n",
      "t_4 : loss : 1.08279 Gap : 0.24873 Local-Gap : 0.11265\n",
      "t_5 : loss : 1.05580 Gap : 0.24208 Local-Gap : 0.21002\n",
      "t_6 : loss : 1.08978 Gap : 0.25198 Local-Gap : 0.31545\n",
      "t_7 : loss : 1.02260 Gap : 0.24188 Local-Gap : 0.18128\n",
      "----2019-03-11----\n",
      "t_8 : loss : 1.09686 Gap : 0.27013 Local-Gap : 0.49614\n",
      "t_9 : loss : 1.02902 Gap : 0.26225 Local-Gap : 0.19132\n",
      "t_10 : loss : 1.07667 Gap : 0.25750 Local-Gap : 0.22056\n",
      "t_11 : loss : 1.03754 Gap : 0.25280 Local-Gap : 0.21395\n",
      "----2019-03-12----\n",
      "t_12 : loss : 1.03823 Gap : 0.25333 Local-Gap : 0.26249\n",
      "t_13 : loss : 1.03274 Gap : 0.24257 Local-Gap : 0.10413\n",
      "t_14 : loss : 1.02944 Gap : 0.25621 Local-Gap : 0.44725\n",
      "t_15 : loss : 1.09038 Gap : 0.25861 Local-Gap : 0.30019\n",
      "----2019-03-13----\n",
      "t_16 : loss : 1.02153 Gap : 0.25804 Local-Gap : 0.24886\n",
      "t_17 : loss : 1.04675 Gap : 0.25634 Local-Gap : 0.23559\n",
      "t_18 : loss : 1.03636 Gap : 0.24869 Local-Gap : 0.11459\n",
      "t_19 : loss : 1.00459 Gap : 0.24196 Local-Gap : 0.11410\n",
      "----2019-03-14----\n",
      "t_20 : loss : 1.01823 Gap : 0.24021 Local-Gap : 0.20937\n",
      "t_21 : loss : 1.07224 Gap : 0.23676 Local-Gap : 0.16597\n",
      "t_22 : loss : 1.00836 Gap : 0.23668 Local-Gap : 0.25042\n",
      "t_23 : loss : 1.07371 Gap : 0.23953 Local-Gap : 0.30697\n",
      "----2019-03-15----\n",
      "t_24 : loss : 1.00624 Gap : 0.23643 Local-Gap : 0.16197\n",
      "t_25 : loss : 1.04505 Gap : 0.23739 Local-Gap : 0.26137\n",
      "t_26 : loss : 0.98456 Gap : 0.23349 Local-Gap : 0.13369\n",
      "t_27 : loss : 1.01033 Gap : 0.23125 Local-Gap : 0.17069\n",
      "----2019-03-18----\n",
      "t_28 : loss : 1.04454 Gap : 0.22862 Local-Gap : 0.18107\n",
      "t_29 : loss : 1.02686 Gap : 0.22402 Local-Gap : 0.09521\n",
      "t_30 : loss : 1.00436 Gap : 0.22158 Local-Gap : 0.14855\n",
      "t_31 : loss : 0.98506 Gap : 0.22013 Local-Gap : 0.17509\n",
      "----2019-03-19----\n",
      "t_32 : loss : 0.97618 Gap : 0.22022 Local-Gap : 0.22827\n",
      "t_33 : loss : 0.99012 Gap : 0.21723 Local-Gap : 0.12891\n",
      "t_34 : loss : 1.10693 Gap : 0.22056 Local-Gap : 0.33707\n",
      "t_35 : loss : 0.99817 Gap : 0.21695 Local-Gap : 0.09163\n",
      "----2019-03-20----\n",
      "t_36 : loss : 1.01131 Gap : 0.21808 Local-Gap : 0.25950\n",
      "t_37 : loss : 1.01060 Gap : 0.21614 Local-Gap : 0.15617\n",
      "t_38 : loss : 1.06406 Gap : 0.21300 Local-Gap : 0.09514\n",
      "t_39 : loss : 1.00421 Gap : 0.21094 Local-Gap : 0.13060\n",
      "----2019-03-21----\n",
      "t_40 : loss : 0.95862 Gap : 0.21019 Local-Gap : 0.18012\n",
      "t_41 : loss : 1.04323 Gap : 0.20737 Local-Gap : 0.09278\n",
      "t_42 : loss : 0.95639 Gap : 0.20750 Local-Gap : 0.21641\n",
      "t_43 : loss : 1.03322 Gap : 0.20947 Local-Gap : 0.31570\n",
      "----2019-03-22----\n",
      "t_44 : loss : 1.02111 Gap : 0.20718 Local-Gap : 0.11549\n",
      "t_45 : loss : 1.03966 Gap : 0.20487 Local-Gap : 0.10137\n",
      "t_46 : loss : 1.05359 Gap : 0.20382 Local-Gap : 0.17463\n",
      "t_47 : loss : 1.02881 Gap : 0.20295 Local-Gap : 0.16249\n",
      "----2019-03-25----\n",
      "t_48 : loss : 1.00432 Gap : 0.20678 Local-Gap : 0.39050\n",
      "t_49 : loss : 1.07513 Gap : 0.20525 Local-Gap : 0.14497\n",
      "t_50 : loss : 0.99556 Gap : 0.20426 Local-Gap : 0.16161\n",
      "t_51 : loss : 1.14199 Gap : 0.21074 Local-Gap : 0.54545\n",
      "----2019-03-26----\n",
      "t_52 : loss : 0.99449 Gap : 0.21082 Local-Gap : 0.21942\n",
      "t_53 : loss : 1.00546 Gap : 0.20869 Local-Gap : 0.10376\n",
      "t_54 : loss : 1.02027 Gap : 0.21072 Local-Gap : 0.32587\n",
      "t_55 : loss : 1.00112 Gap : 0.21007 Local-Gap : 0.17612\n",
      "----2019-03-27----\n",
      "t_56 : loss : 1.02273 Gap : 0.20930 Local-Gap : 0.16857\n",
      "t_57 : loss : 1.00960 Gap : 0.20663 Local-Gap : 0.05562\n",
      "t_58 : loss : 0.93851 Gap : 0.20664 Local-Gap : 0.21472\n",
      "t_59 : loss : 1.00988 Gap : 0.20772 Local-Gap : 0.27640\n",
      "----2019-03-28----\n",
      "t_60 : loss : 0.98357 Gap : 0.20672 Local-Gap : 0.14974\n",
      "t_61 : loss : 0.96038 Gap : 0.20454 Local-Gap : 0.07338\n",
      "t_62 : loss : 1.04305 Gap : 0.20570 Local-Gap : 0.27798\n",
      "t_63 : loss : 0.93997 Gap : 0.20506 Local-Gap : 0.16481\n",
      "----2019-03-29----\n",
      "t_64 : loss : 0.97909 Gap : 0.20556 Local-Gap : 0.23809\n",
      "t_65 : loss : 0.98467 Gap : 0.20455 Local-Gap : 0.15283\n",
      "t_66 : loss : 1.00679 Gap : 0.20362 Local-Gap : 0.14410\n",
      "t_67 : loss : 1.00076 Gap : 0.20256 Local-Gap : 0.13996\n",
      "----2019-04-01----\n",
      "t_68 : loss : 1.08584 Gap : 0.20321 Local-Gap : 0.24919\n",
      "t_69 : loss : 1.02061 Gap : 0.20207 Local-Gap : 0.12355\n",
      "t_70 : loss : 0.95918 Gap : 0.20047 Local-Gap : 0.09507\n",
      "t_71 : loss : 1.04152 Gap : 0.20147 Local-Gap : 0.28135\n",
      "----2019-04-02----\n",
      "t_72 : loss : 1.08700 Gap : 0.20260 Local-Gap : 0.28391\n",
      "t_73 : loss : 1.07048 Gap : 0.20568 Local-Gap : 0.43067\n",
      "t_74 : loss : 0.98320 Gap : 0.20773 Local-Gap : 0.35986\n",
      "t_75 : loss : 1.00673 Gap : 0.20670 Local-Gap : 0.13267\n",
      "----2019-04-03----\n",
      "t_76 : loss : 0.99402 Gap : 0.20673 Local-Gap : 0.21158\n",
      "t_77 : loss : 1.12242 Gap : 0.21043 Local-Gap : 0.49941\n",
      "t_78 : loss : 0.99721 Gap : 0.21050 Local-Gap : 0.22592\n",
      "t_79 : loss : 1.03751 Gap : 0.21010 Local-Gap : 0.18182\n",
      "----2019-04-04----\n",
      "t_80 : loss : 0.97124 Gap : 0.20835 Local-Gap : 0.06813\n",
      "t_81 : loss : 0.96957 Gap : 0.20789 Local-Gap : 0.17283\n",
      "t_82 : loss : 0.98195 Gap : 0.20697 Local-Gap : 0.17272\n",
      "t_83 : loss : 1.05072 Gap : 0.20596 Local-Gap : 0.12151\n",
      "----2019-04-05----\n",
      "t_84 : loss : 0.99189 Gap : 0.20498 Local-Gap : 0.12472\n",
      "t_85 : loss : 0.98073 Gap : 0.20370 Local-Gap : 0.09810\n",
      "t_86 : loss : 0.99196 Gap : 0.20291 Local-Gap : 0.13999\n",
      "t_87 : loss : 1.03089 Gap : 0.20847 Local-Gap : 0.69507\n",
      "----2019-04-09----\n",
      "t_88 : loss : 1.01883 Gap : 0.20842 Local-Gap : 0.20388\n",
      "t_89 : loss : 0.97701 Gap : 0.20786 Local-Gap : 0.16466\n",
      "t_90 : loss : 0.97771 Gap : 0.20722 Local-Gap : 0.14924\n",
      "t_91 : loss : 1.01993 Gap : 0.20627 Local-Gap : 0.12222\n",
      "----2019-04-10----\n",
      "t_92 : loss : 1.02926 Gap : 0.20646 Local-Gap : 0.22344\n",
      "t_93 : loss : 0.94273 Gap : 0.20676 Local-Gap : 0.23498\n",
      "t_94 : loss : 1.03030 Gap : 0.20771 Local-Gap : 0.29682\n",
      "t_95 : loss : 1.03921 Gap : 0.20827 Local-Gap : 0.26483\n",
      "----2019-04-11----\n",
      "t_96 : loss : 0.97582 Gap : 0.20931 Local-Gap : 0.31242\n",
      "t_97 : loss : 1.03538 Gap : 0.21036 Local-Gap : 0.31324\n",
      "t_98 : loss : 1.00085 Gap : 0.20958 Local-Gap : 0.13273\n",
      "t_99 : loss : 1.05266 Gap : 0.20939 Local-Gap : 0.19070\n",
      "----2019-04-17----\n",
      "t_100 : loss : 0.99546 Gap : 0.20995 Local-Gap : 0.26577\n",
      "t_101 : loss : 1.09837 Gap : 0.21445 Local-Gap : 0.66970\n",
      "t_102 : loss : 1.00707 Gap : 0.21391 Local-Gap : 0.16138\n",
      "t_103 : loss : 1.01467 Gap : 0.21561 Local-Gap : 0.39772\n",
      "----2019-04-18----\n",
      "t_104 : loss : 0.98360 Gap : 0.21422 Local-Gap : 0.06924\n",
      "t_105 : loss : 1.00992 Gap : 0.21362 Local-Gap : 0.15388\n",
      "t_106 : loss : 1.05688 Gap : 0.21554 Local-Gap : 0.42621\n",
      "t_107 : loss : 1.06336 Gap : 0.21898 Local-Gap : 0.58756\n",
      "----2019-04-19----\n",
      "t_108 : loss : 1.02285 Gap : 0.21939 Local-Gap : 0.28393\n",
      "t_109 : loss : 1.06881 Gap : 0.22106 Local-Gap : 0.40388\n",
      "t_110 : loss : 1.01295 Gap : 0.22013 Local-Gap : 0.11751\n",
      "t_111 : loss : 1.00432 Gap : 0.21943 Local-Gap : 0.15168\n"
     ]
    }
   ],
   "source": [
    "values_dmfw = trainXMFW.train(DMFW, L_DMFW, eta_coef_DMFW, eta_exp_DMFW, reg_coef=reg_coef_DMFW,radius=1,\n",
    "                            path_figure_date=None,print_freq=1, dates=train_date)#\"./OnlineModel/LSTM/complete1/\")"
   ]
  },
  {
   "cell_type": "code",
   "execution_count": 72,
   "id": "134fc3be",
   "metadata": {
    "ExecuteTime": {
     "end_time": "2021-09-15T17:48:13.055200Z",
     "start_time": "2021-09-15T17:48:13.039278Z"
    },
    "code_folding": []
   },
   "outputs": [],
   "source": [
    "save_log_csv(values_dmfw, path_log)\n",
    "for i in range(len(trainXMFW.best_models)):\n",
    "    save_state_dict(trainXMFW.best_models[i],i, path_log)"
   ]
  },
  {
   "cell_type": "code",
   "execution_count": 73,
   "id": "fd77c700",
   "metadata": {
    "ExecuteTime": {
     "end_time": "2021-09-15T17:48:14.199485Z",
     "start_time": "2021-09-15T17:48:14.194988Z"
    }
   },
   "outputs": [
    {
     "data": {
      "text/plain": [
       "4"
      ]
     },
     "execution_count": 73,
     "metadata": {},
     "output_type": "execute_result"
    }
   ],
   "source": [
    "len(trainXMFW.best_models)"
   ]
  },
  {
   "cell_type": "code",
   "execution_count": 367,
   "id": "6aea6054",
   "metadata": {
    "ExecuteTime": {
     "end_time": "2021-09-16T18:28:46.056786Z",
     "start_time": "2021-09-16T18:28:45.914313Z"
    }
   },
   "outputs": [
    {
     "data": {
      "text/plain": [
       "Text(0, 0.5, 'Gap')"
      ]
     },
     "execution_count": 367,
     "metadata": {},
     "output_type": "execute_result"
    },
    {
     "data": {
      "image/png": "[encoded data removed]",
      "text/plain": [
       "<Figure size 720x360 with 1 Axes>"
      ]
     },
     "metadata": {},
     "output_type": "display_data"
    }
   ],
   "source": [
    "plt.figure(figsize=(10,5))\n",
    "plt.suptitle(\"{}\".format(cycle))\n",
    "plt.plot(values_dmfw[:,0][:-1],values_dmfw[:,2][:-1], label='DMFW', marker='^', markersize=4,\n",
    "         markevery=[i for i in range(len(values_dmfw[:,0][1:])) if i%10==0])\n",
    "plt.axhline(y=0, color='grey', linestyle='--')\n",
    "plt.legend(loc='upper right')\n",
    "#plt.ylim((1e-4, 1e0))\n",
    "plt.yscale(\"log\")\n",
    "plt.xlabel(\"#Iterations\",fontsize=15)\n",
    "plt.ylabel(\"Gap\",fontsize=15)"
   ]
  },
  {
   "cell_type": "code",
   "execution_count": 358,
   "id": "2e588f4e",
   "metadata": {
    "ExecuteTime": {
     "end_time": "2021-09-16T18:27:11.886999Z",
     "start_time": "2021-09-16T18:27:11.880564Z"
    }
   },
   "outputs": [
    {
     "data": {
      "text/plain": [
       "1.023693980915206"
      ]
     },
     "execution_count": 358,
     "metadata": {},
     "output_type": "execute_result"
    }
   ],
   "source": [
    "np.mean(values_dmfw[:,1][:-1])"
   ]
  },
  {
   "cell_type": "code",
   "execution_count": 359,
   "id": "01e5c54c",
   "metadata": {
    "ExecuteTime": {
     "end_time": "2021-09-16T18:27:13.265325Z",
     "start_time": "2021-09-16T18:27:13.261826Z"
    }
   },
   "outputs": [],
   "source": [
    "onlineloss = np.cumsum(values_dmfw[:,1][:-1])\n",
    "arangement = np.arange(1,len(onlineloss)+1)\n",
    "onlineloss = onlineloss/arangement"
   ]
  },
  {
   "cell_type": "code",
   "execution_count": 360,
   "id": "67659f94",
   "metadata": {
    "ExecuteTime": {
     "end_time": "2021-09-16T18:27:13.516932Z",
     "start_time": "2021-09-16T18:27:13.510923Z"
    }
   },
   "outputs": [],
   "source": [
    "def average_loss(array):\n",
    "    nb_iter = len(array)\n",
    "    onlineloss = np.cumsum(array)\n",
    "    arangement = np.arange(1,nb_iter+1)\n",
    "    onlineloss = onlineloss/arangement\n",
    "    return onlineloss"
   ]
  },
  {
   "cell_type": "code",
   "execution_count": 177,
   "id": "0b115924",
   "metadata": {
    "ExecuteTime": {
     "end_time": "2021-09-16T16:29:01.698604Z",
     "start_time": "2021-09-16T16:29:01.675895Z"
    }
   },
   "outputs": [
    {
     "ename": "IndexError",
     "evalue": "index 5 is out of bounds for axis 1 with size 4",
     "output_type": "error",
     "traceback": [
      "\u001b[0;31m---------------------------------------------------------------------------\u001b[0m",
      "\u001b[0;31mIndexError\u001b[0m                                Traceback (most recent call last)",
      "\u001b[0;32m/var/folders/wm/ymsmhgr90dd6gyprvtgvcr080000gn/T/ipykernel_14441/574335397.py\u001b[0m in \u001b[0;36m<module>\u001b[0;34m\u001b[0m\n\u001b[1;32m      2\u001b[0m \u001b[0;31m#plt.plot(values_dmfw[:,0][:-1],average_loss(values_dmfw[:,4][:-1]), label='Online Accuracy', marker='^', markersize=4,\u001b[0m\u001b[0;34m\u001b[0m\u001b[0;34m\u001b[0m\u001b[0;34m\u001b[0m\u001b[0m\n\u001b[1;32m      3\u001b[0m \u001b[0;31m#         markevery=[i for i in range(len(values_dmfw[:,0][1:])) if i%10==0])\u001b[0m\u001b[0;34m\u001b[0m\u001b[0;34m\u001b[0m\u001b[0;34m\u001b[0m\u001b[0m\n\u001b[0;32m----> 4\u001b[0;31m plt.plot(values_dmfw[:,0][:-1],average_loss(values_dmfw[:,5][:-1]), label='Online F1-Score', marker='^', markersize=4,\n\u001b[0m\u001b[1;32m      5\u001b[0m          markevery=[i for i in range(len(values_dmfw[:,0][1:])) if i%10==0])\n\u001b[1;32m      6\u001b[0m plt.plot(values_dmfw[:,0][:-1],average_loss(values_dmfw[:,6][:-1]), label='Online Precision', marker='^', markersize=4,\n",
      "\u001b[0;31mIndexError\u001b[0m: index 5 is out of bounds for axis 1 with size 4"
     ]
    },
    {
     "data": {
      "text/plain": [
       "<Figure size 720x360 with 0 Axes>"
      ]
     },
     "metadata": {},
     "output_type": "display_data"
    }
   ],
   "source": [
    "plt.figure(figsize=(10,5))\n",
    "#plt.plot(values_dmfw[:,0][:-1],average_loss(values_dmfw[:,4][:-1]), label='Online Accuracy', marker='^', markersize=4,\n",
    "#         markevery=[i for i in range(len(values_dmfw[:,0][1:])) if i%10==0])\n",
    "plt.plot(values_dmfw[:,0][:-1],average_loss(values_dmfw[:,5][:-1]), label='Online F1-Score', marker='^', markersize=4,\n",
    "         markevery=[i for i in range(len(values_dmfw[:,0][1:])) if i%10==0])\n",
    "plt.plot(values_dmfw[:,0][:-1],average_loss(values_dmfw[:,6][:-1]), label='Online Precision', marker='^', markersize=4,\n",
    "         markevery=[i for i in range(len(values_dmfw[:,0][1:])) if i%10==0])\n",
    "plt.plot(values_dmfw[:,0][:-1],average_loss(values_dmfw[:,7][:-1]), label='Online Recall', marker='^', markersize=4,\n",
    "         markevery=[i for i in range(len(values_dmfw[:,0][1:])) if i%10==0])\n",
    "plt.legend(loc='lower right')\n",
    "#plt.yscale(\"log\")\n",
    "plt.xlabel(\"Iterations\",fontsize=15)\n",
    "plt.ylabel(\"Accuracy/F1\",fontsize=15)"
   ]
  },
  {
   "cell_type": "code",
   "execution_count": 366,
   "id": "4ae9297d",
   "metadata": {
    "ExecuteTime": {
     "end_time": "2021-09-16T18:28:42.176482Z",
     "start_time": "2021-09-16T18:28:41.991602Z"
    }
   },
   "outputs": [
    {
     "data": {
      "text/plain": [
       "Text(0, 0.5, 'Loss')"
      ]
     },
     "execution_count": 366,
     "metadata": {},
     "output_type": "execute_result"
    },
    {
     "data": {
      "image/png": "[encoded data removed]",
      "text/plain": [
       "<Figure size 720x360 with 1 Axes>"
      ]
     },
     "metadata": {},
     "output_type": "display_data"
    }
   ],
   "source": [
    "plt.figure(figsize=(10,5))\n",
    "plt.suptitle(\"{}\".format(cycle))\n",
    "plt.plot(values_dmfw[:,0][:-1],values_dmfw[:,1][:-1], label='Step Loss', marker='^', markersize=4,\n",
    "         markevery=[i for i in range(len(values_dmfw[:,0][1:-1])) if i%10==0])\n",
    "plt.plot(values_dmfw[:,0][:-1],average_loss(values_dmfw[:,1][:-1]), label='Online Loss', marker='^', markersize=4,\n",
    "         markevery=[i for i in range(len(values_dmfw[:,0][1:])) if i%10==0])\n",
    "plt.axhline(y=0, color='grey', linestyle='--')\n",
    "plt.legend(loc='upper right')\n",
    "#plt.ylim((1e-3, 1e2))\n",
    "plt.yscale(\"log\")\n",
    "plt.xlabel(\"#Iterations\",fontsize=15)\n",
    "plt.ylabel(\"Loss\",fontsize=15)"
   ]
  },
  {
   "cell_type": "markdown",
   "id": "09608abf",
   "metadata": {
    "ExecuteTime": {
     "end_time": "2021-09-13T09:30:39.300733Z",
     "start_time": "2021-09-13T09:30:39.298005Z"
    }
   },
   "source": [
    "# Prediction"
   ]
  },
  {
   "cell_type": "code",
   "execution_count": 179,
   "id": "e52ed3b0",
   "metadata": {
    "ExecuteTime": {
     "end_time": "2021-09-16T16:29:08.107371Z",
     "start_time": "2021-09-16T16:29:08.089049Z"
    }
   },
   "outputs": [],
   "source": [
    "def ModelPrediction(model_to_test, date ,loader, lookahead):\n",
    "    prediction = []\n",
    "    true = []\n",
    "    for val, valpred in loader[date]:\n",
    "        model_to_test.eval()\n",
    "        pred = model_to_test(val)\n",
    "        #print(pred.shape)\n",
    "        prediction.append(pred.detach().numpy())\n",
    "        true.append(valpred.detach().numpy())\n",
    "    pred_array = np.asarray(prediction)\n",
    "    true_array = np.asarray(true)\n",
    "    #print(pred_array.shape)\n",
    "    pred_shape = pred_array.shape\n",
    "    #print(pred_shape)\n",
    "    flattenTrue = true_array.reshape(pred_shape[0]*pred_shape[1], lookahead)[::lookahead].flatten()\n",
    "    flattenPred = pred_array.reshape(pred_shape[0]*pred_shape[1], lookahead)[::lookahead].flatten()\n",
    "    return flattenTrue, flattenPred\n",
    "\n",
    "def ModelPredictionClass(model_to_test, date ,loader):\n",
    "    correct = 0\n",
    "    total = 0\n",
    "    f1 = 0\n",
    "    true_array = []\n",
    "    pred_array = []\n",
    "    model_to_test.eval()\n",
    "    with torch.no_grad():\n",
    "        for series, label in loader[date]:\n",
    "            outputs = model_to_test(series)\n",
    "            _, predicted = torch.max(outputs,1)\n",
    "            total += label.size(0)\n",
    "            correct += (predicted == label).sum().item()\n",
    "            true_array.append(label.detach().numpy())\n",
    "            pred_array.append(predicted.detach().numpy())\n",
    "        truth_roll = np.hstack(true_array).flatten()\n",
    "        pred_roll = np.hstack(pred_array)\n",
    "        \n",
    "        classes_truth = Counter(truth_roll)\n",
    "        classes_pred = Counter(pred_roll)\n",
    "        \n",
    "        #print(f\"Truth : {classes_truth}, Pred : {classes_pred}\")\n",
    "        \n",
    "        f1 = f1_score(truth_roll, pred_roll, average='weighted',labels=np.unique(truth_roll))\n",
    "        precision = precision_score(truth_roll, pred_roll, average='weighted', labels=np.unique(truth_roll))\n",
    "        recall = recall_score(truth_roll, pred_roll, average='weighted',labels=np.unique(truth_roll))\n",
    "        conf_mat = confusion_matrix(truth_roll, pred_roll)\n",
    "        accuracy = correct/total\n",
    "    return accuracy, f1 , precision, recall, conf_mat, truth_roll, pred_roll\n",
    "\n",
    "def plotprediction(pandas,feature): \n",
    "    plt.figure(figsize=(15,5))\n",
    "    plt.title(f'{myfloor[indexroom]}')\n",
    "    plt.plot(pandas[\"Truth\"],label=\"Truth\")\n",
    "    plt.plot(pandas[\"Prediction\"],label=\"Prediction\",ls='-')\n",
    "    plt.xticks(ticks=np.arange(pandas.shape[0],step=100))\n",
    "    plt.legend()\n",
    "    plt.xlabel(\"Timestep\")\n",
    "    plt.ylabel(f'{feature}')\n",
    "    plt.show()"
   ]
  },
  {
   "cell_type": "code",
   "execution_count": 180,
   "id": "4cb661ef",
   "metadata": {
    "ExecuteTime": {
     "end_time": "2021-09-16T16:29:08.683275Z",
     "start_time": "2021-09-16T16:29:08.673976Z"
    }
   },
   "outputs": [],
   "source": [
    "def PredictionMultipleDate(model, dates, date_begin, date_end, loader, lookahead, scalers, zone_name):\n",
    "    predictTrue = []\n",
    "    predictPred = []\n",
    "    valuePD = pd.DataFrame()\n",
    "    idx_begin = dates.index(date_begin)\n",
    "    idx_end = dates.index(date_end)\n",
    "    for date in dates[idx_begin:idx_end]:\n",
    "        true, pred = ModelPrediction(model, date, loader, lookahead)\n",
    "        true = true.repeat(2).reshape((true.shape[0],2))\n",
    "        pred = pred.repeat(2).reshape((true.shape[0],2))\n",
    "        maxi = scalers[zone_name].data_max_\n",
    "        mini = scalers[zone_name].data_min_\n",
    "        #data_range = 1\n",
    "        #true = ((true.reshape(-1,1) - 0.)*(maxi-mini))/data_range + mini\n",
    "        #pred = ((pred.reshape(-1,1) - 0.)*(maxi-mini))/data_range + mini\n",
    "        #true = scalers[zone_name].inverse_transform(true)[:,1].reshape(-1,1)\n",
    "        #pred = scalers[zone_name].inverse_transform(pred)[:,1].reshape(-1,1)\n",
    "        true = true[:,1].reshape(-1,1)\n",
    "        pred = pred[:,1].reshape(-1,1)\n",
    "        array = np.concatenate([true, pred],axis=1)\n",
    "        result = pd.DataFrame({\"Truth\": true.squeeze(),\n",
    "                              \"Prediction\" : pred.squeeze()})\n",
    "                              #\"Date\": pd.date_range(start=date,periods=true.shape[0], freq=\"5min\")})\n",
    "        valuePD = pd.concat((valuePD, result)).reset_index(drop=True)\n",
    "    return valuePD"
   ]
  },
  {
   "cell_type": "code",
   "execution_count": 80,
   "id": "5e67bc29",
   "metadata": {
    "ExecuteTime": {
     "end_time": "2021-09-16T15:14:02.663310Z",
     "start_time": "2021-09-16T15:14:02.632240Z"
    },
    "collapsed": true
   },
   "outputs": [
    {
     "ename": "ValueError",
     "evalue": "cannot reshape array of size 384 into shape (128,1)",
     "output_type": "error",
     "traceback": [
      "\u001b[0;31m---------------------------------------------------------------------------\u001b[0m",
      "\u001b[0;31mValueError\u001b[0m                                Traceback (most recent call last)",
      "\u001b[0;32m/var/folders/wm/ymsmhgr90dd6gyprvtgvcr080000gn/T/ipykernel_14441/3560781273.py\u001b[0m in \u001b[0;36m<module>\u001b[0;34m\u001b[0m\n\u001b[1;32m      4\u001b[0m \u001b[0;32mfor\u001b[0m \u001b[0mindexroom\u001b[0m \u001b[0;32min\u001b[0m \u001b[0mrange\u001b[0m\u001b[0;34m(\u001b[0m\u001b[0mlen\u001b[0m\u001b[0;34m(\u001b[0m\u001b[0mtrainXMFW\u001b[0m\u001b[0;34m.\u001b[0m\u001b[0mbest_models\u001b[0m\u001b[0;34m)\u001b[0m\u001b[0;34m)\u001b[0m\u001b[0;34m:\u001b[0m\u001b[0;34m\u001b[0m\u001b[0;34m\u001b[0m\u001b[0m\n\u001b[1;32m      5\u001b[0m     \u001b[0mmymodel\u001b[0m \u001b[0;34m=\u001b[0m \u001b[0mtrainXMFW\u001b[0m\u001b[0;34m.\u001b[0m\u001b[0mbest_models\u001b[0m\u001b[0;34m[\u001b[0m\u001b[0mindexroom\u001b[0m\u001b[0;34m]\u001b[0m\u001b[0;34m\u001b[0m\u001b[0;34m\u001b[0m\u001b[0m\n\u001b[0;32m----> 6\u001b[0;31m     resultpd = PredictionMultipleDate(mymodel,test_date,may[0], may[10],testloader[indexroom], lookahead, scalers,\n\u001b[0m\u001b[1;32m      7\u001b[0m                                      myfloor[indexroom])\n\u001b[1;32m      8\u001b[0m     \u001b[0mplotprediction\u001b[0m\u001b[0;34m(\u001b[0m\u001b[0mresultpd\u001b[0m\u001b[0;34m,\u001b[0m \u001b[0;34m*\u001b[0m\u001b[0mfeatureY\u001b[0m\u001b[0;34m)\u001b[0m\u001b[0;34m\u001b[0m\u001b[0;34m\u001b[0m\u001b[0m\n",
      "\u001b[0;32m/var/folders/wm/ymsmhgr90dd6gyprvtgvcr080000gn/T/ipykernel_14441/1397226076.py\u001b[0m in \u001b[0;36mPredictionMultipleDate\u001b[0;34m(model, dates, date_begin, date_end, loader, lookahead, scalers, zone_name)\u001b[0m\n\u001b[1;32m      6\u001b[0m     \u001b[0midx_end\u001b[0m \u001b[0;34m=\u001b[0m \u001b[0mdates\u001b[0m\u001b[0;34m.\u001b[0m\u001b[0mindex\u001b[0m\u001b[0;34m(\u001b[0m\u001b[0mdate_end\u001b[0m\u001b[0;34m)\u001b[0m\u001b[0;34m\u001b[0m\u001b[0;34m\u001b[0m\u001b[0m\n\u001b[1;32m      7\u001b[0m     \u001b[0;32mfor\u001b[0m \u001b[0mdate\u001b[0m \u001b[0;32min\u001b[0m \u001b[0mdates\u001b[0m\u001b[0;34m[\u001b[0m\u001b[0midx_begin\u001b[0m\u001b[0;34m:\u001b[0m\u001b[0midx_end\u001b[0m\u001b[0;34m]\u001b[0m\u001b[0;34m:\u001b[0m\u001b[0;34m\u001b[0m\u001b[0;34m\u001b[0m\u001b[0m\n\u001b[0;32m----> 8\u001b[0;31m         \u001b[0mtrue\u001b[0m\u001b[0;34m,\u001b[0m \u001b[0mpred\u001b[0m \u001b[0;34m=\u001b[0m \u001b[0mModelPrediction\u001b[0m\u001b[0;34m(\u001b[0m\u001b[0mmodel\u001b[0m\u001b[0;34m,\u001b[0m \u001b[0mdate\u001b[0m\u001b[0;34m,\u001b[0m \u001b[0mloader\u001b[0m\u001b[0;34m,\u001b[0m \u001b[0mlookahead\u001b[0m\u001b[0;34m)\u001b[0m\u001b[0;34m\u001b[0m\u001b[0;34m\u001b[0m\u001b[0m\n\u001b[0m\u001b[1;32m      9\u001b[0m         \u001b[0mtrue\u001b[0m \u001b[0;34m=\u001b[0m \u001b[0mtrue\u001b[0m\u001b[0;34m.\u001b[0m\u001b[0mrepeat\u001b[0m\u001b[0;34m(\u001b[0m\u001b[0;36m2\u001b[0m\u001b[0;34m)\u001b[0m\u001b[0;34m.\u001b[0m\u001b[0mreshape\u001b[0m\u001b[0;34m(\u001b[0m\u001b[0;34m(\u001b[0m\u001b[0mtrue\u001b[0m\u001b[0;34m.\u001b[0m\u001b[0mshape\u001b[0m\u001b[0;34m[\u001b[0m\u001b[0;36m0\u001b[0m\u001b[0;34m]\u001b[0m\u001b[0;34m,\u001b[0m\u001b[0;36m2\u001b[0m\u001b[0;34m)\u001b[0m\u001b[0;34m)\u001b[0m\u001b[0;34m\u001b[0m\u001b[0;34m\u001b[0m\u001b[0m\n\u001b[1;32m     10\u001b[0m         \u001b[0mpred\u001b[0m \u001b[0;34m=\u001b[0m \u001b[0mpred\u001b[0m\u001b[0;34m.\u001b[0m\u001b[0mrepeat\u001b[0m\u001b[0;34m(\u001b[0m\u001b[0;36m2\u001b[0m\u001b[0;34m)\u001b[0m\u001b[0;34m.\u001b[0m\u001b[0mreshape\u001b[0m\u001b[0;34m(\u001b[0m\u001b[0;34m(\u001b[0m\u001b[0mtrue\u001b[0m\u001b[0;34m.\u001b[0m\u001b[0mshape\u001b[0m\u001b[0;34m[\u001b[0m\u001b[0;36m0\u001b[0m\u001b[0;34m]\u001b[0m\u001b[0;34m,\u001b[0m\u001b[0;36m2\u001b[0m\u001b[0;34m)\u001b[0m\u001b[0;34m)\u001b[0m\u001b[0;34m\u001b[0m\u001b[0;34m\u001b[0m\u001b[0m\n",
      "\u001b[0;32m/var/folders/wm/ymsmhgr90dd6gyprvtgvcr080000gn/T/ipykernel_14441/17075266.py\u001b[0m in \u001b[0;36mModelPrediction\u001b[0;34m(model_to_test, date, loader, lookahead)\u001b[0m\n\u001b[1;32m     14\u001b[0m     \u001b[0;31m#print(pred_shape)\u001b[0m\u001b[0;34m\u001b[0m\u001b[0;34m\u001b[0m\u001b[0;34m\u001b[0m\u001b[0m\n\u001b[1;32m     15\u001b[0m     \u001b[0mflattenTrue\u001b[0m \u001b[0;34m=\u001b[0m \u001b[0mtrue_array\u001b[0m\u001b[0;34m.\u001b[0m\u001b[0mreshape\u001b[0m\u001b[0;34m(\u001b[0m\u001b[0mpred_shape\u001b[0m\u001b[0;34m[\u001b[0m\u001b[0;36m0\u001b[0m\u001b[0;34m]\u001b[0m\u001b[0;34m*\u001b[0m\u001b[0mpred_shape\u001b[0m\u001b[0;34m[\u001b[0m\u001b[0;36m1\u001b[0m\u001b[0;34m]\u001b[0m\u001b[0;34m,\u001b[0m \u001b[0mlookahead\u001b[0m\u001b[0;34m)\u001b[0m\u001b[0;34m[\u001b[0m\u001b[0;34m:\u001b[0m\u001b[0;34m:\u001b[0m\u001b[0mlookahead\u001b[0m\u001b[0;34m]\u001b[0m\u001b[0;34m.\u001b[0m\u001b[0mflatten\u001b[0m\u001b[0;34m(\u001b[0m\u001b[0;34m)\u001b[0m\u001b[0;34m\u001b[0m\u001b[0;34m\u001b[0m\u001b[0m\n\u001b[0;32m---> 16\u001b[0;31m     \u001b[0mflattenPred\u001b[0m \u001b[0;34m=\u001b[0m \u001b[0mpred_array\u001b[0m\u001b[0;34m.\u001b[0m\u001b[0mreshape\u001b[0m\u001b[0;34m(\u001b[0m\u001b[0mpred_shape\u001b[0m\u001b[0;34m[\u001b[0m\u001b[0;36m0\u001b[0m\u001b[0;34m]\u001b[0m\u001b[0;34m*\u001b[0m\u001b[0mpred_shape\u001b[0m\u001b[0;34m[\u001b[0m\u001b[0;36m1\u001b[0m\u001b[0;34m]\u001b[0m\u001b[0;34m,\u001b[0m \u001b[0mlookahead\u001b[0m\u001b[0;34m)\u001b[0m\u001b[0;34m[\u001b[0m\u001b[0;34m:\u001b[0m\u001b[0;34m:\u001b[0m\u001b[0mlookahead\u001b[0m\u001b[0;34m]\u001b[0m\u001b[0;34m.\u001b[0m\u001b[0mflatten\u001b[0m\u001b[0;34m(\u001b[0m\u001b[0;34m)\u001b[0m\u001b[0;34m\u001b[0m\u001b[0;34m\u001b[0m\u001b[0m\n\u001b[0m\u001b[1;32m     17\u001b[0m     \u001b[0;32mreturn\u001b[0m \u001b[0mflattenTrue\u001b[0m\u001b[0;34m,\u001b[0m \u001b[0mflattenPred\u001b[0m\u001b[0;34m\u001b[0m\u001b[0;34m\u001b[0m\u001b[0m\n\u001b[1;32m     18\u001b[0m \u001b[0;34m\u001b[0m\u001b[0m\n",
      "\u001b[0;31mValueError\u001b[0m: cannot reshape array of size 384 into shape (128,1)"
     ]
    }
   ],
   "source": [
    "#real_index_zone = [1,2,4,5,1,2,4,5]\n",
    "myfloor = zone_id#sorted(list(scaled_data.keys()))\n",
    "may = [date for date in test_date if '2019-05' in date or \"2019-04\" in date]\n",
    "for indexroom in range(len(trainXMFW.best_models)):\n",
    "    mymodel = trainXMFW.best_models[indexroom]\n",
    "    resultpd = PredictionMultipleDate(mymodel,test_date,may[0], may[10],testloader[indexroom], lookahead, scalers,\n",
    "                                     myfloor[indexroom])\n",
    "    plotprediction(resultpd, *featureY)\n",
    "    #pd.DataFrame.to_csv(resultpd,path_log+f'/prediction-{myfloor[indexroom]}.csv')"
   ]
  },
  {
   "cell_type": "code",
   "execution_count": 368,
   "id": "df4097e9",
   "metadata": {
    "ExecuteTime": {
     "end_time": "2021-09-16T18:28:59.245796Z",
     "start_time": "2021-09-16T18:28:59.190958Z"
    }
   },
   "outputs": [
    {
     "name": "stderr",
     "output_type": "stream",
     "text": [
      "/Users/Slaton/miniforge3/envs/tf_macos/lib/python3.8/site-packages/sklearn/metrics/_classification.py:1248: UndefinedMetricWarning: Precision is ill-defined and being set to 0.0 in labels with no predicted samples. Use `zero_division` parameter to control this behavior.\n",
      "  _warn_prf(average, modifier, msg_start, len(result))\n",
      "/Users/Slaton/miniforge3/envs/tf_macos/lib/python3.8/site-packages/sklearn/metrics/_classification.py:1248: UndefinedMetricWarning: Precision is ill-defined and being set to 0.0 in labels with no predicted samples. Use `zero_division` parameter to control this behavior.\n",
      "  _warn_prf(average, modifier, msg_start, len(result))\n",
      "/Users/Slaton/miniforge3/envs/tf_macos/lib/python3.8/site-packages/sklearn/metrics/_classification.py:1248: UndefinedMetricWarning: Precision is ill-defined and being set to 0.0 in labels with no predicted samples. Use `zero_division` parameter to control this behavior.\n",
      "  _warn_prf(average, modifier, msg_start, len(result))\n",
      "/Users/Slaton/miniforge3/envs/tf_macos/lib/python3.8/site-packages/sklearn/metrics/_classification.py:1248: UndefinedMetricWarning: Precision is ill-defined and being set to 0.0 in labels with no predicted samples. Use `zero_division` parameter to control this behavior.\n",
      "  _warn_prf(average, modifier, msg_start, len(result))\n",
      "/Users/Slaton/miniforge3/envs/tf_macos/lib/python3.8/site-packages/sklearn/metrics/_classification.py:1248: UndefinedMetricWarning: Precision is ill-defined and being set to 0.0 in labels with no predicted samples. Use `zero_division` parameter to control this behavior.\n",
      "  _warn_prf(average, modifier, msg_start, len(result))\n",
      "/Users/Slaton/miniforge3/envs/tf_macos/lib/python3.8/site-packages/sklearn/metrics/_classification.py:1248: UndefinedMetricWarning: Precision is ill-defined and being set to 0.0 in labels with no predicted samples. Use `zero_division` parameter to control this behavior.\n",
      "  _warn_prf(average, modifier, msg_start, len(result))\n",
      "/Users/Slaton/miniforge3/envs/tf_macos/lib/python3.8/site-packages/sklearn/metrics/_classification.py:1248: UndefinedMetricWarning: Precision is ill-defined and being set to 0.0 in labels with no predicted samples. Use `zero_division` parameter to control this behavior.\n",
      "  _warn_prf(average, modifier, msg_start, len(result))\n",
      "/Users/Slaton/miniforge3/envs/tf_macos/lib/python3.8/site-packages/sklearn/metrics/_classification.py:1248: UndefinedMetricWarning: Precision is ill-defined and being set to 0.0 in labels with no predicted samples. Use `zero_division` parameter to control this behavior.\n",
      "  _warn_prf(average, modifier, msg_start, len(result))\n",
      "/Users/Slaton/miniforge3/envs/tf_macos/lib/python3.8/site-packages/sklearn/metrics/_classification.py:1248: UndefinedMetricWarning: Precision is ill-defined and being set to 0.0 in labels with no predicted samples. Use `zero_division` parameter to control this behavior.\n",
      "  _warn_prf(average, modifier, msg_start, len(result))\n",
      "/Users/Slaton/miniforge3/envs/tf_macos/lib/python3.8/site-packages/sklearn/metrics/_classification.py:1248: UndefinedMetricWarning: Precision is ill-defined and being set to 0.0 in labels with no predicted samples. Use `zero_division` parameter to control this behavior.\n",
      "  _warn_prf(average, modifier, msg_start, len(result))\n"
     ]
    }
   ],
   "source": [
    "test_acc = []\n",
    "test_f1 = []\n",
    "test_prec = []\n",
    "test_rec = []\n",
    "prediction = []\n",
    "truth = []\n",
    "model_idx = 1\n",
    "real_index_zone = [1,2,4,5]\n",
    "date_to_test = test_date[:10]\n",
    "for i,date in enumerate(date_to_test):\n",
    "    #print(f'-----{test_date[i]}-----')\n",
    "    date_acc, date_f1, date_prec, date_rec, conf_mat, true, pred = ModelPredictionClass(trainXMFW.best_models[model_idx], test_date[i], testloader[model_idx])\n",
    "    conf_mat = pd.DataFrame(conf_mat)\n",
    "    test_acc.append(date_acc)\n",
    "    test_f1.append(date_f1)\n",
    "    test_prec.append(date_prec)\n",
    "    test_rec.append(date_rec)\n",
    "    #print(len(true))\n",
    "    truth.append(true)\n",
    "    prediction.append(pred)"
   ]
  },
  {
   "cell_type": "code",
   "execution_count": 369,
   "id": "d4d4cee8",
   "metadata": {
    "ExecuteTime": {
     "end_time": "2021-09-16T18:29:00.928200Z",
     "start_time": "2021-09-16T18:29:00.920056Z"
    }
   },
   "outputs": [],
   "source": [
    "scorepd = pd.DataFrame({\"Test Acc\": test_acc, \n",
    "                        \"Test F1\": test_f1, \n",
    "                        \"Test Precision\":test_prec, \n",
    "                        \"Test Recall\":test_rec})\n",
    "\n",
    "#real_val = resample_data[f'Floor7Z{real_index_zone[model_idx]}'].loc[resample_data[f'Floor7Z{real_index_zone[model_idx]}'].apply(lambda x: x.date in date_to_test, axis=1)]\n",
    "resultpd = pd.DataFrame({\"Prediction\": np.asarray(prediction).flatten(),\n",
    "                         \"Truth\": np.asarray(truth).flatten()})\n",
    "                        #\"RealValue\":get_real_dataset(date_to_test,model_idx)})"
   ]
  },
  {
   "cell_type": "code",
   "execution_count": 370,
   "id": "9676f009",
   "metadata": {
    "ExecuteTime": {
     "end_time": "2021-09-16T18:29:01.663805Z",
     "start_time": "2021-09-16T18:29:01.651706Z"
    }
   },
   "outputs": [
    {
     "data": {
      "text/html": [
       "<div>\n",
       "<style scoped>\n",
       "    .dataframe tbody tr th:only-of-type {\n",
       "        vertical-align: middle;\n",
       "    }\n",
       "\n",
       "    .dataframe tbody tr th {\n",
       "        vertical-align: top;\n",
       "    }\n",
       "\n",
       "    .dataframe thead th {\n",
       "        text-align: right;\n",
       "    }\n",
       "</style>\n",
       "<table border=\"1\" class=\"dataframe\">\n",
       "  <thead>\n",
       "    <tr style=\"text-align: right;\">\n",
       "      <th></th>\n",
       "      <th>Test Acc</th>\n",
       "      <th>Test F1</th>\n",
       "      <th>Test Precision</th>\n",
       "      <th>Test Recall</th>\n",
       "    </tr>\n",
       "  </thead>\n",
       "  <tbody>\n",
       "    <tr>\n",
       "      <th>0</th>\n",
       "      <td>0.515625</td>\n",
       "      <td>0.457958</td>\n",
       "      <td>0.440879</td>\n",
       "      <td>0.515625</td>\n",
       "    </tr>\n",
       "    <tr>\n",
       "      <th>1</th>\n",
       "      <td>0.515625</td>\n",
       "      <td>0.410227</td>\n",
       "      <td>0.359980</td>\n",
       "      <td>0.515625</td>\n",
       "    </tr>\n",
       "    <tr>\n",
       "      <th>2</th>\n",
       "      <td>0.539062</td>\n",
       "      <td>0.441898</td>\n",
       "      <td>0.388093</td>\n",
       "      <td>0.539062</td>\n",
       "    </tr>\n",
       "    <tr>\n",
       "      <th>3</th>\n",
       "      <td>0.421875</td>\n",
       "      <td>0.333315</td>\n",
       "      <td>0.303955</td>\n",
       "      <td>0.421875</td>\n",
       "    </tr>\n",
       "    <tr>\n",
       "      <th>4</th>\n",
       "      <td>0.468750</td>\n",
       "      <td>0.393562</td>\n",
       "      <td>0.365986</td>\n",
       "      <td>0.468750</td>\n",
       "    </tr>\n",
       "    <tr>\n",
       "      <th>5</th>\n",
       "      <td>0.554688</td>\n",
       "      <td>0.480219</td>\n",
       "      <td>0.443576</td>\n",
       "      <td>0.554688</td>\n",
       "    </tr>\n",
       "    <tr>\n",
       "      <th>6</th>\n",
       "      <td>0.492188</td>\n",
       "      <td>0.397406</td>\n",
       "      <td>0.364001</td>\n",
       "      <td>0.492188</td>\n",
       "    </tr>\n",
       "    <tr>\n",
       "      <th>7</th>\n",
       "      <td>0.468750</td>\n",
       "      <td>0.366473</td>\n",
       "      <td>0.319505</td>\n",
       "      <td>0.468750</td>\n",
       "    </tr>\n",
       "    <tr>\n",
       "      <th>8</th>\n",
       "      <td>0.476562</td>\n",
       "      <td>0.387866</td>\n",
       "      <td>0.357716</td>\n",
       "      <td>0.476562</td>\n",
       "    </tr>\n",
       "    <tr>\n",
       "      <th>9</th>\n",
       "      <td>0.054688</td>\n",
       "      <td>0.005671</td>\n",
       "      <td>0.002991</td>\n",
       "      <td>0.054688</td>\n",
       "    </tr>\n",
       "  </tbody>\n",
       "</table>\n",
       "</div>"
      ],
      "text/plain": [
       "   Test Acc   Test F1  Test Precision  Test Recall\n",
       "0  0.515625  0.457958        0.440879     0.515625\n",
       "1  0.515625  0.410227        0.359980     0.515625\n",
       "2  0.539062  0.441898        0.388093     0.539062\n",
       "3  0.421875  0.333315        0.303955     0.421875\n",
       "4  0.468750  0.393562        0.365986     0.468750\n",
       "5  0.554688  0.480219        0.443576     0.554688\n",
       "6  0.492188  0.397406        0.364001     0.492188\n",
       "7  0.468750  0.366473        0.319505     0.468750\n",
       "8  0.476562  0.387866        0.357716     0.476562\n",
       "9  0.054688  0.005671        0.002991     0.054688"
      ]
     },
     "execution_count": 370,
     "metadata": {},
     "output_type": "execute_result"
    }
   ],
   "source": [
    "scorepd"
   ]
  },
  {
   "cell_type": "code",
   "execution_count": 371,
   "id": "80e6128c",
   "metadata": {
    "ExecuteTime": {
     "end_time": "2021-09-16T18:29:06.257966Z",
     "start_time": "2021-09-16T18:29:06.253383Z"
    }
   },
   "outputs": [
    {
     "data": {
      "text/plain": [
       "Counter({0: 364, 1: 416, 2: 500})"
      ]
     },
     "execution_count": 371,
     "metadata": {},
     "output_type": "execute_result"
    }
   ],
   "source": [
    "Counter(resultpd[\"Truth\"])"
   ]
  },
  {
   "cell_type": "code",
   "execution_count": 372,
   "id": "e100f717",
   "metadata": {
    "ExecuteTime": {
     "end_time": "2021-09-16T18:29:06.694885Z",
     "start_time": "2021-09-16T18:29:06.689742Z"
    }
   },
   "outputs": [
    {
     "data": {
      "text/plain": [
       "Counter({2: 601, 1: 679})"
      ]
     },
     "execution_count": 372,
     "metadata": {},
     "output_type": "execute_result"
    }
   ],
   "source": [
    "Counter(resultpd[\"Prediction\"])"
   ]
  },
  {
   "cell_type": "code",
   "execution_count": 161,
   "id": "b4f2789e",
   "metadata": {
    "ExecuteTime": {
     "end_time": "2021-09-16T16:26:31.456552Z",
     "start_time": "2021-09-16T16:26:31.336066Z"
    }
   },
   "outputs": [
    {
     "data": {
      "text/plain": [
       "<AxesSubplot:>"
      ]
     },
     "execution_count": 161,
     "metadata": {},
     "output_type": "execute_result"
    },
    {
     "data": {
      "image/png": "[encoded data removed]",
      "text/plain": [
       "<Figure size 1080x360 with 1 Axes>"
      ]
     },
     "metadata": {},
     "output_type": "display_data"
    }
   ],
   "source": [
    "resultpd.plot(figsize=(15,5))"
   ]
  },
  {
   "cell_type": "code",
   "execution_count": 162,
   "id": "63439192",
   "metadata": {
    "ExecuteTime": {
     "end_time": "2021-09-16T16:26:37.460145Z",
     "start_time": "2021-09-16T16:26:37.364412Z"
    }
   },
   "outputs": [
    {
     "data": {
      "text/plain": [
       "<AxesSubplot:>"
      ]
     },
     "execution_count": 162,
     "metadata": {},
     "output_type": "execute_result"
    },
    {
     "data": {
      "image/png": "[encoded data removed]",
      "text/plain": [
       "<Figure size 432x288 with 1 Axes>"
      ]
     },
     "metadata": {},
     "output_type": "display_data"
    }
   ],
   "source": [
    "resultpd[\"Prediction\"].plot()"
   ]
  },
  {
   "cell_type": "code",
   "execution_count": 269,
   "id": "e13e54ca",
   "metadata": {
    "ExecuteTime": {
     "end_time": "2021-09-15T14:16:37.744545Z",
     "start_time": "2021-09-15T14:16:37.735291Z"
    }
   },
   "outputs": [],
   "source": [
    "hehe = resample_with_classes[\"Floor4Z5\"].loc[resample_with_classes['Floor4Z5'].date == test_date[0]][\"Spike\"].values"
   ]
  },
  {
   "cell_type": "code",
   "execution_count": 99,
   "id": "1872bf39",
   "metadata": {
    "ExecuteTime": {
     "end_time": "2021-09-15T17:59:16.323941Z",
     "start_time": "2021-09-15T17:59:16.232858Z"
    }
   },
   "outputs": [
    {
     "data": {
      "text/plain": [
       "[<matplotlib.lines.Line2D at 0x16cd878e0>]"
      ]
     },
     "execution_count": 99,
     "metadata": {},
     "output_type": "execute_result"
    },
    {
     "data": {
      "image/png": "[encoded data removed]",
      "text/plain": [
       "<Figure size 432x288 with 1 Axes>"
      ]
     },
     "metadata": {},
     "output_type": "display_data"
    }
   ],
   "source": [
    "plt.plot(true)"
   ]
  },
  {
   "cell_type": "code",
   "execution_count": 98,
   "id": "6372482e",
   "metadata": {
    "ExecuteTime": {
     "end_time": "2021-09-15T17:59:15.021227Z",
     "start_time": "2021-09-15T17:59:14.929329Z"
    }
   },
   "outputs": [
    {
     "data": {
      "text/plain": [
       "[<matplotlib.lines.Line2D at 0x16b5f5d30>]"
      ]
     },
     "execution_count": 98,
     "metadata": {},
     "output_type": "execute_result"
    },
    {
     "data": {
      "image/png": "[encoded data removed]",
      "text/plain": [
       "<Figure size 432x288 with 1 Axes>"
      ]
     },
     "metadata": {},
     "output_type": "display_data"
    }
   ],
   "source": [
    "#plt.plot(hehe)\n",
    "plt.plot(pred)\n",
    "#plt.plot(true)"
   ]
  },
  {
   "cell_type": "code",
   "execution_count": 97,
   "id": "6b1ae30a",
   "metadata": {
    "ExecuteTime": {
     "end_time": "2021-09-15T17:59:13.001568Z",
     "start_time": "2021-09-15T17:59:12.976381Z"
    }
   },
   "outputs": [],
   "source": [
    "true, pred = ModelPrediction(trainXMFW.best_models[0],test_date[0],testloader[0],1)"
   ]
  },
  {
   "cell_type": "code",
   "execution_count": 164,
   "id": "679229b5",
   "metadata": {
    "ExecuteTime": {
     "end_time": "2021-09-16T16:27:09.195426Z",
     "start_time": "2021-09-16T16:27:09.192783Z"
    }
   },
   "outputs": [],
   "source": [
    "from scipy.signal import find_peaks, find_peaks_cwt"
   ]
  },
  {
   "cell_type": "code",
   "execution_count": 165,
   "id": "78947275",
   "metadata": {
    "ExecuteTime": {
     "end_time": "2021-09-16T16:27:09.402721Z",
     "start_time": "2021-09-16T16:27:09.399776Z"
    }
   },
   "outputs": [],
   "source": [
    "peaks,_= find_peaks(resultpd[\"Prediction\"])#, widths=np.ones(resultpd[\"Prediction\"].shape[0])*2)-1"
   ]
  },
  {
   "cell_type": "code",
   "execution_count": 166,
   "id": "a75b0e82",
   "metadata": {
    "ExecuteTime": {
     "end_time": "2021-09-16T16:27:11.205507Z",
     "start_time": "2021-09-16T16:27:11.202609Z"
    }
   },
   "outputs": [],
   "source": [
    "peakstruth,_ = find_peaks(resultpd[\"Truth\"])#,widths=np.ones(resultpd[\"Prediction\"].shape[0])*2)-1"
   ]
  },
  {
   "cell_type": "code",
   "execution_count": 441,
   "id": "5bb0e091",
   "metadata": {
    "ExecuteTime": {
     "end_time": "2021-09-15T15:18:34.232143Z",
     "start_time": "2021-09-15T15:18:34.225153Z"
    }
   },
   "outputs": [
    {
     "data": {
      "text/plain": [
       "{1, 1277}"
      ]
     },
     "execution_count": 441,
     "metadata": {},
     "output_type": "execute_result"
    }
   ],
   "source": []
  },
  {
   "cell_type": "code",
   "execution_count": 492,
   "id": "2aa6b3e0",
   "metadata": {
    "ExecuteTime": {
     "end_time": "2021-09-15T15:40:17.975045Z",
     "start_time": "2021-09-15T15:40:17.884620Z"
    }
   },
   "outputs": [
    {
     "data": {
      "text/plain": [
       "[<matplotlib.lines.Line2D at 0x16744d100>]"
      ]
     },
     "execution_count": 492,
     "metadata": {},
     "output_type": "execute_result"
    },
    {
     "data": {
      "image/png": "[encoded data removed]",
      "text/plain": [
       "<Figure size 432x288 with 1 Axes>"
      ]
     },
     "metadata": {},
     "output_type": "display_data"
    }
   ],
   "source": [
    "plt.plot(peaks, resultpd[\"Prediction\"][peaks],\"x\")\n",
    "plt.plot(peakstruth, resultpd[\"Truth\"][peakstruth],\"x\")"
   ]
  },
  {
   "cell_type": "code",
   "execution_count": 447,
   "id": "0d2d7a1a",
   "metadata": {
    "ExecuteTime": {
     "end_time": "2021-09-15T15:20:28.730104Z",
     "start_time": "2021-09-15T15:20:28.725920Z"
    }
   },
   "outputs": [
    {
     "data": {
      "text/plain": [
       "(array([   1,   60,  126,  188,  255,  316,  383,  444,  510,  572,  640,\n",
       "         700,  767,  828,  894,  956, 1023, 1084, 1153, 1181, 1213, 1229,\n",
       "        1233, 1242, 1253, 1261, 1277]),\n",
       " array([   1,   42,   53,   63,  100,  110,  129,  157,  166,  191,  225,\n",
       "         257,  283,  299,  319,  335,  345,  355,  385,  405,  447,  461,\n",
       "         470,  513,  530,  554,  576,  590,  600,  641,  682,  693,  703,\n",
       "         734,  769,  810,  831,  861,  897,  922,  933,  959,  977,  988,\n",
       "        1025, 1046, 1057, 1066, 1087, 1102, 1114, 1277]))"
      ]
     },
     "execution_count": 447,
     "metadata": {},
     "output_type": "execute_result"
    }
   ],
   "source": [
    "peaks, peakstruth"
   ]
  },
  {
   "cell_type": "code",
   "execution_count": 168,
   "id": "70f67561",
   "metadata": {
    "ExecuteTime": {
     "end_time": "2021-09-16T16:27:27.572293Z",
     "start_time": "2021-09-16T16:27:27.472213Z"
    }
   },
   "outputs": [
    {
     "data": {
      "image/png": "[encoded data removed]",
      "text/plain": [
       "<Figure size 1080x360 with 1 Axes>"
      ]
     },
     "metadata": {},
     "output_type": "display_data"
    }
   ],
   "source": [
    "plt.figure(figsize=(15,5))\n",
    "plt.plot(resultpd[\"Prediction\"])\n",
    "plt.plot(peakstruth, resultpd[\"Truth\"][peakstruth],\"x\")\n",
    "plt.plot(peaks, resultpd[\"Prediction\"][peaks],\"x\")\n",
    "plt.show()"
   ]
  },
  {
   "cell_type": "code",
   "execution_count": 417,
   "id": "b7c9f7c2",
   "metadata": {
    "ExecuteTime": {
     "end_time": "2021-09-15T15:09:17.638945Z",
     "start_time": "2021-09-15T15:09:17.635041Z"
    }
   },
   "outputs": [],
   "source": [
    "pred = pd.DataFrame(resultpd[\"Truth\"])\n"
   ]
  },
  {
   "cell_type": "code",
   "execution_count": 418,
   "id": "65f578a6",
   "metadata": {
    "ExecuteTime": {
     "end_time": "2021-09-15T15:09:18.889345Z",
     "start_time": "2021-09-15T15:09:18.883805Z"
    }
   },
   "outputs": [],
   "source": [
    "mini = pred[(pred.shift(5)>pred) & (pred.shift(-5)>pred)].fillna(0)"
   ]
  },
  {
   "cell_type": "code",
   "execution_count": 412,
   "id": "76948e99",
   "metadata": {
    "ExecuteTime": {
     "end_time": "2021-09-15T15:08:25.005827Z",
     "start_time": "2021-09-15T15:08:25.000496Z"
    }
   },
   "outputs": [],
   "source": [
    "mini = pred[(pred.shift(2)<pred) & (pred.shift(-2)<pred)].fillna(0)"
   ]
  },
  {
   "cell_type": "code",
   "execution_count": null,
   "id": "992ea075",
   "metadata": {},
   "outputs": [],
   "source": []
  },
  {
   "cell_type": "code",
   "execution_count": 413,
   "id": "9a5f4c82",
   "metadata": {
    "ExecuteTime": {
     "end_time": "2021-09-15T15:08:25.486128Z",
     "start_time": "2021-09-15T15:08:25.482167Z"
    }
   },
   "outputs": [
    {
     "data": {
      "text/plain": [
       "(1280, 1)"
      ]
     },
     "execution_count": 413,
     "metadata": {},
     "output_type": "execute_result"
    }
   ],
   "source": [
    "mini.shape"
   ]
  },
  {
   "cell_type": "code",
   "execution_count": 420,
   "id": "a5544739",
   "metadata": {
    "ExecuteTime": {
     "end_time": "2021-09-15T15:09:27.767008Z",
     "start_time": "2021-09-15T15:09:27.762484Z"
    }
   },
   "outputs": [
    {
     "data": {
      "text/plain": [
       "Counter({0.0: 1139, 0.09090909361839294: 139, 0.1818181872367859: 2})"
      ]
     },
     "execution_count": 420,
     "metadata": {},
     "output_type": "execute_result"
    }
   ],
   "source": [
    "Counter(mini[\"Truth\"])"
   ]
  },
  {
   "cell_type": "code",
   "execution_count": 416,
   "id": "7fded51d",
   "metadata": {
    "ExecuteTime": {
     "end_time": "2021-09-15T15:08:56.523082Z",
     "start_time": "2021-09-15T15:08:56.517393Z"
    }
   },
   "outputs": [
    {
     "data": {
      "text/plain": [
       "0       0.363636\n",
       "1       0.363636\n",
       "2       0.363636\n",
       "3       0.363636\n",
       "4       0.181818\n",
       "          ...   \n",
       "1275    0.181818\n",
       "1276    0.181818\n",
       "1277    0.181818\n",
       "1278    0.181818\n",
       "1279    0.181818\n",
       "Name: Truth, Length: 1280, dtype: float32"
      ]
     },
     "execution_count": 416,
     "metadata": {},
     "output_type": "execute_result"
    }
   ],
   "source": [
    "resultpd[\"Truth\"]"
   ]
  },
  {
   "cell_type": "code",
   "execution_count": 390,
   "id": "1d376560",
   "metadata": {
    "ExecuteTime": {
     "end_time": "2021-09-15T15:00:47.028340Z",
     "start_time": "2021-09-15T15:00:47.023914Z"
    }
   },
   "outputs": [
    {
     "data": {
      "text/plain": [
       "0.24113974"
      ]
     },
     "execution_count": 390,
     "metadata": {},
     "output_type": "execute_result"
    }
   ],
   "source": []
  },
  {
   "cell_type": "code",
   "execution_count": null,
   "id": "14fb9e35",
   "metadata": {},
   "outputs": [],
   "source": []
  }
 ],
 "metadata": {
  "kernelspec": {
   "display_name": "Python 3 (ipykernel)",
   "language": "python",
   "name": "python3"
  },
  "language_info": {
   "codemirror_mode": {
    "name": "ipython",
    "version": 3
   },
   "file_extension": ".py",
   "mimetype": "text/x-python",
   "name": "python",
   "nbconvert_exporter": "python",
   "pygments_lexer": "ipython3",
   "version": "3.8.10"
  },
  "toc": {
   "base_numbering": 1,
   "nav_menu": {},
   "number_sections": true,
   "sideBar": true,
   "skip_h1_title": false,
   "title_cell": "Table of Contents",
   "title_sidebar": "Contents",
   "toc_cell": false,
   "toc_position": {},
   "toc_section_display": true,
   "toc_window_display": false
  }
 },
 "nbformat": 4,
 "nbformat_minor": 5
}
