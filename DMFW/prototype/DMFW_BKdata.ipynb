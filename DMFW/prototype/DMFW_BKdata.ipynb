{
 "cells": [
  {
   "cell_type": "code",
   "execution_count": 1,
   "metadata": {
    "ExecuteTime": {
     "end_time": "2021-08-27T11:30:47.804952Z",
     "start_time": "2021-08-27T11:30:46.774598Z"
    }
   },
   "outputs": [],
   "source": [
    "import pandas as pd\n",
    "import numpy as np\n",
    "import dill\n",
    "import torch.nn as nn\n",
    "import torch\n",
    "import seaborn as sns; sns.set()\n",
    "import matplotlib.pyplot as plt\n",
    "import os\n",
    "import Graphs\n",
    "import networkx as nx\n",
    "import torch.optim as optim\n",
    "import random\n",
    "import copy\n",
    "from collections import defaultdict\n",
    "from torch.utils.data import TensorDataset, DataLoader\n",
    "from torch.optim.optimizer import required\n",
    "from torchinfo import summary\n",
    "from sklearn.preprocessing import MinMaxScaler, StandardScaler\n",
    "from statsmodels.graphics.tsaplots import plot_acf"
   ]
  },
  {
   "cell_type": "code",
   "execution_count": 2,
   "metadata": {
    "ExecuteTime": {
     "end_time": "2021-08-27T11:30:47.807378Z",
     "start_time": "2021-08-27T11:30:47.805843Z"
    }
   },
   "outputs": [],
   "source": [
    "bkdatafolder = \"/Users/Slaton/Documents/DMFW/BangkokDataAnalysis/gitdecenlearn/BKDataCleaned/\"\n",
    "dataset_name = os.listdir(bkdatafolder)"
   ]
  },
  {
   "cell_type": "code",
   "execution_count": 3,
   "metadata": {
    "ExecuteTime": {
     "end_time": "2021-08-27T11:30:47.815964Z",
     "start_time": "2021-08-27T11:30:47.807962Z"
    },
    "code_folding": [
     68
    ]
   },
   "outputs": [],
   "source": [
    "def createDictFloor(floor_name):\n",
    "    getdict = {}\n",
    "    floors = [floor for floor in dataset_name if floor_name in floor]\n",
    "    for name in floors:\n",
    "        floorname = name.split(\".\")[0]\n",
    "        getdict[floorname] = pd.read_csv(bkdatafolder+name, index_col=0, parse_dates=[\"Date\"])\n",
    "        getdict[floorname] = getdict[floorname].sort_index()\n",
    "    return getdict\n",
    "\n",
    "def Missing_values(data):\n",
    "    total = data.isnull().sum().sort_values(ascending=False)\n",
    "    percent = (data.isnull().sum()/data.isnull().count()).sort_values(ascending=False)\n",
    "    missing_data = pd.concat([total,percent], axis=1, keys=['Total', 'Pourcentage'])\n",
    "    print (missing_data[(percent>0)],'\\n' )\n",
    "\n",
    "def seed_everything(seed=0):\n",
    "    random.seed(seed)\n",
    "    os.environ['PYTHONHASHSEED'] = str(seed)\n",
    "    np.random.seed(seed)\n",
    "    torch.manual_seed(seed)\n",
    "    torch.cuda.manual_seed(seed)\n",
    "    torch.backends.cudnn.deterministic = True\n",
    "    \n",
    "def createPlot(date1, date2, features, data):\n",
    "    for floor in data.keys():\n",
    "        data[floor].resample(\"5T\").mean()[features][date1:date2].plot(figsize=(20,7))\n",
    "        \n",
    "\n",
    "def createDTFeat(date1, date2, datadict, features, resample_method=\"sum\" ,scale=True):\n",
    "    resample_move = {}\n",
    "    index_nan = {}\n",
    "    index_small = {}\n",
    "    floors = list(datadict.keys())\n",
    "    dates = []\n",
    "    scalers = {}\n",
    "    for data in datadict.keys():\n",
    "        if resample_method == \"sum\":\n",
    "            resample_move[data] = floor_dict[data][date1:date2].resample(\n",
    "                \"5min\").sum()\n",
    "            \n",
    "        elif resample_method == \"max\":\n",
    "            resample_move[data] = floor_dict[data][date1:date2].resample(\n",
    "                \"5min\").max().bfill()\n",
    "        elif resample_method == \"mean\":\n",
    "            resample_move[data] = floor_dict[data][date1:date2].resample(\n",
    "                \"5min\").mean().bfill()\n",
    "            \n",
    "        cols = resample_move[data].columns\n",
    "        idx = resample_move[data].index\n",
    "\n",
    "        if scale:\n",
    "            \n",
    "            scaler = MinMaxScaler(feature_range=(0.2,1))\n",
    "            scaler.fit(resample_move[data])\n",
    "            resample_move[data] = pd.DataFrame(scaler.transform(\n",
    "                resample_move[data]),columns=cols,index=idx)\n",
    "            \n",
    "            scalers[data] = scaler\n",
    "\n",
    "        resample_move[data][\"weekday\"] = resample_move[data].index.day_name()\n",
    "        resample_move[data][\"date\"] = resample_move[data].index.date\n",
    "        resample_move[data][\"time\"] = resample_move[data].index.time\n",
    "\n",
    "        nan = np.where(pd.isnull(resample_move[data][features]))[0]\n",
    "        index_nan[data] = np.unique(resample_move[data].iloc[nan][\"time\"])\n",
    "\n",
    "    return resample_move, scalers, index_nan\n",
    "\n",
    "def getInfoTimeShape(datadict):\n",
    "    for floor in datadict.keys():\n",
    "        data = datadict[floor]\n",
    "        print(\"Floor : {} , shape :{} , TimeMin {} , TimeMax {}\".format(floor,data.shape, data.index.min(), data.index.max()))\n",
    "        Missing_values(data)\n",
    "        \n",
    "def cleanNan(data,idx_nan):\n",
    "    index=[]\n",
    "    for k,v in idx_nan.items():\n",
    "        for ele in v:\n",
    "            index.append(ele)\n",
    "    mynan = set(index)\n",
    "    newdata = data.copy()\n",
    "    remain_date = []\n",
    "    for floor in idx_nan.keys():\n",
    "        datafloor = data[floor]\n",
    "        todropnan = datafloor[datafloor[\"date\"].isin(list(mynan))].index\n",
    "        datafloor = datafloor.drop(todropnan)\n",
    "        newdata[floor] = datafloor\n",
    "        for date in datafloor[\"date\"]:\n",
    "            remain_date.append(str(date))\n",
    "    remain_date = sorted(set(remain_date))\n",
    "    return data, remain_date"
   ]
  },
  {
   "cell_type": "code",
   "execution_count": 4,
   "metadata": {
    "ExecuteTime": {
     "end_time": "2021-08-27T11:30:48.795796Z",
     "start_time": "2021-08-27T11:30:47.817033Z"
    }
   },
   "outputs": [
    {
     "name": "stdout",
     "output_type": "stream",
     "text": [
      "Floor7Z4 Start: 2019-03-06 14:46:00 End: 2019-12-31 23:59:00 Count:416243\n",
      "\n",
      "Floor7Z5 Start: 2019-03-06 14:55:00 End: 2019-12-31 23:59:00 Count:407698\n",
      "\n",
      "Floor7Z2 Start: 2019-03-06 14:48:00 End: 2019-12-31 23:59:00 Count:424701\n",
      "\n",
      "Floor7Z1 Start: 2019-03-06 14:50:00 End: 2019-12-31 23:59:00 Count:424099\n",
      "\n"
     ]
    }
   ],
   "source": [
    "date1 = \"2019-03-07\"\n",
    "date2 = \"2019-12-31\"\n",
    "floor = 7\n",
    "floor_dict = createDictFloor(f\"Floor{floor}\")\n",
    "for data in floor_dict.keys():\n",
    "    zone = floor_dict[data]\n",
    "    print(\"{} Start: {} End: {} Count:{}\".format(data,zone.index.min(),zone.index.max(), zone.shape[0]))\n",
    "    print(\"\")"
   ]
  },
  {
   "cell_type": "code",
   "execution_count": 5,
   "metadata": {
    "ExecuteTime": {
     "end_time": "2021-08-27T11:30:49.208335Z",
     "start_time": "2021-08-27T11:30:48.796787Z"
    }
   },
   "outputs": [],
   "source": [
    "feature = \"temperature\"\n",
    "resample_method = \"max\"\n",
    "resample,scalers, index_nan = createDTFeat(date1, date2, floor_dict, feature,resample_method=resample_method)\n",
    "cleanedData, remain_date = cleanNan(resample, index_nan)"
   ]
  },
  {
   "cell_type": "code",
   "execution_count": 6,
   "metadata": {
    "ExecuteTime": {
     "end_time": "2021-08-27T11:30:49.293579Z",
     "start_time": "2021-08-27T11:30:49.209288Z"
    }
   },
   "outputs": [
    {
     "name": "stdout",
     "output_type": "stream",
     "text": [
      "Floor : Floor7Z4 , shape :(86400, 9) , TimeMin 2019-03-07 00:00:00 , TimeMax 2019-12-31 23:55:00\n",
      "Empty DataFrame\n",
      "Columns: [Total, Pourcentage]\n",
      "Index: [] \n",
      "\n",
      "Floor : Floor7Z5 , shape :(86400, 9) , TimeMin 2019-03-07 00:00:00 , TimeMax 2019-12-31 23:55:00\n",
      "Empty DataFrame\n",
      "Columns: [Total, Pourcentage]\n",
      "Index: [] \n",
      "\n",
      "Floor : Floor7Z2 , shape :(86400, 9) , TimeMin 2019-03-07 00:00:00 , TimeMax 2019-12-31 23:55:00\n",
      "Empty DataFrame\n",
      "Columns: [Total, Pourcentage]\n",
      "Index: [] \n",
      "\n",
      "Floor : Floor7Z1 , shape :(86400, 9) , TimeMin 2019-03-07 00:00:00 , TimeMax 2019-12-31 23:55:00\n",
      "Empty DataFrame\n",
      "Columns: [Total, Pourcentage]\n",
      "Index: [] \n",
      "\n"
     ]
    }
   ],
   "source": [
    "getInfoTimeShape(cleanedData)"
   ]
  },
  {
   "cell_type": "markdown",
   "metadata": {},
   "source": [
    "# Create Slice"
   ]
  },
  {
   "cell_type": "code",
   "execution_count": 7,
   "metadata": {
    "ExecuteTime": {
     "end_time": "2021-08-27T11:30:49.467511Z",
     "start_time": "2021-08-27T11:30:49.458145Z"
    }
   },
   "outputs": [],
   "source": [
    "def rolling_window(series, window_size):\n",
    "    return np.array([series[i : (i + window_size)] for i in range(0, series.shape[0] - window_size + 1)])\n",
    "\n",
    "def to_timeseries_input(series, lookback, predictions):\n",
    "    inputs = rolling_window(series[:-predictions], lookback)\n",
    "    outputs = rolling_window(series[lookback:], predictions)\n",
    "    return inputs, outputs\n",
    "\n",
    "def createDataByDate(datadict, features, dates):\n",
    "    databyDate = defaultdict(lambda : defaultdict(dict))\n",
    "    for date in dates:\n",
    "        for floor in datadict.keys():\n",
    "            databyDate[date][floor] = np.asarray(datadict[floor][date][features])\n",
    "    return databyDate\n",
    "\n",
    "def splitDate(dates,cutoff):\n",
    "    train_date = [x for x in dates if x <= cutoff]\n",
    "    test_date = sorted(list(set(dates) - set(train_date)))\n",
    "    return train_date, test_date\n",
    "\n",
    "def getInfoDataByDate(data, dates):\n",
    "    for date in dates:\n",
    "        print(\"Date : {}\".format(date))\n",
    "        for floor in data[date]:\n",
    "            print(\"{} shape : {}\".format(floor,data[date][floor].shape))\n",
    "            \n",
    "def LoaderByZone(data,zone_name,dates, lookback, lookahead, batch_size, shuffle=False, noise=False):\n",
    "    loaderZ = {}\n",
    "    for i,date in enumerate(dates):\n",
    "        haruharu = data[date][zone_name]\n",
    "        trainx, trainy = to_timeseries_input(haruharu, lookback, lookahead)\n",
    "        xshape = torch.tensor(trainx, dtype=torch.float).unsqueeze(-1)\n",
    "        if noise:\n",
    "            xshape = xshape + torch.randn_like(xshape)*(0.01**0.5) ####### Noisy Pattern ######\n",
    "        yshape = torch.tensor(trainy, dtype=torch.float)\n",
    "        tensorwrap = TensorDataset(xshape,yshape)\n",
    "        loaderxy = DataLoader(tensorwrap,batch_size = batch_size, shuffle=shuffle, drop_last=True)\n",
    "        loaderZ[date] = loaderxy\n",
    "    return loaderZ"
   ]
  },
  {
   "cell_type": "code",
   "execution_count": 8,
   "metadata": {
    "ExecuteTime": {
     "end_time": "2021-08-27T11:30:49.664942Z",
     "start_time": "2021-08-27T11:30:49.661149Z"
    }
   },
   "outputs": [],
   "source": [
    "#torch.randn(10)*(0.01**0.5)"
   ]
  },
  {
   "cell_type": "code",
   "execution_count": 9,
   "metadata": {
    "ExecuteTime": {
     "end_time": "2021-08-27T11:30:50.027749Z",
     "start_time": "2021-08-27T11:30:49.925737Z"
    }
   },
   "outputs": [
    {
     "name": "stdout",
     "output_type": "stream",
     "text": [
      "Floor7Z4 Start: 2019-03-07 00:00:00 End: 2019-12-31 23:55:00 Count:86400\n",
      "Floor7Z4 Dates: 300\n",
      "Floor7Z5 Start: 2019-03-07 00:00:00 End: 2019-12-31 23:55:00 Count:86400\n",
      "Floor7Z5 Dates: 300\n",
      "Floor7Z2 Start: 2019-03-07 00:00:00 End: 2019-12-31 23:55:00 Count:86400\n",
      "Floor7Z2 Dates: 300\n",
      "Floor7Z1 Start: 2019-03-07 00:00:00 End: 2019-12-31 23:55:00 Count:86400\n",
      "Floor7Z1 Dates: 300\n"
     ]
    }
   ],
   "source": [
    "for data in cleanedData.keys():\n",
    "    zone = cleanedData[data]\n",
    "    print(\"{} Start: {} End: {} Count:{}\".format(data,zone.index.min(),zone.index.max(), zone.shape[0]))\n",
    "    print(\"{} Dates: {}\".format(data,len(np.unique(zone[\"date\"]))))"
   ]
  },
  {
   "cell_type": "code",
   "execution_count": 10,
   "metadata": {
    "ExecuteTime": {
     "end_time": "2021-08-27T11:30:51.385835Z",
     "start_time": "2021-08-27T11:30:51.099215Z"
    }
   },
   "outputs": [
    {
     "name": "stderr",
     "output_type": "stream",
     "text": [
      "/var/folders/wm/ymsmhgr90dd6gyprvtgvcr080000gn/T/ipykernel_1724/1771139619.py:13: FutureWarning: Indexing a DataFrame with a datetimelike index using a single string to slice the rows, like `frame[string]`, is deprecated and will be removed in a future version. Use `frame.loc[string]` instead.\n",
      "  databyDate[date][floor] = np.asarray(datadict[floor][date][features])\n"
     ]
    }
   ],
   "source": [
    "cutting_date = \"2019-05-08\"\n",
    "train_date, test_date = splitDate(remain_date, cutting_date)\n",
    "databyDate = createDataByDate(cleanedData, feature, remain_date)\n",
    "#getInfoDataByDate(databyDate, train_date)"
   ]
  },
  {
   "cell_type": "code",
   "execution_count": 11,
   "metadata": {
    "ExecuteTime": {
     "end_time": "2021-08-27T11:30:51.388467Z",
     "start_time": "2021-08-27T11:30:51.386789Z"
    }
   },
   "outputs": [],
   "source": [
    "def getRatio(ratio, lookbackinit):\n",
    "    lookahead = int(ratio*lookbackinit)\n",
    "    return lookahead"
   ]
  },
  {
   "cell_type": "code",
   "execution_count": 12,
   "metadata": {
    "ExecuteTime": {
     "end_time": "2021-08-27T11:30:51.888927Z",
     "start_time": "2021-08-27T11:30:51.592910Z"
    }
   },
   "outputs": [
    {
     "name": "stdout",
     "output_type": "stream",
     "text": [
      "-----Floor7Z1-----\n",
      "-----Floor7Z2-----\n",
      "-----Floor7Z4-----\n",
      "-----Floor7Z5-----\n"
     ]
    }
   ],
   "source": [
    "lookback = 13\n",
    "lookahead = 1\n",
    "batch_size = 32\n",
    "nb_zone=5\n",
    "\n",
    "trainloader = []\n",
    "testloader = []\n",
    "for zone in range(1,nb_zone+1):\n",
    "    if zone != 3:\n",
    "        zoneID = f\"Floor{floor}Z{zone}\"\n",
    "        print(f'-----{zoneID}-----')\n",
    "        loaderZtrain = LoaderByZone(databyDate,zoneID,train_date,lookback,lookahead,batch_size, shuffle=True, noise=True)\n",
    "        loaderZtest = LoaderByZone(databyDate,zoneID,test_date,lookback, lookahead,batch_size, shuffle=False)\n",
    "        trainloader.append(loaderZtrain)\n",
    "        testloader.append(loaderZtest)\n",
    "        \n",
    "#loaderZ1train = LoaderByZone(databyDate, z1, train_date, lookback, lookahead, batch_size, shuffle=True)\n",
    "#loaderZ1test = LoaderByZone(databyDate, z1, test_date, lookback, lookahead, batch_size)\n",
    "\n",
    "#loaderZ2train = LoaderByZone(databyDate, z2, train_date, lookback, lookahead, batch_size, shuffle=True)\n",
    "#loaderZ2test = LoaderByZone(databyDate, z2, test_date, lookback, lookahead, batch_size)\n",
    "\n",
    "#loaderZ4train = LoaderByZone(databyDate, z4, train_date, lookback, lookahead, batch_size, shuffle=True)\n",
    "#loaderZ4test = LoaderByZone(databyDate, z4, test_date, lookback, lookahead, batch_size)\n",
    "\n",
    "#loaderZ5train = LoaderByZone(databyDate, z5, train_date, lookback, lookahead, batch_size, shuffle=True)\n",
    "#loaderZ5test = LoaderByZone(databyDate, z5, test_date, lookback, lookahead, batch_size)"
   ]
  },
  {
   "cell_type": "code",
   "execution_count": 13,
   "metadata": {
    "ExecuteTime": {
     "end_time": "2021-08-27T11:30:52.813414Z",
     "start_time": "2021-08-27T11:30:52.810488Z"
    }
   },
   "outputs": [],
   "source": [
    "#trainloader = [loaderZ1train, loaderZ1train, loaderZ1train, loaderZ1train]"
   ]
  },
  {
   "cell_type": "code",
   "execution_count": 14,
   "metadata": {
    "ExecuteTime": {
     "end_time": "2021-08-27T11:30:53.029464Z",
     "start_time": "2021-08-27T11:30:53.021086Z"
    }
   },
   "outputs": [
    {
     "data": {
      "text/plain": [
       "504"
      ]
     },
     "execution_count": 14,
     "metadata": {},
     "output_type": "execute_result"
    }
   ],
   "source": [
    "nb_iterations = len(train_date)*len(trainloader[0][\"2019-03-08\"])\n",
    "nb_iterations"
   ]
  },
  {
   "cell_type": "markdown",
   "metadata": {},
   "source": [
    "# Algorithm"
   ]
  },
  {
   "cell_type": "code",
   "execution_count": 15,
   "metadata": {
    "ExecuteTime": {
     "end_time": "2021-08-27T11:30:54.268823Z",
     "start_time": "2021-08-27T11:30:54.249605Z"
    },
    "code_folding": [
     0,
     14
    ]
   },
   "outputs": [],
   "source": [
    "def proj_2shape(x,s=8):\n",
    "    shape = x.shape\n",
    "    if torch.linalg.norm(x,ord=1)==s and torch.all(x>0):\n",
    "        return x\n",
    "    u,_ = torch.sort(torch.abs(x),dim=0,descending=True)\n",
    "    cumsum = torch.cumsum(u, dim=0)\n",
    "    arange = torch.arange(1, shape[0]+1)\n",
    "    rep_arange = arange.unsqueeze(1).repeat(1,shape[1])\n",
    "    rho = torch.count_nonzero((u*rep_arange > (cumsum - s)), dim=0)\n",
    "    theta = (cumsum[rho-1, torch.arange(0,shape[1])] - s)/rho\n",
    "    proj = (torch.abs(x)-theta).clamp(min=0)\n",
    "    proj*= torch.sign(x)\n",
    "    return proj\n",
    "\n",
    "def proj_l1(x, s=8):\n",
    "    shape = x.shape\n",
    "    if len(shape) == 4:\n",
    "        proj = torch.zeros_like(x)\n",
    "        for first_dim in range(x.shape[0]):\n",
    "            for second_dim in range(x.shape[1]):\n",
    "                inner_tensor = x[first_dim][second_dim]\n",
    "                inner_proj = proj_2shape(inner_tensor,s=s)\n",
    "                proj[first_dim][second_dim] = inner_proj\n",
    "                \n",
    "    elif len(shape) == 3:\n",
    "        proj = torch.zeros_like(x)\n",
    "        for first_dim in range(x.shape[0]):\n",
    "            inner_tensor = x[first_dim]\n",
    "            inner_proj = proj_2shape(inner_tensor,s=s)\n",
    "            proj[first_dim] = inner_proj\n",
    "        \n",
    "    elif len(shape) == 2:\n",
    "        proj = proj_2shape(x,s=s)\n",
    "        \n",
    "    elif len(shape) == 1:\n",
    "        u,_ = torch.sort(torch.abs(x),descending=True)\n",
    "        cumsum = torch.cumsum(u,dim=0)\n",
    "        arange = torch.arange(1,shape[0]+1)\n",
    "        rho = torch.count_nonzero((u*arange > (cumsum - s)))\n",
    "        theta = (cumsum[rho-1] - s)/rho\n",
    "        proj = (torch.abs(x)-theta).clamp(min=0)\n",
    "        proj*= torch.sign(x)\n",
    "    return proj"
   ]
  },
  {
   "cell_type": "code",
   "execution_count": 16,
   "metadata": {
    "ExecuteTime": {
     "end_time": "2021-08-27T11:30:54.440410Z",
     "start_time": "2021-08-27T11:30:54.424236Z"
    },
    "code_folding": [
     0,
     16
    ]
   },
   "outputs": [],
   "source": [
    "def simpleLMO(x,radius,p=1):\n",
    "    tolerance = 1e-10\n",
    "    if p == 1:\n",
    "        v = torch.zeros_like(x)\n",
    "        maxIdx = torch.argmax(torch.abs(x))\n",
    "        v.view(-1)[maxIdx] = -radius * torch.sign(x.view(-1)[maxIdx])\n",
    "        return v\n",
    "    elif p == 2:\n",
    "        x_norm = float(torch.norm(x, p=2))\n",
    "        if x_norm > tolerance:\n",
    "            return -radius * x.div(x_norm)\n",
    "        else:\n",
    "            return torch.zeros_like(x)\n",
    "    elif p == float('inf'):\n",
    "        return torch.full_like(x, fill_value=radius).masked_fill_(x > 0, -radius)\n",
    "\n",
    "def simpleProject(x,radius,p=1):\n",
    "    if p==1:\n",
    "        x_norm = torch.norm(x, p=1)\n",
    "        if x_norm > radius:\n",
    "            sorted_ = torch.sort(torch.abs(x.flatten()), descending=True).values\n",
    "            running_mean = (torch.cumsum(sorted_, 0) - radius)/torch.arange(1,sorted_.numel() + 1)                                                                                  \n",
    "            is_less_or_equal = sorted_ <= running_mean\n",
    "            idx = is_less_or_equal.numel() - is_less_or_equal.sum() - 1\n",
    "            return torch.sign(x) * torch.max(torch.abs(x) - running_mean[idx], torch.zeros_like(x))\n",
    "        else:\n",
    "            return x\n",
    "    elif p == 2:\n",
    "        x_norm = torch.norm(x, p=2)\n",
    "        return radius * x.div(x_norm) if x_norm > radius else x\n",
    "    elif p == float('inf'):\n",
    "        return torch.clamp(x, min=-radius, max=radius)"
   ]
  },
  {
   "cell_type": "code",
   "execution_count": 17,
   "metadata": {
    "ExecuteTime": {
     "end_time": "2021-08-27T11:30:54.606682Z",
     "start_time": "2021-08-27T11:30:54.591259Z"
    },
    "code_folding": [
     0
    ]
   },
   "outputs": [],
   "source": [
    "def lmo(x,radius):\n",
    "    \"\"\"Returns v with norm(v, self.p) <= r minimizing v*x\"\"\"\n",
    "    shape = x.shape\n",
    "    if len(shape) == 4:\n",
    "        v = torch.zeros_like(x)\n",
    "        for first_dim in range(shape[0]):\n",
    "            for second_dim in range(shape[1]):\n",
    "                inner_x = x[first_dim][second_dim]\n",
    "                rows, cols = x[first_dim][second_dim].shape\n",
    "                v[first_dim][second_dim] = torch.zeros_like(inner_x)\n",
    "                maxIdx = torch.argmax(torch.abs(inner_x),0)\n",
    "                for col in range(cols):\n",
    "                    v[first_dim][second_dim][maxIdx[col],col] = -radius*torch.sign(inner_x[maxIdx[col],col])\n",
    "    elif len(shape) == 3:\n",
    "        v = torch.zeros_like(x)\n",
    "        for first_dim in range(shape[0]):\n",
    "            inner_x = x[first_dim]\n",
    "            rows, cols = x[first_dim].shape\n",
    "            v[first_dim] = torch.zeros_like(inner_x)\n",
    "            maxIdx = torch.argmax(torch.abs(inner_x),0)\n",
    "            for col in range(cols):\n",
    "                v[first_dim][maxIdx[col],col] = -radius*torch.sign(inner_x[maxIdx[col],col])\n",
    "                    \n",
    "    elif len(shape)==2:\n",
    "        rows, cols = x.shape\n",
    "        v = torch.zeros_like(x)\n",
    "        maxIdx = torch.argmax(torch.abs(x),0)\n",
    "        for col in range(cols):\n",
    "            v[maxIdx[col],col] = -radius*torch.sign(x[maxIdx[col],col])\n",
    "                \n",
    "    else : \n",
    "        v = torch.zeros_like(x)\n",
    "        maxIdx = torch.argmax(torch.abs(x))\n",
    "        v.view(-1)[maxIdx] = -radius * torch.sign(x.view(-1)[maxIdx])\n",
    "    return v"
   ]
  },
  {
   "cell_type": "code",
   "execution_count": 18,
   "metadata": {
    "ExecuteTime": {
     "end_time": "2021-08-27T11:30:54.801608Z",
     "start_time": "2021-08-27T11:30:54.774109Z"
    },
    "code_folding": [
     0
    ]
   },
   "outputs": [],
   "source": [
    "class DMFW(optim.Optimizer):\n",
    "    def __init__(self, params, eta_coef=required, eta_exp=required, L=required, matrix_line=required, reg_coef=required,radius=required):\n",
    "        if eta_coef is not required and eta_coef <=0.:\n",
    "            raise ValueError(\"Invalid eta : {}\".format(eta_coef))\n",
    "        if eta_exp is not required and (eta_exp == 0.5):\n",
    "            raise ValueError(\"Invalid eta_exp : {}\".format(eta_exp))\n",
    "        defaults = dict(eta_coef=eta_coef, eta_exp=eta_exp,L=L, matrix_line=matrix_line,reg_coef = reg_coef,radius=radius)\n",
    "        super(DMFW,self).__init__(params,defaults)\n",
    "\n",
    "        for group in self.param_groups:\n",
    "            self.eta_coef = group[\"eta_coef\"]\n",
    "            self.eta_exp = group[\"eta_exp\"]\n",
    "            self.reg_coef = group[\"reg_coef\"]\n",
    "            self.A = group[\"matrix_line\"]\n",
    "            self.L = group[\"L\"]\n",
    "            self.radius = group[\"radius\"]\n",
    "        self.num_layers = len(self.param_groups[0]['params'])\n",
    "        self.dim = [k.shape for k in self.param_groups[0]['params']]\n",
    "        self.G = [[torch.rand(k) for k in self.dim] for l in range(self.L)]\n",
    "        \n",
    "    @torch.no_grad()\n",
    "    def initValue(self,closure):\n",
    "        self.w_dict = defaultdict(dict)\n",
    "        for group in self.param_groups:\n",
    "            if closure is not None:\n",
    "                with torch.enable_grad():\n",
    "                    closure()\n",
    "            for k,weight in enumerate(group[\"params\"]):\n",
    "                if weight.grad is None:\n",
    "                    raise ValueError(\"Gradient is None\")\n",
    "                self.w_dict[k][\"g\"] = weight.grad.detach().clone()\n",
    "                self.w_dict[k][\"w\"] = weight.detach().clone()\n",
    "                \n",
    "    def neighborsAverage(self, neighbors):\n",
    "        for group in self.param_groups:\n",
    "            for k,weight in enumerate(group[\"params\"]):\n",
    "                weighted_tmp = torch.zeros(self.dim[k])\n",
    "                weighted_grad_tmp = torch.zeros(self.dim[k])\n",
    "                for j in range(len(neighbors)):\n",
    "                    weighted_tmp += self.A[j]*neighbors[j].w_dict[k][\"w\"]\n",
    "                    weighted_grad_tmp += self.A[j]*neighbors[j].w_dict[k][\"g\"]\n",
    "                self.w_dict[k][\"y\"] = weighted_tmp\n",
    "                self.w_dict[k][\"ds\"] = weighted_grad_tmp\n",
    "                \n",
    "\n",
    "    def step(self, l, closure):\n",
    "        if l == 0:\n",
    "            self.init_gap = 0\n",
    "        eta = min(self.eta_coef/(l+1)**self.eta_exp, 1)\n",
    "        for group in self.param_groups:\n",
    "            if closure is not None:\n",
    "                with torch.enable_grad():\n",
    "                    closure()\n",
    "            self.gap = 0\n",
    "            for k,weight in enumerate(group[\"params\"]):\n",
    "                a = lmo(weight.grad.data,self.radius)\n",
    "                self.gap += torch.sum(torch.mul(weight.grad.data, weight.data - a))\n",
    "                v = proj_l1(self.G[l][k], s=self.radius)\n",
    "                #v = lmo(self.G[l][k] - 0.5 + torch.rand_like(self.G[l][k]), radius= self.radius)\n",
    "                if weight.grad is None:\n",
    "                    raise ValueError(\"Grad is None\")\n",
    "                self.w_dict[k][\"grad_old\"] = weight.grad.detach().clone()\n",
    "                \n",
    "                weight.data = self.w_dict[k]['y']*(1-eta) + eta*v\n",
    "                #print(\"weight {}\".format(torch.linalg.norm(weight.data,ord=1,dim=0)))\n",
    "                self.w_dict[k][\"w\"] = weight.detach().clone()\n",
    "                \n",
    "            self.init_gap += self.gap\n",
    "            self.init_gap /= (l+1)\n",
    "            \n",
    "            with torch.enable_grad():\n",
    "                closure()\n",
    "            for k,weight in enumerate(group[\"params\"]):\n",
    "                self.G[l][k] -= 0.5*self.w_dict[k][\"ds\"]*self.reg_coef\n",
    "                #self.G[l][k] += self.w_dict[k][\"ds\"]*self.reg_coef\n",
    "                if weight.grad is None :\n",
    "                    raise ValueError(\"Grad is none\")\n",
    "                weight.grad.add_(-self.w_dict[k][\"grad_old\"])\n",
    "                self.w_dict[k][\"g\"] = weight.grad.detach().clone() + self.w_dict[k][\"ds\"]"
   ]
  },
  {
   "cell_type": "code",
   "execution_count": 19,
   "metadata": {
    "ExecuteTime": {
     "end_time": "2021-08-27T11:30:54.910019Z",
     "start_time": "2021-08-27T11:30:54.879155Z"
    },
    "code_folding": [
     0
    ]
   },
   "outputs": [],
   "source": [
    "class Trainer:\n",
    "    def __init__(self, graph, loaders, model, model_param, loss,\n",
    "                 num_iterations):\n",
    "        self.graph = graph\n",
    "        self.num_nodes = graph.number_of_nodes()\n",
    "        self.model = model\n",
    "        self.param = model_param\n",
    "        #self.A = torch.tensor(np.diag(np.ones(self.num_nodes)))#torch.tensor(nx.adjacency_matrix(graph).toarray())\n",
    "        self.A = torch.tensor(nx.adjacency_matrix(graph).toarray())\n",
    "        self.dataloader = loaders\n",
    "        self.num_iterations = num_iterations\n",
    "        self.loss = loss\n",
    "        self.obj_values = np.ndarray((self.num_iterations + 1, 4),\n",
    "                                     dtype='float')\n",
    "\n",
    "        self.optimizers = [0.] * self.num_nodes\n",
    "        self.models = [0.] * self.num_nodes\n",
    "        self.losses = [0.] * self.num_nodes\n",
    "        #self.gaps = [0.]*self.num_nodes\n",
    "\n",
    "    def reset(self):\n",
    "        self.optimizers = [0.] * self.num_nodes\n",
    "        self.models = [0.] * self.num_nodes\n",
    "        self.losses = [0.] * self.num_nodes\n",
    "        self.gaps = [0.] * self.num_nodes\n",
    "        self.best_models = [0.]*self.num_nodes\n",
    "\n",
    "        self.obj_values = np.ndarray((self.num_iterations + 1, 4),\n",
    "                                     dtype='float')\n",
    "        \n",
    "    def __nodeInit(self, data, label):\n",
    "        nodewrap = TensorDataset(data, label)\n",
    "        nodes = DataLoader(nodewrap, batch_size=data.size(0), shuffle=False)\n",
    "        return nodes\n",
    "\n",
    "    def weight_reset(self, layer):\n",
    "        if isinstance(layer, nn.BatchNorm1d) or isinstance(layer, nn.Linear) or isinstance(layer,nn.Conv1d):\n",
    "            layer.reset_parameters()\n",
    "            \n",
    "    def initModelWeight(self, model):\n",
    "        for name,param in model.named_parameters():\n",
    "            if 'bias' in name:\n",
    "                nn.init.constant_(param,0.)\n",
    "            elif 'weight' in name:\n",
    "                if not 'batch' in name:\n",
    "                    nn.init.xavier_normal_(param)\n",
    "                else:\n",
    "                    nn.init.uniform_(param)\n",
    "\n",
    "    def saveCheckPts(self, t, path):\n",
    "        check_pts = {}\n",
    "        for i in range(self.num_nodes):\n",
    "            ckp_i = {\n",
    "                \"t\": t,\n",
    "                \"weight\": [param for param in self.models[i].parameters()],\n",
    "                \"optimizer_weight\": self.optimizers[i].w_dict,\n",
    "                \"oracles\": self.optimizers[i].G,\n",
    "                \"loss\": self.losses[i]\n",
    "            }  #,\n",
    "            #\"avg_loss\": self.avg_loss[i]}\n",
    "            check_pts[i] = ckp_i\n",
    "        torch.save(check_pts, path + \"checkpts_models\" + \"_\" + str(t) + \".tar\")\n",
    "        \n",
    "    def plotPrediction(self, true, pred,date,path_to_save):\n",
    "        fig = plt.figure(figsize=(5,3))\n",
    "        plt.suptitle(\"{}\".format(date))\n",
    "        plt.plot(true)\n",
    "        plt.plot(pred)\n",
    "        #plt.show()\n",
    "        fig.savefig(os.path.join(path_to_save,date))\n",
    "        plt.close()\n",
    "\n",
    "    def train(self, optimizer, L, eta_coef, eta_exp, reg_coef, radius, path_figure_date):\n",
    "        seed_everything()\n",
    "        self.reset()\n",
    "        \n",
    "        z1, z2, z3, z4 = self.dataloader\n",
    "\n",
    "        for i in range(self.num_nodes):\n",
    "            self.models[i] = self.model(*self.param)\n",
    "            self.optimizers[i] = optimizer(self.models[i].parameters(),\n",
    "                                           eta_coef=eta_coef,\n",
    "                                           eta_exp=eta_exp,\n",
    "                                           L=L,\n",
    "                                           matrix_line=self.A[i],\n",
    "                                           reg_coef=reg_coef,\n",
    "                                           radius=radius)\n",
    "            self.best_models[i] = copy.deepcopy(self.models[i])\n",
    "\n",
    "        self.final_gap = [0.] * self.num_nodes\n",
    "        \n",
    "        t = 0\n",
    "        \n",
    "        for date in z1.keys():\n",
    "            \n",
    "            try:\n",
    "                for i,loader in enumerate(self.dataloader):\n",
    "                    truez, predz = ModelPrediction(self.best_models[i], date, loader,lookahead)\n",
    "                    path = path_figure_date+\"/Model_\"+str(i)+\"/\"\n",
    "                    if not os.path.exists(path):\n",
    "                        os.makedirs(path)\n",
    "                    self.plotPrediction(truez, predz,date,path_to_save=path)\n",
    "            except :\n",
    "                print(\"----No Validation----\")\n",
    "                pass\n",
    "            \n",
    "            for (couple1, couple2, couple3,couple4) in zip(z1[date],z2[date], z3[date], z4[date]):\n",
    "                datazones = [self.__nodeInit(*couple1), \n",
    "                             self.__nodeInit(*couple2),\n",
    "                             self.__nodeInit(*couple3),\n",
    "                             self.__nodeInit(*couple4)]\n",
    "                \n",
    "\n",
    "                for i in range(self.num_nodes):\n",
    "                    self.initModelWeight(self.models[i])\n",
    "                    self.models[i].train()\n",
    "\n",
    "                    def closure():\n",
    "                        self.optimizers[i].zero_grad(set_to_none=True)\n",
    "                        x, y = iter(datazones[i]).next()\n",
    "                        output = self.models[i](x)\n",
    "                        loss = self.loss(output,y)\n",
    "                        loss.backward()\n",
    "\n",
    "                    self.optimizers[i].initValue(closure)\n",
    "                \n",
    "                opt_index = np.random.randint(low=0,high=L, size=1)\n",
    "                #print(f'Optimal L : {opt_index}')\n",
    "                \n",
    "                for l in range(L):\n",
    "                    #print(\"--------------------------\")\n",
    "                    \n",
    "                    if l==opt_index:\n",
    "                        for i in range(self.num_nodes):\n",
    "                            self.best_models[i] = copy.deepcopy(self.models[i])\n",
    "                    \n",
    "                    for i in range(self.num_nodes):\n",
    "                        self.optimizers[i].neighborsAverage(self.optimizers)\n",
    "                    for i in range(self.num_nodes):\n",
    "                        \n",
    "                        def closure():\n",
    "                            self.optimizers[i].zero_grad(set_to_none=True)\n",
    "                            x, y = iter(datazones[i]).next()\n",
    "                            output = self.models[i](x)\n",
    "                            loss = self.loss(output, y)\n",
    "                            loss.backward()\n",
    "                            \n",
    "                        self.optimizers[i].step(l, closure)\n",
    "\n",
    "                self.gaps_off = [0.] * self.num_nodes\n",
    "                for i in range(self.num_nodes):\n",
    "                    with torch.no_grad():\n",
    "                        self.best_models[i].eval()\n",
    "                        x, y = iter(datazones[i]).next()\n",
    "                        outputs = self.best_models[i](x)\n",
    "                        curr_loss = self.loss(outputs, y)\n",
    "                    self.final_gap[i] += self.optimizers[i].init_gap\n",
    "                    self.final_gap[i] /= (t + 1)\n",
    "                    self.gaps_off[i] = self.optimizers[i].init_gap\n",
    "                    self.losses[i] = curr_loss.detach().numpy()\n",
    "\n",
    "                loss = np.mean(self.losses)\n",
    "                gap = np.max(self.final_gap)  #.detach().numpy(\n",
    "                local_gap = np.max(self.gaps_off)\n",
    "                if t % 1 == 0:\n",
    "                    print(\"t_{} : loss : {:.5f} gap : {} local_gap {}\".format(\n",
    "                        t, loss, gap, local_gap))\n",
    "                    \n",
    "                self.obj_values[t, :] = [t, loss, gap, local_gap]\n",
    "                    \n",
    "                t+=1\n",
    "\n",
    "        return self.obj_values"
   ]
  },
  {
   "cell_type": "code",
   "execution_count": 20,
   "metadata": {
    "ExecuteTime": {
     "end_time": "2021-08-27T11:30:55.992667Z",
     "start_time": "2021-08-27T11:30:55.973839Z"
    },
    "code_folding": [
     0,
     16,
     32
    ]
   },
   "outputs": [],
   "source": [
    "class Encoder(nn.Module):\n",
    "    def __init__(self, input_dim, hid_dim, n_layers=1):\n",
    "        super(Encoder,self).__init__()\n",
    "        self.input_dim = input_dim\n",
    "        self.hid_dim = hid_dim\n",
    "        self.n_layers = n_layers\n",
    "        self.lstm = nn.LSTM(input_dim, hid_dim, n_layers, batch_first=False, bias=False)\n",
    "        \n",
    "    def forward(self, seq):\n",
    "        outputs, self.hidden = self.lstm(seq.view(seq.shape[1],seq.shape[0],self.input_dim))\n",
    "        return outputs, self.hidden\n",
    "    \n",
    "    def init_hidden(self, batch_size):\n",
    "        return (torch.zeros(self.n_layers, batch_size, self.hid_dim),\n",
    "                torch.zeros(self.n_layers, batch_size, self.hid_dim))\n",
    "    \n",
    "class Decoder(nn.Module):\n",
    "    def __init__(self, input_dim, hid_dim, output_dim, n_layers=1):\n",
    "        super(Decoder,self).__init__()\n",
    "        self.input_dim = input_dim\n",
    "        self.output_dim = output_dim\n",
    "        self.hid_dim = hid_dim\n",
    "        self.n_layers = n_layers\n",
    "        \n",
    "        self.lstm = nn.LSTM(input_dim, hid_dim, n_layers, batch_first = False, bias=False)\n",
    "        self.fc = nn.Linear(hid_dim, output_dim)\n",
    "        \n",
    "    def forward(self, x, encoder_hidden):\n",
    "        lstm_out, self.hidden = self.lstm(x.unsqueeze(0), encoder_hidden)\n",
    "        output = self.fc(lstm_out.squeeze(0))\n",
    "        return output, self.hidden\n",
    "    \n",
    "class Seq2Seq(nn.Module):\n",
    "    def __init__(self, input_dim, hid_dim, output_dim, ts_out, forcing = 1):\n",
    "        super(Seq2Seq,self).__init__()\n",
    "        self.output_dim = output_dim\n",
    "        self.ts_out = ts_out\n",
    "        self.encoder = Encoder(input_dim, hid_dim)\n",
    "        self.decoder = Decoder(input_dim,hid_dim,output_dim)\n",
    "        self.forcing = forcing\n",
    "\n",
    "        \n",
    "    def forward(self, source, y=None):\n",
    "        batch_size = source.shape[0]\n",
    "        target_len = self.ts_out\n",
    "        outputs = torch.zeros(target_len, batch_size,self.output_dim)\n",
    "        encoder_hidden = self.encoder.init_hidden(batch_size)\n",
    "        encoder_output, encoder_hidden = self.encoder(source)\n",
    "        \n",
    "        decoder_input = source[:,-1,:]\n",
    "        decoder_hidden = encoder_hidden\n",
    "        \n",
    "        for t in range(target_len):\n",
    "            decoder_output, decoder_hidden = self.decoder(decoder_input, decoder_hidden)\n",
    "            outputs[t] = decoder_output\n",
    "            if (y is not None) and (t>1) and (torch.rand(1) < self.forcing):\n",
    "                decoder_input = y[:,t].unsqueeze(1)\n",
    "            else :\n",
    "                decoder_input = decoder_output\n",
    "        #print(outputs.shape)\n",
    "        return outputs.squeeze().permute(1,0)"
   ]
  },
  {
   "cell_type": "code",
   "execution_count": 21,
   "metadata": {
    "ExecuteTime": {
     "end_time": "2021-08-27T11:30:56.120809Z",
     "start_time": "2021-08-27T11:30:56.111341Z"
    },
    "code_folding": [
     0
    ]
   },
   "outputs": [],
   "source": [
    "class LSTM(nn.Module):\n",
    "    def __init__(self, input_size, output_size, time_step_in, time_step_out):\n",
    "        super(LSTM, self).__init__()\n",
    "        self.input_size = input_size\n",
    "        self.output_size = output_size\n",
    "        self.time_step_in = time_step_in\n",
    "        self.time_step_out = time_step_out\n",
    "        self.num_layers = 1\n",
    "        \n",
    "        self.encoder = nn.LSTM(self.input_size, self.output_size,\n",
    "                               num_layers=self.num_layers, batch_first=True, bias=True)\n",
    "        \n",
    "        self.batch = nn.BatchNorm1d(self.output_size)\n",
    "        self.linear2 = nn.Linear(self.num_layers*self.output_size, self.time_step_out)\n",
    "        \n",
    "    def forward(self,x):\n",
    "        out_en, (h_en,_) = self.encoder(x)\n",
    "        h_en = h_en.view(-1, self.num_layers*self.output_size)\n",
    "        h_en = self.batch(h_en)\n",
    "        out = nn.LeakyReLU()(h_en)\n",
    "        #out = torch.sigmoid(self.linear(out))\n",
    "        out = self.linear2(out)\n",
    "        return out"
   ]
  },
  {
   "cell_type": "code",
   "execution_count": 22,
   "metadata": {
    "ExecuteTime": {
     "end_time": "2021-08-27T11:30:56.317192Z",
     "start_time": "2021-08-27T11:30:56.307745Z"
    },
    "code_folding": []
   },
   "outputs": [],
   "source": [
    "class CNN1D(nn.Module):\n",
    "    def __init__(self,output_chan, output_dim,input_dim,kernel_size):\n",
    "        super(CNN1D, self).__init__()\n",
    "        \n",
    "        self.output_chan = output_chan\n",
    "        self.output_dim = output_dim\n",
    "        self.input_dim = input_dim\n",
    "        \n",
    "        self.conv1d = nn.Conv1d(in_channels=1, out_channels=output_chan, kernel_size=kernel_size, stride=1, \n",
    "                                padding=int(np.floor(kernel_size/2)))\n",
    "        \n",
    "        \n",
    "        self.maxpool = nn.MaxPool1d(3)\n",
    "        self.batchnorm = nn.BatchNorm1d(output_chan)\n",
    "        self.fc1 = nn.Linear(output_chan*int((input_dim/3)), output_dim, bias=True)\n",
    "        \n",
    "    def forward(self, x):\n",
    "        inputs = x.unsqueeze(1).squeeze(-1)\n",
    "        out = self.conv1d(inputs)\n",
    "        out = self.batchnorm(out)\n",
    "        out = self.maxpool(out)\n",
    "        out = nn.LeakyReLU()(out)\n",
    "        \n",
    "        out = out.view(-1, out.shape[1]*out.shape[2])\n",
    "        \n",
    "        out = self.fc1(out)\n",
    "        return out"
   ]
  },
  {
   "cell_type": "code",
   "execution_count": 23,
   "metadata": {
    "ExecuteTime": {
     "end_time": "2021-08-27T11:30:57.426560Z",
     "start_time": "2021-08-27T11:30:57.419792Z"
    },
    "code_folding": [
     0
    ]
   },
   "outputs": [],
   "source": [
    "class Linear(nn.Module):\n",
    "    def __init__(self, nb_units, input_dim, output_dim):\n",
    "        super(Linear, self).__init__()\n",
    "        \n",
    "        self.nb_units = nb_units\n",
    "        self.input_dim = input_dim\n",
    "        self.output_dim = output_dim\n",
    "        self.nb_units2 = 16\n",
    "    \n",
    "        self.fc1 = nn.Linear(input_dim, nb_units)\n",
    "        #self.fc2 = nn.Linear(nb_units, self.nb_units2)\n",
    "        self.fc3 = nn.Linear(nb_units, output_dim)\n",
    "        \n",
    "        self.batch1 = nn.BatchNorm1d(nb_units)\n",
    "        #self.batch2 = nn.BatchNorm1d(self.nb_units2)\n",
    "        self.drop = nn.Dropout(0.5)\n",
    "        \n",
    "    def forward(self, x):\n",
    "        inputs = x.squeeze(-1)\n",
    "        out = self.fc1(inputs)\n",
    "        out = self.batch1(out)\n",
    "        out = nn.ReLU()(out)\n",
    "        \n",
    "        out = self.fc3(out)\n",
    "        return out"
   ]
  },
  {
   "cell_type": "code",
   "execution_count": 24,
   "metadata": {
    "ExecuteTime": {
     "end_time": "2021-08-27T11:30:57.628997Z",
     "start_time": "2021-08-27T11:30:57.621454Z"
    }
   },
   "outputs": [],
   "source": [
    "complete_graph, complete = Graphs.completegraph(4)\n",
    "cycle_graph, cycle = Graphs.cycle_graph(4)\n",
    "grid_graph, grid = Graphs.gridgraph(2,2)\n",
    "grid_graph_line, line = Graphs.gridgraph(4,1)"
   ]
  },
  {
   "cell_type": "code",
   "execution_count": 25,
   "metadata": {
    "ExecuteTime": {
     "end_time": "2021-08-27T11:30:58.644983Z",
     "start_time": "2021-08-27T11:30:58.639860Z"
    }
   },
   "outputs": [
    {
     "data": {
      "text/plain": [
       "array([[0.33333333, 0.33333333, 0.        , 0.33333333],\n",
       "       [0.33333333, 0.33333333, 0.33333333, 0.        ],\n",
       "       [0.        , 0.33333333, 0.33333333, 0.33333333],\n",
       "       [0.33333333, 0.        , 0.33333333, 0.33333333]])"
      ]
     },
     "execution_count": 25,
     "metadata": {},
     "output_type": "execute_result"
    }
   ],
   "source": [
    "nx.adjacency_matrix(cycle_graph).toarray()"
   ]
  },
  {
   "cell_type": "code",
   "execution_count": 58,
   "metadata": {
    "ExecuteTime": {
     "end_time": "2021-08-27T12:20:17.055003Z",
     "start_time": "2021-08-27T12:20:17.051541Z"
    }
   },
   "outputs": [],
   "source": [
    "loss_fn = nn.SmoothL1Loss()\n",
    "num_iters_base = nb_iterations\n",
    "eta_coef_DMFW = 1\n",
    "eta_exp_DMFW = 0.90\n",
    "rho_coef_DMFW = 4e-0\n",
    "rho_exp_DMFW = 1/2\n",
    "reg_coef_DMFW = 10\n",
    "L_DMFW = nb_iterations #or nb_iteration to get a better result"
   ]
  },
  {
   "cell_type": "code",
   "execution_count": 59,
   "metadata": {
    "ExecuteTime": {
     "end_time": "2021-08-27T12:20:17.937897Z",
     "start_time": "2021-08-27T12:20:17.933834Z"
    }
   },
   "outputs": [],
   "source": [
    "trainXMFW = Trainer(cycle_graph,trainloader,CNN1D, (8,lookahead,lookback, 5), loss_fn,num_iters_base)"
   ]
  },
  {
   "cell_type": "code",
   "execution_count": null,
   "metadata": {
    "ExecuteTime": {
     "start_time": "2021-08-27T12:20:21.064Z"
    },
    "scrolled": true
   },
   "outputs": [
    {
     "name": "stdout",
     "output_type": "stream",
     "text": [
      "----No Validation----\n",
      "t_0 : loss : 5.60282 gap : 0.050918515771627426 local_gap 0.050918515771627426\n",
      "t_1 : loss : 2.17137 gap : 0.03443872928619385 local_gap 0.018121318891644478\n",
      "t_2 : loss : 0.81819 gap : 0.01630263961851597 local_gap 0.014469188638031483\n",
      "t_3 : loss : 0.08089 gap : 0.006055797450244427 local_gap 0.008351113647222519\n",
      "t_4 : loss : 0.47382 gap : 0.004214945249259472 local_gap 0.015018929727375507\n",
      "t_5 : loss : 1.06709 gap : 0.0029344120994210243 local_gap 0.013494757004082203\n",
      "t_6 : loss : 0.15124 gap : 0.0012386970920488238 local_gap 0.005763964261859655\n",
      "t_7 : loss : 0.06533 gap : 0.001219172845594585 local_gap 0.008514685556292534\n",
      "----No Validation----\n",
      "t_8 : loss : 0.00875 gap : 0.0010844400385394692 local_gap 0.00863406341522932\n",
      "t_9 : loss : 0.01978 gap : 0.0003028676728717983 local_gap 0.0019442369230091572\n",
      "t_10 : loss : 0.03870 gap : 0.00015338299272116274 local_gap 0.0014297451125457883\n",
      "t_11 : loss : 0.01637 gap : 7.756824925309047e-05 local_gap 0.0007807306828908622\n",
      "t_12 : loss : 0.01759 gap : 6.348640454234555e-05 local_gap 0.0007535782642662525\n",
      "t_13 : loss : 0.01587 gap : 5.7776567700784653e-05 local_gap 0.000747308658901602\n",
      "t_14 : loss : 0.05432 gap : 5.33189122506883e-05 local_gap 0.0007420071051456034\n",
      "t_15 : loss : 0.07203 gap : 7.236860983539373e-05 local_gap 0.0011045788414776325\n",
      "----No Validation----\n",
      "t_16 : loss : 0.01299 gap : 9.191958088194951e-05 local_gap 0.0014942659763619304\n",
      "t_17 : loss : 0.02684 gap : 5.051055268268101e-05 local_gap 0.0008172703674063087\n",
      "t_18 : loss : 0.03190 gap : 6.174422742333263e-05 local_gap 0.0011296510929241776\n",
      "t_19 : loss : 0.03543 gap : 6.348761962726712e-05 local_gap 0.0012080081505700946\n",
      "t_20 : loss : 0.01204 gap : 8.446259016636759e-05 local_gap 0.001710226759314537\n",
      "t_21 : loss : 0.00444 gap : 0.0001856188609963283 local_gap 0.003999152220785618\n",
      "t_22 : loss : 0.00211 gap : 1.2412641808623448e-05 local_gap 0.00013680342817679048\n",
      "t_23 : loss : 0.01184 gap : 3.4360400604782626e-05 local_gap 0.0008122369181364775\n",
      "----No Validation----\n",
      "t_24 : loss : 0.00390 gap : 5.1300503400852904e-05 local_gap 0.0012519705342128873\n",
      "t_25 : loss : 0.00620 gap : 1.607340163900517e-05 local_gap 0.00036660791374742985\n",
      "t_26 : loss : 0.00274 gap : 4.856300620303955e-06 local_gap 0.00012114102719351649\n",
      "t_27 : loss : 0.00932 gap : 1.685965617070906e-05 local_gap 0.00046721409307792783\n",
      "t_28 : loss : 0.00456 gap : 2.4005279556149617e-05 local_gap 0.0006792934145778418\n",
      "t_29 : loss : 0.00866 gap : 2.0525067156995647e-05 local_gap 0.0005917467060498893\n",
      "t_30 : loss : 0.00307 gap : 2.5231111067114398e-05 local_gap 0.0007616393850184977\n",
      "t_31 : loss : 0.00116 gap : 2.3585458620800637e-05 local_gap 0.0007295035757124424\n",
      "----No Validation----\n",
      "t_32 : loss : 0.01023 gap : 5.0064099923474714e-05 local_gap 0.0016304485034197569\n",
      "t_33 : loss : 0.00806 gap : 9.246350600733422e-06 local_gap 0.0002720565244089812\n",
      "t_34 : loss : 0.01071 gap : 4.129261651542038e-05 local_gap 0.001438674284145236\n",
      "t_35 : loss : 0.00890 gap : 3.995048245997168e-05 local_gap 0.0014200457371771336\n",
      "t_36 : loss : 0.01907 gap : 1.6554060493945144e-05 local_gap 0.0005725497612729669\n",
      "t_37 : loss : 0.01456 gap : 4.249284393154085e-05 local_gap 0.001602228032425046\n",
      "t_38 : loss : 0.00595 gap : 1.5870584320509806e-05 local_gap 0.00057645991910249\n",
      "t_39 : loss : 0.03147 gap : 2.594713805592619e-05 local_gap 0.0010248151374980807\n",
      "----No Validation----\n",
      "t_40 : loss : 0.05050 gap : 5.872715701116249e-05 local_gap 0.0023901641834527254\n",
      "t_41 : loss : 0.01073 gap : 2.9688219001400284e-05 local_gap 0.0012014381354674697\n",
      "t_42 : loss : 0.00431 gap : 3.7673977203667164e-05 local_gap 0.001599795650690794\n",
      "t_43 : loss : 0.01010 gap : 2.322820364497602e-05 local_gap 0.0009868957567960024\n",
      "t_44 : loss : 0.00734 gap : 8.392352356167976e-06 local_gap 0.00035610588383860886\n",
      "t_45 : loss : 0.01087 gap : 2.6321271434426308e-05 local_gap 0.0012054952094331384\n",
      "t_46 : loss : 0.00695 gap : 1.1159268069604877e-05 local_gap 0.0005007099825888872\n",
      "t_47 : loss : 0.00786 gap : 1.2749704183079302e-05 local_gap 0.0006033980753272772\n",
      "----No Validation----\n",
      "t_48 : loss : 0.01744 gap : 6.622484761464875e-06 local_gap 0.00031738498364575207\n",
      "t_49 : loss : 0.00447 gap : 6.260117061174242e-06 local_gap 0.0003088856756221503\n",
      "t_50 : loss : 0.00855 gap : 5.827284894621698e-06 local_gap 0.00029093140619806945\n",
      "t_51 : loss : 0.00424 gap : 2.1489591745194048e-05 local_gap 0.0011143062729388475\n",
      "t_52 : loss : 0.00426 gap : 9.155846782959998e-06 local_gap 0.00046637182822450995\n",
      "t_53 : loss : 0.00550 gap : 2.923352803918533e-05 local_gap 0.0015694546746090055\n",
      "t_54 : loss : 0.00683 gap : 9.861200851446483e-06 local_gap 0.0005263648345135152\n",
      "t_55 : loss : 0.00650 gap : 9.297341421188321e-06 local_gap 0.0005114858504384756\n",
      "----No Validation----\n",
      "t_56 : loss : 0.00829 gap : 1.63284239533823e-05 local_gap 0.0009214228484779596\n",
      "t_57 : loss : 0.01031 gap : 9.454656719753984e-06 local_gap 0.0005377166089601815\n",
      "t_58 : loss : 0.00825 gap : 7.196388196462067e-06 local_gap 0.0004160010430496186\n",
      "t_59 : loss : 0.00426 gap : 2.1721672965213656e-05 local_gap 0.001296394970268011\n",
      "t_60 : loss : 0.00942 gap : 6.216426299943123e-06 local_gap 0.00036102478043176234\n",
      "t_61 : loss : 0.00365 gap : 7.563886356365401e-06 local_gap 0.00046344741713255644\n",
      "t_62 : loss : 0.00309 gap : 9.53517883317545e-06 local_gap 0.0005946863675490022\n",
      "t_63 : loss : 0.00950 gap : 9.784484973351937e-06 local_gap 0.0006166718667373061\n",
      "----No Validation----\n",
      "t_64 : loss : 0.00321 gap : 6.570911864400841e-06 local_gap 0.00042076638783328235\n",
      "t_65 : loss : 0.00470 gap : 9.524035704089329e-06 local_gap 0.0006229587597772479\n",
      "t_66 : loss : 0.00304 gap : 1.4826719962002244e-05 local_gap 0.0009906116174533963\n",
      "t_67 : loss : 0.00818 gap : 3.140667104162276e-05 local_gap 0.0021208268590271473\n",
      "t_68 : loss : 0.00531 gap : 9.31444901652867e-06 local_gap 0.0006112902774475515\n",
      "t_69 : loss : 0.00993 gap : 1.2013394552923273e-05 local_gap 0.0008316231542266905\n"
     ]
    }
   ],
   "source": [
    "values_dmfw = trainXMFW.train(DMFW, L_DMFW, eta_coef_DMFW, eta_exp_DMFW, reg_coef_DMFW,1,\n",
    "                            path_figure_date=None)#\"./OnlineModel/CNN1D/complete_full2/\")"
   ]
  },
  {
   "cell_type": "code",
   "execution_count": 29,
   "metadata": {
    "ExecuteTime": {
     "end_time": "2021-08-27T12:18:20.665390Z",
     "start_time": "2021-08-27T12:18:20.659218Z"
    }
   },
   "outputs": [],
   "source": [
    "path_log = \"/Users/Slaton/Documents/DMFW/BangkokDataAnalysis/gitdecenlearn/Analysis/new-temp/cycle/alpha090-noise001\"\n",
    "if not os.path.exists(path_log):\n",
    "    os.makedirs(path_log)"
   ]
  },
  {
   "cell_type": "code",
   "execution_count": 30,
   "metadata": {
    "ExecuteTime": {
     "end_time": "2021-08-27T12:18:20.951321Z",
     "start_time": "2021-08-27T12:18:20.945067Z"
    }
   },
   "outputs": [],
   "source": [
    "def save_log_csv(log_file, path_to_save,floor_idx,graph):\n",
    "    logs = pd.DataFrame(log_file, columns=[\"Iteration\", \"Loss\", \"Gap\", \"Local Gaps\"])\n",
    "    pd.DataFrame.to_csv(logs, os.path.join(path_to_save,f'Floor_{floor_idx}_'+\"_\"+f'{graph}'+\".csv\"))\n",
    "def save_state_dict(model, model_idx, path_to_save,floor_idx,graph):\n",
    "    torch.save(model.state_dict(), os.path.join(path_to_save,f'Floor{floor_idx}_model{model_idx}_{graph}_statedict.pt'))"
   ]
  },
  {
   "cell_type": "code",
   "execution_count": 31,
   "metadata": {
    "ExecuteTime": {
     "end_time": "2021-08-27T12:18:21.316256Z",
     "start_time": "2021-08-27T12:18:21.294206Z"
    }
   },
   "outputs": [],
   "source": [
    "save_log_csv(values_dmfw, path_log, floor, \"cycle\")\n",
    "for i in range(4):\n",
    "    save_state_dict(trainXMFW.best_models[i],i, path_log, floor,\"cycle\")"
   ]
  },
  {
   "cell_type": "code",
   "execution_count": 32,
   "metadata": {
    "ExecuteTime": {
     "end_time": "2021-08-27T12:18:21.946070Z",
     "start_time": "2021-08-27T12:18:21.611448Z"
    }
   },
   "outputs": [
    {
     "data": {
      "text/plain": [
       "Text(0, 0.5, 'Gap')"
      ]
     },
     "execution_count": 32,
     "metadata": {},
     "output_type": "execute_result"
    },
    {
     "data": {
      "image/png": "[encoded data removed]",
      "text/plain": [
       "<Figure size 720x360 with 1 Axes>"
      ]
     },
     "metadata": {},
     "output_type": "display_data"
    }
   ],
   "source": [
    "plt.figure(figsize=(10,5))\n",
    "plt.suptitle(\"{}\".format(cycle))\n",
    "plt.plot(values_dmfw[:,0][:-1],values_dmfw[:,2][:-1], label='DMFW', marker='^', markersize=4,\n",
    "         markevery=[i for i in range(len(values_dmfw[:,0][1:])) if i%10==0])\n",
    "plt.axhline(y=0, color='grey', linestyle='--')\n",
    "plt.legend(loc='upper right')\n",
    "#plt.ylim((1e-4, 1e0))\n",
    "plt.yscale(\"log\")\n",
    "plt.xlabel(\"#Iterations\",fontsize=15)\n",
    "plt.ylabel(\"Gap\",fontsize=15)"
   ]
  },
  {
   "cell_type": "code",
   "execution_count": 33,
   "metadata": {
    "ExecuteTime": {
     "end_time": "2021-08-27T12:18:23.564189Z",
     "start_time": "2021-08-27T12:18:23.559608Z"
    }
   },
   "outputs": [
    {
     "data": {
      "text/plain": [
       "0.027478522670987462"
      ]
     },
     "execution_count": 33,
     "metadata": {},
     "output_type": "execute_result"
    }
   ],
   "source": [
    "np.mean(values_dmfw[:,1][:-1])"
   ]
  },
  {
   "cell_type": "code",
   "execution_count": 34,
   "metadata": {
    "ExecuteTime": {
     "end_time": "2021-08-27T12:18:24.932627Z",
     "start_time": "2021-08-27T12:18:24.928274Z"
    }
   },
   "outputs": [],
   "source": [
    "onlineloss = np.cumsum(values_dmfw[:,1][:-1])\n",
    "arangement = np.arange(1,len(onlineloss)+1)\n",
    "onlineloss = onlineloss/arangement"
   ]
  },
  {
   "cell_type": "code",
   "execution_count": 35,
   "metadata": {
    "ExecuteTime": {
     "end_time": "2021-08-27T12:18:25.468586Z",
     "start_time": "2021-08-27T12:18:25.274438Z"
    }
   },
   "outputs": [
    {
     "data": {
      "text/plain": [
       "Text(0, 0.5, 'Loss')"
      ]
     },
     "execution_count": 35,
     "metadata": {},
     "output_type": "execute_result"
    },
    {
     "data": {
      "image/png": "[encoded data removed]",
      "text/plain": [
       "<Figure size 720x360 with 1 Axes>"
      ]
     },
     "metadata": {},
     "output_type": "display_data"
    }
   ],
   "source": [
    "plt.figure(figsize=(10,5))\n",
    "plt.suptitle(\"{}\".format(cycle))\n",
    "plt.plot(values_dmfw[:,0][:-1],values_dmfw[:,1][:-1], label='Step Loss', marker='^', markersize=4,\n",
    "         markevery=[i for i in range(len(values_dmfw[:,0][1:])) if i%10==0])\n",
    "plt.plot(values_dmfw[:,0][:-1],onlineloss, label='Online Loss', marker='^', markersize=4,\n",
    "         markevery=[i for i in range(len(values_dmfw[:,0][1:])) if i%10==0])\n",
    "plt.axhline(y=0, color='grey', linestyle='--')\n",
    "plt.legend(loc='upper right')\n",
    "#plt.ylim((1e-3, 1e2))\n",
    "plt.yscale(\"log\")\n",
    "plt.xlabel(\"#Iterations\",fontsize=15)\n",
    "plt.ylabel(\"Loss\",fontsize=15)"
   ]
  },
  {
   "cell_type": "markdown",
   "metadata": {},
   "source": [
    "# Prediction"
   ]
  },
  {
   "cell_type": "code",
   "execution_count": 36,
   "metadata": {
    "ExecuteTime": {
     "end_time": "2021-08-27T12:18:27.034037Z",
     "start_time": "2021-08-27T12:18:27.026336Z"
    }
   },
   "outputs": [],
   "source": [
    "def ModelPrediction(model_to_test, date ,loader, lookahead):\n",
    "    prediction = []\n",
    "    true = []\n",
    "    for val, valpred in loader[date]:\n",
    "        model_to_test.eval()\n",
    "        pred = model_to_test(val)\n",
    "        #print(pred.shape)\n",
    "        prediction.append(pred.detach().numpy())\n",
    "        true.append(valpred.detach().numpy())\n",
    "    pred_array = np.asarray(prediction)\n",
    "    true_array = np.asarray(true)\n",
    "    #print(pred_array.shape)\n",
    "    pred_shape = pred_array.shape\n",
    "    #print(pred_shape)\n",
    "    flattenTrue = true_array.reshape(pred_shape[0]*pred_shape[1], lookahead)[::lookahead].flatten()\n",
    "    flattenPred = pred_array.reshape(pred_shape[0]*pred_shape[1], lookahead)[::lookahead].flatten()\n",
    "    return flattenTrue, flattenPred"
   ]
  },
  {
   "cell_type": "code",
   "execution_count": 37,
   "metadata": {
    "ExecuteTime": {
     "end_time": "2021-08-27T12:18:28.148356Z",
     "start_time": "2021-08-27T12:18:28.145650Z"
    }
   },
   "outputs": [],
   "source": [
    "#torch.save(trainXMFW.models[3].state_dict(),\"./OnlineModel/CNN1D/FINAL43_BestFinal/model3.pt\")"
   ]
  },
  {
   "cell_type": "code",
   "execution_count": 38,
   "metadata": {
    "ExecuteTime": {
     "end_time": "2021-08-27T12:18:28.455717Z",
     "start_time": "2021-08-27T12:18:28.443395Z"
    }
   },
   "outputs": [],
   "source": [
    "model_trained = trainXMFW.best_models[0]\n",
    "true, pred = ModelPrediction(model_trained,\"2019-05-19\", testloader[0], lookahead)"
   ]
  },
  {
   "cell_type": "code",
   "execution_count": 39,
   "metadata": {
    "ExecuteTime": {
     "end_time": "2021-08-27T12:18:28.937474Z",
     "start_time": "2021-08-27T12:18:28.845806Z"
    }
   },
   "outputs": [
    {
     "data": {
      "text/plain": [
       "[<matplotlib.lines.Line2D at 0x28378f0d0>]"
      ]
     },
     "execution_count": 39,
     "metadata": {},
     "output_type": "execute_result"
    },
    {
     "data": {
      "image/png": "[encoded data removed]",
      "text/plain": [
       "<Figure size 432x288 with 1 Axes>"
      ]
     },
     "metadata": {},
     "output_type": "display_data"
    }
   ],
   "source": [
    "plt.plot(true) \n",
    "plt.plot(pred)"
   ]
  },
  {
   "cell_type": "code",
   "execution_count": 40,
   "metadata": {
    "ExecuteTime": {
     "end_time": "2021-08-27T12:18:33.031711Z",
     "start_time": "2021-08-27T12:18:33.022829Z"
    }
   },
   "outputs": [],
   "source": [
    "def PredictionMultipleDate(model, dates, date_begin, date_end, loader, lookahead, scalers, zone_name, ft_idx):\n",
    "    predictTrue = []\n",
    "    predictPred = []\n",
    "    valuePD = pd.DataFrame()\n",
    "    idx_begin = dates.index(date_begin)\n",
    "    idx_end = dates.index(date_end)\n",
    "    for date in dates[idx_begin:idx_end]:\n",
    "        true, pred = ModelPrediction(model, date, loader, lookahead)\n",
    "        maxi = scalers[zone_name].data_max_[ft_idx]\n",
    "        mini = scalers[zone_name].data_min_[ft_idx]\n",
    "        data_range = 0.8\n",
    "        true = ((true.reshape(-1,1) - 0.2)*(maxi-mini))/data_range + mini\n",
    "        pred = ((pred.reshape(-1,1) - 0.2)*(maxi-mini))/data_range + mini\n",
    "        array = np.concatenate([true, pred],axis=1)\n",
    "        result = pd.DataFrame({\"Truth\": true.squeeze(),\n",
    "                              \"Prediction\" : pred.squeeze()})\n",
    "                              #\"Date\": pd.date_range(start=date,periods=true.shape[0], freq=\"5min\")})\n",
    "        valuePD = pd.concat((valuePD, result)).reset_index(drop=True)\n",
    "    return valuePD"
   ]
  },
  {
   "cell_type": "code",
   "execution_count": 41,
   "metadata": {
    "ExecuteTime": {
     "end_time": "2021-08-27T12:18:33.335648Z",
     "start_time": "2021-08-27T12:18:33.328831Z"
    }
   },
   "outputs": [
    {
     "data": {
      "text/plain": [
       "Index(['ACPower', 'lightPower', 'appPower', 'temperature', 'humidity', 'lux'], dtype='object')"
      ]
     },
     "execution_count": 41,
     "metadata": {},
     "output_type": "execute_result"
    }
   ],
   "source": [
    "floor_dict[\"Floor7Z1\"].columns"
   ]
  },
  {
   "cell_type": "code",
   "execution_count": 53,
   "metadata": {
    "ExecuteTime": {
     "end_time": "2021-08-27T12:19:43.332714Z",
     "start_time": "2021-08-27T12:19:43.246572Z"
    }
   },
   "outputs": [],
   "source": [
    "ft_idx = 3\n",
    "indexroom = 3\n",
    "mymodel = trainXMFW.best_models[indexroom]\n",
    "real_index_zone = [1,2,4,5]\n",
    "#testloader = [loaderZ1test]#, loaderZ2test, loaderZ4test, loaderZ5test]\n",
    "may = [date for date in test_date if '2019-05' in date]\n",
    "myfloor = [\"Floor7Z1\",\"Floor7Z2\",\"Floor7Z4\",\"Floor7Z5\"]\n",
    "resultpd = PredictionMultipleDate(mymodel,test_date,may[0], may[-1],testloader[indexroom], lookahead, scalers,\n",
    "                                 myfloor[indexroom], ft_idx)"
   ]
  },
  {
   "cell_type": "code",
   "execution_count": 54,
   "metadata": {
    "ExecuteTime": {
     "end_time": "2021-08-27T12:19:43.935124Z",
     "start_time": "2021-08-27T12:19:43.533413Z"
    }
   },
   "outputs": [
    {
     "data": {
      "image/png": "[encoded data removed]",
      "text/plain": [
       "<Figure size 1080x360 with 1 Axes>"
      ]
     },
     "metadata": {},
     "output_type": "display_data"
    }
   ],
   "source": [
    "plt.figure(figsize=(15,5))\n",
    "plt.title(f'Floor {floor} - Zone {real_index_zone[indexroom]}')\n",
    "plt.plot(resultpd[\"Truth\"],label=\"Truth\")\n",
    "plt.plot(resultpd[\"Prediction\"],label=\"Prediction\",ls='-')\n",
    "plt.xticks(ticks=np.arange(resultpd.shape[0],step=100))\n",
    "plt.legend()\n",
    "plt.xlabel(\"Timestep\")\n",
    "plt.ylabel(f'{feature}')\n",
    "plt.show()"
   ]
  },
  {
   "cell_type": "code",
   "execution_count": 55,
   "metadata": {
    "ExecuteTime": {
     "end_time": "2021-08-27T12:19:45.848356Z",
     "start_time": "2021-08-27T12:19:45.822162Z"
    }
   },
   "outputs": [],
   "source": [
    "pd.DataFrame.to_csv(resultpd,path_log+f'/prediction-zone{real_index_zone[indexroom]}.csv')"
   ]
  },
  {
   "cell_type": "code",
   "execution_count": 101,
   "metadata": {
    "ExecuteTime": {
     "end_time": "2021-08-26T22:09:03.322759Z",
     "start_time": "2021-08-26T22:09:03.316534Z"
    }
   },
   "outputs": [
    {
     "data": {
      "text/plain": [
       "0.2905337"
      ]
     },
     "execution_count": 101,
     "metadata": {},
     "output_type": "execute_result"
    }
   ],
   "source": [
    "np.mean(resultpd[\"Truth\"] - resultpd[\"Prediction\"])"
   ]
  },
  {
   "cell_type": "code",
   "execution_count": 102,
   "metadata": {
    "ExecuteTime": {
     "end_time": "2021-08-26T22:09:04.485651Z",
     "start_time": "2021-08-26T22:09:04.480498Z"
    }
   },
   "outputs": [
    {
     "data": {
      "text/plain": [
       "1.3343773"
      ]
     },
     "execution_count": 102,
     "metadata": {},
     "output_type": "execute_result"
    }
   ],
   "source": [
    "np.std(resultpd[\"Truth\"] - resultpd[\"Prediction\"])"
   ]
  },
  {
   "cell_type": "raw",
   "metadata": {
    "ExecuteTime": {
     "end_time": "2021-07-24T09:40:30.932087Z",
     "start_time": "2021-07-24T09:40:30.927551Z"
    }
   },
   "source": [
    "floor_dict[\"Floor7Z1\"].columns"
   ]
  }
 ],
 "metadata": {
  "kernelspec": {
   "display_name": "Python 3 (ipykernel)",
   "language": "python",
   "name": "python3"
  },
  "language_info": {
   "codemirror_mode": {
    "name": "ipython",
    "version": 3
   },
   "file_extension": ".py",
   "mimetype": "text/x-python",
   "name": "python",
   "nbconvert_exporter": "python",
   "pygments_lexer": "ipython3",
   "version": "3.8.10"
  },
  "toc": {
   "base_numbering": 1,
   "nav_menu": {},
   "number_sections": true,
   "sideBar": true,
   "skip_h1_title": false,
   "title_cell": "Table of Contents",
   "title_sidebar": "Contents",
   "toc_cell": false,
   "toc_position": {},
   "toc_section_display": true,
   "toc_window_display": false
  }
 },
 "nbformat": 4,
 "nbformat_minor": 4
}
