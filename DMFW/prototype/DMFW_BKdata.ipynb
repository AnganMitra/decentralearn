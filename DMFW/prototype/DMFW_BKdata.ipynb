{
 "cells": [
  {
   "cell_type": "code",
   "execution_count": 5,
   "metadata": {
    "ExecuteTime": {
     "end_time": "2021-08-22T08:39:37.223177Z",
     "start_time": "2021-08-22T08:39:35.846810Z"
    }
   },
   "outputs": [],
   "source": [
    "import pandas as pd\n",
    "import numpy as np\n",
    "import dill\n",
    "import torch.nn as nn\n",
    "import torch\n",
    "import seaborn as sns; sns.set()\n",
    "import matplotlib.pyplot as plt\n",
    "import os\n",
    "import Graphs\n",
    "import networkx as nx\n",
    "import torch.optim as optim\n",
    "import random\n",
    "import copy\n",
    "from collections import defaultdict\n",
    "from torch.utils.data import TensorDataset, DataLoader\n",
    "from torch.optim.optimizer import required\n",
    "from torchinfo import summary\n",
    "from sklearn.preprocessing import MinMaxScaler, StandardScaler\n",
    "from statsmodels.graphics.tsaplots import plot_acf"
   ]
  },
  {
   "cell_type": "code",
   "execution_count": 6,
   "metadata": {
    "ExecuteTime": {
     "end_time": "2021-08-22T08:39:37.227323Z",
     "start_time": "2021-08-22T08:39:37.225091Z"
    }
   },
   "outputs": [],
   "source": [
    "bkdatafolder = \"/Users/Slaton/Documents/DMFW/BangkokDataAnalysis/gitdecenlearn/BKDataCleaned/\"\n",
    "dataset_name = os.listdir(bkdatafolder)"
   ]
  },
  {
   "cell_type": "code",
   "execution_count": 7,
   "metadata": {
    "ExecuteTime": {
     "end_time": "2021-08-22T08:39:37.244636Z",
     "start_time": "2021-08-22T08:39:37.228688Z"
    },
    "code_folding": [
     68
    ]
   },
   "outputs": [],
   "source": [
    "def createDictFloor(floor_name):\n",
    "    getdict = {}\n",
    "    floors = [floor for floor in dataset_name if floor_name in floor]\n",
    "    for name in floors:\n",
    "        floorname = name.split(\".\")[0]\n",
    "        getdict[floorname] = pd.read_csv(bkdatafolder+name, index_col=0, parse_dates=[\"Date\"])\n",
    "        getdict[floorname] = getdict[floorname].sort_index()\n",
    "    return getdict\n",
    "\n",
    "def Missing_values(data):\n",
    "    total = data.isnull().sum().sort_values(ascending=False)\n",
    "    percent = (data.isnull().sum()/data.isnull().count()).sort_values(ascending=False)\n",
    "    missing_data = pd.concat([total,percent], axis=1, keys=['Total', 'Pourcentage'])\n",
    "    print (missing_data[(percent>0)],'\\n' )\n",
    "\n",
    "def seed_everything(seed=0):\n",
    "    random.seed(seed)\n",
    "    os.environ['PYTHONHASHSEED'] = str(seed)\n",
    "    np.random.seed(seed)\n",
    "    torch.manual_seed(seed)\n",
    "    torch.cuda.manual_seed(seed)\n",
    "    torch.backends.cudnn.deterministic = True\n",
    "    \n",
    "def createPlot(date1, date2, features, data):\n",
    "    for floor in data.keys():\n",
    "        data[floor].resample(\"5T\").mean()[features][date1:date2].plot(figsize=(20,7))\n",
    "        \n",
    "\n",
    "def createDTFeat(date1, date2, datadict, features, resample_method=\"sum\" ,scale=True):\n",
    "    resample_move = {}\n",
    "    index_nan = {}\n",
    "    index_small = {}\n",
    "    floors = list(datadict.keys())\n",
    "    dates = []\n",
    "    scalers = {}\n",
    "    for data in datadict.keys():\n",
    "        if resample_method == \"sum\":\n",
    "            resample_move[data] = floor_dict[data][date1:date2].resample(\n",
    "                \"5min\").sum()\n",
    "            \n",
    "        elif resample_method == \"max\":\n",
    "            resample_move[data] = floor_dict[data][date1:date2].resample(\n",
    "                \"5min\").max().bfill()\n",
    "        elif resample_method == \"mean\":\n",
    "            resample_move[data] = floor_dict[data][date1:date2].resample(\n",
    "                \"5min\").mean().bfill()\n",
    "            \n",
    "        cols = resample_move[data].columns\n",
    "        idx = resample_move[data].index\n",
    "\n",
    "        if scale:\n",
    "            scaler = MinMaxScaler(feature_range=(0.2,1))\n",
    "            scaler.fit(resample_move[data])\n",
    "            resample_move[data] = pd.DataFrame(scaler.transform(\n",
    "                resample_move[data]),\n",
    "                                               columns=cols,\n",
    "                                               index=idx)\n",
    "            scalers[data] = scaler\n",
    "\n",
    "        resample_move[data][\"weekday\"] = resample_move[data].index.day_name()\n",
    "        resample_move[data][\"date\"] = resample_move[data].index.date\n",
    "        resample_move[data][\"time\"] = resample_move[data].index.time\n",
    "\n",
    "        nan = np.where(pd.isnull(resample_move[data][features]))[0]\n",
    "        index_nan[data] = np.unique(resample_move[data].iloc[nan][\"time\"])\n",
    "\n",
    "    return resample_move, scalers, index_nan\n",
    "\n",
    "def getInfoTimeShape(datadict):\n",
    "    for floor in datadict.keys():\n",
    "        data = datadict[floor]\n",
    "        print(\"Floor : {} , shape :{} , TimeMin {} , TimeMax {}\".format(floor,data.shape, data.index.min(), data.index.max()))\n",
    "        Missing_values(data)\n",
    "        \n",
    "def cleanNan(data,idx_nan):\n",
    "    index=[]\n",
    "    for k,v in idx_nan.items():\n",
    "        for ele in v:\n",
    "            index.append(ele)\n",
    "    mynan = set(index)\n",
    "    newdata = data.copy()\n",
    "    remain_date = []\n",
    "    for floor in idx_nan.keys():\n",
    "        datafloor = data[floor]\n",
    "        todropnan = datafloor[datafloor[\"date\"].isin(list(mynan))].index\n",
    "        datafloor = datafloor.drop(todropnan)\n",
    "        newdata[floor] = datafloor\n",
    "        for date in datafloor[\"date\"]:\n",
    "            remain_date.append(str(date))\n",
    "    remain_date = sorted(set(remain_date))\n",
    "    return data, remain_date"
   ]
  },
  {
   "cell_type": "code",
   "execution_count": 8,
   "metadata": {
    "ExecuteTime": {
     "end_time": "2021-08-22T08:39:39.301874Z",
     "start_time": "2021-08-22T08:39:37.489847Z"
    }
   },
   "outputs": [
    {
     "name": "stdout",
     "output_type": "stream",
     "text": [
      "Floor7Z4 Start: 2019-03-06 14:46:00 End: 2019-12-31 23:59:00 Count:416243\n",
      "\n",
      "Floor7Z5 Start: 2019-03-06 14:55:00 End: 2019-12-31 23:59:00 Count:407698\n",
      "\n",
      "Floor7Z2 Start: 2019-03-06 14:48:00 End: 2019-12-31 23:59:00 Count:424701\n",
      "\n",
      "Floor7Z1 Start: 2019-03-06 14:50:00 End: 2019-12-31 23:59:00 Count:424099\n",
      "\n"
     ]
    }
   ],
   "source": [
    "date1 = \"2019-03-07\"\n",
    "date2 = \"2019-12-31\"\n",
    "floor = 7\n",
    "floor_dict = createDictFloor(f\"Floor{floor}\")\n",
    "for data in floor_dict.keys():\n",
    "    zone = floor_dict[data]\n",
    "    print(\"{} Start: {} End: {} Count:{}\".format(data,zone.index.min(),zone.index.max(), zone.shape[0]))\n",
    "    print(\"\")"
   ]
  },
  {
   "cell_type": "code",
   "execution_count": 26,
   "metadata": {
    "ExecuteTime": {
     "end_time": "2021-08-22T08:45:59.047371Z",
     "start_time": "2021-08-22T08:45:59.044031Z"
    }
   },
   "outputs": [],
   "source": [
    "ac = floor_dict[\"Floor7Z5\"][\"ACPower\"].values"
   ]
  },
  {
   "cell_type": "code",
   "execution_count": 27,
   "metadata": {
    "ExecuteTime": {
     "end_time": "2021-08-22T08:45:59.540979Z",
     "start_time": "2021-08-22T08:45:59.434570Z"
    }
   },
   "outputs": [
    {
     "data": {
      "text/plain": [
       "(array([3.29277e+05, 1.96300e+03, 5.06990e+04, 1.10700e+03, 1.24580e+04,\n",
       "        1.21930e+04, 0.00000e+00, 0.00000e+00, 0.00000e+00, 1.00000e+00]),\n",
       " array([ 0.  ,  3.71,  7.42, 11.13, 14.84, 18.55, 22.26, 25.97, 29.68,\n",
       "        33.39, 37.1 ]),\n",
       " <BarContainer object of 10 artists>)"
      ]
     },
     "execution_count": 27,
     "metadata": {},
     "output_type": "execute_result"
    },
    {
     "data": {
      "image/png": "[encoded data removed]",
      "text/plain": [
       "<Figure size 432x288 with 1 Axes>"
      ]
     },
     "metadata": {},
     "output_type": "display_data"
    }
   ],
   "source": [
    "plt.hist(ac)"
   ]
  },
  {
   "cell_type": "code",
   "execution_count": 17,
   "metadata": {
    "ExecuteTime": {
     "end_time": "2021-08-22T08:41:23.974693Z",
     "start_time": "2021-08-22T08:41:23.733784Z"
    }
   },
   "outputs": [
    {
     "data": {
      "text/plain": [
       "<AxesSubplot:xlabel='Date'>"
      ]
     },
     "execution_count": 17,
     "metadata": {},
     "output_type": "execute_result"
    },
    {
     "data": {
      "image/png": "[encoded data removed]",
      "text/plain": [
       "<Figure size 720x360 with 1 Axes>"
      ]
     },
     "metadata": {},
     "output_type": "display_data"
    }
   ],
   "source": [
    "plt.figure(figsize=(10,5))\n",
    "floor_dict[\"Floor7Z1\"][\"ACPower\"][0:20000].plot()"
   ]
  },
  {
   "cell_type": "code",
   "execution_count": 400,
   "metadata": {
    "ExecuteTime": {
     "end_time": "2021-08-21T22:11:45.434816Z",
     "start_time": "2021-08-21T22:11:44.987700Z"
    }
   },
   "outputs": [],
   "source": [
    "feature = \"temperature\"\n",
    "resample_method = \"max\"\n",
    "resample,scalers, index_nan = createDTFeat(date1, date2, floor_dict, feature,resample_method=resample_method)\n",
    "cleanedData, remain_date = cleanNan(resample, index_nan)"
   ]
  },
  {
   "cell_type": "code",
   "execution_count": 401,
   "metadata": {
    "ExecuteTime": {
     "end_time": "2021-08-21T22:11:45.527251Z",
     "start_time": "2021-08-21T22:11:45.435486Z"
    }
   },
   "outputs": [
    {
     "name": "stdout",
     "output_type": "stream",
     "text": [
      "Floor : Floor7Z4 , shape :(86400, 9) , TimeMin 2019-03-07 00:00:00 , TimeMax 2019-12-31 23:55:00\n",
      "Empty DataFrame\n",
      "Columns: [Total, Pourcentage]\n",
      "Index: [] \n",
      "\n",
      "Floor : Floor7Z5 , shape :(86400, 9) , TimeMin 2019-03-07 00:00:00 , TimeMax 2019-12-31 23:55:00\n",
      "Empty DataFrame\n",
      "Columns: [Total, Pourcentage]\n",
      "Index: [] \n",
      "\n",
      "Floor : Floor7Z2 , shape :(86400, 9) , TimeMin 2019-03-07 00:00:00 , TimeMax 2019-12-31 23:55:00\n",
      "Empty DataFrame\n",
      "Columns: [Total, Pourcentage]\n",
      "Index: [] \n",
      "\n",
      "Floor : Floor7Z1 , shape :(86400, 9) , TimeMin 2019-03-07 00:00:00 , TimeMax 2019-12-31 23:55:00\n",
      "Empty DataFrame\n",
      "Columns: [Total, Pourcentage]\n",
      "Index: [] \n",
      "\n"
     ]
    }
   ],
   "source": [
    "getInfoTimeShape(cleanedData)"
   ]
  },
  {
   "cell_type": "markdown",
   "metadata": {},
   "source": [
    "# Create Slice"
   ]
  },
  {
   "cell_type": "code",
   "execution_count": 402,
   "metadata": {
    "ExecuteTime": {
     "end_time": "2021-08-21T22:11:45.534124Z",
     "start_time": "2021-08-21T22:11:45.528519Z"
    }
   },
   "outputs": [],
   "source": [
    "def rolling_window(series, window_size):\n",
    "    return np.array([series[i : (i + window_size)] for i in range(0, series.shape[0] - window_size + 1)])\n",
    "\n",
    "def to_timeseries_input(series, lookback, predictions):\n",
    "    inputs = rolling_window(series[:-predictions], lookback)\n",
    "    outputs = rolling_window(series[lookback:], predictions)\n",
    "    return inputs, outputs\n",
    "\n",
    "def createDataByDate(datadict, features, dates):\n",
    "    databyDate = defaultdict(lambda : defaultdict(dict))\n",
    "    for date in dates:\n",
    "        for floor in datadict.keys():\n",
    "            databyDate[date][floor] = np.asarray(datadict[floor][date][features])\n",
    "    return databyDate\n",
    "\n",
    "def splitDate(dates,cutoff):\n",
    "    train_date = [x for x in dates if x <= cutoff]\n",
    "    test_date = sorted(list(set(dates) - set(train_date)))\n",
    "    return train_date, test_date\n",
    "\n",
    "def getInfoDataByDate(data, dates):\n",
    "    for date in dates:\n",
    "        print(\"Date : {}\".format(date))\n",
    "        for floor in data[date]:\n",
    "            print(\"{} shape : {}\".format(floor,data[date][floor].shape))\n",
    "            \n",
    "def LoaderByZone(data,zone_name,dates, lookback, lookahead, batch_size, shuffle=False):\n",
    "    loaderZ = {}\n",
    "    for i,date in enumerate(dates):\n",
    "        haruharu = data[date][zone_name]\n",
    "        trainx, trainy = to_timeseries_input(haruharu, lookback, lookahead)\n",
    "        xshape = torch.tensor(trainx, dtype=torch.float).unsqueeze(-1)\n",
    "        yshape = torch.tensor(trainy, dtype=torch.float)\n",
    "        tensorwrap = TensorDataset(xshape,yshape)\n",
    "        loaderxy = DataLoader(tensorwrap,batch_size = batch_size, shuffle=shuffle, drop_last=True)\n",
    "        loaderZ[date] = loaderxy\n",
    "    return loaderZ"
   ]
  },
  {
   "cell_type": "code",
   "execution_count": 403,
   "metadata": {
    "ExecuteTime": {
     "end_time": "2021-08-21T22:11:45.762689Z",
     "start_time": "2021-08-21T22:11:45.682199Z"
    }
   },
   "outputs": [
    {
     "name": "stdout",
     "output_type": "stream",
     "text": [
      "Floor7Z4 Start: 2019-03-07 00:00:00 End: 2019-12-31 23:55:00 Count:86400\n",
      "Floor7Z4 Dates: 300\n",
      "Floor7Z5 Start: 2019-03-07 00:00:00 End: 2019-12-31 23:55:00 Count:86400\n",
      "Floor7Z5 Dates: 300\n",
      "Floor7Z2 Start: 2019-03-07 00:00:00 End: 2019-12-31 23:55:00 Count:86400\n",
      "Floor7Z2 Dates: 300\n",
      "Floor7Z1 Start: 2019-03-07 00:00:00 End: 2019-12-31 23:55:00 Count:86400\n",
      "Floor7Z1 Dates: 300\n"
     ]
    }
   ],
   "source": [
    "for data in cleanedData.keys():\n",
    "    zone = cleanedData[data]\n",
    "    print(\"{} Start: {} End: {} Count:{}\".format(data,zone.index.min(),zone.index.max(), zone.shape[0]))\n",
    "    print(\"{} Dates: {}\".format(data,len(np.unique(zone[\"date\"]))))"
   ]
  },
  {
   "cell_type": "code",
   "execution_count": 404,
   "metadata": {
    "ExecuteTime": {
     "end_time": "2021-08-21T22:11:47.671355Z",
     "start_time": "2021-08-21T22:11:47.400404Z"
    }
   },
   "outputs": [
    {
     "name": "stderr",
     "output_type": "stream",
     "text": [
      "/var/folders/wm/ymsmhgr90dd6gyprvtgvcr080000gn/T/ipykernel_11504/1317003053.py:13: FutureWarning: Indexing a DataFrame with a datetimelike index using a single string to slice the rows, like `frame[string]`, is deprecated and will be removed in a future version. Use `frame.loc[string]` instead.\n",
      "  databyDate[date][floor] = np.asarray(datadict[floor][date][features])\n"
     ]
    }
   ],
   "source": [
    "cutting_date = \"2019-05-08\"\n",
    "train_date, test_date = splitDate(remain_date, cutting_date)\n",
    "databyDate = createDataByDate(cleanedData, feature, remain_date)\n",
    "#getInfoDataByDate(databyDate, train_date)"
   ]
  },
  {
   "cell_type": "code",
   "execution_count": 405,
   "metadata": {
    "ExecuteTime": {
     "end_time": "2021-08-21T22:11:47.793527Z",
     "start_time": "2021-08-21T22:11:47.791161Z"
    }
   },
   "outputs": [],
   "source": [
    "def getRatio(ratio, lookbackinit):\n",
    "    lookahead = int(ratio*lookbackinit)\n",
    "    return lookahead"
   ]
  },
  {
   "cell_type": "code",
   "execution_count": 406,
   "metadata": {
    "ExecuteTime": {
     "end_time": "2021-08-21T22:11:49.889945Z",
     "start_time": "2021-08-21T22:11:49.620199Z"
    }
   },
   "outputs": [],
   "source": [
    "z1 = \"Floor7Z1\"\n",
    "z2 = \"Floor7Z2\"\n",
    "z4 = \"Floor7Z4\"\n",
    "z5 = \"Floor7Z5\"\n",
    "\n",
    "lookback = 13\n",
    "lookahead = 1\n",
    "batch_size = 32\n",
    "loaderZ1train = LoaderByZone(databyDate, z1, train_date, lookback, lookahead, batch_size, shuffle=True)\n",
    "loaderZ1test = LoaderByZone(databyDate, z1, test_date, lookback, lookahead, batch_size)\n",
    "\n",
    "loaderZ2train = LoaderByZone(databyDate, z2, train_date, lookback, lookahead, batch_size, shuffle=True)\n",
    "loaderZ2test = LoaderByZone(databyDate, z2, test_date, lookback, lookahead, batch_size)\n",
    "\n",
    "loaderZ4train = LoaderByZone(databyDate, z4, train_date, lookback, lookahead, batch_size, shuffle=True)\n",
    "loaderZ4test = LoaderByZone(databyDate, z4, test_date, lookback, lookahead, batch_size)\n",
    "\n",
    "loaderZ5train = LoaderByZone(databyDate, z5, train_date, lookback, lookahead, batch_size, shuffle=True)\n",
    "loaderZ5test = LoaderByZone(databyDate, z5, test_date, lookback, lookahead, batch_size)"
   ]
  },
  {
   "cell_type": "code",
   "execution_count": 407,
   "metadata": {
    "ExecuteTime": {
     "end_time": "2021-08-21T22:11:50.349889Z",
     "start_time": "2021-08-21T22:11:50.348226Z"
    }
   },
   "outputs": [],
   "source": [
    "trainloader = [loaderZ1train, loaderZ2train, loaderZ4train, loaderZ5train]"
   ]
  },
  {
   "cell_type": "code",
   "execution_count": 408,
   "metadata": {
    "ExecuteTime": {
     "end_time": "2021-08-21T22:11:50.679165Z",
     "start_time": "2021-08-21T22:11:50.676565Z"
    }
   },
   "outputs": [
    {
     "data": {
      "text/plain": [
       "504"
      ]
     },
     "execution_count": 408,
     "metadata": {},
     "output_type": "execute_result"
    }
   ],
   "source": [
    "nb_iterations = len(train_date)*len(loaderZ2train[\"2019-03-08\"])\n",
    "nb_iterations"
   ]
  },
  {
   "cell_type": "markdown",
   "metadata": {},
   "source": [
    "# Algorithm"
   ]
  },
  {
   "cell_type": "code",
   "execution_count": 409,
   "metadata": {
    "ExecuteTime": {
     "end_time": "2021-08-21T22:11:53.223665Z",
     "start_time": "2021-08-21T22:11:53.218232Z"
    },
    "code_folding": [
     0,
     14
    ]
   },
   "outputs": [],
   "source": [
    "def proj_2shape(x,s=8):\n",
    "    shape = x.shape\n",
    "    if torch.linalg.norm(x,ord=1)==s and torch.all(x>0):\n",
    "        return x\n",
    "    u,_ = torch.sort(torch.abs(x),dim=0,descending=True)\n",
    "    cumsum = torch.cumsum(u, dim=0)\n",
    "    arange = torch.arange(1, shape[0]+1)\n",
    "    rep_arange = arange.unsqueeze(1).repeat(1,shape[1])\n",
    "    rho = torch.count_nonzero((u*rep_arange > (cumsum - s)), dim=0)\n",
    "    theta = (cumsum[rho-1, torch.arange(0,shape[1])] - s)/rho\n",
    "    proj = (torch.abs(x)-theta).clamp(min=0)\n",
    "    proj*= torch.sign(x)\n",
    "    return proj\n",
    "\n",
    "def proj_l1(x, s=8):\n",
    "    shape = x.shape\n",
    "    if len(shape) == 4:\n",
    "        proj = torch.zeros_like(x)\n",
    "        for first_dim in range(x.shape[0]):\n",
    "            for second_dim in range(x.shape[1]):\n",
    "                inner_tensor = x[first_dim][second_dim]\n",
    "                inner_proj = proj_2shape(inner_tensor,s=s)\n",
    "                proj[first_dim][second_dim] = inner_proj\n",
    "                \n",
    "    elif len(shape) == 3:\n",
    "        proj = torch.zeros_like(x)\n",
    "        for first_dim in range(x.shape[0]):\n",
    "            inner_tensor = x[first_dim]\n",
    "            inner_proj = proj_2shape(inner_tensor,s=s)\n",
    "            proj[first_dim] = inner_proj\n",
    "        \n",
    "    elif len(shape) == 2:\n",
    "        proj = proj_2shape(x,s=s)\n",
    "        \n",
    "    elif len(shape) == 1:\n",
    "        u,_ = torch.sort(torch.abs(x),descending=True)\n",
    "        cumsum = torch.cumsum(u,dim=0)\n",
    "        arange = torch.arange(1,shape[0]+1)\n",
    "        rho = torch.count_nonzero((u*arange > (cumsum - s)))\n",
    "        theta = (cumsum[rho-1] - s)/rho\n",
    "        proj = (torch.abs(x)-theta).clamp(min=0)\n",
    "        proj*= torch.sign(x)\n",
    "    return proj"
   ]
  },
  {
   "cell_type": "code",
   "execution_count": 413,
   "metadata": {
    "ExecuteTime": {
     "end_time": "2021-08-21T22:12:17.456206Z",
     "start_time": "2021-08-21T22:12:17.451664Z"
    },
    "code_folding": [
     0,
     16
    ]
   },
   "outputs": [],
   "source": [
    "def simpleLMO(x,radius,p=1):\n",
    "    tolerance = 1e-10\n",
    "    if p == 1:\n",
    "        v = torch.zeros_like(x)\n",
    "        maxIdx = torch.argmax(torch.abs(x))\n",
    "        v.view(-1)[maxIdx] = -radius * torch.sign(x.view(-1)[maxIdx])\n",
    "        return v\n",
    "    elif p == 2:\n",
    "        x_norm = float(torch.norm(x, p=2))\n",
    "        if x_norm > tolerance:\n",
    "            return -radius * x.div(x_norm)\n",
    "        else:\n",
    "            return torch.zeros_like(x)\n",
    "    elif p == float('inf'):\n",
    "        return torch.full_like(x, fill_value=radius).masked_fill_(x > 0, -radius)\n",
    "\n",
    "def simpleProject(x,radius,p=1):\n",
    "    if p==1:\n",
    "        x_norm = torch.norm(x, p=1)\n",
    "        if x_norm > radius:\n",
    "            sorted_ = torch.sort(torch.abs(x.flatten()), descending=True).values\n",
    "            running_mean = (torch.cumsum(sorted_, 0) - radius)/torch.arange(1,sorted_.numel() + 1)                                                                                  \n",
    "            is_less_or_equal = sorted_ <= running_mean\n",
    "            idx = is_less_or_equal.numel() - is_less_or_equal.sum() - 1\n",
    "            return torch.sign(x) * torch.max(torch.abs(x) - running_mean[idx], torch.zeros_like(x))\n",
    "        else:\n",
    "            return x\n",
    "    elif p == 2:\n",
    "        x_norm = torch.norm(x, p=2)\n",
    "        return radius * x.div(x_norm) if x_norm > radius else x\n",
    "    elif p == float('inf'):\n",
    "        return torch.clamp(x, min=-radius, max=radius)"
   ]
  },
  {
   "cell_type": "code",
   "execution_count": 414,
   "metadata": {
    "ExecuteTime": {
     "end_time": "2021-08-21T22:12:23.739622Z",
     "start_time": "2021-08-21T22:12:23.734716Z"
    },
    "code_folding": []
   },
   "outputs": [],
   "source": [
    "def lmo(x,radius):\n",
    "    \"\"\"Returns v with norm(v, self.p) <= r minimizing v*x\"\"\"\n",
    "    shape = x.shape\n",
    "    if len(shape) == 4:\n",
    "        v = torch.zeros_like(x)\n",
    "        for first_dim in range(shape[0]):\n",
    "            for second_dim in range(shape[1]):\n",
    "                inner_x = x[first_dim][second_dim]\n",
    "                rows, cols = x[first_dim][second_dim].shape\n",
    "                v[first_dim][second_dim] = torch.zeros_like(inner_x)\n",
    "                maxIdx = torch.argmax(torch.abs(inner_x),0)\n",
    "                for col in range(cols):\n",
    "                    v[first_dim][second_dim][maxIdx[col],col] = -radius*torch.sign(inner_x[maxIdx[col],col])\n",
    "    elif len(shape) == 3:\n",
    "        v = torch.zeros_like(x)\n",
    "        for first_dim in range(shape[0]):\n",
    "            inner_x = x[first_dim]\n",
    "            rows, cols = x[first_dim].shape\n",
    "            v[first_dim] = torch.zeros_like(inner_x)\n",
    "            maxIdx = torch.argmax(torch.abs(inner_x),0)\n",
    "            for col in range(cols):\n",
    "                v[first_dim][maxIdx[col],col] = -radius*torch.sign(inner_x[maxIdx[col],col])\n",
    "                    \n",
    "    elif len(shape)==2:\n",
    "        rows, cols = x.shape\n",
    "        v = torch.zeros_like(x)\n",
    "        maxIdx = torch.argmax(torch.abs(x),0)\n",
    "        for col in range(cols):\n",
    "            v[maxIdx[col],col] = -radius*torch.sign(x[maxIdx[col],col])\n",
    "                \n",
    "    else : \n",
    "        v = torch.zeros_like(x)\n",
    "        maxIdx = torch.argmax(torch.abs(x))\n",
    "        v.view(-1)[maxIdx] = -radius * torch.sign(x.view(-1)[maxIdx])\n",
    "    return v"
   ]
  },
  {
   "cell_type": "code",
   "execution_count": 415,
   "metadata": {
    "ExecuteTime": {
     "end_time": "2021-08-21T22:12:23.980472Z",
     "start_time": "2021-08-21T22:12:23.970503Z"
    },
    "code_folding": [
     0
    ]
   },
   "outputs": [],
   "source": [
    "class DMFW(optim.Optimizer):\n",
    "    def __init__(self, params, eta_coef=required, eta_exp=required, L=required, matrix_line=required, reg_coef=required,radius=required):\n",
    "        if eta_coef is not required and eta_coef <=0.:\n",
    "            raise ValueError(\"Invalid eta : {}\".format(eta_coef))\n",
    "        if eta_exp is not required and (eta_exp == 0.5):\n",
    "            raise ValueError(\"Invalid eta_exp : {}\".format(eta_exp))\n",
    "        defaults = dict(eta_coef=eta_coef, eta_exp=eta_exp,L=L, matrix_line=matrix_line,reg_coef = reg_coef,radius=radius)\n",
    "        super(DMFW,self).__init__(params,defaults)\n",
    "\n",
    "        for group in self.param_groups:\n",
    "            self.eta_coef = group[\"eta_coef\"]\n",
    "            self.eta_exp = group[\"eta_exp\"]\n",
    "            self.reg_coef = group[\"reg_coef\"]\n",
    "            self.A = group[\"matrix_line\"]\n",
    "            self.L = group[\"L\"]\n",
    "            self.radius = group[\"radius\"]\n",
    "        self.num_layers = len(self.param_groups[0]['params'])\n",
    "        self.dim = [k.shape for k in self.param_groups[0]['params']]\n",
    "        self.G = [[torch.rand(k) for k in self.dim] for l in range(self.L)]\n",
    "        \n",
    "    @torch.no_grad()\n",
    "    def initValue(self,closure):\n",
    "        self.w_dict = defaultdict(dict)\n",
    "        for group in self.param_groups:\n",
    "            if closure is not None:\n",
    "                with torch.enable_grad():\n",
    "                    closure()\n",
    "            for k,weight in enumerate(group[\"params\"]):\n",
    "                if weight.grad is None:\n",
    "                    raise ValueError(\"Gradient is None\")\n",
    "                self.w_dict[k][\"g\"] = weight.grad.detach().clone()\n",
    "                self.w_dict[k][\"w\"] = weight.detach().clone()\n",
    "                \n",
    "    def neighborsAverage(self, neighbors):\n",
    "        for group in self.param_groups:\n",
    "            for k,weight in enumerate(group[\"params\"]):\n",
    "                weighted_tmp = torch.zeros(self.dim[k])\n",
    "                weighted_grad_tmp = torch.zeros(self.dim[k])\n",
    "                for j in range(len(neighbors)):\n",
    "                    weighted_tmp += self.A[j]*neighbors[j].w_dict[k][\"w\"]\n",
    "                    weighted_grad_tmp += self.A[j]*neighbors[j].w_dict[k][\"g\"]\n",
    "                self.w_dict[k][\"y\"] = weighted_tmp\n",
    "                self.w_dict[k][\"ds\"] = weighted_grad_tmp\n",
    "                \n",
    "\n",
    "    def step(self, l, closure):\n",
    "        if l == 0:\n",
    "            self.init_gap = 0\n",
    "        eta = min(self.eta_coef/(l+1)**self.eta_exp, 1)\n",
    "        for group in self.param_groups:\n",
    "            if closure is not None:\n",
    "                with torch.enable_grad():\n",
    "                    closure()\n",
    "            self.gap = 0\n",
    "            for k,weight in enumerate(group[\"params\"]):\n",
    "                a = lmo(weight.grad.data,self.radius)\n",
    "                self.gap += torch.sum(torch.mul(weight.grad.data, weight.data - a))\n",
    "                v = proj_l1(self.G[l][k], s=self.radius)\n",
    "                #v = lmo(self.G[l][k] - 0.5 + torch.rand_like(self.G[l][k]), s= self.radius)\n",
    "                if weight.grad is None:\n",
    "                    raise ValueError(\"Grad is None\")\n",
    "                self.w_dict[k][\"grad_old\"] = weight.grad.detach().clone()\n",
    "                weight.data = self.w_dict[k]['y']*(1-eta) + eta*v\n",
    "                #print(\"weight {}\".format(torch.linalg.norm(weight.data,ord=1,dim=0)))\n",
    "                self.w_dict[k][\"w\"] = weight.detach().clone()\n",
    "                \n",
    "            self.init_gap += self.gap\n",
    "            self.init_gap /= (l+1)\n",
    "            \n",
    "            \n",
    "            with torch.enable_grad():\n",
    "                closure()\n",
    "            for k,weight in enumerate(group[\"params\"]):\n",
    "                self.G[l][k] -= 0.5*self.w_dict[k][\"ds\"]*self.reg_coef\n",
    "                #self.G[l][k] += self.w_dict[k][\"ds\"]*self.reg_coef\n",
    "                if weight.grad is None :\n",
    "                    raise ValueError(\"Grad is none\")\n",
    "                weight.grad.add_(-self.w_dict[k][\"grad_old\"])\n",
    "                self.w_dict[k][\"g\"] = weight.grad.detach().clone() + self.w_dict[k][\"ds\"]\n",
    "                "
   ]
  },
  {
   "cell_type": "code",
   "execution_count": 416,
   "metadata": {
    "ExecuteTime": {
     "end_time": "2021-08-21T22:12:24.350799Z",
     "start_time": "2021-08-21T22:12:24.335710Z"
    },
    "code_folding": []
   },
   "outputs": [],
   "source": [
    "class Trainer:\n",
    "    def __init__(self, graph, loaders, model, model_param, loss,\n",
    "                 num_iterations):\n",
    "        self.graph = graph\n",
    "        self.num_nodes = graph.number_of_nodes()\n",
    "        self.model = model\n",
    "        self.param = model_param\n",
    "        self.A = torch.tensor(nx.adjacency_matrix(graph).toarray())\n",
    "        self.dataloader = loaders\n",
    "        self.num_iterations = num_iterations\n",
    "        self.loss = loss\n",
    "        self.obj_values = np.ndarray((self.num_iterations + 1, 4),\n",
    "                                     dtype='float')\n",
    "\n",
    "        self.optimizers = [0.] * self.num_nodes\n",
    "        self.models = [0.] * self.num_nodes\n",
    "        self.losses = [0.] * self.num_nodes\n",
    "        #self.gaps = [0.]*self.num_nodes\n",
    "\n",
    "    def reset(self):\n",
    "        self.optimizers = [0.] * self.num_nodes\n",
    "        self.models = [0.] * self.num_nodes\n",
    "        self.losses = [0.] * self.num_nodes\n",
    "        self.gaps = [0.] * self.num_nodes\n",
    "        self.best_models = [0.]*self.num_nodes\n",
    "\n",
    "        self.obj_values = np.ndarray((self.num_iterations + 1, 4),\n",
    "                                     dtype='float')\n",
    "        \n",
    "    def __nodeInit(self, data, label):\n",
    "        nodewrap = TensorDataset(data, label)\n",
    "        nodes = DataLoader(nodewrap, batch_size=data.size(0), shuffle=False)\n",
    "        return nodes\n",
    "\n",
    "    def weight_reset(self, layer):\n",
    "        if isinstance(layer, nn.BatchNorm1d) or isinstance(layer, nn.Linear) or isinstance(layer,nn.Conv1d):\n",
    "            layer.reset_parameters()\n",
    "            \n",
    "    def initModelWeight(self, model):\n",
    "        for name,param in model.named_parameters():\n",
    "            if 'bias' in name:\n",
    "                nn.init.constant_(param,0.)\n",
    "            elif 'weight' in name:\n",
    "                if not 'batch' in name:\n",
    "                    nn.init.xavier_normal_(param)\n",
    "                else:\n",
    "                    nn.init.uniform_(param)\n",
    "\n",
    "    def saveCheckPts(self, t, path):\n",
    "        check_pts = {}\n",
    "        for i in range(self.num_nodes):\n",
    "            ckp_i = {\n",
    "                \"t\": t,\n",
    "                \"weight\": [param for param in self.models[i].parameters()],\n",
    "                \"optimizer_weight\": self.optimizers[i].w_dict,\n",
    "                \"oracles\": self.optimizers[i].G,\n",
    "                \"loss\": self.losses[i]\n",
    "            }  #,\n",
    "            #\"avg_loss\": self.avg_loss[i]}\n",
    "            check_pts[i] = ckp_i\n",
    "        torch.save(check_pts, path + \"checkpts_models\" + \"_\" + str(t) + \".tar\")\n",
    "        \n",
    "    def plotPrediction(self, true, pred,date,path_to_save):\n",
    "        fig = plt.figure(figsize=(5,3))\n",
    "        plt.suptitle(\"{}\".format(date))\n",
    "        plt.plot(true)\n",
    "        plt.plot(pred)\n",
    "        #plt.show()\n",
    "        fig.savefig(os.path.join(path_to_save,date))\n",
    "        plt.close()\n",
    "\n",
    "    def train(self, optimizer, L, eta_coef, eta_exp, reg_coef, radius, path_figure_date):\n",
    "        seed_everything()\n",
    "        self.reset()\n",
    "        \n",
    "        z1, z2, z4, z5 = self.dataloader\n",
    "\n",
    "        for i in range(self.num_nodes):\n",
    "            self.models[i] = self.model(*self.param)\n",
    "            self.optimizers[i] = optimizer(self.models[i].parameters(),\n",
    "                                           eta_coef=eta_coef,\n",
    "                                           eta_exp=eta_exp,\n",
    "                                           L=L,\n",
    "                                           matrix_line=self.A[i],\n",
    "                                           reg_coef=reg_coef,\n",
    "                                           radius=radius)\n",
    "            self.best_models[i] = copy.deepcopy(self.models[i])\n",
    "\n",
    "        self.final_gap = [0.] * self.num_nodes\n",
    "        \n",
    "        t = 0\n",
    "        \n",
    "        for date in z1.keys():\n",
    "            '''\n",
    "            for i,loader in enumerate(self.dataloader):\n",
    "                truez, predz = ModelPrediction(self.best_models[i], date, loader,lookahead)\n",
    "                path = path_figure_date+\"/Model_\"+str(i)+\"/\"\n",
    "                if not os.path.exists(path):\n",
    "                    os.makedirs(path)\n",
    "                self.plotPrediction(truez, predz,date,path_to_save=path)'''\n",
    "            \n",
    "            for (couple1, couple2, couple4,couple5) in zip(z1[date],z2[date], z4[date], z5[date]):\n",
    "                datazones = [self.__nodeInit(*couple1), \n",
    "                             self.__nodeInit(*couple2),\n",
    "                             self.__nodeInit(*couple4),\n",
    "                             self.__nodeInit(*couple5)]\n",
    "                \n",
    "\n",
    "                for i in range(self.num_nodes):\n",
    "                    self.initModelWeight(self.models[i])\n",
    "                    self.models[i].train()\n",
    "\n",
    "                    def closure():\n",
    "                        self.optimizers[i].zero_grad(set_to_none=True)\n",
    "                        x, y = iter(datazones[i]).next()\n",
    "                        output = self.models[i](x)\n",
    "                        loss = self.loss(output,y)\n",
    "                        loss.backward()\n",
    "\n",
    "                    self.optimizers[i].initValue(closure)\n",
    "                \n",
    "                opt_index = np.random.randint(low=0,high=L, size=1)\n",
    "                #print(f'Optimal L : {opt_index}')\n",
    "                \n",
    "                for l in range(L):\n",
    "                    #print(\"--------------------------\")\n",
    "                    \n",
    "                    if l==opt_index:\n",
    "                        for i in range(self.num_nodes):\n",
    "                            self.best_models[i] = copy.deepcopy(self.models[i])\n",
    "                    \n",
    "                    for i in range(self.num_nodes):\n",
    "                        self.optimizers[i].neighborsAverage(self.optimizers)\n",
    "                    for i in range(self.num_nodes):\n",
    "                        \n",
    "                        def closure():\n",
    "                            self.optimizers[i].zero_grad(set_to_none=True)\n",
    "                            x, y = iter(datazones[i]).next()\n",
    "                            output = self.models[i](x)\n",
    "                            loss = self.loss(output, y)\n",
    "                            loss.backward()\n",
    "                            \n",
    "                        self.optimizers[i].step(l, closure)\n",
    "\n",
    "                self.gaps_off = [0.] * self.num_nodes\n",
    "                for i in range(self.num_nodes):\n",
    "                    with torch.no_grad():\n",
    "                        self.best_models[i].eval()\n",
    "                        x, y = iter(datazones[i]).next()\n",
    "                        outputs = self.best_models[i](x)\n",
    "                        curr_loss = self.loss(outputs, y)\n",
    "                    self.final_gap[i] += self.optimizers[i].init_gap\n",
    "                    self.final_gap[i] /= (t + 1)\n",
    "                    self.gaps_off[i] = self.optimizers[i].init_gap\n",
    "                    self.losses[i] = curr_loss.detach().numpy()\n",
    "\n",
    "                loss = np.mean(self.losses)\n",
    "                gap = np.max(self.final_gap)  #.detach().numpy(\n",
    "                local_gap = np.max(self.gaps_off)\n",
    "                if t % 1 == 0:\n",
    "                    print(\"t_{} : loss : {:.5f} gap : {} local_gap {}\".format(\n",
    "                        t, loss, gap, local_gap))\n",
    "                    \n",
    "                self.obj_values[t, :] = [t, loss, gap, local_gap]\n",
    "                    \n",
    "                t+=1\n",
    "            \n",
    "\n",
    "        return self.obj_values"
   ]
  },
  {
   "cell_type": "code",
   "execution_count": 417,
   "metadata": {
    "ExecuteTime": {
     "end_time": "2021-08-21T22:12:24.743685Z",
     "start_time": "2021-08-21T22:12:24.736610Z"
    },
    "code_folding": [
     0,
     16,
     32
    ]
   },
   "outputs": [],
   "source": [
    "class Encoder(nn.Module):\n",
    "    def __init__(self, input_dim, hid_dim, n_layers=1):\n",
    "        super(Encoder,self).__init__()\n",
    "        self.input_dim = input_dim\n",
    "        self.hid_dim = hid_dim\n",
    "        self.n_layers = n_layers\n",
    "        self.lstm = nn.LSTM(input_dim, hid_dim, n_layers, batch_first=False, bias=False)\n",
    "        \n",
    "    def forward(self, seq):\n",
    "        outputs, self.hidden = self.lstm(seq.view(seq.shape[1],seq.shape[0],self.input_dim))\n",
    "        return outputs, self.hidden\n",
    "    \n",
    "    def init_hidden(self, batch_size):\n",
    "        return (torch.zeros(self.n_layers, batch_size, self.hid_dim),\n",
    "                torch.zeros(self.n_layers, batch_size, self.hid_dim))\n",
    "    \n",
    "class Decoder(nn.Module):\n",
    "    def __init__(self, input_dim, hid_dim, output_dim, n_layers=1):\n",
    "        super(Decoder,self).__init__()\n",
    "        self.input_dim = input_dim\n",
    "        self.output_dim = output_dim\n",
    "        self.hid_dim = hid_dim\n",
    "        self.n_layers = n_layers\n",
    "        \n",
    "        self.lstm = nn.LSTM(input_dim, hid_dim, n_layers, batch_first = False, bias=False)\n",
    "        self.fc = nn.Linear(hid_dim, output_dim)\n",
    "        \n",
    "    def forward(self, x, encoder_hidden):\n",
    "        lstm_out, self.hidden = self.lstm(x.unsqueeze(0), encoder_hidden)\n",
    "        output = self.fc(lstm_out.squeeze(0))\n",
    "        return output, self.hidden\n",
    "    \n",
    "class Seq2Seq(nn.Module):\n",
    "    def __init__(self, input_dim, hid_dim, output_dim, ts_out, forcing = 1):\n",
    "        super(Seq2Seq,self).__init__()\n",
    "        self.output_dim = output_dim\n",
    "        self.ts_out = ts_out\n",
    "        self.encoder = Encoder(input_dim, hid_dim)\n",
    "        self.decoder = Decoder(input_dim,hid_dim,output_dim)\n",
    "        self.forcing = forcing\n",
    "\n",
    "        \n",
    "    def forward(self, source, y=None):\n",
    "        batch_size = source.shape[0]\n",
    "        target_len = self.ts_out\n",
    "        outputs = torch.zeros(target_len, batch_size,self.output_dim)\n",
    "        encoder_hidden = self.encoder.init_hidden(batch_size)\n",
    "        encoder_output, encoder_hidden = self.encoder(source)\n",
    "        \n",
    "        decoder_input = source[:,-1,:]\n",
    "        decoder_hidden = encoder_hidden\n",
    "        \n",
    "        for t in range(target_len):\n",
    "            decoder_output, decoder_hidden = self.decoder(decoder_input, decoder_hidden)\n",
    "            outputs[t] = decoder_output\n",
    "            if (y is not None) and (t>1) and (torch.rand(1) < self.forcing):\n",
    "                decoder_input = y[:,t].unsqueeze(1)\n",
    "            else :\n",
    "                decoder_input = decoder_output\n",
    "        #print(outputs.shape)\n",
    "        return outputs.squeeze().permute(1,0)"
   ]
  },
  {
   "cell_type": "code",
   "execution_count": 418,
   "metadata": {
    "ExecuteTime": {
     "end_time": "2021-08-21T22:12:25.162262Z",
     "start_time": "2021-08-21T22:12:25.158746Z"
    },
    "code_folding": [
     0
    ]
   },
   "outputs": [],
   "source": [
    "class LSTM(nn.Module):\n",
    "    def __init__(self, input_size, output_size, time_step_in, time_step_out):\n",
    "        super(LSTM, self).__init__()\n",
    "        self.input_size = input_size\n",
    "        self.output_size = output_size\n",
    "        self.time_step_in = time_step_in\n",
    "        self.time_step_out = time_step_out\n",
    "        self.num_layers = 1\n",
    "        \n",
    "        self.encoder = nn.LSTM(self.input_size, self.output_size,\n",
    "                               num_layers=self.num_layers, batch_first=True, bias=True)\n",
    "        \n",
    "        self.batch = nn.BatchNorm1d(self.output_size)\n",
    "        self.linear2 = nn.Linear(self.num_layers*self.output_size, self.time_step_out)\n",
    "        \n",
    "    def forward(self,x):\n",
    "        out_en, (h_en,_) = self.encoder(x)\n",
    "        h_en = h_en.view(-1, self.num_layers*self.output_size)\n",
    "        h_en = self.batch(h_en)\n",
    "        out = nn.LeakyReLU()(h_en)\n",
    "        #out = torch.sigmoid(self.linear(out))\n",
    "        out = self.linear2(out)\n",
    "        return out"
   ]
  },
  {
   "cell_type": "code",
   "execution_count": 419,
   "metadata": {
    "ExecuteTime": {
     "end_time": "2021-08-21T22:12:25.408008Z",
     "start_time": "2021-08-21T22:12:25.404388Z"
    },
    "code_folding": []
   },
   "outputs": [],
   "source": [
    "class CNN1D(nn.Module):\n",
    "    def __init__(self,output_chan, output_dim,input_dim,kernel_size):\n",
    "        super(CNN1D, self).__init__()\n",
    "        \n",
    "        self.output_chan = output_chan\n",
    "        self.output_dim = output_dim\n",
    "        self.input_dim = input_dim\n",
    "        \n",
    "        self.conv1d = nn.Conv1d(in_channels=1, out_channels=output_chan, kernel_size=kernel_size, stride=1, \n",
    "                                padding=int(np.floor(kernel_size/2)))\n",
    "        \n",
    "        \n",
    "        self.maxpool = nn.MaxPool1d(3)\n",
    "        self.batchnorm = nn.BatchNorm1d(output_chan)\n",
    "        self.fc1 = nn.Linear(output_chan*int((input_dim/3)), output_dim, bias=True)\n",
    "        \n",
    "    def forward(self, x):\n",
    "        inputs = x.unsqueeze(1).squeeze(-1)\n",
    "        out = self.conv1d(inputs)\n",
    "        out = self.batchnorm(out)\n",
    "        out = self.maxpool(out)\n",
    "        out = nn.LeakyReLU()(out)\n",
    "        \n",
    "        out = out.view(-1, out.shape[1]*out.shape[2])\n",
    "        \n",
    "        out = self.fc1(out)\n",
    "        return out"
   ]
  },
  {
   "cell_type": "code",
   "execution_count": 420,
   "metadata": {
    "ExecuteTime": {
     "end_time": "2021-08-21T22:12:25.873588Z",
     "start_time": "2021-08-21T22:12:25.870368Z"
    },
    "code_folding": [
     0
    ]
   },
   "outputs": [],
   "source": [
    "class Linear(nn.Module):\n",
    "    def __init__(self, nb_units, input_dim, output_dim):\n",
    "        super(Linear, self).__init__()\n",
    "        \n",
    "        self.nb_units = nb_units\n",
    "        self.input_dim = input_dim\n",
    "        self.output_dim = output_dim\n",
    "        self.nb_units2 = 16\n",
    "    \n",
    "        self.fc1 = nn.Linear(input_dim, nb_units)\n",
    "        #self.fc2 = nn.Linear(nb_units, self.nb_units2)\n",
    "        self.fc3 = nn.Linear(nb_units, output_dim)\n",
    "        \n",
    "        self.batch1 = nn.BatchNorm1d(nb_units)\n",
    "        #self.batch2 = nn.BatchNorm1d(self.nb_units2)\n",
    "        self.drop = nn.Dropout(0.5)\n",
    "        \n",
    "    def forward(self, x):\n",
    "        inputs = x.squeeze(-1)\n",
    "        out = self.fc1(inputs)\n",
    "        out = self.batch1(out)\n",
    "        out = nn.ReLU()(out)\n",
    "        \n",
    "        out = self.fc3(out)\n",
    "        return out"
   ]
  },
  {
   "cell_type": "code",
   "execution_count": 424,
   "metadata": {
    "ExecuteTime": {
     "end_time": "2021-08-21T22:13:06.802525Z",
     "start_time": "2021-08-21T22:13:06.800062Z"
    }
   },
   "outputs": [],
   "source": [
    "complete_graph, complete = Graphs.completegraph(4)\n",
    "cycle_graph, cycle = Graphs.cycle_graph(4)\n",
    "grid_graph, grid = Graphs.gridgraph(2,2)\n",
    "grid_graph_line, line = Graphs.gridgraph(4,1)"
   ]
  },
  {
   "cell_type": "code",
   "execution_count": 422,
   "metadata": {
    "ExecuteTime": {
     "end_time": "2021-08-21T22:12:28.777620Z",
     "start_time": "2021-08-21T22:12:28.775732Z"
    }
   },
   "outputs": [
    {
     "data": {
      "text/plain": [
       "504"
      ]
     },
     "execution_count": 422,
     "metadata": {},
     "output_type": "execute_result"
    }
   ],
   "source": [
    "nb_iterations"
   ]
  },
  {
   "cell_type": "code",
   "execution_count": 426,
   "metadata": {
    "ExecuteTime": {
     "end_time": "2021-08-21T22:13:13.786243Z",
     "start_time": "2021-08-21T22:13:13.784472Z"
    }
   },
   "outputs": [],
   "source": [
    "loss_fn = nn.SmoothL1Loss()\n",
    "num_iters_base = nb_iterations\n",
    "eta_coef_DMFW = 1\n",
    "eta_exp_DMFW = 0.85\n",
    "rho_coef_DMFW = 4e-0\n",
    "rho_exp_DMFW = 1/2\n",
    "reg_coef_DMFW = 10\n",
    "L_DMFW = nb_iterations #or nb_iteration to get a better result"
   ]
  },
  {
   "cell_type": "code",
   "execution_count": 428,
   "metadata": {
    "ExecuteTime": {
     "end_time": "2021-08-21T22:13:45.188881Z",
     "start_time": "2021-08-21T22:13:45.186773Z"
    }
   },
   "outputs": [],
   "source": [
    "trainXMFW = Trainer(complete_graph,trainloader,CNN1D, (8,lookahead,lookback,5), loss_fn,num_iters_base)"
   ]
  },
  {
   "cell_type": "code",
   "execution_count": 429,
   "metadata": {
    "ExecuteTime": {
     "end_time": "2021-08-21T23:08:31.926556Z",
     "start_time": "2021-08-21T22:13:45.774485Z"
    },
    "scrolled": true
   },
   "outputs": [
    {
     "name": "stdout",
     "output_type": "stream",
     "text": [
      "t_0 : loss : 0.10818 gap : 0.0012322565307840705 local_gap 0.0012322565307840705\n",
      "t_1 : loss : 0.05973 gap : 0.001187451183795929 local_gap 0.0011426457203924656\n",
      "t_2 : loss : 0.11028 gap : 0.0008051578770391643 local_gap 0.0012280222726985812\n",
      "t_3 : loss : 0.11325 gap : 0.0004806181532330811 local_gap 0.001166601199656725\n",
      "t_4 : loss : 0.12070 gap : 0.0003422074078116566 local_gap 0.0012304189149290323\n",
      "t_5 : loss : 0.11846 gap : 0.0002510848571546376 local_gap 0.001185529981739819\n",
      "t_6 : loss : 0.10820 gap : 0.0002068091562250629 local_gap 0.001196579309180379\n",
      "t_7 : loss : 0.12387 gap : 0.00017242046305909753 local_gap 0.0011885989224538207\n",
      "t_8 : loss : 0.01758 gap : 0.00015229100245051086 local_gap 0.0012086911592632532\n",
      "t_9 : loss : 0.09841 gap : 0.00012406920723151416 local_gap 0.0010981339728459716\n",
      "t_10 : loss : 0.10531 gap : 0.00011111868661828339 local_gap 0.0010982364183291793\n",
      "t_11 : loss : 0.11146 gap : 0.00010537003254285082 local_gap 0.0011533217038959265\n",
      "t_12 : loss : 0.10827 gap : 9.470625809626654e-05 local_gap 0.0011266901856288314\n",
      "t_13 : loss : 0.08203 gap : 8.4578430687543e-05 local_gap 0.0011023076949641109\n",
      "t_14 : loss : 0.07592 gap : 8.01323403720744e-05 local_gap 0.0011210271622985601\n",
      "t_15 : loss : 0.11567 gap : 7.433178689097986e-05 local_gap 0.0011117688845843077\n",
      "t_16 : loss : 0.15426 gap : 9.571550617692992e-05 local_gap 0.0015546090435236692\n",
      "t_17 : loss : 0.19957 gap : 9.147904347628355e-05 local_gap 0.0015509072691202164\n",
      "t_18 : loss : 0.20019 gap : 8.688277011970058e-05 local_gap 0.001559293596073985\n",
      "t_19 : loss : 0.18651 gap : 8.14395971246995e-05 local_gap 0.001541909179650247\n",
      "t_20 : loss : 0.20003 gap : 7.677472603973001e-05 local_gap 0.0015308295842260122\n",
      "t_21 : loss : 0.10571 gap : 7.237945101223886e-05 local_gap 0.0015155731234699488\n",
      "t_22 : loss : 0.15603 gap : 7.097126945154741e-05 local_gap 0.0015599597245454788\n",
      "t_23 : loss : 0.18646 gap : 6.675601616734639e-05 local_gap 0.0015311731258407235\n",
      "t_24 : loss : 0.19494 gap : 6.955749995540828e-05 local_gap 0.0016721815336495638\n",
      "t_25 : loss : 0.23258 gap : 6.646985275438055e-05 local_gap 0.0016614292981103063\n",
      "t_26 : loss : 0.21605 gap : 6.455612310674042e-05 local_gap 0.0016765454784035683\n",
      "t_27 : loss : 0.09653 gap : 6.256810593185946e-05 local_gap 0.0016876717563718557\n",
      "t_28 : loss : 0.23308 gap : 6.0494709032354876e-05 local_gap 0.0016917784232646227\n",
      "t_29 : loss : 0.18683 gap : 5.820533260703087e-05 local_gap 0.0016856652218848467\n",
      "t_30 : loss : 0.22515 gap : 5.49386277270969e-05 local_gap 0.0016448921523988247\n",
      "t_31 : loss : 0.23558 gap : 5.465295907924883e-05 local_gap 0.0016939560882747173\n",
      "t_32 : loss : 0.12797 gap : 4.017260653199628e-05 local_gap 0.0012723705731332302\n",
      "t_33 : loss : 0.14976 gap : 4.1585055441828445e-05 local_gap 0.0013745507458224893\n",
      "t_34 : loss : 0.14329 gap : 3.896791531587951e-05 local_gap 0.0013252110220491886\n",
      "t_35 : loss : 0.13984 gap : 3.884241959895007e-05 local_gap 0.0013593591284006834\n",
      "t_36 : loss : 0.13956 gap : 3.7012974644312635e-05 local_gap 0.0013306376058608294\n",
      "t_37 : loss : 0.15830 gap : 3.9282520447159186e-05 local_gap 0.001457297126762569\n",
      "t_38 : loss : 0.14151 gap : 3.443152309046127e-05 local_gap 0.0013086419785395265\n",
      "t_39 : loss : 0.15838 gap : 3.4873308322858065e-05 local_gap 0.0013605006970465183\n",
      "t_40 : loss : 0.10181 gap : 3.149577969452366e-05 local_gap 0.0012564536882564425\n",
      "t_41 : loss : 0.13377 gap : 3.166106034768745e-05 local_gap 0.0013025460066273808\n",
      "t_42 : loss : 0.12251 gap : 2.989199128933251e-05 local_gap 0.0012562001356855035\n",
      "t_43 : loss : 0.12374 gap : 2.9799271942465566e-05 local_gap 0.0012812759960070252\n",
      "t_44 : loss : 0.13015 gap : 2.9962375265313312e-05 local_gap 0.00131850759498775\n",
      "t_45 : loss : 0.11774 gap : 2.771933031908702e-05 local_gap 0.0012498082360252738\n",
      "t_46 : loss : 0.12524 gap : 2.8810949515900575e-05 local_gap 0.0013269624905660748\n",
      "t_47 : loss : 0.13091 gap : 2.5966044631786644e-05 local_gap 0.0012175592128187418\n",
      "t_48 : loss : 0.14097 gap : 2.941590173577424e-05 local_gap 0.00141611834987998\n",
      "t_49 : loss : 0.13628 gap : 2.7326823328621686e-05 local_gap 0.001336925197392702\n",
      "t_50 : loss : 0.14201 gap : 2.69904121523723e-05 local_gap 0.0013491841964423656\n",
      "t_51 : loss : 0.13838 gap : 2.5319081032648683e-05 local_gap 0.001289601786993444\n",
      "t_52 : loss : 0.12651 gap : 2.6616535251378082e-05 local_gap 0.00138535734731704\n",
      "t_53 : loss : 0.12048 gap : 2.6219651772407815e-05 local_gap 0.001389244687743485\n",
      "t_54 : loss : 0.09071 gap : 2.4248247427749448e-05 local_gap 0.0013074339367449284\n",
      "t_55 : loss : 0.15003 gap : 2.449679777782876e-05 local_gap 0.0013475724263116717\n",
      "t_56 : loss : 0.13132 gap : 2.3852955564507283e-05 local_gap 0.0013351216912269592\n",
      "t_57 : loss : 0.12999 gap : 2.286975723109208e-05 local_gap 0.0013031626585870981\n",
      "t_58 : loss : 0.12807 gap : 2.263618807774037e-05 local_gap 0.0013142669340595603\n",
      "t_59 : loss : 0.12491 gap : 2.3194508685264736e-05 local_gap 0.00136903440579772\n",
      "t_60 : loss : 0.14085 gap : 2.3356664314633235e-05 local_gap 0.0014015620108693838\n",
      "t_61 : loss : 0.13713 gap : 2.220884562120773e-05 local_gap 0.0013535917969420552\n",
      "t_62 : loss : 0.13572 gap : 2.147063241864089e-05 local_gap 0.0013304409803822637\n",
      "t_63 : loss : 0.07524 gap : 2.1611887859762646e-05 local_gap 0.001361690228804946\n",
      "t_64 : loss : 0.12784 gap : 2.0420820874278434e-05 local_gap 0.0013057414907962084\n",
      "t_65 : loss : 0.11362 gap : 1.9806002455879934e-05 local_gap 0.0012867753393948078\n",
      "t_66 : loss : 0.10773 gap : 1.9745548343053088e-05 local_gap 0.0013031457783654332\n",
      "t_67 : loss : 0.14061 gap : 1.9268845790065825e-05 local_gap 0.0012905359035357833\n",
      "t_68 : loss : 0.08579 gap : 1.9584607798606157e-05 local_gap 0.0013320691650733352\n",
      "t_69 : loss : 0.14098 gap : 1.986778443097137e-05 local_gap 0.0013711602659896016\n",
      "t_70 : loss : 0.08527 gap : 1.904699638544116e-05 local_gap 0.0013324689352884889\n",
      "t_71 : loss : 0.13602 gap : 1.854455695138313e-05 local_gap 0.0013161611277610064\n",
      "t_72 : loss : 0.18514 gap : 2.119283817592077e-05 local_gap 0.0015307948924601078\n",
      "t_73 : loss : 0.18770 gap : 2.0879466319456697e-05 local_gap 0.0015238876221701503\n",
      "t_74 : loss : 0.19110 gap : 2.064037289528642e-05 local_gap 0.0015271485317498446\n",
      "t_75 : loss : 0.19276 gap : 2.03575527848443e-05 local_gap 0.0015265337424352765\n",
      "t_76 : loss : 0.16639 gap : 2.0136681996518746e-05 local_gap 0.0015301669482141733\n",
      "t_77 : loss : 0.13192 gap : 1.9950301066273823e-05 local_gap 0.0015359867829829454\n",
      "t_78 : loss : 0.19295 gap : 1.9601140593294986e-05 local_gap 0.0015285398112609982\n",
      "t_79 : loss : 0.14854 gap : 1.9311712094349787e-05 local_gap 0.0015253358287736773\n",
      "t_80 : loss : 0.21995 gap : 2.069832589768339e-05 local_gap 0.0016572527820244431\n",
      "t_81 : loss : 0.20755 gap : 1.9799374058493413e-05 local_gap 0.0016028503887355328\n",
      "t_82 : loss : 0.21711 gap : 2.0056359062436968e-05 local_gap 0.001644878531806171\n",
      "t_83 : loss : 0.21909 gap : 1.9440185496932827e-05 local_gap 0.0016129192663356662\n",
      "t_84 : loss : 0.21994 gap : 1.9393801267142408e-05 local_gap 0.0016290328931063414\n",
      "t_85 : loss : 0.16843 gap : 1.9226919903303497e-05 local_gap 0.0016341214068233967\n",
      "t_86 : loss : 0.21766 gap : 1.9366483684279956e-05 local_gap 0.001665657153353095\n",
      "t_87 : loss : 0.22340 gap : 1.957330277946312e-05 local_gap 0.0017030840972438455\n",
      "t_88 : loss : 0.12666 gap : 1.451610751246335e-05 local_gap 0.001274841371923685\n",
      "t_89 : loss : 0.15572 gap : 1.4886345525155775e-05 local_gap 0.0013257398968562484\n",
      "t_90 : loss : 0.15856 gap : 1.5325691492762417e-05 local_gap 0.0013797516003251076\n",
      "t_91 : loss : 0.11920 gap : 1.4575298337149434e-05 local_gap 0.0013260535197332501\n",
      "t_92 : loss : 0.13720 gap : 1.5069723303895444e-05 local_gap 0.0013884407235309482\n",
      "t_93 : loss : 0.14720 gap : 1.3983252756588627e-05 local_gap 0.0012993559939786792\n",
      "t_94 : loss : 0.16270 gap : 1.536478339403402e-05 local_gap 0.0014459529193118215\n",
      "t_95 : loss : 0.13416 gap : 1.4112264580035117e-05 local_gap 0.0013394126435741782\n",
      "t_96 : loss : 0.09992 gap : 1.3936781215306837e-05 local_gap 0.0013377555878832936\n",
      "t_97 : loss : 0.13007 gap : 1.2926939234603196e-05 local_gap 0.0012529032537713647\n",
      "t_98 : loss : 0.11721 gap : 1.2603375580511056e-05 local_gap 0.0012360111577436328\n",
      "t_99 : loss : 0.14269 gap : 1.308710670855362e-05 local_gap 0.0012961073080077767\n"
     ]
    },
    {
     "name": "stdout",
     "output_type": "stream",
     "text": [
      "t_100 : loss : 0.10944 gap : 1.3074595699436031e-05 local_gap 0.001308505772612989\n",
      "t_101 : loss : 0.13329 gap : 1.393135516991606e-05 local_gap 0.001408250187523663\n",
      "t_102 : loss : 0.13101 gap : 1.1648146028164774e-05 local_gap 0.001188826048746705\n",
      "t_103 : loss : 0.13345 gap : 1.2409329428919591e-05 local_gap 0.001279131043702364\n",
      "t_104 : loss : 0.14260 gap : 1.2580663678818382e-05 local_gap 0.0013087497791275382\n",
      "t_105 : loss : 0.09145 gap : 1.1927106243092567e-05 local_gap 0.0012516926508396864\n",
      "t_106 : loss : 0.11038 gap : 1.1072988854721189e-05 local_gap 0.0011728827375918627\n",
      "t_107 : loss : 0.13288 gap : 1.1657727554847952e-05 local_gap 0.0012480122968554497\n",
      "t_108 : loss : 0.11959 gap : 1.149982290371554e-05 local_gap 0.0012418229598551989\n",
      "t_109 : loss : 0.13494 gap : 1.1165005162183661e-05 local_gap 0.0012169982073828578\n",
      "t_110 : loss : 0.13923 gap : 1.1319444638502318e-05 local_gap 0.0012455465039238334\n",
      "t_111 : loss : 0.12668 gap : 1.1220216947549488e-05 local_gap 0.0012453448725864291\n",
      "t_112 : loss : 0.13620 gap : 1.0971814845106564e-05 local_gap 0.001228594803251326\n",
      "t_113 : loss : 0.12415 gap : 1.1224621630390175e-05 local_gap 0.0012688901042565703\n",
      "t_114 : loss : 0.11651 gap : 1.0560072951193433e-05 local_gap 0.001205309061333537\n",
      "t_115 : loss : 0.11937 gap : 1.0671776180970483e-05 local_gap 0.0012279246002435684\n",
      "t_116 : loss : 0.12127 gap : 9.949200830305927e-06 local_gap 0.001153913326561451\n",
      "t_117 : loss : 0.13331 gap : 1.0557247151155025e-05 local_gap 0.00123582873493433\n",
      "t_118 : loss : 0.11762 gap : 9.59946646617027e-06 local_gap 0.0011326945386826992\n",
      "t_119 : loss : 0.12141 gap : 9.917599527398124e-06 local_gap 0.0011807318078354\n",
      "t_120 : loss : 0.13878 gap : 1.0466925232321955e-05 local_gap 0.0012565940851345658\n",
      "t_121 : loss : 0.13332 gap : 1.0386674148321617e-05 local_gap 0.001257685013115406\n",
      "t_122 : loss : 0.13572 gap : 9.818969374464359e-06 local_gap 0.0011973686050623655\n",
      "t_123 : loss : 0.08728 gap : 9.77146191871725e-06 local_gap 0.0012021033326163888\n",
      "t_124 : loss : 0.12621 gap : 1.0009809557232074e-05 local_gap 0.0012418270343914628\n",
      "t_125 : loss : 0.10125 gap : 1.0122330422746018e-05 local_gap 0.0012654038146138191\n",
      "t_126 : loss : 0.12123 gap : 1.03227466752287e-05 local_gap 0.0013008664827793837\n",
      "t_127 : loss : 0.12466 gap : 9.504531590209808e-06 local_gap 0.0012062572641298175\n",
      "t_128 : loss : 0.24002 gap : 1.2917662388645113e-05 local_gap 0.0016568739665672183\n",
      "t_129 : loss : 0.20728 gap : 1.2940091437485535e-05 local_gap 0.0016692942008376122\n",
      "t_130 : loss : 0.22946 gap : 1.2989292372367345e-05 local_gap 0.0016886572120711207\n",
      "t_131 : loss : 0.20967 gap : 1.2703224456345197e-05 local_gap 0.0016638363013044\n",
      "t_132 : loss : 0.22861 gap : 1.2793653695553076e-05 local_gap 0.0016888526733964682\n",
      "t_133 : loss : 0.22884 gap : 1.2471500667743385e-05 local_gap 0.0016583873657509685\n",
      "t_134 : loss : 0.22784 gap : 1.2429151865944732e-05 local_gap 0.0016654640203341842\n",
      "t_135 : loss : 0.23823 gap : 1.2402483662299346e-05 local_gap 0.0016743085579946637\n",
      "t_136 : loss : 0.27989 gap : 1.3340468285605311e-05 local_gap 0.001815241645090282\n",
      "t_137 : loss : 0.27743 gap : 1.3254169971332885e-05 local_gap 0.0018157350132241845\n",
      "t_138 : loss : 0.27619 gap : 1.3111873158777598e-05 local_gap 0.0018092963146045804\n",
      "t_139 : loss : 0.28016 gap : 1.3186956493882462e-05 local_gap 0.0018330620368942618\n",
      "t_140 : loss : 0.27682 gap : 1.3000152648601215e-05 local_gap 0.00181983457878232\n",
      "t_141 : loss : 0.28615 gap : 1.2778370546584483e-05 local_gap 0.0018015285022556782\n",
      "t_142 : loss : 0.28334 gap : 1.287147642869968e-05 local_gap 0.0018278427887707949\n",
      "t_143 : loss : 0.27538 gap : 1.2822069038520567e-05 local_gap 0.001833506510592997\n",
      "t_144 : loss : 0.17546 gap : 9.521605534246191e-06 local_gap 0.0013686289312317967\n",
      "t_145 : loss : 0.16296 gap : 9.019268873089459e-06 local_gap 0.0013076592003926635\n",
      "t_146 : loss : 0.16447 gap : 9.818204489420168e-06 local_gap 0.0014342567883431911\n",
      "t_147 : loss : 0.16331 gap : 9.704960575618315e-06 local_gap 0.0014265159843489528\n",
      "t_148 : loss : 0.89804 gap : 9.288387445849366e-06 local_gap 0.0013742647133767605\n",
      "t_149 : loss : 0.16960 gap : 9.62193007580936e-06 local_gap 0.0014340010238811374\n",
      "t_150 : loss : 0.17239 gap : 9.620815035304986e-06 local_gap 0.0014431211166083813\n",
      "t_151 : loss : 0.11751 gap : 8.756443094171118e-06 local_gap 0.0013222728157415986\n",
      "t_152 : loss : 0.14861 gap : 8.524375516572036e-06 local_gap 0.0012954730773344636\n",
      "t_153 : loss : 0.14617 gap : 8.26459472591523e-06 local_gap 0.0012647873954847455\n",
      "t_154 : loss : 0.12780 gap : 8.392717973038089e-06 local_gap 0.0012926066992804408\n",
      "t_155 : loss : 0.13084 gap : 8.36800791148562e-06 local_gap 0.001297088572755456\n",
      "t_156 : loss : 0.11983 gap : 8.527113095624372e-06 local_gap 0.001331139006651938\n",
      "t_157 : loss : 0.13752 gap : 8.045040885917842e-06 local_gap 0.001263637444935739\n",
      "t_158 : loss : 0.13779 gap : 8.11985955806449e-06 local_gap 0.0012830126797780395\n",
      "t_159 : loss : 0.11131 gap : 7.981512680999003e-06 local_gap 0.0012689222348853946\n",
      "t_160 : loss : 0.13625 gap : 7.89519526733784e-06 local_gap 0.0012633848236873746\n",
      "t_161 : loss : 0.12867 gap : 7.890543201938272e-06 local_gap 0.0012703936081379652\n",
      "t_162 : loss : 0.11795 gap : 7.529130925831851e-06 local_gap 0.001219357829540968\n",
      "t_163 : loss : 0.14235 gap : 7.967712008394301e-06 local_gap 0.0012994734570384026\n",
      "t_164 : loss : 0.11262 gap : 7.70105452829739e-06 local_gap 0.0012638750486075878\n",
      "t_165 : loss : 0.13289 gap : 7.646477570233401e-06 local_gap 0.00126172648742795\n",
      "t_166 : loss : 0.12760 gap : 7.311707577173365e-06 local_gap 0.001213408657349646\n",
      "t_167 : loss : 0.12976 gap : 7.189761163317598e-06 local_gap 0.001200568163767457\n",
      "t_168 : loss : 0.12119 gap : 7.195029866124969e-06 local_gap 0.0012087702052667737\n",
      "t_169 : loss : 0.10242 gap : 7.4069453148695175e-06 local_gap 0.0012519856682047248\n",
      "t_170 : loss : 0.12129 gap : 6.59491934129619e-06 local_gap 0.0011203242465853691\n",
      "t_171 : loss : 0.14173 gap : 7.926283615233842e-06 local_gap 0.0013567258138209581\n",
      "t_172 : loss : 0.14427 gap : 7.055465630401159e-06 local_gap 0.0012126693036407232\n",
      "t_173 : loss : 0.10999 gap : 7.244095286296215e-06 local_gap 0.0012534171110019088\n",
      "t_174 : loss : 0.12503 gap : 7.718784218013752e-06 local_gap 0.0013436474837362766\n",
      "t_175 : loss : 0.11964 gap : 6.985082563915057e-06 local_gap 0.0012234724126756191\n",
      "t_176 : loss : 0.12535 gap : 6.931186817382695e-06 local_gap 0.0012199918273836374\n",
      "t_177 : loss : 0.09416 gap : 6.584477887372486e-06 local_gap 0.0011653584660962224\n",
      "t_178 : loss : 0.09059 gap : 6.414552444766741e-06 local_gap 0.001142612425610423\n",
      "t_179 : loss : 0.11673 gap : 6.7731716626440175e-06 local_gap 0.001213588984683156\n",
      "t_180 : loss : 0.06201 gap : 6.475309419329278e-06 local_gap 0.001165257883258164\n",
      "t_181 : loss : 0.12745 gap : 6.603283509321045e-06 local_gap 0.0011953223729506135\n",
      "t_182 : loss : 0.12902 gap : 6.637510523432866e-06 local_gap 0.0012080611195415258\n",
      "t_183 : loss : 0.09803 gap : 6.206710622791434e-06 local_gap 0.0011357911862432957\n",
      "t_184 : loss : 0.31066 gap : 8.730682566238102e-06 local_gap 0.0016092952573671937\n",
      "t_185 : loss : 0.21686 gap : 8.63586046762066e-06 local_gap 0.0015975394053384662\n",
      "t_186 : loss : 0.21002 gap : 8.494797839375678e-06 local_gap 0.0015801271656528115\n",
      "t_187 : loss : 0.22535 gap : 8.554778105462901e-06 local_gap 0.0015998034505173564\n",
      "t_188 : loss : 0.22207 gap : 8.708351742825471e-06 local_gap 0.0016374639235436916\n",
      "t_189 : loss : 0.21445 gap : 8.41268411022611e-06 local_gap 0.001589701627381146\n",
      "t_190 : loss : 0.20738 gap : 8.319861080963165e-06 local_gap 0.0015806808369234204\n",
      "t_191 : loss : 0.22122 gap : 8.206477104977239e-06 local_gap 0.0015673238085582852\n",
      "t_192 : loss : 0.27019 gap : 9.314263479609508e-06 local_gap 0.0017894464544951916\n",
      "t_193 : loss : 0.27839 gap : 9.181793757306878e-06 local_gap 0.0017719536554068327\n",
      "t_194 : loss : 0.27459 gap : 9.196291102853138e-06 local_gap 0.0017840949585661292\n",
      "t_195 : loss : 0.21283 gap : 8.945256922743283e-06 local_gap 0.001744074048474431\n",
      "t_196 : loss : 0.27594 gap : 9.084615157917142e-06 local_gap 0.0017808962147682905\n",
      "t_197 : loss : 0.27217 gap : 9.021338883030694e-06 local_gap 0.0017771816346794367\n",
      "t_198 : loss : 0.24773 gap : 9.032558409671765e-06 local_gap 0.0017884577391669154\n"
     ]
    },
    {
     "name": "stdout",
     "output_type": "stream",
     "text": [
      "t_199 : loss : 0.27240 gap : 9.01563726074528e-06 local_gap 0.001794094918295741\n",
      "t_200 : loss : 0.44439 gap : 6.9151001298450865e-06 local_gap 0.0013813308905810118\n",
      "t_201 : loss : 0.13496 gap : 6.835460681031691e-06 local_gap 0.0013749052304774523\n",
      "t_202 : loss : 0.14777 gap : 6.4301038946723565e-06 local_gap 0.0012989547103643417\n",
      "t_203 : loss : 0.16271 gap : 6.6621441874303855e-06 local_gap 0.00135287013836205\n",
      "t_204 : loss : 0.15184 gap : 6.49436287858407e-06 local_gap 0.0013249000767245889\n",
      "t_205 : loss : 0.16260 gap : 6.589228632947197e-06 local_gap 0.0013515144819393754\n",
      "t_206 : loss : 0.15246 gap : 6.407259661500575e-06 local_gap 0.0013201298424974084\n",
      "t_207 : loss : 0.15985 gap : 6.3440897974942345e-06 local_gap 0.0013133313041180372\n",
      "t_208 : loss : 0.22214 gap : 6.007292995491298e-06 local_gap 0.0012492501409724355\n",
      "t_209 : loss : 0.13486 gap : 6.153554295451613e-06 local_gap 0.0012871770886704326\n",
      "t_210 : loss : 0.14616 gap : 6.068681159376865e-06 local_gap 0.0012743542902171612\n",
      "t_211 : loss : 0.14311 gap : 6.111074981163256e-06 local_gap 0.0012894792016595602\n",
      "t_212 : loss : 0.14420 gap : 5.840057838213397e-06 local_gap 0.001237821183167398\n",
      "t_213 : loss : 0.14254 gap : 5.9871399571420625e-06 local_gap 0.0012755459174513817\n",
      "t_214 : loss : 0.15056 gap : 6.063122327759629e-06 local_gap 0.0012977104634046555\n",
      "t_215 : loss : 0.14980 gap : 5.831419912283309e-06 local_gap 0.001253635622560978\n",
      "t_216 : loss : 0.12095 gap : 5.249487458058866e-06 local_gap 0.0011333079310134053\n",
      "t_217 : loss : 0.11348 gap : 5.183458597457502e-06 local_gap 0.0011250987881794572\n",
      "t_218 : loss : 0.11649 gap : 5.321726348483935e-06 local_gap 0.0011607668129727244\n",
      "t_219 : loss : 0.11426 gap : 4.94418372909422e-06 local_gap 0.0010827446822077036\n",
      "t_220 : loss : 0.10695 gap : 5.0309499783907086e-06 local_gap 0.001106958487071097\n",
      "t_221 : loss : 0.11781 gap : 5.235384833213175e-06 local_gap 0.0011572244111448526\n",
      "t_222 : loss : 0.10741 gap : 4.809678102901671e-06 local_gap 0.0010673276847228408\n",
      "t_223 : loss : 0.11547 gap : 5.176868398848455e-06 local_gap 0.0011548087932169437\n",
      "t_224 : loss : 0.10307 gap : 4.861345587414689e-06 local_gap 0.0010892110876739025\n",
      "t_225 : loss : 0.10964 gap : 4.922528205497656e-06 local_gap 0.0011079360265284777\n",
      "t_226 : loss : 0.10599 gap : 4.773846285388572e-06 local_gap 0.0010792150860652328\n",
      "t_227 : loss : 0.10422 gap : 4.661006641981658e-06 local_gap 0.0010583995608612895\n",
      "t_228 : loss : 0.10608 gap : 4.849009656027192e-06 local_gap 0.0011058251839131117\n",
      "t_229 : loss : 0.11414 gap : 5.185439931665314e-06 local_gap 0.0011878021759912372\n",
      "t_230 : loss : 0.05238 gap : 4.654435542761348e-06 local_gap 0.0010699891718104482\n",
      "t_231 : loss : 0.11686 gap : 4.846828687732341e-06 local_gap 0.0011199897853657603\n",
      "t_232 : loss : 0.11273 gap : 4.9039058467315044e-06 local_gap 0.001138218678534031\n",
      "t_233 : loss : 0.10449 gap : 4.73430918646045e-06 local_gap 0.00110292446333915\n",
      "t_234 : loss : 0.12120 gap : 5.007701020076638e-06 local_gap 0.0011720755137503147\n",
      "t_235 : loss : 0.06056 gap : 5.052800133853452e-06 local_gap 0.0011874531628564\n",
      "t_236 : loss : 0.11665 gap : 5.029583917348646e-06 local_gap 0.0011869586305692792\n",
      "t_237 : loss : 0.12326 gap : 5.031113687437028e-06 local_gap 0.0011923754354938865\n",
      "t_238 : loss : 0.11971 gap : 4.685150543082273e-06 local_gap 0.0011147198965772986\n",
      "t_239 : loss : 0.11495 gap : 4.778677066497039e-06 local_gap 0.00114219740498811\n",
      "t_240 : loss : 0.24261 gap : 6.550637408508919e-06 local_gap 0.001573924906551838\n",
      "t_241 : loss : 0.23703 gap : 6.7013961597695015e-06 local_gap 0.0016151871532201767\n",
      "t_242 : loss : 0.21187 gap : 6.514857886941172e-06 local_gap 0.001576408976688981\n",
      "t_243 : loss : 0.22486 gap : 6.530474820465315e-06 local_gap 0.0015869487542659044\n",
      "t_244 : loss : 0.22683 gap : 6.443158781621605e-06 local_gap 0.0015720435185357928\n",
      "t_245 : loss : 0.23207 gap : 6.6054367380274925e-06 local_gap 0.0016184942796826363\n",
      "t_246 : loss : 0.22442 gap : 6.481317086581839e-06 local_gap 0.0015942798927426338\n",
      "t_247 : loss : 0.22918 gap : 6.572919573955005e-06 local_gap 0.0016237806994467974\n",
      "t_248 : loss : 0.30025 gap : 7.23438688510214e-06 local_gap 0.001795050804503262\n",
      "t_249 : loss : 0.27392 gap : 7.026497314654989e-06 local_gap 0.0017493899213150144\n",
      "t_250 : loss : 0.27885 gap : 7.0021637839090545e-06 local_gap 0.0017505165887996554\n",
      "t_251 : loss : 0.27324 gap : 6.973186827963218e-06 local_gap 0.0017502409173175693\n",
      "t_252 : loss : 0.21033 gap : 6.906022917974042e-06 local_gap 0.0017402636585757136\n",
      "t_253 : loss : 0.27559 gap : 6.961032340768725e-06 local_gap 0.0017611965304240584\n",
      "t_254 : loss : 0.29235 gap : 6.891933935548877e-06 local_gap 0.0017504821298643947\n",
      "t_255 : loss : 0.27265 gap : 6.988163022469962e-06 local_gap 0.001782077830284834\n",
      "t_256 : loss : 0.29144 gap : 7.077982445480302e-06 local_gap 0.0018120532622560859\n",
      "t_257 : loss : 0.34026 gap : 6.9971770244592335e-06 local_gap 0.0017983601428568363\n",
      "t_258 : loss : 0.28859 gap : 7.103603365976596e-06 local_gap 0.0018328593578189611\n",
      "t_259 : loss : 0.31138 gap : 7.0775677158962935e-06 local_gap 0.001833064015954733\n",
      "t_260 : loss : 0.28923 gap : 6.938003934919834e-06 local_gap 0.0018037414411082864\n",
      "t_261 : loss : 0.29706 gap : 6.936726549611194e-06 local_gap 0.0018105661729350686\n",
      "t_262 : loss : 0.28947 gap : 6.929915343789617e-06 local_gap 0.001815631054341793\n",
      "t_263 : loss : 0.29124 gap : 6.89170428813668e-06 local_gap 0.001812511240132153\n",
      "t_264 : loss : 0.18714 gap : 5.4393844948208425e-06 local_gap 0.0014345452655106783\n",
      "t_265 : loss : 0.17892 gap : 5.249727109912783e-06 local_gap 0.001391603029333055\n",
      "t_266 : loss : 0.16930 gap : 5.12213455294841e-06 local_gap 0.00136236019898206\n",
      "t_267 : loss : 0.18527 gap : 5.120904006616911e-06 local_gap 0.0013672801433131099\n",
      "t_268 : loss : 0.17302 gap : 5.025173322792398e-06 local_gap 0.0013466507662087679\n",
      "t_269 : loss : 0.17515 gap : 5.1442484618746676e-06 local_gap 0.001383953494951129\n",
      "t_270 : loss : 0.18448 gap : 5.32742296854849e-06 local_gap 0.0014387201517820358\n",
      "t_271 : loss : 0.18151 gap : 5.1438400987535715e-06 local_gap 0.0013937971089035273\n",
      "t_272 : loss : 0.15737 gap : 4.53808024758473e-06 local_gap 0.0012338533997535706\n",
      "t_273 : loss : 0.14865 gap : 4.914374130748911e-06 local_gap 0.001342020696029067\n",
      "t_274 : loss : 0.14723 gap : 4.6487025429087225e-06 local_gap 0.0012734788469970226\n",
      "t_275 : loss : 0.15086 gap : 4.6294453568407334e-06 local_gap 0.0012730782618746161\n",
      "t_276 : loss : 0.14778 gap : 4.707189418695634e-06 local_gap 0.001299261930398643\n",
      "t_277 : loss : 0.13755 gap : 4.501804141909815e-06 local_gap 0.0012470361543819308\n",
      "t_278 : loss : 0.14030 gap : 4.461553089640802e-06 local_gap 0.0012402714928612113\n",
      "t_279 : loss : 0.14829 gap : 4.580946551868692e-06 local_gap 0.0012783415149897337\n",
      "t_280 : loss : 0.12874 gap : 4.375874141260283e-06 local_gap 0.001225232146680355\n",
      "t_281 : loss : 0.14595 gap : 4.374030595499789e-06 local_gap 0.0012291008606553078\n",
      "t_282 : loss : 0.14497 gap : 4.305055426812032e-06 local_gap 0.0012143740896135569\n",
      "t_283 : loss : 0.14203 gap : 4.239574991515838e-06 local_gap 0.001199982245452702\n",
      "t_284 : loss : 0.13293 gap : 4.108043867745437e-06 local_gap 0.0011665528872981668\n",
      "t_285 : loss : 0.13986 gap : 4.517623892752454e-06 local_gap 0.001288055907934904\n",
      "t_286 : loss : 0.10574 gap : 4.10673737860634e-06 local_gap 0.0011741160415112972\n",
      "t_287 : loss : 0.20780 gap : 4.541741418506717e-06 local_gap 0.0013039147015661001\n",
      "t_288 : loss : 0.23812 gap : 5.883910034754081e-06 local_gap 0.0016967103583738208\n",
      "t_289 : loss : 0.25606 gap : 5.713351129088551e-06 local_gap 0.0016512582078576088\n",
      "t_290 : loss : 0.24215 gap : 5.935998160566669e-06 local_gap 0.001721662119962275\n",
      "t_291 : loss : 0.25922 gap : 5.743830115534365e-06 local_gap 0.0016712623182684183\n",
      "t_292 : loss : 0.24131 gap : 5.61928891329444e-06 local_gap 0.001640738220885396\n",
      "t_293 : loss : 0.23809 gap : 5.543804491026094e-06 local_gap 0.0016243370482698083\n",
      "t_294 : loss : 0.24651 gap : 5.7541506066627335e-06 local_gap 0.0016919774934649467\n",
      "t_295 : loss : 0.25625 gap : 5.655761924572289e-06 local_gap 0.001668653218075633\n",
      "t_296 : loss : 0.29481 gap : 6.299942469922826e-06 local_gap 0.0018655081512406468\n",
      "t_297 : loss : 0.29813 gap : 6.210769242898095e-06 local_gap 0.0018445092719048262\n",
      "t_298 : loss : 0.29597 gap : 6.24443418928422e-06 local_gap 0.0018608750542625785\n"
     ]
    },
    {
     "name": "stdout",
     "output_type": "stream",
     "text": [
      "t_299 : loss : 0.22064 gap : 6.11913083048421e-06 local_gap 0.001829494838602841\n",
      "t_300 : loss : 0.29898 gap : 6.186492100823671e-06 local_gap 0.0018560149474069476\n",
      "t_301 : loss : 0.30580 gap : 6.271805432334077e-06 local_gap 0.0018878986593335867\n",
      "t_302 : loss : 0.28709 gap : 6.131638656370342e-06 local_gap 0.001851614797487855\n",
      "t_303 : loss : 0.28541 gap : 6.0763463807234075e-06 local_gap 0.0018410776974633336\n",
      "t_304 : loss : 0.32028 gap : 6.40672851659474e-06 local_gap 0.0019479758339002728\n",
      "t_305 : loss : 0.31584 gap : 6.426965683203889e-06 local_gap 0.0019602447282522917\n",
      "t_306 : loss : 0.33689 gap : 6.438383934437297e-06 local_gap 0.0019701567944139242\n",
      "t_307 : loss : 0.32282 gap : 6.26868813924375e-06 local_gap 0.0019243175629526377\n",
      "t_308 : loss : 0.30401 gap : 6.288437361945398e-06 local_gap 0.0019368584034964442\n",
      "t_309 : loss : 0.32922 gap : 6.307376224867767e-06 local_gap 0.001948998193256557\n",
      "t_310 : loss : 0.33624 gap : 6.405444310075836e-06 local_gap 0.001985785784199834\n",
      "t_311 : loss : 0.32047 gap : 6.305924671323737e-06 local_gap 0.001961043104529381\n",
      "t_312 : loss : 0.36355 gap : 6.519077487610048e-06 local_gap 0.002034165197983384\n",
      "t_313 : loss : 0.36696 gap : 6.585689789062599e-06 local_gap 0.002061387524008751\n",
      "t_314 : loss : 0.35501 gap : 6.522936928377021e-06 local_gap 0.0020481394603848457\n",
      "t_315 : loss : 0.36023 gap : 6.436623152694665e-06 local_gap 0.0020274498965591192\n",
      "t_316 : loss : 0.36370 gap : 6.416518772311974e-06 local_gap 0.0020275998394936323\n",
      "t_317 : loss : 0.35857 gap : 6.4311457208532374e-06 local_gap 0.0020387291442602873\n",
      "t_318 : loss : 0.36807 gap : 6.3694237724121194e-06 local_gap 0.0020254580304026604\n",
      "t_319 : loss : 0.36851 gap : 6.481290711235488e-06 local_gap 0.0020676436834037304\n",
      "t_320 : loss : 0.38881 gap : 6.576399300683988e-06 local_gap 0.002104768995195627\n",
      "t_321 : loss : 0.38893 gap : 6.601359018532094e-06 local_gap 0.0021190624684095383\n",
      "t_322 : loss : 0.39791 gap : 6.678584213659633e-06 local_gap 0.00215058121830225\n",
      "t_323 : loss : 0.39521 gap : 6.607329851249233e-06 local_gap 0.0021340963430702686\n",
      "t_324 : loss : 0.39542 gap : 6.52531161904335e-06 local_gap 0.0021141190081834793\n",
      "t_325 : loss : 0.30474 gap : 6.43438897895976e-06 local_gap 0.0020910855382680893\n",
      "t_326 : loss : 0.39073 gap : 6.418894372473005e-06 local_gap 0.002092544222250581\n",
      "t_327 : loss : 0.41173 gap : 6.395147011062363e-06 local_gap 0.002091189380735159\n",
      "t_328 : loss : 0.22595 gap : 4.898864062852226e-06 local_gap 0.0016053840517997742\n",
      "t_329 : loss : 0.21249 gap : 4.976845048076939e-06 local_gap 0.0016378716100007296\n",
      "t_330 : loss : 0.21954 gap : 4.972869646735489e-06 local_gap 0.0016412734985351562\n",
      "t_331 : loss : 0.23644 gap : 4.9128934733744245e-06 local_gap 0.001626107725314796\n",
      "t_332 : loss : 0.18464 gap : 4.585786427924177e-06 local_gap 0.0015222301008179784\n",
      "t_333 : loss : 0.24686 gap : 4.921387244394282e-06 local_gap 0.0016392864054068923\n",
      "t_334 : loss : 0.23230 gap : 4.791109859070275e-06 local_gap 0.001600100426003337\n",
      "t_335 : loss : 0.19229 gap : 4.34059438703116e-06 local_gap 0.0014537425013259053\n",
      "t_336 : loss : 0.14544 gap : 4.535695552476682e-06 local_gap 0.001524374121800065\n",
      "t_337 : loss : 0.19352 gap : 4.265827556082513e-06 local_gap 0.0014373140875250101\n",
      "t_338 : loss : 0.20596 gap : 4.350844847067492e-06 local_gap 0.0014711060794070363\n",
      "t_339 : loss : 0.20377 gap : 4.400101715873461e-06 local_gap 0.0014916837681084871\n",
      "t_340 : loss : 0.14180 gap : 4.49840035798843e-06 local_gap 0.0015297257341444492\n",
      "t_341 : loss : 0.20426 gap : 4.404655101097887e-06 local_gap 0.001501893624663353\n",
      "t_342 : loss : 0.19248 gap : 4.540063400781946e-06 local_gap 0.0015528370859101415\n",
      "t_343 : loss : 0.18714 gap : 4.426344275998417e-06 local_gap 0.001518122386187315\n",
      "t_344 : loss : 0.16841 gap : 3.951909093302675e-06 local_gap 0.0013589822920039296\n",
      "t_345 : loss : 0.17950 gap : 4.310288204578683e-06 local_gap 0.001487407716922462\n",
      "t_346 : loss : 0.16946 gap : 4.059230377606582e-06 local_gap 0.0014042427064850926\n",
      "t_347 : loss : 0.17434 gap : 4.148027073824778e-06 local_gap 0.0014394541503861547\n",
      "t_348 : loss : 0.18456 gap : 4.05986020268756e-06 local_gap 0.0014127432368695736\n",
      "t_349 : loss : 0.17256 gap : 4.170493411947973e-06 local_gap 0.0014556128298863769\n",
      "t_350 : loss : 0.18149 gap : 4.260660716681741e-06 local_gap 0.0014913214836269617\n",
      "t_351 : loss : 0.17118 gap : 4.059118055010913e-06 local_gap 0.0014245487982407212\n",
      "t_352 : loss : 0.26402 gap : 5.045417765359161e-06 local_gap 0.0017769732512533665\n",
      "t_353 : loss : 0.26830 gap : 5.140369012224255e-06 local_gap 0.0018146451329812407\n",
      "t_354 : loss : 0.25217 gap : 4.960497335559921e-06 local_gap 0.001755836303345859\n",
      "t_355 : loss : 0.24308 gap : 4.997404630557867e-06 local_gap 0.0017741156043484807\n",
      "t_356 : loss : 0.25623 gap : 5.0046273827319965e-06 local_gap 0.0017816545441746712\n",
      "t_357 : loss : 0.25211 gap : 4.9532673074281774e-06 local_gap 0.001768265152350068\n",
      "t_358 : loss : 0.26760 gap : 4.963452283845982e-06 local_gap 0.0017769261030480266\n",
      "t_359 : loss : 0.25567 gap : 4.968804660165915e-06 local_gap 0.0017838061321526766\n",
      "t_360 : loss : 0.34905 gap : 5.696064363291953e-06 local_gap 0.002051310380920768\n",
      "t_361 : loss : 0.33596 gap : 5.507902642420959e-06 local_gap 0.001988164847716689\n",
      "t_362 : loss : 0.30390 gap : 5.579317530646222e-06 local_gap 0.002019784413278103\n",
      "t_363 : loss : 0.34013 gap : 5.595060883933911e-06 local_gap 0.0020310229156166315\n",
      "t_364 : loss : 0.34673 gap : 5.56158238396165e-06 local_gap 0.0020243823528289795\n",
      "t_365 : loss : 0.35152 gap : 5.517717454495141e-06 local_gap 0.0020139229018241167\n",
      "t_366 : loss : 0.35488 gap : 5.502690328285098e-06 local_gap 0.002013969700783491\n",
      "t_367 : loss : 0.34589 gap : 5.5581022024853155e-06 local_gap 0.00203987886197865\n",
      "t_368 : loss : 0.18232 gap : 4.0281229303218424e-06 local_gap 0.0014812533045187593\n",
      "t_369 : loss : 0.21722 gap : 4.1156390579999425e-06 local_gap 0.0015187583630904555\n",
      "t_370 : loss : 0.19159 gap : 3.919280970876571e-06 local_gap 0.00145010557025671\n",
      "t_371 : loss : 0.21164 gap : 4.2633350858523045e-06 local_gap 0.0015820413827896118\n",
      "t_372 : loss : 0.19288 gap : 4.0782333599054255e-06 local_gap 0.0015174895524978638\n",
      "t_373 : loss : 0.21605 gap : 3.945756816392532e-06 local_gap 0.0014716347213834524\n",
      "t_374 : loss : 0.20008 gap : 3.8725197555322666e-06 local_gap 0.0014487298903986812\n",
      "t_375 : loss : 1.10475 gap : 3.956112323066918e-06 local_gap 0.001483658328652382\n",
      "t_376 : loss : 0.12362 gap : 3.662727976916358e-06 local_gap 0.0013770408695563674\n",
      "t_377 : loss : 0.14858 gap : 3.647468702183687e-06 local_gap 0.0013754789251834154\n",
      "t_378 : loss : 0.15496 gap : 3.562435495041427e-06 local_gap 0.0013468406395986676\n",
      "t_379 : loss : 0.13416 gap : 3.3827643619588343e-06 local_gap 0.0012818879913538694\n",
      "t_380 : loss : 0.14803 gap : 3.5053294595854823e-06 local_gap 0.0013321477454155684\n",
      "t_381 : loss : 0.14738 gap : 3.377037728569121e-06 local_gap 0.0012865230673924088\n",
      "t_382 : loss : 0.16554 gap : 3.5785419640887994e-06 local_gap 0.0013672044733539224\n",
      "t_383 : loss : 0.15620 gap : 3.5177597510482883e-06 local_gap 0.001347241224721074\n",
      "t_384 : loss : 0.15197 gap : 3.260041467001429e-06 local_gap 0.0012517136055976152\n",
      "t_385 : loss : 0.15620 gap : 3.3613682717259508e-06 local_gap 0.0012942280154675245\n",
      "t_386 : loss : 0.15308 gap : 3.288637117293547e-06 local_gap 0.0012694330653175712\n",
      "t_387 : loss : 0.17496 gap : 3.2753550840425305e-06 local_gap 0.0012675764737650752\n",
      "t_388 : loss : 0.14698 gap : 3.2200327950704377e-06 local_gap 0.0012493578251451254\n",
      "t_389 : loss : 0.16446 gap : 3.3300059385510394e-06 local_gap 0.001295482274144888\n",
      "t_390 : loss : 0.14463 gap : 3.227205070288619e-06 local_gap 0.0012585071381181479\n",
      "t_391 : loss : 0.14855 gap : 3.2806897252157796e-06 local_gap 0.0012829197803512216\n",
      "t_392 : loss : 0.15639 gap : 3.390113761270186e-06 local_gap 0.0013290399219840765\n",
      "t_393 : loss : 0.16231 gap : 3.6198093766870443e-06 local_gap 0.001422814792022109\n",
      "t_394 : loss : 0.16293 gap : 3.4240797504025977e-06 local_gap 0.0013488916447386146\n",
      "t_395 : loss : 0.15336 gap : 3.5131317872583168e-06 local_gap 0.0013877761084586382\n",
      "t_396 : loss : 0.17181 gap : 3.56900841325114e-06 local_gap 0.0014133831718936563\n",
      "t_397 : loss : 0.14146 gap : 3.322352313261945e-06 local_gap 0.0013187271542847157\n"
     ]
    },
    {
     "name": "stdout",
     "output_type": "stream",
     "text": [
      "t_398 : loss : 0.15061 gap : 3.4122281249437947e-06 local_gap 0.001358156674541533\n",
      "t_399 : loss : 0.15660 gap : 3.411009402043419e-06 local_gap 0.0013609915040433407\n",
      "t_400 : loss : 0.17244 gap : 3.3404519399482524e-06 local_gap 0.0013361102901399136\n",
      "t_401 : loss : 0.13802 gap : 3.184500656061573e-06 local_gap 0.0012768288142979145\n",
      "t_402 : loss : 0.14016 gap : 3.065745431740652e-06 local_gap 0.0012323108967393637\n",
      "t_403 : loss : 0.14438 gap : 3.224621650588233e-06 local_gap 0.0012997722951695323\n",
      "t_404 : loss : 0.14254 gap : 3.158728077323758e-06 local_gap 0.0012763187987729907\n",
      "t_405 : loss : 0.13859 gap : 3.0571782190236263e-06 local_gap 0.0012381344567984343\n",
      "t_406 : loss : 0.15934 gap : 3.172239757986972e-06 local_gap 0.0012880999129265547\n",
      "t_407 : loss : 0.14825 gap : 3.242025286454009e-06 local_gap 0.0013197384541854262\n",
      "t_408 : loss : 0.26083 gap : 4.247075594321359e-06 local_gap 0.0017340710619464517\n",
      "t_409 : loss : 0.10669 gap : 4.209161943435902e-06 local_gap 0.0017215668922290206\n",
      "t_410 : loss : 0.26538 gap : 4.184279532637447e-06 local_gap 0.001715565682388842\n",
      "t_411 : loss : 0.27234 gap : 4.248300683684647e-06 local_gap 0.0017461155075579882\n",
      "t_412 : loss : 0.28460 gap : 4.25156486016931e-06 local_gap 0.0017516849329695106\n",
      "t_413 : loss : 0.26889 gap : 4.299547981645446e-06 local_gap 0.0017757612513378263\n",
      "t_414 : loss : 0.25693 gap : 4.130421075387858e-06 local_gap 0.0017099363030865788\n",
      "t_415 : loss : 0.26751 gap : 4.195010205876315e-06 local_gap 0.0017409938154742122\n",
      "t_416 : loss : 0.29652 gap : 4.544793682725867e-06 local_gap 0.0018910181242972612\n",
      "t_417 : loss : 0.23552 gap : 4.565225026453845e-06 local_gap 0.0019037355668842793\n",
      "t_418 : loss : 0.31883 gap : 4.543905561149586e-06 local_gap 0.0018993507837876678\n",
      "t_419 : loss : 0.32400 gap : 4.636061476048781e-06 local_gap 0.0019426345825195312\n",
      "t_420 : loss : 0.32786 gap : 4.532676030066796e-06 local_gap 0.001903702155686915\n",
      "t_421 : loss : 0.36434 gap : 4.571291356114671e-06 local_gap 0.0019245700677856803\n",
      "t_422 : loss : 0.33071 gap : 4.470937255973695e-06 local_gap 0.0018866350874304771\n",
      "t_423 : loss : 0.30497 gap : 4.494555014389334e-06 local_gap 0.0019012204138562083\n",
      "t_424 : loss : 0.18696 gap : 3.4939832858071895e-06 local_gap 0.0014806652907282114\n",
      "t_425 : loss : 0.19683 gap : 3.5151322208548663e-06 local_gap 0.0014942686539143324\n",
      "t_426 : loss : 0.19264 gap : 3.4784002309606876e-06 local_gap 0.0014817616902291775\n",
      "t_427 : loss : 0.23000 gap : 3.7838283333258005e-06 local_gap 0.0016160811064764857\n",
      "t_428 : loss : 0.20830 gap : 3.582385488698492e-06 local_gap 0.0015333066694438457\n",
      "t_429 : loss : 0.19767 gap : 3.2660402666806476e-06 local_gap 0.0014008339494466782\n",
      "t_430 : loss : 0.19529 gap : 3.4276263249921612e-06 local_gap 0.0014741643099114299\n",
      "t_431 : loss : 0.20401 gap : 3.460524339971016e-06 local_gap 0.0014915617648512125\n",
      "t_432 : loss : 0.16712 gap : 3.292424025858054e-06 local_gap 0.001422159024514258\n",
      "t_433 : loss : 0.17378 gap : 3.166041324220714e-06 local_gap 0.001371135818772018\n",
      "t_434 : loss : 0.16670 gap : 3.303984840385965e-06 local_gap 0.0014340755296871066\n",
      "t_435 : loss : 0.17105 gap : 3.264304950789665e-06 local_gap 0.0014199329307302833\n",
      "t_436 : loss : 0.14913 gap : 2.983862486871658e-06 local_gap 0.0013006835943087935\n",
      "t_437 : loss : 0.16748 gap : 3.2026202916313196e-06 local_gap 0.001399763859808445\n",
      "t_438 : loss : 0.02941 gap : 3.1108913844946073e-06 local_gap 0.0013624787097796798\n",
      "t_439 : loss : 0.16269 gap : 3.321170424896991e-06 local_gap 0.0014586515026167035\n",
      "t_440 : loss : 0.15012 gap : 3.1382789984490955e-06 local_gap 0.0013809833908453584\n",
      "t_441 : loss : 0.15632 gap : 3.0821470318187494e-06 local_gap 0.0013595263008028269\n",
      "t_442 : loss : 0.14690 gap : 2.9034920316917123e-06 local_gap 0.0012831648346036673\n",
      "t_443 : loss : 0.15409 gap : 3.060413973798859e-06 local_gap 0.0013559914659708738\n",
      "t_444 : loss : 0.15514 gap : 2.9734007966908393e-06 local_gap 0.0013201029505580664\n",
      "t_445 : loss : 0.13668 gap : 2.8906488296343014e-06 local_gap 0.001286452985368669\n",
      "t_446 : loss : 0.16371 gap : 2.9409065973595716e-06 local_gap 0.0013116946211084723\n",
      "t_447 : loss : 0.14581 gap : 2.9435673241096083e-06 local_gap 0.0013159203808754683\n",
      "t_448 : loss : 0.14885 gap : 2.921420900747762e-06 local_gap 0.0013089468702673912\n",
      "t_449 : loss : 0.15460 gap : 3.0130520372040337e-06 local_gap 0.0013531942386180162\n",
      "t_450 : loss : 0.13137 gap : 2.7921646506001707e-06 local_gap 0.001256506540812552\n",
      "t_451 : loss : 0.14725 gap : 2.7717153443518328e-06 local_gap 0.001250309869647026\n",
      "t_452 : loss : 0.14942 gap : 2.954924866571673e-06 local_gap 0.0013358995784074068\n",
      "t_453 : loss : 0.15001 gap : 2.8818813007092103e-06 local_gap 0.001305689220316708\n",
      "t_454 : loss : 0.14268 gap : 2.877458655348164e-06 local_gap 0.0013063992373645306\n",
      "t_455 : loss : 0.14406 gap : 2.8633830879698507e-06 local_gap 0.0013029862893745303\n",
      "t_456 : loss : 0.14260 gap : 2.790427288346109e-06 local_gap 0.0012724659172818065\n",
      "t_457 : loss : 0.09700 gap : 2.864705720639904e-06 local_gap 0.0013092447770759463\n",
      "t_458 : loss : 0.15261 gap : 2.8086735710530775e-06 local_gap 0.0012864936143159866\n",
      "t_459 : loss : 0.13628 gap : 2.6857728698814753e-06 local_gap 0.0012327829608693719\n",
      "t_460 : loss : 0.14248 gap : 2.8272972940612817e-06 local_gap 0.0013006982626393437\n",
      "t_461 : loss : 0.15099 gap : 2.761128826023196e-06 local_gap 0.0012728142319247127\n",
      "t_462 : loss : 0.14640 gap : 2.9752020509477006e-06 local_gap 0.001374757383018732\n",
      "t_463 : loss : 0.14881 gap : 2.7497681003296748e-06 local_gap 0.001273356145247817\n",
      "t_464 : loss : 0.17775 gap : 3.457331331446767e-06 local_gap 0.0016049575060606003\n",
      "t_465 : loss : 0.45970 gap : 3.484869694148074e-06 local_gap 0.0016204919666051865\n",
      "t_466 : loss : 0.18278 gap : 3.4691190649027703e-06 local_gap 0.0016165936831384897\n",
      "t_467 : loss : 0.19006 gap : 3.4282040815014625e-06 local_gap 0.0016009303508326411\n",
      "t_468 : loss : 0.18067 gap : 3.454244733802625e-06 local_gap 0.0016166125424206257\n",
      "t_469 : loss : 0.18368 gap : 3.4376496387267252e-06 local_gap 0.0016122410306707025\n",
      "t_470 : loss : 0.17613 gap : 3.4040556329273386e-06 local_gap 0.0015998726012185216\n",
      "t_471 : loss : 0.18082 gap : 3.394024815861485e-06 local_gap 0.0015985756181180477\n",
      "t_472 : loss : 0.57763 gap : 3.674362233141437e-06 local_gap 0.001734579331241548\n",
      "t_473 : loss : 0.21594 gap : 3.6341566556075122e-06 local_gap 0.0017189158825203776\n",
      "t_474 : loss : 0.21641 gap : 3.6748922411788953e-06 local_gap 0.001741939689964056\n",
      "t_475 : loss : 0.22383 gap : 3.6943442864867393e-06 local_gap 0.0017548330361023545\n",
      "t_476 : loss : 0.23946 gap : 3.7354682262957795e-06 local_gap 0.0017781240167096257\n",
      "t_477 : loss : 0.21731 gap : 3.60995773007744e-06 local_gap 0.0017218244029209018\n",
      "t_478 : loss : 0.23538 gap : 3.631721938290866e-06 local_gap 0.0017359849298372865\n",
      "t_479 : loss : 0.23406 gap : 3.661687287603854e-06 local_gap 0.0017539781983941793\n",
      "t_480 : loss : 0.32367 gap : 3.965426458307775e-06 local_gap 0.0019037084421142936\n",
      "t_481 : loss : 0.32774 gap : 4.0360973798669875e-06 local_gap 0.001941433409228921\n",
      "t_482 : loss : 0.32793 gap : 4.03911008106661e-06 local_gap 0.0019468540558591485\n",
      "t_483 : loss : 0.32544 gap : 4.000467924925033e-06 local_gap 0.0019321873551234603\n",
      "t_484 : loss : 0.33686 gap : 4.014239038951928e-06 local_gap 0.0019429054809734225\n",
      "t_485 : loss : 0.33700 gap : 3.946860942960484e-06 local_gap 0.0019141602097079158\n",
      "t_486 : loss : 0.31700 gap : 3.883189037878765e-06 local_gap 0.0018871661741286516\n",
      "t_487 : loss : 0.33374 gap : 3.9686797208560165e-06 local_gap 0.0019328325288370252\n",
      "t_488 : loss : 0.18331 gap : 3.103173185081687e-06 local_gap 0.001513583934865892\n",
      "t_489 : loss : 0.17437 gap : 2.882470653275959e-06 local_gap 0.0014094446087256074\n",
      "t_490 : loss : 0.20170 gap : 3.0705730296176625e-06 local_gap 0.0015049512730911374\n",
      "t_491 : loss : 0.20194 gap : 3.0178714496287284e-06 local_gap 0.0014819266507402062\n",
      "t_492 : loss : 0.21196 gap : 3.2183552320930175e-06 local_gap 0.0015837637474760413\n",
      "t_493 : loss : 0.21111 gap : 3.1499178021476837e-06 local_gap 0.0015528410440310836\n",
      "t_494 : loss : 0.20563 gap : 2.9056348012090893e-06 local_gap 0.001435582642443478\n",
      "t_495 : loss : 0.20921 gap : 3.0498856631311355e-06 local_gap 0.0015098376898095012\n",
      "t_496 : loss : 0.17502 gap : 2.834312681443407e-06 local_gap 0.0014056672807782888\n"
     ]
    },
    {
     "name": "stdout",
     "output_type": "stream",
     "text": [
      "t_497 : loss : 0.17579 gap : 2.7755888822866837e-06 local_gap 0.0013796669663861394\n",
      "t_498 : loss : 0.16231 gap : 2.631855977597297e-06 local_gap 0.0013105630641803145\n",
      "t_499 : loss : 0.18740 gap : 2.8514948553493014e-06 local_gap 0.0014232317917048931\n",
      "t_500 : loss : 0.17509 gap : 2.828832293744199e-06 local_gap 0.0014144867891445756\n",
      "t_501 : loss : 0.19123 gap : 3.0347935080499155e-06 local_gap 0.001520856749266386\n",
      "t_502 : loss : 0.16250 gap : 2.589979885669891e-06 local_gap 0.0012999044265598059\n",
      "t_503 : loss : 0.17236 gap : 2.757004949671682e-06 local_gap 0.0013869887916371226\n"
     ]
    }
   ],
   "source": [
    "values_dmfw = trainXMFW.train(DMFW, L_DMFW, eta_coef_DMFW, eta_exp_DMFW, reg_coef_DMFW,1,\n",
    "                            path_figure_date=\"./OnlineModel/CNN1D/BestX0/cycle\")"
   ]
  },
  {
   "cell_type": "code",
   "execution_count": 435,
   "metadata": {
    "ExecuteTime": {
     "end_time": "2021-08-21T23:56:45.700360Z",
     "start_time": "2021-08-21T23:56:45.696450Z"
    }
   },
   "outputs": [],
   "source": [
    "path_log = \"/Users/Slaton/Documents/DMFW/BangkokDataAnalysis/gitdecenlearn/Analysis/new-temp/complete/\"\n",
    "if not os.path.exists(path_log):\n",
    "    os.makedirs(path_log)"
   ]
  },
  {
   "cell_type": "code",
   "execution_count": 436,
   "metadata": {
    "ExecuteTime": {
     "end_time": "2021-08-21T23:56:50.851444Z",
     "start_time": "2021-08-21T23:56:50.845870Z"
    }
   },
   "outputs": [],
   "source": [
    "def save_log_csv(log_file, path_to_save,floor_idx,graph):\n",
    "    logs = pd.DataFrame(log_file, columns=[\"Iteration\", \"Loss\", \"Gap\", \"Local Gaps\"])\n",
    "    pd.DataFrame.to_csv(logs, os.path.join(path_to_save,f'Floor_{floor_idx}_'+\"_\"+f'{graph}'+\".csv\"))\n",
    "def save_state_dict(model, model_idx, path_to_save,floor_idx,graph):\n",
    "    torch.save(model.state_dict(), os.path.join(path_to_save,f'Floor{floor_idx}_model{model_idx}_{graph}_statedict.pt'))"
   ]
  },
  {
   "cell_type": "code",
   "execution_count": 437,
   "metadata": {
    "ExecuteTime": {
     "end_time": "2021-08-21T23:56:52.693828Z",
     "start_time": "2021-08-21T23:56:52.676773Z"
    }
   },
   "outputs": [],
   "source": [
    "save_log_csv(values_dmfw, path_log, floor, \"cycle\")\n",
    "for i in range(4):\n",
    "    save_state_dict(trainXMFW.best_models[i],i, path_log, floor,\"cycle\")"
   ]
  },
  {
   "cell_type": "code",
   "execution_count": 431,
   "metadata": {
    "ExecuteTime": {
     "end_time": "2021-08-21T23:55:44.565707Z",
     "start_time": "2021-08-21T23:55:44.389658Z"
    }
   },
   "outputs": [
    {
     "data": {
      "text/plain": [
       "Text(0, 0.5, 'Gap')"
      ]
     },
     "execution_count": 431,
     "metadata": {},
     "output_type": "execute_result"
    },
    {
     "data": {
      "image/png": "[encoded data removed]",
      "text/plain": [
       "<Figure size 720x360 with 1 Axes>"
      ]
     },
     "metadata": {},
     "output_type": "display_data"
    }
   ],
   "source": [
    "plt.figure(figsize=(10,5))\n",
    "plt.suptitle(\"{}\".format(cycle))\n",
    "plt.plot(values_dmfw[:,0][:-1],values_dmfw[:,2][:-1], label='DMFW', marker='^', markersize=4,\n",
    "         markevery=[i for i in range(len(values_dmfw[:,0][1:])) if i%10==0])\n",
    "plt.axhline(y=0, color='grey', linestyle='--')\n",
    "plt.legend(loc='upper right')\n",
    "#plt.ylim((1e-4, 1e0))\n",
    "plt.yscale(\"log\")\n",
    "plt.xlabel(\"#Iterations\",fontsize=15)\n",
    "plt.ylabel(\"Gap\",fontsize=15)"
   ]
  },
  {
   "cell_type": "code",
   "execution_count": 430,
   "metadata": {
    "ExecuteTime": {
     "end_time": "2021-08-21T23:55:41.725286Z",
     "start_time": "2021-08-21T23:55:41.720977Z"
    }
   },
   "outputs": [
    {
     "data": {
      "text/plain": [
       "0.19296126551408735"
      ]
     },
     "execution_count": 430,
     "metadata": {},
     "output_type": "execute_result"
    }
   ],
   "source": [
    "np.mean(values_dmfw[:,1][:-1])"
   ]
  },
  {
   "cell_type": "code",
   "execution_count": 433,
   "metadata": {
    "ExecuteTime": {
     "end_time": "2021-08-21T23:56:38.431407Z",
     "start_time": "2021-08-21T23:56:38.427905Z"
    }
   },
   "outputs": [],
   "source": [
    "onlineloss = np.cumsum(values_dmfw[:,1][:-1])\n",
    "arangement = np.arange(1,len(onlineloss)+1)\n",
    "onlineloss = onlineloss/arangement"
   ]
  },
  {
   "cell_type": "code",
   "execution_count": 434,
   "metadata": {
    "ExecuteTime": {
     "end_time": "2021-08-21T23:56:39.317714Z",
     "start_time": "2021-08-21T23:56:39.158022Z"
    }
   },
   "outputs": [
    {
     "data": {
      "text/plain": [
       "Text(0, 0.5, 'Loss')"
      ]
     },
     "execution_count": 434,
     "metadata": {},
     "output_type": "execute_result"
    },
    {
     "data": {
      "image/png": "[encoded data removed]",
      "text/plain": [
       "<Figure size 720x360 with 1 Axes>"
      ]
     },
     "metadata": {},
     "output_type": "display_data"
    }
   ],
   "source": [
    "plt.figure(figsize=(10,5))\n",
    "plt.suptitle(\"{}\".format(cycle))\n",
    "plt.plot(values_dmfw[:,0][:-1],values_dmfw[:,1][:-1], label='Step Loss', marker='^', markersize=4,\n",
    "         markevery=[i for i in range(len(values_dmfw[:,0][1:])) if i%10==0])\n",
    "plt.plot(values_dmfw[:,0][:-1],onlineloss, label='Online Loss', marker='^', markersize=4,\n",
    "         markevery=[i for i in range(len(values_dmfw[:,0][1:])) if i%10==0])\n",
    "plt.axhline(y=0, color='grey', linestyle='--')\n",
    "plt.legend(loc='upper right')\n",
    "#plt.ylim((1e-3, 1e2))\n",
    "plt.yscale(\"log\")\n",
    "plt.xlabel(\"#Iterations\",fontsize=15)\n",
    "plt.ylabel(\"Loss\",fontsize=15)"
   ]
  },
  {
   "cell_type": "markdown",
   "metadata": {},
   "source": [
    "# Prediction"
   ]
  },
  {
   "cell_type": "code",
   "execution_count": 438,
   "metadata": {
    "ExecuteTime": {
     "end_time": "2021-08-21T23:56:57.125174Z",
     "start_time": "2021-08-21T23:56:57.116517Z"
    }
   },
   "outputs": [],
   "source": [
    "def ModelPrediction(model_to_test, date ,loader, lookahead):\n",
    "    prediction = []\n",
    "    true = []\n",
    "    for val, valpred in loader[date]:\n",
    "        model_to_test.eval()\n",
    "        pred = model_to_test(val)\n",
    "        #print(pred.shape)\n",
    "        prediction.append(pred.detach().numpy())\n",
    "        true.append(valpred.detach().numpy())\n",
    "    pred_array = np.asarray(prediction)\n",
    "    true_array = np.asarray(true)\n",
    "    #print(pred_array.shape)\n",
    "    pred_shape = pred_array.shape\n",
    "    #print(pred_shape)\n",
    "    flattenTrue = true_array.reshape(pred_shape[0]*pred_shape[1], lookahead)[::lookahead].flatten()\n",
    "    flattenPred = pred_array.reshape(pred_shape[0]*pred_shape[1], lookahead)[::lookahead].flatten()\n",
    "    return flattenTrue, flattenPred"
   ]
  },
  {
   "cell_type": "code",
   "execution_count": 304,
   "metadata": {
    "ExecuteTime": {
     "end_time": "2021-08-21T20:05:30.157261Z",
     "start_time": "2021-08-21T20:05:30.154536Z"
    }
   },
   "outputs": [],
   "source": [
    "#torch.save(trainXMFW.models[3].state_dict(),\"./OnlineModel/CNN1D/FINAL43_BestFinal/model3.pt\")"
   ]
  },
  {
   "cell_type": "code",
   "execution_count": 439,
   "metadata": {
    "ExecuteTime": {
     "end_time": "2021-08-21T23:56:58.343805Z",
     "start_time": "2021-08-21T23:56:58.329934Z"
    }
   },
   "outputs": [],
   "source": [
    "model_trained = trainXMFW.best_models[0]\n",
    "true, pred = ModelPrediction(model_trained,\"2019-05-16\", loaderZ1test, lookahead)"
   ]
  },
  {
   "cell_type": "code",
   "execution_count": 440,
   "metadata": {
    "ExecuteTime": {
     "end_time": "2021-08-21T23:56:58.992473Z",
     "start_time": "2021-08-21T23:56:58.901754Z"
    }
   },
   "outputs": [
    {
     "data": {
      "text/plain": [
       "[<matplotlib.lines.Line2D at 0x2827d57c0>]"
      ]
     },
     "execution_count": 440,
     "metadata": {},
     "output_type": "execute_result"
    },
    {
     "data": {
      "image/png": "[encoded data removed]",
      "text/plain": [
       "<Figure size 432x288 with 1 Axes>"
      ]
     },
     "metadata": {},
     "output_type": "display_data"
    }
   ],
   "source": [
    "plt.plot(true) \n",
    "plt.plot(pred)"
   ]
  },
  {
   "cell_type": "code",
   "execution_count": 441,
   "metadata": {
    "ExecuteTime": {
     "end_time": "2021-08-21T23:57:00.514113Z",
     "start_time": "2021-08-21T23:57:00.506063Z"
    }
   },
   "outputs": [],
   "source": [
    "def PredictionMultipleDate(model, dates, date_begin, date_end, loader, lookahead, scalers, zone_name, ft_idx):\n",
    "    predictTrue = []\n",
    "    predictPred = []\n",
    "    valuePD = pd.DataFrame()\n",
    "    idx_begin = dates.index(date_begin)\n",
    "    idx_end = dates.index(date_end)\n",
    "    for date in dates[idx_begin:idx_end]:\n",
    "        true, pred = ModelPrediction(model, date, loader, lookahead)\n",
    "        maxi = scalers[zone_name].data_max_[ft_idx]\n",
    "        mini = scalers[zone_name].data_min_[ft_idx]\n",
    "        data_range = 0.8\n",
    "        true = ((true.reshape(-1,1) - 0.2)*(maxi-mini))/data_range + mini\n",
    "        pred = ((pred.reshape(-1,1) - 0.2)*(maxi-mini))/data_range + mini\n",
    "        array = np.concatenate([true, pred],axis=1)\n",
    "        result = pd.DataFrame({\"Truth\": true.squeeze(),\n",
    "                              \"Prediction\" : pred.squeeze()})\n",
    "                              #\"Date\": pd.date_range(start=date,periods=true.shape[0], freq=\"5min\")})\n",
    "        valuePD = pd.concat((valuePD, result)).reset_index(drop=True)\n",
    "    return valuePD"
   ]
  },
  {
   "cell_type": "code",
   "execution_count": 442,
   "metadata": {
    "ExecuteTime": {
     "end_time": "2021-08-21T23:57:01.908138Z",
     "start_time": "2021-08-21T23:57:01.904084Z"
    }
   },
   "outputs": [
    {
     "data": {
      "text/plain": [
       "Index(['ACPower', 'lightPower', 'appPower', 'temperature', 'humidity', 'lux'], dtype='object')"
      ]
     },
     "execution_count": 442,
     "metadata": {},
     "output_type": "execute_result"
    }
   ],
   "source": [
    "floor_dict[\"Floor7Z1\"].columns"
   ]
  },
  {
   "cell_type": "code",
   "execution_count": 454,
   "metadata": {
    "ExecuteTime": {
     "end_time": "2021-08-21T23:57:30.798382Z",
     "start_time": "2021-08-21T23:57:30.758537Z"
    }
   },
   "outputs": [],
   "source": [
    "ft_idx = 3\n",
    "indexroom = 3\n",
    "mymodel = trainXMFW.best_models[indexroom]\n",
    "real_index_zone = [1,2,4,5]\n",
    "testloader = [loaderZ1test, loaderZ2test, loaderZ4test, loaderZ5test]\n",
    "may = [date for date in test_date if '2019-05' in date]\n",
    "myfloor = [\"Floor7Z1\",\"Floor7Z2\",\"Floor7Z4\",\"Floor7Z5\"]\n",
    "resultpd = PredictionMultipleDate(mymodel,test_date,may[0], may[5],testloader[indexroom], lookahead, scalers,\n",
    "                                 myfloor[indexroom], ft_idx)"
   ]
  },
  {
   "cell_type": "code",
   "execution_count": 455,
   "metadata": {
    "ExecuteTime": {
     "end_time": "2021-08-21T23:57:31.133112Z",
     "start_time": "2021-08-21T23:57:31.025094Z"
    }
   },
   "outputs": [
    {
     "data": {
      "image/png": "[encoded data removed]",
      "text/plain": [
       "<Figure size 1080x360 with 1 Axes>"
      ]
     },
     "metadata": {},
     "output_type": "display_data"
    }
   ],
   "source": [
    "plt.figure(figsize=(15,5))\n",
    "plt.title(f'Floor {floor} - Zone {real_index_zone[indexroom]}')\n",
    "plt.plot(resultpd[\"Truth\"],label=\"Truth\")\n",
    "plt.plot(resultpd[\"Prediction\"],label=\"Prediction\",ls='-')\n",
    "plt.xticks(ticks=np.arange(resultpd.shape[0],step=100))\n",
    "plt.legend()\n",
    "plt.xlabel(\"Timestep\")\n",
    "plt.ylabel(f'{feature}')\n",
    "plt.show()"
   ]
  },
  {
   "cell_type": "code",
   "execution_count": 456,
   "metadata": {
    "ExecuteTime": {
     "end_time": "2021-08-21T23:57:31.419447Z",
     "start_time": "2021-08-21T23:57:31.408270Z"
    }
   },
   "outputs": [],
   "source": [
    "pd.DataFrame.to_csv(resultpd,path_log+f'/prediction-zone{real_index_zone[indexroom]}.csv')"
   ]
  },
  {
   "cell_type": "raw",
   "metadata": {
    "ExecuteTime": {
     "end_time": "2021-07-24T09:40:30.932087Z",
     "start_time": "2021-07-24T09:40:30.927551Z"
    }
   },
   "source": [
    "floor_dict[\"Floor7Z1\"].columns"
   ]
  }
 ],
 "metadata": {
  "kernelspec": {
   "display_name": "Python 3 (ipykernel)",
   "language": "python",
   "name": "python3"
  },
  "language_info": {
   "codemirror_mode": {
    "name": "ipython",
    "version": 3
   },
   "file_extension": ".py",
   "mimetype": "text/x-python",
   "name": "python",
   "nbconvert_exporter": "python",
   "pygments_lexer": "ipython3",
   "version": "3.8.10"
  },
  "toc": {
   "base_numbering": 1,
   "nav_menu": {},
   "number_sections": true,
   "sideBar": true,
   "skip_h1_title": false,
   "title_cell": "Table of Contents",
   "title_sidebar": "Contents",
   "toc_cell": false,
   "toc_position": {},
   "toc_section_display": true,
   "toc_window_display": false
  }
 },
 "nbformat": 4,
 "nbformat_minor": 4
}
