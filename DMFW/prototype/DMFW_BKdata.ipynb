{
 "cells": [
  {
   "cell_type": "code",
   "execution_count": 101,
   "metadata": {
    "ExecuteTime": {
     "end_time": "2021-08-24T22:17:37.463019Z",
     "start_time": "2021-08-24T22:17:37.456258Z"
    }
   },
   "outputs": [],
   "source": [
    "import pandas as pd\n",
    "import numpy as np\n",
    "import dill\n",
    "import torch.nn as nn\n",
    "import torch\n",
    "import seaborn as sns; sns.set()\n",
    "import matplotlib.pyplot as plt\n",
    "import os\n",
    "import Graphs\n",
    "import networkx as nx\n",
    "import torch.optim as optim\n",
    "import random\n",
    "import copy\n",
    "from collections import defaultdict\n",
    "from torch.utils.data import TensorDataset, DataLoader\n",
    "from torch.optim.optimizer import required\n",
    "from torchinfo import summary\n",
    "from sklearn.preprocessing import MinMaxScaler, StandardScaler\n",
    "from statsmodels.graphics.tsaplots import plot_acf"
   ]
  },
  {
   "cell_type": "code",
   "execution_count": 102,
   "metadata": {
    "ExecuteTime": {
     "end_time": "2021-08-24T22:17:39.330128Z",
     "start_time": "2021-08-24T22:17:39.326215Z"
    }
   },
   "outputs": [],
   "source": [
    "bkdatafolder = \"/Users/Slaton/Documents/DMFW/BangkokDataAnalysis/gitdecenlearn/BKDataCleaned/\"\n",
    "dataset_name = os.listdir(bkdatafolder)"
   ]
  },
  {
   "cell_type": "code",
   "execution_count": 103,
   "metadata": {
    "ExecuteTime": {
     "end_time": "2021-08-24T22:17:52.954181Z",
     "start_time": "2021-08-24T22:17:52.930961Z"
    },
    "code_folding": [
     68
    ]
   },
   "outputs": [],
   "source": [
    "def createDictFloor(floor_name):\n",
    "    getdict = {}\n",
    "    floors = [floor for floor in dataset_name if floor_name in floor]\n",
    "    for name in floors:\n",
    "        floorname = name.split(\".\")[0]\n",
    "        getdict[floorname] = pd.read_csv(bkdatafolder+name, index_col=0, parse_dates=[\"Date\"])\n",
    "        getdict[floorname] = getdict[floorname].sort_index()\n",
    "    return getdict\n",
    "\n",
    "def Missing_values(data):\n",
    "    total = data.isnull().sum().sort_values(ascending=False)\n",
    "    percent = (data.isnull().sum()/data.isnull().count()).sort_values(ascending=False)\n",
    "    missing_data = pd.concat([total,percent], axis=1, keys=['Total', 'Pourcentage'])\n",
    "    print (missing_data[(percent>0)],'\\n' )\n",
    "\n",
    "def seed_everything(seed=0):\n",
    "    random.seed(seed)\n",
    "    os.environ['PYTHONHASHSEED'] = str(seed)\n",
    "    np.random.seed(seed)\n",
    "    torch.manual_seed(seed)\n",
    "    torch.cuda.manual_seed(seed)\n",
    "    torch.backends.cudnn.deterministic = True\n",
    "    \n",
    "def createPlot(date1, date2, features, data):\n",
    "    for floor in data.keys():\n",
    "        data[floor].resample(\"5T\").mean()[features][date1:date2].plot(figsize=(20,7))\n",
    "        \n",
    "\n",
    "def createDTFeat(date1, date2, datadict, features, resample_method=\"sum\" ,scale=True):\n",
    "    resample_move = {}\n",
    "    index_nan = {}\n",
    "    index_small = {}\n",
    "    floors = list(datadict.keys())\n",
    "    dates = []\n",
    "    scalers = {}\n",
    "    for data in datadict.keys():\n",
    "        if resample_method == \"sum\":\n",
    "            resample_move[data] = floor_dict[data][date1:date2].resample(\n",
    "                \"5min\").sum()\n",
    "            \n",
    "        elif resample_method == \"max\":\n",
    "            resample_move[data] = floor_dict[data][date1:date2].resample(\n",
    "                \"5min\").max().bfill()\n",
    "        elif resample_method == \"mean\":\n",
    "            resample_move[data] = floor_dict[data][date1:date2].resample(\n",
    "                \"5min\").mean().bfill()\n",
    "            \n",
    "        cols = resample_move[data].columns\n",
    "        idx = resample_move[data].index\n",
    "\n",
    "        if scale:\n",
    "            \n",
    "            scaler = MinMaxScaler(feature_range=(0.2,1))\n",
    "            scaler.fit(resample_move[data])\n",
    "            resample_move[data] = pd.DataFrame(scaler.transform(\n",
    "                resample_move[data]),\n",
    "                                               columns=cols,\n",
    "                                               index=idx)\n",
    "            scalers[data] = scaler\n",
    "\n",
    "        resample_move[data][\"weekday\"] = resample_move[data].index.day_name()\n",
    "        resample_move[data][\"date\"] = resample_move[data].index.date\n",
    "        resample_move[data][\"time\"] = resample_move[data].index.time\n",
    "\n",
    "        nan = np.where(pd.isnull(resample_move[data][features]))[0]\n",
    "        index_nan[data] = np.unique(resample_move[data].iloc[nan][\"time\"])\n",
    "\n",
    "    return resample_move, scalers, index_nan\n",
    "\n",
    "def getInfoTimeShape(datadict):\n",
    "    for floor in datadict.keys():\n",
    "        data = datadict[floor]\n",
    "        print(\"Floor : {} , shape :{} , TimeMin {} , TimeMax {}\".format(floor,data.shape, data.index.min(), data.index.max()))\n",
    "        Missing_values(data)\n",
    "        \n",
    "def cleanNan(data,idx_nan):\n",
    "    index=[]\n",
    "    for k,v in idx_nan.items():\n",
    "        for ele in v:\n",
    "            index.append(ele)\n",
    "    mynan = set(index)\n",
    "    newdata = data.copy()\n",
    "    remain_date = []\n",
    "    for floor in idx_nan.keys():\n",
    "        datafloor = data[floor]\n",
    "        todropnan = datafloor[datafloor[\"date\"].isin(list(mynan))].index\n",
    "        datafloor = datafloor.drop(todropnan)\n",
    "        newdata[floor] = datafloor\n",
    "        for date in datafloor[\"date\"]:\n",
    "            remain_date.append(str(date))\n",
    "    remain_date = sorted(set(remain_date))\n",
    "    return data, remain_date"
   ]
  },
  {
   "cell_type": "code",
   "execution_count": 104,
   "metadata": {
    "ExecuteTime": {
     "end_time": "2021-08-24T22:17:54.244595Z",
     "start_time": "2021-08-24T22:17:53.267254Z"
    }
   },
   "outputs": [
    {
     "name": "stdout",
     "output_type": "stream",
     "text": [
      "Floor7Z4 Start: 2019-03-06 14:46:00 End: 2019-12-31 23:59:00 Count:416243\n",
      "\n",
      "Floor7Z5 Start: 2019-03-06 14:55:00 End: 2019-12-31 23:59:00 Count:407698\n",
      "\n",
      "Floor7Z2 Start: 2019-03-06 14:48:00 End: 2019-12-31 23:59:00 Count:424701\n",
      "\n",
      "Floor7Z1 Start: 2019-03-06 14:50:00 End: 2019-12-31 23:59:00 Count:424099\n",
      "\n"
     ]
    }
   ],
   "source": [
    "date1 = \"2019-03-07\"\n",
    "date2 = \"2019-12-31\"\n",
    "floor = 7\n",
    "floor_dict = createDictFloor(f\"Floor{floor}\")\n",
    "for data in floor_dict.keys():\n",
    "    zone = floor_dict[data]\n",
    "    print(\"{} Start: {} End: {} Count:{}\".format(data,zone.index.min(),zone.index.max(), zone.shape[0]))\n",
    "    print(\"\")"
   ]
  },
  {
   "cell_type": "code",
   "execution_count": 105,
   "metadata": {
    "ExecuteTime": {
     "end_time": "2021-08-24T22:17:57.969497Z",
     "start_time": "2021-08-24T22:17:57.551560Z"
    }
   },
   "outputs": [],
   "source": [
    "feature = \"temperature\"\n",
    "resample_method = \"max\"\n",
    "resample,scalers, index_nan = createDTFeat(date1, date2, floor_dict, feature,resample_method=resample_method)\n",
    "cleanedData, remain_date = cleanNan(resample, index_nan)"
   ]
  },
  {
   "cell_type": "code",
   "execution_count": 106,
   "metadata": {
    "ExecuteTime": {
     "end_time": "2021-08-24T22:17:58.076445Z",
     "start_time": "2021-08-24T22:17:57.984981Z"
    }
   },
   "outputs": [
    {
     "name": "stdout",
     "output_type": "stream",
     "text": [
      "Floor : Floor7Z4 , shape :(86400, 9) , TimeMin 2019-03-07 00:00:00 , TimeMax 2019-12-31 23:55:00\n",
      "Empty DataFrame\n",
      "Columns: [Total, Pourcentage]\n",
      "Index: [] \n",
      "\n",
      "Floor : Floor7Z5 , shape :(86400, 9) , TimeMin 2019-03-07 00:00:00 , TimeMax 2019-12-31 23:55:00\n",
      "Empty DataFrame\n",
      "Columns: [Total, Pourcentage]\n",
      "Index: [] \n",
      "\n",
      "Floor : Floor7Z2 , shape :(86400, 9) , TimeMin 2019-03-07 00:00:00 , TimeMax 2019-12-31 23:55:00\n",
      "Empty DataFrame\n",
      "Columns: [Total, Pourcentage]\n",
      "Index: [] \n",
      "\n",
      "Floor : Floor7Z1 , shape :(86400, 9) , TimeMin 2019-03-07 00:00:00 , TimeMax 2019-12-31 23:55:00\n",
      "Empty DataFrame\n",
      "Columns: [Total, Pourcentage]\n",
      "Index: [] \n",
      "\n"
     ]
    }
   ],
   "source": [
    "getInfoTimeShape(cleanedData)"
   ]
  },
  {
   "cell_type": "markdown",
   "metadata": {},
   "source": [
    "# Create Slice"
   ]
  },
  {
   "cell_type": "code",
   "execution_count": 107,
   "metadata": {
    "ExecuteTime": {
     "end_time": "2021-08-24T22:18:00.244994Z",
     "start_time": "2021-08-24T22:18:00.232831Z"
    }
   },
   "outputs": [],
   "source": [
    "def rolling_window(series, window_size):\n",
    "    return np.array([series[i : (i + window_size)] for i in range(0, series.shape[0] - window_size + 1)])\n",
    "\n",
    "def to_timeseries_input(series, lookback, predictions):\n",
    "    inputs = rolling_window(series[:-predictions], lookback)\n",
    "    outputs = rolling_window(series[lookback:], predictions)\n",
    "    return inputs, outputs\n",
    "\n",
    "def createDataByDate(datadict, features, dates):\n",
    "    databyDate = defaultdict(lambda : defaultdict(dict))\n",
    "    for date in dates:\n",
    "        for floor in datadict.keys():\n",
    "            databyDate[date][floor] = np.asarray(datadict[floor][date][features])\n",
    "    return databyDate\n",
    "\n",
    "def splitDate(dates,cutoff):\n",
    "    train_date = [x for x in dates if x <= cutoff]\n",
    "    test_date = sorted(list(set(dates) - set(train_date)))\n",
    "    return train_date, test_date\n",
    "\n",
    "def getInfoDataByDate(data, dates):\n",
    "    for date in dates:\n",
    "        print(\"Date : {}\".format(date))\n",
    "        for floor in data[date]:\n",
    "            print(\"{} shape : {}\".format(floor,data[date][floor].shape))\n",
    "            \n",
    "def LoaderByZone(data,zone_name,dates, lookback, lookahead, batch_size, shuffle=False):\n",
    "    loaderZ = {}\n",
    "    for i,date in enumerate(dates):\n",
    "        haruharu = data[date][zone_name]\n",
    "        trainx, trainy = to_timeseries_input(haruharu, lookback, lookahead)\n",
    "        xshape = torch.tensor(trainx, dtype=torch.float).unsqueeze(-1)\n",
    "        yshape = torch.tensor(trainy, dtype=torch.float)\n",
    "        tensorwrap = TensorDataset(xshape,yshape)\n",
    "        loaderxy = DataLoader(tensorwrap,batch_size = batch_size, shuffle=shuffle, drop_last=True)\n",
    "        loaderZ[date] = loaderxy\n",
    "    return loaderZ"
   ]
  },
  {
   "cell_type": "code",
   "execution_count": 108,
   "metadata": {
    "ExecuteTime": {
     "end_time": "2021-08-24T22:18:00.766437Z",
     "start_time": "2021-08-24T22:18:00.676510Z"
    }
   },
   "outputs": [
    {
     "name": "stdout",
     "output_type": "stream",
     "text": [
      "Floor7Z4 Start: 2019-03-07 00:00:00 End: 2019-12-31 23:55:00 Count:86400\n",
      "Floor7Z4 Dates: 300\n",
      "Floor7Z5 Start: 2019-03-07 00:00:00 End: 2019-12-31 23:55:00 Count:86400\n",
      "Floor7Z5 Dates: 300\n",
      "Floor7Z2 Start: 2019-03-07 00:00:00 End: 2019-12-31 23:55:00 Count:86400\n",
      "Floor7Z2 Dates: 300\n",
      "Floor7Z1 Start: 2019-03-07 00:00:00 End: 2019-12-31 23:55:00 Count:86400\n",
      "Floor7Z1 Dates: 300\n"
     ]
    }
   ],
   "source": [
    "for data in cleanedData.keys():\n",
    "    zone = cleanedData[data]\n",
    "    print(\"{} Start: {} End: {} Count:{}\".format(data,zone.index.min(),zone.index.max(), zone.shape[0]))\n",
    "    print(\"{} Dates: {}\".format(data,len(np.unique(zone[\"date\"]))))"
   ]
  },
  {
   "cell_type": "code",
   "execution_count": 109,
   "metadata": {
    "ExecuteTime": {
     "end_time": "2021-08-24T22:18:02.522493Z",
     "start_time": "2021-08-24T22:18:02.255113Z"
    }
   },
   "outputs": [
    {
     "name": "stderr",
     "output_type": "stream",
     "text": [
      "/var/folders/wm/ymsmhgr90dd6gyprvtgvcr080000gn/T/ipykernel_4456/1317003053.py:13: FutureWarning: Indexing a DataFrame with a datetimelike index using a single string to slice the rows, like `frame[string]`, is deprecated and will be removed in a future version. Use `frame.loc[string]` instead.\n",
      "  databyDate[date][floor] = np.asarray(datadict[floor][date][features])\n"
     ]
    }
   ],
   "source": [
    "cutting_date = \"2019-05-08\"\n",
    "train_date, test_date = splitDate(remain_date, cutting_date)\n",
    "databyDate = createDataByDate(cleanedData, feature, remain_date)\n",
    "#getInfoDataByDate(databyDate, train_date)"
   ]
  },
  {
   "cell_type": "code",
   "execution_count": 110,
   "metadata": {
    "ExecuteTime": {
     "end_time": "2021-08-24T22:18:05.857352Z",
     "start_time": "2021-08-24T22:18:05.854454Z"
    }
   },
   "outputs": [],
   "source": [
    "def getRatio(ratio, lookbackinit):\n",
    "    lookahead = int(ratio*lookbackinit)\n",
    "    return lookahead"
   ]
  },
  {
   "cell_type": "code",
   "execution_count": 112,
   "metadata": {
    "ExecuteTime": {
     "end_time": "2021-08-24T22:18:53.065433Z",
     "start_time": "2021-08-24T22:18:52.772966Z"
    }
   },
   "outputs": [
    {
     "name": "stdout",
     "output_type": "stream",
     "text": [
      "-----Floor7Z1-----\n",
      "-----Floor7Z2-----\n",
      "-----Floor7Z4-----\n",
      "-----Floor7Z5-----\n"
     ]
    }
   ],
   "source": [
    "z1 = \"Floor7Z1\"\n",
    "z2 = \"Floor7Z2\"#\n",
    "z4 = \"Floor7Z4\"\n",
    "z5 = \"Floor7Z5\"\n",
    "\n",
    "lookback = 13\n",
    "lookahead = 1\n",
    "batch_size = 32\n",
    "nb_zone=5\n",
    "\n",
    "trainloader = []\n",
    "testloader = []\n",
    "for zone in range(1,nb_zone+1):\n",
    "    if zone != 3:\n",
    "        zoneID = f\"Floor{floor}Z{zone}\"\n",
    "        print(f'-----{zoneID}-----')\n",
    "        loaderZtrain = LoaderByZone(databyDate,zoneID,train_date,lookback,lookahead,batch_size, shuffle=True)\n",
    "        loaderZtest = LoaderByZone(databyDate,zoneID,test_date,lookback, lookahead,batch_size, shuffle=False)\n",
    "        trainloader.append(loaderZtrain)\n",
    "        testloader.append(loaderZtest)\n",
    "        \n",
    "#loaderZ1train = LoaderByZone(databyDate, z1, train_date, lookback, lookahead, batch_size, shuffle=True)\n",
    "#loaderZ1test = LoaderByZone(databyDate, z1, test_date, lookback, lookahead, batch_size)\n",
    "\n",
    "#loaderZ2train = LoaderByZone(databyDate, z2, train_date, lookback, lookahead, batch_size, shuffle=True)\n",
    "#loaderZ2test = LoaderByZone(databyDate, z2, test_date, lookback, lookahead, batch_size)\n",
    "\n",
    "#loaderZ4train = LoaderByZone(databyDate, z4, train_date, lookback, lookahead, batch_size, shuffle=True)\n",
    "#loaderZ4test = LoaderByZone(databyDate, z4, test_date, lookback, lookahead, batch_size)\n",
    "\n",
    "#loaderZ5train = LoaderByZone(databyDate, z5, train_date, lookback, lookahead, batch_size, shuffle=True)\n",
    "#loaderZ5test = LoaderByZone(databyDate, z5, test_date, lookback, lookahead, batch_size)"
   ]
  },
  {
   "cell_type": "code",
   "execution_count": 12,
   "metadata": {
    "ExecuteTime": {
     "end_time": "2021-08-24T16:20:37.171334Z",
     "start_time": "2021-08-24T16:20:37.168766Z"
    }
   },
   "outputs": [],
   "source": [
    "#trainloader = [loaderZ1train, loaderZ1train, loaderZ1train, loaderZ1train]"
   ]
  },
  {
   "cell_type": "code",
   "execution_count": 113,
   "metadata": {
    "ExecuteTime": {
     "end_time": "2021-08-24T22:19:01.892561Z",
     "start_time": "2021-08-24T22:19:01.888428Z"
    }
   },
   "outputs": [
    {
     "data": {
      "text/plain": [
       "504"
      ]
     },
     "execution_count": 113,
     "metadata": {},
     "output_type": "execute_result"
    }
   ],
   "source": [
    "nb_iterations = len(train_date)*len(loaderZ1train[\"2019-03-08\"])\n",
    "nb_iterations"
   ]
  },
  {
   "cell_type": "markdown",
   "metadata": {},
   "source": [
    "# Algorithm"
   ]
  },
  {
   "cell_type": "code",
   "execution_count": 114,
   "metadata": {
    "ExecuteTime": {
     "end_time": "2021-08-24T22:19:14.790000Z",
     "start_time": "2021-08-24T22:19:14.771043Z"
    },
    "code_folding": []
   },
   "outputs": [],
   "source": [
    "def proj_2shape(x,s=8):\n",
    "    shape = x.shape\n",
    "    if torch.linalg.norm(x,ord=1)<=s and torch.all(x>0):\n",
    "        return x\n",
    "    u,_ = torch.sort(torch.abs(x),dim=0,descending=True)\n",
    "    cumsum = torch.cumsum(u, dim=0)\n",
    "    arange = torch.arange(1, shape[0]+1)\n",
    "    rep_arange = arange.unsqueeze(1).repeat(1,shape[1])\n",
    "    rho = torch.count_nonzero((u*rep_arange > (cumsum - s)), dim=0)\n",
    "    theta = (cumsum[rho-1, torch.arange(0,shape[1])] - s)/rho\n",
    "    proj = (torch.abs(x)-theta).clamp(min=0)\n",
    "    proj*= torch.sign(x)\n",
    "    return proj\n",
    "\n",
    "def proj_l1(x, s=8):\n",
    "    shape = x.shape\n",
    "    if len(shape) == 4:\n",
    "        proj = torch.zeros_like(x)\n",
    "        for first_dim in range(x.shape[0]):\n",
    "            for second_dim in range(x.shape[1]):\n",
    "                inner_tensor = x[first_dim][second_dim]\n",
    "                inner_proj = proj_2shape(inner_tensor,s=s)\n",
    "                proj[first_dim][second_dim] = inner_proj\n",
    "                \n",
    "    elif len(shape) == 3:\n",
    "        proj = torch.zeros_like(x)\n",
    "        for first_dim in range(x.shape[0]):\n",
    "            inner_tensor = x[first_dim]\n",
    "            inner_proj = proj_2shape(inner_tensor,s=s)\n",
    "            proj[first_dim] = inner_proj\n",
    "        \n",
    "    elif len(shape) == 2:\n",
    "        proj = proj_2shape(x,s=s)\n",
    "        \n",
    "    elif len(shape) == 1:\n",
    "        u,_ = torch.sort(torch.abs(x),descending=True)\n",
    "        cumsum = torch.cumsum(u,dim=0)\n",
    "        arange = torch.arange(1,shape[0]+1)\n",
    "        rho = torch.count_nonzero((u*arange > (cumsum - s)))\n",
    "        theta = (cumsum[rho-1] - s)/rho\n",
    "        proj = (torch.abs(x)-theta).clamp(min=0)\n",
    "        proj*= torch.sign(x)\n",
    "    return proj"
   ]
  },
  {
   "cell_type": "code",
   "execution_count": 115,
   "metadata": {
    "ExecuteTime": {
     "end_time": "2021-08-24T22:19:15.825360Z",
     "start_time": "2021-08-24T22:19:15.812920Z"
    },
    "code_folding": [
     0,
     16
    ]
   },
   "outputs": [],
   "source": [
    "def simpleLMO(x,radius,p=1):\n",
    "    tolerance = 1e-10\n",
    "    if p == 1:\n",
    "        v = torch.zeros_like(x)\n",
    "        maxIdx = torch.argmax(torch.abs(x))\n",
    "        v.view(-1)[maxIdx] = -radius * torch.sign(x.view(-1)[maxIdx])\n",
    "        return v\n",
    "    elif p == 2:\n",
    "        x_norm = float(torch.norm(x, p=2))\n",
    "        if x_norm > tolerance:\n",
    "            return -radius * x.div(x_norm)\n",
    "        else:\n",
    "            return torch.zeros_like(x)\n",
    "    elif p == float('inf'):\n",
    "        return torch.full_like(x, fill_value=radius).masked_fill_(x > 0, -radius)\n",
    "\n",
    "def simpleProject(x,radius,p=1):\n",
    "    if p==1:\n",
    "        x_norm = torch.norm(x, p=1)\n",
    "        if x_norm > radius:\n",
    "            sorted_ = torch.sort(torch.abs(x.flatten()), descending=True).values\n",
    "            running_mean = (torch.cumsum(sorted_, 0) - radius)/torch.arange(1,sorted_.numel() + 1)                                                                                  \n",
    "            is_less_or_equal = sorted_ <= running_mean\n",
    "            idx = is_less_or_equal.numel() - is_less_or_equal.sum() - 1\n",
    "            return torch.sign(x) * torch.max(torch.abs(x) - running_mean[idx], torch.zeros_like(x))\n",
    "        else:\n",
    "            return x\n",
    "    elif p == 2:\n",
    "        x_norm = torch.norm(x, p=2)\n",
    "        return radius * x.div(x_norm) if x_norm > radius else x\n",
    "    elif p == float('inf'):\n",
    "        return torch.clamp(x, min=-radius, max=radius)"
   ]
  },
  {
   "cell_type": "code",
   "execution_count": 116,
   "metadata": {
    "ExecuteTime": {
     "end_time": "2021-08-24T22:19:16.022263Z",
     "start_time": "2021-08-24T22:19:16.009337Z"
    },
    "code_folding": [
     0
    ]
   },
   "outputs": [],
   "source": [
    "def lmo(x,radius):\n",
    "    \"\"\"Returns v with norm(v, self.p) <= r minimizing v*x\"\"\"\n",
    "    shape = x.shape\n",
    "    if len(shape) == 4:\n",
    "        v = torch.zeros_like(x)\n",
    "        for first_dim in range(shape[0]):\n",
    "            for second_dim in range(shape[1]):\n",
    "                inner_x = x[first_dim][second_dim]\n",
    "                rows, cols = x[first_dim][second_dim].shape\n",
    "                v[first_dim][second_dim] = torch.zeros_like(inner_x)\n",
    "                maxIdx = torch.argmax(torch.abs(inner_x),0)\n",
    "                for col in range(cols):\n",
    "                    v[first_dim][second_dim][maxIdx[col],col] = -radius*torch.sign(inner_x[maxIdx[col],col])\n",
    "    elif len(shape) == 3:\n",
    "        v = torch.zeros_like(x)\n",
    "        for first_dim in range(shape[0]):\n",
    "            inner_x = x[first_dim]\n",
    "            rows, cols = x[first_dim].shape\n",
    "            v[first_dim] = torch.zeros_like(inner_x)\n",
    "            maxIdx = torch.argmax(torch.abs(inner_x),0)\n",
    "            for col in range(cols):\n",
    "                v[first_dim][maxIdx[col],col] = -radius*torch.sign(inner_x[maxIdx[col],col])\n",
    "                    \n",
    "    elif len(shape)==2:\n",
    "        rows, cols = x.shape\n",
    "        v = torch.zeros_like(x)\n",
    "        maxIdx = torch.argmax(torch.abs(x),0)\n",
    "        for col in range(cols):\n",
    "            v[maxIdx[col],col] = -radius*torch.sign(x[maxIdx[col],col])\n",
    "                \n",
    "    else : \n",
    "        v = torch.zeros_like(x)\n",
    "        maxIdx = torch.argmax(torch.abs(x))\n",
    "        v.view(-1)[maxIdx] = -radius * torch.sign(x.view(-1)[maxIdx])\n",
    "    return v"
   ]
  },
  {
   "cell_type": "code",
   "execution_count": 117,
   "metadata": {
    "ExecuteTime": {
     "end_time": "2021-08-24T22:19:16.305234Z",
     "start_time": "2021-08-24T22:19:16.278272Z"
    },
    "code_folding": []
   },
   "outputs": [],
   "source": [
    "class DMFW(optim.Optimizer):\n",
    "    def __init__(self, params, eta_coef=required, eta_exp=required, L=required, matrix_line=required, reg_coef=required,radius=required):\n",
    "        if eta_coef is not required and eta_coef <=0.:\n",
    "            raise ValueError(\"Invalid eta : {}\".format(eta_coef))\n",
    "        if eta_exp is not required and (eta_exp == 0.5):\n",
    "            raise ValueError(\"Invalid eta_exp : {}\".format(eta_exp))\n",
    "        defaults = dict(eta_coef=eta_coef, eta_exp=eta_exp,L=L, matrix_line=matrix_line,reg_coef = reg_coef,radius=radius)\n",
    "        super(DMFW,self).__init__(params,defaults)\n",
    "\n",
    "        for group in self.param_groups:\n",
    "            self.eta_coef = group[\"eta_coef\"]\n",
    "            self.eta_exp = group[\"eta_exp\"]\n",
    "            self.reg_coef = group[\"reg_coef\"]\n",
    "            self.A = group[\"matrix_line\"]\n",
    "            self.L = group[\"L\"]\n",
    "            self.radius = group[\"radius\"]\n",
    "        self.num_layers = len(self.param_groups[0]['params'])\n",
    "        self.dim = [k.shape for k in self.param_groups[0]['params']]\n",
    "        self.G = [[torch.rand(k) for k in self.dim] for l in range(self.L)]\n",
    "        \n",
    "    @torch.no_grad()\n",
    "    def initValue(self,closure):\n",
    "        self.w_dict = defaultdict(dict)\n",
    "        for group in self.param_groups:\n",
    "            if closure is not None:\n",
    "                with torch.enable_grad():\n",
    "                    closure()\n",
    "            for k,weight in enumerate(group[\"params\"]):\n",
    "                if weight.grad is None:\n",
    "                    raise ValueError(\"Gradient is None\")\n",
    "                self.w_dict[k][\"g\"] = weight.grad.detach().clone()\n",
    "                self.w_dict[k][\"w\"] = weight.detach().clone()\n",
    "                \n",
    "    def neighborsAverage(self, neighbors):\n",
    "        for group in self.param_groups:\n",
    "            for k,weight in enumerate(group[\"params\"]):\n",
    "                weighted_tmp = torch.zeros(self.dim[k])\n",
    "                weighted_grad_tmp = torch.zeros(self.dim[k])\n",
    "                for j in range(len(neighbors)):\n",
    "                    weighted_tmp += self.A[j]*neighbors[j].w_dict[k][\"w\"]\n",
    "                    weighted_grad_tmp += self.A[j]*neighbors[j].w_dict[k][\"g\"]\n",
    "                self.w_dict[k][\"y\"] = weighted_tmp\n",
    "                self.w_dict[k][\"ds\"] = weighted_grad_tmp\n",
    "                \n",
    "\n",
    "    def step(self, l, closure):\n",
    "        if l == 0:\n",
    "            self.init_gap = 0\n",
    "        eta = min(self.eta_coef/(l+1)**self.eta_exp, 1)\n",
    "        for group in self.param_groups:\n",
    "            if closure is not None:\n",
    "                with torch.enable_grad():\n",
    "                    closure()\n",
    "            self.gap = 0\n",
    "            for k,weight in enumerate(group[\"params\"]):\n",
    "                a = lmo(weight.grad.data,self.radius)\n",
    "                self.gap += torch.sum(torch.mul(weight.grad.data, weight.data - a))\n",
    "                v = proj_l1(self.G[l][k], s=self.radius)\n",
    "                #v = lmo(self.G[l][k] - 0.5 + torch.rand_like(self.G[l][k]), radius= self.radius)\n",
    "                if weight.grad is None:\n",
    "                    raise ValueError(\"Grad is None\")\n",
    "                self.w_dict[k][\"grad_old\"] = weight.grad.detach().clone()\n",
    "                \n",
    "                weight.data = self.w_dict[k]['y']*(1-eta) + eta*v\n",
    "                #print(\"weight {}\".format(torch.linalg.norm(weight.data,ord=1,dim=0)))\n",
    "                self.w_dict[k][\"w\"] = weight.detach().clone()\n",
    "            #print(f'Last weight {weight.data}')\n",
    "            #print(f'Last v {v}')\n",
    "            #print(f'Last y {self.w_dict[k][\"y\"]}')\n",
    "                \n",
    "            self.init_gap += self.gap\n",
    "            self.init_gap /= (l+1)\n",
    "            \n",
    "            \n",
    "            with torch.enable_grad():\n",
    "                closure()\n",
    "            for k,weight in enumerate(group[\"params\"]):\n",
    "                self.G[l][k] -= 0.5*self.w_dict[k][\"ds\"]*self.reg_coef\n",
    "                #self.G[l][k] += self.w_dict[k][\"ds\"]*self.reg_coef\n",
    "                if weight.grad is None :\n",
    "                    raise ValueError(\"Grad is none\")\n",
    "                weight.grad.add_(-self.w_dict[k][\"grad_old\"])\n",
    "                self.w_dict[k][\"g\"] = weight.grad.detach().clone() + self.w_dict[k][\"ds\"]"
   ]
  },
  {
   "cell_type": "code",
   "execution_count": 118,
   "metadata": {
    "ExecuteTime": {
     "end_time": "2021-08-24T22:19:17.513656Z",
     "start_time": "2021-08-24T22:19:17.478040Z"
    },
    "code_folding": []
   },
   "outputs": [],
   "source": [
    "class Trainer:\n",
    "    def __init__(self, graph, loaders, model, model_param, loss,\n",
    "                 num_iterations):\n",
    "        self.graph = graph\n",
    "        self.num_nodes = graph.number_of_nodes()\n",
    "        self.model = model\n",
    "        self.param = model_param\n",
    "        #self.A = torch.tensor(np.diag(np.ones(self.num_nodes)))#torch.tensor(nx.adjacency_matrix(graph).toarray())\n",
    "        #self.A = torch.tensor(nx.adjacency_matrix(graph).toarray())\n",
    "        self.A = torch.tensor(np.ones((4,4))/4)\n",
    "        self.dataloader = loaders\n",
    "        self.num_iterations = num_iterations\n",
    "        self.loss = loss\n",
    "        self.obj_values = np.ndarray((self.num_iterations + 1, 4),\n",
    "                                     dtype='float')\n",
    "\n",
    "        self.optimizers = [0.] * self.num_nodes\n",
    "        self.models = [0.] * self.num_nodes\n",
    "        self.losses = [0.] * self.num_nodes\n",
    "        #self.gaps = [0.]*self.num_nodes\n",
    "\n",
    "    def reset(self):\n",
    "        self.optimizers = [0.] * self.num_nodes\n",
    "        self.models = [0.] * self.num_nodes\n",
    "        self.losses = [0.] * self.num_nodes\n",
    "        self.gaps = [0.] * self.num_nodes\n",
    "        self.best_models = [0.]*self.num_nodes\n",
    "\n",
    "        self.obj_values = np.ndarray((self.num_iterations + 1, 4),\n",
    "                                     dtype='float')\n",
    "        \n",
    "    def __nodeInit(self, data, label):\n",
    "        nodewrap = TensorDataset(data, label)\n",
    "        nodes = DataLoader(nodewrap, batch_size=data.size(0), shuffle=False)\n",
    "        return nodes\n",
    "\n",
    "    def weight_reset(self, layer):\n",
    "        if isinstance(layer, nn.BatchNorm1d) or isinstance(layer, nn.Linear) or isinstance(layer,nn.Conv1d):\n",
    "            layer.reset_parameters()\n",
    "            \n",
    "    def initModelWeight(self, model):\n",
    "        for name,param in model.named_parameters():\n",
    "            if 'bias' in name:\n",
    "                nn.init.constant_(param,0.)\n",
    "            elif 'weight' in name:\n",
    "                if not 'batch' in name:\n",
    "                    nn.init.xavier_normal_(param)\n",
    "                else:\n",
    "                    nn.init.uniform_(param)\n",
    "\n",
    "    def saveCheckPts(self, t, path):\n",
    "        check_pts = {}\n",
    "        for i in range(self.num_nodes):\n",
    "            ckp_i = {\n",
    "                \"t\": t,\n",
    "                \"weight\": [param for param in self.models[i].parameters()],\n",
    "                \"optimizer_weight\": self.optimizers[i].w_dict,\n",
    "                \"oracles\": self.optimizers[i].G,\n",
    "                \"loss\": self.losses[i]\n",
    "            }  #,\n",
    "            #\"avg_loss\": self.avg_loss[i]}\n",
    "            check_pts[i] = ckp_i\n",
    "        torch.save(check_pts, path + \"checkpts_models\" + \"_\" + str(t) + \".tar\")\n",
    "        \n",
    "    def plotPrediction(self, true, pred,date,path_to_save):\n",
    "        fig = plt.figure(figsize=(5,3))\n",
    "        plt.suptitle(\"{}\".format(date))\n",
    "        plt.plot(true)\n",
    "        plt.plot(pred)\n",
    "        #plt.show()\n",
    "        fig.savefig(os.path.join(path_to_save,date))\n",
    "        plt.close()\n",
    "\n",
    "    def train(self, optimizer, L, eta_coef, eta_exp, reg_coef, radius, path_figure_date):\n",
    "        seed_everything()\n",
    "        self.reset()\n",
    "        \n",
    "        z1, z2, z3, z4 = self.dataloader\n",
    "\n",
    "        for i in range(self.num_nodes):\n",
    "            self.models[i] = self.model(*self.param)\n",
    "            self.optimizers[i] = optimizer(self.models[i].parameters(),\n",
    "                                           eta_coef=eta_coef,\n",
    "                                           eta_exp=eta_exp,\n",
    "                                           L=L,\n",
    "                                           matrix_line=self.A[i],\n",
    "                                           reg_coef=reg_coef,\n",
    "                                           radius=radius)\n",
    "            self.best_models[i] = copy.deepcopy(self.models[i])\n",
    "\n",
    "        self.final_gap = [0.] * self.num_nodes\n",
    "        \n",
    "        t = 0\n",
    "        \n",
    "        for date in z1.keys():\n",
    "            \n",
    "            for i,loader in enumerate(self.dataloader):\n",
    "                truez, predz = ModelPrediction(self.best_models[i], date, loader,lookahead)\n",
    "                path = path_figure_date+\"/Model_\"+str(i)+\"/\"\n",
    "                if not os.path.exists(path):\n",
    "                    os.makedirs(path)\n",
    "                self.plotPrediction(truez, predz,date,path_to_save=path)\n",
    "            \n",
    "            for (couple1, couple2, couple3,couple4) in zip(z1[date],z2[date], z3[date], z4[date]):\n",
    "                datazones = [self.__nodeInit(*couple1), \n",
    "                             self.__nodeInit(*couple2),\n",
    "                             self.__nodeInit(*couple3),\n",
    "                             self.__nodeInit(*couple4)]\n",
    "                \n",
    "\n",
    "                for i in range(self.num_nodes):\n",
    "                    self.initModelWeight(self.models[i])\n",
    "                    self.models[i].train()\n",
    "\n",
    "                    def closure():\n",
    "                        self.optimizers[i].zero_grad(set_to_none=True)\n",
    "                        x, y = iter(datazones[i]).next()\n",
    "                        output = self.models[i](x)\n",
    "                        loss = self.loss(output,y)\n",
    "                        loss.backward()\n",
    "\n",
    "                    self.optimizers[i].initValue(closure)\n",
    "                \n",
    "                opt_index = np.random.randint(low=0,high=L, size=1)\n",
    "                #print(f'Optimal L : {opt_index}')\n",
    "                \n",
    "                for l in range(L):\n",
    "                    #print(\"--------------------------\")\n",
    "                    \n",
    "                    if l==opt_index:\n",
    "                        for i in range(self.num_nodes):\n",
    "                            self.best_models[i] = copy.deepcopy(self.models[i])\n",
    "                    \n",
    "                    for i in range(self.num_nodes):\n",
    "                        self.optimizers[i].neighborsAverage(self.optimizers)\n",
    "                    for i in range(self.num_nodes):\n",
    "                        \n",
    "                        def closure():\n",
    "                            self.optimizers[i].zero_grad(set_to_none=True)\n",
    "                            x, y = iter(datazones[i]).next()\n",
    "                            output = self.models[i](x)\n",
    "                            loss = self.loss(output, y)\n",
    "                            loss.backward()\n",
    "                            \n",
    "                        self.optimizers[i].step(l, closure)\n",
    "\n",
    "                self.gaps_off = [0.] * self.num_nodes\n",
    "                for i in range(self.num_nodes):\n",
    "                    with torch.no_grad():\n",
    "                        self.best_models[i].eval()\n",
    "                        x, y = iter(datazones[i]).next()\n",
    "                        outputs = self.best_models[i](x)\n",
    "                        curr_loss = self.loss(outputs, y)\n",
    "                    self.final_gap[i] += self.optimizers[i].init_gap\n",
    "                    self.final_gap[i] /= (t + 1)\n",
    "                    self.gaps_off[i] = self.optimizers[i].init_gap\n",
    "                    self.losses[i] = curr_loss.detach().numpy()\n",
    "\n",
    "                loss = np.mean(self.losses)\n",
    "                gap = np.max(self.final_gap)  #.detach().numpy(\n",
    "                local_gap = np.max(self.gaps_off)\n",
    "                if t % 1 == 0:\n",
    "                    print(\"t_{} : loss : {:.5f} gap : {} local_gap {}\".format(\n",
    "                        t, loss, gap, local_gap))\n",
    "                    \n",
    "                self.obj_values[t, :] = [t, loss, gap, local_gap]\n",
    "                    \n",
    "                t+=1\n",
    "            \n",
    "\n",
    "        return self.obj_values"
   ]
  },
  {
   "cell_type": "code",
   "execution_count": 48,
   "metadata": {
    "ExecuteTime": {
     "end_time": "2021-08-24T16:26:04.309979Z",
     "start_time": "2021-08-24T16:26:04.290802Z"
    },
    "code_folding": [
     0,
     16,
     32
    ]
   },
   "outputs": [],
   "source": [
    "class Encoder(nn.Module):\n",
    "    def __init__(self, input_dim, hid_dim, n_layers=1):\n",
    "        super(Encoder,self).__init__()\n",
    "        self.input_dim = input_dim\n",
    "        self.hid_dim = hid_dim\n",
    "        self.n_layers = n_layers\n",
    "        self.lstm = nn.LSTM(input_dim, hid_dim, n_layers, batch_first=False, bias=False)\n",
    "        \n",
    "    def forward(self, seq):\n",
    "        outputs, self.hidden = self.lstm(seq.view(seq.shape[1],seq.shape[0],self.input_dim))\n",
    "        return outputs, self.hidden\n",
    "    \n",
    "    def init_hidden(self, batch_size):\n",
    "        return (torch.zeros(self.n_layers, batch_size, self.hid_dim),\n",
    "                torch.zeros(self.n_layers, batch_size, self.hid_dim))\n",
    "    \n",
    "class Decoder(nn.Module):\n",
    "    def __init__(self, input_dim, hid_dim, output_dim, n_layers=1):\n",
    "        super(Decoder,self).__init__()\n",
    "        self.input_dim = input_dim\n",
    "        self.output_dim = output_dim\n",
    "        self.hid_dim = hid_dim\n",
    "        self.n_layers = n_layers\n",
    "        \n",
    "        self.lstm = nn.LSTM(input_dim, hid_dim, n_layers, batch_first = False, bias=False)\n",
    "        self.fc = nn.Linear(hid_dim, output_dim)\n",
    "        \n",
    "    def forward(self, x, encoder_hidden):\n",
    "        lstm_out, self.hidden = self.lstm(x.unsqueeze(0), encoder_hidden)\n",
    "        output = self.fc(lstm_out.squeeze(0))\n",
    "        return output, self.hidden\n",
    "    \n",
    "class Seq2Seq(nn.Module):\n",
    "    def __init__(self, input_dim, hid_dim, output_dim, ts_out, forcing = 1):\n",
    "        super(Seq2Seq,self).__init__()\n",
    "        self.output_dim = output_dim\n",
    "        self.ts_out = ts_out\n",
    "        self.encoder = Encoder(input_dim, hid_dim)\n",
    "        self.decoder = Decoder(input_dim,hid_dim,output_dim)\n",
    "        self.forcing = forcing\n",
    "\n",
    "        \n",
    "    def forward(self, source, y=None):\n",
    "        batch_size = source.shape[0]\n",
    "        target_len = self.ts_out\n",
    "        outputs = torch.zeros(target_len, batch_size,self.output_dim)\n",
    "        encoder_hidden = self.encoder.init_hidden(batch_size)\n",
    "        encoder_output, encoder_hidden = self.encoder(source)\n",
    "        \n",
    "        decoder_input = source[:,-1,:]\n",
    "        decoder_hidden = encoder_hidden\n",
    "        \n",
    "        for t in range(target_len):\n",
    "            decoder_output, decoder_hidden = self.decoder(decoder_input, decoder_hidden)\n",
    "            outputs[t] = decoder_output\n",
    "            if (y is not None) and (t>1) and (torch.rand(1) < self.forcing):\n",
    "                decoder_input = y[:,t].unsqueeze(1)\n",
    "            else :\n",
    "                decoder_input = decoder_output\n",
    "        #print(outputs.shape)\n",
    "        return outputs.squeeze().permute(1,0)"
   ]
  },
  {
   "cell_type": "code",
   "execution_count": 49,
   "metadata": {
    "ExecuteTime": {
     "end_time": "2021-08-24T16:26:04.567129Z",
     "start_time": "2021-08-24T16:26:04.559083Z"
    },
    "code_folding": [
     0
    ]
   },
   "outputs": [],
   "source": [
    "class LSTM(nn.Module):\n",
    "    def __init__(self, input_size, output_size, time_step_in, time_step_out):\n",
    "        super(LSTM, self).__init__()\n",
    "        self.input_size = input_size\n",
    "        self.output_size = output_size\n",
    "        self.time_step_in = time_step_in\n",
    "        self.time_step_out = time_step_out\n",
    "        self.num_layers = 1\n",
    "        \n",
    "        self.encoder = nn.LSTM(self.input_size, self.output_size,\n",
    "                               num_layers=self.num_layers, batch_first=True, bias=True)\n",
    "        \n",
    "        self.batch = nn.BatchNorm1d(self.output_size)\n",
    "        self.linear2 = nn.Linear(self.num_layers*self.output_size, self.time_step_out)\n",
    "        \n",
    "    def forward(self,x):\n",
    "        out_en, (h_en,_) = self.encoder(x)\n",
    "        h_en = h_en.view(-1, self.num_layers*self.output_size)\n",
    "        h_en = self.batch(h_en)\n",
    "        out = nn.LeakyReLU()(h_en)\n",
    "        #out = torch.sigmoid(self.linear(out))\n",
    "        out = self.linear2(out)\n",
    "        return out"
   ]
  },
  {
   "cell_type": "code",
   "execution_count": 119,
   "metadata": {
    "ExecuteTime": {
     "end_time": "2021-08-24T22:19:44.523023Z",
     "start_time": "2021-08-24T22:19:44.514173Z"
    },
    "code_folding": []
   },
   "outputs": [],
   "source": [
    "class CNN1D(nn.Module):\n",
    "    def __init__(self,output_chan, output_dim,input_dim,kernel_size):\n",
    "        super(CNN1D, self).__init__()\n",
    "        \n",
    "        self.output_chan = output_chan\n",
    "        self.output_dim = output_dim\n",
    "        self.input_dim = input_dim\n",
    "        \n",
    "        self.conv1d = nn.Conv1d(in_channels=1, out_channels=output_chan, kernel_size=kernel_size, stride=1, \n",
    "                                padding=int(np.floor(kernel_size/2)))\n",
    "        \n",
    "        \n",
    "        self.maxpool = nn.MaxPool1d(3)\n",
    "        self.batchnorm = nn.BatchNorm1d(output_chan)\n",
    "        self.fc1 = nn.Linear(output_chan*int((input_dim/3)), output_dim, bias=True)\n",
    "        \n",
    "    def forward(self, x):\n",
    "        inputs = x.unsqueeze(1).squeeze(-1)\n",
    "        out = self.conv1d(inputs)\n",
    "        out = self.batchnorm(out)\n",
    "        out = self.maxpool(out)\n",
    "        out = nn.ReLU()(out)\n",
    "        \n",
    "        out = out.view(-1, out.shape[1]*out.shape[2])\n",
    "        \n",
    "        out = self.fc1(out)\n",
    "        return out"
   ]
  },
  {
   "cell_type": "code",
   "execution_count": 120,
   "metadata": {
    "ExecuteTime": {
     "end_time": "2021-08-24T22:19:44.895883Z",
     "start_time": "2021-08-24T22:19:44.884705Z"
    },
    "code_folding": [
     0
    ]
   },
   "outputs": [],
   "source": [
    "class Linear(nn.Module):\n",
    "    def __init__(self, nb_units, input_dim, output_dim):\n",
    "        super(Linear, self).__init__()\n",
    "        \n",
    "        self.nb_units = nb_units\n",
    "        self.input_dim = input_dim\n",
    "        self.output_dim = output_dim\n",
    "        self.nb_units2 = 16\n",
    "    \n",
    "        self.fc1 = nn.Linear(input_dim, nb_units)\n",
    "        #self.fc2 = nn.Linear(nb_units, self.nb_units2)\n",
    "        self.fc3 = nn.Linear(nb_units, output_dim)\n",
    "        \n",
    "        self.batch1 = nn.BatchNorm1d(nb_units)\n",
    "        #self.batch2 = nn.BatchNorm1d(self.nb_units2)\n",
    "        self.drop = nn.Dropout(0.5)\n",
    "        \n",
    "    def forward(self, x):\n",
    "        inputs = x.squeeze(-1)\n",
    "        out = self.fc1(inputs)\n",
    "        out = self.batch1(out)\n",
    "        out = nn.ReLU()(out)\n",
    "        \n",
    "        out = self.fc3(out)\n",
    "        return out"
   ]
  },
  {
   "cell_type": "code",
   "execution_count": 52,
   "metadata": {
    "ExecuteTime": {
     "end_time": "2021-08-24T16:26:06.489764Z",
     "start_time": "2021-08-24T16:26:06.484818Z"
    }
   },
   "outputs": [],
   "source": [
    "complete_graph, complete = Graphs.completegraph(4)\n",
    "cycle_graph, cycle = Graphs.cycle_graph(4)\n",
    "grid_graph, grid = Graphs.gridgraph(2,2)\n",
    "grid_graph_line, line = Graphs.gridgraph(4,1)"
   ]
  },
  {
   "cell_type": "code",
   "execution_count": 121,
   "metadata": {
    "ExecuteTime": {
     "end_time": "2021-08-24T22:19:52.202524Z",
     "start_time": "2021-08-24T22:19:52.199831Z"
    }
   },
   "outputs": [],
   "source": [
    "random_graph = nx.random_graphs.complete_graph(4)"
   ]
  },
  {
   "cell_type": "code",
   "execution_count": 54,
   "metadata": {
    "ExecuteTime": {
     "end_time": "2021-08-24T16:26:07.261873Z",
     "start_time": "2021-08-24T16:26:07.256169Z"
    }
   },
   "outputs": [
    {
     "data": {
      "text/plain": [
       "array([[0. , 0.1, 0.1, 0.1],\n",
       "       [0.1, 0. , 0.1, 0.1],\n",
       "       [0.1, 0.1, 0. , 0.1],\n",
       "       [0.1, 0.1, 0.1, 0. ]])"
      ]
     },
     "execution_count": 54,
     "metadata": {},
     "output_type": "execute_result"
    }
   ],
   "source": [
    "nx.adjacency_matrix(random_graph).toarray()/10"
   ]
  },
  {
   "cell_type": "code",
   "execution_count": 65,
   "metadata": {
    "ExecuteTime": {
     "end_time": "2021-08-24T16:31:29.735462Z",
     "start_time": "2021-08-24T16:31:29.730213Z"
    }
   },
   "outputs": [
    {
     "data": {
      "text/plain": [
       "array([[0.16666667, 0.16666667, 0.16666667, 0.16666667],\n",
       "       [0.16666667, 0.16666667, 0.16666667, 0.16666667],\n",
       "       [0.16666667, 0.16666667, 0.16666667, 0.16666667],\n",
       "       [0.16666667, 0.16666667, 0.16666667, 0.16666667]])"
      ]
     },
     "execution_count": 65,
     "metadata": {},
     "output_type": "execute_result"
    }
   ],
   "source": [
    "nx.adjacency_matrix(complete_graph).toarray()"
   ]
  },
  {
   "cell_type": "code",
   "execution_count": 67,
   "metadata": {
    "ExecuteTime": {
     "end_time": "2021-08-24T16:32:19.297594Z",
     "start_time": "2021-08-24T16:32:19.292911Z"
    }
   },
   "outputs": [
    {
     "data": {
      "text/plain": [
       "array([[0.25, 0.25, 0.25, 0.25],\n",
       "       [0.25, 0.25, 0.25, 0.25],\n",
       "       [0.25, 0.25, 0.25, 0.25],\n",
       "       [0.25, 0.25, 0.25, 0.25]])"
      ]
     },
     "execution_count": 67,
     "metadata": {},
     "output_type": "execute_result"
    }
   ],
   "source": [
    "np.ones((4,4))/4"
   ]
  },
  {
   "cell_type": "code",
   "execution_count": 60,
   "metadata": {
    "ExecuteTime": {
     "end_time": "2021-08-24T16:28:27.685382Z",
     "start_time": "2021-08-24T16:28:27.681297Z"
    }
   },
   "outputs": [
    {
     "data": {
      "text/plain": [
       "0.66666668"
      ]
     },
     "execution_count": 60,
     "metadata": {},
     "output_type": "execute_result"
    }
   ],
   "source": [
    "sum([0.16666667, 0.16666667, 0.16666667, 0.16666667])"
   ]
  },
  {
   "cell_type": "code",
   "execution_count": 37,
   "metadata": {
    "ExecuteTime": {
     "end_time": "2021-08-24T16:22:34.834255Z",
     "start_time": "2021-08-24T16:22:34.767603Z"
    }
   },
   "outputs": [
    {
     "data": {
      "image/png": "[encoded data removed]",
      "text/plain": [
       "<Figure size 432x288 with 1 Axes>"
      ]
     },
     "metadata": {},
     "output_type": "display_data"
    }
   ],
   "source": [
    "nx.draw(random_graph)"
   ]
  },
  {
   "cell_type": "code",
   "execution_count": null,
   "metadata": {},
   "outputs": [],
   "source": []
  },
  {
   "cell_type": "code",
   "execution_count": 94,
   "metadata": {
    "ExecuteTime": {
     "end_time": "2021-08-24T16:19:56.729528Z",
     "start_time": "2021-08-24T16:19:56.725261Z"
    }
   },
   "outputs": [
    {
     "data": {
      "text/plain": [
       "array([[1., 0., 0., 0.],\n",
       "       [0., 1., 0., 0.],\n",
       "       [0., 0., 1., 0.],\n",
       "       [0., 0., 0., 1.]])"
      ]
     },
     "execution_count": 94,
     "metadata": {},
     "output_type": "execute_result"
    }
   ],
   "source": [
    "np.diag(np.ones(4))"
   ]
  },
  {
   "cell_type": "code",
   "execution_count": null,
   "metadata": {
    "ExecuteTime": {
     "end_time": "2021-08-24T15:18:18.305487Z",
     "start_time": "2021-08-24T15:18:18.301316Z"
    }
   },
   "outputs": [],
   "source": []
  },
  {
   "cell_type": "code",
   "execution_count": 95,
   "metadata": {
    "ExecuteTime": {
     "end_time": "2021-08-24T16:19:57.609424Z",
     "start_time": "2021-08-24T16:19:57.605746Z"
    }
   },
   "outputs": [
    {
     "data": {
      "text/plain": [
       "504"
      ]
     },
     "execution_count": 95,
     "metadata": {},
     "output_type": "execute_result"
    }
   ],
   "source": [
    "nb_iterations"
   ]
  },
  {
   "cell_type": "code",
   "execution_count": 69,
   "metadata": {
    "ExecuteTime": {
     "end_time": "2021-08-24T16:32:56.074514Z",
     "start_time": "2021-08-24T16:32:56.071076Z"
    }
   },
   "outputs": [],
   "source": [
    "loss_fn = nn.SmoothL1Loss()\n",
    "num_iters_base = nb_iterations\n",
    "eta_coef_DMFW = 1\n",
    "eta_exp_DMFW = 0.85\n",
    "rho_coef_DMFW = 4e-0\n",
    "rho_exp_DMFW = 1/2\n",
    "reg_coef_DMFW = 10\n",
    "L_DMFW = nb_iterations #or nb_iteration to get a better result"
   ]
  },
  {
   "cell_type": "code",
   "execution_count": 71,
   "metadata": {
    "ExecuteTime": {
     "end_time": "2021-08-24T16:33:10.051846Z",
     "start_time": "2021-08-24T16:33:10.048156Z"
    }
   },
   "outputs": [],
   "source": [
    "trainXMFW = Trainer(complete_graph,trainloader,CNN1D, (8,lookahead,lookback, 1), loss_fn,num_iters_base)"
   ]
  },
  {
   "cell_type": "code",
   "execution_count": 72,
   "metadata": {
    "ExecuteTime": {
     "end_time": "2021-08-24T17:09:51.383879Z",
     "start_time": "2021-08-24T16:33:10.921061Z"
    },
    "scrolled": true
   },
   "outputs": [
    {
     "name": "stdout",
     "output_type": "stream",
     "text": [
      "t_0 : loss : 2.34689 gap : 0.027252864092588425 local_gap 0.027252864092588425\n",
      "t_1 : loss : 1.24585 gap : 0.018302708864212036 local_gap 0.00944332405924797\n",
      "t_2 : loss : 0.18534 gap : 0.009196446277201176 local_gap 0.009561124257743359\n",
      "t_3 : loss : 0.10213 gap : 0.003707408905029297 local_gap 0.0059293522499501705\n",
      "t_4 : loss : 0.98830 gap : 0.0021496526896953583 local_gap 0.007171157747507095\n",
      "t_5 : loss : 0.12607 gap : 0.002688482403755188 local_gap 0.013981242664158344\n",
      "t_6 : loss : 0.10359 gap : 0.0018140843603760004 local_gap 0.010019003413617611\n",
      "t_7 : loss : 0.44026 gap : 0.001351945218630135 local_gap 0.009043998084962368\n",
      "t_8 : loss : 0.03625 gap : 0.0013964237878099084 local_gap 0.011215869337320328\n",
      "t_9 : loss : 0.01248 gap : 0.00020656967535614967 local_gap 0.0006974204443395138\n",
      "t_10 : loss : 0.24398 gap : 0.0006669224239885807 local_gap 0.007172920275479555\n",
      "t_11 : loss : 0.05958 gap : 0.0003123217902611941 local_gap 0.0031113477889448404\n",
      "t_12 : loss : 0.08700 gap : 0.00012198461627122015 local_gap 0.0013231816701591015\n",
      "t_13 : loss : 0.33004 gap : 9.886796033242717e-05 local_gap 0.0012831451604142785\n",
      "t_14 : loss : 0.01081 gap : 0.00028958189068362117 local_gap 0.0042505222372710705\n",
      "t_15 : loss : 0.09609 gap : 0.00024579657474532723 local_gap 0.00365233002230525\n",
      "t_16 : loss : 0.34959 gap : 4.663428626372479e-05 local_gap 0.0005541915888898075\n",
      "t_17 : loss : 0.05063 gap : 2.886243601096794e-05 local_gap 0.0004755034751724452\n",
      "t_18 : loss : 0.03989 gap : 4.896955579170026e-05 local_gap 0.0009043398313224316\n",
      "t_19 : loss : 0.00691 gap : 8.660076855449006e-05 local_gap 0.0016830458771437407\n",
      "t_20 : loss : 0.03698 gap : 3.5437100450508296e-05 local_gap 0.0006601354689337313\n",
      "t_21 : loss : 0.00159 gap : 5.9388989029685035e-05 local_gap 0.0012724418193101883\n",
      "t_22 : loss : 0.00320 gap : 2.6575969968689606e-05 local_gap 0.0005541997379623353\n",
      "t_23 : loss : 0.03161 gap : 1.2516553397290409e-05 local_gap 0.0002761954383458942\n",
      "t_24 : loss : 0.00565 gap : 1.4832829947408754e-05 local_gap 0.00035948416916653514\n",
      "t_25 : loss : 0.00152 gap : 4.08147789130453e-05 local_gap 0.0010463513899594545\n",
      "t_26 : loss : 0.00350 gap : 2.7266840334050357e-05 local_gap 0.0006974294083192945\n",
      "t_27 : loss : 0.14418 gap : 1.5777803128003143e-05 local_gap 0.0004157986550126225\n",
      "t_28 : loss : 0.00601 gap : 1.3153037798474543e-05 local_gap 0.0003656602930277586\n",
      "t_29 : loss : 0.03385 gap : 2.3586858333146665e-06 local_gap 6.0298782045720145e-05\n",
      "t_30 : loss : 0.01208 gap : 2.777062263703556e-06 local_gap 8.373024320462719e-05\n",
      "t_31 : loss : 0.01066 gap : 2.0534649593173526e-05 local_gap 0.0006551778642460704\n",
      "t_32 : loss : 0.02216 gap : 4.6765337174292654e-05 local_gap 0.001524007529951632\n",
      "t_33 : loss : 0.00866 gap : 1.5382611309178174e-05 local_gap 0.00048379410873167217\n",
      "t_34 : loss : 0.01603 gap : 3.503540938254446e-05 local_gap 0.0012118294835090637\n",
      "t_35 : loss : 0.02937 gap : 1.4143029147817288e-05 local_gap 0.000474579690489918\n",
      "t_36 : loss : 0.01307 gap : 1.6056346794357523e-05 local_gap 0.0005804248503409326\n",
      "t_37 : loss : 0.02679 gap : 1.2322090697125532e-05 local_gap 0.0004521830996964127\n",
      "t_38 : loss : 0.01037 gap : 2.337988007639069e-05 local_gap 0.0009003248414956033\n",
      "t_39 : loss : 0.00786 gap : 2.052049785561394e-05 local_gap 0.0007986798300407827\n",
      "t_40 : loss : 0.01317 gap : 2.509787373128347e-05 local_gap 0.0010117135243490338\n",
      "t_41 : loss : 0.12641 gap : 3.1162835512077436e-05 local_gap 0.001284032128751278\n",
      "t_42 : loss : 0.00460 gap : 4.90389320475515e-05 local_gap 0.0020859064534306526\n",
      "t_43 : loss : 0.00873 gap : 3.861606091959402e-05 local_gap 0.0016529696295037866\n",
      "t_44 : loss : 0.00826 gap : 3.230396760045551e-05 local_gap 0.0014183701714500785\n",
      "t_45 : loss : 0.01102 gap : 5.260284979158314e-06 local_gap 0.00020975318329874426\n",
      "t_46 : loss : 0.01342 gap : 1.8037761037703604e-05 local_gap 0.0008425620035268366\n",
      "t_47 : loss : 0.03631 gap : 1.9030987459700555e-05 local_gap 0.0008964462322182953\n",
      "t_48 : loss : 0.01718 gap : 9.565356776874978e-06 local_gap 0.000449996383395046\n",
      "t_49 : loss : 0.01584 gap : 2.629615664773155e-05 local_gap 0.001306934398598969\n",
      "t_50 : loss : 0.02064 gap : 1.390175020787865e-05 local_gap 0.0006826930912211537\n",
      "t_51 : loss : 0.00609 gap : 1.2335221072135027e-05 local_gap 0.0006289172451943159\n",
      "t_52 : loss : 0.00565 gap : 2.459248025843408e-05 local_gap 0.001291066175326705\n",
      "t_53 : loss : 0.01246 gap : 1.4629286852141377e-05 local_gap 0.0007653890061192214\n",
      "t_54 : loss : 0.00971 gap : 2.0758221580763347e-05 local_gap 0.001128017669543624\n",
      "t_55 : loss : 0.00862 gap : 6.454042159020901e-05 local_gap 0.0035972397308796644\n",
      "t_56 : loss : 0.01109 gap : 5.6692779253353365e-06 local_gap 0.0002586084301583469\n",
      "t_57 : loss : 0.00748 gap : 9.51498714130139e-06 local_gap 0.0005468198796734214\n",
      "t_58 : loss : 0.00404 gap : 2.3725282517261803e-05 local_gap 0.0013902767095714808\n",
      "t_59 : loss : 0.01508 gap : 4.088075365871191e-05 local_gap 0.0024318695068359375\n",
      "t_60 : loss : 0.00330 gap : 1.8495642507332377e-05 local_gap 0.001096234773285687\n",
      "t_61 : loss : 0.00598 gap : 7.689401172683574e-06 local_gap 0.0004582472611218691\n",
      "t_62 : loss : 0.01347 gap : 8.998548764793668e-06 local_gap 0.0005596040282398462\n",
      "t_63 : loss : 0.01038 gap : 5.176769718673313e-06 local_gap 0.00032231470686383545\n",
      "t_64 : loss : 0.01562 gap : 7.359895789704751e-06 local_gap 0.0004732786910608411\n",
      "t_65 : loss : 0.00833 gap : 3.1273179047275335e-05 local_gap 0.0020595642272382975\n",
      "t_66 : loss : 0.00439 gap : 5.4264714890450705e-06 local_gap 0.0003341850242577493\n",
      "t_67 : loss : 0.00669 gap : 2.3286347641260363e-06 local_gap 0.0001535250194137916\n",
      "t_68 : loss : 0.00562 gap : 6.357374786603032e-06 local_gap 0.00043688545702025294\n",
      "t_69 : loss : 0.00647 gap : 1.0134095646208152e-05 local_gap 0.0007041222415864468\n",
      "t_70 : loss : 0.00911 gap : 6.323785328277154e-06 local_gap 0.0004451038839761168\n",
      "t_71 : loss : 0.00233 gap : 2.4337664399354253e-06 local_gap 0.00017352197028230876\n",
      "t_72 : loss : 0.03631 gap : 9.061884156835731e-06 local_gap 0.0006590837729163468\n",
      "t_73 : loss : 0.01776 gap : 7.2497364271839615e-06 local_gap 0.0005291103152558208\n",
      "t_74 : loss : 0.00153 gap : 2.754979732344509e-06 local_gap 0.0002006570139201358\n",
      "t_75 : loss : 0.00264 gap : 9.460415526518773e-07 local_gap 6.921783642610535e-05\n",
      "t_76 : loss : 0.01749 gap : 9.854960580923944e-07 local_gap 7.510437717428431e-05\n",
      "t_77 : loss : 0.01064 gap : 1.1275891438344843e-06 local_gap 8.750428241910413e-05\n",
      "t_78 : loss : 0.00046 gap : 1.952186948983581e-06 local_gap 0.0001530951849417761\n",
      "t_79 : loss : 0.71981 gap : 2.3918648821563693e-06 local_gap 0.00018939700385089964\n",
      "t_80 : loss : 0.00019 gap : 4.6705717977602035e-06 local_gap 0.00037614291068166494\n",
      "t_81 : loss : 0.00072 gap : 8.030798426261754e-07 local_gap 6.261689850362018e-05\n",
      "t_82 : loss : 0.00030 gap : 1.1514908919707523e-06 local_gap 9.510845848126337e-05\n",
      "t_83 : loss : 0.00073 gap : 2.926810793724144e-06 local_gap 0.000244700611801818\n",
      "t_84 : loss : 0.00165 gap : 2.8144324915047036e-06 local_gap 0.00023664893524255604\n",
      "t_85 : loss : 0.00018 gap : 4.015021659142803e-06 local_gap 0.00034340511774644256\n",
      "t_86 : loss : 0.00023 gap : 1.9022370452148607e-06 local_gap 0.00016222299018409103\n",
      "t_87 : loss : 0.00173 gap : 1.9497551875247154e-06 local_gap 0.00016967621922958642\n",
      "t_88 : loss : 0.03010 gap : 9.519211744191125e-06 local_gap 0.0008452601032331586\n",
      "t_89 : loss : 0.01549 gap : 3.1012841645861045e-06 local_gap 0.00026959634851664305\n",
      "t_90 : loss : 0.00568 gap : 3.4063650673488155e-06 local_gap 0.00030687794787809253\n",
      "t_91 : loss : 0.00508 gap : 1.2148932000854984e-05 local_gap 0.0011152708902955055\n",
      "t_92 : loss : 0.00526 gap : 1.2624946066353004e-05 local_gap 0.0011653314577415586\n",
      "t_93 : loss : 0.00348 gap : 1.0135030606761575e-05 local_gap 0.0009429872152395546\n",
      "t_94 : loss : 0.00294 gap : 5.272712314763339e-06 local_gap 0.000494062143843621\n",
      "t_95 : loss : 0.00592 gap : 7.312783054658212e-06 local_gap 0.0006976578733883798\n",
      "t_96 : loss : 0.00891 gap : 3.4630315894901287e-06 local_gap 0.00033387370058335364\n",
      "t_97 : loss : 0.00923 gap : 2.874294978028047e-06 local_gap 0.00027933745877817273\n",
      "t_98 : loss : 0.00715 gap : 2.6163629627262708e-06 local_gap 0.00025673568597994745\n",
      "t_99 : loss : 0.00944 gap : 5.14842531629256e-06 local_gap 0.0005123279988765717\n"
     ]
    },
    {
     "name": "stdout",
     "output_type": "stream",
     "text": [
      "t_100 : loss : 0.00439 gap : 4.505620381678455e-06 local_gap 0.00045090497587807477\n",
      "t_101 : loss : 0.00791 gap : 2.6424556835991098e-06 local_gap 0.00026746734511107206\n",
      "t_102 : loss : 0.00389 gap : 5.750835953222122e-06 local_gap 0.0005900717223994434\n",
      "t_103 : loss : 0.01086 gap : 2.86284921457991e-06 local_gap 0.00029198548872955143\n",
      "t_104 : loss : 0.01539 gap : 5.455689915834228e-06 local_gap 0.0005699846078641713\n",
      "t_105 : loss : 0.00912 gap : 3.7053064261272084e-06 local_gap 0.0003881720476783812\n",
      "t_106 : loss : 0.00489 gap : 1.682172410255589e-06 local_gap 0.0001764980988809839\n",
      "t_107 : loss : 0.00584 gap : 2.795176669678767e-06 local_gap 0.0003004626778420061\n",
      "t_108 : loss : 0.01216 gap : 2.431315124340472e-06 local_gap 0.0002624503104016185\n",
      "t_109 : loss : 0.00280 gap : 3.4388392577966442e-06 local_gap 0.000376477197278291\n",
      "t_110 : loss : 0.00197 gap : 2.562013833085075e-06 local_gap 0.00028123537776991725\n",
      "t_111 : loss : 0.00385 gap : 4.352774340077303e-06 local_gap 0.0004861806519329548\n",
      "t_112 : loss : 0.00424 gap : 3.3953460842894856e-06 local_gap 0.0003799126425292343\n",
      "t_113 : loss : 0.00229 gap : 4.842183898290386e-06 local_gap 0.0005486136069521308\n",
      "t_114 : loss : 0.00334 gap : 2.5617191568017006e-06 local_gap 0.00029125987202860415\n",
      "t_115 : loss : 0.00342 gap : 1.6758741594458115e-06 local_gap 0.00019383933977223933\n",
      "t_116 : loss : 0.01371 gap : 2.9513587378460215e-06 local_gap 0.00034363308805041015\n",
      "t_117 : loss : 0.00661 gap : 7.337122951867059e-06 local_gap 0.0008645651978440583\n",
      "t_118 : loss : 0.00942 gap : 1.277490082429722e-05 local_gap 0.0015151762636378407\n",
      "t_119 : loss : 0.00216 gap : 1.5924179024295881e-06 local_gap 0.0001808294327929616\n",
      "t_120 : loss : 0.00330 gap : 8.103749678411987e-06 local_gap 0.0009799215476959944\n",
      "t_121 : loss : 0.00432 gap : 3.492579935482354e-06 local_gap 0.0004179909883532673\n",
      "t_122 : loss : 0.00449 gap : 6.896488685015356e-06 local_gap 0.0008459488162770867\n",
      "t_123 : loss : 0.01230 gap : 4.483750672079623e-06 local_gap 0.0005500208353623748\n",
      "t_124 : loss : 0.00737 gap : 5.603996214631479e-06 local_gap 0.0006968415691517293\n",
      "t_125 : loss : 0.00976 gap : 4.887256636720849e-06 local_gap 0.0006101903272792697\n",
      "t_126 : loss : 0.00463 gap : 3.1547547223453876e-06 local_gap 0.00039616721915081143\n",
      "t_127 : loss : 0.00340 gap : 6.849780220363755e-06 local_gap 0.0008737189345993102\n",
      "t_128 : loss : 0.01698 gap : 3.165312364217243e-06 local_gap 0.00040325699956156313\n",
      "t_129 : loss : 0.00716 gap : 1.4500277757178992e-05 local_gap 0.001881948672235012\n",
      "t_130 : loss : 0.00405 gap : 5.455574410007102e-06 local_gap 0.0007019523764029145\n",
      "t_131 : loss : 0.00456 gap : 2.3532959403382847e-06 local_gap 0.00030647331732325256\n",
      "t_132 : loss : 0.00913 gap : 1.1106014881079318e-06 local_gap 0.00014535670925397426\n",
      "t_133 : loss : 0.00221 gap : 1.5089470934981364e-06 local_gap 0.00020108830358367413\n",
      "t_134 : loss : 0.00201 gap : 1.5873872598604066e-06 local_gap 0.00021330818708520383\n",
      "t_135 : loss : 0.00514 gap : 1.1460929272288922e-06 local_gap 0.00015516960411332548\n",
      "t_136 : loss : 0.00399 gap : 1.6795173678474384e-06 local_gap 0.00022928521502763033\n",
      "t_137 : loss : 0.00073 gap : 1.2737806400764384e-06 local_gap 0.00017423034296371043\n",
      "t_138 : loss : 0.00154 gap : 1.090284854399215e-06 local_gap 0.00015066270134411752\n",
      "t_139 : loss : 0.00022 gap : 8.142495175889053e-07 local_gap 0.00011309135879855603\n",
      "t_140 : loss : 0.00113 gap : 5.425285394267121e-07 local_gap 7.568227010779083e-05\n",
      "t_141 : loss : 0.00789 gap : 4.4963579171053425e-07 local_gap 6.3305749790743e-05\n",
      "t_142 : loss : 0.00260 gap : 7.066890930218506e-07 local_gap 0.00010068876144941896\n",
      "t_143 : loss : 0.00016 gap : 4.997864380129613e-07 local_gap 7.141303649405017e-05\n",
      "t_144 : loss : 0.01611 gap : 6.694648163829697e-06 local_gap 0.0009702727547846735\n",
      "t_145 : loss : 0.00531 gap : 3.134912049063132e-06 local_gap 0.00045100253191776574\n",
      "t_146 : loss : 0.01034 gap : 3.063838676098385e-06 local_gap 0.0004481958458200097\n",
      "t_147 : loss : 0.01227 gap : 1.326746655649913e-06 local_gap 0.00019446354417596012\n",
      "t_148 : loss : 0.44722 gap : 6.368206868501147e-06 local_gap 0.0009484192705713212\n",
      "t_149 : loss : 0.00655 gap : 3.897090664395364e-06 local_gap 0.0005802309606224298\n",
      "t_150 : loss : 0.00730 gap : 8.769087799009867e-06 local_gap 0.00132023508194834\n",
      "t_151 : loss : 0.01043 gap : 2.9951004307804396e-06 local_gap 0.000447881844593212\n",
      "t_152 : loss : 0.00159 gap : 1.2035078498229268e-06 local_gap 0.00018133714911527932\n",
      "t_153 : loss : 0.00330 gap : 1.1904029406650807e-06 local_gap 0.0001823538914322853\n",
      "t_154 : loss : 0.03967 gap : 1.8824845255949185e-06 local_gap 0.00029097168589942157\n",
      "t_155 : loss : 0.00736 gap : 2.2581014036404667e-06 local_gap 0.0003503813350107521\n",
      "t_156 : loss : 0.00210 gap : 1.5085045106388861e-06 local_gap 0.00023493546177633107\n",
      "t_157 : loss : 0.00779 gap : 1.590688043506816e-06 local_gap 0.00024986540665850043\n",
      "t_158 : loss : 0.00204 gap : 2.526821162973647e-06 local_gap 0.00040087648085318506\n",
      "t_159 : loss : 0.01155 gap : 2.207780880780774e-06 local_gap 0.00035105354618281126\n",
      "t_160 : loss : 0.00829 gap : 2.1280839064274915e-06 local_gap 0.0003404137387406081\n",
      "t_161 : loss : 0.00224 gap : 1.6332843415511888e-06 local_gap 0.00026251215604133904\n",
      "t_162 : loss : 0.00287 gap : 1.3096708926241263e-06 local_gap 0.00021221213683020324\n",
      "t_163 : loss : 0.00339 gap : 1.4022178902450833e-06 local_gap 0.00022939805057831109\n",
      "t_164 : loss : 0.00396 gap : 1.4331612874229904e-06 local_gap 0.00023566087475046515\n",
      "t_165 : loss : 0.00198 gap : 1.2665122994803824e-06 local_gap 0.00020942297123838216\n",
      "t_166 : loss : 0.00263 gap : 1.7055484704542323e-06 local_gap 0.0002835600753314793\n",
      "t_167 : loss : 0.00884 gap : 1.4233886531656026e-06 local_gap 0.00023742375196889043\n",
      "t_168 : loss : 0.01016 gap : 2.044549319180078e-06 local_gap 0.00034410544321872294\n",
      "t_169 : loss : 0.00680 gap : 4.606330094247824e-06 local_gap 0.0007816673023626208\n",
      "t_170 : loss : 0.00200 gap : 4.708680990006542e-06 local_gap 0.0008009467856027186\n",
      "t_171 : loss : 0.01290 gap : 4.517863999353722e-06 local_gap 0.0007723639137111604\n",
      "t_172 : loss : 0.00795 gap : 3.6372844078869093e-06 local_gap 0.0006251198938116431\n",
      "t_173 : loss : 0.01888 gap : 3.325916168250842e-06 local_gap 0.0005750721320509911\n",
      "t_174 : loss : 0.00313 gap : 3.954150088247843e-06 local_gap 0.0006886503542773426\n",
      "t_175 : loss : 0.00896 gap : 1.1425386219343636e-06 local_gap 0.00019713265646714717\n",
      "t_176 : loss : 0.00469 gap : 1.9923902527807513e-06 local_gap 0.0003517766890581697\n",
      "t_177 : loss : 0.00320 gap : 2.15877525988617e-06 local_gap 0.00038226961623877287\n",
      "t_178 : loss : 0.00606 gap : 1.2773299431501073e-06 local_gap 0.00022741891734767705\n",
      "t_179 : loss : 0.00869 gap : 2.1384164483606583e-06 local_gap 0.0003842477744910866\n",
      "t_180 : loss : 0.01077 gap : 3.7248221360641764e-06 local_gap 0.0006734613562002778\n",
      "t_181 : loss : 0.00999 gap : 1.1123258900624933e-06 local_gap 0.00019957352196797729\n",
      "t_182 : loss : 0.00389 gap : 1.7548986761539709e-06 local_gap 0.0003206309047527611\n",
      "t_183 : loss : 0.00299 gap : 2.6549041649559513e-06 local_gap 0.00048764466191641986\n",
      "t_184 : loss : 0.04693 gap : 3.357335344844614e-06 local_gap 0.0006192064611241221\n",
      "t_185 : loss : 0.00354 gap : 3.92280981031945e-06 local_gap 0.0007264645537361503\n",
      "t_186 : loss : 0.00042 gap : 8.450921882285911e-07 local_gap 0.00015410943888127804\n",
      "t_187 : loss : 0.00078 gap : 1.6850616191277368e-07 local_gap 3.083406772930175e-05\n",
      "t_188 : loss : 0.00371 gap : 6.172555799821566e-07 local_gap 0.00011649280349956825\n",
      "t_189 : loss : 0.00091 gap : 8.585446380493522e-07 local_gap 0.0001627645397093147\n",
      "t_190 : loss : 0.00851 gap : 1.2211072544232593e-06 local_gap 0.00023254795814864337\n",
      "t_191 : loss : 0.00129 gap : 8.8646169160711e-07 local_gap 0.00016954660532064736\n",
      "t_192 : loss : 0.01110 gap : 1.8075958223562338e-06 local_gap 0.00034830838558264077\n",
      "t_193 : loss : 0.00138 gap : 6.024356480338611e-07 local_gap 0.00011515845835674554\n",
      "t_194 : loss : 0.00274 gap : 4.897513008472743e-07 local_gap 9.498021245235577e-05\n",
      "t_195 : loss : 0.01165 gap : 8.455841111754125e-07 local_gap 0.0001653207145864144\n",
      "t_196 : loss : 0.00061 gap : 7.465463340849965e-07 local_gap 0.00014635399566031992\n",
      "t_197 : loss : 0.00250 gap : 1.0335858178223134e-06 local_gap 0.00020413918537087739\n"
     ]
    },
    {
     "name": "stdout",
     "output_type": "stream",
     "text": [
      "t_198 : loss : 0.00043 gap : 2.057006156519492e-07 local_gap 3.9998874854063615e-05\n",
      "t_199 : loss : 0.00281 gap : 2.1206510325555428e-07 local_gap 4.2307787225581706e-05\n",
      "t_200 : loss : 0.03055 gap : 5.68040650250623e-06 local_gap 0.0011415495537221432\n",
      "t_201 : loss : 0.02220 gap : 2.9774330414511496e-06 local_gap 0.0005961124552413821\n",
      "t_202 : loss : 0.00662 gap : 1.2226954595462303e-06 local_gap 0.0002458389208186418\n",
      "t_203 : loss : 0.01118 gap : 1.9650919966807123e-06 local_gap 0.00039984352770261467\n",
      "t_204 : loss : 0.00929 gap : 6.4182759160758e-06 local_gap 0.0013140146620571613\n",
      "t_205 : loss : 0.00332 gap : 5.424085429694969e-06 local_gap 0.001110943267121911\n",
      "t_206 : loss : 0.01148 gap : 3.1102065349841723e-06 local_gap 0.0006396457902155817\n",
      "t_207 : loss : 0.00506 gap : 5.466685706778662e-06 local_gap 0.0011339604388922453\n",
      "t_208 : loss : 0.01271 gap : 3.920418748748489e-06 local_gap 0.0008140498539432883\n",
      "t_209 : loss : 0.00856 gap : 6.817240318923723e-06 local_gap 0.001428677816875279\n",
      "t_210 : loss : 0.00305 gap : 4.1510215851303656e-06 local_gap 0.0008699796162545681\n",
      "t_211 : loss : 0.00162 gap : 3.717542540471186e-06 local_gap 0.0007841218612156808\n",
      "t_212 : loss : 0.00179 gap : 3.241934109610156e-06 local_gap 0.0006885097245685756\n",
      "t_213 : loss : 0.00447 gap : 4.126657131564571e-06 local_gap 0.0008816156187094748\n",
      "t_214 : loss : 0.00812 gap : 2.1038949853391387e-06 local_gap 0.000448210776085034\n",
      "t_215 : loss : 0.00265 gap : 2.4150535864464473e-06 local_gap 0.0005205724155530334\n",
      "t_216 : loss : 0.00651 gap : 4.792187155544525e-06 local_gap 0.0010380366584286094\n",
      "t_217 : loss : 0.00354 gap : 2.281125034642173e-06 local_gap 0.0004928651615045965\n",
      "t_218 : loss : 0.00409 gap : 4.221988547215005e-06 local_gap 0.0009242286323569715\n",
      "t_219 : loss : 0.00221 gap : 4.042779437440913e-06 local_gap 0.0008861268870532513\n",
      "t_220 : loss : 0.00197 gap : 4.651428753277287e-06 local_gap 0.001025869743898511\n",
      "t_221 : loss : 0.00288 gap : 5.962769137113355e-06 local_gap 0.0013191580073907971\n",
      "t_222 : loss : 0.00570 gap : 5.17143325851066e-06 local_gap 0.001148234587162733\n",
      "t_223 : loss : 0.00224 gap : 3.5652849419420818e-06 local_gap 0.0007967910496518016\n",
      "t_224 : loss : 0.00706 gap : 3.2479656510986388e-06 local_gap 0.0007281953585334122\n",
      "t_225 : loss : 0.00166 gap : 2.740889385677292e-06 local_gap 0.0006180702475830913\n",
      "t_226 : loss : 0.00519 gap : 1.5634942656106432e-06 local_gap 0.0003537192824296653\n",
      "t_227 : loss : 0.00361 gap : 3.833725713775493e-06 local_gap 0.0008736657910048962\n",
      "t_228 : loss : 0.00169 gap : 1.8939019810204627e-06 local_gap 0.00043093226850032806\n",
      "t_229 : loss : 0.00976 gap : 1.6908720681385603e-06 local_gap 0.00038772731204517186\n",
      "t_230 : loss : 0.01551 gap : 2.8395231765898643e-06 local_gap 0.000655542011372745\n",
      "t_231 : loss : 0.00259 gap : 1.898015511869744e-06 local_gap 0.00043890767847187817\n",
      "t_232 : loss : 0.00159 gap : 1.929126028699102e-06 local_gap 0.00044876954052597284\n",
      "t_233 : loss : 0.00455 gap : 7.843431149012758e-07 local_gap 0.00018260558135807514\n",
      "t_234 : loss : 0.00326 gap : 7.597236617584713e-07 local_gap 0.00017775071319192648\n",
      "t_235 : loss : 0.01187 gap : 2.081628736050334e-06 local_gap 0.0004907099646516144\n",
      "t_236 : loss : 0.00325 gap : 2.1869909687666222e-06 local_gap 0.0005174442776478827\n",
      "t_237 : loss : 0.00117 gap : 1.1749963277907227e-06 local_gap 0.00027826434234157205\n",
      "t_238 : loss : 0.00917 gap : 1.5007251477072714e-06 local_gap 0.00035833768197335303\n",
      "t_239 : loss : 0.00771 gap : 1.0100903864440625e-06 local_gap 0.00024092097009997815\n",
      "t_240 : loss : 0.04385 gap : 4.480708867049543e-06 local_gap 0.0010788406943902373\n",
      "t_241 : loss : 0.00783 gap : 3.329195124024409e-06 local_gap 0.0008018117514438927\n",
      "t_242 : loss : 0.01774 gap : 6.195210175974353e-07 local_gap 0.00014721440675202757\n",
      "t_243 : loss : 0.00165 gap : 9.638353049012949e-07 local_gap 0.0002345562825212255\n",
      "t_244 : loss : 0.00972 gap : 1.1817600125141325e-06 local_gap 0.0002885945432353765\n",
      "t_245 : loss : 0.00059 gap : 1.0289834335708292e-06 local_gap 0.000252209953032434\n",
      "t_246 : loss : 0.00154 gap : 9.936982223734958e-07 local_gap 0.0002447020960971713\n",
      "t_247 : loss : 0.00114 gap : 8.241705131695198e-07 local_gap 0.0002034005883615464\n",
      "t_248 : loss : 0.00135 gap : 1.6825772490847157e-06 local_gap 0.00041832533315755427\n",
      "t_249 : loss : 0.00268 gap : 4.179701136308722e-07 local_gap 0.00010280995047651231\n",
      "t_250 : loss : 0.00139 gap : 2.0196270611450018e-07 local_gap 5.027466977480799e-05\n",
      "t_251 : loss : 0.00568 gap : 3.8708535043951997e-07 local_gap 9.743276314111426e-05\n",
      "t_252 : loss : 0.84350 gap : 7.495296472370683e-07 local_gap 0.00018956250278279185\n",
      "t_253 : loss : 0.00051 gap : 3.2587144005447044e-07 local_gap 8.206488564610481e-05\n",
      "t_254 : loss : 0.00223 gap : 5.501873374669231e-07 local_gap 0.00014012277824804187\n",
      "t_255 : loss : 0.00114 gap : 1.3072184401607956e-07 local_gap 3.291460598120466e-05\n",
      "t_256 : loss : 0.00987 gap : 5.787055670225527e-07 local_gap 0.00014859660586807877\n",
      "t_257 : loss : 0.00357 gap : 3.2879381706152344e-07 local_gap 8.43885718495585e-05\n",
      "t_258 : loss : 0.00453 gap : 4.5314959606912453e-07 local_gap 0.00011703695054166019\n",
      "t_259 : loss : 0.00887 gap : 2.614599452499533e-07 local_gap 6.758703239029273e-05\n",
      "t_260 : loss : 0.00100 gap : 2.1949975348434236e-07 local_gap 5.702797352569178e-05\n",
      "t_261 : loss : 0.00051 gap : 2.44856295239515e-07 local_gap 6.402864528354257e-05\n",
      "t_262 : loss : 0.00062 gap : 4.999338329980674e-07 local_gap 0.00013132026651874185\n",
      "t_263 : loss : 0.00167 gap : 3.1195335736811103e-07 local_gap 8.206032362068072e-05\n",
      "t_264 : loss : 0.02328 gap : 4.675055151892593e-06 local_gap 0.0012386898742988706\n",
      "t_265 : loss : 0.01922 gap : 1.7529243905300973e-06 local_gap 0.0004624606517609209\n",
      "t_266 : loss : 0.01362 gap : 1.2465267218431109e-06 local_gap 0.00033201853511855006\n",
      "t_267 : loss : 0.00919 gap : 1.0208026424152195e-06 local_gap 0.0002727172977756709\n",
      "t_268 : loss : 0.01826 gap : 1.2394056057019043e-06 local_gap 0.0003327495651319623\n",
      "t_269 : loss : 0.00566 gap : 3.334128678034176e-06 local_gap 0.0008995487005449831\n",
      "t_270 : loss : 0.00575 gap : 2.2241722490434768e-06 local_gap 0.0005994165549054742\n",
      "t_271 : loss : 0.00297 gap : 1.5565562989650061e-06 local_gap 0.00042180289165116847\n",
      "t_272 : loss : 0.01249 gap : 2.2892413653607946e-06 local_gap 0.0006234063766896725\n",
      "t_273 : loss : 0.03709 gap : 1.172847760244622e-06 local_gap 0.00031915874569676816\n",
      "t_274 : loss : 0.00255 gap : 1.3336126585272723e-06 local_gap 0.00036573217948898673\n",
      "t_275 : loss : 0.00910 gap : 1.6568501450819895e-06 local_gap 0.0004563905531540513\n",
      "t_276 : loss : 0.00331 gap : 1.5897799130470958e-06 local_gap 0.0004387121880427003\n",
      "t_277 : loss : 0.00345 gap : 7.459964876943559e-07 local_gap 0.00020597511320374906\n",
      "t_278 : loss : 0.00661 gap : 1.6226462093982263e-06 local_gap 0.0004524682299233973\n",
      "t_279 : loss : 0.00318 gap : 8.709393455319514e-07 local_gap 0.0002424516569590196\n",
      "t_280 : loss : 0.00251 gap : 8.025069178074773e-07 local_gap 0.00022508973779622465\n",
      "t_281 : loss : 0.00234 gap : 4.1651850324342377e-07 local_gap 0.00011691848339978606\n",
      "t_282 : loss : 0.00319 gap : 5.176723902877711e-07 local_gap 0.00014628622739110142\n",
      "t_283 : loss : 0.00223 gap : 8.832384423840267e-07 local_gap 0.00025032355915755033\n",
      "t_284 : loss : 0.00614 gap : 1.4132996284388355e-06 local_gap 0.0004025510570500046\n",
      "t_285 : loss : 0.01986 gap : 1.309297317675373e-06 local_gap 0.0003739465319085866\n",
      "t_286 : loss : 0.00923 gap : 4.2169347125309287e-07 local_gap 0.00012064115435350686\n",
      "t_287 : loss : 0.00992 gap : 7.941162607494334e-07 local_gap 0.00022833066759631038\n",
      "t_288 : loss : 0.06564 gap : 4.419268861965975e-06 local_gap 0.0012767170555889606\n",
      "t_289 : loss : 0.01593 gap : 2.9093141620251117e-06 local_gap 0.0008394928881898522\n",
      "t_290 : loss : 0.00943 gap : 3.0627381875092397e-06 local_gap 0.0008883474511094391\n",
      "t_291 : loss : 0.00858 gap : 2.8616932468139566e-06 local_gap 0.0008329048869200051\n",
      "t_292 : loss : 0.00169 gap : 2.264823706354946e-06 local_gap 0.0006611395510844886\n",
      "t_293 : loss : 0.00144 gap : 1.679308070379193e-06 local_gap 0.0004925169632770121\n",
      "t_294 : loss : 0.00877 gap : 1.5578086731693475e-06 local_gap 0.00045787423732690513\n",
      "t_295 : loss : 0.00507 gap : 1.1935593420275836e-06 local_gap 0.0003518110024742782\n"
     ]
    },
    {
     "name": "stdout",
     "output_type": "stream",
     "text": [
      "t_296 : loss : 0.00631 gap : 6.314676852525736e-07 local_gap 0.00018679516506381333\n",
      "t_297 : loss : 0.00171 gap : 1.5815837741683936e-06 local_gap 0.0004709487548097968\n",
      "t_298 : loss : 0.00277 gap : 1.4429052725972724e-06 local_gap 0.0004298471030779183\n",
      "t_299 : loss : 0.02382 gap : 1.3255881867735297e-06 local_gap 0.00039685150841251016\n",
      "t_300 : loss : 0.00120 gap : 1.2396928923408268e-06 local_gap 0.00037236252683214843\n",
      "t_301 : loss : 0.00340 gap : 1.219750743075565e-06 local_gap 0.00036712500150315464\n",
      "t_302 : loss : 0.01025 gap : 1.2445469792510266e-06 local_gap 0.0003761173866223544\n",
      "t_303 : loss : 0.00192 gap : 8.960862487583654e-07 local_gap 0.00027180893812328577\n",
      "t_304 : loss : 0.00226 gap : 2.0770494302269071e-07 local_gap 6.256353663047776e-05\n",
      "t_305 : loss : 0.00193 gap : 6.433929797822202e-07 local_gap 0.0001967369025805965\n",
      "t_306 : loss : 0.00392 gap : 8.833943638819619e-07 local_gap 0.00027095008408650756\n",
      "t_307 : loss : 0.00240 gap : 8.135379516716057e-07 local_gap 0.00024992640828713775\n",
      "t_308 : loss : 0.00755 gap : 5.962900786471437e-07 local_gap 0.00018346808792557567\n",
      "t_309 : loss : 0.00427 gap : 1.5404245345962408e-07 local_gap 4.715687100542709e-05\n",
      "t_310 : loss : 0.01798 gap : 1.559098166126205e-07 local_gap 4.842916314373724e-05\n",
      "t_311 : loss : 0.00068 gap : 9.848364612707883e-08 local_gap 3.06511101371143e-05\n",
      "t_312 : loss : 0.00292 gap : 2.4404789655818604e-07 local_gap 7.63562202337198e-05\n",
      "t_313 : loss : 0.00419 gap : 1.4150516847166728e-07 local_gap 4.419146353029646e-05\n",
      "t_314 : loss : 0.00104 gap : 1.3873410864562175e-07 local_gap 4.3559739424381405e-05\n",
      "t_315 : loss : 0.00248 gap : 4.1198200051439926e-07 local_gap 0.00013012565614189953\n",
      "t_316 : loss : 0.00056 gap : 4.552261430035287e-07 local_gap 0.0001440183841623366\n",
      "t_317 : loss : 0.00032 gap : 3.1000590183793975e-07 local_gap 9.832522482611239e-05\n",
      "t_318 : loss : 0.00059 gap : 1.909205735728392e-07 local_gap 6.071302777854726e-05\n",
      "t_319 : loss : 0.00112 gap : 2.7402137448007124e-07 local_gap 8.758969488553703e-05\n",
      "t_320 : loss : 0.00063 gap : 1.3925995290264837e-07 local_gap 4.463580989977345e-05\n",
      "t_321 : loss : 0.00248 gap : 1.3364086726141977e-07 local_gap 4.2908734030788764e-05\n",
      "t_322 : loss : 0.00114 gap : 1.1087070106441388e-07 local_gap 3.567939347703941e-05\n",
      "t_323 : loss : 0.01076 gap : 2.2947912725612696e-07 local_gap 7.430983532685786e-05\n",
      "t_324 : loss : 0.00153 gap : 1.9390640204619558e-07 local_gap 6.285091512836516e-05\n",
      "t_325 : loss : 0.01310 gap : 3.2564747698415886e-07 local_gap 0.00010596717766020447\n",
      "t_326 : loss : 0.00088 gap : 3.422681800202554e-07 local_gap 0.00011172417725902051\n",
      "t_327 : loss : 0.00208 gap : 2.42567523400794e-07 local_gap 7.92925784480758e-05\n",
      "t_328 : loss : 0.03895 gap : 4.722194262285484e-06 local_gap 0.001553359325043857\n",
      "t_329 : loss : 0.02784 gap : 2.5333008579764282e-06 local_gap 0.0008312670397572219\n",
      "t_330 : loss : 0.01052 gap : 2.527257720430498e-06 local_gap 0.000834180333185941\n",
      "t_331 : loss : 0.00743 gap : 1.0016328815254383e-06 local_gap 0.0003300148528069258\n",
      "t_332 : loss : 0.03726 gap : 1.0787267683554091e-06 local_gap 0.0003582382923923433\n",
      "t_333 : loss : 0.00805 gap : 9.941451253325795e-07 local_gap 0.00033123441971838474\n",
      "t_334 : loss : 0.00318 gap : 1.3193681525081047e-06 local_gap 0.0004415413422975689\n",
      "t_335 : loss : 0.02702 gap : 1.8475927845429396e-06 local_gap 0.0006204289966262877\n",
      "t_336 : loss : 0.03632 gap : 1.4763362514713663e-06 local_gap 0.0004969548899680376\n",
      "t_337 : loss : 0.01467 gap : 1.2389767789500183e-06 local_gap 0.0004174906061962247\n",
      "t_338 : loss : 0.00917 gap : 2.113536311298958e-06 local_gap 0.00071588164428249\n",
      "t_339 : loss : 0.00449 gap : 1.8748748971120222e-06 local_gap 0.0006362011772580445\n",
      "t_340 : loss : 0.04143 gap : 1.1243947710681823e-06 local_gap 0.00038164472789503634\n",
      "t_341 : loss : 0.00355 gap : 1.9625583718152484e-06 local_gap 0.0006704627885483205\n",
      "t_342 : loss : 0.00925 gap : 6.538240313602728e-07 local_gap 0.00022354346583597362\n",
      "t_343 : loss : 0.00638 gap : 1.7843561863628565e-06 local_gap 0.0006132581038400531\n",
      "t_344 : loss : 0.00509 gap : 1.0548203590587946e-06 local_gap 0.00036288207047618926\n",
      "t_345 : loss : 0.01124 gap : 7.757215598758194e-07 local_gap 0.00026820358471013606\n",
      "t_346 : loss : 0.00145 gap : 9.667949143477017e-07 local_gap 0.0003347021120134741\n",
      "t_347 : loss : 0.00262 gap : 1.033560238283826e-06 local_gap 0.00035952363396063447\n",
      "t_348 : loss : 0.01313 gap : 2.850157216016669e-06 local_gap 0.0009936713613569736\n",
      "t_349 : loss : 0.00393 gap : 2.4807090994727332e-06 local_gap 0.0008653980330564082\n",
      "t_350 : loss : 0.01202 gap : 2.0917525489494437e-06 local_gap 0.0007332143723033369\n",
      "t_351 : loss : 0.00425 gap : 1.8313184000362526e-06 local_gap 0.0006425323081202805\n",
      "t_352 : loss : 0.01841 gap : 2.2138456188258715e-06 local_gap 0.0007806846406310797\n",
      "t_353 : loss : 0.00932 gap : 7.674282755942841e-07 local_gap 0.000269455777015537\n",
      "t_354 : loss : 0.00175 gap : 1.2906557458336465e-06 local_gap 0.0004574153572320938\n",
      "t_355 : loss : 0.00168 gap : 8.78789819580561e-07 local_gap 0.00031253276392817497\n",
      "t_356 : loss : 0.00751 gap : 2.057304300251417e-06 local_gap 0.0007337582064792514\n",
      "t_357 : loss : 0.00134 gap : 7.654105615984008e-07 local_gap 0.0002726526581682265\n",
      "t_358 : loss : 0.00512 gap : 1.6033112615332357e-06 local_gap 0.000574823294300586\n",
      "t_359 : loss : 0.01179 gap : 1.8503668570701848e-06 local_gap 0.0006652781739830971\n",
      "t_360 : loss : 0.04018 gap : 1.3063893220532918e-06 local_gap 0.0004700989811681211\n",
      "t_361 : loss : 0.01337 gap : 2.4004411898204125e-06 local_gap 0.000867786759044975\n",
      "t_362 : loss : 0.01110 gap : 2.1800697140861303e-06 local_gap 0.0007900946657173336\n",
      "t_363 : loss : 0.00314 gap : 1.1787294624809874e-06 local_gap 0.000427795312134549\n",
      "t_364 : loss : 0.00185 gap : 8.502727268933086e-07 local_gap 0.00030944825266487896\n",
      "t_365 : loss : 0.00355 gap : 4.4865649329040025e-07 local_gap 0.00016406859504058957\n",
      "t_366 : loss : 0.00252 gap : 1.4792787794704054e-07 local_gap 5.4092735808808357e-05\n",
      "t_367 : loss : 0.00249 gap : 1.7313460887180554e-07 local_gap 6.361684791045263e-05\n",
      "t_368 : loss : 0.01378 gap : 2.9509108117053984e-06 local_gap 0.001088712946511805\n",
      "t_369 : loss : 0.01079 gap : 1.7017213167491718e-06 local_gap 0.0006276174099184573\n",
      "t_370 : loss : 0.00785 gap : 1.3866438166587614e-06 local_gap 0.0005127431359142065\n",
      "t_371 : loss : 0.01185 gap : 5.798655138278264e-07 local_gap 0.00021432334324344993\n",
      "t_372 : loss : 0.01047 gap : 9.917378065438243e-07 local_gap 0.00036933834780938923\n",
      "t_373 : loss : 0.00766 gap : 6.002279064887261e-07 local_gap 0.00022363300377037376\n",
      "t_374 : loss : 0.00284 gap : 9.479042546445271e-07 local_gap 0.0003548656532075256\n",
      "t_375 : loss : 0.56204 gap : 9.956096391761093e-07 local_gap 0.00037340132985264063\n",
      "t_376 : loss : 0.01216 gap : 2.5826948331086896e-06 local_gap 0.0009726803400553763\n",
      "t_377 : loss : 0.00215 gap : 7.810820079612313e-07 local_gap 0.00029425948741845787\n",
      "t_378 : loss : 0.00875 gap : 4.986336534784641e-07 local_gap 0.00018860524869523942\n",
      "t_379 : loss : 0.01821 gap : 6.864737542855437e-07 local_gap 0.00026040675584226847\n",
      "t_380 : loss : 0.00202 gap : 8.759904517319228e-07 local_gap 0.00033306589466519654\n",
      "t_381 : loss : 0.00228 gap : 6.746332701368374e-07 local_gap 0.0002569671196397394\n",
      "t_382 : loss : 0.00212 gap : 3.582472061225417e-07 local_gap 0.00013703944568987936\n",
      "t_383 : loss : 0.00527 gap : 7.933903702905809e-07 local_gap 0.0003043481265194714\n",
      "t_384 : loss : 0.01200 gap : 5.427087899079197e-07 local_gap 0.0002084508741972968\n",
      "t_385 : loss : 0.00312 gap : 3.229317258046649e-07 local_gap 0.00012453280214685947\n",
      "t_386 : loss : 0.00958 gap : 5.498160930983431e-07 local_gap 0.00021261766960378736\n",
      "t_387 : loss : 0.00738 gap : 8.545295600015379e-07 local_gap 0.00033126951893791556\n",
      "t_388 : loss : 0.00224 gap : 6.270694257182186e-07 local_gap 0.0002434929774608463\n",
      "t_389 : loss : 0.00703 gap : 9.09865207177063e-07 local_gap 0.0003548045642673969\n",
      "t_390 : loss : 0.00738 gap : 1.1067788818763802e-06 local_gap 0.00043204103712923825\n",
      "t_391 : loss : 0.00687 gap : 9.268782150684274e-07 local_gap 0.00036281044594943523\n",
      "t_392 : loss : 0.00739 gap : 1.2579610029206378e-06 local_gap 0.0004939315840601921\n",
      "t_393 : loss : 0.00160 gap : 1.1995100521744462e-06 local_gap 0.00047149581951089203\n"
     ]
    },
    {
     "name": "stdout",
     "output_type": "stream",
     "text": [
      "t_394 : loss : 0.00512 gap : 1.0428833547848626e-06 local_gap 0.00041102810064330697\n",
      "t_395 : loss : 0.00078 gap : 1.0049303682535538e-06 local_gap 0.00039700520574115217\n",
      "t_396 : loss : 0.00272 gap : 1.1117446092612226e-06 local_gap 0.00044035768951289356\n",
      "t_397 : loss : 0.00809 gap : 7.936351948956144e-07 local_gap 0.0003149750118609518\n",
      "t_398 : loss : 0.00201 gap : 1.2047461268593906e-06 local_gap 0.0004802382318302989\n",
      "t_399 : loss : 0.00586 gap : 8.482719522362459e-07 local_gap 0.0003384143637958914\n",
      "t_400 : loss : 0.00313 gap : 6.922051625224412e-07 local_gap 0.00027673557633534074\n",
      "t_401 : loss : 0.00368 gap : 8.623597409496142e-07 local_gap 0.0003459764120634645\n",
      "t_402 : loss : 0.00122 gap : 1.014191525428032e-06 local_gap 0.0004081819497514516\n",
      "t_403 : loss : 0.00365 gap : 7.05925231159199e-07 local_gap 0.00028457457665354013\n",
      "t_404 : loss : 0.00302 gap : 7.41659448522114e-07 local_gap 0.0002996661642100662\n",
      "t_405 : loss : 0.00419 gap : 7.028657478258538e-07 local_gap 0.00028462184127420187\n",
      "t_406 : loss : 0.00114 gap : 6.449648140005593e-07 local_gap 0.0002621701860334724\n",
      "t_407 : loss : 0.00300 gap : 9.206643767356582e-07 local_gap 0.0003749860916286707\n",
      "t_408 : loss : 0.03190 gap : 2.485543973307358e-06 local_gap 0.0010159300873056054\n",
      "t_409 : loss : 0.00987 gap : 3.452757368904713e-07 local_gap 0.00013907751417718828\n",
      "t_410 : loss : 0.00117 gap : 9.28993060256289e-08 local_gap 3.796978126047179e-05\n",
      "t_411 : loss : 0.00322 gap : 3.4287378980479843e-07 local_gap 0.0001412510609952733\n",
      "t_412 : loss : 0.03462 gap : 1.5073435122303636e-07 local_gap 6.2142702518031e-05\n",
      "t_413 : loss : 0.00101 gap : 2.9734448503404565e-07 local_gap 0.00012302985123824328\n",
      "t_414 : loss : 0.00107 gap : 2.72295864078842e-07 local_gap 0.0001128137155319564\n",
      "t_415 : loss : 0.00080 gap : 4.808571816283802e-07 local_gap 0.0001999943342525512\n",
      "t_416 : loss : 0.02481 gap : 3.0740062584300176e-07 local_gap 0.0001278967974940315\n",
      "t_417 : loss : 2.86733 gap : 1.455480145295951e-07 local_gap 6.066635251045227e-05\n",
      "t_418 : loss : 0.02001 gap : 1.344955791182656e-07 local_gap 5.6208096793852746e-05\n",
      "t_419 : loss : 0.01244 gap : 2.218895218675243e-07 local_gap 9.305910498369485e-05\n",
      "t_420 : loss : 0.03159 gap : 3.7040175016045396e-07 local_gap 0.000155821573571302\n",
      "t_421 : loss : 0.07867 gap : 2.3957460371093475e-07 local_gap 0.00010090274008689448\n",
      "t_422 : loss : 0.00699 gap : 1.7590811296486208e-07 local_gap 7.43123164284043e-05\n",
      "t_423 : loss : 0.00604 gap : 2.652170678629773e-07 local_gap 0.00011237585567869246\n",
      "t_424 : loss : 0.02232 gap : 2.1327700778783765e-06 local_gap 0.0009061620803549886\n",
      "t_425 : loss : 0.01781 gap : 1.2851514838985167e-06 local_gap 0.0005454286583699286\n",
      "t_426 : loss : 0.01436 gap : 9.282204587179876e-07 local_gap 0.000395655952161178\n",
      "t_427 : loss : 0.00498 gap : 1.0897448419200373e-06 local_gap 0.000465508783236146\n",
      "t_428 : loss : 0.01029 gap : 6.490290047622693e-07 local_gap 0.0002775548491626978\n",
      "t_429 : loss : 0.00551 gap : 1.2021754400848295e-06 local_gap 0.0005163326277397573\n",
      "t_430 : loss : 0.00265 gap : 1.5090740816958714e-06 local_gap 0.0006496374844573438\n",
      "t_431 : loss : 0.00652 gap : 1.3513466683434672e-06 local_gap 0.0005831444286741316\n",
      "t_432 : loss : 0.01731 gap : 2.1671835384040605e-06 local_gap 0.0009377316455356777\n",
      "t_433 : loss : 0.01749 gap : 8.928403190111567e-07 local_gap 0.00038630206836387515\n",
      "t_434 : loss : 0.00473 gap : 6.985684990468144e-07 local_gap 0.0003029844374395907\n",
      "t_435 : loss : 0.01014 gap : 4.488027229854197e-07 local_gap 0.00019518675981089473\n",
      "t_436 : loss : 0.00401 gap : 5.050271738582524e-07 local_gap 0.00022026638907846063\n",
      "t_437 : loss : 0.00925 gap : 5.647485750159831e-07 local_gap 0.0002468688471708447\n",
      "t_438 : loss : 0.02078 gap : 4.3215305822741357e-07 local_gap 0.00018939979781862348\n",
      "t_439 : loss : 0.00210 gap : 9.853122264757985e-07 local_gap 0.00043316109804436564\n",
      "t_440 : loss : 0.02043 gap : 8.421869779340341e-07 local_gap 0.0003710123128257692\n",
      "t_441 : loss : 0.00928 gap : 5.442594215310237e-07 local_gap 0.00023972048074938357\n",
      "t_442 : loss : 0.00234 gap : 5.777528713224456e-07 local_gap 0.000255579681834206\n",
      "t_443 : loss : 0.00267 gap : 9.755958672030829e-07 local_gap 0.0004325868212617934\n",
      "t_444 : loss : 0.00101 gap : 7.523697149736108e-07 local_gap 0.00033452201751060784\n",
      "t_445 : loss : 0.00287 gap : 8.206862389670277e-07 local_gap 0.000365494197467342\n",
      "t_446 : loss : 0.00404 gap : 9.444735269426019e-07 local_gap 0.00042140905861742795\n",
      "t_447 : loss : 0.00174 gap : 4.398266923999472e-07 local_gap 0.00019682194397319108\n",
      "t_448 : loss : 0.00390 gap : 6.602343773920438e-07 local_gap 0.0002960105484817177\n",
      "t_449 : loss : 0.00286 gap : 6.982977538427804e-07 local_gap 0.0003140217449981719\n",
      "t_450 : loss : 0.00311 gap : 4.779438995683449e-07 local_gap 0.0002153593668481335\n",
      "t_451 : loss : 0.00263 gap : 4.422554980010318e-07 local_gap 0.00019942154176533222\n",
      "t_452 : loss : 0.00624 gap : 4.80811138459103e-07 local_gap 0.00021754838235210627\n",
      "t_453 : loss : 0.00329 gap : 3.338450937917514e-07 local_gap 0.00015108486695680767\n",
      "t_454 : loss : 0.00369 gap : 9.376428238283552e-07 local_gap 0.00042631925316527486\n",
      "t_455 : loss : 0.00469 gap : 5.713368977922073e-07 local_gap 0.0002597776474431157\n",
      "t_456 : loss : 0.00193 gap : 6.447976943491085e-07 local_gap 0.0002943282015621662\n",
      "t_457 : loss : 0.01096 gap : 6.57748898902355e-07 local_gap 0.0003008779895026237\n",
      "t_458 : loss : 0.00226 gap : 8.207682640204439e-07 local_gap 0.00037647096905857325\n",
      "t_459 : loss : 0.00328 gap : 7.972030289238319e-07 local_gap 0.000366158812539652\n",
      "t_460 : loss : 0.00504 gap : 5.850498041581886e-07 local_gap 0.0002690436376724392\n",
      "t_461 : loss : 0.00540 gap : 4.241733222443145e-07 local_gap 0.0001957755594048649\n",
      "t_462 : loss : 0.00180 gap : 4.93764162001753e-07 local_gap 0.000228352946578525\n",
      "t_463 : loss : 0.00262 gap : 3.382885722658102e-07 local_gap 0.00015660462668165565\n",
      "t_464 : loss : 0.00493 gap : 5.523837671717047e-07 local_gap 0.0002567065821494907\n",
      "t_465 : loss : 0.01926 gap : 5.326848508957482e-07 local_gap 0.00024771643802523613\n",
      "t_466 : loss : 0.00358 gap : 9.29497332435858e-07 local_gap 0.00043354256195016205\n",
      "t_467 : loss : 0.00965 gap : 4.5676739546252065e-07 local_gap 0.00021283763635437936\n",
      "t_468 : loss : 0.00349 gap : 1.0343437679694034e-06 local_gap 0.00048486192827112973\n",
      "t_469 : loss : 0.00179 gap : 6.63549940327357e-07 local_gap 0.0003108341188635677\n",
      "t_470 : loss : 0.00744 gap : 2.7458676754577027e-07 local_gap 0.00012912455713376403\n",
      "t_471 : loss : 0.00687 gap : 9.775399121281225e-07 local_gap 0.00046122638741508126\n",
      "t_472 : loss : 0.05208 gap : 3.217849950942764e-07 local_gap 0.00015191645070444793\n",
      "t_473 : loss : 0.00086 gap : 5.96159679844277e-07 local_gap 0.00028225791174918413\n",
      "t_474 : loss : 0.00113 gap : 1.1824566854556906e-06 local_gap 0.0005610707448795438\n",
      "t_475 : loss : 0.00130 gap : 1.0511645314181806e-06 local_gap 0.0004992091562598944\n",
      "t_476 : loss : 0.00640 gap : 6.669977778983593e-07 local_gap 0.00031710678013041615\n",
      "t_477 : loss : 0.00577 gap : 7.950787335175846e-07 local_gap 0.0003794975345954299\n",
      "t_478 : loss : 0.00161 gap : 1.0157003771382733e-06 local_gap 0.00048602919559925795\n",
      "t_479 : loss : 0.00413 gap : 9.634940170144546e-07 local_gap 0.00046146142994984984\n",
      "t_480 : loss : 0.04086 gap : 1.3076542018097825e-06 local_gap 0.0006280784728005528\n",
      "t_481 : loss : 0.01415 gap : 2.650972419360187e-07 local_gap 0.0001266389444936067\n",
      "t_482 : loss : 0.00761 gap : 5.614058409264544e-07 local_gap 0.00027089391369372606\n",
      "t_483 : loss : 0.01433 gap : 7.819006100362458e-07 local_gap 0.00037801775033585727\n",
      "t_484 : loss : 0.01129 gap : 7.529703225372941e-07 local_gap 0.0003644695971161127\n",
      "t_485 : loss : 0.00445 gap : 3.477455834399734e-07 local_gap 0.0001683547452557832\n",
      "t_486 : loss : 0.00363 gap : 4.2003128442047455e-07 local_gap 0.00020420749206095934\n",
      "t_487 : loss : 0.00962 gap : 1.6067070873759803e-07 local_gap 7.79872716520913e-05\n",
      "t_488 : loss : 0.00623 gap : 1.9374756448087282e-06 local_gap 0.0009472907404415309\n",
      "t_489 : loss : 0.01198 gap : 1.1851084309455473e-06 local_gap 0.0005790066788904369\n",
      "t_490 : loss : 0.00452 gap : 4.632186971775809e-07 local_gap 0.0002262552734464407\n",
      "t_491 : loss : 0.00572 gap : 5.824099957862927e-07 local_gap 0.0002860825043171644\n",
      "t_492 : loss : 0.00396 gap : 7.727011848146503e-07 local_gap 0.00038041314110159874\n"
     ]
    },
    {
     "name": "stdout",
     "output_type": "stream",
     "text": [
      "t_493 : loss : 0.00350 gap : 7.195097850853927e-07 local_gap 0.0003546651278156787\n",
      "t_494 : loss : 0.00481 gap : 6.76043157454842e-07 local_gap 0.00033392186742275953\n",
      "t_495 : loss : 0.00232 gap : 6.429064569601906e-07 local_gap 0.0003182055370416492\n",
      "t_496 : loss : 0.00313 gap : 1.0121616469405126e-06 local_gap 0.0005026516737416387\n",
      "t_497 : loss : 0.00161 gap : 4.3007440808651154e-07 local_gap 0.00021326501155272126\n",
      "t_498 : loss : 0.00147 gap : 3.3418072575841506e-07 local_gap 0.00016638956731185317\n",
      "t_499 : loss : 0.00202 gap : 3.8985075434538885e-07 local_gap 0.0001947515702340752\n",
      "t_500 : loss : 0.00998 gap : 1.7833461640748283e-07 local_gap 8.904100104700774e-05\n",
      "t_501 : loss : 0.00335 gap : 3.960743129027833e-07 local_gap 0.0001987086288863793\n",
      "t_502 : loss : 0.00703 gap : 6.304671842372045e-07 local_gap 0.0003169960982631892\n",
      "t_503 : loss : 0.00658 gap : 4.494947063449217e-07 local_gap 0.00022632737818639725\n"
     ]
    }
   ],
   "source": [
    "values_dmfw = trainXMFW.train(DMFW, L_DMFW, eta_coef_DMFW, eta_exp_DMFW, reg_coef_DMFW,1,\n",
    "                            path_figure_date=\"./OnlineModel/CNN1D/IIDTest/complete8/\")"
   ]
  },
  {
   "cell_type": "code",
   "execution_count": 87,
   "metadata": {
    "ExecuteTime": {
     "end_time": "2021-08-24T17:16:00.379574Z",
     "start_time": "2021-08-24T17:16:00.375642Z"
    }
   },
   "outputs": [],
   "source": [
    "path_log = \"/Users/Slaton/Documents/DMFW/BangkokDataAnalysis/gitdecenlearn/Analysis/new-temp/completeIID/\"\n",
    "if not os.path.exists(path_log):\n",
    "    os.makedirs(path_log)"
   ]
  },
  {
   "cell_type": "code",
   "execution_count": 88,
   "metadata": {
    "ExecuteTime": {
     "end_time": "2021-08-24T17:16:04.036561Z",
     "start_time": "2021-08-24T17:16:04.031062Z"
    }
   },
   "outputs": [],
   "source": [
    "def save_log_csv(log_file, path_to_save,floor_idx,graph):\n",
    "    logs = pd.DataFrame(log_file, columns=[\"Iteration\", \"Loss\", \"Gap\", \"Local Gaps\"])\n",
    "    pd.DataFrame.to_csv(logs, os.path.join(path_to_save,f'Floor_{floor_idx}_'+\"_\"+f'{graph}'+\".csv\"))\n",
    "def save_state_dict(model, model_idx, path_to_save,floor_idx,graph):\n",
    "    torch.save(model.state_dict(), os.path.join(path_to_save,f'Floor{floor_idx}_model{model_idx}_{graph}_statedict.pt'))"
   ]
  },
  {
   "cell_type": "code",
   "execution_count": 90,
   "metadata": {
    "ExecuteTime": {
     "end_time": "2021-08-24T17:16:24.390340Z",
     "start_time": "2021-08-24T17:16:24.377053Z"
    }
   },
   "outputs": [],
   "source": [
    "save_log_csv(values_dmfw, path_log, floor, \"completeIID\")\n",
    "for i in range(4):\n",
    "    save_state_dict(trainXMFW.best_models[i],i, path_log, floor,\"completeIID\")"
   ]
  },
  {
   "cell_type": "code",
   "execution_count": 73,
   "metadata": {
    "ExecuteTime": {
     "end_time": "2021-08-24T17:12:52.651271Z",
     "start_time": "2021-08-24T17:12:52.356571Z"
    }
   },
   "outputs": [
    {
     "data": {
      "text/plain": [
       "Text(0, 0.5, 'Gap')"
      ]
     },
     "execution_count": 73,
     "metadata": {},
     "output_type": "execute_result"
    },
    {
     "data": {
      "image/png": "[encoded data removed]",
      "text/plain": [
       "<Figure size 720x360 with 1 Axes>"
      ]
     },
     "metadata": {},
     "output_type": "display_data"
    }
   ],
   "source": [
    "plt.figure(figsize=(10,5))\n",
    "plt.suptitle(\"{}\".format(cycle))\n",
    "plt.plot(values_dmfw[:,0][:-1],values_dmfw[:,2][:-1], label='DMFW', marker='^', markersize=4,\n",
    "         markevery=[i for i in range(len(values_dmfw[:,0][1:])) if i%10==0])\n",
    "plt.axhline(y=0, color='grey', linestyle='--')\n",
    "plt.legend(loc='upper right')\n",
    "#plt.ylim((1e-4, 1e0))\n",
    "plt.yscale(\"log\")\n",
    "plt.xlabel(\"#Iterations\",fontsize=15)\n",
    "plt.ylabel(\"Gap\",fontsize=15)"
   ]
  },
  {
   "cell_type": "code",
   "execution_count": 74,
   "metadata": {
    "ExecuteTime": {
     "end_time": "2021-08-24T17:12:54.905124Z",
     "start_time": "2021-08-24T17:12:54.900500Z"
    }
   },
   "outputs": [
    {
     "data": {
      "text/plain": [
       "0.032658252128356484"
      ]
     },
     "execution_count": 74,
     "metadata": {},
     "output_type": "execute_result"
    }
   ],
   "source": [
    "np.mean(values_dmfw[:,1][:-1])"
   ]
  },
  {
   "cell_type": "code",
   "execution_count": 75,
   "metadata": {
    "ExecuteTime": {
     "end_time": "2021-08-24T17:12:57.129568Z",
     "start_time": "2021-08-24T17:12:57.126043Z"
    }
   },
   "outputs": [],
   "source": [
    "onlineloss = np.cumsum(values_dmfw[:,1][:-1])\n",
    "arangement = np.arange(1,len(onlineloss)+1)\n",
    "onlineloss = onlineloss/arangement"
   ]
  },
  {
   "cell_type": "code",
   "execution_count": 76,
   "metadata": {
    "ExecuteTime": {
     "end_time": "2021-08-24T17:12:57.936722Z",
     "start_time": "2021-08-24T17:12:57.729954Z"
    }
   },
   "outputs": [
    {
     "data": {
      "text/plain": [
       "Text(0, 0.5, 'Loss')"
      ]
     },
     "execution_count": 76,
     "metadata": {},
     "output_type": "execute_result"
    },
    {
     "data": {
      "image/png": "[encoded data removed]",
      "text/plain": [
       "<Figure size 720x360 with 1 Axes>"
      ]
     },
     "metadata": {},
     "output_type": "display_data"
    }
   ],
   "source": [
    "plt.figure(figsize=(10,5))\n",
    "plt.suptitle(\"{}\".format(cycle))\n",
    "plt.plot(values_dmfw[:,0][:-1],values_dmfw[:,1][:-1], label='Step Loss', marker='^', markersize=4,\n",
    "         markevery=[i for i in range(len(values_dmfw[:,0][1:])) if i%10==0])\n",
    "plt.plot(values_dmfw[:,0][:-1],onlineloss, label='Online Loss', marker='^', markersize=4,\n",
    "         markevery=[i for i in range(len(values_dmfw[:,0][1:])) if i%10==0])\n",
    "plt.axhline(y=0, color='grey', linestyle='--')\n",
    "plt.legend(loc='upper right')\n",
    "#plt.ylim((1e-3, 1e2))\n",
    "plt.yscale(\"log\")\n",
    "plt.xlabel(\"#Iterations\",fontsize=15)\n",
    "plt.ylabel(\"Loss\",fontsize=15)"
   ]
  },
  {
   "cell_type": "markdown",
   "metadata": {},
   "source": [
    "# Prediction"
   ]
  },
  {
   "cell_type": "code",
   "execution_count": 32,
   "metadata": {
    "ExecuteTime": {
     "end_time": "2021-08-24T16:21:04.387628Z",
     "start_time": "2021-08-24T16:21:04.381100Z"
    }
   },
   "outputs": [],
   "source": [
    "def ModelPrediction(model_to_test, date ,loader, lookahead):\n",
    "    prediction = []\n",
    "    true = []\n",
    "    for val, valpred in loader[date]:\n",
    "        model_to_test.eval()\n",
    "        pred = model_to_test(val)\n",
    "        #print(pred.shape)\n",
    "        prediction.append(pred.detach().numpy())\n",
    "        true.append(valpred.detach().numpy())\n",
    "    pred_array = np.asarray(prediction)\n",
    "    true_array = np.asarray(true)\n",
    "    #print(pred_array.shape)\n",
    "    pred_shape = pred_array.shape\n",
    "    #print(pred_shape)\n",
    "    flattenTrue = true_array.reshape(pred_shape[0]*pred_shape[1], lookahead)[::lookahead].flatten()\n",
    "    flattenPred = pred_array.reshape(pred_shape[0]*pred_shape[1], lookahead)[::lookahead].flatten()\n",
    "    return flattenTrue, flattenPred"
   ]
  },
  {
   "cell_type": "code",
   "execution_count": 92,
   "metadata": {
    "ExecuteTime": {
     "end_time": "2021-08-22T17:43:39.326321Z",
     "start_time": "2021-08-22T17:43:39.322762Z"
    }
   },
   "outputs": [],
   "source": [
    "#torch.save(trainXMFW.models[3].state_dict(),\"./OnlineModel/CNN1D/FINAL43_BestFinal/model3.pt\")"
   ]
  },
  {
   "cell_type": "code",
   "execution_count": 77,
   "metadata": {
    "ExecuteTime": {
     "end_time": "2021-08-24T17:13:03.213772Z",
     "start_time": "2021-08-24T17:13:03.203655Z"
    }
   },
   "outputs": [],
   "source": [
    "model_trained = trainXMFW.best_models[0]\n",
    "true, pred = ModelPrediction(model_trained,\"2019-05-16\", loaderZ1test, lookahead)"
   ]
  },
  {
   "cell_type": "code",
   "execution_count": 78,
   "metadata": {
    "ExecuteTime": {
     "end_time": "2021-08-24T17:13:03.742221Z",
     "start_time": "2021-08-24T17:13:03.665262Z"
    }
   },
   "outputs": [
    {
     "data": {
      "text/plain": [
       "[<matplotlib.lines.Line2D at 0x2957ac9d0>]"
      ]
     },
     "execution_count": 78,
     "metadata": {},
     "output_type": "execute_result"
    },
    {
     "data": {
      "image/png": "[encoded data removed]",
      "text/plain": [
       "<Figure size 432x288 with 1 Axes>"
      ]
     },
     "metadata": {},
     "output_type": "display_data"
    }
   ],
   "source": [
    "plt.plot(true) \n",
    "plt.plot(pred)"
   ]
  },
  {
   "cell_type": "code",
   "execution_count": 79,
   "metadata": {
    "ExecuteTime": {
     "end_time": "2021-08-24T17:13:11.262618Z",
     "start_time": "2021-08-24T17:13:11.251567Z"
    }
   },
   "outputs": [],
   "source": [
    "def PredictionMultipleDate(model, dates, date_begin, date_end, loader, lookahead, scalers, zone_name, ft_idx):\n",
    "    predictTrue = []\n",
    "    predictPred = []\n",
    "    valuePD = pd.DataFrame()\n",
    "    idx_begin = dates.index(date_begin)\n",
    "    idx_end = dates.index(date_end)\n",
    "    for date in dates[idx_begin:idx_end]:\n",
    "        true, pred = ModelPrediction(model, date, loader, lookahead)\n",
    "        maxi = scalers[zone_name].data_max_[ft_idx]\n",
    "        mini = scalers[zone_name].data_min_[ft_idx]\n",
    "        data_range = 0.8\n",
    "        true = ((true.reshape(-1,1) - 0.2)*(maxi-mini))/data_range + mini\n",
    "        pred = ((pred.reshape(-1,1) - 0.2)*(maxi-mini))/data_range + mini\n",
    "        array = np.concatenate([true, pred],axis=1)\n",
    "        result = pd.DataFrame({\"Truth\": true.squeeze(),\n",
    "                              \"Prediction\" : pred.squeeze()})\n",
    "                              #\"Date\": pd.date_range(start=date,periods=true.shape[0], freq=\"5min\")})\n",
    "        valuePD = pd.concat((valuePD, result)).reset_index(drop=True)\n",
    "    return valuePD"
   ]
  },
  {
   "cell_type": "code",
   "execution_count": 80,
   "metadata": {
    "ExecuteTime": {
     "end_time": "2021-08-24T17:13:12.447235Z",
     "start_time": "2021-08-24T17:13:12.442859Z"
    }
   },
   "outputs": [
    {
     "data": {
      "text/plain": [
       "Index(['ACPower', 'lightPower', 'appPower', 'temperature', 'humidity', 'lux'], dtype='object')"
      ]
     },
     "execution_count": 80,
     "metadata": {},
     "output_type": "execute_result"
    }
   ],
   "source": [
    "floor_dict[\"Floor7Z1\"].columns"
   ]
  },
  {
   "cell_type": "code",
   "execution_count": 94,
   "metadata": {
    "ExecuteTime": {
     "end_time": "2021-08-24T17:17:09.633281Z",
     "start_time": "2021-08-24T17:17:09.574071Z"
    }
   },
   "outputs": [],
   "source": [
    "ft_idx = 3\n",
    "indexroom = 0\n",
    "mymodel = trainXMFW.best_models[indexroom]\n",
    "real_index_zone = [1,2,4,5]\n",
    "testloader = [loaderZ1test]#, loaderZ2test, loaderZ4test, loaderZ5test]\n",
    "may = [date for date in test_date if '2019-05' in date]\n",
    "myfloor = [\"Floor7Z1\",\"Floor7Z2\",\"Floor7Z4\",\"Floor7Z5\"]\n",
    "resultpd = PredictionMultipleDate(mymodel,test_date,may[5], may[15],testloader[indexroom], lookahead, scalers,\n",
    "                                 myfloor[indexroom], ft_idx)"
   ]
  },
  {
   "cell_type": "code",
   "execution_count": 98,
   "metadata": {
    "ExecuteTime": {
     "end_time": "2021-08-24T17:17:21.847115Z",
     "start_time": "2021-08-24T17:17:21.692823Z"
    }
   },
   "outputs": [
    {
     "data": {
      "image/png": "[encoded data removed]",
      "text/plain": [
       "<Figure size 1080x360 with 1 Axes>"
      ]
     },
     "metadata": {},
     "output_type": "display_data"
    }
   ],
   "source": [
    "plt.figure(figsize=(15,5))\n",
    "plt.title(f'Floor {floor} - Zone {real_index_zone[indexroom]}')\n",
    "plt.plot(resultpd[\"Truth\"],label=\"Truth\")\n",
    "plt.plot(resultpd[\"Prediction\"],label=\"Prediction\",ls='-')\n",
    "plt.xticks(ticks=np.arange(resultpd.shape[0],step=100))\n",
    "plt.legend()\n",
    "plt.xlabel(\"Timestep\")\n",
    "plt.ylabel(f'{feature}')\n",
    "plt.show()"
   ]
  },
  {
   "cell_type": "code",
   "execution_count": 99,
   "metadata": {
    "ExecuteTime": {
     "end_time": "2021-08-24T17:17:30.169016Z",
     "start_time": "2021-08-24T17:17:30.164200Z"
    }
   },
   "outputs": [
    {
     "data": {
      "text/plain": [
       "-3.0414493"
      ]
     },
     "execution_count": 99,
     "metadata": {},
     "output_type": "execute_result"
    }
   ],
   "source": [
    "np.mean(resultpd[\"Truth\"] - resultpd[\"Prediction\"])"
   ]
  },
  {
   "cell_type": "code",
   "execution_count": 100,
   "metadata": {
    "ExecuteTime": {
     "end_time": "2021-08-24T17:17:31.442121Z",
     "start_time": "2021-08-24T17:17:31.436798Z"
    }
   },
   "outputs": [
    {
     "data": {
      "text/plain": [
       "1.8216448"
      ]
     },
     "execution_count": 100,
     "metadata": {},
     "output_type": "execute_result"
    }
   ],
   "source": [
    "np.std(resultpd[\"Truth\"] - resultpd[\"Prediction\"])"
   ]
  },
  {
   "cell_type": "code",
   "execution_count": 93,
   "metadata": {
    "ExecuteTime": {
     "end_time": "2021-08-24T17:16:37.067201Z",
     "start_time": "2021-08-24T17:16:37.056154Z"
    }
   },
   "outputs": [],
   "source": [
    "pd.DataFrame.to_csv(resultpd,path_log+f'/prediction-zone{real_index_zone[indexroom]}.csv')"
   ]
  },
  {
   "cell_type": "raw",
   "metadata": {
    "ExecuteTime": {
     "end_time": "2021-07-24T09:40:30.932087Z",
     "start_time": "2021-07-24T09:40:30.927551Z"
    }
   },
   "source": [
    "floor_dict[\"Floor7Z1\"].columns"
   ]
  }
 ],
 "metadata": {
  "kernelspec": {
   "display_name": "Python 3 (ipykernel)",
   "language": "python",
   "name": "python3"
  },
  "language_info": {
   "codemirror_mode": {
    "name": "ipython",
    "version": 3
   },
   "file_extension": ".py",
   "mimetype": "text/x-python",
   "name": "python",
   "nbconvert_exporter": "python",
   "pygments_lexer": "ipython3",
   "version": "3.8.10"
  },
  "toc": {
   "base_numbering": 1,
   "nav_menu": {},
   "number_sections": true,
   "sideBar": true,
   "skip_h1_title": false,
   "title_cell": "Table of Contents",
   "title_sidebar": "Contents",
   "toc_cell": false,
   "toc_position": {},
   "toc_section_display": true,
   "toc_window_display": false
  }
 },
 "nbformat": 4,
 "nbformat_minor": 4
}
