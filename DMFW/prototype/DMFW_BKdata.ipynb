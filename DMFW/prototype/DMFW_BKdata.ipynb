{
 "cells": [
  {
   "cell_type": "code",
   "execution_count": 226,
   "metadata": {
    "ExecuteTime": {
     "end_time": "2021-08-26T14:59:51.978089Z",
     "start_time": "2021-08-26T14:59:51.974229Z"
    }
   },
   "outputs": [],
   "source": [
    "import pandas as pd\n",
    "import numpy as np\n",
    "import dill\n",
    "import torch.nn as nn\n",
    "import torch\n",
    "import seaborn as sns; sns.set()\n",
    "import matplotlib.pyplot as plt\n",
    "import os\n",
    "import Graphs\n",
    "import networkx as nx\n",
    "import torch.optim as optim\n",
    "import random\n",
    "import copy\n",
    "from collections import defaultdict\n",
    "from torch.utils.data import TensorDataset, DataLoader\n",
    "from torch.optim.optimizer import required\n",
    "from torchinfo import summary\n",
    "from sklearn.preprocessing import MinMaxScaler, StandardScaler\n",
    "from statsmodels.graphics.tsaplots import plot_acf"
   ]
  },
  {
   "cell_type": "code",
   "execution_count": 2,
   "metadata": {
    "ExecuteTime": {
     "end_time": "2021-08-26T09:45:16.248114Z",
     "start_time": "2021-08-26T09:45:16.244236Z"
    }
   },
   "outputs": [],
   "source": [
    "bkdatafolder = \"/Users/Slaton/Documents/DMFW/BangkokDataAnalysis/gitdecenlearn/BKDataCleaned/\"\n",
    "dataset_name = os.listdir(bkdatafolder)"
   ]
  },
  {
   "cell_type": "code",
   "execution_count": 169,
   "metadata": {
    "ExecuteTime": {
     "end_time": "2021-08-26T13:02:55.646460Z",
     "start_time": "2021-08-26T13:02:55.634898Z"
    },
    "code_folding": [
     68
    ]
   },
   "outputs": [],
   "source": [
    "def createDictFloor(floor_name):\n",
    "    getdict = {}\n",
    "    floors = [floor for floor in dataset_name if floor_name in floor]\n",
    "    for name in floors:\n",
    "        floorname = name.split(\".\")[0]\n",
    "        getdict[floorname] = pd.read_csv(bkdatafolder+name, index_col=0, parse_dates=[\"Date\"])\n",
    "        getdict[floorname] = getdict[floorname].sort_index()\n",
    "    return getdict\n",
    "\n",
    "def Missing_values(data):\n",
    "    total = data.isnull().sum().sort_values(ascending=False)\n",
    "    percent = (data.isnull().sum()/data.isnull().count()).sort_values(ascending=False)\n",
    "    missing_data = pd.concat([total,percent], axis=1, keys=['Total', 'Pourcentage'])\n",
    "    print (missing_data[(percent>0)],'\\n' )\n",
    "\n",
    "def seed_everything(seed=0):\n",
    "    random.seed(seed)\n",
    "    os.environ['PYTHONHASHSEED'] = str(seed)\n",
    "    np.random.seed(seed)\n",
    "    torch.manual_seed(seed)\n",
    "    torch.cuda.manual_seed(seed)\n",
    "    torch.backends.cudnn.deterministic = True\n",
    "    \n",
    "def createPlot(date1, date2, features, data):\n",
    "    for floor in data.keys():\n",
    "        data[floor].resample(\"5T\").mean()[features][date1:date2].plot(figsize=(20,7))\n",
    "        \n",
    "\n",
    "def createDTFeat(date1, date2, datadict, features, resample_method=\"sum\" ,scale=True):\n",
    "    resample_move = {}\n",
    "    index_nan = {}\n",
    "    index_small = {}\n",
    "    floors = list(datadict.keys())\n",
    "    dates = []\n",
    "    scalers = {}\n",
    "    for data in datadict.keys():\n",
    "        if resample_method == \"sum\":\n",
    "            resample_move[data] = floor_dict[data][date1:date2].resample(\n",
    "                \"5min\").sum()\n",
    "            \n",
    "        elif resample_method == \"max\":\n",
    "            resample_move[data] = floor_dict[data][date1:date2].resample(\n",
    "                \"5min\").max().bfill()\n",
    "        elif resample_method == \"mean\":\n",
    "            resample_move[data] = floor_dict[data][date1:date2].resample(\n",
    "                \"5min\").mean().bfill()\n",
    "            \n",
    "        cols = resample_move[data].columns\n",
    "        idx = resample_move[data].index\n",
    "\n",
    "        if scale:\n",
    "            \n",
    "            scaler = MinMaxScaler(feature_range=(0.2,1))\n",
    "            scaler.fit(resample_move[data])\n",
    "            resample_move[data] = pd.DataFrame(scaler.transform(\n",
    "                resample_move[data]),columns=cols,index=idx)\n",
    "            \n",
    "            scalers[data] = scaler\n",
    "\n",
    "        resample_move[data][\"weekday\"] = resample_move[data].index.day_name()\n",
    "        resample_move[data][\"date\"] = resample_move[data].index.date\n",
    "        resample_move[data][\"time\"] = resample_move[data].index.time\n",
    "\n",
    "        nan = np.where(pd.isnull(resample_move[data][features]))[0]\n",
    "        index_nan[data] = np.unique(resample_move[data].iloc[nan][\"time\"])\n",
    "\n",
    "    return resample_move, scalers, index_nan\n",
    "\n",
    "def getInfoTimeShape(datadict):\n",
    "    for floor in datadict.keys():\n",
    "        data = datadict[floor]\n",
    "        print(\"Floor : {} , shape :{} , TimeMin {} , TimeMax {}\".format(floor,data.shape, data.index.min(), data.index.max()))\n",
    "        Missing_values(data)\n",
    "        \n",
    "def cleanNan(data,idx_nan):\n",
    "    index=[]\n",
    "    for k,v in idx_nan.items():\n",
    "        for ele in v:\n",
    "            index.append(ele)\n",
    "    mynan = set(index)\n",
    "    newdata = data.copy()\n",
    "    remain_date = []\n",
    "    for floor in idx_nan.keys():\n",
    "        datafloor = data[floor]\n",
    "        todropnan = datafloor[datafloor[\"date\"].isin(list(mynan))].index\n",
    "        datafloor = datafloor.drop(todropnan)\n",
    "        newdata[floor] = datafloor\n",
    "        for date in datafloor[\"date\"]:\n",
    "            remain_date.append(str(date))\n",
    "    remain_date = sorted(set(remain_date))\n",
    "    return data, remain_date"
   ]
  },
  {
   "cell_type": "code",
   "execution_count": 170,
   "metadata": {
    "ExecuteTime": {
     "end_time": "2021-08-26T13:02:57.416750Z",
     "start_time": "2021-08-26T13:02:56.008619Z"
    }
   },
   "outputs": [
    {
     "name": "stdout",
     "output_type": "stream",
     "text": [
      "Floor7Z4 Start: 2019-03-06 14:46:00 End: 2019-12-31 23:59:00 Count:416243\n",
      "\n",
      "Floor7Z5 Start: 2019-03-06 14:55:00 End: 2019-12-31 23:59:00 Count:407698\n",
      "\n",
      "Floor7Z2 Start: 2019-03-06 14:48:00 End: 2019-12-31 23:59:00 Count:424701\n",
      "\n",
      "Floor7Z1 Start: 2019-03-06 14:50:00 End: 2019-12-31 23:59:00 Count:424099\n",
      "\n"
     ]
    }
   ],
   "source": [
    "date1 = \"2019-03-07\"\n",
    "date2 = \"2019-12-31\"\n",
    "floor = 7\n",
    "floor_dict = createDictFloor(f\"Floor{floor}\")\n",
    "for data in floor_dict.keys():\n",
    "    zone = floor_dict[data]\n",
    "    print(\"{} Start: {} End: {} Count:{}\".format(data,zone.index.min(),zone.index.max(), zone.shape[0]))\n",
    "    print(\"\")"
   ]
  },
  {
   "cell_type": "code",
   "execution_count": 171,
   "metadata": {
    "ExecuteTime": {
     "end_time": "2021-08-26T13:02:58.064011Z",
     "start_time": "2021-08-26T13:02:57.417813Z"
    }
   },
   "outputs": [],
   "source": [
    "feature = \"temperature\"\n",
    "resample_method = \"max\"\n",
    "resample,scalers, index_nan = createDTFeat(date1, date2, floor_dict, feature,resample_method=resample_method)\n",
    "cleanedData, remain_date = cleanNan(resample, index_nan)"
   ]
  },
  {
   "cell_type": "code",
   "execution_count": 172,
   "metadata": {
    "ExecuteTime": {
     "end_time": "2021-08-26T13:02:58.193311Z",
     "start_time": "2021-08-26T13:02:58.064905Z"
    }
   },
   "outputs": [
    {
     "name": "stdout",
     "output_type": "stream",
     "text": [
      "Floor : Floor7Z4 , shape :(86400, 9) , TimeMin 2019-03-07 00:00:00 , TimeMax 2019-12-31 23:55:00\n",
      "Empty DataFrame\n",
      "Columns: [Total, Pourcentage]\n",
      "Index: [] \n",
      "\n",
      "Floor : Floor7Z5 , shape :(86400, 9) , TimeMin 2019-03-07 00:00:00 , TimeMax 2019-12-31 23:55:00\n",
      "Empty DataFrame\n",
      "Columns: [Total, Pourcentage]\n",
      "Index: [] \n",
      "\n",
      "Floor : Floor7Z2 , shape :(86400, 9) , TimeMin 2019-03-07 00:00:00 , TimeMax 2019-12-31 23:55:00\n",
      "Empty DataFrame\n",
      "Columns: [Total, Pourcentage]\n",
      "Index: [] \n",
      "\n",
      "Floor : Floor7Z1 , shape :(86400, 9) , TimeMin 2019-03-07 00:00:00 , TimeMax 2019-12-31 23:55:00\n",
      "Empty DataFrame\n",
      "Columns: [Total, Pourcentage]\n",
      "Index: [] \n",
      "\n"
     ]
    }
   ],
   "source": [
    "getInfoTimeShape(cleanedData)"
   ]
  },
  {
   "cell_type": "markdown",
   "metadata": {},
   "source": [
    "# Create Slice"
   ]
  },
  {
   "cell_type": "code",
   "execution_count": 173,
   "metadata": {
    "ExecuteTime": {
     "end_time": "2021-08-26T13:02:58.388870Z",
     "start_time": "2021-08-26T13:02:58.382757Z"
    }
   },
   "outputs": [],
   "source": [
    "def rolling_window(series, window_size):\n",
    "    return np.array([series[i : (i + window_size)] for i in range(0, series.shape[0] - window_size + 1)])\n",
    "\n",
    "def to_timeseries_input(series, lookback, predictions):\n",
    "    inputs = rolling_window(series[:-predictions], lookback)\n",
    "    outputs = rolling_window(series[lookback:], predictions)\n",
    "    return inputs, outputs\n",
    "\n",
    "def createDataByDate(datadict, features, dates):\n",
    "    databyDate = defaultdict(lambda : defaultdict(dict))\n",
    "    for date in dates:\n",
    "        for floor in datadict.keys():\n",
    "            databyDate[date][floor] = np.asarray(datadict[floor][date][features])\n",
    "    return databyDate\n",
    "\n",
    "def splitDate(dates,cutoff):\n",
    "    train_date = [x for x in dates if x <= cutoff]\n",
    "    test_date = sorted(list(set(dates) - set(train_date)))\n",
    "    return train_date, test_date\n",
    "\n",
    "def getInfoDataByDate(data, dates):\n",
    "    for date in dates:\n",
    "        print(\"Date : {}\".format(date))\n",
    "        for floor in data[date]:\n",
    "            print(\"{} shape : {}\".format(floor,data[date][floor].shape))\n",
    "            \n",
    "def LoaderByZone(data,zone_name,dates, lookback, lookahead, batch_size, shuffle=False):\n",
    "    loaderZ = {}\n",
    "    for i,date in enumerate(dates):\n",
    "        haruharu = data[date][zone_name]\n",
    "        trainx, trainy = to_timeseries_input(haruharu, lookback, lookahead)\n",
    "        xshape = torch.tensor(trainx, dtype=torch.float).unsqueeze(-1)\n",
    "        yshape = torch.tensor(trainy, dtype=torch.float)\n",
    "        tensorwrap = TensorDataset(xshape,yshape)\n",
    "        loaderxy = DataLoader(tensorwrap,batch_size = batch_size, shuffle=shuffle, drop_last=True)\n",
    "        loaderZ[date] = loaderxy\n",
    "    return loaderZ"
   ]
  },
  {
   "cell_type": "code",
   "execution_count": 174,
   "metadata": {
    "ExecuteTime": {
     "end_time": "2021-08-26T13:02:59.824865Z",
     "start_time": "2021-08-26T13:02:59.737292Z"
    }
   },
   "outputs": [
    {
     "name": "stdout",
     "output_type": "stream",
     "text": [
      "Floor7Z4 Start: 2019-03-07 00:00:00 End: 2019-12-31 23:55:00 Count:86400\n",
      "Floor7Z4 Dates: 300\n",
      "Floor7Z5 Start: 2019-03-07 00:00:00 End: 2019-12-31 23:55:00 Count:86400\n",
      "Floor7Z5 Dates: 300\n",
      "Floor7Z2 Start: 2019-03-07 00:00:00 End: 2019-12-31 23:55:00 Count:86400\n",
      "Floor7Z2 Dates: 300\n",
      "Floor7Z1 Start: 2019-03-07 00:00:00 End: 2019-12-31 23:55:00 Count:86400\n",
      "Floor7Z1 Dates: 300\n"
     ]
    }
   ],
   "source": [
    "for data in cleanedData.keys():\n",
    "    zone = cleanedData[data]\n",
    "    print(\"{} Start: {} End: {} Count:{}\".format(data,zone.index.min(),zone.index.max(), zone.shape[0]))\n",
    "    print(\"{} Dates: {}\".format(data,len(np.unique(zone[\"date\"]))))"
   ]
  },
  {
   "cell_type": "code",
   "execution_count": 175,
   "metadata": {
    "ExecuteTime": {
     "end_time": "2021-08-26T13:03:01.006339Z",
     "start_time": "2021-08-26T13:03:00.673958Z"
    }
   },
   "outputs": [
    {
     "name": "stderr",
     "output_type": "stream",
     "text": [
      "/var/folders/wm/ymsmhgr90dd6gyprvtgvcr080000gn/T/ipykernel_8099/1317003053.py:13: FutureWarning: Indexing a DataFrame with a datetimelike index using a single string to slice the rows, like `frame[string]`, is deprecated and will be removed in a future version. Use `frame.loc[string]` instead.\n",
      "  databyDate[date][floor] = np.asarray(datadict[floor][date][features])\n"
     ]
    }
   ],
   "source": [
    "cutting_date = \"2019-05-08\"\n",
    "train_date, test_date = splitDate(remain_date, cutting_date)\n",
    "databyDate = createDataByDate(cleanedData, feature, remain_date)\n",
    "#getInfoDataByDate(databyDate, train_date)"
   ]
  },
  {
   "cell_type": "code",
   "execution_count": 176,
   "metadata": {
    "ExecuteTime": {
     "end_time": "2021-08-26T13:03:02.129099Z",
     "start_time": "2021-08-26T13:03:02.127504Z"
    }
   },
   "outputs": [],
   "source": [
    "def getRatio(ratio, lookbackinit):\n",
    "    lookahead = int(ratio*lookbackinit)\n",
    "    return lookahead"
   ]
  },
  {
   "cell_type": "code",
   "execution_count": 177,
   "metadata": {
    "ExecuteTime": {
     "end_time": "2021-08-26T13:03:02.780265Z",
     "start_time": "2021-08-26T13:03:02.435862Z"
    }
   },
   "outputs": [
    {
     "name": "stdout",
     "output_type": "stream",
     "text": [
      "-----Floor7Z1-----\n",
      "-----Floor7Z2-----\n",
      "-----Floor7Z4-----\n",
      "-----Floor7Z5-----\n"
     ]
    }
   ],
   "source": [
    "lookback = 13\n",
    "lookahead = 1\n",
    "batch_size = 32\n",
    "nb_zone=5\n",
    "\n",
    "trainloader = []\n",
    "testloader = []\n",
    "for zone in range(1,nb_zone+1):\n",
    "    if zone != 3:\n",
    "        zoneID = f\"Floor{floor}Z{zone}\"\n",
    "        print(f'-----{zoneID}-----')\n",
    "        loaderZtrain = LoaderByZone(databyDate,zoneID,train_date,lookback,lookahead,batch_size, shuffle=True)\n",
    "        loaderZtest = LoaderByZone(databyDate,zoneID,test_date,lookback, lookahead,batch_size, shuffle=False)\n",
    "        trainloader.append(loaderZtrain)\n",
    "        testloader.append(loaderZtest)\n",
    "        \n",
    "#loaderZ1train = LoaderByZone(databyDate, z1, train_date, lookback, lookahead, batch_size, shuffle=True)\n",
    "#loaderZ1test = LoaderByZone(databyDate, z1, test_date, lookback, lookahead, batch_size)\n",
    "\n",
    "#loaderZ2train = LoaderByZone(databyDate, z2, train_date, lookback, lookahead, batch_size, shuffle=True)\n",
    "#loaderZ2test = LoaderByZone(databyDate, z2, test_date, lookback, lookahead, batch_size)\n",
    "\n",
    "#loaderZ4train = LoaderByZone(databyDate, z4, train_date, lookback, lookahead, batch_size, shuffle=True)\n",
    "#loaderZ4test = LoaderByZone(databyDate, z4, test_date, lookback, lookahead, batch_size)\n",
    "\n",
    "#loaderZ5train = LoaderByZone(databyDate, z5, train_date, lookback, lookahead, batch_size, shuffle=True)\n",
    "#loaderZ5test = LoaderByZone(databyDate, z5, test_date, lookback, lookahead, batch_size)"
   ]
  },
  {
   "cell_type": "code",
   "execution_count": 178,
   "metadata": {
    "ExecuteTime": {
     "end_time": "2021-08-26T13:03:03.888752Z",
     "start_time": "2021-08-26T13:03:03.887152Z"
    }
   },
   "outputs": [],
   "source": [
    "#trainloader = [loaderZ1train, loaderZ1train, loaderZ1train, loaderZ1train]"
   ]
  },
  {
   "cell_type": "code",
   "execution_count": 179,
   "metadata": {
    "ExecuteTime": {
     "end_time": "2021-08-26T13:03:04.136020Z",
     "start_time": "2021-08-26T13:03:04.132844Z"
    }
   },
   "outputs": [
    {
     "data": {
      "text/plain": [
       "504"
      ]
     },
     "execution_count": 179,
     "metadata": {},
     "output_type": "execute_result"
    }
   ],
   "source": [
    "nb_iterations = len(train_date)*len(trainloader[0][\"2019-03-08\"])\n",
    "nb_iterations"
   ]
  },
  {
   "cell_type": "markdown",
   "metadata": {},
   "source": [
    "# Algorithm"
   ]
  },
  {
   "cell_type": "code",
   "execution_count": 180,
   "metadata": {
    "ExecuteTime": {
     "end_time": "2021-08-26T13:03:06.087195Z",
     "start_time": "2021-08-26T13:03:06.080729Z"
    },
    "code_folding": [
     0,
     14
    ]
   },
   "outputs": [],
   "source": [
    "def proj_2shape(x,s=8):\n",
    "    shape = x.shape\n",
    "    if torch.linalg.norm(x,ord=1)==s and torch.all(x>0):\n",
    "        return x\n",
    "    u,_ = torch.sort(torch.abs(x),dim=0,descending=True)\n",
    "    cumsum = torch.cumsum(u, dim=0)\n",
    "    arange = torch.arange(1, shape[0]+1)\n",
    "    rep_arange = arange.unsqueeze(1).repeat(1,shape[1])\n",
    "    rho = torch.count_nonzero((u*rep_arange > (cumsum - s)), dim=0)\n",
    "    theta = (cumsum[rho-1, torch.arange(0,shape[1])] - s)/rho\n",
    "    proj = (torch.abs(x)-theta).clamp(min=0)\n",
    "    proj*= torch.sign(x)\n",
    "    return proj\n",
    "\n",
    "def proj_l1(x, s=8):\n",
    "    shape = x.shape\n",
    "    if len(shape) == 4:\n",
    "        proj = torch.zeros_like(x)\n",
    "        for first_dim in range(x.shape[0]):\n",
    "            for second_dim in range(x.shape[1]):\n",
    "                inner_tensor = x[first_dim][second_dim]\n",
    "                inner_proj = proj_2shape(inner_tensor,s=s)\n",
    "                proj[first_dim][second_dim] = inner_proj\n",
    "                \n",
    "    elif len(shape) == 3:\n",
    "        proj = torch.zeros_like(x)\n",
    "        for first_dim in range(x.shape[0]):\n",
    "            inner_tensor = x[first_dim]\n",
    "            inner_proj = proj_2shape(inner_tensor,s=s)\n",
    "            proj[first_dim] = inner_proj\n",
    "        \n",
    "    elif len(shape) == 2:\n",
    "        proj = proj_2shape(x,s=s)\n",
    "        \n",
    "    elif len(shape) == 1:\n",
    "        u,_ = torch.sort(torch.abs(x),descending=True)\n",
    "        cumsum = torch.cumsum(u,dim=0)\n",
    "        arange = torch.arange(1,shape[0]+1)\n",
    "        rho = torch.count_nonzero((u*arange > (cumsum - s)))\n",
    "        theta = (cumsum[rho-1] - s)/rho\n",
    "        proj = (torch.abs(x)-theta).clamp(min=0)\n",
    "        proj*= torch.sign(x)\n",
    "    return proj"
   ]
  },
  {
   "cell_type": "code",
   "execution_count": 181,
   "metadata": {
    "ExecuteTime": {
     "end_time": "2021-08-26T13:03:06.272424Z",
     "start_time": "2021-08-26T13:03:06.267411Z"
    },
    "code_folding": [
     0,
     16
    ]
   },
   "outputs": [],
   "source": [
    "def simpleLMO(x,radius,p=1):\n",
    "    tolerance = 1e-10\n",
    "    if p == 1:\n",
    "        v = torch.zeros_like(x)\n",
    "        maxIdx = torch.argmax(torch.abs(x))\n",
    "        v.view(-1)[maxIdx] = -radius * torch.sign(x.view(-1)[maxIdx])\n",
    "        return v\n",
    "    elif p == 2:\n",
    "        x_norm = float(torch.norm(x, p=2))\n",
    "        if x_norm > tolerance:\n",
    "            return -radius * x.div(x_norm)\n",
    "        else:\n",
    "            return torch.zeros_like(x)\n",
    "    elif p == float('inf'):\n",
    "        return torch.full_like(x, fill_value=radius).masked_fill_(x > 0, -radius)\n",
    "\n",
    "def simpleProject(x,radius,p=1):\n",
    "    if p==1:\n",
    "        x_norm = torch.norm(x, p=1)\n",
    "        if x_norm > radius:\n",
    "            sorted_ = torch.sort(torch.abs(x.flatten()), descending=True).values\n",
    "            running_mean = (torch.cumsum(sorted_, 0) - radius)/torch.arange(1,sorted_.numel() + 1)                                                                                  \n",
    "            is_less_or_equal = sorted_ <= running_mean\n",
    "            idx = is_less_or_equal.numel() - is_less_or_equal.sum() - 1\n",
    "            return torch.sign(x) * torch.max(torch.abs(x) - running_mean[idx], torch.zeros_like(x))\n",
    "        else:\n",
    "            return x\n",
    "    elif p == 2:\n",
    "        x_norm = torch.norm(x, p=2)\n",
    "        return radius * x.div(x_norm) if x_norm > radius else x\n",
    "    elif p == float('inf'):\n",
    "        return torch.clamp(x, min=-radius, max=radius)"
   ]
  },
  {
   "cell_type": "code",
   "execution_count": 182,
   "metadata": {
    "ExecuteTime": {
     "end_time": "2021-08-26T13:03:06.462915Z",
     "start_time": "2021-08-26T13:03:06.457115Z"
    },
    "code_folding": [
     0
    ]
   },
   "outputs": [],
   "source": [
    "def lmo(x,radius):\n",
    "    \"\"\"Returns v with norm(v, self.p) <= r minimizing v*x\"\"\"\n",
    "    shape = x.shape\n",
    "    if len(shape) == 4:\n",
    "        v = torch.zeros_like(x)\n",
    "        for first_dim in range(shape[0]):\n",
    "            for second_dim in range(shape[1]):\n",
    "                inner_x = x[first_dim][second_dim]\n",
    "                rows, cols = x[first_dim][second_dim].shape\n",
    "                v[first_dim][second_dim] = torch.zeros_like(inner_x)\n",
    "                maxIdx = torch.argmax(torch.abs(inner_x),0)\n",
    "                for col in range(cols):\n",
    "                    v[first_dim][second_dim][maxIdx[col],col] = -radius*torch.sign(inner_x[maxIdx[col],col])\n",
    "    elif len(shape) == 3:\n",
    "        v = torch.zeros_like(x)\n",
    "        for first_dim in range(shape[0]):\n",
    "            inner_x = x[first_dim]\n",
    "            rows, cols = x[first_dim].shape\n",
    "            v[first_dim] = torch.zeros_like(inner_x)\n",
    "            maxIdx = torch.argmax(torch.abs(inner_x),0)\n",
    "            for col in range(cols):\n",
    "                v[first_dim][maxIdx[col],col] = -radius*torch.sign(inner_x[maxIdx[col],col])\n",
    "                    \n",
    "    elif len(shape)==2:\n",
    "        rows, cols = x.shape\n",
    "        v = torch.zeros_like(x)\n",
    "        maxIdx = torch.argmax(torch.abs(x),0)\n",
    "        for col in range(cols):\n",
    "            v[maxIdx[col],col] = -radius*torch.sign(x[maxIdx[col],col])\n",
    "                \n",
    "    else : \n",
    "        v = torch.zeros_like(x)\n",
    "        maxIdx = torch.argmax(torch.abs(x))\n",
    "        v.view(-1)[maxIdx] = -radius * torch.sign(x.view(-1)[maxIdx])\n",
    "    return v"
   ]
  },
  {
   "cell_type": "code",
   "execution_count": 183,
   "metadata": {
    "ExecuteTime": {
     "end_time": "2021-08-26T13:03:06.644393Z",
     "start_time": "2021-08-26T13:03:06.632992Z"
    },
    "code_folding": [
     0
    ]
   },
   "outputs": [],
   "source": [
    "class DMFW(optim.Optimizer):\n",
    "    def __init__(self, params, eta_coef=required, eta_exp=required, L=required, matrix_line=required, reg_coef=required,radius=required):\n",
    "        if eta_coef is not required and eta_coef <=0.:\n",
    "            raise ValueError(\"Invalid eta : {}\".format(eta_coef))\n",
    "        if eta_exp is not required and (eta_exp == 0.5):\n",
    "            raise ValueError(\"Invalid eta_exp : {}\".format(eta_exp))\n",
    "        defaults = dict(eta_coef=eta_coef, eta_exp=eta_exp,L=L, matrix_line=matrix_line,reg_coef = reg_coef,radius=radius)\n",
    "        super(DMFW,self).__init__(params,defaults)\n",
    "\n",
    "        for group in self.param_groups:\n",
    "            self.eta_coef = group[\"eta_coef\"]\n",
    "            self.eta_exp = group[\"eta_exp\"]\n",
    "            self.reg_coef = group[\"reg_coef\"]\n",
    "            self.A = group[\"matrix_line\"]\n",
    "            self.L = group[\"L\"]\n",
    "            self.radius = group[\"radius\"]\n",
    "        self.num_layers = len(self.param_groups[0]['params'])\n",
    "        self.dim = [k.shape for k in self.param_groups[0]['params']]\n",
    "        self.G = [[torch.rand(k) for k in self.dim] for l in range(self.L)]\n",
    "        \n",
    "    @torch.no_grad()\n",
    "    def initValue(self,closure):\n",
    "        self.w_dict = defaultdict(dict)\n",
    "        for group in self.param_groups:\n",
    "            if closure is not None:\n",
    "                with torch.enable_grad():\n",
    "                    closure()\n",
    "            for k,weight in enumerate(group[\"params\"]):\n",
    "                if weight.grad is None:\n",
    "                    raise ValueError(\"Gradient is None\")\n",
    "                self.w_dict[k][\"g\"] = weight.grad.detach().clone()\n",
    "                self.w_dict[k][\"w\"] = weight.detach().clone()\n",
    "                \n",
    "    def neighborsAverage(self, neighbors):\n",
    "        for group in self.param_groups:\n",
    "            for k,weight in enumerate(group[\"params\"]):\n",
    "                weighted_tmp = torch.zeros(self.dim[k])\n",
    "                weighted_grad_tmp = torch.zeros(self.dim[k])\n",
    "                for j in range(len(neighbors)):\n",
    "                    weighted_tmp += self.A[j]*neighbors[j].w_dict[k][\"w\"]\n",
    "                    weighted_grad_tmp += self.A[j]*neighbors[j].w_dict[k][\"g\"]\n",
    "                self.w_dict[k][\"y\"] = weighted_tmp\n",
    "                self.w_dict[k][\"ds\"] = weighted_grad_tmp\n",
    "                \n",
    "\n",
    "    def step(self, l, closure):\n",
    "        if l == 0:\n",
    "            self.init_gap = 0\n",
    "        eta = min(self.eta_coef/(l+1)**self.eta_exp, 1)\n",
    "        for group in self.param_groups:\n",
    "            if closure is not None:\n",
    "                with torch.enable_grad():\n",
    "                    closure()\n",
    "            self.gap = 0\n",
    "            for k,weight in enumerate(group[\"params\"]):\n",
    "                a = lmo(weight.grad.data,self.radius)\n",
    "                self.gap += torch.sum(torch.mul(weight.grad.data, weight.data - a))\n",
    "                v = proj_l1(self.G[l][k], s=self.radius)\n",
    "                #v = lmo(self.G[l][k] - 0.5 + torch.rand_like(self.G[l][k]), radius= self.radius)\n",
    "                if weight.grad is None:\n",
    "                    raise ValueError(\"Grad is None\")\n",
    "                self.w_dict[k][\"grad_old\"] = weight.grad.detach().clone()\n",
    "                \n",
    "                weight.data = self.w_dict[k]['y']*(1-eta) + eta*v\n",
    "                #print(\"weight {}\".format(torch.linalg.norm(weight.data,ord=1,dim=0)))\n",
    "                self.w_dict[k][\"w\"] = weight.detach().clone()\n",
    "                \n",
    "            self.init_gap += self.gap\n",
    "            self.init_gap /= (l+1)\n",
    "            \n",
    "            with torch.enable_grad():\n",
    "                closure()\n",
    "            for k,weight in enumerate(group[\"params\"]):\n",
    "                self.G[l][k] -= 0.5*self.w_dict[k][\"ds\"]*self.reg_coef\n",
    "                #self.G[l][k] += self.w_dict[k][\"ds\"]*self.reg_coef\n",
    "                if weight.grad is None :\n",
    "                    raise ValueError(\"Grad is none\")\n",
    "                weight.grad.add_(-self.w_dict[k][\"grad_old\"])\n",
    "                self.w_dict[k][\"g\"] = weight.grad.detach().clone() + self.w_dict[k][\"ds\"]"
   ]
  },
  {
   "cell_type": "code",
   "execution_count": 184,
   "metadata": {
    "ExecuteTime": {
     "end_time": "2021-08-26T13:03:06.818261Z",
     "start_time": "2021-08-26T13:03:06.800769Z"
    },
    "code_folding": [
     0
    ]
   },
   "outputs": [],
   "source": [
    "class Trainer:\n",
    "    def __init__(self, graph, loaders, model, model_param, loss,\n",
    "                 num_iterations):\n",
    "        self.graph = graph\n",
    "        self.num_nodes = graph.number_of_nodes()\n",
    "        self.model = model\n",
    "        self.param = model_param\n",
    "        #self.A = torch.tensor(np.diag(np.ones(self.num_nodes)))#torch.tensor(nx.adjacency_matrix(graph).toarray())\n",
    "        self.A = torch.tensor(nx.adjacency_matrix(graph).toarray())\n",
    "        self.dataloader = loaders\n",
    "        self.num_iterations = num_iterations\n",
    "        self.loss = loss\n",
    "        self.obj_values = np.ndarray((self.num_iterations + 1, 4),\n",
    "                                     dtype='float')\n",
    "\n",
    "        self.optimizers = [0.] * self.num_nodes\n",
    "        self.models = [0.] * self.num_nodes\n",
    "        self.losses = [0.] * self.num_nodes\n",
    "        #self.gaps = [0.]*self.num_nodes\n",
    "\n",
    "    def reset(self):\n",
    "        self.optimizers = [0.] * self.num_nodes\n",
    "        self.models = [0.] * self.num_nodes\n",
    "        self.losses = [0.] * self.num_nodes\n",
    "        self.gaps = [0.] * self.num_nodes\n",
    "        self.best_models = [0.]*self.num_nodes\n",
    "\n",
    "        self.obj_values = np.ndarray((self.num_iterations + 1, 4),\n",
    "                                     dtype='float')\n",
    "        \n",
    "    def __nodeInit(self, data, label):\n",
    "        nodewrap = TensorDataset(data, label)\n",
    "        nodes = DataLoader(nodewrap, batch_size=data.size(0), shuffle=False)\n",
    "        return nodes\n",
    "\n",
    "    def weight_reset(self, layer):\n",
    "        if isinstance(layer, nn.BatchNorm1d) or isinstance(layer, nn.Linear) or isinstance(layer,nn.Conv1d):\n",
    "            layer.reset_parameters()\n",
    "            \n",
    "    def initModelWeight(self, model):\n",
    "        for name,param in model.named_parameters():\n",
    "            if 'bias' in name:\n",
    "                nn.init.constant_(param,0.)\n",
    "            elif 'weight' in name:\n",
    "                if not 'batch' in name:\n",
    "                    nn.init.xavier_normal_(param)\n",
    "                else:\n",
    "                    nn.init.uniform_(param)\n",
    "\n",
    "    def saveCheckPts(self, t, path):\n",
    "        check_pts = {}\n",
    "        for i in range(self.num_nodes):\n",
    "            ckp_i = {\n",
    "                \"t\": t,\n",
    "                \"weight\": [param for param in self.models[i].parameters()],\n",
    "                \"optimizer_weight\": self.optimizers[i].w_dict,\n",
    "                \"oracles\": self.optimizers[i].G,\n",
    "                \"loss\": self.losses[i]\n",
    "            }  #,\n",
    "            #\"avg_loss\": self.avg_loss[i]}\n",
    "            check_pts[i] = ckp_i\n",
    "        torch.save(check_pts, path + \"checkpts_models\" + \"_\" + str(t) + \".tar\")\n",
    "        \n",
    "    def plotPrediction(self, true, pred,date,path_to_save):\n",
    "        fig = plt.figure(figsize=(5,3))\n",
    "        plt.suptitle(\"{}\".format(date))\n",
    "        plt.plot(true)\n",
    "        plt.plot(pred)\n",
    "        #plt.show()\n",
    "        fig.savefig(os.path.join(path_to_save,date))\n",
    "        plt.close()\n",
    "\n",
    "    def train(self, optimizer, L, eta_coef, eta_exp, reg_coef, radius, path_figure_date):\n",
    "        seed_everything()\n",
    "        self.reset()\n",
    "        \n",
    "        z1, z2, z3, z4 = self.dataloader\n",
    "\n",
    "        for i in range(self.num_nodes):\n",
    "            self.models[i] = self.model(*self.param)\n",
    "            self.optimizers[i] = optimizer(self.models[i].parameters(),\n",
    "                                           eta_coef=eta_coef,\n",
    "                                           eta_exp=eta_exp,\n",
    "                                           L=L,\n",
    "                                           matrix_line=self.A[i],\n",
    "                                           reg_coef=reg_coef,\n",
    "                                           radius=radius)\n",
    "            self.best_models[i] = copy.deepcopy(self.models[i])\n",
    "\n",
    "        self.final_gap = [0.] * self.num_nodes\n",
    "        \n",
    "        t = 0\n",
    "        \n",
    "        for date in z1.keys():\n",
    "            \n",
    "            try:\n",
    "                for i,loader in enumerate(self.dataloader):\n",
    "                    truez, predz = ModelPrediction(self.best_models[i], date, loader,lookahead)\n",
    "                    path = path_figure_date+\"/Model_\"+str(i)+\"/\"\n",
    "                    if not os.path.exists(path):\n",
    "                        os.makedirs(path)\n",
    "                    self.plotPrediction(truez, predz,date,path_to_save=path)\n",
    "            except :\n",
    "                print(\"----No Validation----\")\n",
    "                pass\n",
    "            \n",
    "            for (couple1, couple2, couple3,couple4) in zip(z1[date],z2[date], z3[date], z4[date]):\n",
    "                datazones = [self.__nodeInit(*couple1), \n",
    "                             self.__nodeInit(*couple2),\n",
    "                             self.__nodeInit(*couple3),\n",
    "                             self.__nodeInit(*couple4)]\n",
    "                \n",
    "\n",
    "                for i in range(self.num_nodes):\n",
    "                    self.initModelWeight(self.models[i])\n",
    "                    self.models[i].train()\n",
    "\n",
    "                    def closure():\n",
    "                        self.optimizers[i].zero_grad(set_to_none=True)\n",
    "                        x, y = iter(datazones[i]).next()\n",
    "                        output = self.models[i](x)\n",
    "                        loss = self.loss(output,y)\n",
    "                        loss.backward()\n",
    "\n",
    "                    self.optimizers[i].initValue(closure)\n",
    "                \n",
    "                opt_index = np.random.randint(low=0,high=L, size=1)\n",
    "                #print(f'Optimal L : {opt_index}')\n",
    "                \n",
    "                for l in range(L):\n",
    "                    #print(\"--------------------------\")\n",
    "                    \n",
    "                    if l==opt_index:\n",
    "                        for i in range(self.num_nodes):\n",
    "                            self.best_models[i] = copy.deepcopy(self.models[i])\n",
    "                    \n",
    "                    for i in range(self.num_nodes):\n",
    "                        self.optimizers[i].neighborsAverage(self.optimizers)\n",
    "                    for i in range(self.num_nodes):\n",
    "                        \n",
    "                        def closure():\n",
    "                            self.optimizers[i].zero_grad(set_to_none=True)\n",
    "                            x, y = iter(datazones[i]).next()\n",
    "                            output = self.models[i](x)\n",
    "                            loss = self.loss(output, y)\n",
    "                            loss.backward()\n",
    "                            \n",
    "                        self.optimizers[i].step(l, closure)\n",
    "\n",
    "                self.gaps_off = [0.] * self.num_nodes\n",
    "                for i in range(self.num_nodes):\n",
    "                    with torch.no_grad():\n",
    "                        self.best_models[i].eval()\n",
    "                        x, y = iter(datazones[i]).next()\n",
    "                        outputs = self.best_models[i](x)\n",
    "                        curr_loss = self.loss(outputs, y)\n",
    "                    self.final_gap[i] += self.optimizers[i].init_gap\n",
    "                    self.final_gap[i] /= (t + 1)\n",
    "                    self.gaps_off[i] = self.optimizers[i].init_gap\n",
    "                    self.losses[i] = curr_loss.detach().numpy()\n",
    "\n",
    "                loss = np.mean(self.losses)\n",
    "                gap = np.max(self.final_gap)  #.detach().numpy(\n",
    "                local_gap = np.max(self.gaps_off)\n",
    "                if t % 1 == 0:\n",
    "                    print(\"t_{} : loss : {:.5f} gap : {} local_gap {}\".format(\n",
    "                        t, loss, gap, local_gap))\n",
    "                    \n",
    "                self.obj_values[t, :] = [t, loss, gap, local_gap]\n",
    "                    \n",
    "                t+=1\n",
    "\n",
    "        return self.obj_values"
   ]
  },
  {
   "cell_type": "code",
   "execution_count": 185,
   "metadata": {
    "ExecuteTime": {
     "end_time": "2021-08-26T13:03:06.975067Z",
     "start_time": "2021-08-26T13:03:06.967433Z"
    },
    "code_folding": [
     0,
     16,
     32
    ]
   },
   "outputs": [],
   "source": [
    "class Encoder(nn.Module):\n",
    "    def __init__(self, input_dim, hid_dim, n_layers=1):\n",
    "        super(Encoder,self).__init__()\n",
    "        self.input_dim = input_dim\n",
    "        self.hid_dim = hid_dim\n",
    "        self.n_layers = n_layers\n",
    "        self.lstm = nn.LSTM(input_dim, hid_dim, n_layers, batch_first=False, bias=False)\n",
    "        \n",
    "    def forward(self, seq):\n",
    "        outputs, self.hidden = self.lstm(seq.view(seq.shape[1],seq.shape[0],self.input_dim))\n",
    "        return outputs, self.hidden\n",
    "    \n",
    "    def init_hidden(self, batch_size):\n",
    "        return (torch.zeros(self.n_layers, batch_size, self.hid_dim),\n",
    "                torch.zeros(self.n_layers, batch_size, self.hid_dim))\n",
    "    \n",
    "class Decoder(nn.Module):\n",
    "    def __init__(self, input_dim, hid_dim, output_dim, n_layers=1):\n",
    "        super(Decoder,self).__init__()\n",
    "        self.input_dim = input_dim\n",
    "        self.output_dim = output_dim\n",
    "        self.hid_dim = hid_dim\n",
    "        self.n_layers = n_layers\n",
    "        \n",
    "        self.lstm = nn.LSTM(input_dim, hid_dim, n_layers, batch_first = False, bias=False)\n",
    "        self.fc = nn.Linear(hid_dim, output_dim)\n",
    "        \n",
    "    def forward(self, x, encoder_hidden):\n",
    "        lstm_out, self.hidden = self.lstm(x.unsqueeze(0), encoder_hidden)\n",
    "        output = self.fc(lstm_out.squeeze(0))\n",
    "        return output, self.hidden\n",
    "    \n",
    "class Seq2Seq(nn.Module):\n",
    "    def __init__(self, input_dim, hid_dim, output_dim, ts_out, forcing = 1):\n",
    "        super(Seq2Seq,self).__init__()\n",
    "        self.output_dim = output_dim\n",
    "        self.ts_out = ts_out\n",
    "        self.encoder = Encoder(input_dim, hid_dim)\n",
    "        self.decoder = Decoder(input_dim,hid_dim,output_dim)\n",
    "        self.forcing = forcing\n",
    "\n",
    "        \n",
    "    def forward(self, source, y=None):\n",
    "        batch_size = source.shape[0]\n",
    "        target_len = self.ts_out\n",
    "        outputs = torch.zeros(target_len, batch_size,self.output_dim)\n",
    "        encoder_hidden = self.encoder.init_hidden(batch_size)\n",
    "        encoder_output, encoder_hidden = self.encoder(source)\n",
    "        \n",
    "        decoder_input = source[:,-1,:]\n",
    "        decoder_hidden = encoder_hidden\n",
    "        \n",
    "        for t in range(target_len):\n",
    "            decoder_output, decoder_hidden = self.decoder(decoder_input, decoder_hidden)\n",
    "            outputs[t] = decoder_output\n",
    "            if (y is not None) and (t>1) and (torch.rand(1) < self.forcing):\n",
    "                decoder_input = y[:,t].unsqueeze(1)\n",
    "            else :\n",
    "                decoder_input = decoder_output\n",
    "        #print(outputs.shape)\n",
    "        return outputs.squeeze().permute(1,0)"
   ]
  },
  {
   "cell_type": "code",
   "execution_count": 186,
   "metadata": {
    "ExecuteTime": {
     "end_time": "2021-08-26T13:03:07.131066Z",
     "start_time": "2021-08-26T13:03:07.126427Z"
    },
    "code_folding": [
     0
    ]
   },
   "outputs": [],
   "source": [
    "class LSTM(nn.Module):\n",
    "    def __init__(self, input_size, output_size, time_step_in, time_step_out):\n",
    "        super(LSTM, self).__init__()\n",
    "        self.input_size = input_size\n",
    "        self.output_size = output_size\n",
    "        self.time_step_in = time_step_in\n",
    "        self.time_step_out = time_step_out\n",
    "        self.num_layers = 1\n",
    "        \n",
    "        self.encoder = nn.LSTM(self.input_size, self.output_size,\n",
    "                               num_layers=self.num_layers, batch_first=True, bias=True)\n",
    "        \n",
    "        self.batch = nn.BatchNorm1d(self.output_size)\n",
    "        self.linear2 = nn.Linear(self.num_layers*self.output_size, self.time_step_out)\n",
    "        \n",
    "    def forward(self,x):\n",
    "        out_en, (h_en,_) = self.encoder(x)\n",
    "        h_en = h_en.view(-1, self.num_layers*self.output_size)\n",
    "        h_en = self.batch(h_en)\n",
    "        out = nn.LeakyReLU()(h_en)\n",
    "        #out = torch.sigmoid(self.linear(out))\n",
    "        out = self.linear2(out)\n",
    "        return out"
   ]
  },
  {
   "cell_type": "code",
   "execution_count": 187,
   "metadata": {
    "ExecuteTime": {
     "end_time": "2021-08-26T13:03:07.297790Z",
     "start_time": "2021-08-26T13:03:07.293499Z"
    },
    "code_folding": []
   },
   "outputs": [],
   "source": [
    "class CNN1D(nn.Module):\n",
    "    def __init__(self,output_chan, output_dim,input_dim,kernel_size):\n",
    "        super(CNN1D, self).__init__()\n",
    "        \n",
    "        self.output_chan = output_chan\n",
    "        self.output_dim = output_dim\n",
    "        self.input_dim = input_dim\n",
    "        \n",
    "        self.conv1d = nn.Conv1d(in_channels=1, out_channels=output_chan, kernel_size=kernel_size, stride=1, \n",
    "                                padding=int(np.floor(kernel_size/2)))\n",
    "        \n",
    "        \n",
    "        self.maxpool = nn.MaxPool1d(3)\n",
    "        self.batchnorm = nn.BatchNorm1d(output_chan)\n",
    "        self.fc1 = nn.Linear(output_chan*int((input_dim/3)), output_dim, bias=True)\n",
    "        \n",
    "    def forward(self, x):\n",
    "        inputs = x.unsqueeze(1).squeeze(-1)\n",
    "        out = self.conv1d(inputs)\n",
    "        out = self.batchnorm(out)\n",
    "        out = self.maxpool(out)\n",
    "        out = nn.LeakyReLU()(out)\n",
    "        \n",
    "        out = out.view(-1, out.shape[1]*out.shape[2])\n",
    "        \n",
    "        out = self.fc1(out)\n",
    "        return out"
   ]
  },
  {
   "cell_type": "code",
   "execution_count": 188,
   "metadata": {
    "ExecuteTime": {
     "end_time": "2021-08-26T13:03:07.449504Z",
     "start_time": "2021-08-26T13:03:07.445972Z"
    },
    "code_folding": [
     0
    ]
   },
   "outputs": [],
   "source": [
    "class Linear(nn.Module):\n",
    "    def __init__(self, nb_units, input_dim, output_dim):\n",
    "        super(Linear, self).__init__()\n",
    "        \n",
    "        self.nb_units = nb_units\n",
    "        self.input_dim = input_dim\n",
    "        self.output_dim = output_dim\n",
    "        self.nb_units2 = 16\n",
    "    \n",
    "        self.fc1 = nn.Linear(input_dim, nb_units)\n",
    "        #self.fc2 = nn.Linear(nb_units, self.nb_units2)\n",
    "        self.fc3 = nn.Linear(nb_units, output_dim)\n",
    "        \n",
    "        self.batch1 = nn.BatchNorm1d(nb_units)\n",
    "        #self.batch2 = nn.BatchNorm1d(self.nb_units2)\n",
    "        self.drop = nn.Dropout(0.5)\n",
    "        \n",
    "    def forward(self, x):\n",
    "        inputs = x.squeeze(-1)\n",
    "        out = self.fc1(inputs)\n",
    "        out = self.batch1(out)\n",
    "        out = nn.ReLU()(out)\n",
    "        \n",
    "        out = self.fc3(out)\n",
    "        return out"
   ]
  },
  {
   "cell_type": "code",
   "execution_count": 189,
   "metadata": {
    "ExecuteTime": {
     "end_time": "2021-08-26T13:03:09.733545Z",
     "start_time": "2021-08-26T13:03:09.731199Z"
    }
   },
   "outputs": [],
   "source": [
    "complete_graph, complete = Graphs.completegraph(4)\n",
    "cycle_graph, cycle = Graphs.cycle_graph(4)\n",
    "grid_graph, grid = Graphs.gridgraph(2,2)\n",
    "grid_graph_line, line = Graphs.gridgraph(4,1)"
   ]
  },
  {
   "cell_type": "code",
   "execution_count": 190,
   "metadata": {
    "ExecuteTime": {
     "end_time": "2021-08-26T13:03:10.251963Z",
     "start_time": "2021-08-26T13:03:10.249496Z"
    }
   },
   "outputs": [
    {
     "data": {
      "text/plain": [
       "array([[0.33333333, 0.33333333, 0.        , 0.33333333],\n",
       "       [0.33333333, 0.33333333, 0.33333333, 0.        ],\n",
       "       [0.        , 0.33333333, 0.33333333, 0.33333333],\n",
       "       [0.33333333, 0.        , 0.33333333, 0.33333333]])"
      ]
     },
     "execution_count": 190,
     "metadata": {},
     "output_type": "execute_result"
    }
   ],
   "source": [
    "nx.adjacency_matrix(cycle_graph).toarray()"
   ]
  },
  {
   "cell_type": "code",
   "execution_count": 323,
   "metadata": {
    "ExecuteTime": {
     "end_time": "2021-08-26T17:02:25.909347Z",
     "start_time": "2021-08-26T17:02:25.905762Z"
    }
   },
   "outputs": [],
   "source": [
    "loss_fn = nn.SmoothL1Loss()\n",
    "num_iters_base = nb_iterations\n",
    "eta_coef_DMFW = 1\n",
    "eta_exp_DMFW = 0.99\n",
    "rho_coef_DMFW = 4e-0\n",
    "rho_exp_DMFW = 1/2\n",
    "reg_coef_DMFW = 10\n",
    "L_DMFW = nb_iterations #or nb_iteration to get a better result"
   ]
  },
  {
   "cell_type": "code",
   "execution_count": 324,
   "metadata": {
    "ExecuteTime": {
     "end_time": "2021-08-26T17:02:27.434035Z",
     "start_time": "2021-08-26T17:02:27.413944Z"
    }
   },
   "outputs": [],
   "source": [
    "trainXMFW = Trainer(cycle_graph,trainloader,CNN1D, (8,lookahead,lookback, 5), loss_fn,num_iters_base)"
   ]
  },
  {
   "cell_type": "code",
   "execution_count": null,
   "metadata": {
    "ExecuteTime": {
     "start_time": "2021-08-26T17:02:28.101Z"
    },
    "scrolled": true
   },
   "outputs": [
    {
     "name": "stdout",
     "output_type": "stream",
     "text": [
      "----No Validation----\n",
      "t_0 : loss : 5.36007 gap : 0.048457127064466476 local_gap 0.048457127064466476\n",
      "t_1 : loss : 2.14311 gap : 0.03317283093929291 local_gap 0.018077783286571503\n",
      "t_2 : loss : 0.56575 gap : 0.01470328588038683 local_gap 0.011164925061166286\n",
      "t_3 : loss : 0.05525 gap : 0.004103824030607939 local_gap 0.001932281767949462\n",
      "t_4 : loss : 0.04433 gap : 0.0012662351364269853 local_gap 0.002290382282808423\n",
      "t_5 : loss : 0.80668 gap : 0.0018129952950403094 local_gap 0.00961280521005392\n",
      "t_6 : loss : 0.13253 gap : 0.0006342275300994515 local_gap 0.0026719332672655582\n",
      "t_7 : loss : 0.01632 gap : 0.0010174395283684134 local_gap 0.007505288813263178\n",
      "----No Validation----\n",
      "t_8 : loss : 0.01148 gap : 0.0012431417126208544 local_gap 0.010300268419086933\n",
      "t_9 : loss : 0.01504 gap : 0.00040035886922851205 local_gap 0.0027700376231223345\n",
      "t_10 : loss : 0.00951 gap : 0.0005248645902611315 local_gap 0.0054478878155350685\n",
      "t_11 : loss : 0.01980 gap : 0.00045944852172397077 local_gap 0.005001002456992865\n",
      "t_12 : loss : 0.08375 gap : 0.0006343235145322978 local_gap 0.007786756847053766\n",
      "t_13 : loss : 0.02732 gap : 0.0003635102475527674 local_gap 0.004465080797672272\n",
      "t_14 : loss : 0.06338 gap : 0.00028694269713014364 local_gap 0.004002394620329142\n",
      "t_15 : loss : 0.00928 gap : 0.000309422321151942 local_gap 0.004663814324885607\n",
      "----No Validation----\n",
      "t_16 : loss : 0.01729 gap : 9.354087524116039e-05 local_gap 0.00148143176920712\n",
      "t_17 : loss : 0.02200 gap : 0.00020382410730235279 local_gap 0.003605528501793742\n",
      "t_18 : loss : 0.02564 gap : 0.000198725305381231 local_gap 0.0035719566512852907\n",
      "t_19 : loss : 0.00092 gap : 0.00024200859479606152 local_gap 0.004641446750611067\n",
      "t_20 : loss : 0.07503 gap : 0.00021599025058094412 local_gap 0.0042937868274748325\n",
      "t_21 : loss : 0.01810 gap : 9.629580017644912e-05 local_gap 0.0019064474618062377\n",
      "t_22 : loss : 0.00315 gap : 2.595227851998061e-05 local_gap 0.0005329138366505504\n",
      "t_23 : loss : 0.00145 gap : 4.012971112388186e-05 local_gap 0.0009442025329917669\n",
      "----No Validation----\n",
      "t_24 : loss : 0.00511 gap : 8.184934267774224e-05 local_gap 0.002006190363317728\n",
      "t_25 : loss : 0.00538 gap : 6.702588143525645e-05 local_gap 0.0016608235891908407\n",
      "t_26 : loss : 0.00246 gap : 5.4660158639308065e-05 local_gap 0.001408798387274146\n",
      "t_27 : loss : 0.00659 gap : 3.867334089591168e-05 local_gap 0.0010281933937221766\n",
      "t_28 : loss : 0.00782 gap : 3.0379740564967506e-05 local_gap 0.000842339126393199\n",
      "t_29 : loss : 0.00401 gap : 2.5849287339951843e-05 local_gap 0.0007450988632626832\n",
      "t_30 : loss : 0.00530 gap : 2.6265241103828885e-05 local_gap 0.0007883732323534787\n",
      "t_31 : loss : 0.00488 gap : 4.563282345770858e-05 local_gap 0.001433985074982047\n",
      "----No Validation----\n",
      "t_32 : loss : 0.01158 gap : 4.2640604078769684e-05 local_gap 0.0013710615457966924\n",
      "t_33 : loss : 0.05882 gap : 4.742519013234414e-05 local_gap 0.0015871253563091159\n",
      "t_34 : loss : 0.00950 gap : 3.329133687657304e-05 local_gap 0.0011265900684520602\n",
      "t_35 : loss : 0.01041 gap : 3.647687844932079e-05 local_gap 0.0012895092368125916\n",
      "t_36 : loss : 0.01009 gap : 3.245083644287661e-05 local_gap 0.0011642040917649865\n",
      "t_37 : loss : 0.00301 gap : 2.8970136554562487e-05 local_gap 0.0010684143053367734\n",
      "t_38 : loss : 0.00559 gap : 3.0527065973728895e-05 local_gap 0.001161661115474999\n",
      "t_39 : loss : 0.00285 gap : 2.755330569925718e-05 local_gap 0.0010749278590083122\n",
      "----No Validation----\n",
      "t_40 : loss : 0.01325 gap : 2.2048476239433512e-05 local_gap 0.0008798787021078169\n",
      "t_41 : loss : 0.00397 gap : 9.70706605585292e-06 local_gap 0.00040335292578674853\n",
      "t_42 : loss : 0.00655 gap : 1.3105044672556687e-05 local_gap 0.0005538098630495369\n",
      "t_43 : loss : 0.00734 gap : 1.7170219507534057e-05 local_gap 0.0007452656864188612\n",
      "t_44 : loss : 0.00624 gap : 1.8726390408119187e-05 local_gap 0.0008255173452198505\n",
      "t_45 : loss : 0.00325 gap : 2.1894786186749116e-05 local_gap 0.0009930699598044157\n",
      "t_46 : loss : 0.00381 gap : 1.388878717989428e-05 local_gap 0.0006367969326674938\n",
      "t_47 : loss : 0.00364 gap : 1.1105745215900242e-05 local_gap 0.0005220425664447248\n",
      "----No Validation----\n",
      "t_48 : loss : 0.00389 gap : 8.825332770356908e-06 local_gap 0.0004213355714455247\n",
      "t_49 : loss : 0.00359 gap : 8.697678822500166e-06 local_gap 0.00042826164280995727\n",
      "t_50 : loss : 0.00451 gap : 7.546529104729416e-06 local_gap 0.00037657792563550174\n",
      "t_51 : loss : 0.00671 gap : 8.681950021127705e-06 local_gap 0.0004482539661694318\n",
      "t_52 : loss : 0.00371 gap : 1.0338692845834885e-05 local_gap 0.0005412527825683355\n",
      "t_53 : loss : 0.00427 gap : 1.4539010408043396e-05 local_gap 0.0007763034082017839\n",
      "t_54 : loss : 0.00563 gap : 1.4696814105263911e-05 local_gap 0.0007989666191861033\n",
      "t_55 : loss : 0.00607 gap : 1.2815517038688995e-05 local_gap 0.0007029721746221185\n",
      "----No Validation----\n",
      "t_56 : loss : 0.00789 gap : 1.6162475731107406e-05 local_gap 0.0009084455668926239\n",
      "t_57 : loss : 0.00589 gap : 1.2621335372386966e-05 local_gap 0.0007158750086091459\n",
      "t_58 : loss : 0.00205 gap : 7.887174433562905e-06 local_gap 0.00045935731031931937\n",
      "t_59 : loss : 0.00171 gap : 1.1111826097476296e-05 local_gap 0.0006593041471205652\n",
      "t_60 : loss : 0.00484 gap : 7.118424491636688e-06 local_gap 0.0004231120692566037\n",
      "t_61 : loss : 0.00388 gap : 7.385967364825774e-06 local_gap 0.00045081155258230865\n",
      "t_62 : loss : 0.00318 gap : 1.4495883078780025e-05 local_gap 0.0009062712197192013\n",
      "t_63 : loss : 0.00664 gap : 1.7153168300865218e-05 local_gap 0.0010833068517968059\n",
      "----No Validation----\n",
      "t_64 : loss : 0.00307 gap : 1.3284226042742375e-05 local_gap 0.0008543709991499782\n",
      "t_65 : loss : 0.00347 gap : 1.2512032299127895e-05 local_gap 0.0008167505147866905\n",
      "t_66 : loss : 0.00199 gap : 2.401622259640135e-05 local_gap 0.0015996373258531094\n",
      "t_67 : loss : 0.00313 gap : 1.7020847735693678e-05 local_gap 0.0011423398973420262\n",
      "t_68 : loss : 0.00674 gap : 2.181568561354652e-05 local_gap 0.0014905533753335476\n",
      "t_69 : loss : 0.00452 gap : 1.0003048373619094e-05 local_gap 0.0006944723427295685\n",
      "t_70 : loss : 0.00431 gap : 6.342590950225713e-06 local_gap 0.00044032090227119625\n",
      "t_71 : loss : 0.00375 gap : 1.285612779611256e-05 local_gap 0.0009198886691592634\n",
      "----No Validation----\n"
     ]
    }
   ],
   "source": [
    "values_dmfw = trainXMFW.train(DMFW, L_DMFW, eta_coef_DMFW, eta_exp_DMFW, reg_coef_DMFW,1,\n",
    "                            path_figure_date=None)#\"./OnlineModel/CNN1D/complete_full2/\")"
   ]
  },
  {
   "cell_type": "code",
   "execution_count": 294,
   "metadata": {
    "ExecuteTime": {
     "end_time": "2021-08-26T17:01:09.661812Z",
     "start_time": "2021-08-26T17:01:09.658252Z"
    }
   },
   "outputs": [],
   "source": [
    "path_log = \"/Users/Slaton/Documents/DMFW/BangkokDataAnalysis/gitdecenlearn/Analysis/new-temp/cycle/alpha099\"\n",
    "if not os.path.exists(path_log):\n",
    "    os.makedirs(path_log)"
   ]
  },
  {
   "cell_type": "code",
   "execution_count": 295,
   "metadata": {
    "ExecuteTime": {
     "end_time": "2021-08-26T17:01:09.967821Z",
     "start_time": "2021-08-26T17:01:09.964720Z"
    }
   },
   "outputs": [],
   "source": [
    "def save_log_csv(log_file, path_to_save,floor_idx,graph):\n",
    "    logs = pd.DataFrame(log_file, columns=[\"Iteration\", \"Loss\", \"Gap\", \"Local Gaps\"])\n",
    "    pd.DataFrame.to_csv(logs, os.path.join(path_to_save,f'Floor_{floor_idx}_'+\"_\"+f'{graph}'+\".csv\"))\n",
    "def save_state_dict(model, model_idx, path_to_save,floor_idx,graph):\n",
    "    torch.save(model.state_dict(), os.path.join(path_to_save,f'Floor{floor_idx}_model{model_idx}_{graph}_statedict.pt'))"
   ]
  },
  {
   "cell_type": "code",
   "execution_count": 296,
   "metadata": {
    "ExecuteTime": {
     "end_time": "2021-08-26T17:01:10.448349Z",
     "start_time": "2021-08-26T17:01:10.439666Z"
    }
   },
   "outputs": [],
   "source": [
    "save_log_csv(values_dmfw, path_log, floor, \"cycle\")\n",
    "for i in range(4):\n",
    "    save_state_dict(trainXMFW.best_models[i],i, path_log, floor,\"cycle\")"
   ]
  },
  {
   "cell_type": "code",
   "execution_count": 297,
   "metadata": {
    "ExecuteTime": {
     "end_time": "2021-08-26T17:01:11.825667Z",
     "start_time": "2021-08-26T17:01:11.616142Z"
    }
   },
   "outputs": [
    {
     "data": {
      "text/plain": [
       "Text(0, 0.5, 'Gap')"
      ]
     },
     "execution_count": 297,
     "metadata": {},
     "output_type": "execute_result"
    },
    {
     "data": {
      "image/png": "[encoded data removed]",
      "text/plain": [
       "<Figure size 720x360 with 1 Axes>"
      ]
     },
     "metadata": {},
     "output_type": "display_data"
    }
   ],
   "source": [
    "plt.figure(figsize=(10,5))\n",
    "plt.suptitle(\"{}\".format(cycle))\n",
    "plt.plot(values_dmfw[:,0][:-1],values_dmfw[:,2][:-1], label='DMFW', marker='^', markersize=4,\n",
    "         markevery=[i for i in range(len(values_dmfw[:,0][1:])) if i%10==0])\n",
    "plt.axhline(y=0, color='grey', linestyle='--')\n",
    "plt.legend(loc='upper right')\n",
    "#plt.ylim((1e-4, 1e0))\n",
    "plt.yscale(\"log\")\n",
    "plt.xlabel(\"#Iterations\",fontsize=15)\n",
    "plt.ylabel(\"Gap\",fontsize=15)"
   ]
  },
  {
   "cell_type": "code",
   "execution_count": 298,
   "metadata": {
    "ExecuteTime": {
     "end_time": "2021-08-26T17:01:13.199211Z",
     "start_time": "2021-08-26T17:01:13.196896Z"
    }
   },
   "outputs": [
    {
     "data": {
      "text/plain": [
       "0.025992783175463538"
      ]
     },
     "execution_count": 298,
     "metadata": {},
     "output_type": "execute_result"
    }
   ],
   "source": [
    "np.mean(values_dmfw[:,1][:-1])"
   ]
  },
  {
   "cell_type": "code",
   "execution_count": 299,
   "metadata": {
    "ExecuteTime": {
     "end_time": "2021-08-26T17:01:14.585436Z",
     "start_time": "2021-08-26T17:01:14.583320Z"
    }
   },
   "outputs": [],
   "source": [
    "onlineloss = np.cumsum(values_dmfw[:,1][:-1])\n",
    "arangement = np.arange(1,len(onlineloss)+1)\n",
    "onlineloss = onlineloss/arangement"
   ]
  },
  {
   "cell_type": "code",
   "execution_count": 300,
   "metadata": {
    "ExecuteTime": {
     "end_time": "2021-08-26T17:01:15.128138Z",
     "start_time": "2021-08-26T17:01:14.923379Z"
    }
   },
   "outputs": [
    {
     "data": {
      "text/plain": [
       "Text(0, 0.5, 'Loss')"
      ]
     },
     "execution_count": 300,
     "metadata": {},
     "output_type": "execute_result"
    },
    {
     "data": {
      "image/png": "[encoded data removed]",
      "text/plain": [
       "<Figure size 720x360 with 1 Axes>"
      ]
     },
     "metadata": {},
     "output_type": "display_data"
    }
   ],
   "source": [
    "plt.figure(figsize=(10,5))\n",
    "plt.suptitle(\"{}\".format(cycle))\n",
    "plt.plot(values_dmfw[:,0][:-1],values_dmfw[:,1][:-1], label='Step Loss', marker='^', markersize=4,\n",
    "         markevery=[i for i in range(len(values_dmfw[:,0][1:])) if i%10==0])\n",
    "plt.plot(values_dmfw[:,0][:-1],onlineloss, label='Online Loss', marker='^', markersize=4,\n",
    "         markevery=[i for i in range(len(values_dmfw[:,0][1:])) if i%10==0])\n",
    "plt.axhline(y=0, color='grey', linestyle='--')\n",
    "plt.legend(loc='upper right')\n",
    "#plt.ylim((1e-3, 1e2))\n",
    "plt.yscale(\"log\")\n",
    "plt.xlabel(\"#Iterations\",fontsize=15)\n",
    "plt.ylabel(\"Loss\",fontsize=15)"
   ]
  },
  {
   "cell_type": "markdown",
   "metadata": {},
   "source": [
    "# Prediction"
   ]
  },
  {
   "cell_type": "code",
   "execution_count": 301,
   "metadata": {
    "ExecuteTime": {
     "end_time": "2021-08-26T17:01:16.909961Z",
     "start_time": "2021-08-26T17:01:16.906595Z"
    }
   },
   "outputs": [],
   "source": [
    "def ModelPrediction(model_to_test, date ,loader, lookahead):\n",
    "    prediction = []\n",
    "    true = []\n",
    "    for val, valpred in loader[date]:\n",
    "        model_to_test.eval()\n",
    "        pred = model_to_test(val)\n",
    "        #print(pred.shape)\n",
    "        prediction.append(pred.detach().numpy())\n",
    "        true.append(valpred.detach().numpy())\n",
    "    pred_array = np.asarray(prediction)\n",
    "    true_array = np.asarray(true)\n",
    "    #print(pred_array.shape)\n",
    "    pred_shape = pred_array.shape\n",
    "    #print(pred_shape)\n",
    "    flattenTrue = true_array.reshape(pred_shape[0]*pred_shape[1], lookahead)[::lookahead].flatten()\n",
    "    flattenPred = pred_array.reshape(pred_shape[0]*pred_shape[1], lookahead)[::lookahead].flatten()\n",
    "    return flattenTrue, flattenPred"
   ]
  },
  {
   "cell_type": "code",
   "execution_count": 302,
   "metadata": {
    "ExecuteTime": {
     "end_time": "2021-08-26T17:01:18.066503Z",
     "start_time": "2021-08-26T17:01:18.064987Z"
    }
   },
   "outputs": [],
   "source": [
    "#torch.save(trainXMFW.models[3].state_dict(),\"./OnlineModel/CNN1D/FINAL43_BestFinal/model3.pt\")"
   ]
  },
  {
   "cell_type": "code",
   "execution_count": 303,
   "metadata": {
    "ExecuteTime": {
     "end_time": "2021-08-26T17:01:18.401725Z",
     "start_time": "2021-08-26T17:01:18.396460Z"
    }
   },
   "outputs": [],
   "source": [
    "model_trained = trainXMFW.best_models[0]\n",
    "true, pred = ModelPrediction(model_trained,\"2019-05-20\", testloader[0], lookahead)"
   ]
  },
  {
   "cell_type": "code",
   "execution_count": 304,
   "metadata": {
    "ExecuteTime": {
     "end_time": "2021-08-26T17:01:18.827827Z",
     "start_time": "2021-08-26T17:01:18.756492Z"
    }
   },
   "outputs": [
    {
     "data": {
      "text/plain": [
       "[<matplotlib.lines.Line2D at 0x2983a7220>]"
      ]
     },
     "execution_count": 304,
     "metadata": {},
     "output_type": "execute_result"
    },
    {
     "data": {
      "image/png": "[encoded data removed]",
      "text/plain": [
       "<Figure size 432x288 with 1 Axes>"
      ]
     },
     "metadata": {},
     "output_type": "display_data"
    }
   ],
   "source": [
    "plt.plot(true) \n",
    "plt.plot(pred)"
   ]
  },
  {
   "cell_type": "code",
   "execution_count": 305,
   "metadata": {
    "ExecuteTime": {
     "end_time": "2021-08-26T17:01:20.642562Z",
     "start_time": "2021-08-26T17:01:20.638305Z"
    }
   },
   "outputs": [],
   "source": [
    "def PredictionMultipleDate(model, dates, date_begin, date_end, loader, lookahead, scalers, zone_name, ft_idx):\n",
    "    predictTrue = []\n",
    "    predictPred = []\n",
    "    valuePD = pd.DataFrame()\n",
    "    idx_begin = dates.index(date_begin)\n",
    "    idx_end = dates.index(date_end)\n",
    "    for date in dates[idx_begin:idx_end]:\n",
    "        true, pred = ModelPrediction(model, date, loader, lookahead)\n",
    "        maxi = scalers[zone_name].data_max_[ft_idx]\n",
    "        mini = scalers[zone_name].data_min_[ft_idx]\n",
    "        data_range = 0.8\n",
    "        true = ((true.reshape(-1,1) - 0.2)*(maxi-mini))/data_range + mini\n",
    "        pred = ((pred.reshape(-1,1) - 0.2)*(maxi-mini))/data_range + mini\n",
    "        array = np.concatenate([true, pred],axis=1)\n",
    "        result = pd.DataFrame({\"Truth\": true.squeeze(),\n",
    "                              \"Prediction\" : pred.squeeze()})\n",
    "                              #\"Date\": pd.date_range(start=date,periods=true.shape[0], freq=\"5min\")})\n",
    "        valuePD = pd.concat((valuePD, result)).reset_index(drop=True)\n",
    "    return valuePD"
   ]
  },
  {
   "cell_type": "code",
   "execution_count": 306,
   "metadata": {
    "ExecuteTime": {
     "end_time": "2021-08-26T17:01:21.367921Z",
     "start_time": "2021-08-26T17:01:21.365521Z"
    }
   },
   "outputs": [
    {
     "data": {
      "text/plain": [
       "Index(['ACPower', 'lightPower', 'appPower', 'temperature', 'humidity', 'lux'], dtype='object')"
      ]
     },
     "execution_count": 306,
     "metadata": {},
     "output_type": "execute_result"
    }
   ],
   "source": [
    "floor_dict[\"Floor7Z1\"].columns"
   ]
  },
  {
   "cell_type": "code",
   "execution_count": 320,
   "metadata": {
    "ExecuteTime": {
     "end_time": "2021-08-26T17:01:58.536568Z",
     "start_time": "2021-08-26T17:01:58.463903Z"
    }
   },
   "outputs": [],
   "source": [
    "ft_idx = 3\n",
    "indexroom = 3\n",
    "mymodel = trainXMFW.best_models[indexroom]\n",
    "real_index_zone = [1,2,4,5]\n",
    "#testloader = [loaderZ1test]#, loaderZ2test, loaderZ4test, loaderZ5test]\n",
    "may = [date for date in test_date if '2019-05' in date]\n",
    "myfloor = [\"Floor7Z1\",\"Floor7Z2\",\"Floor7Z4\",\"Floor7Z5\"]\n",
    "resultpd = PredictionMultipleDate(mymodel,test_date,may[0], may[-1],testloader[indexroom], lookahead, scalers,\n",
    "                                 myfloor[indexroom], ft_idx)"
   ]
  },
  {
   "cell_type": "code",
   "execution_count": 321,
   "metadata": {
    "ExecuteTime": {
     "end_time": "2021-08-26T17:01:59.253714Z",
     "start_time": "2021-08-26T17:01:58.819264Z"
    }
   },
   "outputs": [
    {
     "data": {
      "image/png": "[encoded data removed]",
      "text/plain": [
       "<Figure size 1080x360 with 1 Axes>"
      ]
     },
     "metadata": {},
     "output_type": "display_data"
    }
   ],
   "source": [
    "plt.figure(figsize=(15,5))\n",
    "plt.title(f'Floor {floor} - Zone {real_index_zone[indexroom]}')\n",
    "plt.plot(resultpd[\"Truth\"],label=\"Truth\")\n",
    "plt.plot(resultpd[\"Prediction\"],label=\"Prediction\",ls='-')\n",
    "plt.xticks(ticks=np.arange(resultpd.shape[0],step=100))\n",
    "plt.legend()\n",
    "plt.xlabel(\"Timestep\")\n",
    "plt.ylabel(f'{feature}')\n",
    "plt.show()"
   ]
  },
  {
   "cell_type": "code",
   "execution_count": 322,
   "metadata": {
    "ExecuteTime": {
     "end_time": "2021-08-26T17:02:00.400569Z",
     "start_time": "2021-08-26T17:02:00.389030Z"
    }
   },
   "outputs": [],
   "source": [
    "pd.DataFrame.to_csv(resultpd,path_log+f'/prediction-zone{real_index_zone[indexroom]}.csv')"
   ]
  },
  {
   "cell_type": "code",
   "execution_count": 217,
   "metadata": {
    "ExecuteTime": {
     "end_time": "2021-08-26T14:09:06.922623Z",
     "start_time": "2021-08-26T14:09:06.919730Z"
    }
   },
   "outputs": [
    {
     "data": {
      "text/plain": [
       "0.29539537"
      ]
     },
     "execution_count": 217,
     "metadata": {},
     "output_type": "execute_result"
    }
   ],
   "source": [
    "np.mean(resultpd[\"Truth\"] - resultpd[\"Prediction\"])"
   ]
  },
  {
   "cell_type": "code",
   "execution_count": 218,
   "metadata": {
    "ExecuteTime": {
     "end_time": "2021-08-26T14:09:07.701588Z",
     "start_time": "2021-08-26T14:09:07.699128Z"
    }
   },
   "outputs": [
    {
     "data": {
      "text/plain": [
       "2.5740945"
      ]
     },
     "execution_count": 218,
     "metadata": {},
     "output_type": "execute_result"
    }
   ],
   "source": [
    "np.std(resultpd[\"Truth\"] - resultpd[\"Prediction\"])"
   ]
  },
  {
   "cell_type": "raw",
   "metadata": {
    "ExecuteTime": {
     "end_time": "2021-07-24T09:40:30.932087Z",
     "start_time": "2021-07-24T09:40:30.927551Z"
    }
   },
   "source": [
    "floor_dict[\"Floor7Z1\"].columns"
   ]
  }
 ],
 "metadata": {
  "kernelspec": {
   "display_name": "Python 3 (ipykernel)",
   "language": "python",
   "name": "python3"
  },
  "language_info": {
   "codemirror_mode": {
    "name": "ipython",
    "version": 3
   },
   "file_extension": ".py",
   "mimetype": "text/x-python",
   "name": "python",
   "nbconvert_exporter": "python",
   "pygments_lexer": "ipython3",
   "version": "3.8.10"
  },
  "toc": {
   "base_numbering": 1,
   "nav_menu": {},
   "number_sections": true,
   "sideBar": true,
   "skip_h1_title": false,
   "title_cell": "Table of Contents",
   "title_sidebar": "Contents",
   "toc_cell": false,
   "toc_position": {},
   "toc_section_display": true,
   "toc_window_display": false
  }
 },
 "nbformat": 4,
 "nbformat_minor": 4
}
