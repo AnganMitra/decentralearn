{
 "cells": [
  {
   "cell_type": "code",
   "execution_count": 1,
   "id": "d7609ed4",
   "metadata": {
    "ExecuteTime": {
     "end_time": "2021-08-16T08:08:07.041190Z",
     "start_time": "2021-08-16T08:08:06.004095Z"
    }
   },
   "outputs": [],
   "source": [
    "from algoaux import *\n",
    "from lib import *\n",
    "from dataShaper import *\n",
    "from models import cnn\n",
    "from graphs import *\n",
    "import re"
   ]
  },
  {
   "cell_type": "code",
   "execution_count": 66,
   "id": "2f6c2f85",
   "metadata": {
    "ExecuteTime": {
     "end_time": "2021-08-16T13:35:09.710310Z",
     "start_time": "2021-08-16T13:35:09.707033Z"
    }
   },
   "outputs": [],
   "source": [
    "x = torch.rand((13,5,10))"
   ]
  },
  {
   "cell_type": "code",
   "execution_count": 67,
   "id": "7e1de833",
   "metadata": {
    "ExecuteTime": {
     "end_time": "2021-08-16T13:35:11.202007Z",
     "start_time": "2021-08-16T13:35:11.196319Z"
    }
   },
   "outputs": [
    {
     "data": {
      "text/plain": [
       "tensor([[-1.,  0.,  0.,  0.,  0.,  0.,  0.,  0.,  0., -1.],\n",
       "        [ 0.,  0.,  0., -1.,  0.,  0., -1.,  0.,  0.,  0.],\n",
       "        [ 0.,  0.,  0.,  0.,  0., -1.,  0.,  0.,  0.,  0.],\n",
       "        [ 0.,  0.,  0.,  0., -1.,  0.,  0.,  0.,  0.,  0.],\n",
       "        [ 0., -1., -1.,  0.,  0.,  0.,  0., -1., -1.,  0.]])"
      ]
     },
     "execution_count": 67,
     "metadata": {},
     "output_type": "execute_result"
    }
   ],
   "source": [
    "lmo(x[0],1)"
   ]
  },
  {
   "cell_type": "code",
   "execution_count": 69,
   "id": "fcc5fa9b",
   "metadata": {
    "ExecuteTime": {
     "end_time": "2021-08-16T13:35:43.692800Z",
     "start_time": "2021-08-16T13:35:43.687524Z"
    }
   },
   "outputs": [
    {
     "data": {
      "text/plain": [
       "tensor(2.)"
      ]
     },
     "execution_count": 69,
     "metadata": {},
     "output_type": "execute_result"
    }
   ],
   "source": [
    "torch.linalg.norm(lmo_fn(x[0],1),ord=1)"
   ]
  },
  {
   "cell_type": "code",
   "execution_count": 23,
   "id": "c9e9cc67",
   "metadata": {
    "ExecuteTime": {
     "end_time": "2021-08-16T08:32:51.445497Z",
     "start_time": "2021-08-16T08:32:51.439195Z"
    }
   },
   "outputs": [],
   "source": [
    "def simpleLMO(x,radius,p=1):\n",
    "    tolerance = 1e-10\n",
    "    if p == 1:\n",
    "        v = torch.zeros_like(x)\n",
    "        maxIdx = torch.argmax(torch.abs(x))\n",
    "        v.view(-1)[maxIdx] = -radius * torch.sign(x.view(-1)[maxIdx])\n",
    "        return v\n",
    "    elif p == 2:\n",
    "        x_norm = float(torch.norm(x, p=2))\n",
    "        if x_norm > tolerance:\n",
    "            return -radius * x.div(x_norm)\n",
    "        else:\n",
    "            return torch.zeros_like(x)\n",
    "    elif p == float('inf'):\n",
    "        return torch.full_like(x, fill_value=radius).masked_fill_(x > 0, -radius)"
   ]
  },
  {
   "cell_type": "code",
   "execution_count": 24,
   "id": "a5bcd09d",
   "metadata": {
    "ExecuteTime": {
     "end_time": "2021-08-16T08:32:51.999467Z",
     "start_time": "2021-08-16T08:32:51.994530Z"
    }
   },
   "outputs": [
    {
     "data": {
      "text/plain": [
       "tensor(1.)"
      ]
     },
     "execution_count": 24,
     "metadata": {},
     "output_type": "execute_result"
    }
   ],
   "source": [
    "torch.linalg.norm(simpleLMO(x[0],1),ord=1)"
   ]
  },
  {
   "cell_type": "code",
   "execution_count": 60,
   "id": "9cad2339",
   "metadata": {
    "ExecuteTime": {
     "end_time": "2021-08-16T13:34:27.910229Z",
     "start_time": "2021-08-16T13:34:27.898555Z"
    }
   },
   "outputs": [],
   "source": [
    "def lmo_fn(G, radius):\n",
    "    shape = G.shape\n",
    "    if len(shape) == 3:\n",
    "        myelem = torch.zeros(shape)\n",
    "        for chan_out in range(shape[0]):\n",
    "            tmpG = G[chan_out]\n",
    "            num_rows, num_cols = tmpG.shape\n",
    "            cols = torch.argmax(torch.abs(tmpG), 1)\n",
    "            rows = torch.arange(num_rows)\n",
    "            indices = torch.LongTensor([rows.tolist(), cols.tolist()])\n",
    "            flatten_G = tmpG.T.flatten()[rows + cols * num_rows]\n",
    "            values = -radius * torch.sign(flatten_G)\n",
    "            res_tmp = torch.sparse.FloatTensor(indices, values,\n",
    "                                               tmpG.shape).to_dense()\n",
    "            myelem[chan_out] = res_tmp\n",
    "            \n",
    "        res = myelem\n",
    "\n",
    "    elif len(shape) == 2:\n",
    "        tmpG = G\n",
    "        num_rows, num_cols = tmpG.shape\n",
    "        cols = torch.argmax(torch.abs(tmpG), 1)\n",
    "        rows = torch.arange(num_rows)\n",
    "        indices = torch.LongTensor([rows.tolist(), cols.tolist()])\n",
    "        flatten_G = tmpG.T.flatten()[rows + cols * num_rows]\n",
    "        values = -radius * torch.sign(flatten_G)\n",
    "        res_tmp = torch.sparse.FloatTensor(indices, values,\n",
    "                                           tmpG.shape).to_dense()\n",
    "        res = res_tmp\n",
    "\n",
    "    elif len(shape) == 1:\n",
    "        tmpG = G\n",
    "        nb_rows = tmpG.shape\n",
    "        rows = torch.argmax(torch.abs(tmpG))\n",
    "        s = torch.zeros(nb_rows)\n",
    "        s[rows] = -radius * torch.sign(tmpG[rows])\n",
    "        res = s\n",
    "\n",
    "    return res"
   ]
  },
  {
   "cell_type": "code",
   "execution_count": 53,
   "id": "3d6bab6c",
   "metadata": {
    "ExecuteTime": {
     "end_time": "2021-08-16T13:30:04.226434Z",
     "start_time": "2021-08-16T13:30:04.223925Z"
    }
   },
   "outputs": [],
   "source": [
    "lookahead = 5\n",
    "lookback = 13"
   ]
  },
  {
   "cell_type": "code",
   "execution_count": 57,
   "id": "4920d08d",
   "metadata": {
    "ExecuteTime": {
     "end_time": "2021-08-16T13:34:01.444530Z",
     "start_time": "2021-08-16T13:34:01.438360Z"
    }
   },
   "outputs": [
    {
     "name": "stdout",
     "output_type": "stream",
     "text": [
      "conv1d.weight torch.Size([8, 1, 5])\n",
      "conv1d.bias torch.Size([8])\n",
      "batchnorm.weight torch.Size([8])\n",
      "batchnorm.bias torch.Size([8])\n",
      "fc1.weight torch.Size([5, 32])\n",
      "fc1.bias torch.Size([5])\n"
     ]
    }
   ],
   "source": [
    "modeltest = cnn.CNN1D(8,lookahead,lookback,5)\n",
    "for name,param in modeltest.named_parameters():\n",
    "    print(name, param.shape)"
   ]
  },
  {
   "cell_type": "code",
   "execution_count": 58,
   "id": "afde3461",
   "metadata": {
    "ExecuteTime": {
     "end_time": "2021-08-16T13:34:08.693750Z",
     "start_time": "2021-08-16T13:34:08.687325Z"
    }
   },
   "outputs": [
    {
     "data": {
      "text/plain": [
       "tensor([[[ 1., -1.,  1.,  1., -1.]],\n",
       "\n",
       "        [[ 1., -1., -1., -1., -1.]],\n",
       "\n",
       "        [[ 1., -1.,  1.,  1.,  1.]],\n",
       "\n",
       "        [[ 1., -1.,  1.,  1., -1.]],\n",
       "\n",
       "        [[-1.,  1.,  1.,  1.,  1.]],\n",
       "\n",
       "        [[-1.,  1.,  1.,  1., -1.]],\n",
       "\n",
       "        [[-1.,  1.,  1.,  1., -1.]],\n",
       "\n",
       "        [[-1., -1., -1.,  1., -1.]]])"
      ]
     },
     "execution_count": 58,
     "metadata": {},
     "output_type": "execute_result"
    }
   ],
   "source": [
    "lmo(modeltest.conv1d.weight.detach(), 1)"
   ]
  },
  {
   "cell_type": "code",
   "execution_count": 65,
   "id": "18d8d5d8",
   "metadata": {
    "ExecuteTime": {
     "end_time": "2021-08-16T13:35:03.858436Z",
     "start_time": "2021-08-16T13:35:03.853139Z"
    }
   },
   "outputs": [
    {
     "data": {
      "text/plain": [
       "tensor(1.)"
      ]
     },
     "execution_count": 65,
     "metadata": {},
     "output_type": "execute_result"
    }
   ],
   "source": [
    "torch.linalg.norm(lmo_fn(modeltest.conv1d.weight.data[2],1),ord=1)"
   ]
  },
  {
   "cell_type": "code",
   "execution_count": null,
   "id": "2111e046",
   "metadata": {},
   "outputs": [],
   "source": []
  }
 ],
 "metadata": {
  "kernelspec": {
   "display_name": "Python 3 (ipykernel)",
   "language": "python",
   "name": "python3"
  },
  "language_info": {
   "codemirror_mode": {
    "name": "ipython",
    "version": 3
   },
   "file_extension": ".py",
   "mimetype": "text/x-python",
   "name": "python",
   "nbconvert_exporter": "python",
   "pygments_lexer": "ipython3",
   "version": "3.8.10"
  },
  "toc": {
   "base_numbering": 1,
   "nav_menu": {},
   "number_sections": true,
   "sideBar": true,
   "skip_h1_title": false,
   "title_cell": "Table of Contents",
   "title_sidebar": "Contents",
   "toc_cell": false,
   "toc_position": {},
   "toc_section_display": true,
   "toc_window_display": false
  }
 },
 "nbformat": 4,
 "nbformat_minor": 5
}
