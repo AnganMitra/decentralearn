{
 "cells": [
  {
   "cell_type": "code",
   "execution_count": 1,
   "id": "d95eaeb3",
   "metadata": {
    "ExecuteTime": {
     "end_time": "2021-08-17T07:58:15.030593Z",
     "start_time": "2021-08-17T07:58:14.050766Z"
    }
   },
   "outputs": [],
   "source": [
    "from algoaux import *\n",
    "from lib import *\n",
    "from dataShaper import *\n",
    "from models import cnn\n",
    "from graphs import *\n",
    "import re"
   ]
  },
  {
   "cell_type": "code",
   "execution_count": 2,
   "id": "f35c8124",
   "metadata": {
    "ExecuteTime": {
     "end_time": "2021-08-17T07:58:15.552614Z",
     "start_time": "2021-08-17T07:58:15.549878Z"
    }
   },
   "outputs": [],
   "source": [
    "Cnn1D = cnn.CNN1D"
   ]
  },
  {
   "cell_type": "code",
   "execution_count": 630,
   "id": "aea98178",
   "metadata": {
    "ExecuteTime": {
     "end_time": "2021-08-17T13:56:30.130838Z",
     "start_time": "2021-08-17T13:56:30.126831Z"
    }
   },
   "outputs": [],
   "source": [
    "input_dir = \"/Users/Slaton/Documents/DMFW/BangkokDataAnalysis/gitdecenlearn/BKDataCleaned/\"\n",
    "floor = 3\n",
    "start_date = \"2019-03-07\"\n",
    "end_date = \"2019-12-31\"\n",
    "cut_date = \"2019-05-08\"\n",
    "feature = \"lux\"\n",
    "resample_method = \"max\""
   ]
  },
  {
   "cell_type": "code",
   "execution_count": 631,
   "id": "a4c8022d",
   "metadata": {
    "ExecuteTime": {
     "end_time": "2021-08-17T13:56:32.211299Z",
     "start_time": "2021-08-17T13:56:30.702236Z"
    }
   },
   "outputs": [
    {
     "name": "stdout",
     "output_type": "stream",
     "text": [
      "Floor3Z1 Start: 2019-03-06 13:44:00 End: 2019-12-31 23:59:00 Count:397115\n",
      "\n",
      "Floor3Z2 Start: 2019-03-06 13:50:00 End: 2019-12-31 23:59:00 Count:414258\n",
      "\n",
      "Floor3Z5 Start: 2019-03-06 13:52:00 End: 2019-12-31 23:59:00 Count:372916\n",
      "\n",
      "Floor3Z4 Start: 2019-03-06 13:42:00 End: 2019-12-31 23:59:00 Count:421719\n",
      "\n",
      "Floor3Z1 Start: 2019-03-07 00:00:00 End: 2019-12-31 23:55:00 Count:86400\n",
      "Floor3Z1 Dates: 300\n",
      "Floor3Z2 Start: 2019-03-07 00:00:00 End: 2019-12-31 23:55:00 Count:86400\n",
      "Floor3Z2 Dates: 300\n",
      "Floor3Z5 Start: 2019-03-07 00:00:00 End: 2019-12-31 23:55:00 Count:86400\n",
      "Floor3Z5 Dates: 300\n",
      "Floor3Z4 Start: 2019-03-07 00:00:00 End: 2019-12-31 23:55:00 Count:86400\n",
      "Floor3Z4 Dates: 300\n",
      "Floor : Floor3Z1 , shape :(86400, 9) , TimeMin 2019-03-07 00:00:00 , TimeMax 2019-12-31 23:55:00\n",
      "Empty DataFrame\n",
      "Columns: [Total, Pourcentage]\n",
      "Index: [] \n",
      "\n",
      "Floor : Floor3Z2 , shape :(86400, 9) , TimeMin 2019-03-07 00:00:00 , TimeMax 2019-12-31 23:55:00\n",
      "Empty DataFrame\n",
      "Columns: [Total, Pourcentage]\n",
      "Index: [] \n",
      "\n",
      "Floor : Floor3Z5 , shape :(86400, 9) , TimeMin 2019-03-07 00:00:00 , TimeMax 2019-12-31 23:55:00\n",
      "Empty DataFrame\n",
      "Columns: [Total, Pourcentage]\n",
      "Index: [] \n",
      "\n",
      "Floor : Floor3Z4 , shape :(86400, 9) , TimeMin 2019-03-07 00:00:00 , TimeMax 2019-12-31 23:55:00\n",
      "Empty DataFrame\n",
      "Columns: [Total, Pourcentage]\n",
      "Index: [] \n",
      "\n"
     ]
    }
   ],
   "source": [
    "floor_dict = createDictFloor(input_dir, f\"Floor{floor}\")\n",
    "for data in floor_dict.keys():\n",
    "    zone = floor_dict[data]\n",
    "    print(\"{} Start: {} End: {} Count:{}\".format(data,zone.index.min(),zone.index.max(), zone.shape[0]))\n",
    "    print(\"\")\n",
    "resample,scalers, index_nan = createDTFeat(start_date, end_date, floor_dict, feature,resample_method=resample_method)\n",
    "cleanedData, remain_date = cleanNan(resample, index_nan)\n",
    "for data in cleanedData.keys():\n",
    "    zone = cleanedData[data]\n",
    "    print(\"{} Start: {} End: {} Count:{}\".format(data,zone.index.min(),zone.index.max(), zone.shape[0]))\n",
    "    print(\"{} Dates: {}\".format(data,len(np.unique(zone[\"date\"]))))\n",
    "    \n",
    "getInfoTimeShape(cleanedData)"
   ]
  },
  {
   "cell_type": "code",
   "execution_count": 632,
   "id": "bb7520b9",
   "metadata": {
    "ExecuteTime": {
     "end_time": "2021-08-17T13:56:32.728055Z",
     "start_time": "2021-08-17T13:56:32.212199Z"
    }
   },
   "outputs": [
    {
     "name": "stderr",
     "output_type": "stream",
     "text": [
      "/Users/Slaton/Documents/DMFW/BangkokDataAnalysis/gitdecenlearn/DMFW/src/dataShaper.py:109: FutureWarning: Indexing a DataFrame with a datetimelike index using a single string to slice the rows, like `frame[string]`, is deprecated and will be removed in a future version. Use `frame.loc[string]` instead.\n",
      "  databyDate[date][floor] = np.asarray(datadict[floor][date][features])\n"
     ]
    },
    {
     "name": "stdout",
     "output_type": "stream",
     "text": [
      "Zone Floor3Z1\n",
      "Zone Floor3Z1\n",
      "Zone Floor3Z2\n",
      "Zone Floor3Z2\n",
      "Zone Floor3Z4\n",
      "Zone Floor3Z4\n",
      "Zone Floor3Z5\n",
      "Zone Floor3Z5\n"
     ]
    }
   ],
   "source": [
    "train_date, test_date = splitDate(remain_date, cut_date)\n",
    "databyDate = createDataByDate(cleanedData, feature, remain_date)\n",
    "trainloader = []\n",
    "testloder = []\n",
    "nb_zone = 5\n",
    "lookback = 13\n",
    "lookahead = 1\n",
    "batch_size=32\n",
    "for zone in range(1,nb_zone+1):\n",
    "    if zone != 3:\n",
    "        zoneID = f\"Floor{floor}Z{zone}\"\n",
    "        loaderZtrain = LoaderByZone(databyDate, zoneID, train_date, lookback, lookahead, batch_size, shuffle=True)\n",
    "        loaderZtest = LoaderByZone(databyDate, zoneID, test_date, lookback, lookahead, batch_size)\n",
    "        trainloader.append(loaderZtrain)\n",
    "        testloder.append(loaderZtest)\n",
    "zone_no=len(trainloader)"
   ]
  },
  {
   "cell_type": "code",
   "execution_count": 633,
   "id": "47fded1a",
   "metadata": {
    "ExecuteTime": {
     "end_time": "2021-08-17T13:56:32.732159Z",
     "start_time": "2021-08-17T13:56:32.728701Z"
    },
    "code_folding": []
   },
   "outputs": [],
   "source": [
    "def LoaderByZoneNormal(data,zone_name,dates, lookback, lookahead, batch_size, shuffle=False):\n",
    "    firstday = data[dates[0]][zone_name]\n",
    "    myX, myY = to_timeseries_input(firstday, lookback, lookahead)\n",
    "    for date in dates[1:]:\n",
    "        haruharu = data[date][zone_name]\n",
    "        trainx, trainy = to_timeseries_input(haruharu, lookback, lookahead)\n",
    "        myX = np.vstack((myX, trainx))\n",
    "        myY = np.vstack((myY, trainy))\n",
    "    xshape = torch.tensor(myX, dtype=torch.float).unsqueeze(-1)\n",
    "    yshape = torch.tensor(myY, dtype=torch.float)\n",
    "    tensorwrap = TensorDataset(xshape, yshape)\n",
    "    loaderxy = DataLoader(tensorwrap, batch_size=batch_size, shuffle=shuffle, drop_last=True)\n",
    "    return loaderxy\n",
    "\n",
    "def gap_fn(grad, weight, radius):\n",
    "    fw_gap = 0\n",
    "    for grad_avg, weight in zip(grad, weight):\n",
    "        v = lmo(grad_avg, radius)\n",
    "        fw_gap += torch.sum(torch.mul(grad_avg, weight - v))\n",
    "    return fw_gap"
   ]
  },
  {
   "cell_type": "code",
   "execution_count": 634,
   "id": "ba21646d",
   "metadata": {
    "ExecuteTime": {
     "end_time": "2021-08-17T13:56:33.098155Z",
     "start_time": "2021-08-17T13:56:32.733433Z"
    }
   },
   "outputs": [],
   "source": [
    "#myfloor = \"Floor7Z1\"\n",
    "trainloadernormal = []\n",
    "testloadernormal = []\n",
    "for zone in range(1,nb_zone+1):\n",
    "    if zone != 3:\n",
    "        zoneID = f\"Floor{floor}Z{zone}\"\n",
    "        loaderZtrain = LoaderByZoneNormal(databyDate, zoneID, train_date, lookback, lookahead, 17325, shuffle=True)\n",
    "        loaderZtest = LoaderByZoneNormal(databyDate, zoneID, test_date, lookback, lookahead, batch_size)\n",
    "        trainloadernormal.append(loaderZtrain)\n",
    "        testloadernormal.append(loaderZtest)\n",
    "zone_no=len(trainloader)"
   ]
  },
  {
   "cell_type": "code",
   "execution_count": 635,
   "id": "5c832cd7",
   "metadata": {
    "ExecuteTime": {
     "end_time": "2021-08-17T13:56:33.100804Z",
     "start_time": "2021-08-17T13:56:33.098790Z"
    }
   },
   "outputs": [
    {
     "data": {
      "text/plain": [
       "17325"
      ]
     },
     "execution_count": 635,
     "metadata": {},
     "output_type": "execute_result"
    }
   ],
   "source": [
    "len(trainloadernormal[0].dataset)"
   ]
  },
  {
   "cell_type": "code",
   "execution_count": 636,
   "id": "37d3260e",
   "metadata": {
    "ExecuteTime": {
     "end_time": "2021-08-17T13:56:33.103241Z",
     "start_time": "2021-08-17T13:56:33.101609Z"
    }
   },
   "outputs": [],
   "source": [
    "num_iter = len(train_date)*len(trainloader[0][train_date[0]])"
   ]
  },
  {
   "cell_type": "code",
   "execution_count": 637,
   "id": "c51c10d3",
   "metadata": {
    "ExecuteTime": {
     "end_time": "2021-08-17T13:56:33.106401Z",
     "start_time": "2021-08-17T13:56:33.104424Z"
    }
   },
   "outputs": [
    {
     "data": {
      "text/plain": [
       "504"
      ]
     },
     "execution_count": 637,
     "metadata": {},
     "output_type": "execute_result"
    }
   ],
   "source": [
    "num_iter"
   ]
  },
  {
   "cell_type": "code",
   "execution_count": 638,
   "id": "17cd09ef",
   "metadata": {
    "ExecuteTime": {
     "end_time": "2021-08-17T13:56:33.155675Z",
     "start_time": "2021-08-17T13:56:33.153952Z"
    }
   },
   "outputs": [],
   "source": [
    "x = torch.randn((1,5))"
   ]
  },
  {
   "cell_type": "code",
   "execution_count": 639,
   "id": "b18d3470",
   "metadata": {
    "ExecuteTime": {
     "end_time": "2021-08-17T13:56:33.408838Z",
     "start_time": "2021-08-17T13:56:33.401742Z"
    }
   },
   "outputs": [
    {
     "name": "stdout",
     "output_type": "stream",
     "text": [
      "conv1d.weight torch.Size([8, 1, 5])\n",
      "conv1d.bias torch.Size([8])\n",
      "batchnorm.weight torch.Size([8])\n",
      "batchnorm.bias torch.Size([8])\n",
      "fc1.weight torch.Size([1, 32])\n",
      "fc1.bias torch.Size([1])\n"
     ]
    }
   ],
   "source": [
    "modeltest = Cnn1D(8,lookahead,lookback,5)\n",
    "for name,param in modeltest.named_parameters():\n",
    "    print(name, param.shape)"
   ]
  },
  {
   "cell_type": "code",
   "execution_count": 640,
   "id": "38dfd646",
   "metadata": {
    "ExecuteTime": {
     "end_time": "2021-08-17T13:56:33.994023Z",
     "start_time": "2021-08-17T13:56:33.959181Z"
    },
    "code_folding": [
     0
    ]
   },
   "outputs": [],
   "source": [
    "class OFW(optim.Optimizer):\n",
    "    def __init__(self, params, eta_coef, eta_exp,radius):\n",
    "        defaults = dict(eta_coef=eta_coef, eta_exp = eta_exp)\n",
    "        super(OFW,self).__init__(params, defaults)\n",
    "        \n",
    "        self.num_layers = len(self.param_groups[0]['params'])\n",
    "        self.dim = [k.shape for k in self.param_groups[0]['params']]\n",
    "        self.radius = radius\n",
    "        self.average_grad = {}\n",
    "        for group in self.param_groups:\n",
    "            self.eta_coef = group['eta_coef']\n",
    "            self.eta_exp = group['eta_exp']\n",
    "            for k,weight in enumerate(group[\"params\"]):\n",
    "                self.average_grad[k] = torch.zeros_like(weight)\n",
    "        self.cpt = 0\n",
    "            \n",
    "            \n",
    "    #@torch.no_grad()\n",
    "    def grad_sum(self):\n",
    "        for group in self.param_groups:\n",
    "            for k,weight in enumerate(group[\"params\"]):\n",
    "                if weight.grad is None:\n",
    "                    raise ValueError(\"Gradient is None\")\n",
    "                self.average_grad[k] += weight.grad.data\n",
    "\n",
    "        self.cpt += 1\n",
    "        \n",
    "    def reset(self):\n",
    "        self.average_grad = {}\n",
    "        for group in self.param_groups:\n",
    "            for k,weight in enumerate(group[\"params\"]):\n",
    "                self.average_grad[k] = torch.zeros_like(weight)\n",
    "        self.cpt = 0\n",
    "    \n",
    "    def step(self,t):\n",
    "        eta = min(self.eta_coef/(t+1)**(self.eta_exp),1)\n",
    "        self.gap_val = 0.\n",
    "        for group in self.param_groups:\n",
    "            #print(group[\"params\"][0])\n",
    "            for k,weight in enumerate(group[\"params\"]):\n",
    "                avg = self.average_grad[k]/self.cpt\n",
    "                #avg = weight.grad.data/(t+1)\n",
    "                #v = simpleLMO(avg,self.radius)\n",
    "                v = lmo(avg,self.radius)\n",
    "                self.gap_val += torch.sum(torch.mul(avg, weight.data - v))\n",
    "                weight.data = (1-eta)*weight.data + eta*v \n",
    "    \n",
    "                \n",
    "class DeFW(optim.Optimizer):\n",
    "    def __init__(self, params, eta_coef=required, eta_exp=required, matrix_line=required, reg_coef=required,radius=required):\n",
    "        if eta_coef is not required and eta_coef <=0.:\n",
    "            raise ValueError(\"Invalid eta : {}\".format(eta_coef))\n",
    "        if eta_exp is not required and (eta_exp < 0.5):\n",
    "            raise ValueError(\"Invalid eta_exp : {}\".format(eta_exp))\n",
    "        defaults = dict(eta_coef=eta_coef, eta_exp=eta_exp, matrix_line=matrix_line,reg_coef = reg_coef,radius=radius)\n",
    "        super(DeFW,self).__init__(params,defaults)\n",
    "        \n",
    "        for group in self.param_groups:\n",
    "            self.eta_coef = group[\"eta_coef\"]\n",
    "            self.eta_exp = group[\"eta_exp\"]\n",
    "            self.reg_coef = group[\"reg_coef\"]\n",
    "            self.A = group[\"matrix_line\"]\n",
    "            self.radius = group[\"radius\"]\n",
    "            \n",
    "        self.num_layers = len(self.param_groups[0]['params'])\n",
    "        self.dim = [k.shape for k in self.param_groups[0]['params']]\n",
    "\n",
    "        \n",
    "    @torch.no_grad()\n",
    "    def initValue(self,closure):\n",
    "        self.w_dict = defaultdict(dict)\n",
    "        for group in self.param_groups:\n",
    "            if closure is not None:\n",
    "                with torch.enable_grad():\n",
    "                    closure()\n",
    "            for k,weight in enumerate(group[\"params\"]):\n",
    "                if weight.grad is None:\n",
    "                    raise ValueError(\"Gradient is None\")\n",
    "                self.w_dict[k][\"g\"] = weight.grad.detach().clone()\n",
    "                self.w_dict[k][\"w\"] = weight.detach().clone()\n",
    "                \n",
    "    def assign_grad(self):\n",
    "        self.w_dict = defaultdict(dict)\n",
    "        for group in self.param_groups:\n",
    "            for k,weight in enumerate(group[\"params\"]):\n",
    "                if weight.grad is None:\n",
    "                    raise ValueError(\"Gradient is None\")\n",
    "                self.w_dict[k][\"g\"] = weight.grad.detach().clone()\n",
    "                self.w_dict[k][\"w\"] = weight.detach().clone()\n",
    "                \n",
    "    def neighborsAverage(self, neighbors):\n",
    "        for group in self.param_groups:\n",
    "            for k,weight in enumerate(group[\"params\"]):\n",
    "                weighted_tmp = torch.zeros(self.dim[k])\n",
    "                weighted_grad_tmp = torch.zeros(self.dim[k])\n",
    "                for j in range(len(neighbors)):\n",
    "                    weighted_tmp += self.A[j]*neighbors[j].w_dict[k][\"w\"]\n",
    "                    weighted_grad_tmp += self.A[j]*neighbors[j].w_dict[k][\"g\"]\n",
    "                self.w_dict[k][\"y\"] = weighted_tmp\n",
    "                self.w_dict[k][\"ds\"] = weighted_grad_tmp\n",
    "                \n",
    "    def compute_gap(self):\n",
    "        gap_val = 0.\n",
    "        for group in self.param_groups:\n",
    "            for k,weight in enumerate(group[\"params\"]):\n",
    "                a = lmo(weight.grad.detach(),self.radius)\n",
    "                gap_val += torch.sum(torch.mul(weight.grad.detach(), weight.detach() - a))\n",
    "        return gap_val\n",
    "    \n",
    "    def step(self, t):\n",
    "        eta = min(self.eta_coef/((t+1)**self.eta_exp), 1)\n",
    "        for group in self.param_groups:\n",
    "            for k,weight in enumerate(group[\"params\"]):\n",
    "                a = lmo(self.w_dict[k][\"ds\"], self.radius)\n",
    "                weight.data = (1-eta)*self.w_dict[k][\"y\"] + eta*a\n",
    "    "
   ]
  },
  {
   "cell_type": "code",
   "execution_count": 641,
   "id": "40971849",
   "metadata": {
    "ExecuteTime": {
     "end_time": "2021-08-17T13:56:34.378685Z",
     "start_time": "2021-08-17T13:56:34.337394Z"
    },
    "code_folding": [
     12,
     28,
     47,
     56,
     61,
     105,
     173
    ]
   },
   "outputs": [],
   "source": [
    "from lib import *\n",
    "from params import *\n",
    "from modelPredictor import *\n",
    "\n",
    "def seed_everything(seed=0):\n",
    "    random.seed(seed)\n",
    "    os.environ['PYTHONHASHSEED'] = str(seed)\n",
    "    np.random.seed(seed)\n",
    "    torch.manual_seed(seed)\n",
    "    torch.cuda.manual_seed(seed)\n",
    "    torch.backends.cudnn.deterministic = True\n",
    "    \n",
    "def simpleLMO(x,radius,p=1):\n",
    "    tolerance = 1e-10\n",
    "    if p == 1:\n",
    "        v = torch.zeros_like(x)\n",
    "        maxIdx = torch.argmax(torch.abs(x))\n",
    "        v.view(-1)[maxIdx] = -radius * torch.sign(x.view(-1)[maxIdx])\n",
    "        return v\n",
    "    elif p == 2:\n",
    "        x_norm = float(torch.norm(x, p=2))\n",
    "        if x_norm > tolerance:\n",
    "            return -radius * x.div(x_norm)\n",
    "        else:\n",
    "            return torch.zeros_like(x)\n",
    "    elif p == float('inf'):\n",
    "        return torch.full_like(x, fill_value=radius).masked_fill_(x > 0, -radius)\n",
    "    \n",
    "class Trainer:\n",
    "    def __init__(self, graph, loaders, model, model_param, loss,\n",
    "                 num_iterations):\n",
    "        self.graph = graph\n",
    "        self.num_nodes = graph.number_of_nodes()\n",
    "        self.model = model\n",
    "        self.param = model_param\n",
    "        self.A = torch.tensor(nx.adjacency_matrix(graph).toarray())\n",
    "        self.dataloader = loaders\n",
    "        self.num_iterations = num_iterations\n",
    "        self.loss = loss\n",
    "        self.obj_values = np.ndarray((self.num_iterations + 1, 3),\n",
    "                                     dtype='float')\n",
    "\n",
    "        self.optimizers = [0.] * self.num_nodes\n",
    "        self.models = [0.] * self.num_nodes\n",
    "        self.losses = [0.] * self.num_nodes\n",
    "        self.gaps = [0.]*self.num_nodes\n",
    "\n",
    "    def reset(self):\n",
    "        self.optimizers = [0.] * self.num_nodes\n",
    "        self.models = [0.] * self.num_nodes\n",
    "        self.losses = [0.] * self.num_nodes\n",
    "        self.gaps = [0.] * self.num_nodes\n",
    "\n",
    "        self.obj_values = np.ndarray((self.num_iterations + 1, 3),\n",
    "                                     dtype='float')\n",
    "        \n",
    "    def __nodeInit(self, data, label):\n",
    "        nodewrap = TensorDataset(data, label)\n",
    "        nodes = DataLoader(nodewrap, batch_size=data.size(0), shuffle=False)\n",
    "        return nodes\n",
    "            \n",
    "    def initModelWeight(self, model):\n",
    "        for name,param in model.named_parameters():\n",
    "            if 'bias' in name:\n",
    "                nn.init.constant_(param,0.)\n",
    "            elif 'weight' in name:\n",
    "                if not 'batch' in name:\n",
    "                    nn.init.xavier_normal_(param)\n",
    "                else:\n",
    "                    nn.init.uniform_(param)\n",
    "                    \n",
    "    def convert_loader_to_batch(self,dataloader, dates, permute=False):\n",
    "        mydict = {}\n",
    "        t = 0\n",
    "        if permute:\n",
    "            np.random.shuffle(dates)\n",
    "        for date in dates:\n",
    "            for couple in dataloader[date]:\n",
    "                mydict[t] = couple\n",
    "                t+=1\n",
    "        return mydict\n",
    "    \n",
    "    def saveCheckPts(self, t, path):\n",
    "        check_pts = {}\n",
    "        for i in range(self.num_nodes):\n",
    "            ckp_i = {\n",
    "                \"t\": t,\n",
    "                \"weight\": [param for param in self.models[i].parameters()],\n",
    "                \"optimizer_weight\": self.optimizers[i].w_dict,\n",
    "                \"oracles\": self.optimizers[i].G,\n",
    "                \"loss\": self.losses[i]\n",
    "            }  #,\n",
    "            #\"avg_loss\": self.avg_loss[i]}\n",
    "            check_pts[i] = ckp_i\n",
    "        torch.save(check_pts, path + \"checkpts_models\" + \"_\" + str(t) + \".tar\")\n",
    "        \n",
    "    def plotPrediction(self, true, pred,date,path_to_save):\n",
    "        fig = plt.figure(figsize=(5,3))\n",
    "        plt.suptitle(\"{}\".format(date))\n",
    "        plt.plot(true)\n",
    "        plt.plot(pred)\n",
    "        #plt.show()\n",
    "        fig.savefig(os.path.join(path_to_save,date))\n",
    "        plt.close()\n",
    "\n",
    "    def train_DeFW(self, optimizer,eta_coef, eta_exp, reg_coef, radius, nb_iter):\n",
    "        seed_everything()\n",
    "        self.reset()\n",
    "\n",
    "        for i in range(self.num_nodes):\n",
    "            self.models[i] = self.model(*self.param)\n",
    "            self.optimizers[i] = optimizer(self.models[i].parameters(),\n",
    "                                           eta_coef=eta_coef,\n",
    "                                           eta_exp=eta_exp,\n",
    "                                           matrix_line=self.A[i],\n",
    "                                           reg_coef=reg_coef,\n",
    "                                           radius=radius)\n",
    "\n",
    "        self.final_gap = [0.] * self.num_nodes\n",
    "        \n",
    "        z1, z2, z4, z5  = self.dataloader\n",
    "        \n",
    "        \n",
    "        for i in range(self.num_nodes):\n",
    "            self.initModelWeight(self.models[i])\n",
    "        \n",
    "        for epoch in range(nb_iter):\n",
    "            running_loss = [0.]*self.num_nodes\n",
    "            running_gap = [0.]*self.num_nodes\n",
    "            for (couple1, couple2, couple4, couple5) in zip(z1,z2, z4, z5):\n",
    "                datazones = [self.__nodeInit(*couple1), \n",
    "                             self.__nodeInit(*couple2),\n",
    "                             self.__nodeInit(*couple4),\n",
    "                             self.__nodeInit(*couple5)]\n",
    "                \n",
    "                for i in range(self.num_nodes):\n",
    "                    self.models[i].train()\n",
    "                    self.optimizers[i].zero_grad(set_to_none=True)\n",
    "                    x,y = iter(datazones[i]).next()\n",
    "                    \n",
    "                    with torch.enable_grad():\n",
    "                        output = self.models[i](x)\n",
    "                        loss = self.loss(output,y)\n",
    "                        loss.backward()\n",
    "                        \n",
    "                    running_loss[i] += loss.item()\n",
    "                    running_gap[i] += self.optimizers[i].compute_gap()\n",
    "                    self.optimizers[i].assign_grad()\n",
    "                \n",
    "                for i in range(self.num_nodes):\n",
    "                    self.optimizers[i].neighborsAverage(self.optimizers)\n",
    "                    \n",
    "                for i in range(self.num_nodes):\n",
    "                    self.optimizers[i].step(epoch)\n",
    "                    \n",
    "            for i in range(self.num_nodes):\n",
    "                self.losses[i] = running_loss[i]/len(z1)\n",
    "                self.gaps[i] = running_gap[i]/len(z1)\n",
    "                #self.gaps[i] = self.optimizers[i].compute_gap()\n",
    "                \n",
    "            loss = np.mean(self.losses)\n",
    "            gap = np.max(self.gaps)  \n",
    "            if epoch % 1 == 0:\n",
    "                print(\"t_{} : loss : {:.5f} gap : {}\".format(epoch, loss, gap))\n",
    "            try:\n",
    "                self.obj_values[epoch, :] = [epoch, loss, gap]\n",
    "            except:\n",
    "                print (\"problem in Training Process... Skipping for debug...\")\n",
    "                # import pdb; pdb.set_trace()\n",
    "                    \n",
    "        \n",
    "        return self.obj_values\n",
    "    \n",
    "    def train_ofw(self,optimizer, eta_coef, eta_exp,radius, zone_idx,loader,dates):\n",
    "        seed_everything()\n",
    "        self.reset()\n",
    "        \n",
    "        zone = loader[zone_idx]\n",
    "        \n",
    "        self.model_ofw = self.model(*self.param)\n",
    "        self.optim_ofw = optimizer(self.model_ofw.parameters(), eta_coef, eta_exp, radius)\n",
    "        \n",
    "        self.initModelWeight(self.model_ofw)\n",
    "        \n",
    "        loader_by_iter = self.convert_loader_to_batch(zone, dates)\n",
    "        \n",
    "        for t in range(self.num_iterations):\n",
    "            self.model_ofw.train()\n",
    "            #self.optim_ofw.zero_grad(set_to_none=True)\n",
    "            for ts in range(t+1):\n",
    "                data_prev,label_prev = loader_by_iter[ts]\n",
    "                self.optim_ofw.zero_grad(set_to_none=True)\n",
    "                with torch.enable_grad():\n",
    "                    #self.optim_ofw.zero_grad(set_to_none=True)\n",
    "                    #print(\"before {}\".format(self.model_ofw.fc1.weight.grad))\n",
    "                    output_tmp = self.model_ofw(data_prev)\n",
    "                    loss_tmp = self.loss(output_tmp, label_prev)\n",
    "                    loss_tmp.backward()\n",
    "                    #print(\"after {}\".format(self.model_ofw.fc1.weight.grad))\n",
    "                    \n",
    "                self.optim_ofw.grad_sum()\n",
    "                    \n",
    "            self.optim_ofw.step(t)\n",
    "            gap = self.optim_ofw.gap_val\n",
    "            self.optim_ofw.reset()\n",
    "\n",
    "            print(\"t : {} Loss : {} Gap {:.4f}\".format(t, loss_tmp.detach().numpy(),gap))\n",
    "\n",
    "            self.obj_values[t, :] = [t, loss_tmp.detach().numpy(), gap]\n",
    "\n",
    "        return self.obj_values"
   ]
  },
  {
   "cell_type": "code",
   "execution_count": 642,
   "id": "17a3dbd9",
   "metadata": {
    "ExecuteTime": {
     "end_time": "2021-08-17T13:56:34.694061Z",
     "start_time": "2021-08-17T13:56:34.687606Z"
    }
   },
   "outputs": [],
   "source": [
    "cycle,cycle_nam = cycle_graph(4)\n",
    "complete,complete_name = completegraph(4)\n",
    "line, line_name = gridgraph(4,1)\n",
    "eta_coef_FW = 1\n",
    "eta_exp_FW = 0.5\n",
    "radius = 1\n",
    "\n",
    "eta_coef_OFW = 1\n",
    "eta_exp_OFW = 0.5\n",
    "loss_fn = nn.SmoothL1Loss()"
   ]
  },
  {
   "cell_type": "code",
   "execution_count": 643,
   "id": "a8a13487",
   "metadata": {
    "ExecuteTime": {
     "end_time": "2021-08-17T13:56:35.060728Z",
     "start_time": "2021-08-17T13:56:35.053142Z"
    }
   },
   "outputs": [],
   "source": [
    "zone_no = 0\n",
    "trainer = Trainer(complete, trainloadernormal, Cnn1D, (8,lookahead,lookback,5), loss_fn,num_iter)"
   ]
  },
  {
   "cell_type": "code",
   "execution_count": 644,
   "id": "74c5402c",
   "metadata": {
    "ExecuteTime": {
     "end_time": "2021-08-17T13:56:35.668838Z",
     "start_time": "2021-08-17T13:56:35.665230Z"
    }
   },
   "outputs": [],
   "source": [
    "#obj_val_ofw = trainer.train_ofw(OFW, eta_coef_OFW, eta_exp_OFW, radius,zone_no,trainloader,train_date)"
   ]
  },
  {
   "cell_type": "code",
   "execution_count": 645,
   "id": "b9d0082a",
   "metadata": {
    "ExecuteTime": {
     "end_time": "2021-08-17T14:04:03.312470Z",
     "start_time": "2021-08-17T13:56:37.085417Z"
    },
    "scrolled": true
   },
   "outputs": [
    {
     "name": "stdout",
     "output_type": "stream",
     "text": [
      "t_0 : loss : 0.07583 gap : 9.344675064086914\n",
      "t_1 : loss : 0.69981 gap : 2.1016266345977783\n",
      "t_2 : loss : 0.09027 gap : 0.73095703125\n",
      "t_3 : loss : 0.12335 gap : 2.090738296508789\n",
      "t_4 : loss : 0.05582 gap : 2.2558977603912354\n",
      "t_5 : loss : 0.19111 gap : 1.9960813522338867\n",
      "t_6 : loss : 0.04573 gap : 0.249609112739563\n",
      "t_7 : loss : 0.07454 gap : 1.3015861511230469\n",
      "t_8 : loss : 0.54841 gap : 6.168186664581299\n",
      "t_9 : loss : 0.12871 gap : 0.6105955243110657\n",
      "t_10 : loss : 0.05087 gap : 0.7180820107460022\n",
      "t_11 : loss : 0.12007 gap : 1.1683604717254639\n",
      "t_12 : loss : 0.29550 gap : 4.228179931640625\n",
      "t_13 : loss : 0.12208 gap : 1.0587905645370483\n",
      "t_14 : loss : 0.04077 gap : 0.08761020749807358\n",
      "t_15 : loss : 0.05324 gap : 0.30018165707588196\n",
      "t_16 : loss : 0.07870 gap : 0.707417368888855\n",
      "t_17 : loss : 0.08108 gap : 2.7089338302612305\n",
      "t_18 : loss : 0.09577 gap : 0.882175087928772\n",
      "t_19 : loss : 0.04112 gap : 0.1053704246878624\n",
      "t_20 : loss : 0.05830 gap : 0.542846143245697\n",
      "t_21 : loss : 0.07226 gap : 0.36133691668510437\n",
      "t_22 : loss : 0.03063 gap : 0.24744468927383423\n",
      "t_23 : loss : 0.04658 gap : 0.20821934938430786\n",
      "t_24 : loss : 0.06899 gap : 0.39616942405700684\n",
      "t_25 : loss : 0.04756 gap : 0.5709705352783203\n",
      "t_26 : loss : 0.01046 gap : 0.6684210300445557\n",
      "t_27 : loss : 0.06987 gap : 1.6614208221435547\n",
      "t_28 : loss : 0.06149 gap : 0.467775821685791\n",
      "t_29 : loss : 0.04024 gap : 0.15029039978981018\n",
      "t_30 : loss : 0.03845 gap : 0.4796481430530548\n",
      "t_31 : loss : 0.00991 gap : 0.785983681678772\n",
      "t_32 : loss : 0.11463 gap : 0.5640780329704285\n",
      "t_33 : loss : 0.05542 gap : 0.6029846668243408\n",
      "t_34 : loss : 0.03124 gap : 0.3982636332511902\n",
      "t_35 : loss : 0.06544 gap : 0.7351770401000977\n",
      "t_36 : loss : 0.01686 gap : 0.7695383429527283\n",
      "t_37 : loss : 0.11392 gap : 1.7687573432922363\n",
      "t_38 : loss : 0.06643 gap : 0.4389522075653076\n",
      "t_39 : loss : 0.02810 gap : 0.42723560333251953\n",
      "t_40 : loss : 0.03500 gap : 1.2257702350616455\n",
      "t_41 : loss : 0.06372 gap : 0.30692264437675476\n",
      "t_42 : loss : 0.03295 gap : 0.34591132402420044\n",
      "t_43 : loss : 0.07169 gap : 1.0348992347717285\n",
      "t_44 : loss : 0.04395 gap : 0.1994571089744568\n",
      "t_45 : loss : 0.01609 gap : 0.5926797986030579\n",
      "t_46 : loss : 0.03939 gap : 1.6398606300354004\n",
      "t_47 : loss : 0.07237 gap : 0.34704869985580444\n",
      "t_48 : loss : 0.06888 gap : 1.057324767112732\n",
      "t_49 : loss : 0.03892 gap : 0.22100189328193665\n",
      "t_50 : loss : 0.04686 gap : 0.9079054594039917\n",
      "t_51 : loss : 0.03263 gap : 0.5642764568328857\n",
      "t_52 : loss : 0.03017 gap : 0.8945895433425903\n",
      "t_53 : loss : 0.08067 gap : 1.097623348236084\n",
      "t_54 : loss : 0.04253 gap : 0.26388445496559143\n",
      "t_55 : loss : 0.02595 gap : 0.5351309180259705\n",
      "t_56 : loss : 0.06580 gap : 0.6654012203216553\n",
      "t_57 : loss : 0.04277 gap : 0.12980546057224274\n",
      "t_58 : loss : 0.05358 gap : 0.8621647357940674\n",
      "t_59 : loss : 0.06174 gap : 0.2897648215293884\n",
      "t_60 : loss : 0.05123 gap : 0.5893896818161011\n",
      "t_61 : loss : 0.04160 gap : 0.519675612449646\n",
      "t_62 : loss : 0.06181 gap : 0.36260783672332764\n",
      "t_63 : loss : 0.04512 gap : 0.404410183429718\n",
      "t_64 : loss : 0.04226 gap : 0.5020375847816467\n",
      "t_65 : loss : 0.04115 gap : 0.11076071113348007\n",
      "t_66 : loss : 0.05642 gap : 0.36355072259902954\n",
      "t_67 : loss : 0.04167 gap : 0.2270488739013672\n",
      "t_68 : loss : 0.02001 gap : 0.41704225540161133\n",
      "t_69 : loss : 0.00780 gap : 0.4566854238510132\n",
      "t_70 : loss : 0.02444 gap : 1.2393661737442017\n",
      "t_71 : loss : 0.06848 gap : 0.579912006855011\n",
      "t_72 : loss : 0.04469 gap : 0.5073761343955994\n",
      "t_73 : loss : 0.02973 gap : 1.0980805158615112\n",
      "t_74 : loss : 0.02843 gap : 0.8009301424026489\n",
      "t_75 : loss : 0.02464 gap : 4.283059120178223\n",
      "t_76 : loss : 0.01962 gap : 0.7894138097763062\n",
      "t_77 : loss : 0.01099 gap : 0.7228914499282837\n",
      "t_78 : loss : 0.07382 gap : 0.4798709452152252\n",
      "t_79 : loss : 0.04735 gap : 0.39148667454719543\n",
      "t_80 : loss : 0.05733 gap : 0.69876629114151\n",
      "t_81 : loss : 0.06304 gap : 0.29630526900291443\n",
      "t_82 : loss : 0.04825 gap : 0.5133891105651855\n",
      "t_83 : loss : 0.04263 gap : 0.37693503499031067\n",
      "t_84 : loss : 0.04129 gap : 0.16853877902030945\n",
      "t_85 : loss : 0.05724 gap : 0.4304288327693939\n",
      "t_86 : loss : 0.04324 gap : 0.13929183781147003\n",
      "t_87 : loss : 0.04008 gap : 0.16410274803638458\n",
      "t_88 : loss : 0.04970 gap : 0.7457745671272278\n",
      "t_89 : loss : 0.05602 gap : 0.35078656673431396\n",
      "t_90 : loss : 0.04195 gap : 0.2983430027961731\n",
      "t_91 : loss : 0.02328 gap : 0.38275742530822754\n",
      "t_92 : loss : 0.04343 gap : 2.5139901638031006\n",
      "t_93 : loss : 0.04060 gap : 0.32228773832321167\n",
      "t_94 : loss : 0.02638 gap : 0.3713042736053467\n",
      "t_95 : loss : 0.03159 gap : 0.7491081953048706\n",
      "t_96 : loss : 0.01088 gap : 0.39376041293144226\n",
      "t_97 : loss : 0.01437 gap : 1.5732052326202393\n",
      "t_98 : loss : 0.01077 gap : 0.5760311484336853\n",
      "t_99 : loss : 0.05770 gap : 0.8442036509513855\n",
      "t_100 : loss : 0.05202 gap : 0.5173421502113342\n",
      "t_101 : loss : 0.04120 gap : 0.1952066421508789\n",
      "t_102 : loss : 0.02666 gap : 0.37326914072036743\n",
      "t_103 : loss : 0.05837 gap : 0.6906642317771912\n",
      "t_104 : loss : 0.04429 gap : 0.15300743281841278\n",
      "t_105 : loss : 0.04394 gap : 0.6061754822731018\n",
      "t_106 : loss : 0.05929 gap : 0.4623578190803528\n",
      "t_107 : loss : 0.05052 gap : 1.1637998819351196\n",
      "t_108 : loss : 0.04121 gap : 0.17482784390449524\n",
      "t_109 : loss : 0.03968 gap : 0.1284124255180359\n",
      "t_110 : loss : 0.03202 gap : 0.19011959433555603\n",
      "t_111 : loss : 0.03130 gap : 0.3430996537208557\n",
      "t_112 : loss : 0.04310 gap : 0.5776537656784058\n",
      "t_113 : loss : 0.04037 gap : 0.22087334096431732\n",
      "t_114 : loss : 0.05198 gap : 0.3220451772212982\n",
      "t_115 : loss : 0.04260 gap : 0.21627815067768097\n",
      "t_116 : loss : 0.02740 gap : 0.3952072560787201\n",
      "t_117 : loss : 0.04903 gap : 2.2713632583618164\n",
      "t_118 : loss : 0.04232 gap : 0.6955441236495972\n",
      "t_119 : loss : 0.03927 gap : 0.3258235454559326\n",
      "t_120 : loss : 0.04473 gap : 0.7370678186416626\n",
      "t_121 : loss : 0.01649 gap : 0.539932131767273\n",
      "t_122 : loss : 0.06511 gap : 1.0306720733642578\n",
      "t_123 : loss : 0.05898 gap : 0.390198290348053\n",
      "t_124 : loss : 0.04725 gap : 1.0281590223312378\n",
      "t_125 : loss : 0.04172 gap : 0.2040012776851654\n",
      "t_126 : loss : 0.04278 gap : 0.1689414083957672\n",
      "t_127 : loss : 0.04019 gap : 0.06313036382198334\n",
      "t_128 : loss : 0.09274 gap : 1.777165174484253\n",
      "t_129 : loss : 0.04466 gap : 0.27135545015335083\n",
      "t_130 : loss : 0.04115 gap : 0.1037200540304184\n",
      "t_131 : loss : 0.04008 gap : 0.07685449719429016\n",
      "t_132 : loss : 0.03983 gap : 0.06583552062511444\n",
      "t_133 : loss : 0.09556 gap : 2.524684429168701\n",
      "t_134 : loss : 0.04412 gap : 0.15704847872257233\n",
      "t_135 : loss : 0.04123 gap : 0.10539882630109787\n",
      "t_136 : loss : 0.04079 gap : 0.1605721116065979\n",
      "t_137 : loss : 0.04009 gap : 0.06684473901987076\n",
      "t_138 : loss : 0.06664 gap : 1.6476205587387085\n",
      "t_139 : loss : 0.04028 gap : 0.06655402481555939\n",
      "t_140 : loss : 0.03533 gap : 0.6298137903213501\n",
      "t_141 : loss : 0.05725 gap : 0.45454567670822144\n",
      "t_142 : loss : 0.06261 gap : 0.3067166805267334\n",
      "t_143 : loss : 0.04665 gap : 0.2597898244857788\n",
      "t_144 : loss : 0.04638 gap : 0.49722445011138916\n",
      "t_145 : loss : 0.03820 gap : 0.26647061109542847\n",
      "t_146 : loss : 0.04807 gap : 0.4312478005886078\n",
      "t_147 : loss : 0.05411 gap : 0.23779995739459991\n",
      "t_148 : loss : 0.04453 gap : 0.15659639239311218\n",
      "t_149 : loss : 0.04121 gap : 0.11610248684883118\n",
      "t_150 : loss : 0.05666 gap : 1.6792845726013184\n",
      "t_151 : loss : 0.04023 gap : 0.07139916718006134\n",
      "t_152 : loss : 0.04002 gap : 0.06397183239459991\n",
      "t_153 : loss : 0.08227 gap : 2.065366268157959\n",
      "t_154 : loss : 0.04433 gap : 0.15127144753932953\n",
      "t_155 : loss : 0.04129 gap : 0.11128198355436325\n",
      "t_156 : loss : 0.06067 gap : 0.9600967168807983\n",
      "t_157 : loss : 0.04026 gap : 0.07257480174303055\n",
      "t_158 : loss : 0.04004 gap : 0.06625524163246155\n",
      "t_159 : loss : 0.06043 gap : 1.476805329322815\n",
      "t_160 : loss : 0.04021 gap : 0.057461753487586975\n",
      "t_161 : loss : 0.05153 gap : 0.250772625207901\n",
      "t_162 : loss : 0.04380 gap : 0.17488056421279907\n",
      "t_163 : loss : 0.03757 gap : 0.19579298794269562\n",
      "t_164 : loss : 0.03328 gap : 0.18132424354553223\n",
      "t_165 : loss : 0.03159 gap : 0.19733990728855133\n",
      "t_166 : loss : 0.03885 gap : 0.14978045225143433\n",
      "t_167 : loss : 0.03290 gap : 0.19023990631103516\n",
      "t_168 : loss : 0.03113 gap : 0.3306735157966614\n",
      "t_169 : loss : 0.03357 gap : 0.18953371047973633\n",
      "t_170 : loss : 0.03011 gap : 0.18354395031929016\n",
      "t_171 : loss : 0.02935 gap : 0.16653034090995789\n",
      "t_172 : loss : 0.03422 gap : 0.406238317489624\n"
     ]
    },
    {
     "name": "stdout",
     "output_type": "stream",
     "text": [
      "t_173 : loss : 0.02969 gap : 0.17991042137145996\n",
      "t_174 : loss : 0.02914 gap : 0.164195254445076\n",
      "t_175 : loss : 0.03393 gap : 0.18748749792575836\n",
      "t_176 : loss : 0.03036 gap : 0.1934821605682373\n",
      "t_177 : loss : 0.02962 gap : 0.16686828434467316\n",
      "t_178 : loss : 0.02955 gap : 0.2041368931531906\n",
      "t_179 : loss : 0.04103 gap : 0.23669981956481934\n",
      "t_180 : loss : 0.03990 gap : 0.16517657041549683\n",
      "t_181 : loss : 0.03750 gap : 0.5835042595863342\n",
      "t_182 : loss : 0.02255 gap : 0.639555811882019\n",
      "t_183 : loss : 0.01841 gap : 0.3722810745239258\n",
      "t_184 : loss : 0.03183 gap : 1.9187406301498413\n",
      "t_185 : loss : 0.01580 gap : 0.5194196701049805\n",
      "t_186 : loss : 0.01364 gap : 0.36447301506996155\n",
      "t_187 : loss : 0.02444 gap : 0.7130147218704224\n",
      "t_188 : loss : 0.01340 gap : 0.5307124257087708\n",
      "t_189 : loss : 0.05812 gap : 0.9641525149345398\n",
      "t_190 : loss : 0.05660 gap : 0.4573087692260742\n",
      "t_191 : loss : 0.04737 gap : 1.2220202684402466\n",
      "t_192 : loss : 0.04354 gap : 0.21826112270355225\n",
      "t_193 : loss : 0.04280 gap : 0.16576239466667175\n",
      "t_194 : loss : 0.04077 gap : 0.09296011179685593\n",
      "t_195 : loss : 0.03727 gap : 0.20331352949142456\n",
      "t_196 : loss : 0.03267 gap : 0.19136521220207214\n",
      "t_197 : loss : 0.03148 gap : 0.1711539775133133\n",
      "t_198 : loss : 0.03425 gap : 0.2009180784225464\n",
      "t_199 : loss : 0.03146 gap : 0.18499267101287842\n",
      "t_200 : loss : 0.03117 gap : 0.3709977865219116\n",
      "t_201 : loss : 0.03279 gap : 0.20122572779655457\n",
      "t_202 : loss : 0.03092 gap : 0.17948788404464722\n",
      "t_203 : loss : 0.03088 gap : 0.18514041602611542\n",
      "t_204 : loss : 0.03646 gap : 0.45794597268104553\n",
      "t_205 : loss : 0.03207 gap : 0.18853476643562317\n",
      "t_206 : loss : 0.03123 gap : 0.22942452132701874\n",
      "t_207 : loss : 0.03367 gap : 0.5390257835388184\n",
      "t_208 : loss : 0.03829 gap : 0.15957218408584595\n",
      "t_209 : loss : 0.03389 gap : 0.1905568391084671\n",
      "t_210 : loss : 0.03184 gap : 0.18919476866722107\n",
      "t_211 : loss : 0.03375 gap : 0.48482686281204224\n",
      "t_212 : loss : 0.03406 gap : 0.258344441652298\n",
      "t_213 : loss : 0.03173 gap : 0.18303272128105164\n",
      "t_214 : loss : 0.03143 gap : 0.1907624900341034\n",
      "t_215 : loss : 0.03497 gap : 0.20392131805419922\n",
      "t_216 : loss : 0.03249 gap : 0.24858425557613373\n",
      "t_217 : loss : 0.03183 gap : 0.24077588319778442\n",
      "t_218 : loss : 0.03606 gap : 0.38294127583503723\n",
      "t_219 : loss : 0.03250 gap : 0.192747563123703\n",
      "t_220 : loss : 0.03186 gap : 0.20919620990753174\n",
      "t_221 : loss : 0.03358 gap : 0.42231810092926025\n",
      "t_222 : loss : 0.03177 gap : 0.17578886449337006\n",
      "t_223 : loss : 0.03356 gap : 0.5127715468406677\n",
      "t_224 : loss : 0.03520 gap : 0.18829500675201416\n",
      "t_225 : loss : 0.03276 gap : 0.18800592422485352\n",
      "t_226 : loss : 0.03338 gap : 0.3640693724155426\n",
      "t_227 : loss : 0.03491 gap : 0.1924467533826828\n",
      "t_228 : loss : 0.03275 gap : 0.18875573575496674\n",
      "t_229 : loss : 0.03218 gap : 0.1744026243686676\n",
      "t_230 : loss : 0.03529 gap : 0.46872150897979736\n",
      "t_231 : loss : 0.03850 gap : 0.16436292231082916\n",
      "t_232 : loss : 0.03537 gap : 0.2555900812149048\n",
      "t_233 : loss : 0.03423 gap : 0.23344412446022034\n",
      "t_234 : loss : 0.03280 gap : 0.19008730351924896\n",
      "t_235 : loss : 0.03283 gap : 0.22717610001564026\n",
      "t_236 : loss : 0.03577 gap : 0.18688726425170898\n",
      "t_237 : loss : 0.03361 gap : 0.19357991218566895\n",
      "t_238 : loss : 0.03254 gap : 0.18029895424842834\n",
      "t_239 : loss : 0.03273 gap : 0.18865558505058289\n",
      "t_240 : loss : 0.03712 gap : 0.1765058934688568\n",
      "t_241 : loss : 0.03439 gap : 0.194725900888443\n",
      "t_242 : loss : 0.03291 gap : 0.1851704716682434\n",
      "t_243 : loss : 0.03266 gap : 0.1751413643360138\n",
      "t_244 : loss : 0.03424 gap : 0.35719454288482666\n",
      "t_245 : loss : 0.03358 gap : 0.19178813695907593\n",
      "t_246 : loss : 0.03274 gap : 0.1821921467781067\n",
      "t_247 : loss : 0.03270 gap : 0.17846068739891052\n",
      "t_248 : loss : 0.03620 gap : 0.19596099853515625\n",
      "t_249 : loss : 0.03376 gap : 0.19075480103492737\n",
      "t_250 : loss : 0.03309 gap : 0.19972266256809235\n",
      "t_251 : loss : 0.03331 gap : 0.2219233512878418\n",
      "t_252 : loss : 0.03609 gap : 0.18956077098846436\n",
      "t_253 : loss : 0.03423 gap : 0.19780993461608887\n",
      "t_254 : loss : 0.03316 gap : 0.18325819075107574\n",
      "t_255 : loss : 0.03309 gap : 0.17906412482261658\n",
      "t_256 : loss : 0.03540 gap : 0.20548951625823975\n",
      "t_257 : loss : 0.03363 gap : 0.1887342929840088\n",
      "t_258 : loss : 0.03317 gap : 0.17880038917064667\n",
      "t_259 : loss : 0.03337 gap : 0.1911943107843399\n",
      "t_260 : loss : 0.03738 gap : 0.17870917916297913\n",
      "t_261 : loss : 0.03496 gap : 0.19472384452819824\n",
      "t_262 : loss : 0.03369 gap : 0.18692395091056824\n",
      "t_263 : loss : 0.03343 gap : 0.17696256935596466\n",
      "t_264 : loss : 0.03427 gap : 0.3566889762878418\n",
      "t_265 : loss : 0.03553 gap : 0.19901221990585327\n",
      "t_266 : loss : 0.03402 gap : 0.25501033663749695\n",
      "t_267 : loss : 0.03369 gap : 0.18115942180156708\n",
      "t_268 : loss : 0.03354 gap : 0.1845266968011856\n",
      "t_269 : loss : 0.03638 gap : 0.18947282433509827\n",
      "t_270 : loss : 0.03448 gap : 0.19297710061073303\n",
      "t_271 : loss : 0.03382 gap : 0.1842835396528244\n",
      "t_272 : loss : 0.03662 gap : 0.4742792248725891\n",
      "t_273 : loss : 0.03586 gap : 0.19195231795310974\n",
      "t_274 : loss : 0.03439 gap : 0.1910286247730255\n",
      "t_275 : loss : 0.03397 gap : 0.18132928013801575\n",
      "t_276 : loss : 0.03393 gap : 0.18689939379692078\n",
      "t_277 : loss : 0.03681 gap : 0.19833864271640778\n",
      "t_278 : loss : 0.03491 gap : 0.19451197981834412\n",
      "t_279 : loss : 0.03409 gap : 0.18565379083156586\n",
      "t_280 : loss : 0.03408 gap : 0.18134842813014984\n",
      "t_281 : loss : 0.03598 gap : 0.2023654729127884\n",
      "t_282 : loss : 0.03455 gap : 0.19081072509288788\n",
      "t_283 : loss : 0.03503 gap : 0.38015031814575195\n",
      "t_284 : loss : 0.03651 gap : 0.19127236306667328\n",
      "t_285 : loss : 0.03500 gap : 0.24346011877059937\n",
      "t_286 : loss : 0.03453 gap : 0.18592119216918945\n",
      "t_287 : loss : 0.03425 gap : 0.1794009953737259\n",
      "t_288 : loss : 0.03615 gap : 0.19501538574695587\n",
      "t_289 : loss : 0.03477 gap : 0.19191712141036987\n",
      "t_290 : loss : 0.03440 gap : 0.18347828090190887\n",
      "t_291 : loss : 0.03701 gap : 0.46125948429107666\n",
      "t_292 : loss : 0.03632 gap : 0.19259163737297058\n",
      "t_293 : loss : 0.03500 gap : 0.1919841766357422\n",
      "t_294 : loss : 0.03461 gap : 0.1837490200996399\n",
      "t_295 : loss : 0.03456 gap : 0.18614056706428528\n",
      "t_296 : loss : 0.03644 gap : 0.2057848572731018\n",
      "t_297 : loss : 0.03502 gap : 0.19108785688877106\n",
      "t_298 : loss : 0.03475 gap : 0.23473066091537476\n",
      "t_299 : loss : 0.03609 gap : 0.19750499725341797\n",
      "t_300 : loss : 0.03495 gap : 0.19265712797641754\n",
      "t_301 : loss : 0.03483 gap : 0.18400733172893524\n",
      "t_302 : loss : 0.03468 gap : 0.18420343101024628\n",
      "t_303 : loss : 0.03723 gap : 0.18964213132858276\n",
      "t_304 : loss : 0.03560 gap : 0.19416314363479614\n",
      "t_305 : loss : 0.03500 gap : 0.18828439712524414\n",
      "t_306 : loss : 0.03743 gap : 0.4556109607219696\n",
      "t_307 : loss : 0.03684 gap : 0.1920298933982849\n",
      "t_308 : loss : 0.03553 gap : 0.19321805238723755\n",
      "t_309 : loss : 0.03511 gap : 0.18624629080295563\n",
      "t_310 : loss : 0.03503 gap : 0.18521246314048767\n",
      "t_311 : loss : 0.03571 gap : 0.20204520225524902\n",
      "t_312 : loss : 0.03524 gap : 0.19121333956718445\n",
      "t_313 : loss : 0.03500 gap : 0.1807425618171692\n",
      "t_314 : loss : 0.03533 gap : 0.19107258319854736\n",
      "t_315 : loss : 0.03504 gap : 0.18236586451530457\n",
      "t_316 : loss : 0.03865 gap : 0.7260231375694275\n",
      "t_317 : loss : 0.03756 gap : 0.18725942075252533\n",
      "t_318 : loss : 0.03617 gap : 0.19803296029567719\n",
      "t_319 : loss : 0.03572 gap : 0.3026423454284668\n",
      "t_320 : loss : 0.03685 gap : 0.1992695927619934\n",
      "t_321 : loss : 0.03569 gap : 0.19352424144744873\n",
      "t_322 : loss : 0.03540 gap : 0.18653790652751923\n",
      "t_323 : loss : 0.03808 gap : 0.46920323371887207\n",
      "t_324 : loss : 0.03826 gap : 0.34122800827026367\n",
      "t_325 : loss : 0.03603 gap : 0.19368836283683777\n",
      "t_326 : loss : 0.03744 gap : 0.4763611853122711\n",
      "t_327 : loss : 0.03764 gap : 0.202866792678833\n",
      "t_328 : loss : 0.03608 gap : 0.19852963089942932\n",
      "t_329 : loss : 0.03769 gap : 0.38925161957740784\n",
      "t_330 : loss : 0.03760 gap : 0.19503043591976166\n",
      "t_331 : loss : 0.03637 gap : 0.21295548975467682\n",
      "t_332 : loss : 0.03587 gap : 0.21813243627548218\n",
      "t_333 : loss : 0.03714 gap : 0.20021378993988037\n",
      "t_334 : loss : 0.03610 gap : 0.19854003190994263\n",
      "t_335 : loss : 0.03588 gap : 0.24717384576797485\n",
      "t_336 : loss : 0.03734 gap : 0.2016090452671051\n",
      "t_337 : loss : 0.03624 gap : 0.2004326581954956\n",
      "t_338 : loss : 0.03623 gap : 0.3022869825363159\n",
      "t_339 : loss : 0.03771 gap : 0.28393247723579407\n",
      "t_340 : loss : 0.03634 gap : 0.19600437581539154\n",
      "t_341 : loss : 0.03589 gap : 0.18859799206256866\n"
     ]
    },
    {
     "name": "stdout",
     "output_type": "stream",
     "text": [
      "t_342 : loss : 0.03602 gap : 0.23410123586654663\n",
      "t_343 : loss : 0.03751 gap : 0.19690251350402832\n",
      "t_344 : loss : 0.03647 gap : 0.19415239989757538\n",
      "t_345 : loss : 0.03741 gap : 0.35353994369506836\n",
      "t_346 : loss : 0.03801 gap : 0.2040911316871643\n",
      "t_347 : loss : 0.03690 gap : 0.29618188738822937\n",
      "t_348 : loss : 0.03939 gap : 0.5078480243682861\n",
      "t_349 : loss : 0.03799 gap : 0.2025146335363388\n",
      "t_350 : loss : 0.03664 gap : 0.19569645822048187\n",
      "t_351 : loss : 0.03858 gap : 0.42218679189682007\n",
      "t_352 : loss : 0.03808 gap : 0.19526982307434082\n",
      "t_353 : loss : 0.03682 gap : 0.19598518311977386\n",
      "t_354 : loss : 0.03737 gap : 0.4520304203033447\n",
      "t_355 : loss : 0.03901 gap : 0.2919877767562866\n",
      "t_356 : loss : 0.03755 gap : 0.196891188621521\n",
      "t_357 : loss : 0.03675 gap : 0.21603259444236755\n",
      "t_358 : loss : 0.03683 gap : 0.2809174954891205\n",
      "t_359 : loss : 0.03792 gap : 0.20344898104667664\n",
      "t_360 : loss : 0.03678 gap : 0.1949622631072998\n",
      "t_361 : loss : 0.03708 gap : 0.2924567461013794\n",
      "t_362 : loss : 0.03791 gap : 0.19945941865444183\n",
      "t_363 : loss : 0.03732 gap : 0.2942075729370117\n",
      "t_364 : loss : 0.03711 gap : 0.34226906299591064\n",
      "t_365 : loss : 0.03806 gap : 0.21296919882297516\n",
      "t_366 : loss : 0.03702 gap : 0.2009001076221466\n",
      "t_367 : loss : 0.03704 gap : 0.3117855191230774\n",
      "t_368 : loss : 0.03800 gap : 0.201536163687706\n",
      "t_369 : loss : 0.03730 gap : 0.27940142154693604\n",
      "t_370 : loss : 0.03730 gap : 0.36992040276527405\n",
      "t_371 : loss : 0.03817 gap : 0.20749741792678833\n",
      "t_372 : loss : 0.03711 gap : 0.197525754570961\n",
      "t_373 : loss : 0.03732 gap : 0.36813637614250183\n",
      "t_374 : loss : 0.03812 gap : 0.20110778510570526\n",
      "t_375 : loss : 0.03749 gap : 0.2825324833393097\n",
      "t_376 : loss : 0.03730 gap : 0.32265177369117737\n",
      "t_377 : loss : 0.03829 gap : 0.20808035135269165\n",
      "t_378 : loss : 0.03724 gap : 0.1976785659790039\n",
      "t_379 : loss : 0.03747 gap : 0.3668254017829895\n",
      "t_380 : loss : 0.03826 gap : 0.20083436369895935\n",
      "t_381 : loss : 0.03758 gap : 0.2785750925540924\n",
      "t_382 : loss : 0.03756 gap : 0.36665457487106323\n",
      "t_383 : loss : 0.03841 gap : 0.20764833688735962\n",
      "t_384 : loss : 0.03744 gap : 0.20162758231163025\n",
      "t_385 : loss : 0.03747 gap : 0.3122416138648987\n",
      "t_386 : loss : 0.03838 gap : 0.20151287317276\n",
      "t_387 : loss : 0.03771 gap : 0.2779328525066376\n",
      "t_388 : loss : 0.03771 gap : 0.36519142985343933\n",
      "t_389 : loss : 0.03854 gap : 0.20702402293682098\n",
      "t_390 : loss : 0.03754 gap : 0.19831867516040802\n",
      "t_391 : loss : 0.03773 gap : 0.3629796802997589\n",
      "t_392 : loss : 0.03849 gap : 0.20105493068695068\n",
      "t_393 : loss : 0.03790 gap : 0.28154635429382324\n",
      "t_394 : loss : 0.03770 gap : 0.3116561770439148\n",
      "t_395 : loss : 0.03866 gap : 0.20774853229522705\n",
      "t_396 : loss : 0.03766 gap : 0.19844965636730194\n",
      "t_397 : loss : 0.03787 gap : 0.35833120346069336\n",
      "t_398 : loss : 0.03863 gap : 0.2008141577243805\n",
      "t_399 : loss : 0.03798 gap : 0.27768588066101074\n",
      "t_400 : loss : 0.03795 gap : 0.3608704209327698\n",
      "t_401 : loss : 0.03877 gap : 0.2072751522064209\n",
      "t_402 : loss : 0.03781 gap : 0.199057936668396\n",
      "t_403 : loss : 0.03773 gap : 0.3506315052509308\n",
      "t_404 : loss : 0.03877 gap : 0.20392191410064697\n",
      "t_405 : loss : 0.03810 gap : 0.27710601687431335\n",
      "t_406 : loss : 0.03818 gap : 0.4016438126564026\n",
      "t_407 : loss : 0.03889 gap : 0.20658527314662933\n",
      "t_408 : loss : 0.03794 gap : 0.19914564490318298\n",
      "t_409 : loss : 0.03808 gap : 0.3611648678779602\n",
      "t_410 : loss : 0.03885 gap : 0.20116499066352844\n",
      "t_411 : loss : 0.03824 gap : 0.27756500244140625\n",
      "t_412 : loss : 0.03795 gap : 0.3504590690135956\n",
      "t_413 : loss : 0.03903 gap : 0.2101273238658905\n",
      "t_414 : loss : 0.03805 gap : 0.19929882884025574\n",
      "t_415 : loss : 0.03833 gap : 0.3987521529197693\n",
      "t_416 : loss : 0.03897 gap : 0.20071053504943848\n",
      "t_417 : loss : 0.03837 gap : 0.27700120210647583\n",
      "t_418 : loss : 0.03830 gap : 0.35904771089553833\n",
      "t_419 : loss : 0.03911 gap : 0.20714786648750305\n",
      "t_420 : loss : 0.03819 gap : 0.19972996413707733\n",
      "t_421 : loss : 0.03810 gap : 0.34665560722351074\n",
      "t_422 : loss : 0.03911 gap : 0.2038896381855011\n",
      "t_423 : loss : 0.03848 gap : 0.2763763666152954\n",
      "t_424 : loss : 0.03854 gap : 0.3966677486896515\n",
      "t_425 : loss : 0.03922 gap : 0.2063499540090561\n",
      "t_426 : loss : 0.03831 gap : 0.199753075838089\n",
      "t_427 : loss : 0.03845 gap : 0.3550075888633728\n",
      "t_428 : loss : 0.03918 gap : 0.20116153359413147\n",
      "t_429 : loss : 0.03861 gap : 0.27685266733169556\n",
      "t_430 : loss : 0.03832 gap : 0.3464609384536743\n",
      "t_431 : loss : 0.03936 gap : 0.2097814381122589\n",
      "t_432 : loss : 0.03842 gap : 0.19990965723991394\n",
      "t_433 : loss : 0.03868 gap : 0.39283210039138794\n",
      "t_434 : loss : 0.03930 gap : 0.20073482394218445\n",
      "t_435 : loss : 0.03872 gap : 0.27628788352012634\n",
      "t_436 : loss : 0.03865 gap : 0.35181325674057007\n",
      "t_437 : loss : 0.03943 gap : 0.2068796455860138\n",
      "t_438 : loss : 0.03856 gap : 0.20032669603824615\n",
      "t_439 : loss : 0.03846 gap : 0.3429186940193176\n",
      "t_440 : loss : 0.03943 gap : 0.20381928980350494\n",
      "t_441 : loss : 0.03883 gap : 0.2757045328617096\n",
      "t_442 : loss : 0.03888 gap : 0.39038464426994324\n",
      "t_443 : loss : 0.03954 gap : 0.20613834261894226\n",
      "t_444 : loss : 0.03867 gap : 0.20033453404903412\n",
      "t_445 : loss : 0.03879 gap : 0.3478392958641052\n",
      "t_446 : loss : 0.03950 gap : 0.2011716663837433\n",
      "t_447 : loss : 0.03895 gap : 0.27616360783576965\n",
      "t_448 : loss : 0.03866 gap : 0.342018723487854\n",
      "t_449 : loss : 0.03967 gap : 0.20934808254241943\n",
      "t_450 : loss : 0.03877 gap : 0.20047980546951294\n",
      "t_451 : loss : 0.03902 gap : 0.3844761252403259\n",
      "t_452 : loss : 0.03961 gap : 0.20077720284461975\n",
      "t_453 : loss : 0.03906 gap : 0.27563369274139404\n",
      "t_454 : loss : 0.03898 gap : 0.3469236195087433\n",
      "t_455 : loss : 0.03973 gap : 0.2065606415271759\n",
      "t_456 : loss : 0.03890 gap : 0.20087525248527527\n",
      "t_457 : loss : 0.03880 gap : 0.3389831781387329\n",
      "t_458 : loss : 0.03973 gap : 0.2037760317325592\n",
      "t_459 : loss : 0.03916 gap : 0.27507007122039795\n",
      "t_460 : loss : 0.03920 gap : 0.38393235206604004\n",
      "t_461 : loss : 0.03983 gap : 0.2058718204498291\n",
      "t_462 : loss : 0.03901 gap : 0.20086617767810822\n",
      "t_463 : loss : 0.03912 gap : 0.3442152142524719\n",
      "t_464 : loss : 0.03980 gap : 0.2011968046426773\n",
      "t_465 : loss : 0.03928 gap : 0.27553045749664307\n",
      "t_466 : loss : 0.03899 gap : 0.3389294445514679\n",
      "t_467 : loss : 0.03996 gap : 0.20908431708812714\n",
      "t_468 : loss : 0.03910 gap : 0.20099985599517822\n",
      "t_469 : loss : 0.03933 gap : 0.37931719422340393\n",
      "t_470 : loss : 0.03990 gap : 0.20083260536193848\n",
      "t_471 : loss : 0.03938 gap : 0.2750241756439209\n",
      "t_472 : loss : 0.03930 gap : 0.34315067529678345\n",
      "t_473 : loss : 0.04002 gap : 0.20636452734470367\n",
      "t_474 : loss : 0.03922 gap : 0.20137657225131989\n",
      "t_475 : loss : 0.03913 gap : 0.33552640676498413\n",
      "t_476 : loss : 0.04002 gap : 0.20375069975852966\n",
      "t_477 : loss : 0.03947 gap : 0.27447694540023804\n",
      "t_478 : loss : 0.03951 gap : 0.37796998023986816\n",
      "t_479 : loss : 0.04012 gap : 0.2057240605354309\n",
      "t_480 : loss : 0.03933 gap : 0.20135366916656494\n",
      "t_481 : loss : 0.03943 gap : 0.3401954770088196\n",
      "t_482 : loss : 0.04008 gap : 0.20123356580734253\n",
      "t_483 : loss : 0.03959 gap : 0.2749411165714264\n",
      "t_484 : loss : 0.03930 gap : 0.3352317810058594\n",
      "t_485 : loss : 0.04023 gap : 0.2088533490896225\n",
      "t_486 : loss : 0.03942 gap : 0.20147813856601715\n",
      "t_487 : loss : 0.03964 gap : 0.3744018077850342\n",
      "t_488 : loss : 0.04018 gap : 0.20090417563915253\n",
      "t_489 : loss : 0.03969 gap : 0.27445149421691895\n",
      "t_490 : loss : 0.03960 gap : 0.33967918157577515\n",
      "t_491 : loss : 0.04029 gap : 0.2062092423439026\n",
      "t_492 : loss : 0.03953 gap : 0.20183828473091125\n",
      "t_493 : loss : 0.03943 gap : 0.33276453614234924\n",
      "t_494 : loss : 0.04029 gap : 0.2037467509508133\n",
      "t_495 : loss : 0.03977 gap : 0.2739206552505493\n",
      "t_496 : loss : 0.03980 gap : 0.3723049461841583\n",
      "t_497 : loss : 0.04038 gap : 0.20560243725776672\n",
      "t_498 : loss : 0.03963 gap : 0.20178961753845215\n",
      "t_499 : loss : 0.03972 gap : 0.33698564767837524\n",
      "t_500 : loss : 0.04035 gap : 0.20129400491714478\n",
      "t_501 : loss : 0.03988 gap : 0.2743855118751526\n",
      "t_502 : loss : 0.03960 gap : 0.33143946528434753\n",
      "t_503 : loss : 0.04050 gap : 0.208642840385437\n"
     ]
    }
   ],
   "source": [
    "obj_val = trainer.train_DeFW(DeFW,eta_coef_FW, eta_exp_FW, 10, 1, num_iter)"
   ]
  },
  {
   "cell_type": "code",
   "execution_count": 646,
   "id": "e3e56288",
   "metadata": {
    "ExecuteTime": {
     "end_time": "2021-08-17T14:08:36.648099Z",
     "start_time": "2021-08-17T14:08:36.640889Z"
    }
   },
   "outputs": [
    {
     "data": {
      "text/plain": [
       "0.17696256935596466"
      ]
     },
     "execution_count": 646,
     "metadata": {},
     "output_type": "execute_result"
    }
   ],
   "source": [
    "np.min(obj_val[:,2][250:-1])"
   ]
  },
  {
   "cell_type": "code",
   "execution_count": 647,
   "id": "65253c6a",
   "metadata": {
    "ExecuteTime": {
     "end_time": "2021-08-17T14:08:37.425522Z",
     "start_time": "2021-08-17T14:08:37.258063Z"
    }
   },
   "outputs": [
    {
     "data": {
      "image/png": "[encoded data removed]",
      "text/plain": [
       "<Figure size 720x360 with 1 Axes>"
      ]
     },
     "metadata": {},
     "output_type": "display_data"
    }
   ],
   "source": [
    "plt.figure(figsize=(10,5))\n",
    "#plt.plot(obj_val[:,0][:-1],obj_val[:,2][:-1],label='DeFW')\n",
    "plt.plot(obj_val[:,0][:-1],obj_val[:,2][:-1], label=\"OFW\")\n",
    "#plt.plot(gapf7,label=\"DMFW\")\n",
    "plt.ylabel(\"Gap\")\n",
    "plt.xlabel(\"Iteration\")\n",
    "plt.legend()\n",
    "plt.yscale(\"log\")\n",
    "plt.show()"
   ]
  },
  {
   "cell_type": "code",
   "execution_count": 648,
   "id": "5b748163",
   "metadata": {
    "ExecuteTime": {
     "end_time": "2021-08-17T14:08:37.845442Z",
     "start_time": "2021-08-17T14:08:37.840738Z"
    }
   },
   "outputs": [],
   "source": [
    "onlineloss = np.cumsum(obj_val[:,1][:-1])\n",
    "arangement = np.arange(1,len(onlineloss)+1)\n",
    "onlineloss = onlineloss/arangement"
   ]
  },
  {
   "cell_type": "code",
   "execution_count": 649,
   "id": "17781309",
   "metadata": {
    "ExecuteTime": {
     "end_time": "2021-08-17T14:08:38.504894Z",
     "start_time": "2021-08-17T14:08:38.351423Z"
    }
   },
   "outputs": [
    {
     "data": {
      "image/png": "[encoded data removed]",
      "text/plain": [
       "<Figure size 720x360 with 1 Axes>"
      ]
     },
     "metadata": {},
     "output_type": "display_data"
    }
   ],
   "source": [
    "plt.figure(figsize=(10,5))\n",
    "#plt.plot(obj_val[:,0][:-1],obj_val[:,1][:-1],label=\"DeFW\")\n",
    "plt.plot(obj_val[:,0][:-1],obj_val[:,1][:-1],label=\"DeFW \")\n",
    "#plt.plot(onlineloss,label=\"De\")\n",
    "#plt.plot(onlineloss_dmfw,label=\"OFW Average Loss\")\n",
    "#plt.plot(lossesf7,label=\"DeMFW Loss\")\n",
    "plt.ylabel(\"Loss\")\n",
    "plt.xlabel(\"Iteration\")\n",
    "plt.legend()\n",
    "plt.yscale(\"log\")\n",
    "plt.show()"
   ]
  },
  {
   "cell_type": "code",
   "execution_count": 650,
   "id": "9c21d318",
   "metadata": {
    "ExecuteTime": {
     "end_time": "2021-08-17T14:08:39.398627Z",
     "start_time": "2021-08-17T14:08:39.394481Z"
    }
   },
   "outputs": [],
   "source": [
    "def save_log_csv(log_file, path_to_save,algo,floor_idx,graph):\n",
    "    logs = pd.DataFrame(log_file, columns=[\"Iteration\", \"Loss\", \"Gap\"])\n",
    "    pd.DataFrame.to_csv(logs, os.path.join(path_to_save,f'{algo}_'+f'{floor_idx}_'+\"_\"+f'{graph}'+\".csv\"))"
   ]
  },
  {
   "cell_type": "code",
   "execution_count": 651,
   "id": "244230ea",
   "metadata": {
    "ExecuteTime": {
     "end_time": "2021-08-17T14:08:39.946998Z",
     "start_time": "2021-08-17T14:08:39.944429Z"
    }
   },
   "outputs": [],
   "source": [
    "path = \"/Users/Slaton/Documents/DMFW/BangkokDataAnalysis/gitdecenlearn/Analysis/Defw/lux/complete/\""
   ]
  },
  {
   "cell_type": "code",
   "execution_count": 652,
   "id": "01292e5d",
   "metadata": {
    "ExecuteTime": {
     "end_time": "2021-08-17T14:08:40.478741Z",
     "start_time": "2021-08-17T14:08:40.468026Z"
    }
   },
   "outputs": [],
   "source": [
    "save_log_csv(obj_val, path, \"DeFW\",str(floor),\"complete\")"
   ]
  },
  {
   "cell_type": "code",
   "execution_count": null,
   "id": "4c8febf9",
   "metadata": {},
   "outputs": [],
   "source": []
  },
  {
   "cell_type": "code",
   "execution_count": 149,
   "id": "015bfef0",
   "metadata": {
    "ExecuteTime": {
     "end_time": "2021-08-16T09:59:16.764267Z",
     "start_time": "2021-08-16T09:59:16.758792Z"
    }
   },
   "outputs": [],
   "source": [
    "def convert_loader_to_batch(dataloader, dates):\n",
    "    mydict = {}\n",
    "    t = 0\n",
    "    for date in dates:\n",
    "        for couple in dataloader[date]:\n",
    "            mydict[t] = couple\n",
    "            t+=1\n",
    "    return mydict"
   ]
  },
  {
   "cell_type": "code",
   "execution_count": 54,
   "id": "97e692e2",
   "metadata": {
    "ExecuteTime": {
     "end_time": "2021-08-17T08:17:15.819079Z",
     "start_time": "2021-08-17T08:17:15.811556Z"
    }
   },
   "outputs": [],
   "source": [
    "def ModelPrediction(model_to_test, date ,loader, lookahead):\n",
    "    try:\n",
    "        prediction = []\n",
    "        true = []\n",
    "        assert(len(loader)>0)\n",
    "        assert(date in loader.keys())\n",
    "        # import pdb; pdb.set_trace()\n",
    "\n",
    "        for val, valpred in loader[date]:\n",
    "            \n",
    "            model_to_test.eval()\n",
    "            pred = model_to_test(val)\n",
    "            #print(pred.shape)\n",
    "            prediction.append(pred.detach().numpy())\n",
    "            true.append(valpred.detach().numpy())\n",
    "        pred_array = np.asarray(prediction)\n",
    "        true_array = np.asarray(true)\n",
    "        #print(pred_array.shape)\n",
    "        pred_shape = pred_array.shape\n",
    "        #print(pred_shape)\n",
    "        flattenTrue = true_array.reshape(pred_shape[0]*pred_shape[1], lookahead)[::lookahead].flatten()\n",
    "        flattenPred = pred_array.reshape(pred_shape[0]*pred_shape[1], lookahead)[::lookahead].flatten()\n",
    "        return flattenTrue, flattenPred\n",
    "    except:\n",
    "        print (f\"Data not found...Skipping Prediction for date {date}..\")\n",
    "        # import pdb;pdb.set_trace()\n",
    "        return [],[]"
   ]
  },
  {
   "cell_type": "code",
   "execution_count": 407,
   "id": "d0420d6e",
   "metadata": {
    "ExecuteTime": {
     "end_time": "2021-08-17T11:51:06.076802Z",
     "start_time": "2021-08-17T11:51:06.062091Z"
    }
   },
   "outputs": [],
   "source": [
    "true, pred, = ModelPrediction(trainer.models[0], \"2019-08-09\",testloder[0], lookahead)"
   ]
  },
  {
   "cell_type": "code",
   "execution_count": 408,
   "id": "b2b24507",
   "metadata": {
    "ExecuteTime": {
     "end_time": "2021-08-17T11:51:06.565279Z",
     "start_time": "2021-08-17T11:51:06.474681Z"
    }
   },
   "outputs": [
    {
     "data": {
      "text/plain": [
       "[<matplotlib.lines.Line2D at 0x28dc52310>]"
      ]
     },
     "execution_count": 408,
     "metadata": {},
     "output_type": "execute_result"
    },
    {
     "data": {
      "image/png": "[encoded data removed]",
      "text/plain": [
       "<Figure size 432x288 with 1 Axes>"
      ]
     },
     "metadata": {},
     "output_type": "display_data"
    }
   ],
   "source": [
    "plt.plot(true)\n",
    "plt.plot(pred)"
   ]
  },
  {
   "cell_type": "code",
   "execution_count": null,
   "id": "c8b085cf",
   "metadata": {},
   "outputs": [],
   "source": []
  }
 ],
 "metadata": {
  "kernelspec": {
   "display_name": "Python 3 (ipykernel)",
   "language": "python",
   "name": "python3"
  },
  "language_info": {
   "codemirror_mode": {
    "name": "ipython",
    "version": 3
   },
   "file_extension": ".py",
   "mimetype": "text/x-python",
   "name": "python",
   "nbconvert_exporter": "python",
   "pygments_lexer": "ipython3",
   "version": "3.8.10"
  },
  "toc": {
   "base_numbering": 1,
   "nav_menu": {},
   "number_sections": true,
   "sideBar": true,
   "skip_h1_title": false,
   "title_cell": "Table of Contents",
   "title_sidebar": "Contents",
   "toc_cell": false,
   "toc_position": {},
   "toc_section_display": true,
   "toc_window_display": false
  }
 },
 "nbformat": 4,
 "nbformat_minor": 5
}
