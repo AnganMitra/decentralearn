{
 "cells": [
  {
   "cell_type": "code",
   "execution_count": 8,
   "metadata": {
    "ExecuteTime": {
     "end_time": "2021-08-02T17:04:59.966556Z",
     "start_time": "2021-08-02T17:04:59.960151Z"
    }
   },
   "outputs": [],
   "source": [
    "import pandas as pd\n",
    "import numpy as np\n",
    "import dill\n",
    "import torch.nn as nn\n",
    "import torch\n",
    "import seaborn as sns; sns.set()\n",
    "import matplotlib.pyplot as plt\n",
    "import os\n",
    "import Graphs\n",
    "import networkx as nx\n",
    "import torch.optim as optim\n",
    "import random\n",
    "from collections import defaultdict\n",
    "from torch.utils.data import TensorDataset, DataLoader\n",
    "from torch.optim.optimizer import required\n",
    "from torchinfo import summary\n",
    "from sklearn.preprocessing import MinMaxScaler, StandardScaler\n",
    "from statsmodels.graphics.tsaplots import plot_acf"
   ]
  },
  {
   "cell_type": "code",
   "execution_count": 9,
   "metadata": {
    "ExecuteTime": {
     "end_time": "2021-08-02T17:05:01.290078Z",
     "start_time": "2021-08-02T17:05:01.287232Z"
    }
   },
   "outputs": [],
   "source": [
    "bkdatafolder = \"/Volumes/T7 Touch/TheseProject/DR_KELLA/BKDataCleaned/\"\n",
    "dataset_name = os.listdir(bkdatafolder)"
   ]
  },
  {
   "cell_type": "code",
   "execution_count": 10,
   "metadata": {
    "ExecuteTime": {
     "end_time": "2021-08-02T17:05:04.922052Z",
     "start_time": "2021-08-02T17:05:04.897192Z"
    },
    "code_folding": [
     68
    ]
   },
   "outputs": [],
   "source": [
    "def createDictFloor(floor_name):\n",
    "    getdict = {}\n",
    "    floors = [floor for floor in dataset_name if floor_name in floor]\n",
    "    for name in floors:\n",
    "        floorname = name.split(\".\")[0]\n",
    "        getdict[floorname] = pd.read_csv(bkdatafolder+name, index_col=0, parse_dates=[\"Date\"])\n",
    "        getdict[floorname] = getdict[floorname].sort_index()\n",
    "    return getdict\n",
    "\n",
    "def Missing_values(data):\n",
    "    total = data.isnull().sum().sort_values(ascending=False)\n",
    "    percent = (data.isnull().sum()/data.isnull().count()).sort_values(ascending=False)\n",
    "    missing_data = pd.concat([total,percent], axis=1, keys=['Total', 'Pourcentage'])\n",
    "    print (missing_data[(percent>0)],'\\n' )\n",
    "\n",
    "def seed_everything(seed=0):\n",
    "    random.seed(seed)\n",
    "    os.environ['PYTHONHASHSEED'] = str(seed)\n",
    "    np.random.seed(seed)\n",
    "    torch.manual_seed(seed)\n",
    "    torch.cuda.manual_seed(seed)\n",
    "    torch.backends.cudnn.deterministic = True\n",
    "    \n",
    "def createPlot(date1, date2, features, data):\n",
    "    for floor in data.keys():\n",
    "        data[floor].resample(\"5T\").mean()[features][date1:date2].plot(figsize=(20,7))\n",
    "        \n",
    "\n",
    "def createDTFeat(date1, date2, datadict, features, resample_method=\"sum\" ,scale=True):\n",
    "    resample_move = {}\n",
    "    index_nan = {}\n",
    "    index_small = {}\n",
    "    floors = list(datadict.keys())\n",
    "    dates = []\n",
    "    scalers = {}\n",
    "    for data in datadict.keys():\n",
    "        if resample_method == \"sum\":\n",
    "            resample_move[data] = floor_dict[data][date1:date2].resample(\n",
    "                \"5min\").sum()\n",
    "            \n",
    "        elif resample_method == \"max\":\n",
    "            resample_move[data] = floor_dict[data][date1:date2].resample(\n",
    "                \"5min\").max().bfill()\n",
    "        elif resample_method == \"mean\":\n",
    "            resample_move[data] = floor_dict[data][date1:date2].resample(\n",
    "                \"5min\").mean().bfill()\n",
    "            \n",
    "        cols = resample_move[data].columns\n",
    "        idx = resample_move[data].index\n",
    "\n",
    "        if scale:\n",
    "            scaler = MinMaxScaler()\n",
    "            scaler.fit(resample_move[data])\n",
    "            resample_move[data] = pd.DataFrame(scaler.transform(\n",
    "                resample_move[data]),\n",
    "                                               columns=cols,\n",
    "                                               index=idx)\n",
    "            scalers[data] = scaler\n",
    "\n",
    "        resample_move[data][\"weekday\"] = resample_move[data].index.day_name()\n",
    "        resample_move[data][\"date\"] = resample_move[data].index.date\n",
    "        resample_move[data][\"time\"] = resample_move[data].index.time\n",
    "\n",
    "        nan = np.where(pd.isnull(resample_move[data][features]))[0]\n",
    "        index_nan[data] = np.unique(resample_move[data].iloc[nan][\"time\"])\n",
    "\n",
    "    return resample_move, scalers, index_nan\n",
    "\n",
    "def getInfoTimeShape(datadict):\n",
    "    for floor in datadict.keys():\n",
    "        data = datadict[floor]\n",
    "        print(\"Floor : {} , shape :{} , TimeMin {} , TimeMax {}\".format(floor,data.shape, data.index.min(), data.index.max()))\n",
    "        Missing_values(data)\n",
    "        \n",
    "def cleanNan(data,idx_nan):\n",
    "    index=[]\n",
    "    for k,v in idx_nan.items():\n",
    "        for ele in v:\n",
    "            index.append(ele)\n",
    "    mynan = set(index)\n",
    "    newdata = data.copy()\n",
    "    remain_date = []\n",
    "    for floor in idx_nan.keys():\n",
    "        datafloor = data[floor]\n",
    "        todropnan = datafloor[datafloor[\"date\"].isin(list(mynan))].index\n",
    "        datafloor = datafloor.drop(todropnan)\n",
    "        newdata[floor] = datafloor\n",
    "        for date in datafloor[\"date\"]:\n",
    "            remain_date.append(str(date))\n",
    "    remain_date = sorted(set(remain_date))\n",
    "    return data, remain_date"
   ]
  },
  {
   "cell_type": "code",
   "execution_count": 11,
   "metadata": {
    "ExecuteTime": {
     "end_time": "2021-08-02T17:05:07.577340Z",
     "start_time": "2021-08-02T17:05:06.548512Z"
    }
   },
   "outputs": [
    {
     "name": "stdout",
     "output_type": "stream",
     "text": [
      "Floor7Z1 Start: 2019-03-06 14:50:00 End: 2019-12-31 23:59:00 Count:424099\n",
      "\n",
      "Floor7Z2 Start: 2019-03-06 14:48:00 End: 2019-12-31 23:59:00 Count:424701\n",
      "\n",
      "Floor7Z4 Start: 2019-03-06 14:46:00 End: 2019-12-31 23:59:00 Count:416243\n",
      "\n",
      "Floor7Z5 Start: 2019-03-06 14:55:00 End: 2019-12-31 23:59:00 Count:407698\n",
      "\n"
     ]
    }
   ],
   "source": [
    "date1 = \"2019-03-07\"\n",
    "date2 = \"2019-12-31\"\n",
    "floor_dict = createDictFloor(\"Floor7\")\n",
    "for data in floor_dict.keys():\n",
    "    zone = floor_dict[data]\n",
    "    print(\"{} Start: {} End: {} Count:{}\".format(data,zone.index.min(),zone.index.max(), zone.shape[0]))\n",
    "    print(\"\")"
   ]
  },
  {
   "cell_type": "code",
   "execution_count": 12,
   "metadata": {
    "ExecuteTime": {
     "end_time": "2021-08-02T17:05:08.632869Z",
     "start_time": "2021-08-02T17:05:08.186087Z"
    }
   },
   "outputs": [],
   "source": [
    "feature = \"temperature\"\n",
    "resample_method = \"max\"\n",
    "resample,scalers, index_nan = createDTFeat(date1, date2, floor_dict, feature,resample_method=resample_method)\n",
    "cleanedData, remain_date = cleanNan(resample, index_nan)"
   ]
  },
  {
   "cell_type": "code",
   "execution_count": 13,
   "metadata": {
    "ExecuteTime": {
     "end_time": "2021-08-02T17:05:09.164487Z",
     "start_time": "2021-08-02T17:05:09.042632Z"
    }
   },
   "outputs": [
    {
     "name": "stdout",
     "output_type": "stream",
     "text": [
      "Floor : Floor7Z1 , shape :(86400, 9) , TimeMin 2019-03-07 00:00:00 , TimeMax 2019-12-31 23:55:00\n",
      "Empty DataFrame\n",
      "Columns: [Total, Pourcentage]\n",
      "Index: [] \n",
      "\n",
      "Floor : Floor7Z2 , shape :(86400, 9) , TimeMin 2019-03-07 00:00:00 , TimeMax 2019-12-31 23:55:00\n",
      "Empty DataFrame\n",
      "Columns: [Total, Pourcentage]\n",
      "Index: [] \n",
      "\n",
      "Floor : Floor7Z4 , shape :(86400, 9) , TimeMin 2019-03-07 00:00:00 , TimeMax 2019-12-31 23:55:00\n",
      "Empty DataFrame\n",
      "Columns: [Total, Pourcentage]\n",
      "Index: [] \n",
      "\n",
      "Floor : Floor7Z5 , shape :(86400, 9) , TimeMin 2019-03-07 00:00:00 , TimeMax 2019-12-31 23:55:00\n",
      "Empty DataFrame\n",
      "Columns: [Total, Pourcentage]\n",
      "Index: [] \n",
      "\n"
     ]
    }
   ],
   "source": [
    "getInfoTimeShape(cleanedData)"
   ]
  },
  {
   "cell_type": "markdown",
   "metadata": {},
   "source": [
    "# Create Slice"
   ]
  },
  {
   "cell_type": "code",
   "execution_count": 14,
   "metadata": {
    "ExecuteTime": {
     "end_time": "2021-08-02T17:05:11.165442Z",
     "start_time": "2021-08-02T17:05:11.150387Z"
    }
   },
   "outputs": [],
   "source": [
    "def rolling_window(series, window_size):\n",
    "    return np.array([series[i : (i + window_size)] for i in range(0, series.shape[0] - window_size + 1)])\n",
    "\n",
    "def to_timeseries_input(series, lookback, predictions):\n",
    "    inputs = rolling_window(series[:-predictions], lookback)\n",
    "    outputs = rolling_window(series[lookback:], predictions)\n",
    "    return inputs, outputs\n",
    "\n",
    "def createDataByDate(datadict, features, dates):\n",
    "    databyDate = defaultdict(lambda : defaultdict(dict))\n",
    "    for date in dates:\n",
    "        for floor in datadict.keys():\n",
    "            databyDate[date][floor] = np.asarray(datadict[floor][date][features])\n",
    "    return databyDate\n",
    "\n",
    "def splitDate(dates,cutoff):\n",
    "    train_date = [x for x in dates if x <= cutoff]\n",
    "    test_date = sorted(list(set(dates) - set(train_date)))\n",
    "    return train_date, test_date\n",
    "\n",
    "def getInfoDataByDate(data, dates):\n",
    "    for date in dates:\n",
    "        print(\"Date : {}\".format(date))\n",
    "        for floor in data[date]:\n",
    "            print(\"{} shape : {}\".format(floor,data[date][floor].shape))\n",
    "            \n",
    "def LoaderByZone(data,zone_name,dates, lookback, lookahead, batch_size, shuffle=False):\n",
    "    loaderZ = {}\n",
    "    for i,date in enumerate(dates):\n",
    "        haruharu = data[date][zone_name]\n",
    "        trainx, trainy = to_timeseries_input(haruharu, lookback, lookahead,)\n",
    "        xshape = torch.tensor(trainx, dtype=torch.float).unsqueeze(-1)\n",
    "        yshape = torch.tensor(trainy, dtype=torch.float)\n",
    "        tensorwrap = TensorDataset(xshape,yshape)\n",
    "        loaderxy = DataLoader(tensorwrap,batch_size = batch_size, shuffle=shuffle, drop_last=True)\n",
    "        loaderZ[date] = loaderxy\n",
    "    return loaderZ"
   ]
  },
  {
   "cell_type": "code",
   "execution_count": 15,
   "metadata": {
    "ExecuteTime": {
     "end_time": "2021-08-02T17:05:11.728478Z",
     "start_time": "2021-08-02T17:05:11.623899Z"
    }
   },
   "outputs": [
    {
     "name": "stdout",
     "output_type": "stream",
     "text": [
      "Floor7Z1 Start: 2019-03-07 00:00:00 End: 2019-12-31 23:55:00 Count:86400\n",
      "Floor7Z1 Dates: 300\n",
      "Floor7Z2 Start: 2019-03-07 00:00:00 End: 2019-12-31 23:55:00 Count:86400\n",
      "Floor7Z2 Dates: 300\n",
      "Floor7Z4 Start: 2019-03-07 00:00:00 End: 2019-12-31 23:55:00 Count:86400\n",
      "Floor7Z4 Dates: 300\n",
      "Floor7Z5 Start: 2019-03-07 00:00:00 End: 2019-12-31 23:55:00 Count:86400\n",
      "Floor7Z5 Dates: 300\n"
     ]
    }
   ],
   "source": [
    "for data in cleanedData.keys():\n",
    "    zone = cleanedData[data]\n",
    "    print(\"{} Start: {} End: {} Count:{}\".format(data,zone.index.min(),zone.index.max(), zone.shape[0]))\n",
    "    print(\"{} Dates: {}\".format(data,len(np.unique(zone[\"date\"]))))"
   ]
  },
  {
   "cell_type": "code",
   "execution_count": 16,
   "metadata": {
    "ExecuteTime": {
     "end_time": "2021-08-02T17:05:12.397136Z",
     "start_time": "2021-08-02T17:05:12.124665Z"
    }
   },
   "outputs": [
    {
     "name": "stderr",
     "output_type": "stream",
     "text": [
      "/var/folders/wm/ymsmhgr90dd6gyprvtgvcr080000gn/T/ipykernel_9522/4074811131.py:13: FutureWarning: Indexing a DataFrame with a datetimelike index using a single string to slice the rows, like `frame[string]`, is deprecated and will be removed in a future version. Use `frame.loc[string]` instead.\n",
      "  databyDate[date][floor] = np.asarray(datadict[floor][date][features])\n"
     ]
    },
    {
     "name": "stdout",
     "output_type": "stream",
     "text": [
      "Date : 2019-03-07\n",
      "Floor7Z1 shape : (288,)\n",
      "Floor7Z2 shape : (288,)\n",
      "Floor7Z4 shape : (288,)\n",
      "Floor7Z5 shape : (288,)\n",
      "Date : 2019-03-08\n",
      "Floor7Z1 shape : (288,)\n",
      "Floor7Z2 shape : (288,)\n",
      "Floor7Z4 shape : (288,)\n",
      "Floor7Z5 shape : (288,)\n",
      "Date : 2019-03-09\n",
      "Floor7Z1 shape : (288,)\n",
      "Floor7Z2 shape : (288,)\n",
      "Floor7Z4 shape : (288,)\n",
      "Floor7Z5 shape : (288,)\n",
      "Date : 2019-03-10\n",
      "Floor7Z1 shape : (288,)\n",
      "Floor7Z2 shape : (288,)\n",
      "Floor7Z4 shape : (288,)\n",
      "Floor7Z5 shape : (288,)\n",
      "Date : 2019-03-11\n",
      "Floor7Z1 shape : (288,)\n",
      "Floor7Z2 shape : (288,)\n",
      "Floor7Z4 shape : (288,)\n",
      "Floor7Z5 shape : (288,)\n",
      "Date : 2019-03-12\n",
      "Floor7Z1 shape : (288,)\n",
      "Floor7Z2 shape : (288,)\n",
      "Floor7Z4 shape : (288,)\n",
      "Floor7Z5 shape : (288,)\n",
      "Date : 2019-03-13\n",
      "Floor7Z1 shape : (288,)\n",
      "Floor7Z2 shape : (288,)\n",
      "Floor7Z4 shape : (288,)\n",
      "Floor7Z5 shape : (288,)\n",
      "Date : 2019-03-14\n",
      "Floor7Z1 shape : (288,)\n",
      "Floor7Z2 shape : (288,)\n",
      "Floor7Z4 shape : (288,)\n",
      "Floor7Z5 shape : (288,)\n",
      "Date : 2019-03-15\n",
      "Floor7Z1 shape : (288,)\n",
      "Floor7Z2 shape : (288,)\n",
      "Floor7Z4 shape : (288,)\n",
      "Floor7Z5 shape : (288,)\n",
      "Date : 2019-03-16\n",
      "Floor7Z1 shape : (288,)\n",
      "Floor7Z2 shape : (288,)\n",
      "Floor7Z4 shape : (288,)\n",
      "Floor7Z5 shape : (288,)\n",
      "Date : 2019-03-17\n",
      "Floor7Z1 shape : (288,)\n",
      "Floor7Z2 shape : (288,)\n",
      "Floor7Z4 shape : (288,)\n",
      "Floor7Z5 shape : (288,)\n",
      "Date : 2019-03-18\n",
      "Floor7Z1 shape : (288,)\n",
      "Floor7Z2 shape : (288,)\n",
      "Floor7Z4 shape : (288,)\n",
      "Floor7Z5 shape : (288,)\n",
      "Date : 2019-03-19\n",
      "Floor7Z1 shape : (288,)\n",
      "Floor7Z2 shape : (288,)\n",
      "Floor7Z4 shape : (288,)\n",
      "Floor7Z5 shape : (288,)\n",
      "Date : 2019-03-20\n",
      "Floor7Z1 shape : (288,)\n",
      "Floor7Z2 shape : (288,)\n",
      "Floor7Z4 shape : (288,)\n",
      "Floor7Z5 shape : (288,)\n",
      "Date : 2019-03-21\n",
      "Floor7Z1 shape : (288,)\n",
      "Floor7Z2 shape : (288,)\n",
      "Floor7Z4 shape : (288,)\n",
      "Floor7Z5 shape : (288,)\n",
      "Date : 2019-03-22\n",
      "Floor7Z1 shape : (288,)\n",
      "Floor7Z2 shape : (288,)\n",
      "Floor7Z4 shape : (288,)\n",
      "Floor7Z5 shape : (288,)\n",
      "Date : 2019-03-23\n",
      "Floor7Z1 shape : (288,)\n",
      "Floor7Z2 shape : (288,)\n",
      "Floor7Z4 shape : (288,)\n",
      "Floor7Z5 shape : (288,)\n",
      "Date : 2019-03-24\n",
      "Floor7Z1 shape : (288,)\n",
      "Floor7Z2 shape : (288,)\n",
      "Floor7Z4 shape : (288,)\n",
      "Floor7Z5 shape : (288,)\n",
      "Date : 2019-03-25\n",
      "Floor7Z1 shape : (288,)\n",
      "Floor7Z2 shape : (288,)\n",
      "Floor7Z4 shape : (288,)\n",
      "Floor7Z5 shape : (288,)\n",
      "Date : 2019-03-26\n",
      "Floor7Z1 shape : (288,)\n",
      "Floor7Z2 shape : (288,)\n",
      "Floor7Z4 shape : (288,)\n",
      "Floor7Z5 shape : (288,)\n",
      "Date : 2019-03-27\n",
      "Floor7Z1 shape : (288,)\n",
      "Floor7Z2 shape : (288,)\n",
      "Floor7Z4 shape : (288,)\n",
      "Floor7Z5 shape : (288,)\n",
      "Date : 2019-03-28\n",
      "Floor7Z1 shape : (288,)\n",
      "Floor7Z2 shape : (288,)\n",
      "Floor7Z4 shape : (288,)\n",
      "Floor7Z5 shape : (288,)\n",
      "Date : 2019-03-29\n",
      "Floor7Z1 shape : (288,)\n",
      "Floor7Z2 shape : (288,)\n",
      "Floor7Z4 shape : (288,)\n",
      "Floor7Z5 shape : (288,)\n",
      "Date : 2019-03-30\n",
      "Floor7Z1 shape : (288,)\n",
      "Floor7Z2 shape : (288,)\n",
      "Floor7Z4 shape : (288,)\n",
      "Floor7Z5 shape : (288,)\n",
      "Date : 2019-03-31\n",
      "Floor7Z1 shape : (288,)\n",
      "Floor7Z2 shape : (288,)\n",
      "Floor7Z4 shape : (288,)\n",
      "Floor7Z5 shape : (288,)\n",
      "Date : 2019-04-01\n",
      "Floor7Z1 shape : (288,)\n",
      "Floor7Z2 shape : (288,)\n",
      "Floor7Z4 shape : (288,)\n",
      "Floor7Z5 shape : (288,)\n",
      "Date : 2019-04-02\n",
      "Floor7Z1 shape : (288,)\n",
      "Floor7Z2 shape : (288,)\n",
      "Floor7Z4 shape : (288,)\n",
      "Floor7Z5 shape : (288,)\n",
      "Date : 2019-04-03\n",
      "Floor7Z1 shape : (288,)\n",
      "Floor7Z2 shape : (288,)\n",
      "Floor7Z4 shape : (288,)\n",
      "Floor7Z5 shape : (288,)\n",
      "Date : 2019-04-04\n",
      "Floor7Z1 shape : (288,)\n",
      "Floor7Z2 shape : (288,)\n",
      "Floor7Z4 shape : (288,)\n",
      "Floor7Z5 shape : (288,)\n",
      "Date : 2019-04-05\n",
      "Floor7Z1 shape : (288,)\n",
      "Floor7Z2 shape : (288,)\n",
      "Floor7Z4 shape : (288,)\n",
      "Floor7Z5 shape : (288,)\n",
      "Date : 2019-04-06\n",
      "Floor7Z1 shape : (288,)\n",
      "Floor7Z2 shape : (288,)\n",
      "Floor7Z4 shape : (288,)\n",
      "Floor7Z5 shape : (288,)\n",
      "Date : 2019-04-07\n",
      "Floor7Z1 shape : (288,)\n",
      "Floor7Z2 shape : (288,)\n",
      "Floor7Z4 shape : (288,)\n",
      "Floor7Z5 shape : (288,)\n",
      "Date : 2019-04-08\n",
      "Floor7Z1 shape : (288,)\n",
      "Floor7Z2 shape : (288,)\n",
      "Floor7Z4 shape : (288,)\n",
      "Floor7Z5 shape : (288,)\n",
      "Date : 2019-04-09\n",
      "Floor7Z1 shape : (288,)\n",
      "Floor7Z2 shape : (288,)\n",
      "Floor7Z4 shape : (288,)\n",
      "Floor7Z5 shape : (288,)\n",
      "Date : 2019-04-10\n",
      "Floor7Z1 shape : (288,)\n",
      "Floor7Z2 shape : (288,)\n",
      "Floor7Z4 shape : (288,)\n",
      "Floor7Z5 shape : (288,)\n",
      "Date : 2019-04-11\n",
      "Floor7Z1 shape : (288,)\n",
      "Floor7Z2 shape : (288,)\n",
      "Floor7Z4 shape : (288,)\n",
      "Floor7Z5 shape : (288,)\n",
      "Date : 2019-04-12\n",
      "Floor7Z1 shape : (288,)\n",
      "Floor7Z2 shape : (288,)\n",
      "Floor7Z4 shape : (288,)\n",
      "Floor7Z5 shape : (288,)\n",
      "Date : 2019-04-13\n",
      "Floor7Z1 shape : (288,)\n",
      "Floor7Z2 shape : (288,)\n",
      "Floor7Z4 shape : (288,)\n",
      "Floor7Z5 shape : (288,)\n",
      "Date : 2019-04-14\n",
      "Floor7Z1 shape : (288,)\n",
      "Floor7Z2 shape : (288,)\n",
      "Floor7Z4 shape : (288,)\n",
      "Floor7Z5 shape : (288,)\n",
      "Date : 2019-04-15\n",
      "Floor7Z1 shape : (288,)\n",
      "Floor7Z2 shape : (288,)\n",
      "Floor7Z4 shape : (288,)\n",
      "Floor7Z5 shape : (288,)\n",
      "Date : 2019-04-16\n",
      "Floor7Z1 shape : (288,)\n",
      "Floor7Z2 shape : (288,)\n",
      "Floor7Z4 shape : (288,)\n",
      "Floor7Z5 shape : (288,)\n",
      "Date : 2019-04-17\n",
      "Floor7Z1 shape : (288,)\n",
      "Floor7Z2 shape : (288,)\n",
      "Floor7Z4 shape : (288,)\n",
      "Floor7Z5 shape : (288,)\n",
      "Date : 2019-04-18\n",
      "Floor7Z1 shape : (288,)\n",
      "Floor7Z2 shape : (288,)\n",
      "Floor7Z4 shape : (288,)\n",
      "Floor7Z5 shape : (288,)\n",
      "Date : 2019-04-19\n",
      "Floor7Z1 shape : (288,)\n",
      "Floor7Z2 shape : (288,)\n",
      "Floor7Z4 shape : (288,)\n",
      "Floor7Z5 shape : (288,)\n",
      "Date : 2019-04-20\n",
      "Floor7Z1 shape : (288,)\n",
      "Floor7Z2 shape : (288,)\n",
      "Floor7Z4 shape : (288,)\n",
      "Floor7Z5 shape : (288,)\n",
      "Date : 2019-04-21\n",
      "Floor7Z1 shape : (288,)\n",
      "Floor7Z2 shape : (288,)\n",
      "Floor7Z4 shape : (288,)\n",
      "Floor7Z5 shape : (288,)\n",
      "Date : 2019-04-22\n",
      "Floor7Z1 shape : (288,)\n",
      "Floor7Z2 shape : (288,)\n",
      "Floor7Z4 shape : (288,)\n",
      "Floor7Z5 shape : (288,)\n",
      "Date : 2019-04-23\n",
      "Floor7Z1 shape : (288,)\n",
      "Floor7Z2 shape : (288,)\n",
      "Floor7Z4 shape : (288,)\n",
      "Floor7Z5 shape : (288,)\n",
      "Date : 2019-04-24\n",
      "Floor7Z1 shape : (288,)\n",
      "Floor7Z2 shape : (288,)\n",
      "Floor7Z4 shape : (288,)\n",
      "Floor7Z5 shape : (288,)\n",
      "Date : 2019-04-25\n",
      "Floor7Z1 shape : (288,)\n",
      "Floor7Z2 shape : (288,)\n",
      "Floor7Z4 shape : (288,)\n",
      "Floor7Z5 shape : (288,)\n",
      "Date : 2019-04-26\n",
      "Floor7Z1 shape : (288,)\n",
      "Floor7Z2 shape : (288,)\n",
      "Floor7Z4 shape : (288,)\n",
      "Floor7Z5 shape : (288,)\n",
      "Date : 2019-04-27\n",
      "Floor7Z1 shape : (288,)\n",
      "Floor7Z2 shape : (288,)\n",
      "Floor7Z4 shape : (288,)\n",
      "Floor7Z5 shape : (288,)\n",
      "Date : 2019-04-28\n",
      "Floor7Z1 shape : (288,)\n",
      "Floor7Z2 shape : (288,)\n",
      "Floor7Z4 shape : (288,)\n",
      "Floor7Z5 shape : (288,)\n",
      "Date : 2019-04-29\n",
      "Floor7Z1 shape : (288,)\n",
      "Floor7Z2 shape : (288,)\n",
      "Floor7Z4 shape : (288,)\n",
      "Floor7Z5 shape : (288,)\n",
      "Date : 2019-04-30\n",
      "Floor7Z1 shape : (288,)\n",
      "Floor7Z2 shape : (288,)\n",
      "Floor7Z4 shape : (288,)\n",
      "Floor7Z5 shape : (288,)\n",
      "Date : 2019-05-01\n",
      "Floor7Z1 shape : (288,)\n",
      "Floor7Z2 shape : (288,)\n",
      "Floor7Z4 shape : (288,)\n",
      "Floor7Z5 shape : (288,)\n",
      "Date : 2019-05-02\n",
      "Floor7Z1 shape : (288,)\n",
      "Floor7Z2 shape : (288,)\n",
      "Floor7Z4 shape : (288,)\n",
      "Floor7Z5 shape : (288,)\n",
      "Date : 2019-05-03\n",
      "Floor7Z1 shape : (288,)\n",
      "Floor7Z2 shape : (288,)\n",
      "Floor7Z4 shape : (288,)\n",
      "Floor7Z5 shape : (288,)\n",
      "Date : 2019-05-04\n",
      "Floor7Z1 shape : (288,)\n",
      "Floor7Z2 shape : (288,)\n",
      "Floor7Z4 shape : (288,)\n",
      "Floor7Z5 shape : (288,)\n",
      "Date : 2019-05-05\n",
      "Floor7Z1 shape : (288,)\n",
      "Floor7Z2 shape : (288,)\n",
      "Floor7Z4 shape : (288,)\n",
      "Floor7Z5 shape : (288,)\n",
      "Date : 2019-05-06\n",
      "Floor7Z1 shape : (288,)\n",
      "Floor7Z2 shape : (288,)\n",
      "Floor7Z4 shape : (288,)\n",
      "Floor7Z5 shape : (288,)\n",
      "Date : 2019-05-07\n",
      "Floor7Z1 shape : (288,)\n",
      "Floor7Z2 shape : (288,)\n",
      "Floor7Z4 shape : (288,)\n",
      "Floor7Z5 shape : (288,)\n",
      "Date : 2019-05-08\n",
      "Floor7Z1 shape : (288,)\n",
      "Floor7Z2 shape : (288,)\n",
      "Floor7Z4 shape : (288,)\n",
      "Floor7Z5 shape : (288,)\n"
     ]
    }
   ],
   "source": [
    "cutting_date = \"2019-05-08\"\n",
    "train_date, test_date = splitDate(remain_date, cutting_date)\n",
    "databyDate = createDataByDate(cleanedData, feature, remain_date)\n",
    "getInfoDataByDate(databyDate, train_date)"
   ]
  },
  {
   "cell_type": "code",
   "execution_count": 17,
   "metadata": {
    "ExecuteTime": {
     "end_time": "2021-08-02T17:05:15.111516Z",
     "start_time": "2021-08-02T17:05:15.108442Z"
    }
   },
   "outputs": [],
   "source": [
    "def getRatio(ratio, lookbackinit):\n",
    "    lookahead = int(ratio*lookbackinit)\n",
    "    return lookahead"
   ]
  },
  {
   "cell_type": "code",
   "execution_count": 272,
   "metadata": {
    "ExecuteTime": {
     "end_time": "2021-08-02T21:08:22.071325Z",
     "start_time": "2021-08-02T21:08:21.813323Z"
    }
   },
   "outputs": [],
   "source": [
    "z1 = \"Floor7Z1\"\n",
    "z2 = \"Floor7Z2\"\n",
    "z4 = \"Floor7Z4\"\n",
    "z5 = \"Floor7Z5\"\n",
    "\n",
    "lookback = 13\n",
    "lookahead = 1\n",
    "batch_size = 32\n",
    "loaderZ1train = LoaderByZone(databyDate, z1, train_date, lookback, lookahead, batch_size, shuffle=True)\n",
    "loaderZ1test = LoaderByZone(databyDate, z1, test_date, lookback, lookahead, batch_size)\n",
    "\n",
    "loaderZ2train = LoaderByZone(databyDate, z2, train_date, lookback, lookahead, batch_size, shuffle=True)\n",
    "loaderZ2test = LoaderByZone(databyDate, z2, test_date, lookback, lookahead, batch_size)\n",
    "\n",
    "loaderZ4train = LoaderByZone(databyDate, z4, train_date, lookback, lookahead, batch_size, shuffle=True)\n",
    "loaderZ4test = LoaderByZone(databyDate, z4, test_date, lookback, lookahead, batch_size)\n",
    "\n",
    "loaderZ5train = LoaderByZone(databyDate, z5, train_date, lookback, lookahead, batch_size, shuffle=True)\n",
    "loaderZ5test = LoaderByZone(databyDate, z5, test_date, lookback, lookahead, batch_size)"
   ]
  },
  {
   "cell_type": "code",
   "execution_count": 273,
   "metadata": {
    "ExecuteTime": {
     "end_time": "2021-08-02T21:08:22.450354Z",
     "start_time": "2021-08-02T21:08:22.446211Z"
    }
   },
   "outputs": [],
   "source": [
    "trainloader = [loaderZ1train, loaderZ2train, loaderZ4train, loaderZ5train]"
   ]
  },
  {
   "cell_type": "code",
   "execution_count": 274,
   "metadata": {
    "ExecuteTime": {
     "end_time": "2021-08-02T21:08:22.817679Z",
     "start_time": "2021-08-02T21:08:22.811927Z"
    }
   },
   "outputs": [
    {
     "data": {
      "text/plain": [
       "504"
      ]
     },
     "execution_count": 274,
     "metadata": {},
     "output_type": "execute_result"
    }
   ],
   "source": [
    "nb_iterations = len(train_date)*len(loaderZ2train[\"2019-03-08\"])\n",
    "nb_iterations"
   ]
  },
  {
   "cell_type": "markdown",
   "metadata": {},
   "source": [
    "# Algorithm"
   ]
  },
  {
   "cell_type": "code",
   "execution_count": 123,
   "metadata": {
    "ExecuteTime": {
     "end_time": "2021-08-02T17:23:15.454263Z",
     "start_time": "2021-08-02T17:23:15.435491Z"
    },
    "code_folding": [
     0,
     14
    ]
   },
   "outputs": [],
   "source": [
    "def proj_2shape(x,s=8):\n",
    "    shape = x.shape\n",
    "    if torch.linalg.norm(x,ord=1)==s and torch.all(x>0):\n",
    "        return x\n",
    "    u,_ = torch.sort(torch.abs(x),dim=0,descending=True)\n",
    "    cumsum = torch.cumsum(u, dim=0)\n",
    "    arange = torch.arange(1, shape[0]+1)\n",
    "    rep_arange = arange.unsqueeze(1).repeat(1,shape[1])\n",
    "    rho = torch.count_nonzero((u*rep_arange > (cumsum - s)), dim=0)\n",
    "    theta = (cumsum[rho-1, torch.arange(0,shape[1])] - s)/rho\n",
    "    proj = (torch.abs(x)-theta).clamp(min=0)\n",
    "    proj*= torch.sign(x)\n",
    "    return proj\n",
    "\n",
    "def proj_l1(x, s=8):\n",
    "    shape = x.shape\n",
    "    if len(shape) == 4:\n",
    "        proj = torch.zeros_like(x)\n",
    "        for first_dim in range(x.shape[0]):\n",
    "            for second_dim in range(x.shape[1]):\n",
    "                inner_tensor = x[first_dim][second_dim]\n",
    "                inner_proj = proj_2shape(inner_tensor,s=s)\n",
    "                proj[first_dim][second_dim] = inner_proj\n",
    "                \n",
    "    elif len(shape) == 3:\n",
    "        proj = torch.zeros_like(x)\n",
    "        for first_dim in range(x.shape[0]):\n",
    "            inner_tensor = x[first_dim]\n",
    "            inner_proj = proj_2shape(inner_tensor,s=s)\n",
    "            proj[first_dim] = inner_proj\n",
    "        \n",
    "    elif len(shape) == 2:\n",
    "        proj = proj_2shape(x,s=s)\n",
    "        \n",
    "    elif len(shape) == 1:\n",
    "        u,_ = torch.sort(torch.abs(x),descending=True)\n",
    "        cumsum = torch.cumsum(u,dim=0)\n",
    "        arange = torch.arange(1,shape[0]+1)\n",
    "        rho = torch.count_nonzero((u*arange > (cumsum - s)))\n",
    "        theta = (cumsum[rho-1] - s)/rho\n",
    "        proj = (torch.abs(x)-theta).clamp(min=0)\n",
    "        proj*= torch.sign(x)\n",
    "    return proj"
   ]
  },
  {
   "cell_type": "code",
   "execution_count": 17,
   "metadata": {
    "ExecuteTime": {
     "end_time": "2021-07-31T10:44:42.183924Z",
     "start_time": "2021-07-31T10:44:42.170071Z"
    },
    "code_folding": [
     0,
     16
    ]
   },
   "outputs": [],
   "source": [
    "#def simpleLMO(x,radius,p=1):\n",
    "    tolerance = 1e-10\n",
    "    if p == 1:\n",
    "        v = torch.zeros_like(x)\n",
    "        maxIdx = torch.argmax(torch.abs(x))\n",
    "        v.view(-1)[maxIdx] = -radius * torch.sign(x.view(-1)[maxIdx])\n",
    "        return v\n",
    "    elif p == 2:\n",
    "        x_norm = float(torch.norm(x, p=2))\n",
    "        if x_norm > tolerance:\n",
    "            return -radius * x.div(x_norm)\n",
    "        else:\n",
    "            return torch.zeros_like(x)\n",
    "    elif p == float('inf'):\n",
    "        return torch.full_like(x, fill_value=radius).masked_fill_(x > 0, -radius)\n",
    "\n",
    "#def simpleProject(x,radius,p=1):\n",
    "    if p==1:\n",
    "        x_norm = torch.norm(x, p=1)\n",
    "        if x_norm > radius:\n",
    "            sorted_ = torch.sort(torch.abs(x.flatten()), descending=True).values\n",
    "            running_mean = (torch.cumsum(sorted_, 0) - radius)/torch.arange(1,sorted_.numel() + 1)                                                                                  \n",
    "            is_less_or_equal = sorted_ <= running_mean\n",
    "            idx = is_less_or_equal.numel() - is_less_or_equal.sum() - 1\n",
    "            return torch.sign(x) * torch.max(torch.abs(x) - running_mean[idx], torch.zeros_like(x))\n",
    "        else:\n",
    "            return x\n",
    "    elif p == 2:\n",
    "        x_norm = torch.norm(x, p=2)\n",
    "        return radius * x.div(x_norm) if x_norm > radius else x\n",
    "    elif p == float('inf'):\n",
    "        return torch.clamp(x, min=-radius, max=radius)"
   ]
  },
  {
   "cell_type": "code",
   "execution_count": 124,
   "metadata": {
    "ExecuteTime": {
     "end_time": "2021-08-02T17:23:16.913373Z",
     "start_time": "2021-08-02T17:23:16.899350Z"
    },
    "code_folding": []
   },
   "outputs": [],
   "source": [
    "def lmo(x,radius):\n",
    "    \"\"\"Returns v with norm(v, self.p) <= r minimizing v*x\"\"\"\n",
    "    shape = x.shape\n",
    "    if len(shape) == 4:\n",
    "        v = torch.zeros_like(x)\n",
    "        for first_dim in range(shape[0]):\n",
    "            for second_dim in range(shape[1]):\n",
    "                inner_x = x[first_dim][second_dim]\n",
    "                rows, cols = x[first_dim][second_dim].shape\n",
    "                v[first_dim][second_dim] = torch.zeros_like(inner_x)\n",
    "                maxIdx = torch.argmax(torch.abs(inner_x),0)\n",
    "                for col in range(cols):\n",
    "                    v[first_dim][second_dim][maxIdx[col],col] = -radius*torch.sign(inner_x[maxIdx[col],col])\n",
    "    elif len(shape) == 3:\n",
    "        v = torch.zeros_like(x)\n",
    "        for first_dim in range(shape[0]):\n",
    "            inner_x = x[first_dim]\n",
    "            rows, cols = x[first_dim].shape\n",
    "            v[first_dim] = torch.zeros_like(inner_x)\n",
    "            maxIdx = torch.argmax(torch.abs(inner_x),0)\n",
    "            for col in range(cols):\n",
    "                v[first_dim][maxIdx[col],col] = -radius*torch.sign(inner_x[maxIdx[col],col])\n",
    "                    \n",
    "    elif len(shape)==2:\n",
    "        rows, cols = x.shape\n",
    "        v = torch.zeros_like(x)\n",
    "        maxIdx = torch.argmax(torch.abs(x),0)\n",
    "        for col in range(cols):\n",
    "            v[maxIdx[col],col] = -radius*torch.sign(x[maxIdx[col],col])\n",
    "                \n",
    "    else : \n",
    "        v = torch.zeros_like(x)\n",
    "        maxIdx = torch.argmax(torch.abs(x))\n",
    "        v.view(-1)[maxIdx] = -radius * torch.sign(x.view(-1)[maxIdx])\n",
    "    return v"
   ]
  },
  {
   "cell_type": "code",
   "execution_count": 129,
   "metadata": {
    "ExecuteTime": {
     "end_time": "2021-08-02T17:23:35.943816Z",
     "start_time": "2021-08-02T17:23:35.913974Z"
    },
    "code_folding": []
   },
   "outputs": [],
   "source": [
    "class DMFW(optim.Optimizer):\n",
    "    def __init__(self, params, eta_coef=required, eta_exp=required, L=required, matrix_line=required, reg_coef=required,radius=required):\n",
    "        if eta_coef is not required and eta_coef <=0.:\n",
    "            raise ValueError(\"Invalid eta : {}\".format(eta_coef))\n",
    "        if eta_exp is not required and (eta_exp == 0.5):\n",
    "            raise ValueError(\"Invalid eta_exp : {}\".format(eta_exp))\n",
    "        defaults = dict(eta_coef=eta_coef, eta_exp=eta_exp,L=L, matrix_line=matrix_line,reg_coef = reg_coef,radius=radius)\n",
    "        super(DMFW,self).__init__(params,defaults)\n",
    "\n",
    "        for group in self.param_groups:\n",
    "            self.eta_coef = group[\"eta_coef\"]\n",
    "            self.eta_exp = group[\"eta_exp\"]\n",
    "            self.reg_coef = group[\"reg_coef\"]\n",
    "            self.A = group[\"matrix_line\"]\n",
    "            self.L = group[\"L\"]\n",
    "            self.radius = group[\"radius\"]\n",
    "        self.num_layers = len(self.param_groups[0]['params'])\n",
    "        self.dim = [k.shape for k in self.param_groups[0]['params']]\n",
    "        self.G = [[torch.rand(k) for k in self.dim] for l in range(self.L)]\n",
    "        \n",
    "    @torch.no_grad()\n",
    "    def initValue(self,closure):\n",
    "        self.w_dict = defaultdict(dict)\n",
    "        for group in self.param_groups:\n",
    "            if closure is not None:\n",
    "                with torch.enable_grad():\n",
    "                    closure()\n",
    "            for k,weight in enumerate(group[\"params\"]):\n",
    "                if weight.grad is None:\n",
    "                    raise ValueError(\"Gradient is None\")\n",
    "                self.w_dict[k][\"g\"] = weight.grad.detach().clone()\n",
    "                self.w_dict[k][\"w\"] = weight.detach().clone()\n",
    "                \n",
    "    def neighborsAverage(self, neighbors):\n",
    "        for group in self.param_groups:\n",
    "            for k,weight in enumerate(group[\"params\"]):\n",
    "                weighted_tmp = torch.zeros(self.dim[k])\n",
    "                weighted_grad_tmp = torch.zeros(self.dim[k])\n",
    "                for j in range(len(neighbors)):\n",
    "                    weighted_tmp += self.A[j]*neighbors[j].w_dict[k][\"w\"]\n",
    "                    weighted_grad_tmp += self.A[j]*neighbors[j].w_dict[k][\"g\"]\n",
    "                self.w_dict[k][\"y\"] = weighted_tmp\n",
    "                self.w_dict[k][\"ds\"] = weighted_grad_tmp\n",
    "                \n",
    "\n",
    "    def step(self, l, closure):\n",
    "        if l == 0:\n",
    "            self.init_gap = 0\n",
    "        eta = min(self.eta_coef/(l+1)**self.eta_exp, 1)\n",
    "        for group in self.param_groups:\n",
    "            if closure is not None:\n",
    "                with torch.enable_grad():\n",
    "                    closure()\n",
    "            self.gap = 0\n",
    "            for k,weight in enumerate(group[\"params\"]):\n",
    "                a = lmo(weight.grad.data,self.radius)\n",
    "                self.gap += torch.sum(torch.mul(weight.grad.data, weight.data - a))\n",
    "                v = proj_l1(self.G[l][k], s=self.radius)\n",
    "                #v = lmo(self.G[l][k] - 0.5 + torch.rand_like(self.G[l][k]), s= self.radius)\n",
    "                if weight.grad is None:\n",
    "                    raise ValueError(\"Grad is None\")\n",
    "                self.w_dict[k][\"grad_old\"] = weight.grad.detach().clone()\n",
    "                weight.data = self.w_dict[k]['y']*(1-eta) + eta*v\n",
    "                #print(\"weight {}\".format(torch.linalg.norm(weight.data,ord=1,dim=0)))\n",
    "                self.w_dict[k][\"w\"] = weight.detach().clone()\n",
    "                \n",
    "            self.init_gap += self.gap\n",
    "            self.init_gap /= (l+1)\n",
    "            \n",
    "            \n",
    "            with torch.enable_grad():\n",
    "                closure()\n",
    "            for k,weight in enumerate(group[\"params\"]):\n",
    "                self.G[l][k] -= 0.5*self.w_dict[k][\"ds\"]*self.reg_coef\n",
    "                #self.G[l][k] += self.w_dict[k][\"ds\"]*self.reg_coef\n",
    "                if weight.grad is None :\n",
    "                    raise ValueError(\"Grad is none\")\n",
    "                weight.grad.add_(-self.w_dict[k][\"grad_old\"])\n",
    "                self.w_dict[k][\"g\"] = weight.grad.detach().clone() + self.w_dict[k][\"ds\"]\n",
    "                "
   ]
  },
  {
   "cell_type": "code",
   "execution_count": 325,
   "metadata": {
    "ExecuteTime": {
     "end_time": "2021-08-02T22:19:37.845343Z",
     "start_time": "2021-08-02T22:19:37.806817Z"
    },
    "code_folding": []
   },
   "outputs": [],
   "source": [
    "class Trainer:\n",
    "    def __init__(self, graph, loaders, model, model_param, loss,\n",
    "                 num_iterations):\n",
    "        self.graph = graph\n",
    "        self.num_nodes = graph.number_of_nodes()\n",
    "        self.model = model\n",
    "        self.param = model_param\n",
    "        self.A = torch.tensor(nx.adjacency_matrix(graph).toarray())\n",
    "        self.dataloader = loaders\n",
    "        self.num_iterations = num_iterations\n",
    "        self.loss = loss\n",
    "        self.obj_values = np.ndarray((self.num_iterations + 1, 4),\n",
    "                                     dtype='float')\n",
    "\n",
    "        self.optimizers = [0.] * self.num_nodes\n",
    "        self.models = [0.] * self.num_nodes\n",
    "        self.losses = [0.] * self.num_nodes\n",
    "        #self.gaps = [0.]*self.num_nodes\n",
    "\n",
    "    def reset(self):\n",
    "        self.optimizers = [0.] * self.num_nodes\n",
    "        self.models = [0.] * self.num_nodes\n",
    "        self.losses = [0.] * self.num_nodes\n",
    "        self.gaps = [0.] * self.num_nodes\n",
    "\n",
    "        self.obj_values = np.ndarray((self.num_iterations + 1, 4),\n",
    "                                     dtype='float')\n",
    "        \n",
    "    def __nodeInit(self, data, label):\n",
    "        nodewrap = TensorDataset(data, label)\n",
    "        nodes = DataLoader(nodewrap, batch_size=data.size(0), shuffle=False)\n",
    "        return nodes\n",
    "\n",
    "    def weight_reset(self, layer):\n",
    "        if isinstance(layer, nn.BatchNorm1d) or isinstance(layer, nn.Linear) or isinstance(layer,nn.Conv1d):\n",
    "            layer.reset_parameters()\n",
    "            \n",
    "    def initModelWeight(self, model):\n",
    "        for name,param in model.named_parameters():\n",
    "            if 'bias' in name:\n",
    "                nn.init.constant_(param,0.)\n",
    "            elif 'weight' in name:\n",
    "                if not 'batch' in name:\n",
    "                    nn.init.xavier_normal_(param)\n",
    "                else:\n",
    "                    nn.init.uniform_(param)\n",
    "\n",
    "    def saveCheckPts(self, t, path):\n",
    "        check_pts = {}\n",
    "        for i in range(self.num_nodes):\n",
    "            ckp_i = {\n",
    "                \"t\": t,\n",
    "                \"weight\": [param for param in self.models[i].parameters()],\n",
    "                \"optimizer_weight\": self.optimizers[i].w_dict,\n",
    "                \"oracles\": self.optimizers[i].G,\n",
    "                \"loss\": self.losses[i]\n",
    "            }  #,\n",
    "            #\"avg_loss\": self.avg_loss[i]}\n",
    "            check_pts[i] = ckp_i\n",
    "        torch.save(check_pts, path + \"checkpts_models\" + \"_\" + str(t) + \".tar\")\n",
    "        \n",
    "    def plotPrediction(self, true, pred,date,path_to_save):\n",
    "        fig = plt.figure(figsize=(5,3))\n",
    "        plt.suptitle(\"{}\".format(date))\n",
    "        plt.plot(true)\n",
    "        plt.plot(pred)\n",
    "        #plt.show()\n",
    "        fig.savefig(os.path.join(path_to_save,date))\n",
    "        plt.close()\n",
    "\n",
    "    def train(self, optimizer, L, eta_coef, eta_exp, reg_coef, radius, path_figure_date):\n",
    "        seed_everything()\n",
    "        self.reset()\n",
    "        \n",
    "        z1, z2, z4, z5 = self.dataloader\n",
    "\n",
    "        for i in range(self.num_nodes):\n",
    "            self.models[i] = self.model(*self.param)\n",
    "            self.optimizers[i] = optimizer(self.models[i].parameters(),\n",
    "                                           eta_coef=eta_coef,\n",
    "                                           eta_exp=eta_exp,\n",
    "                                           L=L,\n",
    "                                           matrix_line=self.A[i],\n",
    "                                           reg_coef=reg_coef,\n",
    "                                           radius=radius)\n",
    "\n",
    "        self.final_gap = [0.] * self.num_nodes\n",
    "        \n",
    "        t = 0\n",
    "        \n",
    "        for date in z1.keys():\n",
    "            \n",
    "            for i,loader in enumerate(self.dataloader):\n",
    "                truez, predz = ModelPrediction(self.models[i], date, loader,lookahead)\n",
    "                path = path_figure_date+\"/Model_\"+str(i)+\"/\"\n",
    "                if not os.path.exists(path):\n",
    "                    os.makedirs(path)\n",
    "                self.plotPrediction(truez, predz,date,path_to_save=path)\n",
    "            \n",
    "            for (couple1, couple2, couple4,couple5) in zip(z1[date],z2[date], z4[date], z5[date]):\n",
    "                datazones = [self.__nodeInit(*couple1), \n",
    "                             self.__nodeInit(*couple2),\n",
    "                             self.__nodeInit(*couple4),\n",
    "                             self.__nodeInit(*couple5)]\n",
    "                \n",
    "\n",
    "                for i in range(self.num_nodes):\n",
    "                    self.initModelWeight(self.models[i])\n",
    "                    self.models[i].train()\n",
    "\n",
    "                    def closure():\n",
    "                        self.optimizers[i].zero_grad(set_to_none=True)\n",
    "                        x, y = iter(datazones[i]).next()\n",
    "                        output = self.models[i](x)\n",
    "                        loss = self.loss(output,y)\n",
    "                        loss.backward()\n",
    "\n",
    "                    self.optimizers[i].initValue(closure)\n",
    "                \n",
    "                for l in range(L):\n",
    "                    #print(\"--------------------------\")\n",
    "                    for i in range(self.num_nodes):\n",
    "                        self.optimizers[i].neighborsAverage(self.optimizers)\n",
    "                    for i in range(self.num_nodes):\n",
    "                        \n",
    "                        def closure():\n",
    "                            self.optimizers[i].zero_grad(set_to_none=True)\n",
    "                            x, y = iter(datazones[i]).next()\n",
    "                            output = self.models[i](x)\n",
    "                            loss = self.loss(output, y)\n",
    "                            loss.backward()\n",
    "                            \n",
    "                        self.optimizers[i].step(l, closure)\n",
    "\n",
    "                self.gaps_off = [0.] * self.num_nodes\n",
    "                for i in range(self.num_nodes):\n",
    "                    with torch.no_grad():\n",
    "                        self.models[i].eval()\n",
    "                        x, y = iter(datazones[i]).next()\n",
    "                        outputs = self.models[i](x)\n",
    "                        curr_loss = self.loss(outputs, y)\n",
    "                    self.final_gap[i] += self.optimizers[i].init_gap\n",
    "                    self.final_gap[i] /= (t + 1)\n",
    "                    self.gaps_off[i] = self.optimizers[i].init_gap\n",
    "                    self.losses[i] = curr_loss.detach().numpy()\n",
    "\n",
    "                loss = np.mean(self.losses)\n",
    "                gap = np.max(self.final_gap)  #.detach().numpy(\n",
    "                local_gap = np.max(self.gaps_off)\n",
    "                if t % 1 == 0:\n",
    "                    print(\"t_{} : loss : {:.5f} gap : {} local_gap {}\".format(\n",
    "                        t, loss, gap, local_gap))\n",
    "                    \n",
    "                self.obj_values[t, :] = [t, loss, gap, local_gap]\n",
    "                    \n",
    "                t+=1\n",
    "            \n",
    "\n",
    "        return self.obj_values"
   ]
  },
  {
   "cell_type": "code",
   "execution_count": 276,
   "metadata": {
    "ExecuteTime": {
     "end_time": "2021-08-02T21:08:28.030694Z",
     "start_time": "2021-08-02T21:08:28.010457Z"
    },
    "code_folding": [
     0,
     16,
     32
    ]
   },
   "outputs": [],
   "source": [
    "class Encoder(nn.Module):\n",
    "    def __init__(self, input_dim, hid_dim, n_layers=1):\n",
    "        super(Encoder,self).__init__()\n",
    "        self.input_dim = input_dim\n",
    "        self.hid_dim = hid_dim\n",
    "        self.n_layers = n_layers\n",
    "        self.lstm = nn.LSTM(input_dim, hid_dim, n_layers, batch_first=False, bias=False)\n",
    "        \n",
    "    def forward(self, seq):\n",
    "        outputs, self.hidden = self.lstm(seq.view(seq.shape[1],seq.shape[0],self.input_dim))\n",
    "        return outputs, self.hidden\n",
    "    \n",
    "    def init_hidden(self, batch_size):\n",
    "        return (torch.zeros(self.n_layers, batch_size, self.hid_dim),\n",
    "                torch.zeros(self.n_layers, batch_size, self.hid_dim))\n",
    "    \n",
    "class Decoder(nn.Module):\n",
    "    def __init__(self, input_dim, hid_dim, output_dim, n_layers=1):\n",
    "        super(Decoder,self).__init__()\n",
    "        self.input_dim = input_dim\n",
    "        self.output_dim = output_dim\n",
    "        self.hid_dim = hid_dim\n",
    "        self.n_layers = n_layers\n",
    "        \n",
    "        self.lstm = nn.LSTM(input_dim, hid_dim, n_layers, batch_first = False, bias=False)\n",
    "        self.fc = nn.Linear(hid_dim, output_dim)\n",
    "        \n",
    "    def forward(self, x, encoder_hidden):\n",
    "        lstm_out, self.hidden = self.lstm(x.unsqueeze(0), encoder_hidden)\n",
    "        output = self.fc(lstm_out.squeeze(0))\n",
    "        return output, self.hidden\n",
    "    \n",
    "class Seq2Seq(nn.Module):\n",
    "    def __init__(self, input_dim, hid_dim, output_dim, ts_out, forcing = 1):\n",
    "        super(Seq2Seq,self).__init__()\n",
    "        self.output_dim = output_dim\n",
    "        self.ts_out = ts_out\n",
    "        self.encoder = Encoder(input_dim, hid_dim)\n",
    "        self.decoder = Decoder(input_dim,hid_dim,output_dim)\n",
    "        self.forcing = forcing\n",
    "\n",
    "        \n",
    "    def forward(self, source, y=None):\n",
    "        batch_size = source.shape[0]\n",
    "        target_len = self.ts_out\n",
    "        outputs = torch.zeros(target_len, batch_size,self.output_dim)\n",
    "        encoder_hidden = self.encoder.init_hidden(batch_size)\n",
    "        encoder_output, encoder_hidden = self.encoder(source)\n",
    "        \n",
    "        decoder_input = source[:,-1,:]\n",
    "        decoder_hidden = encoder_hidden\n",
    "        \n",
    "        for t in range(target_len):\n",
    "            decoder_output, decoder_hidden = self.decoder(decoder_input, decoder_hidden)\n",
    "            outputs[t] = decoder_output\n",
    "            if (y is not None) and (t>1) and (torch.rand(1) < self.forcing):\n",
    "                decoder_input = y[:,t].unsqueeze(1)\n",
    "            else :\n",
    "                decoder_input = decoder_output\n",
    "        #print(outputs.shape)\n",
    "        return outputs.squeeze().permute(1,0)"
   ]
  },
  {
   "cell_type": "code",
   "execution_count": 277,
   "metadata": {
    "ExecuteTime": {
     "end_time": "2021-08-02T21:08:29.240611Z",
     "start_time": "2021-08-02T21:08:29.233289Z"
    },
    "code_folding": [
     0
    ]
   },
   "outputs": [],
   "source": [
    "class LSTM(nn.Module):\n",
    "    def __init__(self, input_size, output_size, time_step_in, time_step_out):\n",
    "        super(LSTM, self).__init__()\n",
    "        self.input_size = input_size\n",
    "        self.output_size = output_size\n",
    "        self.time_step_in = time_step_in\n",
    "        self.time_step_out = time_step_out\n",
    "        self.num_layers = 1\n",
    "        \n",
    "        self.encoder = nn.LSTM(self.input_size, self.output_size,\n",
    "                               num_layers=self.num_layers, batch_first=True, bias=True)\n",
    "        \n",
    "        self.batch = nn.BatchNorm1d(self.output_size)\n",
    "        self.linear2 = nn.Linear(self.num_layers*self.output_size, self.time_step_out)\n",
    "        \n",
    "    def forward(self,x):\n",
    "        out_en, (h_en,_) = self.encoder(x)\n",
    "        h_en = h_en.view(-1, self.num_layers*self.output_size)\n",
    "        h_en = self.batch(h_en)\n",
    "        out = nn.LeakyReLU()(h_en)\n",
    "        #out = torch.sigmoid(self.linear(out))\n",
    "        out = self.linear2(out)\n",
    "        return out"
   ]
  },
  {
   "cell_type": "code",
   "execution_count": 324,
   "metadata": {
    "ExecuteTime": {
     "end_time": "2021-08-02T22:19:31.574686Z",
     "start_time": "2021-08-02T22:19:31.563184Z"
    },
    "code_folding": []
   },
   "outputs": [],
   "source": [
    "class CNN1D(nn.Module):\n",
    "    def __init__(self,output_chan, output_dim,input_dim,kernel_size):\n",
    "        super(CNN1D, self).__init__()\n",
    "        \n",
    "        self.output_chan = output_chan\n",
    "        self.output_dim = output_dim\n",
    "        self.input_dim = input_dim\n",
    "        \n",
    "        self.conv1d = nn.Conv1d(in_channels=1, out_channels=output_chan, kernel_size=kernel_size, stride=1, \n",
    "                                padding=int(np.floor(kernel_size/2)))\n",
    "        \n",
    "        \n",
    "        self.maxpool = nn.MaxPool1d(3)\n",
    "        self.batchnorm = nn.BatchNorm1d(output_chan)\n",
    "        self.fc1 = nn.Linear(output_chan*int((input_dim/3)), output_dim, bias=True)\n",
    "        \n",
    "    def forward(self, x):\n",
    "        inputs = x.unsqueeze(1).squeeze(-1)\n",
    "        #print(inputs.shape)\n",
    "        out = self.conv1d(inputs)\n",
    "        out = self.batchnorm(out)\n",
    "        #print(out.shape)\n",
    "        out = self.maxpool(out)\n",
    "        #print(out.shape)\n",
    "        out = nn.LeakyReLU()(out)\n",
    "        \n",
    "        out = out.view(-1, out.shape[1]*out.shape[2])\n",
    "        \n",
    "        out = self.fc1(out)\n",
    "        return out"
   ]
  },
  {
   "cell_type": "code",
   "execution_count": 190,
   "metadata": {
    "ExecuteTime": {
     "end_time": "2021-08-02T18:07:51.075669Z",
     "start_time": "2021-08-02T18:07:51.068916Z"
    },
    "code_folding": [
     0
    ]
   },
   "outputs": [],
   "source": [
    "class Linear(nn.Module):\n",
    "    def __init__(self, nb_units, input_dim, output_dim):\n",
    "        super(Linear, self).__init__()\n",
    "        \n",
    "        self.nb_units = nb_units\n",
    "        self.input_dim = input_dim\n",
    "        self.output_dim = output_dim\n",
    "        self.nb_units2 = 16\n",
    "    \n",
    "        self.fc1 = nn.Linear(input_dim, nb_units)\n",
    "        #self.fc2 = nn.Linear(nb_units, self.nb_units2)\n",
    "        self.fc3 = nn.Linear(nb_units, output_dim)\n",
    "        \n",
    "        self.batch1 = nn.BatchNorm1d(nb_units)\n",
    "        #self.batch2 = nn.BatchNorm1d(self.nb_units2)\n",
    "        self.drop = nn.Dropout(0.5)\n",
    "        \n",
    "    def forward(self, x):\n",
    "        inputs = x.squeeze(-1)\n",
    "        out = self.fc1(inputs)\n",
    "        out = self.batch1(out)\n",
    "        out = nn.ReLU()(out)\n",
    "        \n",
    "        out = self.fc3(out)\n",
    "        return out"
   ]
  },
  {
   "cell_type": "code",
   "execution_count": 192,
   "metadata": {
    "ExecuteTime": {
     "end_time": "2021-08-02T18:07:53.436744Z",
     "start_time": "2021-08-02T18:07:53.432263Z"
    }
   },
   "outputs": [],
   "source": [
    "complet_graph, complet = Graphs.completegraph(4)\n",
    "cycle_graph, cycle = Graphs.cycle_graph(4)\n",
    "grid_graph, grid = Graphs.gridgraph(2,2)\n",
    "grid_graph_line, line = Graphs.gridgraph(4,1)"
   ]
  },
  {
   "cell_type": "code",
   "execution_count": 305,
   "metadata": {
    "ExecuteTime": {
     "end_time": "2021-08-02T22:13:44.745488Z",
     "start_time": "2021-08-02T22:13:44.741851Z"
    }
   },
   "outputs": [
    {
     "data": {
      "text/plain": [
       "504"
      ]
     },
     "execution_count": 305,
     "metadata": {},
     "output_type": "execute_result"
    }
   ],
   "source": [
    "nb_iterations"
   ]
  },
  {
   "cell_type": "code",
   "execution_count": 359,
   "metadata": {
    "ExecuteTime": {
     "end_time": "2021-08-02T22:58:12.918519Z",
     "start_time": "2021-08-02T22:58:12.913989Z"
    }
   },
   "outputs": [],
   "source": [
    "loss_fn = nn.SmoothL1Loss()\n",
    "num_iters_base = nb_iterations\n",
    "eta_coef_DMFW = 1\n",
    "eta_exp_DMFW = 0.75\n",
    "rho_coef_DMFW = 4e-0\n",
    "rho_exp_DMFW = 1/2\n",
    "reg_coef_DMFW = 10\n",
    "L_DMFW = 250 #or nb_iteration to get a better result"
   ]
  },
  {
   "cell_type": "code",
   "execution_count": 360,
   "metadata": {
    "ExecuteTime": {
     "end_time": "2021-08-02T22:58:13.979075Z",
     "start_time": "2021-08-02T22:58:13.975056Z"
    }
   },
   "outputs": [],
   "source": [
    "trainXMFW = Trainer(cycle_graph,trainloader,CNN1D, (8,lookahead,lookback,5), loss_fn,num_iters_base)"
   ]
  },
  {
   "cell_type": "code",
   "execution_count": 361,
   "metadata": {
    "ExecuteTime": {
     "end_time": "2021-08-02T23:33:51.780802Z",
     "start_time": "2021-08-02T22:58:19.025559Z"
    },
    "scrolled": true
   },
   "outputs": [
    {
     "name": "stdout",
     "output_type": "stream",
     "text": [
      "t_0 : loss : 5.42137 gap : 0.0803820863366127 local_gap 0.0803820863366127\n",
      "t_1 : loss : 1.56994 gap : 0.05290596932172775 local_gap 0.025429854169487953\n",
      "t_2 : loss : 0.50777 gap : 0.02392127551138401 local_gap 0.019458111375570297\n",
      "t_3 : loss : 0.29961 gap : 0.010319503024220467 local_gap 0.017832545563578606\n",
      "t_4 : loss : 1.71934 gap : 0.007936525158584118 local_gap 0.02945207618176937\n",
      "t_5 : loss : 0.10283 gap : 0.0023883215617388487 local_gap 0.006514283362776041\n",
      "t_6 : loss : 0.65350 gap : 0.0033309541177004576 local_gap 0.020928358659148216\n",
      "t_7 : loss : 0.11450 gap : 0.0014262187760323286 local_gap 0.008078795857727528\n",
      "t_8 : loss : 0.05334 gap : 0.0004550782614387572 local_gap 0.002877352060750127\n",
      "t_9 : loss : 0.21654 gap : 0.0011730124242603779 local_gap 0.011278118006885052\n",
      "t_10 : loss : 0.03587 gap : 0.0006206954130902886 local_gap 0.005661779548972845\n",
      "t_11 : loss : 0.03036 gap : 0.00023847701959311962 local_gap 0.0022772764787077904\n",
      "t_12 : loss : 0.01961 gap : 0.00015608657849952579 local_gap 0.0018645684467628598\n",
      "t_13 : loss : 0.02243 gap : 9.817766112973914e-05 local_gap 0.001270891516469419\n",
      "t_14 : loss : 0.03525 gap : 0.00019393159891478717 local_gap 0.00282444735057652\n",
      "t_15 : loss : 0.02434 gap : 0.00027125058113597333 local_gap 0.004214446991682053\n",
      "t_16 : loss : 0.11401 gap : 0.000466737721581012 local_gap 0.007725665345788002\n",
      "t_17 : loss : 0.01211 gap : 0.0001242612925125286 local_gap 0.0018670781282708049\n",
      "t_18 : loss : 0.00346 gap : 6.33146264590323e-05 local_gap 0.001087860087864101\n",
      "t_19 : loss : 0.00264 gap : 2.4131724785547704e-05 local_gap 0.0004193198692519218\n",
      "t_20 : loss : 0.02357 gap : 0.00015937615535221994 local_gap 0.0033290719147771597\n",
      "t_21 : loss : 0.01493 gap : 0.0001125661947298795 local_gap 0.0023579008411616087\n",
      "t_22 : loss : 0.05609 gap : 0.0002285570662934333 local_gap 0.0051498860120773315\n",
      "t_23 : loss : 0.05143 gap : 0.00021952208771836013 local_gap 0.005049406085163355\n",
      "t_24 : loss : 0.03259 gap : 0.0001762176543707028 local_gap 0.004185919184237719\n",
      "t_25 : loss : 0.03782 gap : 0.0001956506894202903 local_gap 0.004910700023174286\n",
      "t_26 : loss : 0.00581 gap : 8.305799565277994e-05 local_gap 0.002052976982668042\n",
      "t_27 : loss : 0.02547 gap : 0.00016083645459730178 local_gap 0.004421002231538296\n",
      "t_28 : loss : 0.00688 gap : 2.883222623495385e-05 local_gap 0.0007126939599402249\n",
      "t_29 : loss : 0.00238 gap : 3.5318993468536064e-05 local_gap 0.00104282156098634\n",
      "t_30 : loss : 0.00577 gap : 6.039798608981073e-05 local_gap 0.001837018528021872\n",
      "t_31 : loss : 0.00156 gap : 3.41854065482039e-05 local_gap 0.0010335349943488836\n",
      "t_32 : loss : 0.01261 gap : 6.27036060905084e-05 local_gap 0.0020434935577213764\n",
      "t_33 : loss : 0.03982 gap : 7.836810982553288e-05 local_gap 0.002635455457493663\n",
      "t_34 : loss : 0.03182 gap : 7.949792052386329e-05 local_gap 0.0027119885198771954\n",
      "t_35 : loss : 0.02983 gap : 9.3430993729271e-05 local_gap 0.003284017788246274\n",
      "t_36 : loss : 0.00875 gap : 3.48679386661388e-05 local_gap 0.001196682802401483\n",
      "t_37 : loss : 0.01368 gap : 7.067767000989988e-05 local_gap 0.0026584798470139503\n",
      "t_38 : loss : 0.00806 gap : 3.163056680932641e-05 local_gap 0.0012028466444462538\n",
      "t_39 : loss : 0.00563 gap : 3.5805569496005774e-05 local_gap 0.0014005922712385654\n",
      "t_40 : loss : 0.00762 gap : 3.078081863350235e-05 local_gap 0.0012578919995576143\n",
      "t_41 : loss : 0.01414 gap : 4.590052776620723e-05 local_gap 0.001901763491332531\n",
      "t_42 : loss : 0.00681 gap : 3.1663596018915996e-05 local_gap 0.0013228513998910785\n",
      "t_43 : loss : 0.01702 gap : 6.0938044043723494e-05 local_gap 0.0026589923072606325\n",
      "t_44 : loss : 0.00583 gap : 3.880069198203273e-05 local_gap 0.0016850930405780673\n",
      "t_45 : loss : 0.00456 gap : 3.054048283956945e-05 local_gap 0.0013660616241395473\n",
      "t_46 : loss : 0.00527 gap : 3.4228494769195095e-05 local_gap 0.0015781987458467484\n",
      "t_47 : loss : 0.00221 gap : 1.6834175767144188e-05 local_gap 0.0007738119456917048\n",
      "t_48 : loss : 0.00691 gap : 3.3609234378673136e-05 local_gap 0.0016341384034603834\n",
      "t_49 : loss : 0.01364 gap : 4.469430132303387e-05 local_gap 0.0022011057008057833\n",
      "t_50 : loss : 0.00648 gap : 3.407785698072985e-05 local_gap 0.0016980139771476388\n",
      "t_51 : loss : 0.01006 gap : 4.270375211490318e-05 local_gap 0.0021865172311663628\n",
      "t_52 : loss : 0.00458 gap : 2.6924944904749282e-05 local_gap 0.0014036212814971805\n",
      "t_53 : loss : 0.00637 gap : 2.3339453036896884e-05 local_gap 0.0012444385793060064\n",
      "t_54 : loss : 0.00541 gap : 1.5140227333176881e-05 local_gap 0.0008181419689208269\n",
      "t_55 : loss : 0.00512 gap : 1.4960219232307281e-05 local_gap 0.0008331454009748995\n",
      "t_56 : loss : 0.00550 gap : 1.909234924823977e-05 local_gap 0.001084753661416471\n",
      "t_57 : loss : 0.00656 gap : 1.2734442861983553e-05 local_gap 0.0007249074405990541\n",
      "t_58 : loss : 0.01033 gap : 2.8833301257691346e-05 local_gap 0.0016928177792578936\n",
      "t_59 : loss : 0.00747 gap : 2.0924304408254102e-05 local_gap 0.0012392790522426367\n",
      "t_60 : loss : 0.00626 gap : 1.3513246813090518e-05 local_gap 0.0008033837657421827\n",
      "t_61 : loss : 0.01186 gap : 2.8244981876923703e-05 local_gap 0.001737675629556179\n",
      "t_62 : loss : 0.01351 gap : 3.665353506221436e-05 local_gap 0.0022809277288615704\n",
      "t_63 : loss : 0.00772 gap : 2.1934989490546286e-05 local_gap 0.0013830302050337195\n",
      "t_64 : loss : 0.00976 gap : 2.4835942895151675e-05 local_gap 0.0015941197052598\n",
      "t_65 : loss : 0.00660 gap : 1.3209211829234846e-05 local_gap 0.0008519249386154115\n",
      "t_66 : loss : 0.00617 gap : 1.0704023225116543e-05 local_gap 0.0007050314452499151\n",
      "t_67 : loss : 0.00529 gap : 8.742732461541891e-06 local_gap 0.0005892504123039544\n",
      "t_68 : loss : 0.00700 gap : 1.8541626559454016e-05 local_gap 0.0012748579028993845\n",
      "t_69 : loss : 0.00904 gap : 3.1391849915962666e-05 local_gap 0.0021956362761557102\n",
      "t_70 : loss : 0.00700 gap : 1.8557711882749572e-05 local_gap 0.001311272382736206\n",
      "t_71 : loss : 0.00377 gap : 1.3925985513196792e-05 local_gap 0.0009959504241123796\n",
      "t_72 : loss : 0.01387 gap : 2.1418860342237167e-05 local_gap 0.0015593844000250101\n",
      "t_73 : loss : 0.00256 gap : 1.0745559848146513e-05 local_gap 0.000773752573877573\n",
      "t_74 : loss : 0.01277 gap : 2.2161437300383113e-05 local_gap 0.0016513621667400002\n",
      "t_75 : loss : 0.01051 gap : 2.2945194359635934e-05 local_gap 0.0017216734122484922\n",
      "t_76 : loss : 0.00694 gap : 1.945850635820534e-05 local_gap 0.0014753597788512707\n",
      "t_77 : loss : 0.00685 gap : 1.915621032821946e-05 local_gap 0.0014775973977521062\n",
      "t_78 : loss : 0.00553 gap : 1.799156416382175e-05 local_gap 0.0014021772658452392\n",
      "t_79 : loss : 0.00133 gap : 1.0328922144253738e-05 local_gap 0.0008083988213911653\n",
      "t_80 : loss : 0.00955 gap : 2.4278009732370265e-05 local_gap 0.0019561899825930595\n",
      "t_81 : loss : 0.00129 gap : 8.444234481430613e-06 local_gap 0.0006681492086499929\n",
      "t_82 : loss : 0.00119 gap : 9.369885447085835e-06 local_gap 0.0007692562649026513\n",
      "t_83 : loss : 0.00208 gap : 1.1443159564805683e-05 local_gap 0.0009518555598333478\n",
      "t_84 : loss : 0.00131 gap : 8.53935671329964e-06 local_gap 0.00071595364715904\n",
      "t_85 : loss : 0.00141 gap : 8.552098734071478e-06 local_gap 0.0007269410998560488\n",
      "t_86 : loss : 0.00196 gap : 9.18901241675485e-06 local_gap 0.000792664650361985\n",
      "t_87 : loss : 0.00483 gap : 1.287743270950159e-05 local_gap 0.0011240250896662474\n",
      "t_88 : loss : 0.00411 gap : 1.0491149623703677e-05 local_gap 0.0009287081193178892\n",
      "t_89 : loss : 0.00290 gap : 6.094527634559199e-06 local_gap 0.0005472751217894256\n",
      "t_90 : loss : 0.00572 gap : 1.2476476513256785e-05 local_gap 0.0011334646260365844\n",
      "t_91 : loss : 0.00824 gap : 1.4758773431822192e-05 local_gap 0.0013509226264432073\n",
      "t_92 : loss : 0.00484 gap : 1.0110703442478552e-05 local_gap 0.0009297014330513775\n",
      "t_93 : loss : 0.01482 gap : 2.3778173272148706e-05 local_gap 0.002229509875178337\n",
      "t_94 : loss : 0.00387 gap : 5.563354079640703e-06 local_gap 0.0005096584791317582\n",
      "t_95 : loss : 0.00712 gap : 1.2358719686744735e-05 local_gap 0.0011808737181127071\n",
      "t_96 : loss : 0.01265 gap : 1.7518486856715754e-05 local_gap 0.0016979879001155496\n",
      "t_97 : loss : 0.00820 gap : 1.3996972484164871e-05 local_gap 0.0013595765922218561\n",
      "t_98 : loss : 0.00516 gap : 9.417180990567431e-06 local_gap 0.0009204710368067026\n",
      "t_99 : loss : 0.01050 gap : 2.002282053581439e-05 local_gap 0.001994938123971224\n",
      "t_100 : loss : 0.01221 gap : 2.007158036576584e-05 local_gap 0.002020998625084758\n"
     ]
    },
    {
     "name": "stdout",
     "output_type": "stream",
     "text": [
      "t_101 : loss : 0.00791 gap : 1.7761023627826944e-05 local_gap 0.0017915527569130063\n",
      "t_102 : loss : 0.01094 gap : 1.746164525684435e-05 local_gap 0.0017905245767906308\n",
      "t_103 : loss : 0.00711 gap : 1.3554144061345141e-05 local_gap 0.001392169389873743\n",
      "t_104 : loss : 0.00519 gap : 1.3106891856295988e-05 local_gap 0.0013626695144921541\n",
      "t_105 : loss : 0.00551 gap : 9.154474355455022e-06 local_gap 0.0009653898887336254\n",
      "t_106 : loss : 0.00449 gap : 9.567647794028744e-06 local_gap 0.0010145838605239987\n",
      "t_107 : loss : 0.00376 gap : 8.724204235477373e-06 local_gap 0.0009369706967845559\n",
      "t_108 : loss : 0.00372 gap : 1.0260691851726733e-05 local_gap 0.0011096912203356624\n",
      "t_109 : loss : 0.00377 gap : 8.947949027060531e-06 local_gap 0.0009740137029439211\n",
      "t_110 : loss : 0.00269 gap : 7.766500857542269e-06 local_gap 0.0008531336206942797\n",
      "t_111 : loss : 0.00339 gap : 7.3096221058222e-06 local_gap 0.0008144767489284277\n",
      "t_112 : loss : 0.00323 gap : 5.991507350699976e-06 local_gap 0.0006744309794157743\n",
      "t_113 : loss : 0.00531 gap : 1.0277418368787039e-05 local_gap 0.0011656341375783086\n",
      "t_114 : loss : 0.00301 gap : 8.061807420745026e-06 local_gap 0.0009187014657072723\n",
      "t_115 : loss : 0.00369 gap : 7.61287128625554e-06 local_gap 0.000877665588632226\n",
      "t_116 : loss : 0.00333 gap : 8.029558557609562e-06 local_gap 0.0009357373928651214\n",
      "t_117 : loss : 0.00567 gap : 1.3016174307267647e-05 local_gap 0.0015342033002525568\n",
      "t_118 : loss : 0.00272 gap : 5.789869192085462e-06 local_gap 0.0006808984326198697\n",
      "t_119 : loss : 0.00213 gap : 7.978362191352062e-06 local_gap 0.0009565423824824393\n",
      "t_120 : loss : 0.00234 gap : 2.1748937797383405e-06 local_gap 0.0002604588808026165\n",
      "t_121 : loss : 0.00537 gap : 3.3951823752431665e-06 local_gap 0.000413071975344792\n",
      "t_122 : loss : 0.00594 gap : 1.7150357507489389e-06 local_gap 0.00020972562197130173\n",
      "t_123 : loss : 0.01255 gap : 9.98429095488973e-06 local_gap 0.0012363370042294264\n",
      "t_124 : loss : 0.00645 gap : 6.0983156799920835e-06 local_gap 0.0007576696225441992\n",
      "t_125 : loss : 0.00763 gap : 4.875535523751751e-06 local_gap 0.000608219183050096\n",
      "t_126 : loss : 0.00967 gap : 1.0776575436466374e-05 local_gap 0.0013642235426232219\n",
      "t_127 : loss : 0.01275 gap : 1.0286253200320061e-05 local_gap 0.0013058638432994485\n",
      "t_128 : loss : 0.05529 gap : 2.515259984647855e-05 local_gap 0.003234399249777198\n",
      "t_129 : loss : 0.00486 gap : 8.281996088044252e-06 local_gap 0.0010515069589018822\n",
      "t_130 : loss : 0.00572 gap : 9.535221579426434e-06 local_gap 0.001240832032635808\n",
      "t_131 : loss : 0.00435 gap : 8.62391789269168e-06 local_gap 0.0011288219830021262\n",
      "t_132 : loss : 0.00175 gap : 4.355735654826276e-06 local_gap 0.0005706889205612242\n",
      "t_133 : loss : 0.00117 gap : 2.8698025289486395e-06 local_gap 0.00038019780186004937\n",
      "t_134 : loss : 0.00129 gap : 3.221247652618331e-06 local_gap 0.0004319986328482628\n",
      "t_135 : loss : 0.00131 gap : 3.196043053321773e-06 local_gap 0.00043144062510691583\n",
      "t_136 : loss : 0.00166 gap : 4.486818397708703e-06 local_gap 0.0006114980787970126\n",
      "t_137 : loss : 0.00073 gap : 4.126542080484796e-06 local_gap 0.0005690338439308107\n",
      "t_138 : loss : 0.00088 gap : 5.747014256485272e-06 local_gap 0.0007947084377519786\n",
      "t_139 : loss : 0.00128 gap : 5.780789251730312e-06 local_gap 0.0008035634527914226\n",
      "t_140 : loss : 0.00062 gap : 3.458427045188728e-06 local_gap 0.0004818574234377593\n",
      "t_141 : loss : 0.00062 gap : 3.691173333209008e-06 local_gap 0.0005206881905905902\n",
      "t_142 : loss : 0.00082 gap : 4.502391675487161e-06 local_gap 0.0006401507998816669\n",
      "t_143 : loss : 0.00070 gap : 4.548379820334958e-06 local_gap 0.0006504643242806196\n",
      "t_144 : loss : 0.02061 gap : 1.6035044609452598e-05 local_gap 0.0023243515752255917\n",
      "t_145 : loss : 0.00901 gap : 9.587301974534057e-06 local_gap 0.0013837110018357635\n",
      "t_146 : loss : 0.00535 gap : 8.580305802752264e-06 local_gap 0.0012525173369795084\n",
      "t_147 : loss : 0.01074 gap : 7.0703022174711805e-06 local_gap 0.0010378244332969189\n",
      "t_148 : loss : 0.00723 gap : 6.4508317336731125e-06 local_gap 0.0009545984794385731\n",
      "t_149 : loss : 0.00860 gap : 6.2606468418380246e-06 local_gap 0.0009326462168246508\n",
      "t_150 : loss : 0.00666 gap : 7.263619863806525e-06 local_gap 0.001093678642064333\n",
      "t_151 : loss : 0.00620 gap : 6.037348612153437e-06 local_gap 0.000910450704395771\n",
      "t_152 : loss : 0.00444 gap : 6.73654540150892e-06 local_gap 0.0010274546220898628\n",
      "t_153 : loss : 0.00831 gap : 1.0913282494584564e-05 local_gap 0.001678737811744213\n",
      "t_154 : loss : 0.00548 gap : 8.442457328783348e-06 local_gap 0.0013031335547566414\n",
      "t_155 : loss : 0.00497 gap : 7.971391823957674e-06 local_gap 0.0012350947363302112\n",
      "t_156 : loss : 0.00412 gap : 7.80562186264433e-06 local_gap 0.0012210080167278647\n",
      "t_157 : loss : 0.00456 gap : 5.401423095463542e-06 local_gap 0.0008488616440445185\n",
      "t_158 : loss : 0.00540 gap : 7.887163519626483e-06 local_gap 0.0012486575869843364\n",
      "t_159 : loss : 0.00441 gap : 6.595963895961177e-06 local_gap 0.001049244892783463\n",
      "t_160 : loss : 0.00381 gap : 3.673898390843533e-06 local_gap 0.0005883446428924799\n",
      "t_161 : loss : 0.00328 gap : 4.306979008106282e-06 local_gap 0.000696340692229569\n",
      "t_162 : loss : 0.00580 gap : 8.170089131454006e-06 local_gap 0.0013274174416437745\n",
      "t_163 : loss : 0.00360 gap : 3.386750222489354e-06 local_gap 0.0005514527438208461\n",
      "t_164 : loss : 0.00327 gap : 4.8979895836964715e-06 local_gap 0.0008076730300672352\n",
      "t_165 : loss : 0.00462 gap : 6.2162598624126986e-06 local_gap 0.0010277361143380404\n",
      "t_166 : loss : 0.00220 gap : 4.29754391007009e-06 local_gap 0.0007117129862308502\n",
      "t_167 : loss : 0.00341 gap : 4.924707354803104e-06 local_gap 0.0008259180467575788\n",
      "t_168 : loss : 0.00478 gap : 5.118812168802833e-06 local_gap 0.0008640264277346432\n",
      "t_169 : loss : 0.00335 gap : 2.797063871184946e-06 local_gap 0.0004728978965431452\n",
      "t_170 : loss : 0.00340 gap : 3.506935399855138e-06 local_gap 0.0005968888872303069\n",
      "t_171 : loss : 0.00286 gap : 5.083165888208896e-06 local_gap 0.0008726537344045937\n",
      "t_172 : loss : 0.00418 gap : 4.8278648137056734e-06 local_gap 0.0008326706592924893\n",
      "t_173 : loss : 0.00412 gap : 7.033994279481703e-06 local_gap 0.0012190871639177203\n",
      "t_174 : loss : 0.00225 gap : 3.9465580812247936e-06 local_gap 0.0006891463417559862\n",
      "t_175 : loss : 0.00282 gap : 1.366275910186232e-06 local_gap 0.0002386480337008834\n",
      "t_176 : loss : 0.00255 gap : 4.187334980088053e-06 local_gap 0.0007397920708172023\n",
      "t_177 : loss : 0.00299 gap : 2.2696624455420533e-06 local_gap 0.0004016663588117808\n",
      "t_178 : loss : 0.00407 gap : 5.473688361234963e-06 local_gap 0.0009775205980986357\n",
      "t_179 : loss : 0.00330 gap : 3.4909012356365565e-06 local_gap 0.0006244044052436948\n",
      "t_180 : loss : 0.00317 gap : 1.8349514903093223e-06 local_gap 0.0003314063069410622\n",
      "t_181 : loss : 0.00301 gap : 3.312414719403023e-06 local_gap 0.0006019247812218964\n",
      "t_182 : loss : 0.00483 gap : 3.5129346542817075e-06 local_gap 0.0006420033751055598\n",
      "t_183 : loss : 0.00460 gap : 4.040779913339065e-06 local_gap 0.0007403393974527717\n",
      "t_184 : loss : 0.00731 gap : 6.457107247115346e-06 local_gap 0.001191313611343503\n",
      "t_185 : loss : 0.00074 gap : 1.0525305924602435e-06 local_gap 0.00018931359227281064\n",
      "t_186 : loss : 0.00129 gap : 2.0890524865535554e-06 local_gap 0.0003903463948518038\n",
      "t_187 : loss : 0.00214 gap : 2.836112571458216e-06 local_gap 0.0005318084149621427\n",
      "t_188 : loss : 0.00387 gap : 4.1709763536346145e-06 local_gap 0.0007862707134336233\n",
      "t_189 : loss : 0.00088 gap : 1.312332869929378e-06 local_gap 0.00024517226847819984\n",
      "t_190 : loss : 0.00113 gap : 1.8809603261615848e-06 local_gap 0.0003586573584470898\n",
      "t_191 : loss : 0.00106 gap : 1.513838810751622e-06 local_gap 0.00029019988141953945\n",
      "t_192 : loss : 0.00277 gap : 3.2943419228104176e-06 local_gap 0.0006342941196635365\n",
      "t_193 : loss : 0.00113 gap : 8.136712494888343e-07 local_gap 0.0001553688634885475\n",
      "t_194 : loss : 0.00183 gap : 2.8462470709200716e-06 local_gap 0.0005542045109905303\n",
      "t_195 : loss : 0.00322 gap : 4.805849130207207e-06 local_gap 0.0009392317151650786\n",
      "t_196 : loss : 0.00467 gap : 6.638619652221678e-06 local_gap 0.0013034341391175985\n",
      "t_197 : loss : 0.00501 gap : 7.090866802172968e-06 local_gap 0.0013973891036584973\n",
      "t_198 : loss : 0.00939 gap : 9.730774763738737e-06 local_gap 0.001930824713781476\n",
      "t_199 : loss : 0.00538 gap : 6.534681233461015e-06 local_gap 0.0012972054537385702\n"
     ]
    },
    {
     "name": "stdout",
     "output_type": "stream",
     "text": [
      "t_200 : loss : 0.04115 gap : 1.556096140120644e-05 local_gap 0.0031235981732606888\n",
      "t_201 : loss : 0.02354 gap : 1.229983081429964e-05 local_gap 0.002471256535500288\n",
      "t_202 : loss : 0.01575 gap : 8.786952093942091e-06 local_gap 0.0017745288787409663\n",
      "t_203 : loss : 0.00973 gap : 7.022503723419504e-06 local_gap 0.0014245578786358237\n",
      "t_204 : loss : 0.00847 gap : 5.903757937630871e-06 local_gap 0.0012087445938959718\n",
      "t_205 : loss : 0.00662 gap : 5.539232461160282e-06 local_gap 0.001135178143158555\n",
      "t_206 : loss : 0.00775 gap : 7.662129064556211e-06 local_gap 0.0015806584851816297\n",
      "t_207 : loss : 0.00542 gap : 3.8108958051452646e-06 local_gap 0.0007912179571576416\n",
      "t_208 : loss : 0.00234 gap : 1.8542596080806106e-06 local_gap 0.0003848868072964251\n",
      "t_209 : loss : 0.00187 gap : 2.9703435302508296e-06 local_gap 0.0006225152756087482\n",
      "t_210 : loss : 0.00292 gap : 3.7353308925958117e-06 local_gap 0.0007851845002733171\n",
      "t_211 : loss : 0.00201 gap : 1.4854410892439773e-06 local_gap 0.000313231663312763\n",
      "t_212 : loss : 0.00301 gap : 3.925434612028766e-06 local_gap 0.0008353015873581171\n",
      "t_213 : loss : 0.00200 gap : 2.011797960221884e-06 local_gap 0.00042659931932576\n",
      "t_214 : loss : 0.00293 gap : 1.619344175196602e-06 local_gap 0.00034722642158158123\n",
      "t_215 : loss : 0.00334 gap : 3.304620349808829e-06 local_gap 0.0007126964628696442\n",
      "t_216 : loss : 0.00860 gap : 8.485319085593801e-06 local_gap 0.0018400289118289948\n",
      "t_217 : loss : 0.00516 gap : 2.3317984414461534e-06 local_gap 0.0005076461238786578\n",
      "t_218 : loss : 0.00385 gap : 3.5588632272265386e-06 local_gap 0.0007770592346787453\n",
      "t_219 : loss : 0.00537 gap : 2.86162321572192e-06 local_gap 0.0006278853979893029\n",
      "t_220 : loss : 0.00509 gap : 3.8560942812182475e-06 local_gap 0.0008511267951689661\n",
      "t_221 : loss : 0.00466 gap : 2.4932860469562e-06 local_gap 0.0005518026882782578\n",
      "t_222 : loss : 0.00331 gap : 1.4346893522088067e-06 local_gap 0.00031744243460707366\n",
      "t_223 : loss : 0.00421 gap : 2.498045432730578e-06 local_gap 0.0005587802734225988\n",
      "t_224 : loss : 0.00336 gap : 2.2369431462720968e-06 local_gap 0.0005018050433136523\n",
      "t_225 : loss : 0.00268 gap : 2.723636043810984e-06 local_gap 0.0006133048445917666\n",
      "t_226 : loss : 0.00351 gap : 3.3375176826666575e-06 local_gap 0.000756846449803561\n",
      "t_227 : loss : 0.00287 gap : 2.099714720316115e-06 local_gap 0.0004753974499180913\n",
      "t_228 : loss : 0.00536 gap : 4.041442934976658e-06 local_gap 0.0009233906748704612\n",
      "t_229 : loss : 0.00377 gap : 4.21340337197762e-06 local_gap 0.0009650413412600756\n",
      "t_230 : loss : 0.00471 gap : 3.852828740491532e-06 local_gap 0.0008881629328243434\n",
      "t_231 : loss : 0.00213 gap : 2.1130647382960888e-06 local_gap 0.0004863782087340951\n",
      "t_232 : loss : 0.00437 gap : 5.3667358770326246e-06 local_gap 0.0012484892504289746\n",
      "t_233 : loss : 0.00413 gap : 4.407561846164754e-06 local_gap 0.0010260026901960373\n",
      "t_234 : loss : 0.00279 gap : 3.526435875755851e-06 local_gap 0.000824304879643023\n",
      "t_235 : loss : 0.00280 gap : 3.931485480279662e-06 local_gap 0.0009272375609725714\n",
      "t_236 : loss : 0.00327 gap : 3.676294682009029e-06 local_gap 0.0008696451550349593\n",
      "t_237 : loss : 0.00206 gap : 2.9348527732508956e-06 local_gap 0.0006949332891963422\n",
      "t_238 : loss : 0.00270 gap : 3.6849776279268553e-06 local_gap 0.0008799274801276624\n",
      "t_239 : loss : 0.00242 gap : 2.749866780504817e-06 local_gap 0.0006592166610062122\n",
      "t_240 : loss : 0.01924 gap : 9.028443855640944e-06 local_gap 0.0021744610276073217\n",
      "t_241 : loss : 0.00389 gap : 5.210365088714752e-06 local_gap 0.001251879846677184\n",
      "t_242 : loss : 0.00214 gap : 3.5596958696260117e-06 local_gap 0.0008616970153525472\n",
      "t_243 : loss : 0.00081 gap : 2.385809466431965e-06 local_gap 0.0005806747358292341\n",
      "t_244 : loss : 0.00100 gap : 3.1582246720063267e-06 local_gap 0.0007713792147114873\n",
      "t_245 : loss : 0.00120 gap : 3.5079956433037296e-06 local_gap 0.000861460343003273\n",
      "t_246 : loss : 0.00128 gap : 3.036294856428867e-06 local_gap 0.0007471379940398037\n",
      "t_247 : loss : 0.00149 gap : 4.200664079689886e-06 local_gap 0.001038728398270905\n",
      "t_248 : loss : 0.00069 gap : 1.5549670706604957e-06 local_gap 0.0003829861234407872\n",
      "t_249 : loss : 0.00096 gap : 2.1243836272333283e-06 local_gap 0.0005307256942614913\n",
      "t_250 : loss : 0.00159 gap : 3.922295491065597e-06 local_gap 0.0009823718573898077\n",
      "t_251 : loss : 0.00159 gap : 4.563080437947065e-06 local_gap 0.0011459740344434977\n",
      "t_252 : loss : 0.00255 gap : 5.9246531236567535e-06 local_gap 0.0014943741261959076\n",
      "t_253 : loss : 0.00195 gap : 4.914910277875606e-06 local_gap 0.001242462545633316\n",
      "t_254 : loss : 0.00209 gap : 4.6193354137358256e-06 local_gap 0.0011736619053408504\n",
      "t_255 : loss : 0.00182 gap : 5.60187299925019e-06 local_gap 0.0014295830624178052\n",
      "t_256 : loss : 0.00055 gap : 2.650913984325598e-06 local_gap 0.000675683026202023\n",
      "t_257 : loss : 0.00167 gap : 5.527411758521339e-06 local_gap 0.0014234213158488274\n",
      "t_258 : loss : 0.00120 gap : 4.4895032260683365e-06 local_gap 0.0011588578345254064\n",
      "t_259 : loss : 0.00138 gap : 4.423709469847381e-06 local_gap 0.0011456749634817243\n",
      "t_260 : loss : 0.00112 gap : 4.036130576423602e-06 local_gap 0.0010490454733371735\n",
      "t_261 : loss : 0.00168 gap : 4.759508101415122e-06 local_gap 0.001242954982444644\n",
      "t_262 : loss : 0.00349 gap : 6.842442871857202e-06 local_gap 0.0017949303146451712\n",
      "t_263 : loss : 0.00320 gap : 6.8461445152934175e-06 local_gap 0.0018012996297329664\n",
      "t_264 : loss : 0.02825 gap : 1.0787634892039932e-05 local_gap 0.0028544191736727953\n",
      "t_265 : loss : 0.00697 gap : 4.5627884901477955e-06 local_gap 0.0012072684476152062\n",
      "t_266 : loss : 0.00514 gap : 3.833146820397815e-06 local_gap 0.0010203542187809944\n",
      "t_267 : loss : 0.00331 gap : 2.7926723760174355e-06 local_gap 0.0007446030504070222\n",
      "t_268 : loss : 0.00494 gap : 4.548333890852518e-06 local_gap 0.0012220260687172413\n",
      "t_269 : loss : 0.00320 gap : 4.260997684468748e-06 local_gap 0.0011459210654720664\n",
      "t_270 : loss : 0.00238 gap : 1.7070516378225875e-06 local_gap 0.00046171530266292393\n",
      "t_271 : loss : 0.00315 gap : 3.4258648611285025e-06 local_gap 0.0009304030681960285\n",
      "t_272 : loss : 0.00677 gap : 6.687587301712483e-06 local_gap 0.0018222854705527425\n",
      "t_273 : loss : 0.00486 gap : 4.956426437274786e-06 local_gap 0.0013513732701539993\n",
      "t_274 : loss : 0.00207 gap : 2.866880322471843e-06 local_gap 0.000783435651101172\n",
      "t_275 : loss : 0.00394 gap : 2.3354627955995966e-06 local_gap 0.0006437436095438898\n",
      "t_276 : loss : 0.00474 gap : 5.051115749665769e-06 local_gap 0.0013972503365948796\n",
      "t_277 : loss : 0.00304 gap : 2.1861692403035704e-06 local_gap 0.0006045917398296297\n",
      "t_278 : loss : 0.00292 gap : 2.6477475785213755e-06 local_gap 0.0007365354103967547\n",
      "t_279 : loss : 0.00312 gap : 1.6863127711985726e-06 local_gap 0.0004708650812972337\n",
      "t_280 : loss : 0.00341 gap : 4.430983608472161e-06 local_gap 0.0012445361353456974\n",
      "t_281 : loss : 0.00268 gap : 2.652951025083894e-06 local_gap 0.0007455465965904295\n",
      "t_282 : loss : 0.00282 gap : 1.8581882841317565e-06 local_gap 0.0005250315880402923\n",
      "t_283 : loss : 0.00327 gap : 1.6075696294137742e-06 local_gap 0.00045559852151200175\n",
      "t_284 : loss : 0.00225 gap : 1.937177557920222e-06 local_gap 0.0005504880100488663\n",
      "t_285 : loss : 0.00316 gap : 1.147540729107277e-06 local_gap 0.00032778349122963846\n",
      "t_286 : loss : 0.00322 gap : 2.694209342735121e-06 local_gap 0.0007720905123278499\n",
      "t_287 : loss : 0.00368 gap : 2.112761649186723e-06 local_gap 0.0006057811551727355\n",
      "t_288 : loss : 0.01523 gap : 4.601030468620593e-06 local_gap 0.0013275850797072053\n",
      "t_289 : loss : 0.00197 gap : 1.5601870018144837e-06 local_gap 0.0004478532064240426\n",
      "t_290 : loss : 0.00151 gap : 1.1257208143433672e-06 local_gap 0.0003264686674810946\n",
      "t_291 : loss : 0.00139 gap : 2.1443056539283134e-06 local_gap 0.0006255382904782891\n",
      "t_292 : loss : 0.00244 gap : 1.3210910765337758e-06 local_gap 0.0003858375712297857\n",
      "t_293 : loss : 0.00185 gap : 1.1021435284419567e-06 local_gap 0.0003237024648115039\n",
      "t_294 : loss : 0.00119 gap : 1.1042136520700296e-06 local_gap 0.0003246408887207508\n",
      "t_295 : loss : 0.00228 gap : 1.541635356261395e-06 local_gap 0.0004558041109703481\n",
      "t_296 : loss : 0.00718 gap : 3.484737362668966e-06 local_gap 0.0010334253311157227\n",
      "t_297 : loss : 0.00641 gap : 3.1996557936508907e-06 local_gap 0.0009500127052888274\n",
      "t_298 : loss : 0.00284 gap : 2.098966433550231e-06 local_gap 0.0006243913085199893\n"
     ]
    },
    {
     "name": "stdout",
     "output_type": "stream",
     "text": [
      "t_299 : loss : 0.00225 gap : 2.1542039121413836e-06 local_gap 0.0006448514177463949\n",
      "t_300 : loss : 0.00464 gap : 2.6447969503351487e-06 local_gap 0.0007950540748424828\n",
      "t_301 : loss : 0.00601 gap : 3.2332488899555756e-06 local_gap 0.0009737963555380702\n",
      "t_302 : loss : 0.00516 gap : 3.125923285551835e-06 local_gap 0.0009439215064048767\n",
      "t_303 : loss : 0.00409 gap : 2.7799769668490626e-06 local_gap 0.0008423636318184435\n",
      "t_304 : loss : 0.01083 gap : 5.045907528256066e-06 local_gap 0.0015364020364359021\n",
      "t_305 : loss : 0.00592 gap : 3.6943547456758097e-06 local_gap 0.0011254266137257218\n",
      "t_306 : loss : 0.00433 gap : 3.5582429518399294e-06 local_gap 0.0010887233074754477\n",
      "t_307 : loss : 0.00434 gap : 3.881930751958862e-06 local_gap 0.001192076480947435\n",
      "t_308 : loss : 0.00390 gap : 3.7733034332632087e-06 local_gap 0.0011620688019320369\n",
      "t_309 : loss : 0.00485 gap : 4.352563337306492e-06 local_gap 0.0013455214211717248\n",
      "t_310 : loss : 0.00550 gap : 4.26891938332119e-06 local_gap 0.0013232813216745853\n",
      "t_311 : loss : 0.00613 gap : 3.4450354178261478e-06 local_gap 0.0010705820750445127\n",
      "t_312 : loss : 0.01360 gap : 4.227334102324676e-06 local_gap 0.0013197105145081878\n",
      "t_313 : loss : 0.00727 gap : 4.304035428503994e-06 local_gap 0.0013472397113218904\n",
      "t_314 : loss : 0.00408 gap : 3.352730118422187e-06 local_gap 0.0010518060298636556\n",
      "t_315 : loss : 0.00490 gap : 3.8073228552093497e-06 local_gap 0.0011997612891718745\n",
      "t_316 : loss : 0.00408 gap : 3.382614977454068e-06 local_gap 0.0010688281618058681\n",
      "t_317 : loss : 0.00251 gap : 2.9509956220863387e-06 local_gap 0.0009353193454444408\n",
      "t_318 : loss : 0.00293 gap : 3.7776549106638413e-06 local_gap 0.0012021209113299847\n",
      "t_319 : loss : 0.00239 gap : 2.6436164262122475e-06 local_gap 0.0008433620096184313\n",
      "t_320 : loss : 0.00458 gap : 3.839085820800392e-06 local_gap 0.001229823101311922\n",
      "t_321 : loss : 0.00162 gap : 2.5567635475454153e-06 local_gap 0.000819438777398318\n",
      "t_322 : loss : 0.00117 gap : 1.8621717572386842e-06 local_gap 0.0005989247001707554\n",
      "t_323 : loss : 0.00079 gap : 1.5445502867805772e-06 local_gap 0.0004986230051144958\n",
      "t_324 : loss : 0.00052 gap : 8.408216558564163e-07 local_gap 0.00027174188289791346\n",
      "t_325 : loss : 0.00091 gap : 2.465394800310605e-06 local_gap 0.0008032158948481083\n",
      "t_326 : loss : 0.00075 gap : 2.101190602843417e-06 local_gap 0.0006846239557489753\n",
      "t_327 : loss : 0.00066 gap : 1.5795044419064652e-06 local_gap 0.000515976280439645\n",
      "t_328 : loss : 0.02614 gap : 8.572445949539542e-06 local_gap 0.002820030553266406\n",
      "t_329 : loss : 0.01231 gap : 4.389199602883309e-06 local_gap 0.0014398634666576982\n",
      "t_330 : loss : 0.00907 gap : 3.369488467797055e-06 local_gap 0.001111832563765347\n",
      "t_331 : loss : 0.00892 gap : 2.950175939986366e-06 local_gap 0.000976088922470808\n",
      "t_332 : loss : 0.00694 gap : 2.7285645955998916e-06 local_gap 0.0009062542230822146\n",
      "t_333 : loss : 0.00499 gap : 1.6224279306698008e-06 local_gap 0.0005391623708419502\n",
      "t_334 : loss : 0.00528 gap : 2.201897359555005e-06 local_gap 0.0007360132294707\n",
      "t_335 : loss : 0.00581 gap : 2.1206819837971125e-06 local_gap 0.0007116739288903773\n",
      "t_336 : loss : 0.00242 gap : 1.6173634094229783e-06 local_gap 0.0005433315527625382\n",
      "t_337 : loss : 0.00403 gap : 3.1584947919327533e-06 local_gap 0.001066603697836399\n",
      "t_338 : loss : 0.00357 gap : 1.6115197922772495e-06 local_gap 0.0005457996157929301\n",
      "t_339 : loss : 0.00462 gap : 2.3340026018559e-06 local_gap 0.0007923637167550623\n",
      "t_340 : loss : 0.00649 gap : 3.606772679631831e-06 local_gap 0.0012279198272153735\n",
      "t_341 : loss : 0.00496 gap : 2.89858417090727e-06 local_gap 0.0009903321042656898\n",
      "t_342 : loss : 0.00613 gap : 3.4877900816354668e-06 local_gap 0.0011934133945032954\n",
      "t_343 : loss : 0.00528 gap : 2.6717386845120927e-06 local_gap 0.0009172023274004459\n",
      "t_344 : loss : 0.00344 gap : 1.5706591511843726e-06 local_gap 0.0005392056773416698\n",
      "t_345 : loss : 0.00662 gap : 4.016913862869842e-06 local_gap 0.0013890304835513234\n",
      "t_346 : loss : 0.00619 gap : 3.346287030581152e-06 local_gap 0.0011590420035645366\n",
      "t_347 : loss : 0.00722 gap : 4.7362832447106484e-06 local_gap 0.0016454977449029684\n",
      "t_348 : loss : 0.01121 gap : 4.911041287414264e-06 local_gap 0.001710886717773974\n",
      "t_349 : loss : 0.00714 gap : 5.931553459959105e-06 local_gap 0.0020714947022497654\n",
      "t_350 : loss : 0.00621 gap : 3.8090115594968665e-06 local_gap 0.0013310314388945699\n",
      "t_351 : loss : 0.00556 gap : 3.624250666689477e-06 local_gap 0.001272072666324675\n",
      "t_352 : loss : 0.00758 gap : 4.128359250898939e-06 local_gap 0.0014551208587363362\n",
      "t_353 : loss : 0.00243 gap : 2.468849743308965e-06 local_gap 0.0008702008635737002\n",
      "t_354 : loss : 0.00293 gap : 2.894067165470915e-06 local_gap 0.0010254115331918001\n",
      "t_355 : loss : 0.00275 gap : 2.9279633508849656e-06 local_gap 0.0010401010513305664\n",
      "t_356 : loss : 0.00211 gap : 2.6998518478649203e-06 local_gap 0.0009614064474590123\n",
      "t_357 : loss : 0.00285 gap : 3.1348415632237447e-06 local_gap 0.0011195733677595854\n",
      "t_358 : loss : 0.00217 gap : 2.7819205570267513e-06 local_gap 0.0009962111944332719\n",
      "t_359 : loss : 0.00230 gap : 3.2077316518552834e-06 local_gap 0.0011529413750395179\n",
      "t_360 : loss : 0.01258 gap : 6.508428668894339e-06 local_gap 0.0023463349789381027\n",
      "t_361 : loss : 0.00459 gap : 4.055622412124649e-06 local_gap 0.0014616269618272781\n",
      "t_362 : loss : 0.00231 gap : 3.6284523048379924e-06 local_gap 0.001313072512857616\n",
      "t_363 : loss : 0.00077 gap : 2.9536547572206473e-06 local_gap 0.0010715018725022674\n",
      "t_364 : loss : 0.00054 gap : 2.449123712722212e-06 local_gap 0.0008909765165299177\n",
      "t_365 : loss : 0.00083 gap : 2.7836895242216997e-06 local_gap 0.0010163811966776848\n",
      "t_366 : loss : 0.00116 gap : 3.3340920708724298e-06 local_gap 0.0012208280386403203\n",
      "t_367 : loss : 0.00070 gap : 1.9133785826852545e-06 local_gap 0.000702846678905189\n",
      "t_368 : loss : 0.00456 gap : 1.3664316611539107e-06 local_gap 0.0005023817648179829\n",
      "t_369 : loss : 0.00379 gap : 2.5660810933914036e-06 local_gap 0.0009480835869908333\n",
      "t_370 : loss : 0.00261 gap : 3.6207652556186076e-06 local_gap 0.0013408309314399958\n",
      "t_371 : loss : 0.00382 gap : 2.9740128866251325e-06 local_gap 0.0011027120053768158\n",
      "t_372 : loss : 0.00228 gap : 1.5248367617459735e-06 local_gap 0.0005657901056110859\n",
      "t_373 : loss : 0.00318 gap : 1.3478756955009885e-06 local_gap 0.0005032919580116868\n",
      "t_374 : loss : 0.00328 gap : 2.479047907399945e-06 local_gap 0.0009282950777560472\n",
      "t_375 : loss : 0.00185 gap : 1.7512702470412478e-06 local_gap 0.0006567355594597757\n",
      "t_376 : loss : 0.00950 gap : 4.985442501492798e-06 local_gap 0.0018783897394314408\n",
      "t_377 : loss : 0.00442 gap : 2.5826743694778997e-06 local_gap 0.0009717369102872908\n",
      "t_378 : loss : 0.00474 gap : 2.299261723237578e-06 local_gap 0.000868837523739785\n",
      "t_379 : loss : 0.00439 gap : 3.272919684604858e-06 local_gap 0.001242915284819901\n",
      "t_380 : loss : 0.00284 gap : 1.8424541394779226e-06 local_gap 0.0006987021188251674\n",
      "t_381 : loss : 0.00235 gap : 1.2664745554502588e-06 local_gap 0.0004826356016565114\n",
      "t_382 : loss : 0.00373 gap : 1.98520001504221e-06 local_gap 0.0007595522911287844\n",
      "t_383 : loss : 0.00349 gap : 1.4933137890693615e-06 local_gap 0.0005731694400310516\n",
      "t_384 : loss : 0.00367 gap : 2.7097992187918862e-06 local_gap 0.0010427153902128339\n",
      "t_385 : loss : 0.00436 gap : 2.351019475099747e-06 local_gap 0.0009066509082913399\n",
      "t_386 : loss : 0.00433 gap : 1.90986747838906e-06 local_gap 0.0007382030016742647\n",
      "t_387 : loss : 0.00288 gap : 1.5669571666876436e-06 local_gap 0.0006067942595109344\n",
      "t_388 : loss : 0.00321 gap : 1.7657091575529194e-06 local_gap 0.0006864715251140296\n",
      "t_389 : loss : 0.00287 gap : 1.5261365433616447e-06 local_gap 0.0005940953269600868\n",
      "t_390 : loss : 0.00449 gap : 2.542249831094523e-06 local_gap 0.0009924935875460505\n",
      "t_391 : loss : 0.00347 gap : 2.4541748189221835e-06 local_gap 0.0009606022504158318\n",
      "t_392 : loss : 0.00325 gap : 2.0743041204696056e-06 local_gap 0.0008141674334183335\n",
      "t_393 : loss : 0.00358 gap : 1.9461560896161245e-06 local_gap 0.0007647111779078841\n",
      "t_394 : loss : 0.00513 gap : 4.4199550757184625e-06 local_gap 0.0017439360963180661\n",
      "t_395 : loss : 0.00264 gap : 1.6281519492622465e-06 local_gap 0.0006437831907533109\n",
      "t_396 : loss : 0.00317 gap : 2.002322162297787e-06 local_gap 0.0007932938169687986\n",
      "t_397 : loss : 0.00239 gap : 1.555678750264633e-06 local_gap 0.000617179146502167\n"
     ]
    },
    {
     "name": "stdout",
     "output_type": "stream",
     "text": [
      "t_398 : loss : 0.00378 gap : 2.102710141116404e-06 local_gap 0.0008379851933568716\n",
      "t_399 : loss : 0.00562 gap : 3.2417624424851965e-06 local_gap 0.0012948527000844479\n",
      "t_400 : loss : 0.00538 gap : 2.9189402539486764e-06 local_gap 0.0011690894607454538\n",
      "t_401 : loss : 0.00439 gap : 2.599537083369796e-06 local_gap 0.0010429196991026402\n",
      "t_402 : loss : 0.00522 gap : 2.508522811695002e-06 local_gap 0.0010085076792165637\n",
      "t_403 : loss : 0.00463 gap : 2.374609721300658e-06 local_gap 0.0009568551322445273\n",
      "t_404 : loss : 0.00442 gap : 2.8069780455552973e-06 local_gap 0.0011349025880917907\n",
      "t_405 : loss : 0.00530 gap : 3.7851323213544674e-06 local_gap 0.0015354043571278453\n",
      "t_406 : loss : 0.00542 gap : 2.643895186338341e-06 local_gap 0.001074936822988093\n",
      "t_407 : loss : 0.00382 gap : 2.397521939201397e-06 local_gap 0.0009755450300872326\n",
      "t_408 : loss : 0.00212 gap : 2.0705417682620464e-06 local_gap 0.0008453538757748902\n",
      "t_409 : loss : 0.00286 gap : 3.370506874489365e-06 local_gap 0.0013811438111588359\n",
      "t_410 : loss : 0.00659 gap : 5.756124664912932e-06 local_gap 0.002362396800890565\n",
      "t_411 : loss : 0.01123 gap : 7.048810402920935e-06 local_gap 0.002898353850468993\n",
      "t_412 : loss : 0.00828 gap : 6.766082606191048e-06 local_gap 0.0027873434592038393\n",
      "t_413 : loss : 0.01098 gap : 7.5943939918943215e-06 local_gap 0.00313731306232512\n",
      "t_414 : loss : 0.00571 gap : 5.436406354419887e-06 local_gap 0.002248514210805297\n",
      "t_415 : loss : 0.00269 gap : 4.127083684579702e-06 local_gap 0.0017114304937422276\n",
      "t_416 : loss : 0.00113 gap : 1.4288484635471832e-06 local_gap 0.0005946943419985473\n",
      "t_417 : loss : 0.00157 gap : 2.6344710022385698e-06 local_gap 0.0011006771819666028\n",
      "t_418 : loss : 0.00221 gap : 3.582023964554537e-06 local_gap 0.0014982335269451141\n",
      "t_419 : loss : 0.00267 gap : 4.055960289406357e-06 local_gap 0.0016999213257804513\n",
      "t_420 : loss : 0.00224 gap : 3.926772478735074e-06 local_gap 0.0016491152346134186\n",
      "t_421 : loss : 0.00159 gap : 2.993356929437141e-06 local_gap 0.001259269774891436\n",
      "t_422 : loss : 0.00082 gap : 1.7824409042077605e-06 local_gap 0.0007516843033954501\n",
      "t_423 : loss : 0.00077 gap : 2.028151584454463e-06 local_gap 0.0008584253955632448\n",
      "t_424 : loss : 0.00736 gap : 2.474471102686948e-06 local_gap 0.0010500765638425946\n",
      "t_425 : loss : 0.00749 gap : 2.4300484255945776e-06 local_gap 0.0010337039129808545\n",
      "t_426 : loss : 0.01016 gap : 2.5430697405681713e-06 local_gap 0.0010839138412848115\n",
      "t_427 : loss : 0.00706 gap : 1.9324386357766343e-06 local_gap 0.0008245494682341814\n",
      "t_428 : loss : 0.00655 gap : 2.0251159185136203e-06 local_gap 0.0008676648139953613\n",
      "t_429 : loss : 0.00624 gap : 1.8481875940778991e-06 local_gap 0.0007927089463919401\n",
      "t_430 : loss : 0.00543 gap : 1.8084775774696027e-06 local_gap 0.0007782191387377679\n",
      "t_431 : loss : 0.00467 gap : 1.4463735169556458e-06 local_gap 0.0006230248836800456\n",
      "t_432 : loss : 0.00776 gap : 3.586810635169968e-06 local_gap 0.0015524056507274508\n",
      "t_433 : loss : 0.00490 gap : 2.0394618331920356e-06 local_gap 0.0008815396577119827\n",
      "t_434 : loss : 0.00478 gap : 1.5614868971169926e-06 local_gap 0.000677207310218364\n",
      "t_435 : loss : 0.00455 gap : 1.2414488992362749e-06 local_gap 0.0005397102213464677\n",
      "t_436 : loss : 0.00390 gap : 1.2073331845385837e-06 local_gap 0.0005265074432827532\n",
      "t_437 : loss : 0.00477 gap : 1.411560106134857e-06 local_gap 0.0006170559790916741\n",
      "t_438 : loss : 0.00414 gap : 1.5803834685357288e-06 local_gap 0.0006924338522367179\n",
      "t_439 : loss : 0.00394 gap : 1.3230494460003683e-06 local_gap 0.0005816991324536502\n",
      "t_440 : loss : 0.00483 gap : 1.7625052350922488e-06 local_gap 0.0007760877488180995\n",
      "t_441 : loss : 0.00412 gap : 1.3775057823295356e-06 local_gap 0.0006077926373109221\n",
      "t_442 : loss : 0.00409 gap : 8.551871246709197e-07 local_gap 0.000378094962798059\n",
      "t_443 : loss : 0.00413 gap : 1.0820168654390727e-06 local_gap 0.00047956028720363975\n",
      "t_444 : loss : 0.00268 gap : 9.193732353196538e-07 local_gap 0.00040825572796165943\n",
      "t_445 : loss : 0.00390 gap : 1.281961885979399e-06 local_gap 0.0005708715762011707\n",
      "t_446 : loss : 0.00389 gap : 9.56375743044191e-07 local_gap 0.00042659795144572854\n",
      "t_447 : loss : 0.00368 gap : 1.1423041996749816e-06 local_gap 0.0005109181511215866\n",
      "t_448 : loss : 0.00420 gap : 1.454218022445275e-06 local_gap 0.0006524799391627312\n",
      "t_449 : loss : 0.00375 gap : 1.060161821442307e-06 local_gap 0.00047605118015781045\n",
      "t_450 : loss : 0.00373 gap : 1.0995905768140801e-06 local_gap 0.000494855223223567\n",
      "t_451 : loss : 0.00483 gap : 2.1057371668575797e-06 local_gap 0.0009508251096121967\n",
      "t_452 : loss : 0.00315 gap : 1.124630102822266e-06 local_gap 0.0005081528215669096\n",
      "t_453 : loss : 0.00360 gap : 1.3133453649061266e-06 local_gap 0.0005951341590844095\n",
      "t_454 : loss : 0.00331 gap : 1.0980945717165014e-06 local_gap 0.0004990533925592899\n",
      "t_455 : loss : 0.00369 gap : 1.656307631492382e-06 local_gap 0.0007546063861809671\n",
      "t_456 : loss : 0.00316 gap : 9.58806026574166e-07 local_gap 0.00043651805026456714\n",
      "t_457 : loss : 0.00421 gap : 1.8280396716363612e-06 local_gap 0.0008365834946744144\n",
      "t_458 : loss : 0.00284 gap : 7.946993036966887e-07 local_gap 0.00036410786560736597\n",
      "t_459 : loss : 0.00329 gap : 1.8748252159639378e-06 local_gap 0.0008616647101007402\n",
      "t_460 : loss : 0.00310 gap : 1.283581582356419e-06 local_gap 0.0005907365120947361\n",
      "t_461 : loss : 0.00334 gap : 1.8131810293198214e-06 local_gap 0.0008367742993868887\n",
      "t_462 : loss : 0.00265 gap : 1.4015074611961609e-06 local_gap 0.0006485623307526112\n",
      "t_463 : loss : 0.00217 gap : 7.629866445313382e-07 local_gap 0.00035376788582652807\n",
      "t_464 : loss : 0.00254 gap : 1.5404806390506565e-06 local_gap 0.0007155605126172304\n",
      "t_465 : loss : 0.00129 gap : 6.955214644221996e-07 local_gap 0.00032311948598362505\n",
      "t_466 : loss : 0.00276 gap : 1.5314835764002055e-06 local_gap 0.0007146355928853154\n",
      "t_467 : loss : 0.00229 gap : 1.816402914300852e-06 local_gap 0.0008488737512379885\n",
      "t_468 : loss : 0.00350 gap : 1.8095863651979016e-06 local_gap 0.0008468795567750931\n",
      "t_469 : loss : 0.00631 gap : 3.341685442137532e-06 local_gap 0.0015688183484598994\n",
      "t_470 : loss : 0.00424 gap : 2.3136135496315546e-06 local_gap 0.0010874735889956355\n",
      "t_471 : loss : 0.00414 gap : 2.8191304863867117e-06 local_gap 0.0013283159350976348\n",
      "t_472 : loss : 0.00085 gap : 8.128022273012903e-07 local_gap 0.00038163631688803434\n",
      "t_473 : loss : 0.00112 gap : 1.4717019212184823e-06 local_gap 0.000696773873642087\n",
      "t_474 : loss : 0.00094 gap : 1.952971842911211e-06 local_gap 0.0009261899394914508\n",
      "t_475 : loss : 0.00250 gap : 2.3442553356289864e-06 local_gap 0.001115340506657958\n",
      "t_476 : loss : 0.00142 gap : 1.6750570921431063e-06 local_gap 0.0007970870356075466\n",
      "t_477 : loss : 0.00111 gap : 1.917102053994313e-06 local_gap 0.0009146997472271323\n",
      "t_478 : loss : 0.00150 gap : 1.8832810155799962e-06 local_gap 0.0009001744911074638\n",
      "t_479 : loss : 0.00088 gap : 1.34359686398966e-06 local_gap 0.000643043196760118\n",
      "t_480 : loss : 0.00615 gap : 2.7745197712647496e-06 local_gap 0.0013332004891708493\n",
      "t_481 : loss : 0.00195 gap : 1.4687766451970674e-06 local_gap 0.0007062518852762878\n",
      "t_482 : loss : 0.00065 gap : 6.530608516186476e-07 local_gap 0.00031440553721040487\n",
      "t_483 : loss : 0.00072 gap : 8.317782658195938e-07 local_gap 0.00040239052032120526\n",
      "t_484 : loss : 0.00053 gap : 5.569703489527456e-07 local_gap 0.00026934847119264305\n",
      "t_485 : loss : 0.00050 gap : 6.470131097557896e-07 local_gap 0.00031389141804538667\n",
      "t_486 : loss : 0.00032 gap : 8.846471359902353e-07 local_gap 0.0004301761509850621\n",
      "t_487 : loss : 0.00134 gap : 1.3926121482654708e-06 local_gap 0.0006792871281504631\n",
      "t_488 : loss : 0.00342 gap : 6.365417561937647e-07 local_gap 0.00031013472471386194\n",
      "t_489 : loss : 0.00508 gap : 1.4095569440542022e-06 local_gap 0.0006900924490764737\n",
      "t_490 : loss : 0.00404 gap : 1.2846643357988796e-06 local_gap 0.0006302950205281377\n",
      "t_491 : loss : 0.00538 gap : 2.2638862446910935e-06 local_gap 0.00111267005559057\n",
      "t_492 : loss : 0.00845 gap : 2.2966441974858753e-06 local_gap 0.0011299817124381661\n",
      "t_493 : loss : 0.00645 gap : 2.292799081260455e-06 local_gap 0.0011303460923954844\n",
      "t_494 : loss : 0.00669 gap : 2.5985473257605918e-06 local_gap 0.0012839881237596273\n",
      "t_495 : loss : 0.00515 gap : 1.918150246638106e-06 local_gap 0.0009488039067946374\n",
      "t_496 : loss : 0.00327 gap : 1.010370283438533e-06 local_gap 0.000500235881190747\n"
     ]
    },
    {
     "name": "stdout",
     "output_type": "stream",
     "text": [
      "t_497 : loss : 0.00553 gap : 2.1844152797712013e-06 local_gap 0.00108726613689214\n",
      "t_498 : loss : 0.00473 gap : 1.73669343439542e-06 local_gap 0.0008644256158731878\n",
      "t_499 : loss : 0.00591 gap : 1.9522324237186695e-06 local_gap 0.000974465801846236\n",
      "t_500 : loss : 0.00634 gap : 2.087653911075904e-06 local_gap 0.0010444644140079618\n",
      "t_501 : loss : 0.00450 gap : 1.7513190186946304e-06 local_gap 0.0008781798533163965\n",
      "t_502 : loss : 0.00354 gap : 1.5931556163195637e-06 local_gap 0.0007996059721335769\n",
      "t_503 : loss : 0.00409 gap : 1.418229771843471e-06 local_gap 0.0007131946622394025\n"
     ]
    }
   ],
   "source": [
    "values_dmfw = trainXMFW.train(DMFW, L_DMFW, eta_coef_DMFW, eta_exp_DMFW, reg_coef_DMFW,1,\n",
    "                            path_figure_date=\"./OnlineModel/CNN1D/FINAL48_BestFinal/\")"
   ]
  },
  {
   "cell_type": "code",
   "execution_count": 362,
   "metadata": {
    "ExecuteTime": {
     "end_time": "2021-08-02T23:35:11.604482Z",
     "start_time": "2021-08-02T23:35:11.397212Z"
    }
   },
   "outputs": [
    {
     "data": {
      "text/plain": [
       "Text(0, 0.5, 'Gap')"
      ]
     },
     "execution_count": 362,
     "metadata": {},
     "output_type": "execute_result"
    },
    {
     "data": {
      "image/png": "[encoded data removed]",
      "text/plain": [
       "<Figure size 720x360 with 1 Axes>"
      ]
     },
     "metadata": {},
     "output_type": "display_data"
    }
   ],
   "source": [
    "plt.figure(figsize=(10,5))\n",
    "plt.suptitle(\"{}\".format(cycle))\n",
    "plt.plot(values_dmfw[:,0][:-1],values_dmfw[:,2][:-1], label='DMFW', marker='^', markersize=4,\n",
    "         markevery=[i for i in range(len(values_dmfw[:,0][1:])) if i%10==0])\n",
    "plt.axhline(y=0, color='grey', linestyle='--')\n",
    "plt.legend(loc='upper right')\n",
    "#plt.ylim((1e-4, 1e0))\n",
    "plt.yscale(\"log\")\n",
    "plt.xlabel(\"#Iterations\",fontsize=15)\n",
    "plt.ylabel(\"Gap\",fontsize=15)"
   ]
  },
  {
   "cell_type": "code",
   "execution_count": 363,
   "metadata": {
    "ExecuteTime": {
     "end_time": "2021-08-02T23:35:14.305891Z",
     "start_time": "2021-08-02T23:35:14.301650Z"
    }
   },
   "outputs": [
    {
     "data": {
      "text/plain": [
       "0.02700961894510011"
      ]
     },
     "execution_count": 363,
     "metadata": {},
     "output_type": "execute_result"
    }
   ],
   "source": [
    "np.mean(values_dmfw[:,1][:-1])"
   ]
  },
  {
   "cell_type": "code",
   "execution_count": 364,
   "metadata": {
    "ExecuteTime": {
     "end_time": "2021-08-02T23:35:15.966335Z",
     "start_time": "2021-08-02T23:35:15.962810Z"
    }
   },
   "outputs": [],
   "source": [
    "onlineloss = np.cumsum(values_dmfw[:,1][:-1])\n",
    "arangement = np.arange(1,len(onlineloss)+1)\n",
    "onlineloss = onlineloss/arangement"
   ]
  },
  {
   "cell_type": "code",
   "execution_count": 365,
   "metadata": {
    "ExecuteTime": {
     "end_time": "2021-08-02T23:35:16.602812Z",
     "start_time": "2021-08-02T23:35:16.420776Z"
    }
   },
   "outputs": [
    {
     "data": {
      "text/plain": [
       "Text(0, 0.5, 'Loss')"
      ]
     },
     "execution_count": 365,
     "metadata": {},
     "output_type": "execute_result"
    },
    {
     "data": {
      "image/png": "[encoded data removed]",
      "text/plain": [
       "<Figure size 720x360 with 1 Axes>"
      ]
     },
     "metadata": {},
     "output_type": "display_data"
    }
   ],
   "source": [
    "plt.figure(figsize=(10,5))\n",
    "plt.suptitle(\"{}\".format(cycle))\n",
    "plt.plot(values_dmfw[:,0][:-1],values_dmfw[:,1][:-1], label='Step Loss', marker='^', markersize=4,\n",
    "         markevery=[i for i in range(len(values_dmfw[:,0][1:])) if i%10==0])\n",
    "plt.plot(values_dmfw[:,0][:-1],onlineloss, label='Online Loss', marker='^', markersize=4,\n",
    "         markevery=[i for i in range(len(values_dmfw[:,0][1:])) if i%10==0])\n",
    "plt.axhline(y=0, color='grey', linestyle='--')\n",
    "plt.legend(loc='upper right')\n",
    "#plt.ylim((1e-3, 1e2))\n",
    "plt.yscale(\"log\")\n",
    "plt.xlabel(\"#Iterations\",fontsize=15)\n",
    "plt.ylabel(\"Loss\",fontsize=15)"
   ]
  },
  {
   "cell_type": "markdown",
   "metadata": {},
   "source": [
    "# Prediction"
   ]
  },
  {
   "cell_type": "code",
   "execution_count": 338,
   "metadata": {
    "ExecuteTime": {
     "end_time": "2021-08-02T22:55:36.106138Z",
     "start_time": "2021-08-02T22:55:36.096966Z"
    }
   },
   "outputs": [],
   "source": [
    "def ModelPrediction(model_to_test, date ,loader, lookahead):\n",
    "    prediction = []\n",
    "    true = []\n",
    "    for val, valpred in loader[date]:\n",
    "        model_to_test.eval()\n",
    "        pred = model_to_test(val)\n",
    "        #print(pred.shape)\n",
    "        prediction.append(pred.detach().numpy())\n",
    "        true.append(valpred.detach().numpy())\n",
    "    pred_array = np.asarray(prediction)\n",
    "    true_array = np.asarray(true)\n",
    "    #print(pred_array.shape)\n",
    "    pred_shape = pred_array.shape\n",
    "    #print(pred_shape)\n",
    "    flattenTrue = true_array.reshape(pred_shape[0]*pred_shape[1], lookahead)[::lookahead].flatten()\n",
    "    flattenPred = pred_array.reshape(pred_shape[0]*pred_shape[1], lookahead)[::lookahead].flatten()\n",
    "    return flattenTrue, flattenPred"
   ]
  },
  {
   "cell_type": "code",
   "execution_count": 339,
   "metadata": {
    "ExecuteTime": {
     "end_time": "2021-07-31T16:55:01.900832Z",
     "start_time": "2021-07-31T16:55:01.896182Z"
    }
   },
   "outputs": [],
   "source": [
    "#torch.save(trainXMFW.models[3].state_dict(),\"./OnlineModel/CNN1D/FINAL43_BestFinal/model3.pt\")"
   ]
  },
  {
   "cell_type": "code",
   "execution_count": 366,
   "metadata": {
    "ExecuteTime": {
     "end_time": "2021-08-02T23:35:25.246902Z",
     "start_time": "2021-08-02T23:35:25.236722Z"
    }
   },
   "outputs": [],
   "source": [
    "model_trained = trainXMFW.models[0]\n",
    "true, pred = ModelPrediction(model_trained,\"2019-05-16\", loaderZ1test, lookahead)"
   ]
  },
  {
   "cell_type": "code",
   "execution_count": 367,
   "metadata": {
    "ExecuteTime": {
     "end_time": "2021-08-02T23:35:25.635674Z",
     "start_time": "2021-08-02T23:35:25.557961Z"
    }
   },
   "outputs": [
    {
     "data": {
      "text/plain": [
       "[<matplotlib.lines.Line2D at 0x2a362ab80>]"
      ]
     },
     "execution_count": 367,
     "metadata": {},
     "output_type": "execute_result"
    },
    {
     "data": {
      "image/png": "[encoded data removed]",
      "text/plain": [
       "<Figure size 432x288 with 1 Axes>"
      ]
     },
     "metadata": {},
     "output_type": "display_data"
    }
   ],
   "source": [
    "plt.plot(true) \n",
    "plt.plot(pred)"
   ]
  },
  {
   "cell_type": "code",
   "execution_count": 341,
   "metadata": {
    "ExecuteTime": {
     "end_time": "2021-08-02T22:55:43.081243Z",
     "start_time": "2021-08-02T22:55:43.070309Z"
    }
   },
   "outputs": [],
   "source": [
    "def PredictionMultipleDate(model, dates, date_begin, date_end, loader, lookahead, scaler, zone_name, ft_idx):\n",
    "    predictTrue = []\n",
    "    predictPred = []\n",
    "    valuePD = pd.DataFrame()\n",
    "    idx_begin = dates.index(date_begin)\n",
    "    idx_end = dates.index(date_end)\n",
    "    for date in dates[idx_begin:idx_end]:\n",
    "        true, pred = ModelPrediction(model, date, loader, lookahead)\n",
    "        maxi = scalers[zone_name].data_max_[ft_idx]\n",
    "        mini = scalers[zone_name].data_min_[ft_idx]\n",
    "        true = true.reshape(-1,1)*(maxi-mini) + mini\n",
    "        pred = pred.reshape(-1,1)*(maxi-mini) + mini\n",
    "        array = np.concatenate([true, pred],axis=1)\n",
    "        result = pd.DataFrame({\"Truth\": true.squeeze(),\n",
    "                              \"Prediction\" : pred.squeeze()})\n",
    "                              #\"Date\": pd.date_range(start=date,periods=true.shape[0], freq=\"5min\")})\n",
    "        valuePD = pd.concat((valuePD, result)).reset_index(drop=True)\n",
    "    return valuePD"
   ]
  },
  {
   "cell_type": "code",
   "execution_count": 342,
   "metadata": {
    "ExecuteTime": {
     "end_time": "2021-08-02T22:55:44.082737Z",
     "start_time": "2021-08-02T22:55:44.078206Z"
    }
   },
   "outputs": [
    {
     "data": {
      "text/plain": [
       "Index(['ACPower', 'lightPower', 'appPower', 'temperature', 'humidity', 'lux'], dtype='object')"
      ]
     },
     "execution_count": 342,
     "metadata": {},
     "output_type": "execute_result"
    }
   ],
   "source": [
    "floor_dict[\"Floor7Z1\"].columns"
   ]
  },
  {
   "cell_type": "code",
   "execution_count": 398,
   "metadata": {
    "ExecuteTime": {
     "end_time": "2021-08-02T23:40:18.810217Z",
     "start_time": "2021-08-02T23:40:18.702582Z"
    }
   },
   "outputs": [],
   "source": [
    "ft_idx = 3\n",
    "indexroom = 3\n",
    "mymodel = trainXMFW.models[indexroom]\n",
    "testloader = [loaderZ1test, loaderZ2test, loaderZ4test, loaderZ5test]\n",
    "may = [date for date in test_date if '2019-05' in date]\n",
    "myfloor = [\"Floor7Z1\",\"Floor7Z2\",\"Floor7Z4\",\"Floor7Z5\"]\n",
    "resultpd = PredictionMultipleDate(mymodel,test_date,may[0], may[-1],testloader[indexroom], lookahead, scalers,\n",
    "                                 myfloor[indexroom], ft_idx)"
   ]
  },
  {
   "cell_type": "code",
   "execution_count": 399,
   "metadata": {
    "ExecuteTime": {
     "end_time": "2021-08-02T23:40:19.027985Z",
     "start_time": "2021-08-02T23:40:18.944925Z"
    }
   },
   "outputs": [
    {
     "data": {
      "text/plain": [
       "<AxesSubplot:title={'center':'Model_3'}>"
      ]
     },
     "execution_count": 399,
     "metadata": {},
     "output_type": "execute_result"
    },
    {
     "data": {
      "image/png": "[encoded data removed]",
      "text/plain": [
       "<Figure size 1080x360 with 1 Axes>"
      ]
     },
     "metadata": {},
     "output_type": "display_data"
    }
   ],
   "source": [
    "resultpd[[\"Truth\",\"Prediction\"]].plot(figsize=(15,5),title=\"Model_\"+str(indexroom))"
   ]
  },
  {
   "cell_type": "raw",
   "metadata": {
    "ExecuteTime": {
     "end_time": "2021-07-24T09:40:30.932087Z",
     "start_time": "2021-07-24T09:40:30.927551Z"
    }
   },
   "source": [
    "floor_dict[\"Floor7Z1\"].columns"
   ]
  },
  {
   "cell_type": "code",
   "execution_count": 92,
   "metadata": {
    "ExecuteTime": {
     "end_time": "2021-07-24T09:40:08.966140Z",
     "start_time": "2021-07-24T09:40:08.957135Z"
    }
   },
   "outputs": [
    {
     "data": {
      "text/plain": [
       "{'Floor7Z1': MinMaxScaler(),\n",
       " 'Floor7Z2': MinMaxScaler(),\n",
       " 'Floor7Z4': MinMaxScaler(),\n",
       " 'Floor7Z5': MinMaxScaler()}"
      ]
     },
     "execution_count": 92,
     "metadata": {},
     "output_type": "execute_result"
    }
   ],
   "source": [
    "scalers"
   ]
  }
 ],
 "metadata": {
  "kernelspec": {
   "display_name": "Python 3 (ipykernel)",
   "language": "python",
   "name": "python3"
  },
  "language_info": {
   "codemirror_mode": {
    "name": "ipython",
    "version": 3
   },
   "file_extension": ".py",
   "mimetype": "text/x-python",
   "name": "python",
   "nbconvert_exporter": "python",
   "pygments_lexer": "ipython3",
   "version": "3.8.10"
  },
  "toc": {
   "base_numbering": 1,
   "nav_menu": {},
   "number_sections": true,
   "sideBar": true,
   "skip_h1_title": false,
   "title_cell": "Table of Contents",
   "title_sidebar": "Contents",
   "toc_cell": false,
   "toc_position": {},
   "toc_section_display": true,
   "toc_window_display": false
  }
 },
 "nbformat": 4,
 "nbformat_minor": 4
}
